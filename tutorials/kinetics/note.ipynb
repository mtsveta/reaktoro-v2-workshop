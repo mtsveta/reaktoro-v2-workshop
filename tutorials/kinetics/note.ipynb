{
 "cells": [
  {
   "cell_type": "markdown",
   "metadata": {
    "collapsed": true,
    "pycharm": {
     "name": "#%% md\n"
    }
   },
   "source": [
    "It is critical that species undergoing chemical reactions controlled by kinetic rates must have their initial amounts explicitly specified in the [ChemicalState](https://reaktoro.org/api/classReaktoro_1_1ChemicalState.html) object, using their names instead of their formulas to avoid ambiguity. For example, suppose the minerals calcite and quartz are to react kinetically with the aqueous solution (and the aqueous species react instantaneously at equilibrium). In that case, the initial amounts of these minerals must be given in the [ChemicalState](https://reaktoro.org/api/classReaktoro_1_1ChemicalState.html) object. Example of the kinetics's API is presented below:\n",
    "\n",
    "~~~python\n",
    "brine = Material(system)\n",
    "brine.add(\"H2O\"  , 1.00, \"kg\")\n",
    "brine.add(\"NaCl\" , 1.00, \"mol\")\n",
    "brine.add(\"CaCl2\", 0.10, \"mol\")\n",
    "brine.add(\"MgCl2\", 0.05, \"mol\")\n",
    "brine.add(\"CO2\"  , 0.10, \"mol\")\n",
    "\n",
    "state = brine(1.0, \"kg\").equilibrate(60, \"celsius\", 15, \"bar\")\n",
    "\n",
    "state.set(\"Quartz\",  80.0, \"g\")\n",
    "state.set(\"Calcite\", 20.0, \"g\")\n",
    "state.scaleSolidMass(10.0, \"g\")\n",
    "\n",
    "states = react(state, 10.0, \"minutes\")\n",
    "~~~\n",
    "\n",
    "> **Note**: chemical kinetics (available in [Reaktoro v1](https://mybinder.org/v2/gh/reaktoro/reaktoro-jupyter/master?filepath=tutorial%2Foverview.ipynb)) is still in development in Reaktoro v2 (a completely new kinetics solver with modeling capabilities as extensive as the new equilibrium solver in Reaktoro v2)."
   ]
  }
 ],
 "metadata": {
  "kernelspec": {
   "display_name": "Python 3",
   "language": "python",
   "name": "python3"
  },
  "language_info": {
   "codemirror_mode": {
    "name": "ipython",
    "version": 2
   },
   "file_extension": ".py",
   "mimetype": "text/x-python",
   "name": "python",
   "nbconvert_exporter": "python",
   "pygments_lexer": "ipython2",
   "version": "2.7.6"
  }
 },
 "nbformat": 4,
 "nbformat_minor": 0
}