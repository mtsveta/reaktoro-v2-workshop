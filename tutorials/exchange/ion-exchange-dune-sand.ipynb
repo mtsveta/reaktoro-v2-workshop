{
 "cells": [
  {
   "cell_type": "markdown",
   "metadata": {},
   "source": [
    "# Ion exchange in dune sand and groundwater\n",
    "\n",
    "In this tutorial, we calculate the exchanger composition in contact with groundwater. To represent the exchanger, we consider 6 g of dune sand with 10 meq/kg of CEC (cation exchange capacity), which results in 0.06 mol of exchanger X (60 meq/L, default 1L).\n",
    "\n",
    "Our goal is to reproduce the results of the PHREEQC script below.\n",
    "\n",
    "```text\n",
    "DATABASE ../database/phreeqc.dat\n",
    "TITLE Exchange in Dune sand\n",
    "\n",
    "SOLUTION 1\n",
    "pressure 1.0\n",
    "temperature 25.0\n",
    "Na 1.10006\n",
    "Mg 0.48\n",
    "Ca 1.9\n",
    "\n",
    "EXCHANGE 1\n",
    "X 0.06\t#moles\n",
    "-equilibrate 1\n",
    "```\n",
    "\n",
    "We start with setting up the chemical system and other means of modelling ion exchange in Reaktoro. For that, we use the PHREEQC database `phreeqc.dat` that contains ion exchange species, their corresponding reactions, and necessary parameters."
   ]
  },
  {
   "cell_type": "code",
   "execution_count": 1,
   "metadata": {
    "tags": [
     "remove_output"
    ]
   },
   "outputs": [
    {
     "data": {
      "text/plain": [
       "<reaktoro.reaktoro4py.AqueousPhase at 0x7fe23d29f970>"
      ]
     },
     "execution_count": 1,
     "metadata": {
      "tags": [
       "remove_output"
      ]
     },
     "output_type": "execute_result"
    }
   ],
   "source": [
    "from reaktoro import *\n",
    "\n",
    "db = PhreeqcDatabase(\"phreeqc.dat\")\n",
    "\n",
    "solution = AqueousPhase(speciate(\"H O C Ca Na Mg Cl\"))\n",
    "solution.setActivityModel(chain(\n",
    "    ActivityModelHKF(),\n",
    "    ActivityModelDrummond(\"CO2\")\n",
    "))"
   ]
  },
  {
   "cell_type": "markdown",
   "metadata": {},
   "source": [
    "The ion exchange phase is modelled by the {{IonExchangePhase}} class. We select only three ion exchange species: NaX, CaX<sub>2</sub>, and MgX<sub>2</sub>, which can be formed from major ions Na<sup>+</sup>, Ca<sup>2+</sup>, and Mg<sup>2+</sup> in the dunewater. We use the Gaines-Thomas activity model."
   ]
  },
  {
   "cell_type": "code",
   "execution_count": 2,
   "metadata": {},
   "outputs": [],
   "source": [
    "exchange = IonExchangePhase(\"NaX CaX2 MgX2\")\n",
    "exchange.setActivityModel(ActivityModelIonExchangeGainesThomas())\n",
    "\n",
    "system = ChemicalSystem(db, solution, exchange)\n",
    "\n",
    "# Define the equilibrium solver\n",
    "solver = EquilibriumSolver(system)"
   ]
  },
  {
   "cell_type": "markdown",
   "metadata": {},
   "source": [
    "Below, we define the initial chemical state for the ion exchange calculation involving dune sand and dunewater at 25 °C and 1 bar.\n",
    "\n",
    "```{note}\n",
    "We deliberately consider a very small initial amount of NaX, 0.06 μmol (and therefore there is 0.06 μmol of X<sup>-</sup> ion exchanger available for further formation of CaX<sub>2</sub> and MgX<sub>2</sub> during the equilibrium calculation). The rationale for this is to approximate the condition where there is an abundance of brine solution compared to the available ion exchanger, so that changes in fluid composition are negligible. This is necessary to compare our results with those produced by the PHREEQC script above, which ignores compositional changes in the aqueous solution when determining the distribution of NaX, CaX<sub>2</sub> and MgX<sub>2</sub> . Reaktoro, on the other hand, calculates not only this distribution, but also its effects on the brine composition, which we want to limit in this example.\n",
    "```\n",
    "\n",
    "```{note}\n",
    "Unlike PHREEQC, to model ion exchange in Reaktoro we always assume that the exchanger (X<sup>-</sup>, in this case) is occupied by ions.\n",
    "```"
   ]
  },
  {
   "cell_type": "code",
   "execution_count": 3,
   "metadata": {},
   "outputs": [],
   "source": [
    "# Define initial equilibrium state\n",
    "state = ChemicalState(system)\n",
    "state.setTemperature(25, \"celsius\")\n",
    "state.setPressure(1.0, \"bar\")\n",
    "# Scale solution recipe to match the values of the PHREEQC examples\n",
    "state.set(\"H2O\"   , 1.00, \"kg\")\n",
    "state.set(\"Na+\" , 1.10, \"mmol\")\n",
    "state.set(\"Mg+2\", 0.48, \"mmol\")\n",
    "state.set(\"Ca+2\", 1.90, \"mmol\")\n",
    "# Set the number of exchange assuming that it is completely occupied by sodium\n",
    "state.set(\"NaX\" , 0.06, \"umol\")"
   ]
  },
  {
   "cell_type": "markdown",
   "metadata": {},
   "source": [
    "We expect the following set of ion exchange reactions happening between dunewater and exchanger site X<sup>-</sup> (initially fully occupied with sodium ion):\n",
    "\n",
    "$$\n",
    "\\begin{alignat}{4}\n",
    "\\tfrac{1}{2} {\\rm Ca^{+2}} + {\\rm NaX} & \\rightleftharpoons {\\rm Na}^+ + \\tfrac{1}{2} {\\rm CaX}_2\\\\\n",
    "\\tfrac{1}{2} {\\rm Mg^{+2}} + {\\rm NaX} & \\rightleftharpoons {\\rm Na}^+ + \\tfrac{1}{2} {\\rm MgX}_2\\\\\n",
    "\\end{alignat}\n",
    "$$\n",
    "\n",
    "After the initial chemical state is defined, we can create the equilibrium solver that will perform a Gibbs energy minimization calculation to find the equilibrium state:"
   ]
  },
  {
   "cell_type": "code",
   "execution_count": 4,
   "metadata": {
    "tags": [
     "remove_output"
    ]
   },
   "outputs": [
    {
     "data": {
      "text/plain": [
       "<reaktoro.reaktoro4py.EquilibriumResult at 0x7fe23d26e270>"
      ]
     },
     "execution_count": 4,
     "metadata": {
      "tags": [
       "remove_output"
      ]
     },
     "output_type": "execute_result"
    }
   ],
   "source": [
    "solver = EquilibriumSolver(system)\n",
    "solver.solve(state)"
   ]
  },
  {
   "cell_type": "markdown",
   "metadata": {},
   "source": [
    "By printing the instance `state`, we can inspect the content of calculated equilibrium state:"
   ]
  },
  {
   "cell_type": "code",
   "execution_count": 5,
   "metadata": {},
   "outputs": [
    {
     "name": "stdout",
     "output_type": "stream",
     "text": [
      "+-----------------+------------+------+\n",
      "| Property        |      Value | Unit |\n",
      "+-----------------+------------+------+\n",
      "| Temperature     |   298.1500 |    K |\n",
      "| Pressure        |     1.0000 |  bar |\n",
      "| Charge:         | 5.8600e+03 |  mol |\n",
      "| Element Amount: |            |      |\n",
      "| :: X            | 6.0000e-02 |  mol |\n",
      "| :: H            | 1.1101e+08 |  mol |\n",
      "| :: C            | 1.2000e-15 |  mol |\n",
      "| :: O            | 5.5506e+07 |  mol |\n",
      "| :: Na           | 1.1001e+03 |  mol |\n",
      "| :: Mg           | 4.8000e+02 |  mol |\n",
      "| :: Cl           | 1.0000e-16 |  mol |\n",
      "| :: Ca           | 1.9000e+03 |  mol |\n",
      "| Species Amount: |            |      |\n",
      "| :: CO3-2        | 1.0000e-16 |  mol |\n",
      "| :: H+           | 1.1653e-01 |  mol |\n",
      "| :: H2O          | 5.5506e+07 |  mol |\n",
      "| :: CO2          | 1.0000e-16 |  mol |\n",
      "| :: (CO2)2       | 1.0000e-16 |  mol |\n",
      "| :: HCO3-        | 1.0000e-16 |  mol |\n",
      "| :: CH4          | 1.0000e-16 |  mol |\n",
      "| :: Ca+2         | 1.9000e+03 |  mol |\n",
      "| :: CaCO3        | 1.0000e-16 |  mol |\n",
      "| :: CaHCO3+      | 1.0000e-16 |  mol |\n",
      "| :: CaOH+        | 2.3176e-03 |  mol |\n",
      "| :: Cl-          | 1.0000e-16 |  mol |\n",
      "| :: H2           | 1.0000e-16 |  mol |\n",
      "| :: Mg+2         | 4.7998e+02 |  mol |\n",
      "| :: MgCO3        | 1.0000e-16 |  mol |\n",
      "| :: MgHCO3+      | 1.0000e-16 |  mol |\n",
      "| :: MgOH+        | 1.2799e-02 |  mol |\n",
      "| :: Na+          | 1.1001e+03 |  mol |\n",
      "| :: NaCO3-       | 1.0000e-16 |  mol |\n",
      "| :: NaHCO3       | 1.0000e-16 |  mol |\n",
      "| :: OH-          | 1.0141e-01 |  mol |\n",
      "| :: NaOH         | 9.5306e-15 |  mol |\n",
      "| :: O2           | 1.0000e-16 |  mol |\n",
      "| :: NaX          | 5.5828e-04 |  mol |\n",
      "| :: CaX2         | 2.5651e-02 |  mol |\n",
      "| :: MgX2         | 4.0703e-03 |  mol |\n",
      "+-----------------+------------+------+\n"
     ]
    }
   ],
   "source": [
    "print(state)"
   ]
  },
  {
   "cell_type": "markdown",
   "metadata": {},
   "source": [
    "We can now compute the properties of the brine solution after the ion exchange has been carried out. For this purpose, the {{AqueousProps}} class is used."
   ]
  },
  {
   "cell_type": "code",
   "execution_count": 6,
   "metadata": {},
   "outputs": [
    {
     "name": "stdout",
     "output_type": "stream",
     "text": [
      "I  = 0.005310 mol/kgw\n",
      "pH = 6.966945\n",
      "pE = -3.999323\n"
     ]
    }
   ],
   "source": [
    "aqprops = AqueousProps(state)\n",
    "print(f\"I  = {aqprops.ionicStrength()} mol/kgw\")\n",
    "print(f\"pH = {aqprops.pH()}\")\n",
    "print(f\"pE = {aqprops.pE()}\")\n"
   ]
  },
  {
   "cell_type": "markdown",
   "metadata": {},
   "source": [
    "To inspect the ion exchange properties of species NaX, CaX<sub>2</sub>, and MgX<sub>2</sub>, the class {{IonExchangeProps}} can be used, which is done next:"
   ]
  },
  {
   "cell_type": "code",
   "execution_count": 7,
   "metadata": {},
   "outputs": [
    {
     "name": "stdout",
     "output_type": "stream",
     "text": [
      "+--------------------------------------+------------+------+\n",
      "| Property                             |      Value | Unit |\n",
      "+--------------------------------------+------------+------+\n",
      "| Element Amounts:                     |            |      |\n",
      "| :: X                                 | 6.0000e-02 |  mol |\n",
      "| :: Na                                | 5.5828e-04 |  mol |\n",
      "| :: Mg                                | 4.0703e-03 |  mol |\n",
      "| :: Ca                                | 2.5651e-02 |  mol |\n",
      "| Species Amounts:                     |            |      |\n",
      "| :: NaX                               | 5.5828e-04 |  mol |\n",
      "| :: CaX2                              | 2.5651e-02 |  mol |\n",
      "| :: MgX2                              | 4.0703e-03 |  mol |\n",
      "| Equivalents:                         |            |      |\n",
      "| :: NaX                               |     0.0006 |   eq |\n",
      "| :: CaX2                              |     0.0513 |   eq |\n",
      "| :: MgX2                              |     0.0081 |   eq |\n",
      "| Equivalent Fractions:                |            |      |\n",
      "| :: NaX                               |     0.0093 |      |\n",
      "| :: CaX2                              |     0.8550 |      |\n",
      "| :: MgX2                              |     0.1357 |      |\n",
      "| Activity Coefficients (log base 10): |            |      |\n",
      "| :: NaX                               |    -0.0335 |      |\n",
      "| :: CaX2                              |    -0.1322 |      |\n",
      "| :: MgX2                              |    -0.1306 |      |\n",
      "+--------------------------------------+------------+------+\n"
     ]
    }
   ],
   "source": [
    "exprops = IonExchangeProps(state)\n",
    "print(exprops)"
   ]
  },
  {
   "cell_type": "markdown",
   "metadata": {},
   "source": [
    "We see that CaX<sub>2</sub> has highest equivalent fraction of all ion exchange species, which causes its highest mole amounts. The table also includes the information on activity coefficient in logarithmic format with teh base 10. Such a detailed summary on the ion exchange properties was designed to compare PHREEQC outputs with those produced by Reaktoro.\n",
    "\n",
    "To finalise, we have learned in this tutorial how to calculate the cation exchange complex in equilibrium with groundwater using the Gaines-Thomas framework. Similar studies can be conducted for different types of soil and alternative brines (such as seawater). The next tutorial, considers  or particular a NaCl extractant to calculate the exchangeable cations in dune sand."
   ]
  }
 ],
 "metadata": {
  "celltoolbar": "Tags",
  "kernelspec": {
   "display_name": "Python 3 (ipykernel)",
   "language": "python",
   "name": "python3"
  },
  "language_info": {
   "codemirror_mode": {
    "name": "ipython",
    "version": 3
   },
   "file_extension": ".py",
   "mimetype": "text/x-python",
   "name": "python",
   "nbconvert_exporter": "python",
   "pygments_lexer": "ipython3",
   "version": "3.9.7"
  }
 },
 "nbformat": 4,
 "nbformat_minor": 1
}