{
 "cells": [
  {
   "cell_type": "markdown",
   "metadata": {},
   "source": [
    "# Effect of calcite dissolution on exchangeable cations\n",
    "\n",
    "In this tutorial, we study the effect of calcite dissolution on determination of CaX<sub>2</sub> using 1-molal NH<sub>4</sub>-acetate. We will vary the acidity of the solution from 9.3 to 7.0 by adding NH<sub>4</sub><sup>+</sup> to the porewater.\n",
    "\n",
    "As all the tutorials above, the numerical experiment start from importing necessary python-packages, initializing database, and defining aqueous and exchange phases to form chemical system."
   ]
  },
  {
   "cell_type": "code",
   "execution_count": 1,
   "metadata": {
    "tags": [
     "remove_output"
    ]
   },
   "outputs": [
    {
     "data": {
      "text/plain": [
       "<reaktoro.reaktoro4py.AqueousPhase at 0x10e64f030>"
      ]
     },
     "execution_count": 1,
     "metadata": {},
     "output_type": "execute_result"
    }
   ],
   "source": [
    "from reaktoro import *\n",
    "import numpy as np\n",
    "import pandas as pd\n",
    "\n",
    "# Load Phreeqc database\n",
    "db = PhreeqcDatabase(\"phreeqc.dat\")\n",
    "\n",
    "# Define an aqueous phase\n",
    "solution = AqueousPhase(speciate(\"H O C Na N Cl Ca Mg\"))\n",
    "solution.setActivityModel(chain(\n",
    "    ActivityModelHKF(),\n",
    "    ActivityModelDrummond(\"CO2\")\n",
    "))"
   ]
  },
  {
   "cell_type": "markdown",
   "metadata": {},
   "source": [
    "Since we are mainly concerned with the extraction of Ca<sup>+2</sup>, we only include two ion exchange species into ion exchange phase. Below, we also define a single mineral phase represented by calcite."
   ]
  },
  {
   "cell_type": "code",
   "execution_count": 2,
   "metadata": {},
   "outputs": [],
   "source": [
    "# Define an ion exchange phase\n",
    "exchange = IonExchangePhase(\"NaX CaX2\")\n",
    "exchange.setActivityModel(ActivityModelIonExchangeGainesThomas())\n",
    "\n",
    "# Define an ion exchange phase\n",
    "mineral = MineralPhase(\"Calcite\")"
   ]
  },
  {
   "cell_type": "markdown",
   "metadata": {},
   "source": [
    "After all the phases are prepared, the chemical system as well all other building blocks of equilibrium simulation, i.e., equilibrium solver and aqueous properties, can be initialized."
   ]
  },
  {
   "cell_type": "code",
   "execution_count": 3,
   "metadata": {},
   "outputs": [],
   "source": [
    "# Create the chemical system\n",
    "system = ChemicalSystem(db, solution, exchange, mineral)\n",
    "\n",
    "# Define equilibrium solver and equilibrate given initial state with input conditions\n",
    "solver = EquilibriumSolver(system)\n",
    "\n",
    "# Define ion exchange properties and aqueous properties\n",
    "aqprops = AqueousProps(system)"
   ]
  },
  {
   "cell_type": "markdown",
   "metadata": {},
   "source": [
    "Bellow, we define the range of NH<sub>4</sub><sup>+</sup> amount as well as the array with NaX values in the initial\n",
    "chemical state. We also collect the parameters and arrays of the data we are trying to study."
   ]
  },
  {
   "cell_type": "code",
   "execution_count": 4,
   "metadata": {},
   "outputs": [],
   "source": [
    "# Sampling arrays of NH4 ions' amounts and NaX exchange species\n",
    "num_ph = 31\n",
    "num_exchangers = 4\n",
    "mols_NH4 = np.linspace(0, 60.0, num=num_ph)\n",
    "mols_NaX = 1e-3 * np.array([0.0, 2.5, 12.5, 25])\n",
    "\n",
    "# Output dataframe\n",
    "data = pd.DataFrame(columns=[\"amount_NaX\", \"amount_NH4\", \"pH\", \"I\",\n",
    "                             \"amount_Ca\", \"amount_CaX2\", \"delta_Calcite\"])"
   ]
  },
  {
   "cell_type": "markdown",
   "metadata": {},
   "source": [
    "Next, we perform a sequence of equilibrium calculations by varying amounts of NH<sub>4</sub>-acetate and NaX. At the end of each calculation, we'll extract the following properties from the computed chemical state:\n",
    "* pH,\n",
    "* ionic strength I,\n",
    "* amount of Ca<sup>+2</sup>,\n",
    "* amount of CaX<sub>2</sub>,\n",
    "* amount of Calcite.\n",
    "\n",
    "During each equilibrium calculation, the following two major equilbrium calculations will be defining the solubility of calcite and to formation of CaX<sub>2</sub>:\n",
    "$$\n",
    "\\begin{alignat}{4}\n",
    "{\\rm CaCO{_3}} + {\\rm H_2O} & \\rightleftharpoons {\\rm Ca}^{+2} + {\\rm HCO}_3^- + {\\rm OH}^- \\\\\n",
    "\\tfrac{1}{2} {\\rm Ca^{+2}} + {\\rm NaX} & \\rightleftharpoons {\\rm Na}^+ + \\tfrac{1}{2} {\\rm CaX}_2\\\\\n",
    "\\end{alignat}\n",
    "$$\n"
   ]
  },
  {
   "cell_type": "code",
   "execution_count": 5,
   "metadata": {},
   "outputs": [],
   "source": [
    "for mol_NaX in mols_NaX:\n",
    "\n",
    "    for mol_NH4 in mols_NH4:\n",
    "\n",
    "        # Initial amount of Calcite\n",
    "        m0Calcite = 10.0\n",
    "\n",
    "        # Define initial equilibrium state\n",
    "        state = ChemicalState(system)\n",
    "        state.setTemperature(25.0, \"celsius\")\n",
    "        state.setPressure(1.0, \"atm\")\n",
    "        # Seawater\n",
    "        state.set(\"H2O\" , 1.0    , \"kg\")\n",
    "        state.set(\"Na+\" , 1.10   , \"mmol\")\n",
    "        state.set(\"Mg+2\", 0.48   , \"mmol\")\n",
    "        state.set(\"Ca+2\", 1.90   , \"mmol\")\n",
    "        state.set(\"NH4+\", mol_NH4, \"mmol\")\n",
    "        # Ammonia\n",
    "        state.set(\"Calcite\", m0Calcite, \"mol\")\n",
    "\n",
    "        # Calculate chemical state corresponding to the seawater\n",
    "        res = solver.solve(state)\n",
    "        # Stop if the equilibration hasn't converged\n",
    "        if not res.optima.succeeded: continue\n",
    "\n",
    "        # Update aqueous properties and evaluate pH\n",
    "        aqprops.update(state)\n",
    "        pH = float(aqprops.pH())\n",
    "\n",
    "        # Exchanger\n",
    "        state.set(\"NaX\", mol_NaX, \"mol\")\n",
    "\n",
    "        # Equilibrate the seawater with carbonates\n",
    "        res = solver.solve(state)\n",
    "        if not res.optima.succeeded: continue\n",
    "\n",
    "        # Update aqueous properties to evaluate ionic strength\n",
    "        aqprops.update(state)\n",
    "        chemprops = state.props()\n",
    "\n",
    "        # Collect the value to be added to the dataframe in the following order\n",
    "        # \"amount_NaX\", \"amount_NH4\", \"amount_pH\", \"I\", \"amount_Ca\", \"amount_CaX2\", \"delta_Calcite\"\n",
    "        data.loc[len(data)] = [mol_NaX, mol_NH4, pH, float(aqprops.ionicStrength()),\n",
    "                              float(chemprops.elementAmountInPhase(\"Ca\", \"AqueousPhase\")), float(state.speciesAmount(\"CaX2\")),\n",
    "                              m0Calcite - float(state.speciesAmount(\"Calcite\"))]"
   ]
  },
  {
   "cell_type": "markdown",
   "metadata": {},
   "source": [
    "To visualize the obtained results, we use [bokeh](https://bokeh.org/) plotting library."
   ]
  },
  {
   "cell_type": "code",
   "execution_count": 6,
   "metadata": {
    "tags": [
     "hide_input"
    ]
   },
   "outputs": [
    {
     "data": {
      "text/html": [
       "\n",
       "    <div class=\"bk-root\">\n",
       "        <a href=\"https://bokeh.org\" target=\"_blank\" class=\"bk-logo bk-logo-small bk-logo-notebook\"></a>\n",
       "        <span id=\"1002\">Loading BokehJS ...</span>\n",
       "    </div>"
      ]
     },
     "metadata": {},
     "output_type": "display_data"
    },
    {
     "data": {
      "application/javascript": [
       "\n",
       "(function(root) {\n",
       "  function now() {\n",
       "    return new Date();\n",
       "  }\n",
       "\n",
       "  const force = true;\n",
       "\n",
       "  if (typeof root._bokeh_onload_callbacks === \"undefined\" || force === true) {\n",
       "    root._bokeh_onload_callbacks = [];\n",
       "    root._bokeh_is_loading = undefined;\n",
       "  }\n",
       "\n",
       "  const JS_MIME_TYPE = 'application/javascript';\n",
       "  const HTML_MIME_TYPE = 'text/html';\n",
       "  const EXEC_MIME_TYPE = 'application/vnd.bokehjs_exec.v0+json';\n",
       "  const CLASS_NAME = 'output_bokeh rendered_html';\n",
       "\n",
       "  /**\n",
       "   * Render data to the DOM node\n",
       "   */\n",
       "  function render(props, node) {\n",
       "    const script = document.createElement(\"script\");\n",
       "    node.appendChild(script);\n",
       "  }\n",
       "\n",
       "  /**\n",
       "   * Handle when an output is cleared or removed\n",
       "   */\n",
       "  function handleClearOutput(event, handle) {\n",
       "    const cell = handle.cell;\n",
       "\n",
       "    const id = cell.output_area._bokeh_element_id;\n",
       "    const server_id = cell.output_area._bokeh_server_id;\n",
       "    // Clean up Bokeh references\n",
       "    if (id != null && id in Bokeh.index) {\n",
       "      Bokeh.index[id].model.document.clear();\n",
       "      delete Bokeh.index[id];\n",
       "    }\n",
       "\n",
       "    if (server_id !== undefined) {\n",
       "      // Clean up Bokeh references\n",
       "      const cmd_clean = \"from bokeh.io.state import curstate; print(curstate().uuid_to_server['\" + server_id + \"'].get_sessions()[0].document.roots[0]._id)\";\n",
       "      cell.notebook.kernel.execute(cmd_clean, {\n",
       "        iopub: {\n",
       "          output: function(msg) {\n",
       "            const id = msg.content.text.trim();\n",
       "            if (id in Bokeh.index) {\n",
       "              Bokeh.index[id].model.document.clear();\n",
       "              delete Bokeh.index[id];\n",
       "            }\n",
       "          }\n",
       "        }\n",
       "      });\n",
       "      // Destroy server and session\n",
       "      const cmd_destroy = \"import bokeh.io.notebook as ion; ion.destroy_server('\" + server_id + \"')\";\n",
       "      cell.notebook.kernel.execute(cmd_destroy);\n",
       "    }\n",
       "  }\n",
       "\n",
       "  /**\n",
       "   * Handle when a new output is added\n",
       "   */\n",
       "  function handleAddOutput(event, handle) {\n",
       "    const output_area = handle.output_area;\n",
       "    const output = handle.output;\n",
       "\n",
       "    // limit handleAddOutput to display_data with EXEC_MIME_TYPE content only\n",
       "    if ((output.output_type != \"display_data\") || (!Object.prototype.hasOwnProperty.call(output.data, EXEC_MIME_TYPE))) {\n",
       "      return\n",
       "    }\n",
       "\n",
       "    const toinsert = output_area.element.find(\".\" + CLASS_NAME.split(' ')[0]);\n",
       "\n",
       "    if (output.metadata[EXEC_MIME_TYPE][\"id\"] !== undefined) {\n",
       "      toinsert[toinsert.length - 1].firstChild.textContent = output.data[JS_MIME_TYPE];\n",
       "      // store reference to embed id on output_area\n",
       "      output_area._bokeh_element_id = output.metadata[EXEC_MIME_TYPE][\"id\"];\n",
       "    }\n",
       "    if (output.metadata[EXEC_MIME_TYPE][\"server_id\"] !== undefined) {\n",
       "      const bk_div = document.createElement(\"div\");\n",
       "      bk_div.innerHTML = output.data[HTML_MIME_TYPE];\n",
       "      const script_attrs = bk_div.children[0].attributes;\n",
       "      for (let i = 0; i < script_attrs.length; i++) {\n",
       "        toinsert[toinsert.length - 1].firstChild.setAttribute(script_attrs[i].name, script_attrs[i].value);\n",
       "        toinsert[toinsert.length - 1].firstChild.textContent = bk_div.children[0].textContent\n",
       "      }\n",
       "      // store reference to server id on output_area\n",
       "      output_area._bokeh_server_id = output.metadata[EXEC_MIME_TYPE][\"server_id\"];\n",
       "    }\n",
       "  }\n",
       "\n",
       "  function register_renderer(events, OutputArea) {\n",
       "\n",
       "    function append_mime(data, metadata, element) {\n",
       "      // create a DOM node to render to\n",
       "      const toinsert = this.create_output_subarea(\n",
       "        metadata,\n",
       "        CLASS_NAME,\n",
       "        EXEC_MIME_TYPE\n",
       "      );\n",
       "      this.keyboard_manager.register_events(toinsert);\n",
       "      // Render to node\n",
       "      const props = {data: data, metadata: metadata[EXEC_MIME_TYPE]};\n",
       "      render(props, toinsert[toinsert.length - 1]);\n",
       "      element.append(toinsert);\n",
       "      return toinsert\n",
       "    }\n",
       "\n",
       "    /* Handle when an output is cleared or removed */\n",
       "    events.on('clear_output.CodeCell', handleClearOutput);\n",
       "    events.on('delete.Cell', handleClearOutput);\n",
       "\n",
       "    /* Handle when a new output is added */\n",
       "    events.on('output_added.OutputArea', handleAddOutput);\n",
       "\n",
       "    /**\n",
       "     * Register the mime type and append_mime function with output_area\n",
       "     */\n",
       "    OutputArea.prototype.register_mime_type(EXEC_MIME_TYPE, append_mime, {\n",
       "      /* Is output safe? */\n",
       "      safe: true,\n",
       "      /* Index of renderer in `output_area.display_order` */\n",
       "      index: 0\n",
       "    });\n",
       "  }\n",
       "\n",
       "  // register the mime type if in Jupyter Notebook environment and previously unregistered\n",
       "  if (root.Jupyter !== undefined) {\n",
       "    const events = require('base/js/events');\n",
       "    const OutputArea = require('notebook/js/outputarea').OutputArea;\n",
       "\n",
       "    if (OutputArea.prototype.mime_types().indexOf(EXEC_MIME_TYPE) == -1) {\n",
       "      register_renderer(events, OutputArea);\n",
       "    }\n",
       "  }\n",
       "\n",
       "  \n",
       "  if (typeof (root._bokeh_timeout) === \"undefined\" || force === true) {\n",
       "    root._bokeh_timeout = Date.now() + 5000;\n",
       "    root._bokeh_failed_load = false;\n",
       "  }\n",
       "\n",
       "  const NB_LOAD_WARNING = {'data': {'text/html':\n",
       "     \"<div style='background-color: #fdd'>\\n\"+\n",
       "     \"<p>\\n\"+\n",
       "     \"BokehJS does not appear to have successfully loaded. If loading BokehJS from CDN, this \\n\"+\n",
       "     \"may be due to a slow or bad network connection. Possible fixes:\\n\"+\n",
       "     \"</p>\\n\"+\n",
       "     \"<ul>\\n\"+\n",
       "     \"<li>re-rerun `output_notebook()` to attempt to load from CDN again, or</li>\\n\"+\n",
       "     \"<li>use INLINE resources instead, as so:</li>\\n\"+\n",
       "     \"</ul>\\n\"+\n",
       "     \"<code>\\n\"+\n",
       "     \"from bokeh.resources import INLINE\\n\"+\n",
       "     \"output_notebook(resources=INLINE)\\n\"+\n",
       "     \"</code>\\n\"+\n",
       "     \"</div>\"}};\n",
       "\n",
       "  function display_loaded() {\n",
       "    const el = document.getElementById(\"1002\");\n",
       "    if (el != null) {\n",
       "      el.textContent = \"BokehJS is loading...\";\n",
       "    }\n",
       "    if (root.Bokeh !== undefined) {\n",
       "      if (el != null) {\n",
       "        el.textContent = \"BokehJS \" + root.Bokeh.version + \" successfully loaded.\";\n",
       "      }\n",
       "    } else if (Date.now() < root._bokeh_timeout) {\n",
       "      setTimeout(display_loaded, 100)\n",
       "    }\n",
       "  }\n",
       "\n",
       "\n",
       "  function run_callbacks() {\n",
       "    try {\n",
       "      root._bokeh_onload_callbacks.forEach(function(callback) {\n",
       "        if (callback != null)\n",
       "          callback();\n",
       "      });\n",
       "    } finally {\n",
       "      delete root._bokeh_onload_callbacks\n",
       "    }\n",
       "    console.debug(\"Bokeh: all callbacks have finished\");\n",
       "  }\n",
       "\n",
       "  function load_libs(css_urls, js_urls, callback) {\n",
       "    if (css_urls == null) css_urls = [];\n",
       "    if (js_urls == null) js_urls = [];\n",
       "\n",
       "    root._bokeh_onload_callbacks.push(callback);\n",
       "    if (root._bokeh_is_loading > 0) {\n",
       "      console.debug(\"Bokeh: BokehJS is being loaded, scheduling callback at\", now());\n",
       "      return null;\n",
       "    }\n",
       "    if (js_urls == null || js_urls.length === 0) {\n",
       "      run_callbacks();\n",
       "      return null;\n",
       "    }\n",
       "    console.debug(\"Bokeh: BokehJS not loaded, scheduling load and callback at\", now());\n",
       "    root._bokeh_is_loading = css_urls.length + js_urls.length;\n",
       "\n",
       "    function on_load() {\n",
       "      root._bokeh_is_loading--;\n",
       "      if (root._bokeh_is_loading === 0) {\n",
       "        console.debug(\"Bokeh: all BokehJS libraries/stylesheets loaded\");\n",
       "        run_callbacks()\n",
       "      }\n",
       "    }\n",
       "\n",
       "    function on_error(url) {\n",
       "      console.error(\"failed to load \" + url);\n",
       "    }\n",
       "\n",
       "    for (let i = 0; i < css_urls.length; i++) {\n",
       "      const url = css_urls[i];\n",
       "      const element = document.createElement(\"link\");\n",
       "      element.onload = on_load;\n",
       "      element.onerror = on_error.bind(null, url);\n",
       "      element.rel = \"stylesheet\";\n",
       "      element.type = \"text/css\";\n",
       "      element.href = url;\n",
       "      console.debug(\"Bokeh: injecting link tag for BokehJS stylesheet: \", url);\n",
       "      document.body.appendChild(element);\n",
       "    }\n",
       "\n",
       "    for (let i = 0; i < js_urls.length; i++) {\n",
       "      const url = js_urls[i];\n",
       "      const element = document.createElement('script');\n",
       "      element.onload = on_load;\n",
       "      element.onerror = on_error.bind(null, url);\n",
       "      element.async = false;\n",
       "      element.src = url;\n",
       "      console.debug(\"Bokeh: injecting script tag for BokehJS library: \", url);\n",
       "      document.head.appendChild(element);\n",
       "    }\n",
       "  };\n",
       "\n",
       "  function inject_raw_css(css) {\n",
       "    const element = document.createElement(\"style\");\n",
       "    element.appendChild(document.createTextNode(css));\n",
       "    document.body.appendChild(element);\n",
       "  }\n",
       "\n",
       "  \n",
       "  const js_urls = [\"https://cdn.bokeh.org/bokeh/release/bokeh-2.4.2.min.js\", \"https://cdn.bokeh.org/bokeh/release/bokeh-gl-2.4.2.min.js\", \"https://cdn.bokeh.org/bokeh/release/bokeh-widgets-2.4.2.min.js\", \"https://cdn.bokeh.org/bokeh/release/bokeh-tables-2.4.2.min.js\", \"https://cdn.bokeh.org/bokeh/release/bokeh-mathjax-2.4.2.min.js\"];\n",
       "  const css_urls = [];\n",
       "  \n",
       "\n",
       "  const inline_js = [\n",
       "    function(Bokeh) {\n",
       "      Bokeh.set_log_level(\"info\");\n",
       "    },\n",
       "    function(Bokeh) {\n",
       "    \n",
       "    \n",
       "    }\n",
       "  ];\n",
       "\n",
       "  function run_inline_js() {\n",
       "    \n",
       "    if (root.Bokeh !== undefined || force === true) {\n",
       "      \n",
       "    for (let i = 0; i < inline_js.length; i++) {\n",
       "      inline_js[i].call(root, root.Bokeh);\n",
       "    }\n",
       "    if (force === true) {\n",
       "        display_loaded();\n",
       "      }} else if (Date.now() < root._bokeh_timeout) {\n",
       "      setTimeout(run_inline_js, 100);\n",
       "    } else if (!root._bokeh_failed_load) {\n",
       "      console.log(\"Bokeh: BokehJS failed to load within specified timeout.\");\n",
       "      root._bokeh_failed_load = true;\n",
       "    } else if (force !== true) {\n",
       "      const cell = $(document.getElementById(\"1002\")).parents('.cell').data().cell;\n",
       "      cell.output_area.append_execute_result(NB_LOAD_WARNING)\n",
       "    }\n",
       "\n",
       "  }\n",
       "\n",
       "  if (root._bokeh_is_loading === 0) {\n",
       "    console.debug(\"Bokeh: BokehJS loaded, going straight to plotting\");\n",
       "    run_inline_js();\n",
       "  } else {\n",
       "    load_libs(css_urls, js_urls, function() {\n",
       "      console.debug(\"Bokeh: BokehJS plotting callback run at\", now());\n",
       "      run_inline_js();\n",
       "    });\n",
       "  }\n",
       "}(window));"
      ],
      "application/vnd.bokehjs_load.v0+json": "\n(function(root) {\n  function now() {\n    return new Date();\n  }\n\n  const force = true;\n\n  if (typeof root._bokeh_onload_callbacks === \"undefined\" || force === true) {\n    root._bokeh_onload_callbacks = [];\n    root._bokeh_is_loading = undefined;\n  }\n\n  \n\n  \n  if (typeof (root._bokeh_timeout) === \"undefined\" || force === true) {\n    root._bokeh_timeout = Date.now() + 5000;\n    root._bokeh_failed_load = false;\n  }\n\n  const NB_LOAD_WARNING = {'data': {'text/html':\n     \"<div style='background-color: #fdd'>\\n\"+\n     \"<p>\\n\"+\n     \"BokehJS does not appear to have successfully loaded. If loading BokehJS from CDN, this \\n\"+\n     \"may be due to a slow or bad network connection. Possible fixes:\\n\"+\n     \"</p>\\n\"+\n     \"<ul>\\n\"+\n     \"<li>re-rerun `output_notebook()` to attempt to load from CDN again, or</li>\\n\"+\n     \"<li>use INLINE resources instead, as so:</li>\\n\"+\n     \"</ul>\\n\"+\n     \"<code>\\n\"+\n     \"from bokeh.resources import INLINE\\n\"+\n     \"output_notebook(resources=INLINE)\\n\"+\n     \"</code>\\n\"+\n     \"</div>\"}};\n\n  function display_loaded() {\n    const el = document.getElementById(\"1002\");\n    if (el != null) {\n      el.textContent = \"BokehJS is loading...\";\n    }\n    if (root.Bokeh !== undefined) {\n      if (el != null) {\n        el.textContent = \"BokehJS \" + root.Bokeh.version + \" successfully loaded.\";\n      }\n    } else if (Date.now() < root._bokeh_timeout) {\n      setTimeout(display_loaded, 100)\n    }\n  }\n\n\n  function run_callbacks() {\n    try {\n      root._bokeh_onload_callbacks.forEach(function(callback) {\n        if (callback != null)\n          callback();\n      });\n    } finally {\n      delete root._bokeh_onload_callbacks\n    }\n    console.debug(\"Bokeh: all callbacks have finished\");\n  }\n\n  function load_libs(css_urls, js_urls, callback) {\n    if (css_urls == null) css_urls = [];\n    if (js_urls == null) js_urls = [];\n\n    root._bokeh_onload_callbacks.push(callback);\n    if (root._bokeh_is_loading > 0) {\n      console.debug(\"Bokeh: BokehJS is being loaded, scheduling callback at\", now());\n      return null;\n    }\n    if (js_urls == null || js_urls.length === 0) {\n      run_callbacks();\n      return null;\n    }\n    console.debug(\"Bokeh: BokehJS not loaded, scheduling load and callback at\", now());\n    root._bokeh_is_loading = css_urls.length + js_urls.length;\n\n    function on_load() {\n      root._bokeh_is_loading--;\n      if (root._bokeh_is_loading === 0) {\n        console.debug(\"Bokeh: all BokehJS libraries/stylesheets loaded\");\n        run_callbacks()\n      }\n    }\n\n    function on_error(url) {\n      console.error(\"failed to load \" + url);\n    }\n\n    for (let i = 0; i < css_urls.length; i++) {\n      const url = css_urls[i];\n      const element = document.createElement(\"link\");\n      element.onload = on_load;\n      element.onerror = on_error.bind(null, url);\n      element.rel = \"stylesheet\";\n      element.type = \"text/css\";\n      element.href = url;\n      console.debug(\"Bokeh: injecting link tag for BokehJS stylesheet: \", url);\n      document.body.appendChild(element);\n    }\n\n    for (let i = 0; i < js_urls.length; i++) {\n      const url = js_urls[i];\n      const element = document.createElement('script');\n      element.onload = on_load;\n      element.onerror = on_error.bind(null, url);\n      element.async = false;\n      element.src = url;\n      console.debug(\"Bokeh: injecting script tag for BokehJS library: \", url);\n      document.head.appendChild(element);\n    }\n  };\n\n  function inject_raw_css(css) {\n    const element = document.createElement(\"style\");\n    element.appendChild(document.createTextNode(css));\n    document.body.appendChild(element);\n  }\n\n  \n  const js_urls = [\"https://cdn.bokeh.org/bokeh/release/bokeh-2.4.2.min.js\", \"https://cdn.bokeh.org/bokeh/release/bokeh-gl-2.4.2.min.js\", \"https://cdn.bokeh.org/bokeh/release/bokeh-widgets-2.4.2.min.js\", \"https://cdn.bokeh.org/bokeh/release/bokeh-tables-2.4.2.min.js\", \"https://cdn.bokeh.org/bokeh/release/bokeh-mathjax-2.4.2.min.js\"];\n  const css_urls = [];\n  \n\n  const inline_js = [\n    function(Bokeh) {\n      Bokeh.set_log_level(\"info\");\n    },\n    function(Bokeh) {\n    \n    \n    }\n  ];\n\n  function run_inline_js() {\n    \n    if (root.Bokeh !== undefined || force === true) {\n      \n    for (let i = 0; i < inline_js.length; i++) {\n      inline_js[i].call(root, root.Bokeh);\n    }\n    if (force === true) {\n        display_loaded();\n      }} else if (Date.now() < root._bokeh_timeout) {\n      setTimeout(run_inline_js, 100);\n    } else if (!root._bokeh_failed_load) {\n      console.log(\"Bokeh: BokehJS failed to load within specified timeout.\");\n      root._bokeh_failed_load = true;\n    } else if (force !== true) {\n      const cell = $(document.getElementById(\"1002\")).parents('.cell').data().cell;\n      cell.output_area.append_execute_result(NB_LOAD_WARNING)\n    }\n\n  }\n\n  if (root._bokeh_is_loading === 0) {\n    console.debug(\"Bokeh: BokehJS loaded, going straight to plotting\");\n    run_inline_js();\n  } else {\n    load_libs(css_urls, js_urls, function() {\n      console.debug(\"Bokeh: BokehJS plotting callback run at\", now());\n      run_inline_js();\n    });\n  }\n}(window));"
     },
     "metadata": {},
     "output_type": "display_data"
    }
   ],
   "source": [
    "from bokeh.plotting import figure, show\n",
    "from bokeh.models import HoverTool\n",
    "from bokeh.io import output_notebook\n",
    "from bokeh.models import ColumnDataSource\n",
    "output_notebook()"
   ]
  },
  {
   "cell_type": "markdown",
   "metadata": {},
   "source": [
    "First, we plot the dependence of the dissolved calcite on the levels of pH and for different initial values of NaX providing the exchanger X<sup>-</sup>. We see that the solubility of calcite grows with an increase in acidity."
   ]
  },
  {
   "cell_type": "code",
   "execution_count": 7,
   "metadata": {
    "tags": [
     "hide_input"
    ]
   },
   "outputs": [
    {
     "data": {
      "text/html": [
       "\n",
       "\n",
       "\n",
       "\n",
       "\n",
       "\n",
       "  <div class=\"bk-root\" id=\"c99f16fb-aa2e-44ff-8087-9cf97cb3fc3b\" data-root-id=\"1004\"></div>\n"
      ]
     },
     "metadata": {},
     "output_type": "display_data"
    },
    {
     "data": {
      "application/javascript": [
       "(function(root) {\n",
       "  function embed_document(root) {\n",
       "    \n",
       "  const docs_json = {\"08cb66f1-c511-49e1-a0d0-e2b502c2bfd0\":{\"defs\":[],\"roots\":{\"references\":[{\"attributes\":{\"below\":[{\"id\":\"1015\"}],\"center\":[{\"id\":\"1018\"},{\"id\":\"1022\"},{\"id\":\"1055\"}],\"height\":300,\"left\":[{\"id\":\"1019\"}],\"renderers\":[{\"id\":\"1043\"},{\"id\":\"1062\"},{\"id\":\"1082\"},{\"id\":\"1104\"}],\"sizing_mode\":\"scale_width\",\"title\":{\"id\":\"1005\"},\"toolbar\":{\"id\":\"1030\"},\"x_range\":{\"id\":\"1007\"},\"x_scale\":{\"id\":\"1011\"},\"y_range\":{\"id\":\"1009\"},\"y_scale\":{\"id\":\"1013\"}},\"id\":\"1004\",\"subtype\":\"Figure\",\"type\":\"Plot\"},{\"attributes\":{},\"id\":\"1050\",\"type\":\"BasicTickFormatter\"},{\"attributes\":{\"line_alpha\":0.2,\"line_cap\":\"round\",\"line_color\":\"teal\",\"line_width\":5,\"x\":{\"field\":\"pH\"},\"y\":{\"field\":\"delta_Calcite\"}},\"id\":\"1042\",\"type\":\"Line\"},{\"attributes\":{\"line_alpha\":0.1,\"line_cap\":\"round\",\"line_color\":\"indigo\",\"line_width\":5,\"x\":{\"field\":\"pH\"},\"y\":{\"field\":\"delta_Calcite\"}},\"id\":\"1080\",\"type\":\"Line\"},{\"attributes\":{},\"id\":\"1073\",\"type\":\"UnionRenderers\"},{\"attributes\":{},\"id\":\"1051\",\"type\":\"AllLabels\"},{\"attributes\":{},\"id\":\"1011\",\"type\":\"LinearScale\"},{\"attributes\":{},\"id\":\"1053\",\"type\":\"Selection\"},{\"attributes\":{},\"id\":\"1119\",\"type\":\"UnionRenderers\"},{\"attributes\":{},\"id\":\"1074\",\"type\":\"Selection\"},{\"attributes\":{\"source\":{\"id\":\"1077\"}},\"id\":\"1083\",\"type\":\"CDSView\"},{\"attributes\":{},\"id\":\"1052\",\"type\":\"UnionRenderers\"},{\"attributes\":{},\"id\":\"1120\",\"type\":\"Selection\"},{\"attributes\":{\"line_alpha\":0.1,\"line_cap\":\"round\",\"line_color\":\"teal\",\"line_width\":5,\"x\":{\"field\":\"pH\"},\"y\":{\"field\":\"delta_Calcite\"}},\"id\":\"1041\",\"type\":\"Line\"},{\"attributes\":{\"label\":{\"value\":\"0.0125 mol of NaX\"},\"renderers\":[{\"id\":\"1082\"}]},\"id\":\"1098\",\"type\":\"LegendItem\"},{\"attributes\":{},\"id\":\"1095\",\"type\":\"UnionRenderers\"},{\"attributes\":{\"coordinates\":null,\"data_source\":{\"id\":\"1077\"},\"glyph\":{\"id\":\"1079\"},\"group\":null,\"hover_glyph\":null,\"muted_glyph\":{\"id\":\"1081\"},\"nonselection_glyph\":{\"id\":\"1080\"},\"view\":{\"id\":\"1083\"}},\"id\":\"1082\",\"type\":\"GlyphRenderer\"},{\"attributes\":{},\"id\":\"1096\",\"type\":\"Selection\"},{\"attributes\":{\"bottom_units\":\"screen\",\"coordinates\":null,\"fill_alpha\":0.5,\"fill_color\":\"lightgrey\",\"group\":null,\"left_units\":\"screen\",\"level\":\"overlay\",\"line_alpha\":1.0,\"line_color\":\"black\",\"line_dash\":[4,4],\"line_width\":2,\"right_units\":\"screen\",\"syncable\":false,\"top_units\":\"screen\"},\"id\":\"1029\",\"type\":\"BoxAnnotation\"},{\"attributes\":{\"line_alpha\":0.1,\"line_cap\":\"round\",\"line_color\":\"coral\",\"line_width\":5,\"x\":{\"field\":\"pH\"},\"y\":{\"field\":\"delta_Calcite\"}},\"id\":\"1102\",\"type\":\"Line\"},{\"attributes\":{\"source\":{\"id\":\"1038\"}},\"id\":\"1044\",\"type\":\"CDSView\"},{\"attributes\":{\"line_cap\":\"round\",\"line_color\":\"coral\",\"line_width\":5,\"x\":{\"field\":\"pH\"},\"y\":{\"field\":\"delta_Calcite\"}},\"id\":\"1101\",\"type\":\"Line\"},{\"attributes\":{\"callback\":null,\"tooltips\":[[\"pH\",\"@pH\"],[\"delta(Calcite)\",\"@delta_Calcite mol\"],[\"amount(NaX)\",\"@amount_NaX mol\"]]},\"id\":\"1003\",\"type\":\"HoverTool\"},{\"attributes\":{\"label\":{\"value\":\"0.0 mol of NaX\"},\"renderers\":[{\"id\":\"1043\"}]},\"id\":\"1056\",\"type\":\"LegendItem\"},{\"attributes\":{},\"id\":\"1007\",\"type\":\"DataRange1d\"},{\"attributes\":{\"coordinates\":null,\"data_source\":{\"id\":\"1038\"},\"glyph\":{\"id\":\"1040\"},\"group\":null,\"hover_glyph\":null,\"muted_glyph\":{\"id\":\"1042\"},\"nonselection_glyph\":{\"id\":\"1041\"},\"view\":{\"id\":\"1044\"}},\"id\":\"1043\",\"type\":\"GlyphRenderer\"},{\"attributes\":{\"data\":{\"I\":{\"__ndarray__\":\"IewlZ7DqfD+b0joWD4OBP/Hzeh7wboQ/VdWsh89Fhz8NMLwIow2KPzic863gyYw/upcJLcp8jz+x73I/+hORP2M1pQ9FZpI/REsjrLe1kz9jSTPpqwKVP1RF3xhqTZY/FNd3jC2Wlz/fHtqtJ92YP6klXTKCIpo/2kvwtGBmmz9Nf6vn4aicPxo46nsg6p0/QraY1TMqnz9Yd+RLmDSgPz6cMIqU06A/S/nw0hZyoT9ooyl8JhCiP4TNiiLKraI/7eIuwgdLoz+OzTzL5OejP94mPTNmhKQ/DnLCg5AgpT8rCuLmZ7ylPxOl4DHwV6Y/\",\"dtype\":\"float64\",\"order\":\"little\",\"shape\":[30]},\"amount_Ca\":{\"__ndarray__\":\"ReGMhhufYz9YTInG+YJmPzGNBeSuEWk/PkNpJUZqaz+yiYhYr5ttP7ot+9i/rm8/in3RhqTUcD9xaCGUssdxP8Ptp3EOsnI//du+xeGUcz/1tA0aF3F0P+nI4GZrR3U/kfSYvnkYdj9BwRFbw+R2PwJg21e1rHc/7OMb4KxweD9fDntM+jB5P9SvlYHj7Xk/DKWZxKWnej9sALUqd157P9l29LyHEnw/u1LRYgLEfD+biq+gDXN9P/q/DDTMH34/TvyplF3Kfj8z2zhg3nJ/PwcUY1q0DIA/aOGTPgpfgD+LjwDZe7CAPymisUgTAYE/\",\"dtype\":\"float64\",\"order\":\"little\",\"shape\":[30]},\"amount_CaX2\":{\"__ndarray__\":\"vInYl7LSnDy8idiXstKcPLyJ2Jey0pw8vInYl7LSnDy8idiXstKcPLyJ2Jey0pw8vInYl7LSnDy8idiXstKcPLyJ2Jey0pw8vInYl7LSnDy8idiXstKcPLyJ2Jey0pw8vInYl7LSnDy8idiXstKcPLyJ2Jey0pw8vInYl7LSnDy8idiXstKcPLyJ2Jey0pw8vInYl7LSnDy8idiXstKcPLyJ2Jey0pw8vInYl7LSnDy8idiXstKcPLyJ2Jey0pw8vInYl7LSnDy8idiXstKcPLyJ2Jey0pw8vInYl7LSnDy8idiXstKcPLyJ2Jey0pw8\",\"dtype\":\"float64\",\"order\":\"little\",\"shape\":[30]},\"amount_NH4\":{\"__ndarray__\":\"AAAAAAAAAEAAAAAAAAAQQAAAAAAAABhAAAAAAAAAIEAAAAAAAAAkQAAAAAAAAChAAAAAAAAALEAAAAAAAAAwQAAAAAAAADJAAAAAAAAANEAAAAAAAAA2QAAAAAAAADhAAAAAAAAAOkAAAAAAAAA8QAAAAAAAAD5AAAAAAAAAQEAAAAAAAABBQAAAAAAAAEJAAAAAAAAAQ0AAAAAAAABEQAAAAAAAAEVAAAAAAAAARkAAAAAAAABHQAAAAAAAAEhAAAAAAAAASUAAAAAAAABKQAAAAAAAAEtAAAAAAAAATEAAAAAAAABNQAAAAAAAAE5A\",\"dtype\":\"float64\",\"order\":\"little\",\"shape\":[30]},\"amount_NaX\":{\"__ndarray__\":\"AAAAAAAAAAAAAAAAAAAAAAAAAAAAAAAAAAAAAAAAAAAAAAAAAAAAAAAAAAAAAAAAAAAAAAAAAAAAAAAAAAAAAAAAAAAAAAAAAAAAAAAAAAAAAAAAAAAAAAAAAAAAAAAAAAAAAAAAAAAAAAAAAAAAAAAAAAAAAAAAAAAAAAAAAAAAAAAAAAAAAAAAAAAAAAAAAAAAAAAAAAAAAAAAAAAAAAAAAAAAAAAAAAAAAAAAAAAAAAAAAAAAAAAAAAAAAAAAAAAAAAAAAAAAAAAAAAAAAAAAAAAAAAAAAAAAAAAAAAAAAAAAAAAAAAAAAAAAAAAA\",\"dtype\":\"float64\",\"order\":\"little\",\"shape\":[30]},\"delta_Calcite\":{\"__ndarray__\":\"AIDQKxM6QD8AQMIrjMlLPwCg2VAwAlM/AACh016zVz8AoN85MRZcPwBwYh0pHmA/AEAKUrIYYj8AEKpszv5jPwAgtyeG02U/AADlzyyZZz8AsIJ4l1FpPwDQKBJA/mo/ACCZwVygbD8AwIr67zhuPwAAHvTTyG8/AIBPgmGocD8AsK7urmhxPwBQySOYJXI/AEjNZlrfcj8AoOjMK5ZzPwAYKF88SnQ/APAEBbf7dD8AMONCwqp1PwBgQNaAV3Y/AJjdNhICdz8AgGwCk6p3PwDI+VYdUXg/AGBbH8n1eD8AwDRUrJh5PwDoljPbOXo/\",\"dtype\":\"float64\",\"order\":\"little\",\"shape\":[30]},\"index\":[0,1,2,3,4,5,6,7,8,9,10,11,12,13,14,15,16,17,18,19,20,21,22,23,24,25,26,27,28,29],\"pH\":{\"__ndarray__\":\"xCPGqq6BIED+MVXE+QggQKtHHaRzfR9A+W3cZ54RH0BTBy+uAb0eQM24mqB/dx5AgRMCP588HkDZCfKpowkeQCjW7bm/3B1AoTHogLO0HUBiLVnXl5AdQNMF3ULAbx1AzlLQpqhRHUB4pjCY6TUdQF05BaIwHB1Amen5+joEHUDUDvzM0e0cQI2CiIfH2BxAo5K85/XEHECcWDt/PLIcQLLobZV/oBxAqqZUSqePHEDbULfpnn8cQGx2jGJUcBxAMJXc2bdhHEAWx8FSu1McQK2VzWZSRhxA8lZNC3I5HEATY8BgEC0cQNrQc4okIRxA\",\"dtype\":\"float64\",\"order\":\"little\",\"shape\":[30]}},\"selected\":{\"id\":\"1053\"},\"selection_policy\":{\"id\":\"1052\"}},\"id\":\"1038\",\"type\":\"ColumnDataSource\"},{\"attributes\":{\"label\":{\"value\":\"0.025 mol of NaX\"},\"renderers\":[{\"id\":\"1104\"}]},\"id\":\"1122\",\"type\":\"LegendItem\"},{\"attributes\":{\"tools\":[{\"id\":\"1023\"},{\"id\":\"1024\"},{\"id\":\"1025\"},{\"id\":\"1026\"},{\"id\":\"1027\"},{\"id\":\"1028\"},{\"id\":\"1003\"}]},\"id\":\"1030\",\"type\":\"Toolbar\"},{\"attributes\":{\"coordinates\":null,\"group\":null,\"text\":\"DEPENDENCE OF CALCITE SOLUBILITY ON PH\"},\"id\":\"1005\",\"type\":\"Title\"},{\"attributes\":{\"source\":{\"id\":\"1099\"}},\"id\":\"1105\",\"type\":\"CDSView\"},{\"attributes\":{\"line_alpha\":0.2,\"line_cap\":\"round\",\"line_color\":\"coral\",\"line_width\":5,\"x\":{\"field\":\"pH\"},\"y\":{\"field\":\"delta_Calcite\"}},\"id\":\"1103\",\"type\":\"Line\"},{\"attributes\":{\"axis_label\":\"PH [-]\",\"coordinates\":null,\"formatter\":{\"id\":\"1050\"},\"group\":null,\"major_label_policy\":{\"id\":\"1051\"},\"ticker\":{\"id\":\"1016\"}},\"id\":\"1015\",\"type\":\"LinearAxis\"},{\"attributes\":{\"line_alpha\":0.2,\"line_cap\":\"round\",\"line_color\":\"indigo\",\"line_width\":5,\"x\":{\"field\":\"pH\"},\"y\":{\"field\":\"delta_Calcite\"}},\"id\":\"1081\",\"type\":\"Line\"},{\"attributes\":{},\"id\":\"1048\",\"type\":\"AllLabels\"},{\"attributes\":{},\"id\":\"1047\",\"type\":\"BasicTickFormatter\"},{\"attributes\":{\"coordinates\":null,\"group\":null,\"items\":[{\"id\":\"1056\"},{\"id\":\"1076\"},{\"id\":\"1098\"},{\"id\":\"1122\"}]},\"id\":\"1055\",\"type\":\"Legend\"},{\"attributes\":{\"data\":{\"I\":{\"__ndarray__\":\"gVRGJ+lvfj/3D/jPWWh+P0hZRLQyYoA/v+pr5Y8/gj9Zt0p0/26EP5CUyqolv4Y/ymj2A3caiT81mMIGb3iLP7cy+Wj21Y0/hlSGOA4ZkD8RVWaPYEaRP2KOJTEGc5I/W9xsMRyfkz+tF4a1vsqUP8NigrUF9pU/GCL5awQhlz/rfc/AyUuYP2M8Yv1gdpk/Oce9g9Kgmj+T6VpvJMubPxYrlRpb9Zw/5UImiXkfnj/zIuG7gUmfP+U34Hi6OaA/xkoL7anOoD+jt4ldj2OhP7ySm8dq+KE/1J7fDTyNoj+Yg9QAAyKjP+wTRGW/tqM/otgT+XBLpD8=\",\"dtype\":\"float64\",\"order\":\"little\",\"shape\":[31]},\"amount_Ca\":{\"__ndarray__\":\"IDBnmQt16T65n9WCW3jxPr8JIG6ZUfs+ehyFUahFBj/aBCD75rgRP8gZHoNovxo/XjBqO4UTIz8QnM3NKeEpP/ZUB24w1jA/k4XSf0YsNT+XEcoNfOU5P61FDCrM9T4/3ZZF6EkpQj9uuWVZPflEP6uxyECo5kc/eZ2sYvTtSj9wVQWU/AtOP5sJpd/+nlA/Ipo+7sRAUj/EAVZXPupTP9MP5A95mlU/z7ld+55QVz9p1w5d8gtZPwpV4sjKy1o/GkJzgJKPXD9zZDIsxFZeP80ZenF0EGA/peM2Osv2YD+OsXP2Nt5hP4c0/ySNxmI/TnbBrKevYz8=\",\"dtype\":\"float64\",\"order\":\"little\",\"shape\":[31]},\"amount_CaX2\":{\"__ndarray__\":\"pO/7Zhcdbj9B2dkpy0xxP8Z0GgCBKXQ/t13+iucadz8FGIyhLc55P7Da7WHvInw/6bWrvhEZfj9DSWfTEr1/P/DGThPYjoA/rTRxKgskgT9UhDvjf6OBPw8iMkNuEYI/RRsg4B5xgj+9aTtxIMWCP5qMCQF0D4M//SDzAa9Rgz9hPXrnFI2DPyyIAzmqwoM/fx5lykLzgz+Q8+9jjB+EP1I6o84WSIQ/JJ/e9FlthD+cVM2Xuo+EP6s0//WNr4Q/qlRxphzNhD/YiD7ZpOiEP4YXRSJcAoU/9wTB6HAahT9A6hiQCzGFPzqALGlPRoU//srPd1tahT8=\",\"dtype\":\"float64\",\"order\":\"little\",\"shape\":[31]},\"amount_NH4\":{\"__ndarray__\":\"AAAAAAAAAAAAAAAAAAAAQAAAAAAAABBAAAAAAAAAGEAAAAAAAAAgQAAAAAAAACRAAAAAAAAAKEAAAAAAAAAsQAAAAAAAADBAAAAAAAAAMkAAAAAAAAA0QAAAAAAAADZAAAAAAAAAOEAAAAAAAAA6QAAAAAAAADxAAAAAAAAAPkAAAAAAAABAQAAAAAAAAEFAAAAAAAAAQkAAAAAAAABDQAAAAAAAAERAAAAAAAAARUAAAAAAAABGQAAAAAAAAEdAAAAAAAAASEAAAAAAAABJQAAAAAAAAEpAAAAAAAAAS0AAAAAAAABMQAAAAAAAAE1AAAAAAAAATkA=\",\"dtype\":\"float64\",\"order\":\"little\",\"shape\":[31]},\"amount_NaX\":{\"__ndarray__\":\"mpmZmZmZmT+amZmZmZmZP5qZmZmZmZk/mpmZmZmZmT+amZmZmZmZP5qZmZmZmZk/mpmZmZmZmT+amZmZmZmZP5qZmZmZmZk/mpmZmZmZmT+amZmZmZmZP5qZmZmZmZk/mpmZmZmZmT+amZmZmZmZP5qZmZmZmZk/mpmZmZmZmT+amZmZmZmZP5qZmZmZmZk/mpmZmZmZmT+amZmZmZmZP5qZmZmZmZk/mpmZmZmZmT+amZmZmZmZP5qZmZmZmZk/mpmZmZmZmT+amZmZmZmZP5qZmZmZmZk/mpmZmZmZmT+amZmZmZmZP5qZmZmZmZk/mpmZmZmZmT8=\",\"dtype\":\"float64\",\"order\":\"little\",\"shape\":[31]},\"delta_Calcite\":{\"__ndarray__\":\"ACD5betLXT8AoCBP8CtjPwBQeHcO+Wg/AACq+07+bj8AMKzfxUxyPwD4LaahxXQ/AKi6imLpdj8AWAnE0MN4PwCosc/HYno/ADATX4/Sez8ASIcpDB19PwCoOOvtSX4/AIh8nxtffz8AmOuXjjCAPwDoL9a4qYA/ALw3mWgcgT8AZNQBr4mBPwD8EWZk8oE/AMBGuTVXgj8AhPR/rriCPwCMuUFAF4M/AChkJUhzgz8AAIk0E82DPwBQNaDhJIQ/AIyZR+l6hD8AqN6vV8+EPwBsvY9TIoU/AIxoCP5zhT8AqM+ec8SFPwAghgPNE4Y/APgZtB9ihj8=\",\"dtype\":\"float64\",\"order\":\"little\",\"shape\":[31]},\"index\":[92,93,94,95,96,97,98,99,100,101,102,103,104,105,106,107,108,109,110,111,112,113,114,115,116,117,118,119,120,121,122],\"pH\":{\"__ndarray__\":\"Ae49WPukIkDiJMaqroEgQAQyVcT5CCBAr0cdpHN9H0D3bdxnnhEfQFEHL64BvR5AwbiaoH93HkCREwI/nzweQNQJ8qmjCR5ANNbtub/cHUCFMeiAs7QdQHItWdeXkB1AtAXdQsBvHUDoUtCmqFEdQIKmMJjpNR1ATDkFojAcHUCX6fn6OgQdQOAO/MzR7RxAlYKIh8fYHECckrzn9cQcQJ1YO388shxAoehtlX+gHECsplRKp48cQNNQt+mefxxAbHaMYlRwHEAildzZt2EcQAPHwVK7UxxAmJXNZlJGHEDfVk0LcjkcQBNjwGAQLRxA1dBziiQhHEA=\",\"dtype\":\"float64\",\"order\":\"little\",\"shape\":[31]}},\"selected\":{\"id\":\"1120\"},\"selection_policy\":{\"id\":\"1119\"}},\"id\":\"1099\",\"type\":\"ColumnDataSource\"},{\"attributes\":{},\"id\":\"1009\",\"type\":\"DataRange1d\"},{\"attributes\":{\"line_cap\":\"round\",\"line_color\":\"teal\",\"line_width\":5,\"x\":{\"field\":\"pH\"},\"y\":{\"field\":\"delta_Calcite\"}},\"id\":\"1040\",\"type\":\"Line\"},{\"attributes\":{},\"id\":\"1016\",\"type\":\"BasicTicker\"},{\"attributes\":{},\"id\":\"1024\",\"type\":\"WheelZoomTool\"},{\"attributes\":{\"axis\":{\"id\":\"1015\"},\"coordinates\":null,\"group\":null,\"ticker\":null},\"id\":\"1018\",\"type\":\"Grid\"},{\"attributes\":{\"data\":{\"I\":{\"__ndarray__\":\"SqqlFuZ2cT8Vw50kZcV4PwnVoitiHn8/97h7CE2Ogj93adBavXKFP/c/mVDNRIg/yQE27hsJiz/yT/4ik8KNP2a9e/KXOZA/U7JykjCOkT9ozvQ4nd+SP9nK2atILpQ/7QeVwod6lT+jzyNLn8SWP0A4nwbIDJg/Fgy1cjFTmT97+5HKA5iaP4pjfIBh25s/7guUWWgdnT9+2uFGMl6eP2BFBg7WnZ8/7IES5zNuoD+lCfm0/AyhPxgHoW5Nq6E/TSpjQS1Joj/TQ7SmouaiPwck7nuzg6M/it4wFmUgpD9P8B1TvLykPwjbBKe9WKU/8Ij3KG30pT8=\",\"dtype\":\"float64\",\"order\":\"little\",\"shape\":[31]},\"amount_Ca\":{\"__ndarray__\":\"6BMjuW4lST+MxF88UXRVPwGb71qu6ls/my78vWy7YD+/2dDwaTtjP5EEA8TDimU/Ttsbzpe1Zz/U9ugclsNpP/z6J10Bums/ZhaieqWcbT/C4NZnXG5vPxP4XsytmHA/UbbFCrJzcT+JS0Pj8EhyP5ys4lIAGXM/auwayV3kcz8suOd7c6t0P5ygn1OcbnU/xTHJ3CYudj8tOkeIV+p2Pwnmrmpqo3c/aZ5snJRZeD+bPG5SBQ15P8RTWcDmvXk/nwi50F5sej/pe1W8jxh7Pxi9l4eYwns/7X1Ca5VqfD9eF4AsoBB9P70ObmfQtH0/1J+YzjtXfj8=\",\"dtype\":\"float64\",\"order\":\"little\",\"shape\":[31]},\"amount_CaX2\":{\"__ndarray__\":\"iIRBVgh6Uz+epGWGlLNTPxa8fU8dy1M/IAtxqbbZUz9RCzVjHeRTP957f7sY7FM/pMM/MITyUz/PQb/F2fdTP35UAP5j/FM/WROfgVMAVD8Uf2K+yQNUP4BcgZneBlQ/kCqgtaMJVD9rYIpvJgxUP6/QECFxDlQ/tF249YsQVD+tr0p7fRJUP0NtyAZLFFQ/+KaQ/PgVVD8/tQQFixdUPy0KozMEGVQ/7peMJGcaVD/o+SATthtUP/WcievyHFQ/+9l/WB8eVD+UPzvOPB9UP+cjNJNMIFQ/Kys5x08hVD+yBTZpRyJUP3yD8ls0I1Q/Qx0AahckVD8=\",\"dtype\":\"float64\",\"order\":\"little\",\"shape\":[31]},\"amount_NH4\":{\"__ndarray__\":\"AAAAAAAAAAAAAAAAAAAAQAAAAAAAABBAAAAAAAAAGEAAAAAAAAAgQAAAAAAAACRAAAAAAAAAKEAAAAAAAAAsQAAAAAAAADBAAAAAAAAAMkAAAAAAAAA0QAAAAAAAADZAAAAAAAAAOEAAAAAAAAA6QAAAAAAAADxAAAAAAAAAPkAAAAAAAABAQAAAAAAAAEFAAAAAAAAAQkAAAAAAAABDQAAAAAAAAERAAAAAAAAARUAAAAAAAABGQAAAAAAAAEdAAAAAAAAASEAAAAAAAABJQAAAAAAAAEpAAAAAAAAAS0AAAAAAAABMQAAAAAAAAE1AAAAAAAAATkA=\",\"dtype\":\"float64\",\"order\":\"little\",\"shape\":[31]},\"amount_NaX\":{\"__ndarray__\":\"exSuR+F6ZD97FK5H4XpkP3sUrkfhemQ/exSuR+F6ZD97FK5H4XpkP3sUrkfhemQ/exSuR+F6ZD97FK5H4XpkP3sUrkfhemQ/exSuR+F6ZD97FK5H4XpkP3sUrkfhemQ/exSuR+F6ZD97FK5H4XpkP3sUrkfhemQ/exSuR+F6ZD97FK5H4XpkP3sUrkfhemQ/exSuR+F6ZD97FK5H4XpkP3sUrkfhemQ/exSuR+F6ZD97FK5H4XpkP3sUrkfhemQ/exSuR+F6ZD97FK5H4XpkP3sUrkfhemQ/exSuR+F6ZD97FK5H4XpkP3sUrkfhemQ/exSuR+F6ZD8=\",\"dtype\":\"float64\",\"order\":\"little\",\"shape\":[31]},\"delta_Calcite\":{\"__ndarray__\":\"AAAsdEdyDT8AwCeXcA1EPwDAOzOelFA/AOA3rmIvVj8AQKXNwzlbPwAAVMxy4F8/APCiKkMeYj8A0C9E7C5kPwBgj6CcJ2Y/ANDYfzgMaD8AUG+Lqt9pPwDQ5Sk0pGs/AMDCNJ9bbT8AALNCXgdvPwB4Wj1RVHA/AKC8aDUgcT8AAO58x+dxPwBYhbdjq3I/APAgvllrcz8AALzr7id0PwBIyxlg4XQ/AGDDB+OXdT8AEGp5p0t2PwBYbx3Y/HY/AJgMSZurdz8A6BeSE1h4PwBgmE5gAnk/AGBE/52qeT8AOAGp5lB6PwBQniBS9Xo/AEBMS/aXez8=\",\"dtype\":\"float64\",\"order\":\"little\",\"shape\":[31]},\"index\":[30,31,32,33,34,35,36,37,38,39,40,41,42,43,44,45,46,47,48,49,50,51,52,53,54,55,56,57,58,59,60],\"pH\":{\"__ndarray__\":\"Ae49WPukIkDbJMaqroEgQAIyVcT5CCBAtEcdpHN9H0ABbtxnnhEfQFoHL64BvR5AwbiaoH93HkB6EwI/nzweQNsJ8qmjCR5AIdbtub/cHUCQMeiAs7QdQHQtWdeXkB1AygXdQsBvHUDgUtCmqFEdQHmmMJjpNR1APDkFojAcHUCd6fn6OgQdQMkO/MzR7RxAiYKIh8fYHECekrzn9cQcQJxYO388shxAsuhtlX+gHECoplRKp48cQMdQt+mefxxAg3aMYlRwHEAdldzZt2EcQA/HwVK7UxxAsJXNZlJGHED0Vk0LcjkcQApjwGAQLRxAzdBziiQhHEA=\",\"dtype\":\"float64\",\"order\":\"little\",\"shape\":[31]}},\"selected\":{\"id\":\"1074\"},\"selection_policy\":{\"id\":\"1073\"}},\"id\":\"1057\",\"type\":\"ColumnDataSource\"},{\"attributes\":{\"coordinates\":null,\"data_source\":{\"id\":\"1099\"},\"glyph\":{\"id\":\"1101\"},\"group\":null,\"hover_glyph\":null,\"muted_glyph\":{\"id\":\"1103\"},\"nonselection_glyph\":{\"id\":\"1102\"},\"view\":{\"id\":\"1105\"}},\"id\":\"1104\",\"type\":\"GlyphRenderer\"},{\"attributes\":{\"axis_label\":\"AMOUNT OF DISSOLVED CALCITE [MOL]\",\"coordinates\":null,\"formatter\":{\"id\":\"1047\"},\"group\":null,\"major_label_policy\":{\"id\":\"1048\"},\"ticker\":{\"id\":\"1020\"}},\"id\":\"1019\",\"type\":\"LinearAxis\"},{\"attributes\":{\"coordinates\":null,\"data_source\":{\"id\":\"1057\"},\"glyph\":{\"id\":\"1059\"},\"group\":null,\"hover_glyph\":null,\"muted_glyph\":{\"id\":\"1061\"},\"nonselection_glyph\":{\"id\":\"1060\"},\"view\":{\"id\":\"1063\"}},\"id\":\"1062\",\"type\":\"GlyphRenderer\"},{\"attributes\":{\"axis\":{\"id\":\"1019\"},\"coordinates\":null,\"dimension\":1,\"group\":null,\"ticker\":null},\"id\":\"1022\",\"type\":\"Grid\"},{\"attributes\":{},\"id\":\"1020\",\"type\":\"BasicTicker\"},{\"attributes\":{},\"id\":\"1013\",\"type\":\"LinearScale\"},{\"attributes\":{\"line_alpha\":0.2,\"line_cap\":\"round\",\"line_color\":\"darkred\",\"line_width\":5,\"x\":{\"field\":\"pH\"},\"y\":{\"field\":\"delta_Calcite\"}},\"id\":\"1061\",\"type\":\"Line\"},{\"attributes\":{\"source\":{\"id\":\"1057\"}},\"id\":\"1063\",\"type\":\"CDSView\"},{\"attributes\":{},\"id\":\"1027\",\"type\":\"ResetTool\"},{\"attributes\":{},\"id\":\"1026\",\"type\":\"SaveTool\"},{\"attributes\":{\"line_cap\":\"round\",\"line_color\":\"darkred\",\"line_width\":5,\"x\":{\"field\":\"pH\"},\"y\":{\"field\":\"delta_Calcite\"}},\"id\":\"1059\",\"type\":\"Line\"},{\"attributes\":{},\"id\":\"1028\",\"type\":\"HelpTool\"},{\"attributes\":{\"overlay\":{\"id\":\"1029\"}},\"id\":\"1025\",\"type\":\"BoxZoomTool\"},{\"attributes\":{},\"id\":\"1023\",\"type\":\"PanTool\"},{\"attributes\":{\"label\":{\"value\":\"0.0025 mol of NaX\"},\"renderers\":[{\"id\":\"1062\"}]},\"id\":\"1076\",\"type\":\"LegendItem\"},{\"attributes\":{\"line_alpha\":0.1,\"line_cap\":\"round\",\"line_color\":\"darkred\",\"line_width\":5,\"x\":{\"field\":\"pH\"},\"y\":{\"field\":\"delta_Calcite\"}},\"id\":\"1060\",\"type\":\"Line\"},{\"attributes\":{\"line_cap\":\"round\",\"line_color\":\"indigo\",\"line_width\":5,\"x\":{\"field\":\"pH\"},\"y\":{\"field\":\"delta_Calcite\"}},\"id\":\"1079\",\"type\":\"Line\"},{\"attributes\":{\"data\":{\"I\":{\"__ndarray__\":\"qZ2G4DvVdj96mKF1cGd4PzyyFvGvWnw/IyspokeIgD86QC6jtP+CP/HiRa9igYU/zdGlyUYHiD/UHXfIo46KP12LLGICFo0/UVKjYY2cjz97S7dT5RCRP2OveBO7UpI/AsJaZraTkz/Rt5Hyz9OUP0GQaq8GE5Y/A99beV1Rlz/FpvKH2Y6YP4A933CBy5k/0K8FhVwHmz/UxT1nckKcP56IVsjKfJ0/SN8lPG22nj+qYs8eYe+fP4lZd8LWk6A/ccd9mawvoT+cB7xMNcuhP1pdIupzZqI/ODn/VWsBoz/5NFJMHpyjP1TGgWKPNqQ/m9xGCcHQpD8=\",\"dtype\":\"float64\",\"order\":\"little\",\"shape\":[31]},\"amount_Ca\":{\"__ndarray__\":\"5UPjraBo8j5IDWezWrQCPxYhSeBCMxY/stq07M3LJj/8qML6jXQzP5HcDOgE/Dw/CcTAqI20Qz9pFTKI5i1JPzPCm7Lzy04/mnyEvew9Uj+rSK751RhVPxsFZIjo8lc/Vz4yhbXJWj8h4smvr5tdP2SgqcXuM2A/YDv82tOWYT/xnBdQXPZiP4fx4plzUmQ/c9hJQRSrZT+blBcFQwBnP2Ylv38LUmg/nwEc1X2gaT+9nL4SretqP4mpLQyuM2w/yEyhjZZ4bT+Ova3LfLpuP8kHL/52+W8/3LwSjc2acD/Yqt9QfzdxP1DkM0Lb0nE/bpIuhetscj8=\",\"dtype\":\"float64\",\"order\":\"little\",\"shape\":[31]},\"amount_CaX2\":{\"__ndarray__\":\"dPdOG9ayZz/VaWw3uKZsP3sEA1Rj3nA/XqgMXIuwcj9oeo1rRt9zP+eh1oJuqHQ/Bx5b9zY1dT/0WsmYwpx1P5SPlTQh7HU/dbHjEggrdj8C9ppLPl52PzdI0/7ciHY/wiX/Mfusdj9SRopNDsx2Px8X6q4i53Y/JLePKP7+dj+napfMNRR3P5MmQCA8J3c/pCOvn2o4dz/c1VVGCEh3PyG7/yROVnc/t1RBqmpjdz/JD/UGhG93P7fMy/O5enc/7lYdBieFdz+lKm2z4Y53P8CDchn9l3c/jJoBmomgdz97VNJVlah3P2twG44ssHc/H0La8lm3dz8=\",\"dtype\":\"float64\",\"order\":\"little\",\"shape\":[31]},\"amount_NH4\":{\"__ndarray__\":\"AAAAAAAAAAAAAAAAAAAAQAAAAAAAABBAAAAAAAAAGEAAAAAAAAAgQAAAAAAAACRAAAAAAAAAKEAAAAAAAAAsQAAAAAAAADBAAAAAAAAAMkAAAAAAAAA0QAAAAAAAADZAAAAAAAAAOEAAAAAAAAA6QAAAAAAAADxAAAAAAAAAPkAAAAAAAABAQAAAAAAAAEFAAAAAAAAAQkAAAAAAAABDQAAAAAAAAERAAAAAAAAARUAAAAAAAABGQAAAAAAAAEdAAAAAAAAASEAAAAAAAABJQAAAAAAAAEpAAAAAAAAAS0AAAAAAAABMQAAAAAAAAE1AAAAAAAAATkA=\",\"dtype\":\"float64\",\"order\":\"little\",\"shape\":[31]},\"amount_NaX\":{\"__ndarray__\":\"mpmZmZmZiT+amZmZmZmJP5qZmZmZmYk/mpmZmZmZiT+amZmZmZmJP5qZmZmZmYk/mpmZmZmZiT+amZmZmZmJP5qZmZmZmYk/mpmZmZmZiT+amZmZmZmJP5qZmZmZmYk/mpmZmZmZiT+amZmZmZmJP5qZmZmZmYk/mpmZmZmZiT+amZmZmZmJP5qZmZmZmYk/mpmZmZmZiT+amZmZmZmJP5qZmZmZmYk/mpmZmZmZiT+amZmZmZmJP5qZmZmZmYk/mpmZmZmZiT+amZmZmZmJP5qZmZmZmYk/mpmZmZmZiT+amZmZmZmJP5qZmZmZmYk/mpmZmZmZiT8=\",\"dtype\":\"float64\",\"order\":\"little\",\"shape\":[31]},\"delta_Calcite\":{\"__ndarray__\":\"AOAjQiGOUD8AgELN5cFaPwCAbwPK3WI/AOBL2zw9Zz8AkNrah5xqPwAgFufGX20/ALBNnfrGbz8AQAMMNPpwPwCoHE1U/XE/AHB45Dfycj8AKDpsKNxzPwDoH8NLvXQ/AFB/NR2XdT8AWLDbrmp2PwCI8rPOOHc/AHBBuBwCeD8A0NaWGMd4PwBoZY8qiHk/ALCHYqlFej8AKBVr3v96PwAYE4cIt3s/AAADN15rfD8AAIgyDx19PwBIFpxFzH0/AKgh7yZ5fj8AsHe71CN/PwCovTptzH8/APCj5IU5gD8AxHKk5IuAPwCAQTle3YA/ACweDf0tgT8=\",\"dtype\":\"float64\",\"order\":\"little\",\"shape\":[31]},\"index\":[61,62,63,64,65,66,67,68,69,70,71,72,73,74,75,76,77,78,79,80,81,82,83,84,85,86,87,88,89,90,91],\"pH\":{\"__ndarray__\":\"Be49WPukIkDjJMaqroEgQP4xVcT5CCBAsUcdpHN9H0AIbtxnnhEfQFUHL64BvR5Aw7iaoH93HkB8EwI/nzweQM0J8qmjCR5AI9btub/cHUClMeiAs7QdQIUtWdeXkB1A0wXdQsBvHUDTUtCmqFEdQIamMJjpNR1ATjkFojAcHUCb6fn6OgQdQMgO/MzR7RxAlYKIh8fYHECqkrzn9cQcQJdYO388shxArehtlX+gHEClplRKp48cQNhQt+mefxxAfnaMYlRwHEAkldzZt2EcQBbHwVK7UxxArZXNZlJGHEDVVk0LcjkcQBtjwGAQLRxA0NBziiQhHEA=\",\"dtype\":\"float64\",\"order\":\"little\",\"shape\":[31]}},\"selected\":{\"id\":\"1096\"},\"selection_policy\":{\"id\":\"1095\"}},\"id\":\"1077\",\"type\":\"ColumnDataSource\"}],\"root_ids\":[\"1004\"]},\"title\":\"Bokeh Application\",\"version\":\"2.4.2\"}};\n",
       "  const render_items = [{\"docid\":\"08cb66f1-c511-49e1-a0d0-e2b502c2bfd0\",\"root_ids\":[\"1004\"],\"roots\":{\"1004\":\"c99f16fb-aa2e-44ff-8087-9cf97cb3fc3b\"}}];\n",
       "  root.Bokeh.embed.embed_items_notebook(docs_json, render_items);\n",
       "\n",
       "  }\n",
       "  if (root.Bokeh !== undefined) {\n",
       "    embed_document(root);\n",
       "  } else {\n",
       "    let attempts = 0;\n",
       "    const timer = setInterval(function(root) {\n",
       "      if (root.Bokeh !== undefined) {\n",
       "        clearInterval(timer);\n",
       "        embed_document(root);\n",
       "      } else {\n",
       "        attempts++;\n",
       "        if (attempts > 100) {\n",
       "          clearInterval(timer);\n",
       "          console.log(\"Bokeh: ERROR: Unable to run BokehJS code because BokehJS library is missing\");\n",
       "        }\n",
       "      }\n",
       "    }, 10, root)\n",
       "  }\n",
       "})(window);"
      ],
      "application/vnd.bokehjs_exec.v0+json": ""
     },
     "metadata": {
      "application/vnd.bokehjs_exec.v0+json": {
       "id": "1004"
      }
     },
     "output_type": "display_data"
    }
   ],
   "source": [
    "hovertool = HoverTool()\n",
    "hovertool.tooltips = [(\"pH\", \"@pH\"),\n",
    "                      (\"delta(Calcite)\", \"@delta_Calcite mol\"),\n",
    "                      (\"amount(NaX)\", \"@amount_NaX mol\")]\n",
    "\n",
    "p = figure(\n",
    "    title=\"DEPENDENCE OF CALCITE SOLUBILITY ON PH\",\n",
    "    x_axis_label=r'PH [-]',\n",
    "    y_axis_label='AMOUNT OF DISSOLVED CALCITE [MOL]',\n",
    "    sizing_mode=\"scale_width\",\n",
    "    plot_height=300)\n",
    "\n",
    "p.add_tools(hovertool)\n",
    "\n",
    "colors = ['teal', 'darkred', 'indigo', 'coral']\n",
    "for mol_NaX, color in zip(mols_NaX, colors):\n",
    "    df_NaX = ColumnDataSource(data[data['amount_NaX'] == mol_NaX])\n",
    "    p.line(\"pH\", \"delta_Calcite\", legend_label=f'{mol_NaX} mol of NaX', line_width=3, line_cap=\"round\", line_color=color, source=df_NaX)\n",
    "\n",
    "p.legend.location = 'top_right'\n",
    "show(p)\n"
   ]
  },
  {
   "cell_type": "markdown",
   "metadata": {},
   "source": [
    "Finally, we represent the amount of CaX<sub>2</sub> resulting from the reaction NaX + Ca<sup>+2</sup> = CaX<sub>2</sub> + Na<sup>+</sup>, where the level of Ca<sup>+2</sup> ions grows from the dissolved calcite. We see that at lower pH values, we obtain higher amounts of precipitated CaX<sub>2</sub>."
   ]
  },
  {
   "cell_type": "code",
   "execution_count": 8,
   "metadata": {
    "tags": [
     "hide_input"
    ]
   },
   "outputs": [
    {
     "data": {
      "text/html": [
       "\n",
       "\n",
       "\n",
       "\n",
       "\n",
       "\n",
       "  <div class=\"bk-root\" id=\"dca714e9-fa4c-483a-8ebe-87282beea7f2\" data-root-id=\"1220\"></div>\n"
      ]
     },
     "metadata": {},
     "output_type": "display_data"
    },
    {
     "data": {
      "application/javascript": [
       "(function(root) {\n",
       "  function embed_document(root) {\n",
       "    \n",
       "  const docs_json = {\"cb529c03-a4df-4064-ac66-c40d67ddccfc\":{\"defs\":[],\"roots\":{\"references\":[{\"attributes\":{\"below\":[{\"id\":\"1231\"}],\"center\":[{\"id\":\"1234\"},{\"id\":\"1238\"},{\"id\":\"1271\"}],\"height\":300,\"left\":[{\"id\":\"1235\"}],\"renderers\":[{\"id\":\"1259\"},{\"id\":\"1278\"},{\"id\":\"1298\"},{\"id\":\"1320\"}],\"sizing_mode\":\"scale_width\",\"title\":{\"id\":\"1221\"},\"toolbar\":{\"id\":\"1246\"},\"x_range\":{\"id\":\"1223\"},\"x_scale\":{\"id\":\"1227\"},\"y_range\":{\"id\":\"1225\"},\"y_scale\":{\"id\":\"1229\"}},\"id\":\"1220\",\"subtype\":\"Figure\",\"type\":\"Plot\"},{\"attributes\":{\"coordinates\":null,\"data_source\":{\"id\":\"1315\"},\"glyph\":{\"id\":\"1317\"},\"group\":null,\"hover_glyph\":null,\"muted_glyph\":{\"id\":\"1319\"},\"nonselection_glyph\":{\"id\":\"1318\"},\"view\":{\"id\":\"1321\"}},\"id\":\"1320\",\"type\":\"GlyphRenderer\"},{\"attributes\":{\"data\":{\"I\":{\"__ndarray__\":\"gVRGJ+lvfj/3D/jPWWh+P0hZRLQyYoA/v+pr5Y8/gj9Zt0p0/26EP5CUyqolv4Y/ymj2A3caiT81mMIGb3iLP7cy+Wj21Y0/hlSGOA4ZkD8RVWaPYEaRP2KOJTEGc5I/W9xsMRyfkz+tF4a1vsqUP8NigrUF9pU/GCL5awQhlz/rfc/AyUuYP2M8Yv1gdpk/Oce9g9Kgmj+T6VpvJMubPxYrlRpb9Zw/5UImiXkfnj/zIuG7gUmfP+U34Hi6OaA/xkoL7anOoD+jt4ldj2OhP7ySm8dq+KE/1J7fDTyNoj+Yg9QAAyKjP+wTRGW/tqM/otgT+XBLpD8=\",\"dtype\":\"float64\",\"order\":\"little\",\"shape\":[31]},\"amount_Ca\":{\"__ndarray__\":\"IDBnmQt16T65n9WCW3jxPr8JIG6ZUfs+ehyFUahFBj/aBCD75rgRP8gZHoNovxo/XjBqO4UTIz8QnM3NKeEpP/ZUB24w1jA/k4XSf0YsNT+XEcoNfOU5P61FDCrM9T4/3ZZF6EkpQj9uuWVZPflEP6uxyECo5kc/eZ2sYvTtSj9wVQWU/AtOP5sJpd/+nlA/Ipo+7sRAUj/EAVZXPupTP9MP5A95mlU/z7ld+55QVz9p1w5d8gtZPwpV4sjKy1o/GkJzgJKPXD9zZDIsxFZeP80ZenF0EGA/peM2Osv2YD+OsXP2Nt5hP4c0/ySNxmI/TnbBrKevYz8=\",\"dtype\":\"float64\",\"order\":\"little\",\"shape\":[31]},\"amount_CaX2\":{\"__ndarray__\":\"pO/7Zhcdbj9B2dkpy0xxP8Z0GgCBKXQ/t13+iucadz8FGIyhLc55P7Da7WHvInw/6bWrvhEZfj9DSWfTEr1/P/DGThPYjoA/rTRxKgskgT9UhDvjf6OBPw8iMkNuEYI/RRsg4B5xgj+9aTtxIMWCP5qMCQF0D4M//SDzAa9Rgz9hPXrnFI2DPyyIAzmqwoM/fx5lykLzgz+Q8+9jjB+EP1I6o84WSIQ/JJ/e9FlthD+cVM2Xuo+EP6s0//WNr4Q/qlRxphzNhD/YiD7ZpOiEP4YXRSJcAoU/9wTB6HAahT9A6hiQCzGFPzqALGlPRoU//srPd1tahT8=\",\"dtype\":\"float64\",\"order\":\"little\",\"shape\":[31]},\"amount_NH4\":{\"__ndarray__\":\"AAAAAAAAAAAAAAAAAAAAQAAAAAAAABBAAAAAAAAAGEAAAAAAAAAgQAAAAAAAACRAAAAAAAAAKEAAAAAAAAAsQAAAAAAAADBAAAAAAAAAMkAAAAAAAAA0QAAAAAAAADZAAAAAAAAAOEAAAAAAAAA6QAAAAAAAADxAAAAAAAAAPkAAAAAAAABAQAAAAAAAAEFAAAAAAAAAQkAAAAAAAABDQAAAAAAAAERAAAAAAAAARUAAAAAAAABGQAAAAAAAAEdAAAAAAAAASEAAAAAAAABJQAAAAAAAAEpAAAAAAAAAS0AAAAAAAABMQAAAAAAAAE1AAAAAAAAATkA=\",\"dtype\":\"float64\",\"order\":\"little\",\"shape\":[31]},\"amount_NaX\":{\"__ndarray__\":\"mpmZmZmZmT+amZmZmZmZP5qZmZmZmZk/mpmZmZmZmT+amZmZmZmZP5qZmZmZmZk/mpmZmZmZmT+amZmZmZmZP5qZmZmZmZk/mpmZmZmZmT+amZmZmZmZP5qZmZmZmZk/mpmZmZmZmT+amZmZmZmZP5qZmZmZmZk/mpmZmZmZmT+amZmZmZmZP5qZmZmZmZk/mpmZmZmZmT+amZmZmZmZP5qZmZmZmZk/mpmZmZmZmT+amZmZmZmZP5qZmZmZmZk/mpmZmZmZmT+amZmZmZmZP5qZmZmZmZk/mpmZmZmZmT+amZmZmZmZP5qZmZmZmZk/mpmZmZmZmT8=\",\"dtype\":\"float64\",\"order\":\"little\",\"shape\":[31]},\"delta_Calcite\":{\"__ndarray__\":\"ACD5betLXT8AoCBP8CtjPwBQeHcO+Wg/AACq+07+bj8AMKzfxUxyPwD4LaahxXQ/AKi6imLpdj8AWAnE0MN4PwCosc/HYno/ADATX4/Sez8ASIcpDB19PwCoOOvtSX4/AIh8nxtffz8AmOuXjjCAPwDoL9a4qYA/ALw3mWgcgT8AZNQBr4mBPwD8EWZk8oE/AMBGuTVXgj8AhPR/rriCPwCMuUFAF4M/AChkJUhzgz8AAIk0E82DPwBQNaDhJIQ/AIyZR+l6hD8AqN6vV8+EPwBsvY9TIoU/AIxoCP5zhT8AqM+ec8SFPwAghgPNE4Y/APgZtB9ihj8=\",\"dtype\":\"float64\",\"order\":\"little\",\"shape\":[31]},\"index\":[92,93,94,95,96,97,98,99,100,101,102,103,104,105,106,107,108,109,110,111,112,113,114,115,116,117,118,119,120,121,122],\"pH\":{\"__ndarray__\":\"Ae49WPukIkDiJMaqroEgQAQyVcT5CCBAr0cdpHN9H0D3bdxnnhEfQFEHL64BvR5AwbiaoH93HkCREwI/nzweQNQJ8qmjCR5ANNbtub/cHUCFMeiAs7QdQHItWdeXkB1AtAXdQsBvHUDoUtCmqFEdQIKmMJjpNR1ATDkFojAcHUCX6fn6OgQdQOAO/MzR7RxAlYKIh8fYHECckrzn9cQcQJ1YO388shxAoehtlX+gHECsplRKp48cQNNQt+mefxxAbHaMYlRwHEAildzZt2EcQAPHwVK7UxxAmJXNZlJGHEDfVk0LcjkcQBNjwGAQLRxA1dBziiQhHEA=\",\"dtype\":\"float64\",\"order\":\"little\",\"shape\":[31]}},\"selected\":{\"id\":\"1336\"},\"selection_policy\":{\"id\":\"1335\"}},\"id\":\"1315\",\"type\":\"ColumnDataSource\"},{\"attributes\":{\"data\":{\"I\":{\"__ndarray__\":\"IewlZ7DqfD+b0joWD4OBP/Hzeh7wboQ/VdWsh89Fhz8NMLwIow2KPzic863gyYw/upcJLcp8jz+x73I/+hORP2M1pQ9FZpI/REsjrLe1kz9jSTPpqwKVP1RF3xhqTZY/FNd3jC2Wlz/fHtqtJ92YP6klXTKCIpo/2kvwtGBmmz9Nf6vn4aicPxo46nsg6p0/QraY1TMqnz9Yd+RLmDSgPz6cMIqU06A/S/nw0hZyoT9ooyl8JhCiP4TNiiLKraI/7eIuwgdLoz+OzTzL5OejP94mPTNmhKQ/DnLCg5AgpT8rCuLmZ7ylPxOl4DHwV6Y/\",\"dtype\":\"float64\",\"order\":\"little\",\"shape\":[30]},\"amount_Ca\":{\"__ndarray__\":\"ReGMhhufYz9YTInG+YJmPzGNBeSuEWk/PkNpJUZqaz+yiYhYr5ttP7ot+9i/rm8/in3RhqTUcD9xaCGUssdxP8Ptp3EOsnI//du+xeGUcz/1tA0aF3F0P+nI4GZrR3U/kfSYvnkYdj9BwRFbw+R2PwJg21e1rHc/7OMb4KxweD9fDntM+jB5P9SvlYHj7Xk/DKWZxKWnej9sALUqd157P9l29LyHEnw/u1LRYgLEfD+biq+gDXN9P/q/DDTMH34/TvyplF3Kfj8z2zhg3nJ/PwcUY1q0DIA/aOGTPgpfgD+LjwDZe7CAPymisUgTAYE/\",\"dtype\":\"float64\",\"order\":\"little\",\"shape\":[30]},\"amount_CaX2\":{\"__ndarray__\":\"vInYl7LSnDy8idiXstKcPLyJ2Jey0pw8vInYl7LSnDy8idiXstKcPLyJ2Jey0pw8vInYl7LSnDy8idiXstKcPLyJ2Jey0pw8vInYl7LSnDy8idiXstKcPLyJ2Jey0pw8vInYl7LSnDy8idiXstKcPLyJ2Jey0pw8vInYl7LSnDy8idiXstKcPLyJ2Jey0pw8vInYl7LSnDy8idiXstKcPLyJ2Jey0pw8vInYl7LSnDy8idiXstKcPLyJ2Jey0pw8vInYl7LSnDy8idiXstKcPLyJ2Jey0pw8vInYl7LSnDy8idiXstKcPLyJ2Jey0pw8\",\"dtype\":\"float64\",\"order\":\"little\",\"shape\":[30]},\"amount_NH4\":{\"__ndarray__\":\"AAAAAAAAAEAAAAAAAAAQQAAAAAAAABhAAAAAAAAAIEAAAAAAAAAkQAAAAAAAAChAAAAAAAAALEAAAAAAAAAwQAAAAAAAADJAAAAAAAAANEAAAAAAAAA2QAAAAAAAADhAAAAAAAAAOkAAAAAAAAA8QAAAAAAAAD5AAAAAAAAAQEAAAAAAAABBQAAAAAAAAEJAAAAAAAAAQ0AAAAAAAABEQAAAAAAAAEVAAAAAAAAARkAAAAAAAABHQAAAAAAAAEhAAAAAAAAASUAAAAAAAABKQAAAAAAAAEtAAAAAAAAATEAAAAAAAABNQAAAAAAAAE5A\",\"dtype\":\"float64\",\"order\":\"little\",\"shape\":[30]},\"amount_NaX\":{\"__ndarray__\":\"AAAAAAAAAAAAAAAAAAAAAAAAAAAAAAAAAAAAAAAAAAAAAAAAAAAAAAAAAAAAAAAAAAAAAAAAAAAAAAAAAAAAAAAAAAAAAAAAAAAAAAAAAAAAAAAAAAAAAAAAAAAAAAAAAAAAAAAAAAAAAAAAAAAAAAAAAAAAAAAAAAAAAAAAAAAAAAAAAAAAAAAAAAAAAAAAAAAAAAAAAAAAAAAAAAAAAAAAAAAAAAAAAAAAAAAAAAAAAAAAAAAAAAAAAAAAAAAAAAAAAAAAAAAAAAAAAAAAAAAAAAAAAAAAAAAAAAAAAAAAAAAAAAAAAAAAAAAAAAAA\",\"dtype\":\"float64\",\"order\":\"little\",\"shape\":[30]},\"delta_Calcite\":{\"__ndarray__\":\"AIDQKxM6QD8AQMIrjMlLPwCg2VAwAlM/AACh016zVz8AoN85MRZcPwBwYh0pHmA/AEAKUrIYYj8AEKpszv5jPwAgtyeG02U/AADlzyyZZz8AsIJ4l1FpPwDQKBJA/mo/ACCZwVygbD8AwIr67zhuPwAAHvTTyG8/AIBPgmGocD8AsK7urmhxPwBQySOYJXI/AEjNZlrfcj8AoOjMK5ZzPwAYKF88SnQ/APAEBbf7dD8AMONCwqp1PwBgQNaAV3Y/AJjdNhICdz8AgGwCk6p3PwDI+VYdUXg/AGBbH8n1eD8AwDRUrJh5PwDoljPbOXo/\",\"dtype\":\"float64\",\"order\":\"little\",\"shape\":[30]},\"index\":[0,1,2,3,4,5,6,7,8,9,10,11,12,13,14,15,16,17,18,19,20,21,22,23,24,25,26,27,28,29],\"pH\":{\"__ndarray__\":\"xCPGqq6BIED+MVXE+QggQKtHHaRzfR9A+W3cZ54RH0BTBy+uAb0eQM24mqB/dx5AgRMCP588HkDZCfKpowkeQCjW7bm/3B1AoTHogLO0HUBiLVnXl5AdQNMF3ULAbx1AzlLQpqhRHUB4pjCY6TUdQF05BaIwHB1Amen5+joEHUDUDvzM0e0cQI2CiIfH2BxAo5K85/XEHECcWDt/PLIcQLLobZV/oBxAqqZUSqePHEDbULfpnn8cQGx2jGJUcBxAMJXc2bdhHEAWx8FSu1McQK2VzWZSRhxA8lZNC3I5HEATY8BgEC0cQNrQc4okIRxA\",\"dtype\":\"float64\",\"order\":\"little\",\"shape\":[30]}},\"selected\":{\"id\":\"1269\"},\"selection_policy\":{\"id\":\"1268\"}},\"id\":\"1254\",\"type\":\"ColumnDataSource\"},{\"attributes\":{\"source\":{\"id\":\"1273\"}},\"id\":\"1279\",\"type\":\"CDSView\"},{\"attributes\":{},\"id\":\"1336\",\"type\":\"Selection\"},{\"attributes\":{\"coordinates\":null,\"data_source\":{\"id\":\"1273\"},\"glyph\":{\"id\":\"1275\"},\"group\":null,\"hover_glyph\":null,\"muted_glyph\":{\"id\":\"1277\"},\"nonselection_glyph\":{\"id\":\"1276\"},\"view\":{\"id\":\"1279\"}},\"id\":\"1278\",\"type\":\"GlyphRenderer\"},{\"attributes\":{\"line_alpha\":0.1,\"line_cap\":\"round\",\"line_color\":\"coral\",\"line_width\":5,\"x\":{\"field\":\"pH\"},\"y\":{\"field\":\"amount_CaX2\"}},\"id\":\"1318\",\"type\":\"Line\"},{\"attributes\":{},\"id\":\"1290\",\"type\":\"Selection\"},{\"attributes\":{\"coordinates\":null,\"group\":null,\"items\":[{\"id\":\"1272\"},{\"id\":\"1292\"},{\"id\":\"1314\"},{\"id\":\"1338\"}]},\"id\":\"1271\",\"type\":\"Legend\"},{\"attributes\":{\"coordinates\":null,\"data_source\":{\"id\":\"1254\"},\"glyph\":{\"id\":\"1256\"},\"group\":null,\"hover_glyph\":null,\"muted_glyph\":{\"id\":\"1258\"},\"nonselection_glyph\":{\"id\":\"1257\"},\"view\":{\"id\":\"1260\"}},\"id\":\"1259\",\"type\":\"GlyphRenderer\"},{\"attributes\":{},\"id\":\"1289\",\"type\":\"UnionRenderers\"},{\"attributes\":{\"line_alpha\":0.1,\"line_cap\":\"round\",\"line_color\":\"darkred\",\"line_width\":5,\"x\":{\"field\":\"pH\"},\"y\":{\"field\":\"amount_CaX2\"}},\"id\":\"1276\",\"type\":\"Line\"},{\"attributes\":{\"line_cap\":\"round\",\"line_color\":\"indigo\",\"line_width\":5,\"x\":{\"field\":\"pH\"},\"y\":{\"field\":\"amount_CaX2\"}},\"id\":\"1295\",\"type\":\"Line\"},{\"attributes\":{},\"id\":\"1263\",\"type\":\"BasicTickFormatter\"},{\"attributes\":{\"label\":{\"value\":\"0.025 mol of NaX\"},\"renderers\":[{\"id\":\"1320\"}]},\"id\":\"1338\",\"type\":\"LegendItem\"},{\"attributes\":{\"line_alpha\":0.1,\"line_cap\":\"round\",\"line_color\":\"teal\",\"line_width\":5,\"x\":{\"field\":\"pH\"},\"y\":{\"field\":\"amount_CaX2\"}},\"id\":\"1257\",\"type\":\"Line\"},{\"attributes\":{\"line_cap\":\"round\",\"line_color\":\"darkred\",\"line_width\":5,\"x\":{\"field\":\"pH\"},\"y\":{\"field\":\"amount_CaX2\"}},\"id\":\"1275\",\"type\":\"Line\"},{\"attributes\":{\"source\":{\"id\":\"1315\"}},\"id\":\"1321\",\"type\":\"CDSView\"},{\"attributes\":{\"line_alpha\":0.2,\"line_cap\":\"round\",\"line_color\":\"coral\",\"line_width\":5,\"x\":{\"field\":\"pH\"},\"y\":{\"field\":\"amount_CaX2\"}},\"id\":\"1319\",\"type\":\"Line\"},{\"attributes\":{\"label\":{\"value\":\"0.0025 mol of NaX\"},\"renderers\":[{\"id\":\"1278\"}]},\"id\":\"1292\",\"type\":\"LegendItem\"},{\"attributes\":{\"line_alpha\":0.2,\"line_cap\":\"round\",\"line_color\":\"indigo\",\"line_width\":5,\"x\":{\"field\":\"pH\"},\"y\":{\"field\":\"amount_CaX2\"}},\"id\":\"1297\",\"type\":\"Line\"},{\"attributes\":{\"line_alpha\":0.2,\"line_cap\":\"round\",\"line_color\":\"darkred\",\"line_width\":5,\"x\":{\"field\":\"pH\"},\"y\":{\"field\":\"amount_CaX2\"}},\"id\":\"1277\",\"type\":\"Line\"},{\"attributes\":{},\"id\":\"1264\",\"type\":\"AllLabels\"},{\"attributes\":{\"coordinates\":null,\"data_source\":{\"id\":\"1293\"},\"glyph\":{\"id\":\"1295\"},\"group\":null,\"hover_glyph\":null,\"muted_glyph\":{\"id\":\"1297\"},\"nonselection_glyph\":{\"id\":\"1296\"},\"view\":{\"id\":\"1299\"}},\"id\":\"1298\",\"type\":\"GlyphRenderer\"},{\"attributes\":{\"source\":{\"id\":\"1293\"}},\"id\":\"1299\",\"type\":\"CDSView\"},{\"attributes\":{\"label\":{\"value\":\"0.0 mol of NaX\"},\"renderers\":[{\"id\":\"1259\"}]},\"id\":\"1272\",\"type\":\"LegendItem\"},{\"attributes\":{},\"id\":\"1266\",\"type\":\"BasicTickFormatter\"},{\"attributes\":{\"label\":{\"value\":\"0.0125 mol of NaX\"},\"renderers\":[{\"id\":\"1298\"}]},\"id\":\"1314\",\"type\":\"LegendItem\"},{\"attributes\":{},\"id\":\"1267\",\"type\":\"AllLabels\"},{\"attributes\":{},\"id\":\"1236\",\"type\":\"BasicTicker\"},{\"attributes\":{},\"id\":\"1312\",\"type\":\"Selection\"},{\"attributes\":{\"line_alpha\":0.1,\"line_cap\":\"round\",\"line_color\":\"indigo\",\"line_width\":5,\"x\":{\"field\":\"pH\"},\"y\":{\"field\":\"amount_CaX2\"}},\"id\":\"1296\",\"type\":\"Line\"},{\"attributes\":{\"axis\":{\"id\":\"1235\"},\"coordinates\":null,\"dimension\":1,\"group\":null,\"ticker\":null},\"id\":\"1238\",\"type\":\"Grid\"},{\"attributes\":{\"line_cap\":\"round\",\"line_color\":\"coral\",\"line_width\":5,\"x\":{\"field\":\"pH\"},\"y\":{\"field\":\"amount_CaX2\"}},\"id\":\"1317\",\"type\":\"Line\"},{\"attributes\":{\"axis_label\":\"CAX2 AMOUNT [MOL]\",\"coordinates\":null,\"formatter\":{\"id\":\"1263\"},\"group\":null,\"major_label_policy\":{\"id\":\"1264\"},\"ticker\":{\"id\":\"1236\"}},\"id\":\"1235\",\"type\":\"LinearAxis\"},{\"attributes\":{\"tools\":[{\"id\":\"1239\"},{\"id\":\"1240\"},{\"id\":\"1241\"},{\"id\":\"1242\"},{\"id\":\"1243\"},{\"id\":\"1244\"},{\"id\":\"1219\"}]},\"id\":\"1246\",\"type\":\"Toolbar\"},{\"attributes\":{},\"id\":\"1240\",\"type\":\"WheelZoomTool\"},{\"attributes\":{\"line_alpha\":0.2,\"line_cap\":\"round\",\"line_color\":\"teal\",\"line_width\":5,\"x\":{\"field\":\"pH\"},\"y\":{\"field\":\"amount_CaX2\"}},\"id\":\"1258\",\"type\":\"Line\"},{\"attributes\":{\"axis\":{\"id\":\"1231\"},\"coordinates\":null,\"group\":null,\"ticker\":null},\"id\":\"1234\",\"type\":\"Grid\"},{\"attributes\":{},\"id\":\"1243\",\"type\":\"ResetTool\"},{\"attributes\":{},\"id\":\"1225\",\"type\":\"DataRange1d\"},{\"attributes\":{},\"id\":\"1232\",\"type\":\"BasicTicker\"},{\"attributes\":{\"data\":{\"I\":{\"__ndarray__\":\"qZ2G4DvVdj96mKF1cGd4PzyyFvGvWnw/IyspokeIgD86QC6jtP+CP/HiRa9igYU/zdGlyUYHiD/UHXfIo46KP12LLGICFo0/UVKjYY2cjz97S7dT5RCRP2OveBO7UpI/AsJaZraTkz/Rt5Hyz9OUP0GQaq8GE5Y/A99beV1Rlz/FpvKH2Y6YP4A933CBy5k/0K8FhVwHmz/UxT1nckKcP56IVsjKfJ0/SN8lPG22nj+qYs8eYe+fP4lZd8LWk6A/ccd9mawvoT+cB7xMNcuhP1pdIupzZqI/ODn/VWsBoz/5NFJMHpyjP1TGgWKPNqQ/m9xGCcHQpD8=\",\"dtype\":\"float64\",\"order\":\"little\",\"shape\":[31]},\"amount_Ca\":{\"__ndarray__\":\"5UPjraBo8j5IDWezWrQCPxYhSeBCMxY/stq07M3LJj/8qML6jXQzP5HcDOgE/Dw/CcTAqI20Qz9pFTKI5i1JPzPCm7Lzy04/mnyEvew9Uj+rSK751RhVPxsFZIjo8lc/Vz4yhbXJWj8h4smvr5tdP2SgqcXuM2A/YDv82tOWYT/xnBdQXPZiP4fx4plzUmQ/c9hJQRSrZT+blBcFQwBnP2Ylv38LUmg/nwEc1X2gaT+9nL4SretqP4mpLQyuM2w/yEyhjZZ4bT+Ova3LfLpuP8kHL/52+W8/3LwSjc2acD/Yqt9QfzdxP1DkM0Lb0nE/bpIuhetscj8=\",\"dtype\":\"float64\",\"order\":\"little\",\"shape\":[31]},\"amount_CaX2\":{\"__ndarray__\":\"dPdOG9ayZz/VaWw3uKZsP3sEA1Rj3nA/XqgMXIuwcj9oeo1rRt9zP+eh1oJuqHQ/Bx5b9zY1dT/0WsmYwpx1P5SPlTQh7HU/dbHjEggrdj8C9ppLPl52PzdI0/7ciHY/wiX/Mfusdj9SRopNDsx2Px8X6q4i53Y/JLePKP7+dj+napfMNRR3P5MmQCA8J3c/pCOvn2o4dz/c1VVGCEh3PyG7/yROVnc/t1RBqmpjdz/JD/UGhG93P7fMy/O5enc/7lYdBieFdz+lKm2z4Y53P8CDchn9l3c/jJoBmomgdz97VNJVlah3P2twG44ssHc/H0La8lm3dz8=\",\"dtype\":\"float64\",\"order\":\"little\",\"shape\":[31]},\"amount_NH4\":{\"__ndarray__\":\"AAAAAAAAAAAAAAAAAAAAQAAAAAAAABBAAAAAAAAAGEAAAAAAAAAgQAAAAAAAACRAAAAAAAAAKEAAAAAAAAAsQAAAAAAAADBAAAAAAAAAMkAAAAAAAAA0QAAAAAAAADZAAAAAAAAAOEAAAAAAAAA6QAAAAAAAADxAAAAAAAAAPkAAAAAAAABAQAAAAAAAAEFAAAAAAAAAQkAAAAAAAABDQAAAAAAAAERAAAAAAAAARUAAAAAAAABGQAAAAAAAAEdAAAAAAAAASEAAAAAAAABJQAAAAAAAAEpAAAAAAAAAS0AAAAAAAABMQAAAAAAAAE1AAAAAAAAATkA=\",\"dtype\":\"float64\",\"order\":\"little\",\"shape\":[31]},\"amount_NaX\":{\"__ndarray__\":\"mpmZmZmZiT+amZmZmZmJP5qZmZmZmYk/mpmZmZmZiT+amZmZmZmJP5qZmZmZmYk/mpmZmZmZiT+amZmZmZmJP5qZmZmZmYk/mpmZmZmZiT+amZmZmZmJP5qZmZmZmYk/mpmZmZmZiT+amZmZmZmJP5qZmZmZmYk/mpmZmZmZiT+amZmZmZmJP5qZmZmZmYk/mpmZmZmZiT+amZmZmZmJP5qZmZmZmYk/mpmZmZmZiT+amZmZmZmJP5qZmZmZmYk/mpmZmZmZiT+amZmZmZmJP5qZmZmZmYk/mpmZmZmZiT+amZmZmZmJP5qZmZmZmYk/mpmZmZmZiT8=\",\"dtype\":\"float64\",\"order\":\"little\",\"shape\":[31]},\"delta_Calcite\":{\"__ndarray__\":\"AOAjQiGOUD8AgELN5cFaPwCAbwPK3WI/AOBL2zw9Zz8AkNrah5xqPwAgFufGX20/ALBNnfrGbz8AQAMMNPpwPwCoHE1U/XE/AHB45Dfycj8AKDpsKNxzPwDoH8NLvXQ/AFB/NR2XdT8AWLDbrmp2PwCI8rPOOHc/AHBBuBwCeD8A0NaWGMd4PwBoZY8qiHk/ALCHYqlFej8AKBVr3v96PwAYE4cIt3s/AAADN15rfD8AAIgyDx19PwBIFpxFzH0/AKgh7yZ5fj8AsHe71CN/PwCovTptzH8/APCj5IU5gD8AxHKk5IuAPwCAQTle3YA/ACweDf0tgT8=\",\"dtype\":\"float64\",\"order\":\"little\",\"shape\":[31]},\"index\":[61,62,63,64,65,66,67,68,69,70,71,72,73,74,75,76,77,78,79,80,81,82,83,84,85,86,87,88,89,90,91],\"pH\":{\"__ndarray__\":\"Be49WPukIkDjJMaqroEgQP4xVcT5CCBAsUcdpHN9H0AIbtxnnhEfQFUHL64BvR5Aw7iaoH93HkB8EwI/nzweQM0J8qmjCR5AI9btub/cHUClMeiAs7QdQIUtWdeXkB1A0wXdQsBvHUDTUtCmqFEdQIamMJjpNR1ATjkFojAcHUCb6fn6OgQdQMgO/MzR7RxAlYKIh8fYHECqkrzn9cQcQJdYO388shxArehtlX+gHEClplRKp48cQNhQt+mefxxAfnaMYlRwHEAkldzZt2EcQBbHwVK7UxxArZXNZlJGHEDVVk0LcjkcQBtjwGAQLRxA0NBziiQhHEA=\",\"dtype\":\"float64\",\"order\":\"little\",\"shape\":[31]}},\"selected\":{\"id\":\"1312\"},\"selection_policy\":{\"id\":\"1311\"}},\"id\":\"1293\",\"type\":\"ColumnDataSource\"},{\"attributes\":{},\"id\":\"1242\",\"type\":\"SaveTool\"},{\"attributes\":{},\"id\":\"1335\",\"type\":\"UnionRenderers\"},{\"attributes\":{\"bottom_units\":\"screen\",\"coordinates\":null,\"fill_alpha\":0.5,\"fill_color\":\"lightgrey\",\"group\":null,\"left_units\":\"screen\",\"level\":\"overlay\",\"line_alpha\":1.0,\"line_color\":\"black\",\"line_dash\":[4,4],\"line_width\":2,\"right_units\":\"screen\",\"syncable\":false,\"top_units\":\"screen\"},\"id\":\"1245\",\"type\":\"BoxAnnotation\"},{\"attributes\":{\"axis_label\":\"PH [-]\",\"coordinates\":null,\"formatter\":{\"id\":\"1266\"},\"group\":null,\"major_label_policy\":{\"id\":\"1267\"},\"ticker\":{\"id\":\"1232\"}},\"id\":\"1231\",\"type\":\"LinearAxis\"},{\"attributes\":{\"overlay\":{\"id\":\"1245\"}},\"id\":\"1241\",\"type\":\"BoxZoomTool\"},{\"attributes\":{},\"id\":\"1239\",\"type\":\"PanTool\"},{\"attributes\":{},\"id\":\"1268\",\"type\":\"UnionRenderers\"},{\"attributes\":{},\"id\":\"1244\",\"type\":\"HelpTool\"},{\"attributes\":{\"source\":{\"id\":\"1254\"}},\"id\":\"1260\",\"type\":\"CDSView\"},{\"attributes\":{},\"id\":\"1311\",\"type\":\"UnionRenderers\"},{\"attributes\":{},\"id\":\"1269\",\"type\":\"Selection\"},{\"attributes\":{},\"id\":\"1229\",\"type\":\"LinearScale\"},{\"attributes\":{\"line_cap\":\"round\",\"line_color\":\"teal\",\"line_width\":5,\"x\":{\"field\":\"pH\"},\"y\":{\"field\":\"amount_CaX2\"}},\"id\":\"1256\",\"type\":\"Line\"},{\"attributes\":{\"coordinates\":null,\"group\":null,\"text\":\"DEPENDENCE OF CAX2 DISTRIBUTION ON PH\"},\"id\":\"1221\",\"type\":\"Title\"},{\"attributes\":{},\"id\":\"1223\",\"type\":\"DataRange1d\"},{\"attributes\":{\"callback\":null,\"tooltips\":[[\"pH\",\"@pH\"],[\"delta(Calcite)\",\"@delta_Calcite mol\"],[\"amount(NaX)\",\"@amount_NaX mol\"]]},\"id\":\"1219\",\"type\":\"HoverTool\"},{\"attributes\":{\"data\":{\"I\":{\"__ndarray__\":\"SqqlFuZ2cT8Vw50kZcV4PwnVoitiHn8/97h7CE2Ogj93adBavXKFP/c/mVDNRIg/yQE27hsJiz/yT/4ik8KNP2a9e/KXOZA/U7JykjCOkT9ozvQ4nd+SP9nK2atILpQ/7QeVwod6lT+jzyNLn8SWP0A4nwbIDJg/Fgy1cjFTmT97+5HKA5iaP4pjfIBh25s/7guUWWgdnT9+2uFGMl6eP2BFBg7WnZ8/7IES5zNuoD+lCfm0/AyhPxgHoW5Nq6E/TSpjQS1Joj/TQ7SmouaiPwck7nuzg6M/it4wFmUgpD9P8B1TvLykPwjbBKe9WKU/8Ij3KG30pT8=\",\"dtype\":\"float64\",\"order\":\"little\",\"shape\":[31]},\"amount_Ca\":{\"__ndarray__\":\"6BMjuW4lST+MxF88UXRVPwGb71qu6ls/my78vWy7YD+/2dDwaTtjP5EEA8TDimU/Ttsbzpe1Zz/U9ugclsNpP/z6J10Bums/ZhaieqWcbT/C4NZnXG5vPxP4XsytmHA/UbbFCrJzcT+JS0Pj8EhyP5ys4lIAGXM/auwayV3kcz8suOd7c6t0P5ygn1OcbnU/xTHJ3CYudj8tOkeIV+p2Pwnmrmpqo3c/aZ5snJRZeD+bPG5SBQ15P8RTWcDmvXk/nwi50F5sej/pe1W8jxh7Pxi9l4eYwns/7X1Ca5VqfD9eF4AsoBB9P70ObmfQtH0/1J+YzjtXfj8=\",\"dtype\":\"float64\",\"order\":\"little\",\"shape\":[31]},\"amount_CaX2\":{\"__ndarray__\":\"iIRBVgh6Uz+epGWGlLNTPxa8fU8dy1M/IAtxqbbZUz9RCzVjHeRTP957f7sY7FM/pMM/MITyUz/PQb/F2fdTP35UAP5j/FM/WROfgVMAVD8Uf2K+yQNUP4BcgZneBlQ/kCqgtaMJVD9rYIpvJgxUP6/QECFxDlQ/tF249YsQVD+tr0p7fRJUP0NtyAZLFFQ/+KaQ/PgVVD8/tQQFixdUPy0KozMEGVQ/7peMJGcaVD/o+SATthtUP/WcievyHFQ/+9l/WB8eVD+UPzvOPB9UP+cjNJNMIFQ/Kys5x08hVD+yBTZpRyJUP3yD8ls0I1Q/Qx0AahckVD8=\",\"dtype\":\"float64\",\"order\":\"little\",\"shape\":[31]},\"amount_NH4\":{\"__ndarray__\":\"AAAAAAAAAAAAAAAAAAAAQAAAAAAAABBAAAAAAAAAGEAAAAAAAAAgQAAAAAAAACRAAAAAAAAAKEAAAAAAAAAsQAAAAAAAADBAAAAAAAAAMkAAAAAAAAA0QAAAAAAAADZAAAAAAAAAOEAAAAAAAAA6QAAAAAAAADxAAAAAAAAAPkAAAAAAAABAQAAAAAAAAEFAAAAAAAAAQkAAAAAAAABDQAAAAAAAAERAAAAAAAAARUAAAAAAAABGQAAAAAAAAEdAAAAAAAAASEAAAAAAAABJQAAAAAAAAEpAAAAAAAAAS0AAAAAAAABMQAAAAAAAAE1AAAAAAAAATkA=\",\"dtype\":\"float64\",\"order\":\"little\",\"shape\":[31]},\"amount_NaX\":{\"__ndarray__\":\"exSuR+F6ZD97FK5H4XpkP3sUrkfhemQ/exSuR+F6ZD97FK5H4XpkP3sUrkfhemQ/exSuR+F6ZD97FK5H4XpkP3sUrkfhemQ/exSuR+F6ZD97FK5H4XpkP3sUrkfhemQ/exSuR+F6ZD97FK5H4XpkP3sUrkfhemQ/exSuR+F6ZD97FK5H4XpkP3sUrkfhemQ/exSuR+F6ZD97FK5H4XpkP3sUrkfhemQ/exSuR+F6ZD97FK5H4XpkP3sUrkfhemQ/exSuR+F6ZD97FK5H4XpkP3sUrkfhemQ/exSuR+F6ZD97FK5H4XpkP3sUrkfhemQ/exSuR+F6ZD8=\",\"dtype\":\"float64\",\"order\":\"little\",\"shape\":[31]},\"delta_Calcite\":{\"__ndarray__\":\"AAAsdEdyDT8AwCeXcA1EPwDAOzOelFA/AOA3rmIvVj8AQKXNwzlbPwAAVMxy4F8/APCiKkMeYj8A0C9E7C5kPwBgj6CcJ2Y/ANDYfzgMaD8AUG+Lqt9pPwDQ5Sk0pGs/AMDCNJ9bbT8AALNCXgdvPwB4Wj1RVHA/AKC8aDUgcT8AAO58x+dxPwBYhbdjq3I/APAgvllrcz8AALzr7id0PwBIyxlg4XQ/AGDDB+OXdT8AEGp5p0t2PwBYbx3Y/HY/AJgMSZurdz8A6BeSE1h4PwBgmE5gAnk/AGBE/52qeT8AOAGp5lB6PwBQniBS9Xo/AEBMS/aXez8=\",\"dtype\":\"float64\",\"order\":\"little\",\"shape\":[31]},\"index\":[30,31,32,33,34,35,36,37,38,39,40,41,42,43,44,45,46,47,48,49,50,51,52,53,54,55,56,57,58,59,60],\"pH\":{\"__ndarray__\":\"Ae49WPukIkDbJMaqroEgQAIyVcT5CCBAtEcdpHN9H0ABbtxnnhEfQFoHL64BvR5AwbiaoH93HkB6EwI/nzweQNsJ8qmjCR5AIdbtub/cHUCQMeiAs7QdQHQtWdeXkB1AygXdQsBvHUDgUtCmqFEdQHmmMJjpNR1APDkFojAcHUCd6fn6OgQdQMkO/MzR7RxAiYKIh8fYHECekrzn9cQcQJxYO388shxAsuhtlX+gHECoplRKp48cQMdQt+mefxxAg3aMYlRwHEAdldzZt2EcQA/HwVK7UxxAsJXNZlJGHED0Vk0LcjkcQApjwGAQLRxAzdBziiQhHEA=\",\"dtype\":\"float64\",\"order\":\"little\",\"shape\":[31]}},\"selected\":{\"id\":\"1290\"},\"selection_policy\":{\"id\":\"1289\"}},\"id\":\"1273\",\"type\":\"ColumnDataSource\"},{\"attributes\":{},\"id\":\"1227\",\"type\":\"LinearScale\"}],\"root_ids\":[\"1220\"]},\"title\":\"Bokeh Application\",\"version\":\"2.4.2\"}};\n",
       "  const render_items = [{\"docid\":\"cb529c03-a4df-4064-ac66-c40d67ddccfc\",\"root_ids\":[\"1220\"],\"roots\":{\"1220\":\"dca714e9-fa4c-483a-8ebe-87282beea7f2\"}}];\n",
       "  root.Bokeh.embed.embed_items_notebook(docs_json, render_items);\n",
       "\n",
       "  }\n",
       "  if (root.Bokeh !== undefined) {\n",
       "    embed_document(root);\n",
       "  } else {\n",
       "    let attempts = 0;\n",
       "    const timer = setInterval(function(root) {\n",
       "      if (root.Bokeh !== undefined) {\n",
       "        clearInterval(timer);\n",
       "        embed_document(root);\n",
       "      } else {\n",
       "        attempts++;\n",
       "        if (attempts > 100) {\n",
       "          clearInterval(timer);\n",
       "          console.log(\"Bokeh: ERROR: Unable to run BokehJS code because BokehJS library is missing\");\n",
       "        }\n",
       "      }\n",
       "    }, 10, root)\n",
       "  }\n",
       "})(window);"
      ],
      "application/vnd.bokehjs_exec.v0+json": ""
     },
     "metadata": {
      "application/vnd.bokehjs_exec.v0+json": {
       "id": "1220"
      }
     },
     "output_type": "display_data"
    }
   ],
   "source": [
    "hovertool = HoverTool()\n",
    "hovertool.tooltips = [(\"pH\", \"@pH\"),\n",
    "                      (\"delta(Calcite)\", \"@delta_Calcite mol\"),\n",
    "                      (\"amount(NaX)\", \"@amount_NaX mol\")]\n",
    "\n",
    "p = figure(\n",
    "    title=\"DEPENDENCE OF CAX2 DISTRIBUTION ON PH\",\n",
    "    x_axis_label=r'PH [-]',\n",
    "    y_axis_label='CAX2 AMOUNT [MOL]',\n",
    "    sizing_mode=\"scale_width\",\n",
    "    plot_height=300)\n",
    "\n",
    "p.add_tools(hovertool)\n",
    "\n",
    "colors = ['teal', 'darkred', 'indigo', 'coral']\n",
    "for mol_NaX, color in zip(mols_NaX, colors):\n",
    "    df_NaX = ColumnDataSource(data[data['amount_NaX'] == mol_NaX])\n",
    "    p.line(\"pH\", \"amount_CaX2\", legend_label=f'{mol_NaX} mol of NaX', line_width=3, line_cap=\"round\", line_color=color, source=df_NaX)\n",
    "\n",
    "p.legend.location = 'top_right'\n",
    "show(p)"
   ]
  },
  {
   "cell_type": "markdown",
   "metadata": {},
   "source": [
    "The numerical experiment performed in this study showed the effect of carbonate mineral solubility (represented by calcite) on the exchangeable cations in the presence of the ion exchanger X<sup>-</sup> occupied by sodium ions.\n"
   ]
  }
 ],
 "metadata": {
  "language_info": {
   "codemirror_mode": {
    "name": "ipython",
    "version": 3
   },
   "file_extension": ".py",
   "mimetype": "text/x-python",
   "name": "python",
   "nbconvert_exporter": "python",
   "pygments_lexer": "ipython3",
   "version": "3.9.10"
  }
 },
 "nbformat": 4,
 "nbformat_minor": 1
}
