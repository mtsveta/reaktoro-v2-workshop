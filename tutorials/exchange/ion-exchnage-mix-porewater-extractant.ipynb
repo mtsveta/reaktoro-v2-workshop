{
 "cells": [
  {
   "cell_type": "markdown",
   "metadata": {},
   "source": [
    "# Extraction of exchangeable cations in dune sand\n",
    "\n",
    "This tutorial models an extraction of exchangeable cations in dune sand discussed in the previous tutorial. The extractant is represented by the 1-molal NaCl brine. Usually, the extraction must be repeated more than once since not all CaX<sub>2</sub> is displaced in the first step.\n",
    "\n",
    "```{note}\n",
    "According to {cite}`Appelo2005`, due to the low CEC (cation exchange capacity) of the sample, the low concentrations can be analyzed only if pure NaCl is used in the extraction.\n",
    "```\n",
    "\n",
    "Below, we set up the chemical system based on the PHREEQC database phreeqc.dat."
   ]
  },
  {
   "cell_type": "code",
   "execution_count": 1,
   "metadata": {},
   "outputs": [],
   "source": [
    "from reaktoro import *\n",
    "\n",
    "db = PhreeqcDatabase(\"phreeqc.dat\")"
   ]
  },
  {
   "cell_type": "markdown",
   "metadata": {},
   "source": [
    "Unlike the previous tutorial, the aqueous phase of this chemical system is defined by the list of selected species (that matter the most for this numerical experiment)."
   ]
  },
  {
   "cell_type": "code",
   "execution_count": 2,
   "metadata": {
    "tags": [
     "remove_output"
    ]
   },
   "outputs": [
    {
     "data": {
      "text/plain": [
       "<reaktoro.reaktoro4py.AqueousPhase at 0x7fe28dabe630>"
      ]
     },
     "execution_count": 2,
     "metadata": {},
     "output_type": "execute_result"
    }
   ],
   "source": [
    "# Define an aqueous phase\n",
    "solution = AqueousPhase(\"H2O Na+ Cl- H+ OH- K+ Ca+2 Mg+2\")\n",
    "solution.setActivityModel(ActivityModelHKF())"
   ]
  },
  {
   "cell_type": "markdown",
   "metadata": {},
   "source": [
    "The ion exchange phase is represented by the three species, which activities are to be calculated by the Vanselow approach (using species' molar fractions)."
   ]
  },
  {
   "cell_type": "code",
   "execution_count": 3,
   "metadata": {},
   "outputs": [],
   "source": [
    "# Define an ion exchange phase\n",
    "exchange = IonExchangePhase(\"CaX2 MgX2 NaX\")\n",
    "exchange.setActivityModel(ActivityModelIonExchangeVanselow())\n",
    "\n",
    "# Create the chemical system\n",
    "system = ChemicalSystem(db, solution, exchange)\n",
    "\n",
    "# Calculate aqueous and exchange properties\n",
    "aqprops = AqueousProps(system)\n",
    "exprops = IonExchangeProps(system)\n",
    "solver = EquilibriumSolver(system)"
   ]
  },
  {
   "cell_type": "markdown",
   "metadata": {},
   "source": [
    "As the first step, we try to reproduce the following PHREEQC script:\n",
    "\n",
    "```text\n",
    "# Define exchanger and solutions\n",
    "SOLUTION 1 # Pore water\n",
    "Na 1.1     # mmols\n",
    "Mg 0.48\n",
    "Ca 1.9\n",
    "EXCHANGE 1 # 5 g soil with CEC = 10 meq/kg, or 0.05 mmol X-\n",
    "-equilibrate 1\n",
    "X 0.05e-3 # moles\n",
    "END\n",
    "```\n",
    "\n",
    "In particular, we equilibrate 5 g of sand with 1 kg of porewater. Since the exchanger is given by the NaX amount, we remove the corresponding amount of Na<sup>+</sup> to achieve results similar to PHREEQC."
   ]
  },
  {
   "cell_type": "code",
   "execution_count": 4,
   "metadata": {},
   "outputs": [],
   "source": [
    "# Define porewater\n",
    "state = ChemicalState(system)\n",
    "state.setTemperature(25.0, \"celsius\")\n",
    "state.setPressure(1.0, \"atm\")\n",
    "state.add(\"H2O\", 1.0, \"kg\")\n",
    "state.add(\"Na+\", 1.1, \"mmol\")\n",
    "state.add(\"Mg+2\", 0.48, \"mmol\")\n",
    "state.add(\"Ca+2\", 1.9, \"mmol\")\n",
    "state.add(\"NaX\", 0.05e-3, \"mol\")\n",
    "state.add(\"Na+\", -0.05e-3, \"mol\")"
   ]
  },
  {
   "cell_type": "markdown",
   "metadata": {},
   "source": [
    "Next, we equilibrate this chemical state and update aqueous and exchange properties, respectively."
   ]
  },
  {
   "cell_type": "code",
   "execution_count": 5,
   "metadata": {},
   "outputs": [],
   "source": [
    "solver.solve(state)\n",
    "aqprops.update(state)\n",
    "exprops.update(state)"
   ]
  },
  {
   "cell_type": "markdown",
   "metadata": {},
   "source": [
    "Instead of printing out a complete table of the aqueous and exchange properties, one can fetch only concrete properties, e.g., species amounts, equivalence fractions, etc. Below, we output ionic strength, the charge of the obtained solution, and its pH. Besides, we are also interested to track the amount of exchangeable cations CaX<sub>2</sub> and MgX<sub>2</sub> alongside NaX."
   ]
  },
  {
   "cell_type": "code",
   "execution_count": 6,
   "metadata": {},
   "outputs": [
    {
     "name": "stdout",
     "output_type": "stream",
     "text": [
      "Porewater in equilibrium with exchanger X:\n",
      "------------------------------------------\n",
      "I  = 0.005260 mol/kgw\n",
      "Z  = 0.005810 eq/kgw\n",
      "pH = 6.997116\n",
      "pE = -6.997103\n",
      "\n",
      "n(CaX2) = 2.146233e-05 mole\n",
      "n(MgX2) = 3.420223e-06 mole\n",
      "n(NaX)  = 2.349000e-07 mole\n",
      "\n",
      "beta(CaX2) = 8.584931e-01\n",
      "beta(MgX2) = 1.368089e-01\n",
      "beta(NaX)  = 4.698000e-03\n"
     ]
    }
   ],
   "source": [
    "print(\"Porewater in equilibrium with exchanger X:\")\n",
    "print(\"------------------------------------------\")\n",
    "print(f\"I  = {aqprops.ionicStrength()} mol/kgw\")\n",
    "print(f\"Z  = {state.charge()} eq/kgw\")\n",
    "print(f\"pH = {aqprops.pH()}\\n\")\n",
    "\n",
    "print(f\"n(CaX2) = {exprops.speciesAmount('CaX2')} mole\")\n",
    "print(f\"n(MgX2) = {exprops.speciesAmount('MgX2')} mole\")\n",
    "print(f\"n(NaX)  = {exprops.speciesAmount('NaX')} mole\\n\")"
   ]
  },
  {
   "cell_type": "markdown",
   "metadata": {},
   "source": [
    "As the second step, we try to replicate the PHREEQC script\n",
    "\n",
    "```text\n",
    "# Mix exchanger with 20 g of extractant\n",
    "SOLUTION 2 # Extractant solution\n",
    "Na 1e3\n",
    "Cl 1e3\n",
    "USE exchange 1   # ... put 5 g soil in centrifuge tube calculated before\n",
    "MIX\n",
    "2 20e-3          # ... add 20 g 1M NaCl\n",
    "SAVE exchange 1\n",
    "SAVE solution 3 # centrifuge and decant\n",
    "END\n",
    "```\n",
    "\n",
    "Here, we place 5 g of soil in a centrifuge tube and extract cations with 20 mL 1-molal NaCl-brine. This equilibration step is accompanied with the set of the following exchange reactions:\n",
    "\n",
    "$$\n",
    "\\begin{alignat}{2}\n",
    "{\\rm Na}^+ + \\tfrac{1}{2} {\\rm CaX}_2 & \\rightleftharpoons \\tfrac{1}{2} {\\rm Ca^{+2}} + {\\rm NaX}\\\\\n",
    "{\\rm Na}^+ + \\tfrac{1}{2} {\\rm MgX}_2 & \\rightleftharpoons \\tfrac{1}{2} {\\rm Mg^{+2}} + {\\rm NaX}\n",
    "\\end{alignat}\n",
    "$$"
   ]
  },
  {
   "cell_type": "code",
   "execution_count": 7,
   "metadata": {},
   "outputs": [],
   "source": [
    "scale = 20e-3\n",
    "state.add(\"H2O\", scale * 1.0, \"kg\")\n",
    "state.add(\"Na+\", scale * 1e3, \"mmol\")\n",
    "state.add(\"Cl-\", scale * 1e3, \"mmol\")\n",
    "\n",
    "solver.solve(state)\n",
    "aqprops.update(state)\n",
    "exprops.update(state)"
   ]
  },
  {
   "cell_type": "markdown",
   "metadata": {},
   "source": [
    "This time, in addition to the ion exchange properties of concrete species, we can inspect the amounts of aqueous ions."
   ]
  },
  {
   "cell_type": "code",
   "execution_count": 8,
   "metadata": {
    "pycharm": {
     "name": "#%%\n"
    }
   },
   "outputs": [
    {
     "name": "stdout",
     "output_type": "stream",
     "text": [
      "Mix exchanger with 20 g of extractant:\n",
      "--------------------------------------\n",
      "I  = 0.024768 mol/kgw\n",
      "Z  = 0.005810 eq/kgw\n",
      "pH = 6.996740\n",
      "pE = -6.996582\n",
      "\n",
      "n(CaX2) = 1.967215e-05 mole\n",
      "n(MgX2) = 3.096759e-06 mole\n",
      "n(NaX)  = 4.462187e-06 mole\n",
      "\n",
      "m(Ca+2) = 1.843534e-03 molal\n",
      "m(Mg+2) = 4.675712e-04 molal\n",
      "m(Cl-)  = 1.960864e-02 molal\n",
      "m(Na+)  = 2.068274e-02 molal\n"
     ]
    }
   ],
   "source": [
    "print(\"Mix exchanger with 20 g of extractant:\")\n",
    "print(\"--------------------------------------\")\n",
    "print(f\"I  = {aqprops.ionicStrength()} mol/kgw\")\n",
    "print(f\"Z  = {state.charge()} eq/kgw\")\n",
    "print(f\"pH = {aqprops.pH()}\\n\")\n",
    "\n",
    "print(f\"n(CaX2) = {exprops.speciesAmount('CaX2')} mole\")\n",
    "print(f\"n(MgX2) = {exprops.speciesAmount('MgX2')} mole\")\n",
    "print(f\"n(NaX)  = {exprops.speciesAmount('NaX')} mole\\n\")\n",
    "\n",
    "print(f\"m(Ca+2) = {aqprops.speciesMolality('Ca+2')} molal\")\n",
    "print(f\"m(Mg+2) = {aqprops.speciesMolality('Mg+2')} molal\")\n",
    "print(f\"m(Cl-)  = {aqprops.speciesMolality('Cl-')} molal\")\n",
    "print(f\"m(Na+)  = {aqprops.speciesMolality('Na+')} molal\")"
   ]
  },
  {
   "cell_type": "markdown",
   "metadata": {
    "pycharm": {
     "name": "#%% md\n"
    }
   },
   "source": [
    "Due to the presence of 1-molal brine, we obtain the one order of magnitude higher ionic strength after the second equilibration. The charge remains the same since the added extractant is neutral. We see that in comparison to the first equilibration, the amount of CaX<sub>2</sub> and MgX<sub>2</sub> species decrease due to the extensive presence of sodium ions (provided by the extractant), whereas the amount of NaX became one order of magnitude higher.\n",
    "\n",
    "```{note}\n",
    "Alternatively, the extraction can be performed with NH<sub>4</sub>Cl-brine.\n",
    "```"
   ]
  }
 ],
 "metadata": {
  "celltoolbar": "Tags",
  "kernelspec": {
   "display_name": "Python 3 (ipykernel)",
   "language": "python",
   "name": "python3"
  },
  "language_info": {
   "codemirror_mode": {
    "name": "ipython",
    "version": 3
   },
   "file_extension": ".py",
   "mimetype": "text/x-python",
   "name": "python",
   "nbconvert_exporter": "python",
   "pygments_lexer": "ipython3",
   "version": "3.9.7"
  }
 },
 "nbformat": 4,
 "nbformat_minor": 1
}
