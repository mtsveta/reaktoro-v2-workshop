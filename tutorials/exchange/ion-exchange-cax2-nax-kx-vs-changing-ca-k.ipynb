{
 "cells": [
  {
   "cell_type": "markdown",
   "metadata": {},
   "source": [
    "# Ion exchange competition among NaX, KX, and CaX<sub>2</sub>\n",
    "\n",
    "In this tutorial, we study the dependence of the ion exchange species distribution on the changing initial K<sup>+</sup> and Ca<sup>+2</sup> ion's amount.\n",
    "\n",
    "First, we set up the chemical system, chemical state, and other means of modelling ion exchange using Reaktoro."
   ]
  },
  {
   "cell_type": "code",
   "execution_count": 1,
   "metadata": {},
   "outputs": [],
   "source": [
    "import numpy as np\n",
    "from reaktoro import *\n",
    "import pandas as pd\n",
    "\n",
    "# Initialize the PHREEQC database\n",
    "db = PhreeqcDatabase(\"phreeqc.dat\")\n",
    "\n",
    "# Define an aqueous phase\n",
    "solution = AqueousPhase(\"H2O Na+ Cl- H+ OH- K+ Ca+2 Mg+2\")\n",
    "solution.setActivityModel(ActivityModelHKF())\n",
    "\n",
    "# Define an ion exchange phase\n",
    "exchange = IonExchangePhase(\"NaX KX CaX2\")\n",
    "exchange.setActivityModel(ActivityModelIonExchangeGainesThomas())\n",
    "\n",
    "# Create the chemical system\n",
    "system = ChemicalSystem(db, solution, exchange)"
   ]
  },
  {
   "cell_type": "markdown",
   "metadata": {},
   "source": [
    "As we are going to perform a sequence of chemical equilibrium calculations, we define an object of {{EquilibriumSolver}} as well as {{IonExchangeProps}} and {{AqueousProps}} using the chemical system. These objects will be updated after every equilibrium calculation."
   ]
  },
  {
   "cell_type": "code",
   "execution_count": 2,
   "metadata": {},
   "outputs": [],
   "source": [
    "# Define the equilibrium solver\n",
    "solver = EquilibriumSolver(system)\n",
    "\n",
    "# Define exchange, aqueous, and chemical properties\n",
    "exprops = IonExchangeProps(system)\n",
    "aqprops = AqueousProps(system)"
   ]
  },
  {
   "cell_type": "markdown",
   "metadata": {},
   "source": [
    "```{note}\n",
    "Note that at the end of each equilibrium calculation, `state.props()` contains a {{ChemicalProps}} object with the properties evaluated in the last iteration of the algorithm.\n",
    "```\n",
    "\n",
    "Next, we define the range of Ca<sup>+2</sup> and K<sup>+</sup> initial amounts as well as auxiliary dataframe to collect the results of the ion exchange simulations."
   ]
  },
  {
   "cell_type": "code",
   "execution_count": 3,
   "metadata": {},
   "outputs": [],
   "source": [
    "# Output dataframe\n",
    "df = pd.DataFrame(columns=[\"amount_K\", \"amount_Ca\",\n",
    "                           \"amount_K+\", \"amount_Na+\", \"amount_Ca+2\",\n",
    "                           \"amount_KX\", \"amount_NaX\", \"amount_CaX2\",\n",
    "                           \"pH\"])\n",
    "\n",
    "# Sampling arrays of ions' amounts\n",
    "steps = 21\n",
    "mols_K  = np.flip(np.linspace(0, 0.1, num=steps))\n",
    "mols_Ca = np.linspace(0, 0.5, num=steps)"
   ]
  },
  {
   "cell_type": "markdown",
   "metadata": {},
   "source": [
    "We'll now perform a sequence of equilibrium calculations by varying amounts of Ca<sup>+2</sup> and K<sup>+</sup> ions (taken from the arrays `mols_Ca` and `mols_K`, respectively). At the end of each calculation, we'll extract the following properties from the computed chemical state:\n",
    "* amount of K,\n",
    "* amount of Ca,\n",
    "* amount of K<sup>+</sup>,\n",
    "* amount of Na<sup>+</sup>,\n",
    "* amount of Ca<sup>+2</sup>,\n",
    "* amount of KX,\n",
    "* amount of NaX,\n",
    "* amount of CaX2,\n",
    "* pH."
   ]
  },
  {
   "cell_type": "code",
   "execution_count": 4,
   "metadata": {},
   "outputs": [],
   "source": [
    "for mol_K, mol_Ca in zip(mols_K, mols_Ca):\n",
    "\n",
    "    # Define initial equilibrium state\n",
    "    state = ChemicalState(system)\n",
    "    state.setTemperature(25, \"celsius\")\n",
    "    state.setPressure(1, \"atm\")\n",
    "    state.set(\"H2O\" , 1.0   , \"kg\")\n",
    "    # Exchanger site\n",
    "    state.set(\"NaX\" , 0.4   , \"mol\")\n",
    "    # Changing Ca+2 and K+\n",
    "    state.set(\"K+\"  , mol_K , \"mol\")\n",
    "    state.set(\"Ca+2\", mol_Ca, \"mol\")\n",
    "\n",
    "    # Equilibrate chemical state\n",
    "    res = solver.solve(state)\n",
    "\n",
    "    # Stop if the equilibration hasn't converged\n",
    "    assert res.optima.succeeded\n",
    "\n",
    "    # Update exchange and aqueous properties\n",
    "    exprops.update(state)\n",
    "    aqprops.update(state)\n",
    "    chemprops = state.props()\n",
    "\n",
    "    # Update output arrays:\n",
    "    # \"amount_K\", \"amount_Ca\", \"amount_K+\", \"amount_Na+\", \"amount_Ca+2\",\n",
    "    # \"amount_KX\", \"amount_NaX\", \"amount_CaX2\", \"pH\"\n",
    "    df.loc[len(df)] = [float(chemprops.elementAmount('K')),\n",
    "                       float(chemprops.elementAmount('Ca')),\n",
    "                       float(state.speciesAmount('K+')),\n",
    "                       float(state.speciesAmount('Na+')),\n",
    "                       float(state.speciesAmount('Ca+2')),\n",
    "                       float(state.speciesAmount('KX')),\n",
    "                       float(state.speciesAmount('NaX')),\n",
    "                       float(state.speciesAmount('CaX2')),\n",
    "                       float(aqprops.pH())]"
   ]
  },
  {
   "cell_type": "markdown",
   "metadata": {},
   "source": [
    "We'll use the [bokeh](https://bokeh.org/) plotting library next. First, we need to import it and initialize it to work with Jupyter Notebooks:"
   ]
  },
  {
   "cell_type": "code",
   "execution_count": 5,
   "metadata": {
    "tags": [
     "hide_input"
    ]
   },
   "outputs": [
    {
     "data": {
      "text/html": [
       "\n",
       "    <div class=\"bk-root\">\n",
       "        <a href=\"https://bokeh.org\" target=\"_blank\" class=\"bk-logo bk-logo-small bk-logo-notebook\"></a>\n",
       "        <span id=\"1002\">Loading BokehJS ...</span>\n",
       "    </div>"
      ]
     },
     "metadata": {},
     "output_type": "display_data"
    },
    {
     "data": {
      "application/javascript": [
       "\n",
       "(function(root) {\n",
       "  function now() {\n",
       "    return new Date();\n",
       "  }\n",
       "\n",
       "  const force = true;\n",
       "\n",
       "  if (typeof root._bokeh_onload_callbacks === \"undefined\" || force === true) {\n",
       "    root._bokeh_onload_callbacks = [];\n",
       "    root._bokeh_is_loading = undefined;\n",
       "  }\n",
       "\n",
       "  const JS_MIME_TYPE = 'application/javascript';\n",
       "  const HTML_MIME_TYPE = 'text/html';\n",
       "  const EXEC_MIME_TYPE = 'application/vnd.bokehjs_exec.v0+json';\n",
       "  const CLASS_NAME = 'output_bokeh rendered_html';\n",
       "\n",
       "  /**\n",
       "   * Render data to the DOM node\n",
       "   */\n",
       "  function render(props, node) {\n",
       "    const script = document.createElement(\"script\");\n",
       "    node.appendChild(script);\n",
       "  }\n",
       "\n",
       "  /**\n",
       "   * Handle when an output is cleared or removed\n",
       "   */\n",
       "  function handleClearOutput(event, handle) {\n",
       "    const cell = handle.cell;\n",
       "\n",
       "    const id = cell.output_area._bokeh_element_id;\n",
       "    const server_id = cell.output_area._bokeh_server_id;\n",
       "    // Clean up Bokeh references\n",
       "    if (id != null && id in Bokeh.index) {\n",
       "      Bokeh.index[id].model.document.clear();\n",
       "      delete Bokeh.index[id];\n",
       "    }\n",
       "\n",
       "    if (server_id !== undefined) {\n",
       "      // Clean up Bokeh references\n",
       "      const cmd_clean = \"from bokeh.io.state import curstate; print(curstate().uuid_to_server['\" + server_id + \"'].get_sessions()[0].document.roots[0]._id)\";\n",
       "      cell.notebook.kernel.execute(cmd_clean, {\n",
       "        iopub: {\n",
       "          output: function(msg) {\n",
       "            const id = msg.content.text.trim();\n",
       "            if (id in Bokeh.index) {\n",
       "              Bokeh.index[id].model.document.clear();\n",
       "              delete Bokeh.index[id];\n",
       "            }\n",
       "          }\n",
       "        }\n",
       "      });\n",
       "      // Destroy server and session\n",
       "      const cmd_destroy = \"import bokeh.io.notebook as ion; ion.destroy_server('\" + server_id + \"')\";\n",
       "      cell.notebook.kernel.execute(cmd_destroy);\n",
       "    }\n",
       "  }\n",
       "\n",
       "  /**\n",
       "   * Handle when a new output is added\n",
       "   */\n",
       "  function handleAddOutput(event, handle) {\n",
       "    const output_area = handle.output_area;\n",
       "    const output = handle.output;\n",
       "\n",
       "    // limit handleAddOutput to display_data with EXEC_MIME_TYPE content only\n",
       "    if ((output.output_type != \"display_data\") || (!Object.prototype.hasOwnProperty.call(output.data, EXEC_MIME_TYPE))) {\n",
       "      return\n",
       "    }\n",
       "\n",
       "    const toinsert = output_area.element.find(\".\" + CLASS_NAME.split(' ')[0]);\n",
       "\n",
       "    if (output.metadata[EXEC_MIME_TYPE][\"id\"] !== undefined) {\n",
       "      toinsert[toinsert.length - 1].firstChild.textContent = output.data[JS_MIME_TYPE];\n",
       "      // store reference to embed id on output_area\n",
       "      output_area._bokeh_element_id = output.metadata[EXEC_MIME_TYPE][\"id\"];\n",
       "    }\n",
       "    if (output.metadata[EXEC_MIME_TYPE][\"server_id\"] !== undefined) {\n",
       "      const bk_div = document.createElement(\"div\");\n",
       "      bk_div.innerHTML = output.data[HTML_MIME_TYPE];\n",
       "      const script_attrs = bk_div.children[0].attributes;\n",
       "      for (let i = 0; i < script_attrs.length; i++) {\n",
       "        toinsert[toinsert.length - 1].firstChild.setAttribute(script_attrs[i].name, script_attrs[i].value);\n",
       "        toinsert[toinsert.length - 1].firstChild.textContent = bk_div.children[0].textContent\n",
       "      }\n",
       "      // store reference to server id on output_area\n",
       "      output_area._bokeh_server_id = output.metadata[EXEC_MIME_TYPE][\"server_id\"];\n",
       "    }\n",
       "  }\n",
       "\n",
       "  function register_renderer(events, OutputArea) {\n",
       "\n",
       "    function append_mime(data, metadata, element) {\n",
       "      // create a DOM node to render to\n",
       "      const toinsert = this.create_output_subarea(\n",
       "        metadata,\n",
       "        CLASS_NAME,\n",
       "        EXEC_MIME_TYPE\n",
       "      );\n",
       "      this.keyboard_manager.register_events(toinsert);\n",
       "      // Render to node\n",
       "      const props = {data: data, metadata: metadata[EXEC_MIME_TYPE]};\n",
       "      render(props, toinsert[toinsert.length - 1]);\n",
       "      element.append(toinsert);\n",
       "      return toinsert\n",
       "    }\n",
       "\n",
       "    /* Handle when an output is cleared or removed */\n",
       "    events.on('clear_output.CodeCell', handleClearOutput);\n",
       "    events.on('delete.Cell', handleClearOutput);\n",
       "\n",
       "    /* Handle when a new output is added */\n",
       "    events.on('output_added.OutputArea', handleAddOutput);\n",
       "\n",
       "    /**\n",
       "     * Register the mime type and append_mime function with output_area\n",
       "     */\n",
       "    OutputArea.prototype.register_mime_type(EXEC_MIME_TYPE, append_mime, {\n",
       "      /* Is output safe? */\n",
       "      safe: true,\n",
       "      /* Index of renderer in `output_area.display_order` */\n",
       "      index: 0\n",
       "    });\n",
       "  }\n",
       "\n",
       "  // register the mime type if in Jupyter Notebook environment and previously unregistered\n",
       "  if (root.Jupyter !== undefined) {\n",
       "    const events = require('base/js/events');\n",
       "    const OutputArea = require('notebook/js/outputarea').OutputArea;\n",
       "\n",
       "    if (OutputArea.prototype.mime_types().indexOf(EXEC_MIME_TYPE) == -1) {\n",
       "      register_renderer(events, OutputArea);\n",
       "    }\n",
       "  }\n",
       "\n",
       "  \n",
       "  if (typeof (root._bokeh_timeout) === \"undefined\" || force === true) {\n",
       "    root._bokeh_timeout = Date.now() + 5000;\n",
       "    root._bokeh_failed_load = false;\n",
       "  }\n",
       "\n",
       "  const NB_LOAD_WARNING = {'data': {'text/html':\n",
       "     \"<div style='background-color: #fdd'>\\n\"+\n",
       "     \"<p>\\n\"+\n",
       "     \"BokehJS does not appear to have successfully loaded. If loading BokehJS from CDN, this \\n\"+\n",
       "     \"may be due to a slow or bad network connection. Possible fixes:\\n\"+\n",
       "     \"</p>\\n\"+\n",
       "     \"<ul>\\n\"+\n",
       "     \"<li>re-rerun `output_notebook()` to attempt to load from CDN again, or</li>\\n\"+\n",
       "     \"<li>use INLINE resources instead, as so:</li>\\n\"+\n",
       "     \"</ul>\\n\"+\n",
       "     \"<code>\\n\"+\n",
       "     \"from bokeh.resources import INLINE\\n\"+\n",
       "     \"output_notebook(resources=INLINE)\\n\"+\n",
       "     \"</code>\\n\"+\n",
       "     \"</div>\"}};\n",
       "\n",
       "  function display_loaded() {\n",
       "    const el = document.getElementById(\"1002\");\n",
       "    if (el != null) {\n",
       "      el.textContent = \"BokehJS is loading...\";\n",
       "    }\n",
       "    if (root.Bokeh !== undefined) {\n",
       "      if (el != null) {\n",
       "        el.textContent = \"BokehJS \" + root.Bokeh.version + \" successfully loaded.\";\n",
       "      }\n",
       "    } else if (Date.now() < root._bokeh_timeout) {\n",
       "      setTimeout(display_loaded, 100)\n",
       "    }\n",
       "  }\n",
       "\n",
       "\n",
       "  function run_callbacks() {\n",
       "    try {\n",
       "      root._bokeh_onload_callbacks.forEach(function(callback) {\n",
       "        if (callback != null)\n",
       "          callback();\n",
       "      });\n",
       "    } finally {\n",
       "      delete root._bokeh_onload_callbacks\n",
       "    }\n",
       "    console.debug(\"Bokeh: all callbacks have finished\");\n",
       "  }\n",
       "\n",
       "  function load_libs(css_urls, js_urls, callback) {\n",
       "    if (css_urls == null) css_urls = [];\n",
       "    if (js_urls == null) js_urls = [];\n",
       "\n",
       "    root._bokeh_onload_callbacks.push(callback);\n",
       "    if (root._bokeh_is_loading > 0) {\n",
       "      console.debug(\"Bokeh: BokehJS is being loaded, scheduling callback at\", now());\n",
       "      return null;\n",
       "    }\n",
       "    if (js_urls == null || js_urls.length === 0) {\n",
       "      run_callbacks();\n",
       "      return null;\n",
       "    }\n",
       "    console.debug(\"Bokeh: BokehJS not loaded, scheduling load and callback at\", now());\n",
       "    root._bokeh_is_loading = css_urls.length + js_urls.length;\n",
       "\n",
       "    function on_load() {\n",
       "      root._bokeh_is_loading--;\n",
       "      if (root._bokeh_is_loading === 0) {\n",
       "        console.debug(\"Bokeh: all BokehJS libraries/stylesheets loaded\");\n",
       "        run_callbacks()\n",
       "      }\n",
       "    }\n",
       "\n",
       "    function on_error(url) {\n",
       "      console.error(\"failed to load \" + url);\n",
       "    }\n",
       "\n",
       "    for (let i = 0; i < css_urls.length; i++) {\n",
       "      const url = css_urls[i];\n",
       "      const element = document.createElement(\"link\");\n",
       "      element.onload = on_load;\n",
       "      element.onerror = on_error.bind(null, url);\n",
       "      element.rel = \"stylesheet\";\n",
       "      element.type = \"text/css\";\n",
       "      element.href = url;\n",
       "      console.debug(\"Bokeh: injecting link tag for BokehJS stylesheet: \", url);\n",
       "      document.body.appendChild(element);\n",
       "    }\n",
       "\n",
       "    for (let i = 0; i < js_urls.length; i++) {\n",
       "      const url = js_urls[i];\n",
       "      const element = document.createElement('script');\n",
       "      element.onload = on_load;\n",
       "      element.onerror = on_error.bind(null, url);\n",
       "      element.async = false;\n",
       "      element.src = url;\n",
       "      console.debug(\"Bokeh: injecting script tag for BokehJS library: \", url);\n",
       "      document.head.appendChild(element);\n",
       "    }\n",
       "  };\n",
       "\n",
       "  function inject_raw_css(css) {\n",
       "    const element = document.createElement(\"style\");\n",
       "    element.appendChild(document.createTextNode(css));\n",
       "    document.body.appendChild(element);\n",
       "  }\n",
       "\n",
       "  \n",
       "  const js_urls = [\"https://cdn.bokeh.org/bokeh/release/bokeh-2.4.2.min.js\", \"https://cdn.bokeh.org/bokeh/release/bokeh-gl-2.4.2.min.js\", \"https://cdn.bokeh.org/bokeh/release/bokeh-widgets-2.4.2.min.js\", \"https://cdn.bokeh.org/bokeh/release/bokeh-tables-2.4.2.min.js\", \"https://cdn.bokeh.org/bokeh/release/bokeh-mathjax-2.4.2.min.js\"];\n",
       "  const css_urls = [];\n",
       "  \n",
       "\n",
       "  const inline_js = [\n",
       "    function(Bokeh) {\n",
       "      Bokeh.set_log_level(\"info\");\n",
       "    },\n",
       "    function(Bokeh) {\n",
       "    \n",
       "    \n",
       "    }\n",
       "  ];\n",
       "\n",
       "  function run_inline_js() {\n",
       "    \n",
       "    if (root.Bokeh !== undefined || force === true) {\n",
       "      \n",
       "    for (let i = 0; i < inline_js.length; i++) {\n",
       "      inline_js[i].call(root, root.Bokeh);\n",
       "    }\n",
       "    if (force === true) {\n",
       "        display_loaded();\n",
       "      }} else if (Date.now() < root._bokeh_timeout) {\n",
       "      setTimeout(run_inline_js, 100);\n",
       "    } else if (!root._bokeh_failed_load) {\n",
       "      console.log(\"Bokeh: BokehJS failed to load within specified timeout.\");\n",
       "      root._bokeh_failed_load = true;\n",
       "    } else if (force !== true) {\n",
       "      const cell = $(document.getElementById(\"1002\")).parents('.cell').data().cell;\n",
       "      cell.output_area.append_execute_result(NB_LOAD_WARNING)\n",
       "    }\n",
       "\n",
       "  }\n",
       "\n",
       "  if (root._bokeh_is_loading === 0) {\n",
       "    console.debug(\"Bokeh: BokehJS loaded, going straight to plotting\");\n",
       "    run_inline_js();\n",
       "  } else {\n",
       "    load_libs(css_urls, js_urls, function() {\n",
       "      console.debug(\"Bokeh: BokehJS plotting callback run at\", now());\n",
       "      run_inline_js();\n",
       "    });\n",
       "  }\n",
       "}(window));"
      ],
      "application/vnd.bokehjs_load.v0+json": "\n(function(root) {\n  function now() {\n    return new Date();\n  }\n\n  const force = true;\n\n  if (typeof root._bokeh_onload_callbacks === \"undefined\" || force === true) {\n    root._bokeh_onload_callbacks = [];\n    root._bokeh_is_loading = undefined;\n  }\n\n  \n\n  \n  if (typeof (root._bokeh_timeout) === \"undefined\" || force === true) {\n    root._bokeh_timeout = Date.now() + 5000;\n    root._bokeh_failed_load = false;\n  }\n\n  const NB_LOAD_WARNING = {'data': {'text/html':\n     \"<div style='background-color: #fdd'>\\n\"+\n     \"<p>\\n\"+\n     \"BokehJS does not appear to have successfully loaded. If loading BokehJS from CDN, this \\n\"+\n     \"may be due to a slow or bad network connection. Possible fixes:\\n\"+\n     \"</p>\\n\"+\n     \"<ul>\\n\"+\n     \"<li>re-rerun `output_notebook()` to attempt to load from CDN again, or</li>\\n\"+\n     \"<li>use INLINE resources instead, as so:</li>\\n\"+\n     \"</ul>\\n\"+\n     \"<code>\\n\"+\n     \"from bokeh.resources import INLINE\\n\"+\n     \"output_notebook(resources=INLINE)\\n\"+\n     \"</code>\\n\"+\n     \"</div>\"}};\n\n  function display_loaded() {\n    const el = document.getElementById(\"1002\");\n    if (el != null) {\n      el.textContent = \"BokehJS is loading...\";\n    }\n    if (root.Bokeh !== undefined) {\n      if (el != null) {\n        el.textContent = \"BokehJS \" + root.Bokeh.version + \" successfully loaded.\";\n      }\n    } else if (Date.now() < root._bokeh_timeout) {\n      setTimeout(display_loaded, 100)\n    }\n  }\n\n\n  function run_callbacks() {\n    try {\n      root._bokeh_onload_callbacks.forEach(function(callback) {\n        if (callback != null)\n          callback();\n      });\n    } finally {\n      delete root._bokeh_onload_callbacks\n    }\n    console.debug(\"Bokeh: all callbacks have finished\");\n  }\n\n  function load_libs(css_urls, js_urls, callback) {\n    if (css_urls == null) css_urls = [];\n    if (js_urls == null) js_urls = [];\n\n    root._bokeh_onload_callbacks.push(callback);\n    if (root._bokeh_is_loading > 0) {\n      console.debug(\"Bokeh: BokehJS is being loaded, scheduling callback at\", now());\n      return null;\n    }\n    if (js_urls == null || js_urls.length === 0) {\n      run_callbacks();\n      return null;\n    }\n    console.debug(\"Bokeh: BokehJS not loaded, scheduling load and callback at\", now());\n    root._bokeh_is_loading = css_urls.length + js_urls.length;\n\n    function on_load() {\n      root._bokeh_is_loading--;\n      if (root._bokeh_is_loading === 0) {\n        console.debug(\"Bokeh: all BokehJS libraries/stylesheets loaded\");\n        run_callbacks()\n      }\n    }\n\n    function on_error(url) {\n      console.error(\"failed to load \" + url);\n    }\n\n    for (let i = 0; i < css_urls.length; i++) {\n      const url = css_urls[i];\n      const element = document.createElement(\"link\");\n      element.onload = on_load;\n      element.onerror = on_error.bind(null, url);\n      element.rel = \"stylesheet\";\n      element.type = \"text/css\";\n      element.href = url;\n      console.debug(\"Bokeh: injecting link tag for BokehJS stylesheet: \", url);\n      document.body.appendChild(element);\n    }\n\n    for (let i = 0; i < js_urls.length; i++) {\n      const url = js_urls[i];\n      const element = document.createElement('script');\n      element.onload = on_load;\n      element.onerror = on_error.bind(null, url);\n      element.async = false;\n      element.src = url;\n      console.debug(\"Bokeh: injecting script tag for BokehJS library: \", url);\n      document.head.appendChild(element);\n    }\n  };\n\n  function inject_raw_css(css) {\n    const element = document.createElement(\"style\");\n    element.appendChild(document.createTextNode(css));\n    document.body.appendChild(element);\n  }\n\n  \n  const js_urls = [\"https://cdn.bokeh.org/bokeh/release/bokeh-2.4.2.min.js\", \"https://cdn.bokeh.org/bokeh/release/bokeh-gl-2.4.2.min.js\", \"https://cdn.bokeh.org/bokeh/release/bokeh-widgets-2.4.2.min.js\", \"https://cdn.bokeh.org/bokeh/release/bokeh-tables-2.4.2.min.js\", \"https://cdn.bokeh.org/bokeh/release/bokeh-mathjax-2.4.2.min.js\"];\n  const css_urls = [];\n  \n\n  const inline_js = [\n    function(Bokeh) {\n      Bokeh.set_log_level(\"info\");\n    },\n    function(Bokeh) {\n    \n    \n    }\n  ];\n\n  function run_inline_js() {\n    \n    if (root.Bokeh !== undefined || force === true) {\n      \n    for (let i = 0; i < inline_js.length; i++) {\n      inline_js[i].call(root, root.Bokeh);\n    }\n    if (force === true) {\n        display_loaded();\n      }} else if (Date.now() < root._bokeh_timeout) {\n      setTimeout(run_inline_js, 100);\n    } else if (!root._bokeh_failed_load) {\n      console.log(\"Bokeh: BokehJS failed to load within specified timeout.\");\n      root._bokeh_failed_load = true;\n    } else if (force !== true) {\n      const cell = $(document.getElementById(\"1002\")).parents('.cell').data().cell;\n      cell.output_area.append_execute_result(NB_LOAD_WARNING)\n    }\n\n  }\n\n  if (root._bokeh_is_loading === 0) {\n    console.debug(\"Bokeh: BokehJS loaded, going straight to plotting\");\n    run_inline_js();\n  } else {\n    load_libs(css_urls, js_urls, function() {\n      console.debug(\"Bokeh: BokehJS plotting callback run at\", now());\n      run_inline_js();\n    });\n  }\n}(window));"
     },
     "metadata": {},
     "output_type": "display_data"
    }
   ],
   "source": [
    "from bokeh.plotting import figure, show\n",
    "from bokeh.models import HoverTool, Legend\n",
    "from bokeh.io import output_notebook\n",
    "output_notebook()"
   ]
  },
  {
   "cell_type": "markdown",
   "metadata": {},
   "source": [
    "We can now construct an interactive plot of ion exchange species dependence on the growing initial amount of Ca<sup>+2</sup>. We see below that, as expected, the amount of KX is decreasing and the amount of CaX{{_2}} increasing as the amount of Ca<sup>+2</sup> grows."
   ]
  },
  {
   "cell_type": "code",
   "execution_count": 6,
   "metadata": {
    "tags": [
     "hide_input"
    ]
   },
   "outputs": [
    {
     "data": {
      "text/html": [
       "\n",
       "\n",
       "\n",
       "\n",
       "\n",
       "\n",
       "  <div class=\"bk-root\" id=\"98aa39a7-f710-420c-a04b-90082a8b73d4\" data-root-id=\"1004\"></div>\n"
      ]
     },
     "metadata": {},
     "output_type": "display_data"
    },
    {
     "data": {
      "application/javascript": [
       "(function(root) {\n",
       "  function embed_document(root) {\n",
       "    \n",
       "  const docs_json = {\"fd9b7868-ed0f-498e-ae29-63d59aca1576\":{\"defs\":[],\"roots\":{\"references\":[{\"attributes\":{\"below\":[{\"id\":\"1015\"}],\"center\":[{\"id\":\"1018\"},{\"id\":\"1022\"}],\"height\":300,\"left\":[{\"id\":\"1019\"}],\"renderers\":[{\"id\":\"1043\"},{\"id\":\"1050\"},{\"id\":\"1057\"},{\"id\":\"1064\"},{\"id\":\"1071\"},{\"id\":\"1078\"}],\"right\":[{\"id\":\"1080\"}],\"sizing_mode\":\"scale_width\",\"title\":{\"id\":\"1005\"},\"toolbar\":{\"id\":\"1030\"},\"x_range\":{\"id\":\"1007\"},\"x_scale\":{\"id\":\"1011\"},\"y_range\":{\"id\":\"1009\"},\"y_scale\":{\"id\":\"1013\"}},\"id\":\"1004\",\"subtype\":\"Figure\",\"type\":\"Plot\"},{\"attributes\":{},\"id\":\"1089\",\"type\":\"BasicTickFormatter\"},{\"attributes\":{\"line_alpha\":0.2,\"line_cap\":\"round\",\"line_color\":\"green\",\"line_dash\":[4,4],\"line_width\":2,\"x\":{\"field\":\"amount_Ca\"},\"y\":{\"field\":\"amount_NaX\"}},\"id\":\"1070\",\"type\":\"Line\"},{\"attributes\":{\"line_alpha\":0.2,\"line_cap\":\"round\",\"line_color\":\"deeppink\",\"line_width\":2,\"x\":{\"field\":\"amount_Ca\"},\"y\":{\"field\":\"amount_CaX2\"}},\"id\":\"1056\",\"type\":\"Line\"},{\"attributes\":{},\"id\":\"1090\",\"type\":\"AllLabels\"},{\"attributes\":{\"line_alpha\":0.1,\"line_cap\":\"round\",\"line_color\":\"green\",\"line_dash\":[4,4],\"line_width\":2,\"x\":{\"field\":\"amount_Ca\"},\"y\":{\"field\":\"amount_NaX\"}},\"id\":\"1069\",\"type\":\"Line\"},{\"attributes\":{},\"id\":\"1101\",\"type\":\"UnionRenderers\"},{\"attributes\":{\"fill_alpha\":{\"value\":0.1},\"fill_color\":{\"value\":\"#1f77b4\"},\"hatch_alpha\":{\"value\":0.1},\"line_alpha\":{\"value\":0.1},\"line_color\":{\"value\":\"midnightblue\"},\"x\":{\"field\":\"amount_Ca\"},\"y\":{\"field\":\"amount_KX\"}},\"id\":\"1048\",\"type\":\"Circle\"},{\"attributes\":{\"fill_alpha\":{\"value\":0.2},\"fill_color\":{\"value\":\"#1f77b4\"},\"hatch_alpha\":{\"value\":0.2},\"line_alpha\":{\"value\":0.2},\"line_color\":{\"value\":\"midnightblue\"},\"x\":{\"field\":\"amount_Ca\"},\"y\":{\"field\":\"amount_KX\"}},\"id\":\"1049\",\"type\":\"Circle\"},{\"attributes\":{\"label\":{\"value\":\"KX\"},\"renderers\":[{\"id\":\"1050\"},{\"id\":\"1050\"}]},\"id\":\"1081\",\"type\":\"LegendItem\"},{\"attributes\":{},\"id\":\"1091\",\"type\":\"UnionRenderers\"},{\"attributes\":{},\"id\":\"1092\",\"type\":\"Selection\"},{\"attributes\":{},\"id\":\"1102\",\"type\":\"Selection\"},{\"attributes\":{\"fill_alpha\":{\"value\":0.2},\"fill_color\":{\"value\":\"#1f77b4\"},\"hatch_alpha\":{\"value\":0.2},\"line_alpha\":{\"value\":0.2},\"line_color\":{\"value\":\"green\"},\"line_width\":{\"value\":2},\"marker\":{\"value\":\"x\"},\"size\":{\"value\":10},\"x\":{\"field\":\"amount_Ca\"},\"y\":{\"field\":\"amount_NaX\"}},\"id\":\"1077\",\"type\":\"Scatter\"},{\"attributes\":{\"fill_color\":{\"value\":\"#1f77b4\"},\"line_color\":{\"value\":\"green\"},\"line_width\":{\"value\":2},\"marker\":{\"value\":\"x\"},\"size\":{\"value\":10},\"x\":{\"field\":\"amount_Ca\"},\"y\":{\"field\":\"amount_NaX\"}},\"id\":\"1075\",\"type\":\"Scatter\"},{\"attributes\":{\"fill_color\":{\"value\":\"#1f77b4\"},\"line_color\":{\"value\":\"midnightblue\"},\"x\":{\"field\":\"amount_Ca\"},\"y\":{\"field\":\"amount_KX\"}},\"id\":\"1047\",\"type\":\"Circle\"},{\"attributes\":{\"line_alpha\":0.1,\"line_cap\":\"round\",\"line_color\":\"deeppink\",\"line_width\":2,\"x\":{\"field\":\"amount_Ca\"},\"y\":{\"field\":\"amount_CaX2\"}},\"id\":\"1055\",\"type\":\"Line\"},{\"attributes\":{\"source\":{\"id\":\"1045\"}},\"id\":\"1051\",\"type\":\"CDSView\"},{\"attributes\":{\"coordinates\":null,\"data_source\":{\"id\":\"1045\"},\"glyph\":{\"id\":\"1047\"},\"group\":null,\"hover_glyph\":null,\"muted_glyph\":{\"id\":\"1049\"},\"nonselection_glyph\":{\"id\":\"1048\"},\"view\":{\"id\":\"1051\"}},\"id\":\"1050\",\"type\":\"GlyphRenderer\"},{\"attributes\":{\"coordinates\":null,\"data_source\":{\"id\":\"1059\"},\"glyph\":{\"id\":\"1061\"},\"group\":null,\"hover_glyph\":null,\"muted_glyph\":{\"id\":\"1063\"},\"nonselection_glyph\":{\"id\":\"1062\"},\"view\":{\"id\":\"1065\"}},\"id\":\"1064\",\"type\":\"GlyphRenderer\"},{\"attributes\":{},\"id\":\"1093\",\"type\":\"UnionRenderers\"},{\"attributes\":{\"label\":{\"value\":\"CaX2\"},\"renderers\":[{\"id\":\"1057\"},{\"id\":\"1064\"}]},\"id\":\"1082\",\"type\":\"LegendItem\"},{\"attributes\":{},\"id\":\"1094\",\"type\":\"Selection\"},{\"attributes\":{\"data\":{\"amount_Ca\":{\"__ndarray__\":\"vInYl7LSrDy3mZmZmZmZP6iZmZmZmak/OzMzMzMzsz+hmZmZmZm5PwQAAAAAAMA/ODMzMzMzwz9rZmZmZmbGP56ZmZmZmck/0czMzMzMzD8CAAAAAADQP5yZmZmZmdE/NjMzMzMz0z/PzMzMzMzUP2lmZmZmZtY/AgAAAAAA2D+cmZmZmZnZPzYzMzMzM9s/z8zMzMzM3D9oZmZmZmbePwEAAAAAAOA/\",\"dtype\":\"float64\",\"order\":\"little\",\"shape\":[21]},\"amount_Ca+2\":{\"__ndarray__\":\"vInYl7LSnDzIIBcGr49KPzvQoIcQGmw/s69fkXSmgj8PM2BweuaSP1wiHVI45p8/smkrqlvEpz/nrfCrSkSwPxUr+7En/bQ/zAs3L/z0uT+VNq4LpBu/P2mehzoAM8I/uRl2Mh3mxD/lICLhU6THP+NtL/WLa8o/qEFpDjA6zT9vxb7egwfQP78jWvuOdNE/fb0Wwdfj0j+ni6FUD1XUPzAm2jL1x9U/\",\"dtype\":\"float64\",\"order\":\"little\",\"shape\":[21]},\"amount_CaX2\":{\"__ndarray__\":\"vInYl7LSnDyx4GghHMWYP6SMH5H416c/RT0HoWTesD/djIH9+t+0P3G3eOtxBrg/l7FQkTiEuj/vHtwggoi8PycIOIELNr4/1o1iap2kvz+55Cj6LXLAP8+Uq/gyAME/s0zwM0mAwT+5eHe4RfXBP+9enddAYcI/XL6W8c/Fwj9bqLV1KyTDP+4esm9IfcM/pB5sF+rRwz+DtYkjriLEP6OzS5oVcMQ/\",\"dtype\":\"float64\",\"order\":\"little\",\"shape\":[21]},\"amount_K\":{\"__ndarray__\":\"oZmZmZmZuT9ZuB6F61G4PxHXo3A9Crc/yvUoXI/CtT+CFK5H4Xq0PzozMzMzM7M/81G4HoXrsT+rcD0K16OwP8YehetRuK4/N1yPwvUorD+omZmZmZmpPxjXo3A9Cqc/iRSuR+F6pD/6UbgeheuhP9QehetRuJ4/t5mZmZmZmT+YFK5H4XqUP/IehetRuI4/tRSuR+F6hD/uFK5H4Xp0P7yJ2Jey0qw8\",\"dtype\":\"float64\",\"order\":\"little\",\"shape\":[21]},\"amount_K+\":{\"__ndarray__\":\"BYu8rjdkdz9DqgGM3o+BP13O2G22d4c/yOVjP/HJjD+c56pJWHSQP/12Gjvzy5E/7B1M/jB6kj9DYZVVLZ2SP3L3MbzhUZI/WAFLhoevkT9/qGSCv8eQP8JF53mVT48/Xc8MGWizjD8zCQm4ZcqJP22rda6aoIY/584sJpU/gz8qR4CDDF5/P+92rB1q6nc/Du7SR6MucD9yYLlxyGZgP7yJ2Jey0pw8\",\"dtype\":\"float64\",\"order\":\"little\",\"shape\":[21]},\"amount_KX\":{\"__ndarray__\":\"8dCtHlYjuD8Rg56z7x+2P0W96KJGG7Q/EXk8NFEpsj+bWkM1y12wP/Uq2chsgK0/8JRKvvGZqj+1MLBpF/mnPw0jbA1hj6U/i9tp/zFRoz9pRWfYuTWhP08LVCSwbJ4/ZMHVgg6cmj9aH2xh1/GWPx5JSpQEaJM/h2QGDZ7zjz+bBZxNvEaJP3vjrtwcw4I/XDuJRx/HeD9qyaId+o5oP7yJ2Jey0pw8\",\"dtype\":\"float64\",\"order\":\"little\",\"shape\":[21]},\"amount_Na+\":{\"__ndarray__\":\"4dCtHlYjuD+seSniPkHBP+wkBJqf+cU/xXklOw3zyT8jOiOY4A7NPyUCrx2NZs8/ZqtxgFqV0D+KFaT9Y0PRP3GISeLxzNE/WIIe9XQ80j9izTU15ZjSP4DV8Pr95tI/xagdHAoq0z+qOo4uY2TTP30D4iDBl9M/e/H+4WzF0z+EiCJYYe7TPweWl1ZhE9Q/jkOKlAY11D8S+8QXzFPUP6GzS5oVcNQ/\",\"dtype\":\"float64\",\"order\":\"little\",\"shape\":[21]},\"amount_NaX\":{\"__ndarray__\":\"ZCXuEcSQ0z/G3IQo+vjQP0wOL5mTOc0/dLkN+CVAyT8W+Q+bUiTGPxMxhBWmzMM/bNxPMn4Iwj8kCOs3a6zAP6pEQN2eMr8/DV3skZJ0vT/nMI+R0QK8P28Qo3puyro/XcPv9T2+uT/Gey2s2dS4P31Y3uJhB7g/g6Bq3rJQtz9fRNwF4ay2P1UOCAzhGLY/OVg9FEyStT8nelIHNhe1P+uXN/0PprQ/\",\"dtype\":\"float64\",\"order\":\"little\",\"shape\":[21]},\"index\":[0,1,2,3,4,5,6,7,8,9,10,11,12,13,14,15,16,17,18,19,20],\"pH\":{\"__ndarray__\":\"L/I2jqj8G0AOzsMM3/wbQKRqG7lB/RtAL1TmpND9G0CToXE6kP4bQBUWX8uB/xtAID2O/qEAHEDimro16wEcQJTG/59XAxxAIkbFFOIEHEBxXZhBhgYcQLQ+YZhACBxApF5tLg4KHECwS4Oc7AscQOG8/OPZDRxAd0N9WdQPHEBNeleU2hEcQISlqGHrExxAog1PugUWHEBEHA27KBgcQDaIVJ5TGhxA\",\"dtype\":\"float64\",\"order\":\"little\",\"shape\":[21]}},\"selected\":{\"id\":\"1102\"},\"selection_policy\":{\"id\":\"1101\"}},\"id\":\"1073\",\"type\":\"ColumnDataSource\"},{\"attributes\":{\"label\":{\"value\":\"NaX\"},\"renderers\":[{\"id\":\"1071\"},{\"id\":\"1078\"}]},\"id\":\"1083\",\"type\":\"LegendItem\"},{\"attributes\":{\"coordinates\":null,\"group\":null,\"items\":[{\"id\":\"1081\"},{\"id\":\"1082\"},{\"id\":\"1083\"}],\"location\":\"center\"},\"id\":\"1080\",\"type\":\"Legend\"},{\"attributes\":{\"fill_color\":{\"value\":null},\"line_color\":{\"value\":\"deeppink\"},\"marker\":{\"value\":\"square\"},\"x\":{\"field\":\"amount_Ca\"},\"y\":{\"field\":\"amount_CaX2\"}},\"id\":\"1061\",\"type\":\"Scatter\"},{\"attributes\":{\"source\":{\"id\":\"1052\"}},\"id\":\"1058\",\"type\":\"CDSView\"},{\"attributes\":{\"coordinates\":null,\"data_source\":{\"id\":\"1052\"},\"glyph\":{\"id\":\"1054\"},\"group\":null,\"hover_glyph\":null,\"muted_glyph\":{\"id\":\"1056\"},\"nonselection_glyph\":{\"id\":\"1055\"},\"view\":{\"id\":\"1058\"}},\"id\":\"1057\",\"type\":\"GlyphRenderer\"},{\"attributes\":{\"fill_alpha\":{\"value\":0.2},\"fill_color\":{\"value\":null},\"hatch_alpha\":{\"value\":0.2},\"line_alpha\":{\"value\":0.2},\"line_color\":{\"value\":\"deeppink\"},\"marker\":{\"value\":\"square\"},\"x\":{\"field\":\"amount_Ca\"},\"y\":{\"field\":\"amount_CaX2\"}},\"id\":\"1063\",\"type\":\"Scatter\"},{\"attributes\":{\"coordinates\":null,\"data_source\":{\"id\":\"1066\"},\"glyph\":{\"id\":\"1068\"},\"group\":null,\"hover_glyph\":null,\"muted_glyph\":{\"id\":\"1070\"},\"nonselection_glyph\":{\"id\":\"1069\"},\"view\":{\"id\":\"1072\"}},\"id\":\"1071\",\"type\":\"GlyphRenderer\"},{\"attributes\":{\"line_cap\":\"round\",\"line_color\":\"deeppink\",\"line_width\":2,\"x\":{\"field\":\"amount_Ca\"},\"y\":{\"field\":\"amount_CaX2\"}},\"id\":\"1054\",\"type\":\"Line\"},{\"attributes\":{},\"id\":\"1095\",\"type\":\"UnionRenderers\"},{\"attributes\":{\"data\":{\"amount_Ca\":{\"__ndarray__\":\"vInYl7LSrDy3mZmZmZmZP6iZmZmZmak/OzMzMzMzsz+hmZmZmZm5PwQAAAAAAMA/ODMzMzMzwz9rZmZmZmbGP56ZmZmZmck/0czMzMzMzD8CAAAAAADQP5yZmZmZmdE/NjMzMzMz0z/PzMzMzMzUP2lmZmZmZtY/AgAAAAAA2D+cmZmZmZnZPzYzMzMzM9s/z8zMzMzM3D9oZmZmZmbePwEAAAAAAOA/\",\"dtype\":\"float64\",\"order\":\"little\",\"shape\":[21]},\"amount_Ca+2\":{\"__ndarray__\":\"vInYl7LSnDzIIBcGr49KPzvQoIcQGmw/s69fkXSmgj8PM2BweuaSP1wiHVI45p8/smkrqlvEpz/nrfCrSkSwPxUr+7En/bQ/zAs3L/z0uT+VNq4LpBu/P2mehzoAM8I/uRl2Mh3mxD/lICLhU6THP+NtL/WLa8o/qEFpDjA6zT9vxb7egwfQP78jWvuOdNE/fb0Wwdfj0j+ni6FUD1XUPzAm2jL1x9U/\",\"dtype\":\"float64\",\"order\":\"little\",\"shape\":[21]},\"amount_CaX2\":{\"__ndarray__\":\"vInYl7LSnDyx4GghHMWYP6SMH5H416c/RT0HoWTesD/djIH9+t+0P3G3eOtxBrg/l7FQkTiEuj/vHtwggoi8PycIOIELNr4/1o1iap2kvz+55Cj6LXLAP8+Uq/gyAME/s0zwM0mAwT+5eHe4RfXBP+9enddAYcI/XL6W8c/Fwj9bqLV1KyTDP+4esm9IfcM/pB5sF+rRwz+DtYkjriLEP6OzS5oVcMQ/\",\"dtype\":\"float64\",\"order\":\"little\",\"shape\":[21]},\"amount_K\":{\"__ndarray__\":\"oZmZmZmZuT9ZuB6F61G4PxHXo3A9Crc/yvUoXI/CtT+CFK5H4Xq0PzozMzMzM7M/81G4HoXrsT+rcD0K16OwP8YehetRuK4/N1yPwvUorD+omZmZmZmpPxjXo3A9Cqc/iRSuR+F6pD/6UbgeheuhP9QehetRuJ4/t5mZmZmZmT+YFK5H4XqUP/IehetRuI4/tRSuR+F6hD/uFK5H4Xp0P7yJ2Jey0qw8\",\"dtype\":\"float64\",\"order\":\"little\",\"shape\":[21]},\"amount_K+\":{\"__ndarray__\":\"BYu8rjdkdz9DqgGM3o+BP13O2G22d4c/yOVjP/HJjD+c56pJWHSQP/12Gjvzy5E/7B1M/jB6kj9DYZVVLZ2SP3L3MbzhUZI/WAFLhoevkT9/qGSCv8eQP8JF53mVT48/Xc8MGWizjD8zCQm4ZcqJP22rda6aoIY/584sJpU/gz8qR4CDDF5/P+92rB1q6nc/Du7SR6MucD9yYLlxyGZgP7yJ2Jey0pw8\",\"dtype\":\"float64\",\"order\":\"little\",\"shape\":[21]},\"amount_KX\":{\"__ndarray__\":\"8dCtHlYjuD8Rg56z7x+2P0W96KJGG7Q/EXk8NFEpsj+bWkM1y12wP/Uq2chsgK0/8JRKvvGZqj+1MLBpF/mnPw0jbA1hj6U/i9tp/zFRoz9pRWfYuTWhP08LVCSwbJ4/ZMHVgg6cmj9aH2xh1/GWPx5JSpQEaJM/h2QGDZ7zjz+bBZxNvEaJP3vjrtwcw4I/XDuJRx/HeD9qyaId+o5oP7yJ2Jey0pw8\",\"dtype\":\"float64\",\"order\":\"little\",\"shape\":[21]},\"amount_Na+\":{\"__ndarray__\":\"4dCtHlYjuD+seSniPkHBP+wkBJqf+cU/xXklOw3zyT8jOiOY4A7NPyUCrx2NZs8/ZqtxgFqV0D+KFaT9Y0PRP3GISeLxzNE/WIIe9XQ80j9izTU15ZjSP4DV8Pr95tI/xagdHAoq0z+qOo4uY2TTP30D4iDBl9M/e/H+4WzF0z+EiCJYYe7TPweWl1ZhE9Q/jkOKlAY11D8S+8QXzFPUP6GzS5oVcNQ/\",\"dtype\":\"float64\",\"order\":\"little\",\"shape\":[21]},\"amount_NaX\":{\"__ndarray__\":\"ZCXuEcSQ0z/G3IQo+vjQP0wOL5mTOc0/dLkN+CVAyT8W+Q+bUiTGPxMxhBWmzMM/bNxPMn4Iwj8kCOs3a6zAP6pEQN2eMr8/DV3skZJ0vT/nMI+R0QK8P28Qo3puyro/XcPv9T2+uT/Gey2s2dS4P31Y3uJhB7g/g6Bq3rJQtz9fRNwF4ay2P1UOCAzhGLY/OVg9FEyStT8nelIHNhe1P+uXN/0PprQ/\",\"dtype\":\"float64\",\"order\":\"little\",\"shape\":[21]},\"index\":[0,1,2,3,4,5,6,7,8,9,10,11,12,13,14,15,16,17,18,19,20],\"pH\":{\"__ndarray__\":\"L/I2jqj8G0AOzsMM3/wbQKRqG7lB/RtAL1TmpND9G0CToXE6kP4bQBUWX8uB/xtAID2O/qEAHEDimro16wEcQJTG/59XAxxAIkbFFOIEHEBxXZhBhgYcQLQ+YZhACBxApF5tLg4KHECwS4Oc7AscQOG8/OPZDRxAd0N9WdQPHEBNeleU2hEcQISlqGHrExxAog1PugUWHEBEHA27KBgcQDaIVJ5TGhxA\",\"dtype\":\"float64\",\"order\":\"little\",\"shape\":[21]}},\"selected\":{\"id\":\"1100\"},\"selection_policy\":{\"id\":\"1099\"}},\"id\":\"1066\",\"type\":\"ColumnDataSource\"},{\"attributes\":{\"data\":{\"amount_Ca\":{\"__ndarray__\":\"vInYl7LSrDy3mZmZmZmZP6iZmZmZmak/OzMzMzMzsz+hmZmZmZm5PwQAAAAAAMA/ODMzMzMzwz9rZmZmZmbGP56ZmZmZmck/0czMzMzMzD8CAAAAAADQP5yZmZmZmdE/NjMzMzMz0z/PzMzMzMzUP2lmZmZmZtY/AgAAAAAA2D+cmZmZmZnZPzYzMzMzM9s/z8zMzMzM3D9oZmZmZmbePwEAAAAAAOA/\",\"dtype\":\"float64\",\"order\":\"little\",\"shape\":[21]},\"amount_Ca+2\":{\"__ndarray__\":\"vInYl7LSnDzIIBcGr49KPzvQoIcQGmw/s69fkXSmgj8PM2BweuaSP1wiHVI45p8/smkrqlvEpz/nrfCrSkSwPxUr+7En/bQ/zAs3L/z0uT+VNq4LpBu/P2mehzoAM8I/uRl2Mh3mxD/lICLhU6THP+NtL/WLa8o/qEFpDjA6zT9vxb7egwfQP78jWvuOdNE/fb0Wwdfj0j+ni6FUD1XUPzAm2jL1x9U/\",\"dtype\":\"float64\",\"order\":\"little\",\"shape\":[21]},\"amount_CaX2\":{\"__ndarray__\":\"vInYl7LSnDyx4GghHMWYP6SMH5H416c/RT0HoWTesD/djIH9+t+0P3G3eOtxBrg/l7FQkTiEuj/vHtwggoi8PycIOIELNr4/1o1iap2kvz+55Cj6LXLAP8+Uq/gyAME/s0zwM0mAwT+5eHe4RfXBP+9enddAYcI/XL6W8c/Fwj9bqLV1KyTDP+4esm9IfcM/pB5sF+rRwz+DtYkjriLEP6OzS5oVcMQ/\",\"dtype\":\"float64\",\"order\":\"little\",\"shape\":[21]},\"amount_K\":{\"__ndarray__\":\"oZmZmZmZuT9ZuB6F61G4PxHXo3A9Crc/yvUoXI/CtT+CFK5H4Xq0PzozMzMzM7M/81G4HoXrsT+rcD0K16OwP8YehetRuK4/N1yPwvUorD+omZmZmZmpPxjXo3A9Cqc/iRSuR+F6pD/6UbgeheuhP9QehetRuJ4/t5mZmZmZmT+YFK5H4XqUP/IehetRuI4/tRSuR+F6hD/uFK5H4Xp0P7yJ2Jey0qw8\",\"dtype\":\"float64\",\"order\":\"little\",\"shape\":[21]},\"amount_K+\":{\"__ndarray__\":\"BYu8rjdkdz9DqgGM3o+BP13O2G22d4c/yOVjP/HJjD+c56pJWHSQP/12Gjvzy5E/7B1M/jB6kj9DYZVVLZ2SP3L3MbzhUZI/WAFLhoevkT9/qGSCv8eQP8JF53mVT48/Xc8MGWizjD8zCQm4ZcqJP22rda6aoIY/584sJpU/gz8qR4CDDF5/P+92rB1q6nc/Du7SR6MucD9yYLlxyGZgP7yJ2Jey0pw8\",\"dtype\":\"float64\",\"order\":\"little\",\"shape\":[21]},\"amount_KX\":{\"__ndarray__\":\"8dCtHlYjuD8Rg56z7x+2P0W96KJGG7Q/EXk8NFEpsj+bWkM1y12wP/Uq2chsgK0/8JRKvvGZqj+1MLBpF/mnPw0jbA1hj6U/i9tp/zFRoz9pRWfYuTWhP08LVCSwbJ4/ZMHVgg6cmj9aH2xh1/GWPx5JSpQEaJM/h2QGDZ7zjz+bBZxNvEaJP3vjrtwcw4I/XDuJRx/HeD9qyaId+o5oP7yJ2Jey0pw8\",\"dtype\":\"float64\",\"order\":\"little\",\"shape\":[21]},\"amount_Na+\":{\"__ndarray__\":\"4dCtHlYjuD+seSniPkHBP+wkBJqf+cU/xXklOw3zyT8jOiOY4A7NPyUCrx2NZs8/ZqtxgFqV0D+KFaT9Y0PRP3GISeLxzNE/WIIe9XQ80j9izTU15ZjSP4DV8Pr95tI/xagdHAoq0z+qOo4uY2TTP30D4iDBl9M/e/H+4WzF0z+EiCJYYe7TPweWl1ZhE9Q/jkOKlAY11D8S+8QXzFPUP6GzS5oVcNQ/\",\"dtype\":\"float64\",\"order\":\"little\",\"shape\":[21]},\"amount_NaX\":{\"__ndarray__\":\"ZCXuEcSQ0z/G3IQo+vjQP0wOL5mTOc0/dLkN+CVAyT8W+Q+bUiTGPxMxhBWmzMM/bNxPMn4Iwj8kCOs3a6zAP6pEQN2eMr8/DV3skZJ0vT/nMI+R0QK8P28Qo3puyro/XcPv9T2+uT/Gey2s2dS4P31Y3uJhB7g/g6Bq3rJQtz9fRNwF4ay2P1UOCAzhGLY/OVg9FEyStT8nelIHNhe1P+uXN/0PprQ/\",\"dtype\":\"float64\",\"order\":\"little\",\"shape\":[21]},\"index\":[0,1,2,3,4,5,6,7,8,9,10,11,12,13,14,15,16,17,18,19,20],\"pH\":{\"__ndarray__\":\"L/I2jqj8G0AOzsMM3/wbQKRqG7lB/RtAL1TmpND9G0CToXE6kP4bQBUWX8uB/xtAID2O/qEAHEDimro16wEcQJTG/59XAxxAIkbFFOIEHEBxXZhBhgYcQLQ+YZhACBxApF5tLg4KHECwS4Oc7AscQOG8/OPZDRxAd0N9WdQPHEBNeleU2hEcQISlqGHrExxAog1PugUWHEBEHA27KBgcQDaIVJ5TGhxA\",\"dtype\":\"float64\",\"order\":\"little\",\"shape\":[21]}},\"selected\":{\"id\":\"1096\"},\"selection_policy\":{\"id\":\"1095\"}},\"id\":\"1052\",\"type\":\"ColumnDataSource\"},{\"attributes\":{},\"id\":\"1096\",\"type\":\"Selection\"},{\"attributes\":{\"data\":{\"amount_Ca\":{\"__ndarray__\":\"vInYl7LSrDy3mZmZmZmZP6iZmZmZmak/OzMzMzMzsz+hmZmZmZm5PwQAAAAAAMA/ODMzMzMzwz9rZmZmZmbGP56ZmZmZmck/0czMzMzMzD8CAAAAAADQP5yZmZmZmdE/NjMzMzMz0z/PzMzMzMzUP2lmZmZmZtY/AgAAAAAA2D+cmZmZmZnZPzYzMzMzM9s/z8zMzMzM3D9oZmZmZmbePwEAAAAAAOA/\",\"dtype\":\"float64\",\"order\":\"little\",\"shape\":[21]},\"amount_Ca+2\":{\"__ndarray__\":\"vInYl7LSnDzIIBcGr49KPzvQoIcQGmw/s69fkXSmgj8PM2BweuaSP1wiHVI45p8/smkrqlvEpz/nrfCrSkSwPxUr+7En/bQ/zAs3L/z0uT+VNq4LpBu/P2mehzoAM8I/uRl2Mh3mxD/lICLhU6THP+NtL/WLa8o/qEFpDjA6zT9vxb7egwfQP78jWvuOdNE/fb0Wwdfj0j+ni6FUD1XUPzAm2jL1x9U/\",\"dtype\":\"float64\",\"order\":\"little\",\"shape\":[21]},\"amount_CaX2\":{\"__ndarray__\":\"vInYl7LSnDyx4GghHMWYP6SMH5H416c/RT0HoWTesD/djIH9+t+0P3G3eOtxBrg/l7FQkTiEuj/vHtwggoi8PycIOIELNr4/1o1iap2kvz+55Cj6LXLAP8+Uq/gyAME/s0zwM0mAwT+5eHe4RfXBP+9enddAYcI/XL6W8c/Fwj9bqLV1KyTDP+4esm9IfcM/pB5sF+rRwz+DtYkjriLEP6OzS5oVcMQ/\",\"dtype\":\"float64\",\"order\":\"little\",\"shape\":[21]},\"amount_K\":{\"__ndarray__\":\"oZmZmZmZuT9ZuB6F61G4PxHXo3A9Crc/yvUoXI/CtT+CFK5H4Xq0PzozMzMzM7M/81G4HoXrsT+rcD0K16OwP8YehetRuK4/N1yPwvUorD+omZmZmZmpPxjXo3A9Cqc/iRSuR+F6pD/6UbgeheuhP9QehetRuJ4/t5mZmZmZmT+YFK5H4XqUP/IehetRuI4/tRSuR+F6hD/uFK5H4Xp0P7yJ2Jey0qw8\",\"dtype\":\"float64\",\"order\":\"little\",\"shape\":[21]},\"amount_K+\":{\"__ndarray__\":\"BYu8rjdkdz9DqgGM3o+BP13O2G22d4c/yOVjP/HJjD+c56pJWHSQP/12Gjvzy5E/7B1M/jB6kj9DYZVVLZ2SP3L3MbzhUZI/WAFLhoevkT9/qGSCv8eQP8JF53mVT48/Xc8MGWizjD8zCQm4ZcqJP22rda6aoIY/584sJpU/gz8qR4CDDF5/P+92rB1q6nc/Du7SR6MucD9yYLlxyGZgP7yJ2Jey0pw8\",\"dtype\":\"float64\",\"order\":\"little\",\"shape\":[21]},\"amount_KX\":{\"__ndarray__\":\"8dCtHlYjuD8Rg56z7x+2P0W96KJGG7Q/EXk8NFEpsj+bWkM1y12wP/Uq2chsgK0/8JRKvvGZqj+1MLBpF/mnPw0jbA1hj6U/i9tp/zFRoz9pRWfYuTWhP08LVCSwbJ4/ZMHVgg6cmj9aH2xh1/GWPx5JSpQEaJM/h2QGDZ7zjz+bBZxNvEaJP3vjrtwcw4I/XDuJRx/HeD9qyaId+o5oP7yJ2Jey0pw8\",\"dtype\":\"float64\",\"order\":\"little\",\"shape\":[21]},\"amount_Na+\":{\"__ndarray__\":\"4dCtHlYjuD+seSniPkHBP+wkBJqf+cU/xXklOw3zyT8jOiOY4A7NPyUCrx2NZs8/ZqtxgFqV0D+KFaT9Y0PRP3GISeLxzNE/WIIe9XQ80j9izTU15ZjSP4DV8Pr95tI/xagdHAoq0z+qOo4uY2TTP30D4iDBl9M/e/H+4WzF0z+EiCJYYe7TPweWl1ZhE9Q/jkOKlAY11D8S+8QXzFPUP6GzS5oVcNQ/\",\"dtype\":\"float64\",\"order\":\"little\",\"shape\":[21]},\"amount_NaX\":{\"__ndarray__\":\"ZCXuEcSQ0z/G3IQo+vjQP0wOL5mTOc0/dLkN+CVAyT8W+Q+bUiTGPxMxhBWmzMM/bNxPMn4Iwj8kCOs3a6zAP6pEQN2eMr8/DV3skZJ0vT/nMI+R0QK8P28Qo3puyro/XcPv9T2+uT/Gey2s2dS4P31Y3uJhB7g/g6Bq3rJQtz9fRNwF4ay2P1UOCAzhGLY/OVg9FEyStT8nelIHNhe1P+uXN/0PprQ/\",\"dtype\":\"float64\",\"order\":\"little\",\"shape\":[21]},\"index\":[0,1,2,3,4,5,6,7,8,9,10,11,12,13,14,15,16,17,18,19,20],\"pH\":{\"__ndarray__\":\"L/I2jqj8G0AOzsMM3/wbQKRqG7lB/RtAL1TmpND9G0CToXE6kP4bQBUWX8uB/xtAID2O/qEAHEDimro16wEcQJTG/59XAxxAIkbFFOIEHEBxXZhBhgYcQLQ+YZhACBxApF5tLg4KHECwS4Oc7AscQOG8/OPZDRxAd0N9WdQPHEBNeleU2hEcQISlqGHrExxAog1PugUWHEBEHA27KBgcQDaIVJ5TGhxA\",\"dtype\":\"float64\",\"order\":\"little\",\"shape\":[21]}},\"selected\":{\"id\":\"1098\"},\"selection_policy\":{\"id\":\"1097\"}},\"id\":\"1059\",\"type\":\"ColumnDataSource\"},{\"attributes\":{\"source\":{\"id\":\"1066\"}},\"id\":\"1072\",\"type\":\"CDSView\"},{\"attributes\":{\"source\":{\"id\":\"1073\"}},\"id\":\"1079\",\"type\":\"CDSView\"},{\"attributes\":{\"coordinates\":null,\"data_source\":{\"id\":\"1073\"},\"glyph\":{\"id\":\"1075\"},\"group\":null,\"hover_glyph\":null,\"muted_glyph\":{\"id\":\"1077\"},\"nonselection_glyph\":{\"id\":\"1076\"},\"view\":{\"id\":\"1079\"}},\"id\":\"1078\",\"type\":\"GlyphRenderer\"},{\"attributes\":{},\"id\":\"1087\",\"type\":\"AllLabels\"},{\"attributes\":{\"fill_alpha\":{\"value\":0.1},\"fill_color\":{\"value\":null},\"hatch_alpha\":{\"value\":0.1},\"line_alpha\":{\"value\":0.1},\"line_color\":{\"value\":\"deeppink\"},\"marker\":{\"value\":\"square\"},\"x\":{\"field\":\"amount_Ca\"},\"y\":{\"field\":\"amount_CaX2\"}},\"id\":\"1062\",\"type\":\"Scatter\"},{\"attributes\":{\"source\":{\"id\":\"1059\"}},\"id\":\"1065\",\"type\":\"CDSView\"},{\"attributes\":{},\"id\":\"1097\",\"type\":\"UnionRenderers\"},{\"attributes\":{},\"id\":\"1098\",\"type\":\"Selection\"},{\"attributes\":{},\"id\":\"1086\",\"type\":\"BasicTickFormatter\"},{\"attributes\":{\"fill_alpha\":{\"value\":0.1},\"fill_color\":{\"value\":\"#1f77b4\"},\"hatch_alpha\":{\"value\":0.1},\"line_alpha\":{\"value\":0.1},\"line_color\":{\"value\":\"green\"},\"line_width\":{\"value\":2},\"marker\":{\"value\":\"x\"},\"size\":{\"value\":10},\"x\":{\"field\":\"amount_Ca\"},\"y\":{\"field\":\"amount_NaX\"}},\"id\":\"1076\",\"type\":\"Scatter\"},{\"attributes\":{\"tools\":[{\"id\":\"1023\"},{\"id\":\"1024\"},{\"id\":\"1025\"},{\"id\":\"1026\"},{\"id\":\"1027\"},{\"id\":\"1028\"},{\"id\":\"1003\"}]},\"id\":\"1030\",\"type\":\"Toolbar\"},{\"attributes\":{\"bottom_units\":\"screen\",\"coordinates\":null,\"fill_alpha\":0.5,\"fill_color\":\"lightgrey\",\"group\":null,\"left_units\":\"screen\",\"level\":\"overlay\",\"line_alpha\":1.0,\"line_color\":\"black\",\"line_dash\":[4,4],\"line_width\":2,\"right_units\":\"screen\",\"syncable\":false,\"top_units\":\"screen\"},\"id\":\"1029\",\"type\":\"BoxAnnotation\"},{\"attributes\":{\"line_cap\":\"round\",\"line_color\":\"green\",\"line_dash\":[4,4],\"line_width\":2,\"x\":{\"field\":\"amount_Ca\"},\"y\":{\"field\":\"amount_NaX\"}},\"id\":\"1068\",\"type\":\"Line\"},{\"attributes\":{\"line_alpha\":0.1,\"line_cap\":\"round\",\"line_color\":\"midnightblue\",\"line_width\":2,\"x\":{\"field\":\"amount_Ca\"},\"y\":{\"field\":\"amount_KX\"}},\"id\":\"1041\",\"type\":\"Line\"},{\"attributes\":{\"line_cap\":\"round\",\"line_color\":\"midnightblue\",\"line_width\":2,\"x\":{\"field\":\"amount_Ca\"},\"y\":{\"field\":\"amount_KX\"}},\"id\":\"1040\",\"type\":\"Line\"},{\"attributes\":{},\"id\":\"1027\",\"type\":\"ResetTool\"},{\"attributes\":{},\"id\":\"1026\",\"type\":\"SaveTool\"},{\"attributes\":{\"line_alpha\":0.2,\"line_cap\":\"round\",\"line_color\":\"midnightblue\",\"line_width\":2,\"x\":{\"field\":\"amount_Ca\"},\"y\":{\"field\":\"amount_KX\"}},\"id\":\"1042\",\"type\":\"Line\"},{\"attributes\":{\"overlay\":{\"id\":\"1029\"}},\"id\":\"1025\",\"type\":\"BoxZoomTool\"},{\"attributes\":{},\"id\":\"1023\",\"type\":\"PanTool\"},{\"attributes\":{},\"id\":\"1028\",\"type\":\"HelpTool\"},{\"attributes\":{},\"id\":\"1099\",\"type\":\"UnionRenderers\"},{\"attributes\":{},\"id\":\"1020\",\"type\":\"BasicTicker\"},{\"attributes\":{},\"id\":\"1100\",\"type\":\"Selection\"},{\"attributes\":{\"axis\":{\"id\":\"1019\"},\"coordinates\":null,\"dimension\":1,\"group\":null,\"ticker\":null},\"id\":\"1022\",\"type\":\"Grid\"},{\"attributes\":{\"axis_label\":\"AMOUNT [MOL]\",\"coordinates\":null,\"formatter\":{\"id\":\"1086\"},\"group\":null,\"major_label_policy\":{\"id\":\"1087\"},\"ticker\":{\"id\":\"1020\"}},\"id\":\"1019\",\"type\":\"LinearAxis\"},{\"attributes\":{},\"id\":\"1024\",\"type\":\"WheelZoomTool\"},{\"attributes\":{\"axis_label\":\"AMOUNT OF CA+2 [MOL]\",\"coordinates\":null,\"formatter\":{\"id\":\"1089\"},\"group\":null,\"major_label_policy\":{\"id\":\"1090\"},\"ticker\":{\"id\":\"1016\"}},\"id\":\"1015\",\"type\":\"LinearAxis\"},{\"attributes\":{},\"id\":\"1009\",\"type\":\"DataRange1d\"},{\"attributes\":{\"axis\":{\"id\":\"1015\"},\"coordinates\":null,\"group\":null,\"ticker\":null},\"id\":\"1018\",\"type\":\"Grid\"},{\"attributes\":{},\"id\":\"1016\",\"type\":\"BasicTicker\"},{\"attributes\":{\"coordinates\":null,\"data_source\":{\"id\":\"1038\"},\"glyph\":{\"id\":\"1040\"},\"group\":null,\"hover_glyph\":null,\"muted_glyph\":{\"id\":\"1042\"},\"nonselection_glyph\":{\"id\":\"1041\"},\"view\":{\"id\":\"1044\"}},\"id\":\"1043\",\"type\":\"GlyphRenderer\"},{\"attributes\":{},\"id\":\"1007\",\"type\":\"DataRange1d\"},{\"attributes\":{},\"id\":\"1011\",\"type\":\"LinearScale\"},{\"attributes\":{\"coordinates\":null,\"group\":null,\"text\":\"DEPENDENCE OF ION EXCHANGE SPECIES ON ADDED CA+2\"},\"id\":\"1005\",\"type\":\"Title\"},{\"attributes\":{},\"id\":\"1013\",\"type\":\"LinearScale\"},{\"attributes\":{\"source\":{\"id\":\"1038\"}},\"id\":\"1044\",\"type\":\"CDSView\"},{\"attributes\":{\"data\":{\"amount_Ca\":{\"__ndarray__\":\"vInYl7LSrDy3mZmZmZmZP6iZmZmZmak/OzMzMzMzsz+hmZmZmZm5PwQAAAAAAMA/ODMzMzMzwz9rZmZmZmbGP56ZmZmZmck/0czMzMzMzD8CAAAAAADQP5yZmZmZmdE/NjMzMzMz0z/PzMzMzMzUP2lmZmZmZtY/AgAAAAAA2D+cmZmZmZnZPzYzMzMzM9s/z8zMzMzM3D9oZmZmZmbePwEAAAAAAOA/\",\"dtype\":\"float64\",\"order\":\"little\",\"shape\":[21]},\"amount_Ca+2\":{\"__ndarray__\":\"vInYl7LSnDzIIBcGr49KPzvQoIcQGmw/s69fkXSmgj8PM2BweuaSP1wiHVI45p8/smkrqlvEpz/nrfCrSkSwPxUr+7En/bQ/zAs3L/z0uT+VNq4LpBu/P2mehzoAM8I/uRl2Mh3mxD/lICLhU6THP+NtL/WLa8o/qEFpDjA6zT9vxb7egwfQP78jWvuOdNE/fb0Wwdfj0j+ni6FUD1XUPzAm2jL1x9U/\",\"dtype\":\"float64\",\"order\":\"little\",\"shape\":[21]},\"amount_CaX2\":{\"__ndarray__\":\"vInYl7LSnDyx4GghHMWYP6SMH5H416c/RT0HoWTesD/djIH9+t+0P3G3eOtxBrg/l7FQkTiEuj/vHtwggoi8PycIOIELNr4/1o1iap2kvz+55Cj6LXLAP8+Uq/gyAME/s0zwM0mAwT+5eHe4RfXBP+9enddAYcI/XL6W8c/Fwj9bqLV1KyTDP+4esm9IfcM/pB5sF+rRwz+DtYkjriLEP6OzS5oVcMQ/\",\"dtype\":\"float64\",\"order\":\"little\",\"shape\":[21]},\"amount_K\":{\"__ndarray__\":\"oZmZmZmZuT9ZuB6F61G4PxHXo3A9Crc/yvUoXI/CtT+CFK5H4Xq0PzozMzMzM7M/81G4HoXrsT+rcD0K16OwP8YehetRuK4/N1yPwvUorD+omZmZmZmpPxjXo3A9Cqc/iRSuR+F6pD/6UbgeheuhP9QehetRuJ4/t5mZmZmZmT+YFK5H4XqUP/IehetRuI4/tRSuR+F6hD/uFK5H4Xp0P7yJ2Jey0qw8\",\"dtype\":\"float64\",\"order\":\"little\",\"shape\":[21]},\"amount_K+\":{\"__ndarray__\":\"BYu8rjdkdz9DqgGM3o+BP13O2G22d4c/yOVjP/HJjD+c56pJWHSQP/12Gjvzy5E/7B1M/jB6kj9DYZVVLZ2SP3L3MbzhUZI/WAFLhoevkT9/qGSCv8eQP8JF53mVT48/Xc8MGWizjD8zCQm4ZcqJP22rda6aoIY/584sJpU/gz8qR4CDDF5/P+92rB1q6nc/Du7SR6MucD9yYLlxyGZgP7yJ2Jey0pw8\",\"dtype\":\"float64\",\"order\":\"little\",\"shape\":[21]},\"amount_KX\":{\"__ndarray__\":\"8dCtHlYjuD8Rg56z7x+2P0W96KJGG7Q/EXk8NFEpsj+bWkM1y12wP/Uq2chsgK0/8JRKvvGZqj+1MLBpF/mnPw0jbA1hj6U/i9tp/zFRoz9pRWfYuTWhP08LVCSwbJ4/ZMHVgg6cmj9aH2xh1/GWPx5JSpQEaJM/h2QGDZ7zjz+bBZxNvEaJP3vjrtwcw4I/XDuJRx/HeD9qyaId+o5oP7yJ2Jey0pw8\",\"dtype\":\"float64\",\"order\":\"little\",\"shape\":[21]},\"amount_Na+\":{\"__ndarray__\":\"4dCtHlYjuD+seSniPkHBP+wkBJqf+cU/xXklOw3zyT8jOiOY4A7NPyUCrx2NZs8/ZqtxgFqV0D+KFaT9Y0PRP3GISeLxzNE/WIIe9XQ80j9izTU15ZjSP4DV8Pr95tI/xagdHAoq0z+qOo4uY2TTP30D4iDBl9M/e/H+4WzF0z+EiCJYYe7TPweWl1ZhE9Q/jkOKlAY11D8S+8QXzFPUP6GzS5oVcNQ/\",\"dtype\":\"float64\",\"order\":\"little\",\"shape\":[21]},\"amount_NaX\":{\"__ndarray__\":\"ZCXuEcSQ0z/G3IQo+vjQP0wOL5mTOc0/dLkN+CVAyT8W+Q+bUiTGPxMxhBWmzMM/bNxPMn4Iwj8kCOs3a6zAP6pEQN2eMr8/DV3skZJ0vT/nMI+R0QK8P28Qo3puyro/XcPv9T2+uT/Gey2s2dS4P31Y3uJhB7g/g6Bq3rJQtz9fRNwF4ay2P1UOCAzhGLY/OVg9FEyStT8nelIHNhe1P+uXN/0PprQ/\",\"dtype\":\"float64\",\"order\":\"little\",\"shape\":[21]},\"index\":[0,1,2,3,4,5,6,7,8,9,10,11,12,13,14,15,16,17,18,19,20],\"pH\":{\"__ndarray__\":\"L/I2jqj8G0AOzsMM3/wbQKRqG7lB/RtAL1TmpND9G0CToXE6kP4bQBUWX8uB/xtAID2O/qEAHEDimro16wEcQJTG/59XAxxAIkbFFOIEHEBxXZhBhgYcQLQ+YZhACBxApF5tLg4KHECwS4Oc7AscQOG8/OPZDRxAd0N9WdQPHEBNeleU2hEcQISlqGHrExxAog1PugUWHEBEHA27KBgcQDaIVJ5TGhxA\",\"dtype\":\"float64\",\"order\":\"little\",\"shape\":[21]}},\"selected\":{\"id\":\"1092\"},\"selection_policy\":{\"id\":\"1091\"}},\"id\":\"1038\",\"type\":\"ColumnDataSource\"},{\"attributes\":{\"callback\":null,\"tooltips\":[[\"amount(Ca)\",\"@amount_Ca mol\"],[\"amount(KX)\",\"@amount_KX mol\"],[\"amount(CaX2)\",\"@amount_CaX2 mol\"],[\"amount(NaX)\",\"@amount_NaX mol\"]]},\"id\":\"1003\",\"type\":\"HoverTool\"},{\"attributes\":{\"data\":{\"amount_Ca\":{\"__ndarray__\":\"vInYl7LSrDy3mZmZmZmZP6iZmZmZmak/OzMzMzMzsz+hmZmZmZm5PwQAAAAAAMA/ODMzMzMzwz9rZmZmZmbGP56ZmZmZmck/0czMzMzMzD8CAAAAAADQP5yZmZmZmdE/NjMzMzMz0z/PzMzMzMzUP2lmZmZmZtY/AgAAAAAA2D+cmZmZmZnZPzYzMzMzM9s/z8zMzMzM3D9oZmZmZmbePwEAAAAAAOA/\",\"dtype\":\"float64\",\"order\":\"little\",\"shape\":[21]},\"amount_Ca+2\":{\"__ndarray__\":\"vInYl7LSnDzIIBcGr49KPzvQoIcQGmw/s69fkXSmgj8PM2BweuaSP1wiHVI45p8/smkrqlvEpz/nrfCrSkSwPxUr+7En/bQ/zAs3L/z0uT+VNq4LpBu/P2mehzoAM8I/uRl2Mh3mxD/lICLhU6THP+NtL/WLa8o/qEFpDjA6zT9vxb7egwfQP78jWvuOdNE/fb0Wwdfj0j+ni6FUD1XUPzAm2jL1x9U/\",\"dtype\":\"float64\",\"order\":\"little\",\"shape\":[21]},\"amount_CaX2\":{\"__ndarray__\":\"vInYl7LSnDyx4GghHMWYP6SMH5H416c/RT0HoWTesD/djIH9+t+0P3G3eOtxBrg/l7FQkTiEuj/vHtwggoi8PycIOIELNr4/1o1iap2kvz+55Cj6LXLAP8+Uq/gyAME/s0zwM0mAwT+5eHe4RfXBP+9enddAYcI/XL6W8c/Fwj9bqLV1KyTDP+4esm9IfcM/pB5sF+rRwz+DtYkjriLEP6OzS5oVcMQ/\",\"dtype\":\"float64\",\"order\":\"little\",\"shape\":[21]},\"amount_K\":{\"__ndarray__\":\"oZmZmZmZuT9ZuB6F61G4PxHXo3A9Crc/yvUoXI/CtT+CFK5H4Xq0PzozMzMzM7M/81G4HoXrsT+rcD0K16OwP8YehetRuK4/N1yPwvUorD+omZmZmZmpPxjXo3A9Cqc/iRSuR+F6pD/6UbgeheuhP9QehetRuJ4/t5mZmZmZmT+YFK5H4XqUP/IehetRuI4/tRSuR+F6hD/uFK5H4Xp0P7yJ2Jey0qw8\",\"dtype\":\"float64\",\"order\":\"little\",\"shape\":[21]},\"amount_K+\":{\"__ndarray__\":\"BYu8rjdkdz9DqgGM3o+BP13O2G22d4c/yOVjP/HJjD+c56pJWHSQP/12Gjvzy5E/7B1M/jB6kj9DYZVVLZ2SP3L3MbzhUZI/WAFLhoevkT9/qGSCv8eQP8JF53mVT48/Xc8MGWizjD8zCQm4ZcqJP22rda6aoIY/584sJpU/gz8qR4CDDF5/P+92rB1q6nc/Du7SR6MucD9yYLlxyGZgP7yJ2Jey0pw8\",\"dtype\":\"float64\",\"order\":\"little\",\"shape\":[21]},\"amount_KX\":{\"__ndarray__\":\"8dCtHlYjuD8Rg56z7x+2P0W96KJGG7Q/EXk8NFEpsj+bWkM1y12wP/Uq2chsgK0/8JRKvvGZqj+1MLBpF/mnPw0jbA1hj6U/i9tp/zFRoz9pRWfYuTWhP08LVCSwbJ4/ZMHVgg6cmj9aH2xh1/GWPx5JSpQEaJM/h2QGDZ7zjz+bBZxNvEaJP3vjrtwcw4I/XDuJRx/HeD9qyaId+o5oP7yJ2Jey0pw8\",\"dtype\":\"float64\",\"order\":\"little\",\"shape\":[21]},\"amount_Na+\":{\"__ndarray__\":\"4dCtHlYjuD+seSniPkHBP+wkBJqf+cU/xXklOw3zyT8jOiOY4A7NPyUCrx2NZs8/ZqtxgFqV0D+KFaT9Y0PRP3GISeLxzNE/WIIe9XQ80j9izTU15ZjSP4DV8Pr95tI/xagdHAoq0z+qOo4uY2TTP30D4iDBl9M/e/H+4WzF0z+EiCJYYe7TPweWl1ZhE9Q/jkOKlAY11D8S+8QXzFPUP6GzS5oVcNQ/\",\"dtype\":\"float64\",\"order\":\"little\",\"shape\":[21]},\"amount_NaX\":{\"__ndarray__\":\"ZCXuEcSQ0z/G3IQo+vjQP0wOL5mTOc0/dLkN+CVAyT8W+Q+bUiTGPxMxhBWmzMM/bNxPMn4Iwj8kCOs3a6zAP6pEQN2eMr8/DV3skZJ0vT/nMI+R0QK8P28Qo3puyro/XcPv9T2+uT/Gey2s2dS4P31Y3uJhB7g/g6Bq3rJQtz9fRNwF4ay2P1UOCAzhGLY/OVg9FEyStT8nelIHNhe1P+uXN/0PprQ/\",\"dtype\":\"float64\",\"order\":\"little\",\"shape\":[21]},\"index\":[0,1,2,3,4,5,6,7,8,9,10,11,12,13,14,15,16,17,18,19,20],\"pH\":{\"__ndarray__\":\"L/I2jqj8G0AOzsMM3/wbQKRqG7lB/RtAL1TmpND9G0CToXE6kP4bQBUWX8uB/xtAID2O/qEAHEDimro16wEcQJTG/59XAxxAIkbFFOIEHEBxXZhBhgYcQLQ+YZhACBxApF5tLg4KHECwS4Oc7AscQOG8/OPZDRxAd0N9WdQPHEBNeleU2hEcQISlqGHrExxAog1PugUWHEBEHA27KBgcQDaIVJ5TGhxA\",\"dtype\":\"float64\",\"order\":\"little\",\"shape\":[21]}},\"selected\":{\"id\":\"1094\"},\"selection_policy\":{\"id\":\"1093\"}},\"id\":\"1045\",\"type\":\"ColumnDataSource\"}],\"root_ids\":[\"1004\"]},\"title\":\"Bokeh Application\",\"version\":\"2.4.2\"}};\n",
       "  const render_items = [{\"docid\":\"fd9b7868-ed0f-498e-ae29-63d59aca1576\",\"root_ids\":[\"1004\"],\"roots\":{\"1004\":\"98aa39a7-f710-420c-a04b-90082a8b73d4\"}}];\n",
       "  root.Bokeh.embed.embed_items_notebook(docs_json, render_items);\n",
       "\n",
       "  }\n",
       "  if (root.Bokeh !== undefined) {\n",
       "    embed_document(root);\n",
       "  } else {\n",
       "    let attempts = 0;\n",
       "    const timer = setInterval(function(root) {\n",
       "      if (root.Bokeh !== undefined) {\n",
       "        clearInterval(timer);\n",
       "        embed_document(root);\n",
       "      } else {\n",
       "        attempts++;\n",
       "        if (attempts > 100) {\n",
       "          clearInterval(timer);\n",
       "          console.log(\"Bokeh: ERROR: Unable to run BokehJS code because BokehJS library is missing\");\n",
       "        }\n",
       "      }\n",
       "    }, 10, root)\n",
       "  }\n",
       "})(window);"
      ],
      "application/vnd.bokehjs_exec.v0+json": ""
     },
     "metadata": {
      "application/vnd.bokehjs_exec.v0+json": {
       "id": "1004"
      }
     },
     "output_type": "display_data"
    }
   ],
   "source": [
    "hovertool = HoverTool()\n",
    "hovertool.tooltips = [(\"amount(Ca)\"  , \"@amount_Ca mol\"),\n",
    "                      (\"amount(KX)\"  , \"@amount_KX mol\"),\n",
    "                      (\"amount(CaX2)\", \"@amount_CaX2 mol\"),\n",
    "                      (\"amount(NaX)\" , \"@amount_NaX mol\")]\n",
    "\n",
    "p = figure(\n",
    "    title=\"DEPENDENCE OF ION EXCHANGE SPECIES ON ADDED CA+2\",\n",
    "    y_axis_label='AMOUNT [MOL]',\n",
    "    x_axis_label='AMOUNT OF CA+2 [MOL]',\n",
    "    sizing_mode=\"scale_width\",\n",
    "    plot_height=300)\n",
    "\n",
    "p.add_tools(hovertool)\n",
    "\n",
    "r11 = p.line(\"amount_Ca\", \"amount_KX\", line_width=2, line_cap=\"round\", line_color=\"midnightblue\", source=df)\n",
    "r11 = p.circle(\"amount_Ca\", \"amount_KX\", line_color=\"midnightblue\", source=df)\n",
    "\n",
    "r21 = p.line(\"amount_Ca\", \"amount_CaX2\", line_width=2, line_cap=\"round\", line_color=\"deeppink\", source=df)\n",
    "r22 = p.square(\"amount_Ca\", \"amount_CaX2\", fill_color=None, line_color=\"deeppink\", source=df)\n",
    "\n",
    "r31 = p.line(\"amount_Ca\", \"amount_NaX\", line_width=2, line_cap=\"round\", line_color=\"green\", line_dash=[4, 4], source=df)\n",
    "r32 = p.x(\"amount_Ca\", \"amount_NaX\", line_color=\"green\", size=10, line_width=2, source=df)\n",
    "\n",
    "legend = Legend(items=[\n",
    "    (\"KX\"  , [r11, r11]),\n",
    "    (\"CaX2\", [r21, r22]),\n",
    "    (\"NaX\" , [r31, r32]),\n",
    "], location=\"center\")\n",
    "\n",
    "p.add_layout(legend, 'right')\n",
    "\n",
    "show(p)"
   ]
  },
  {
   "cell_type": "markdown",
   "metadata": {
    "tags": [
     "hide-cell"
    ]
   },
   "source": [
    "We also depict the dependence of aqueous ions amounts on the growing Ca<sup>+2</sup> amount.\n"
   ]
  },
  {
   "cell_type": "code",
   "execution_count": 7,
   "metadata": {
    "tags": [
     "hide_input"
    ]
   },
   "outputs": [
    {
     "data": {
      "text/html": [
       "\n",
       "\n",
       "\n",
       "\n",
       "\n",
       "\n",
       "  <div class=\"bk-root\" id=\"0c344807-3b55-4672-bd17-d78fc3d41ba2\" data-root-id=\"1205\"></div>\n"
      ]
     },
     "metadata": {},
     "output_type": "display_data"
    },
    {
     "data": {
      "application/javascript": [
       "(function(root) {\n",
       "  function embed_document(root) {\n",
       "    \n",
       "  const docs_json = {\"c4307e9d-9e87-4363-8973-89de3bd765a5\":{\"defs\":[],\"roots\":{\"references\":[{\"attributes\":{\"below\":[{\"id\":\"1216\"}],\"center\":[{\"id\":\"1219\"},{\"id\":\"1223\"}],\"height\":300,\"left\":[{\"id\":\"1220\"}],\"renderers\":[{\"id\":\"1244\"},{\"id\":\"1251\"},{\"id\":\"1258\"},{\"id\":\"1265\"},{\"id\":\"1272\"},{\"id\":\"1279\"}],\"right\":[{\"id\":\"1281\"}],\"sizing_mode\":\"scale_width\",\"title\":{\"id\":\"1206\"},\"toolbar\":{\"id\":\"1231\"},\"x_range\":{\"id\":\"1208\"},\"x_scale\":{\"id\":\"1212\"},\"y_range\":{\"id\":\"1210\"},\"y_scale\":{\"id\":\"1214\"}},\"id\":\"1205\",\"subtype\":\"Figure\",\"type\":\"Plot\"},{\"attributes\":{\"fill_alpha\":{\"value\":0.2},\"fill_color\":{\"value\":\"#1f77b4\"},\"hatch_alpha\":{\"value\":0.2},\"line_alpha\":{\"value\":0.2},\"line_color\":{\"value\":\"midnightblue\"},\"x\":{\"field\":\"amount_Ca\"},\"y\":{\"field\":\"amount_K+\"}},\"id\":\"1250\",\"type\":\"Circle\"},{\"attributes\":{\"fill_color\":{\"value\":\"#1f77b4\"},\"line_color\":{\"value\":\"midnightblue\"},\"x\":{\"field\":\"amount_Ca\"},\"y\":{\"field\":\"amount_K+\"}},\"id\":\"1248\",\"type\":\"Circle\"},{\"attributes\":{\"line_alpha\":0.1,\"line_cap\":\"round\",\"line_color\":\"midnightblue\",\"line_width\":2,\"x\":{\"field\":\"amount_Ca\"},\"y\":{\"field\":\"amount_K+\"}},\"id\":\"1242\",\"type\":\"Line\"},{\"attributes\":{\"callback\":null,\"tooltips\":[[\"amount(Ca)\",\"@amount_Ca mol\"],[\"amount(K+)\",\"@amount_K+ mol\"],[\"amount(Ca+2)\",\"@amount_Ca+2 mol\"],[\"amount(Na+)\",\"@amount_Na+ mol\"]]},\"id\":\"1204\",\"type\":\"HoverTool\"},{\"attributes\":{\"data\":{\"amount_Ca\":{\"__ndarray__\":\"vInYl7LSrDy3mZmZmZmZP6iZmZmZmak/OzMzMzMzsz+hmZmZmZm5PwQAAAAAAMA/ODMzMzMzwz9rZmZmZmbGP56ZmZmZmck/0czMzMzMzD8CAAAAAADQP5yZmZmZmdE/NjMzMzMz0z/PzMzMzMzUP2lmZmZmZtY/AgAAAAAA2D+cmZmZmZnZPzYzMzMzM9s/z8zMzMzM3D9oZmZmZmbePwEAAAAAAOA/\",\"dtype\":\"float64\",\"order\":\"little\",\"shape\":[21]},\"amount_Ca+2\":{\"__ndarray__\":\"vInYl7LSnDzIIBcGr49KPzvQoIcQGmw/s69fkXSmgj8PM2BweuaSP1wiHVI45p8/smkrqlvEpz/nrfCrSkSwPxUr+7En/bQ/zAs3L/z0uT+VNq4LpBu/P2mehzoAM8I/uRl2Mh3mxD/lICLhU6THP+NtL/WLa8o/qEFpDjA6zT9vxb7egwfQP78jWvuOdNE/fb0Wwdfj0j+ni6FUD1XUPzAm2jL1x9U/\",\"dtype\":\"float64\",\"order\":\"little\",\"shape\":[21]},\"amount_CaX2\":{\"__ndarray__\":\"vInYl7LSnDyx4GghHMWYP6SMH5H416c/RT0HoWTesD/djIH9+t+0P3G3eOtxBrg/l7FQkTiEuj/vHtwggoi8PycIOIELNr4/1o1iap2kvz+55Cj6LXLAP8+Uq/gyAME/s0zwM0mAwT+5eHe4RfXBP+9enddAYcI/XL6W8c/Fwj9bqLV1KyTDP+4esm9IfcM/pB5sF+rRwz+DtYkjriLEP6OzS5oVcMQ/\",\"dtype\":\"float64\",\"order\":\"little\",\"shape\":[21]},\"amount_K\":{\"__ndarray__\":\"oZmZmZmZuT9ZuB6F61G4PxHXo3A9Crc/yvUoXI/CtT+CFK5H4Xq0PzozMzMzM7M/81G4HoXrsT+rcD0K16OwP8YehetRuK4/N1yPwvUorD+omZmZmZmpPxjXo3A9Cqc/iRSuR+F6pD/6UbgeheuhP9QehetRuJ4/t5mZmZmZmT+YFK5H4XqUP/IehetRuI4/tRSuR+F6hD/uFK5H4Xp0P7yJ2Jey0qw8\",\"dtype\":\"float64\",\"order\":\"little\",\"shape\":[21]},\"amount_K+\":{\"__ndarray__\":\"BYu8rjdkdz9DqgGM3o+BP13O2G22d4c/yOVjP/HJjD+c56pJWHSQP/12Gjvzy5E/7B1M/jB6kj9DYZVVLZ2SP3L3MbzhUZI/WAFLhoevkT9/qGSCv8eQP8JF53mVT48/Xc8MGWizjD8zCQm4ZcqJP22rda6aoIY/584sJpU/gz8qR4CDDF5/P+92rB1q6nc/Du7SR6MucD9yYLlxyGZgP7yJ2Jey0pw8\",\"dtype\":\"float64\",\"order\":\"little\",\"shape\":[21]},\"amount_KX\":{\"__ndarray__\":\"8dCtHlYjuD8Rg56z7x+2P0W96KJGG7Q/EXk8NFEpsj+bWkM1y12wP/Uq2chsgK0/8JRKvvGZqj+1MLBpF/mnPw0jbA1hj6U/i9tp/zFRoz9pRWfYuTWhP08LVCSwbJ4/ZMHVgg6cmj9aH2xh1/GWPx5JSpQEaJM/h2QGDZ7zjz+bBZxNvEaJP3vjrtwcw4I/XDuJRx/HeD9qyaId+o5oP7yJ2Jey0pw8\",\"dtype\":\"float64\",\"order\":\"little\",\"shape\":[21]},\"amount_Na+\":{\"__ndarray__\":\"4dCtHlYjuD+seSniPkHBP+wkBJqf+cU/xXklOw3zyT8jOiOY4A7NPyUCrx2NZs8/ZqtxgFqV0D+KFaT9Y0PRP3GISeLxzNE/WIIe9XQ80j9izTU15ZjSP4DV8Pr95tI/xagdHAoq0z+qOo4uY2TTP30D4iDBl9M/e/H+4WzF0z+EiCJYYe7TPweWl1ZhE9Q/jkOKlAY11D8S+8QXzFPUP6GzS5oVcNQ/\",\"dtype\":\"float64\",\"order\":\"little\",\"shape\":[21]},\"amount_NaX\":{\"__ndarray__\":\"ZCXuEcSQ0z/G3IQo+vjQP0wOL5mTOc0/dLkN+CVAyT8W+Q+bUiTGPxMxhBWmzMM/bNxPMn4Iwj8kCOs3a6zAP6pEQN2eMr8/DV3skZJ0vT/nMI+R0QK8P28Qo3puyro/XcPv9T2+uT/Gey2s2dS4P31Y3uJhB7g/g6Bq3rJQtz9fRNwF4ay2P1UOCAzhGLY/OVg9FEyStT8nelIHNhe1P+uXN/0PprQ/\",\"dtype\":\"float64\",\"order\":\"little\",\"shape\":[21]},\"index\":[0,1,2,3,4,5,6,7,8,9,10,11,12,13,14,15,16,17,18,19,20],\"pH\":{\"__ndarray__\":\"L/I2jqj8G0AOzsMM3/wbQKRqG7lB/RtAL1TmpND9G0CToXE6kP4bQBUWX8uB/xtAID2O/qEAHEDimro16wEcQJTG/59XAxxAIkbFFOIEHEBxXZhBhgYcQLQ+YZhACBxApF5tLg4KHECwS4Oc7AscQOG8/OPZDRxAd0N9WdQPHEBNeleU2hEcQISlqGHrExxAog1PugUWHEBEHA27KBgcQDaIVJ5TGhxA\",\"dtype\":\"float64\",\"order\":\"little\",\"shape\":[21]}},\"selected\":{\"id\":\"1313\"},\"selection_policy\":{\"id\":\"1312\"}},\"id\":\"1239\",\"type\":\"ColumnDataSource\"},{\"attributes\":{\"data\":{\"amount_Ca\":{\"__ndarray__\":\"vInYl7LSrDy3mZmZmZmZP6iZmZmZmak/OzMzMzMzsz+hmZmZmZm5PwQAAAAAAMA/ODMzMzMzwz9rZmZmZmbGP56ZmZmZmck/0czMzMzMzD8CAAAAAADQP5yZmZmZmdE/NjMzMzMz0z/PzMzMzMzUP2lmZmZmZtY/AgAAAAAA2D+cmZmZmZnZPzYzMzMzM9s/z8zMzMzM3D9oZmZmZmbePwEAAAAAAOA/\",\"dtype\":\"float64\",\"order\":\"little\",\"shape\":[21]},\"amount_Ca+2\":{\"__ndarray__\":\"vInYl7LSnDzIIBcGr49KPzvQoIcQGmw/s69fkXSmgj8PM2BweuaSP1wiHVI45p8/smkrqlvEpz/nrfCrSkSwPxUr+7En/bQ/zAs3L/z0uT+VNq4LpBu/P2mehzoAM8I/uRl2Mh3mxD/lICLhU6THP+NtL/WLa8o/qEFpDjA6zT9vxb7egwfQP78jWvuOdNE/fb0Wwdfj0j+ni6FUD1XUPzAm2jL1x9U/\",\"dtype\":\"float64\",\"order\":\"little\",\"shape\":[21]},\"amount_CaX2\":{\"__ndarray__\":\"vInYl7LSnDyx4GghHMWYP6SMH5H416c/RT0HoWTesD/djIH9+t+0P3G3eOtxBrg/l7FQkTiEuj/vHtwggoi8PycIOIELNr4/1o1iap2kvz+55Cj6LXLAP8+Uq/gyAME/s0zwM0mAwT+5eHe4RfXBP+9enddAYcI/XL6W8c/Fwj9bqLV1KyTDP+4esm9IfcM/pB5sF+rRwz+DtYkjriLEP6OzS5oVcMQ/\",\"dtype\":\"float64\",\"order\":\"little\",\"shape\":[21]},\"amount_K\":{\"__ndarray__\":\"oZmZmZmZuT9ZuB6F61G4PxHXo3A9Crc/yvUoXI/CtT+CFK5H4Xq0PzozMzMzM7M/81G4HoXrsT+rcD0K16OwP8YehetRuK4/N1yPwvUorD+omZmZmZmpPxjXo3A9Cqc/iRSuR+F6pD/6UbgeheuhP9QehetRuJ4/t5mZmZmZmT+YFK5H4XqUP/IehetRuI4/tRSuR+F6hD/uFK5H4Xp0P7yJ2Jey0qw8\",\"dtype\":\"float64\",\"order\":\"little\",\"shape\":[21]},\"amount_K+\":{\"__ndarray__\":\"BYu8rjdkdz9DqgGM3o+BP13O2G22d4c/yOVjP/HJjD+c56pJWHSQP/12Gjvzy5E/7B1M/jB6kj9DYZVVLZ2SP3L3MbzhUZI/WAFLhoevkT9/qGSCv8eQP8JF53mVT48/Xc8MGWizjD8zCQm4ZcqJP22rda6aoIY/584sJpU/gz8qR4CDDF5/P+92rB1q6nc/Du7SR6MucD9yYLlxyGZgP7yJ2Jey0pw8\",\"dtype\":\"float64\",\"order\":\"little\",\"shape\":[21]},\"amount_KX\":{\"__ndarray__\":\"8dCtHlYjuD8Rg56z7x+2P0W96KJGG7Q/EXk8NFEpsj+bWkM1y12wP/Uq2chsgK0/8JRKvvGZqj+1MLBpF/mnPw0jbA1hj6U/i9tp/zFRoz9pRWfYuTWhP08LVCSwbJ4/ZMHVgg6cmj9aH2xh1/GWPx5JSpQEaJM/h2QGDZ7zjz+bBZxNvEaJP3vjrtwcw4I/XDuJRx/HeD9qyaId+o5oP7yJ2Jey0pw8\",\"dtype\":\"float64\",\"order\":\"little\",\"shape\":[21]},\"amount_Na+\":{\"__ndarray__\":\"4dCtHlYjuD+seSniPkHBP+wkBJqf+cU/xXklOw3zyT8jOiOY4A7NPyUCrx2NZs8/ZqtxgFqV0D+KFaT9Y0PRP3GISeLxzNE/WIIe9XQ80j9izTU15ZjSP4DV8Pr95tI/xagdHAoq0z+qOo4uY2TTP30D4iDBl9M/e/H+4WzF0z+EiCJYYe7TPweWl1ZhE9Q/jkOKlAY11D8S+8QXzFPUP6GzS5oVcNQ/\",\"dtype\":\"float64\",\"order\":\"little\",\"shape\":[21]},\"amount_NaX\":{\"__ndarray__\":\"ZCXuEcSQ0z/G3IQo+vjQP0wOL5mTOc0/dLkN+CVAyT8W+Q+bUiTGPxMxhBWmzMM/bNxPMn4Iwj8kCOs3a6zAP6pEQN2eMr8/DV3skZJ0vT/nMI+R0QK8P28Qo3puyro/XcPv9T2+uT/Gey2s2dS4P31Y3uJhB7g/g6Bq3rJQtz9fRNwF4ay2P1UOCAzhGLY/OVg9FEyStT8nelIHNhe1P+uXN/0PprQ/\",\"dtype\":\"float64\",\"order\":\"little\",\"shape\":[21]},\"index\":[0,1,2,3,4,5,6,7,8,9,10,11,12,13,14,15,16,17,18,19,20],\"pH\":{\"__ndarray__\":\"L/I2jqj8G0AOzsMM3/wbQKRqG7lB/RtAL1TmpND9G0CToXE6kP4bQBUWX8uB/xtAID2O/qEAHEDimro16wEcQJTG/59XAxxAIkbFFOIEHEBxXZhBhgYcQLQ+YZhACBxApF5tLg4KHECwS4Oc7AscQOG8/OPZDRxAd0N9WdQPHEBNeleU2hEcQISlqGHrExxAog1PugUWHEBEHA27KBgcQDaIVJ5TGhxA\",\"dtype\":\"float64\",\"order\":\"little\",\"shape\":[21]}},\"selected\":{\"id\":\"1319\"},\"selection_policy\":{\"id\":\"1318\"}},\"id\":\"1260\",\"type\":\"ColumnDataSource\"},{\"attributes\":{\"line_alpha\":0.2,\"line_cap\":\"round\",\"line_color\":\"midnightblue\",\"line_width\":2,\"x\":{\"field\":\"amount_Ca\"},\"y\":{\"field\":\"amount_K+\"}},\"id\":\"1243\",\"type\":\"Line\"},{\"attributes\":{},\"id\":\"1210\",\"type\":\"DataRange1d\"},{\"attributes\":{},\"id\":\"1208\",\"type\":\"DataRange1d\"},{\"attributes\":{},\"id\":\"1311\",\"type\":\"AllLabels\"},{\"attributes\":{\"fill_alpha\":{\"value\":0.1},\"fill_color\":{\"value\":\"#1f77b4\"},\"hatch_alpha\":{\"value\":0.1},\"line_alpha\":{\"value\":0.1},\"line_color\":{\"value\":\"midnightblue\"},\"x\":{\"field\":\"amount_Ca\"},\"y\":{\"field\":\"amount_K+\"}},\"id\":\"1249\",\"type\":\"Circle\"},{\"attributes\":{\"data\":{\"amount_Ca\":{\"__ndarray__\":\"vInYl7LSrDy3mZmZmZmZP6iZmZmZmak/OzMzMzMzsz+hmZmZmZm5PwQAAAAAAMA/ODMzMzMzwz9rZmZmZmbGP56ZmZmZmck/0czMzMzMzD8CAAAAAADQP5yZmZmZmdE/NjMzMzMz0z/PzMzMzMzUP2lmZmZmZtY/AgAAAAAA2D+cmZmZmZnZPzYzMzMzM9s/z8zMzMzM3D9oZmZmZmbePwEAAAAAAOA/\",\"dtype\":\"float64\",\"order\":\"little\",\"shape\":[21]},\"amount_Ca+2\":{\"__ndarray__\":\"vInYl7LSnDzIIBcGr49KPzvQoIcQGmw/s69fkXSmgj8PM2BweuaSP1wiHVI45p8/smkrqlvEpz/nrfCrSkSwPxUr+7En/bQ/zAs3L/z0uT+VNq4LpBu/P2mehzoAM8I/uRl2Mh3mxD/lICLhU6THP+NtL/WLa8o/qEFpDjA6zT9vxb7egwfQP78jWvuOdNE/fb0Wwdfj0j+ni6FUD1XUPzAm2jL1x9U/\",\"dtype\":\"float64\",\"order\":\"little\",\"shape\":[21]},\"amount_CaX2\":{\"__ndarray__\":\"vInYl7LSnDyx4GghHMWYP6SMH5H416c/RT0HoWTesD/djIH9+t+0P3G3eOtxBrg/l7FQkTiEuj/vHtwggoi8PycIOIELNr4/1o1iap2kvz+55Cj6LXLAP8+Uq/gyAME/s0zwM0mAwT+5eHe4RfXBP+9enddAYcI/XL6W8c/Fwj9bqLV1KyTDP+4esm9IfcM/pB5sF+rRwz+DtYkjriLEP6OzS5oVcMQ/\",\"dtype\":\"float64\",\"order\":\"little\",\"shape\":[21]},\"amount_K\":{\"__ndarray__\":\"oZmZmZmZuT9ZuB6F61G4PxHXo3A9Crc/yvUoXI/CtT+CFK5H4Xq0PzozMzMzM7M/81G4HoXrsT+rcD0K16OwP8YehetRuK4/N1yPwvUorD+omZmZmZmpPxjXo3A9Cqc/iRSuR+F6pD/6UbgeheuhP9QehetRuJ4/t5mZmZmZmT+YFK5H4XqUP/IehetRuI4/tRSuR+F6hD/uFK5H4Xp0P7yJ2Jey0qw8\",\"dtype\":\"float64\",\"order\":\"little\",\"shape\":[21]},\"amount_K+\":{\"__ndarray__\":\"BYu8rjdkdz9DqgGM3o+BP13O2G22d4c/yOVjP/HJjD+c56pJWHSQP/12Gjvzy5E/7B1M/jB6kj9DYZVVLZ2SP3L3MbzhUZI/WAFLhoevkT9/qGSCv8eQP8JF53mVT48/Xc8MGWizjD8zCQm4ZcqJP22rda6aoIY/584sJpU/gz8qR4CDDF5/P+92rB1q6nc/Du7SR6MucD9yYLlxyGZgP7yJ2Jey0pw8\",\"dtype\":\"float64\",\"order\":\"little\",\"shape\":[21]},\"amount_KX\":{\"__ndarray__\":\"8dCtHlYjuD8Rg56z7x+2P0W96KJGG7Q/EXk8NFEpsj+bWkM1y12wP/Uq2chsgK0/8JRKvvGZqj+1MLBpF/mnPw0jbA1hj6U/i9tp/zFRoz9pRWfYuTWhP08LVCSwbJ4/ZMHVgg6cmj9aH2xh1/GWPx5JSpQEaJM/h2QGDZ7zjz+bBZxNvEaJP3vjrtwcw4I/XDuJRx/HeD9qyaId+o5oP7yJ2Jey0pw8\",\"dtype\":\"float64\",\"order\":\"little\",\"shape\":[21]},\"amount_Na+\":{\"__ndarray__\":\"4dCtHlYjuD+seSniPkHBP+wkBJqf+cU/xXklOw3zyT8jOiOY4A7NPyUCrx2NZs8/ZqtxgFqV0D+KFaT9Y0PRP3GISeLxzNE/WIIe9XQ80j9izTU15ZjSP4DV8Pr95tI/xagdHAoq0z+qOo4uY2TTP30D4iDBl9M/e/H+4WzF0z+EiCJYYe7TPweWl1ZhE9Q/jkOKlAY11D8S+8QXzFPUP6GzS5oVcNQ/\",\"dtype\":\"float64\",\"order\":\"little\",\"shape\":[21]},\"amount_NaX\":{\"__ndarray__\":\"ZCXuEcSQ0z/G3IQo+vjQP0wOL5mTOc0/dLkN+CVAyT8W+Q+bUiTGPxMxhBWmzMM/bNxPMn4Iwj8kCOs3a6zAP6pEQN2eMr8/DV3skZJ0vT/nMI+R0QK8P28Qo3puyro/XcPv9T2+uT/Gey2s2dS4P31Y3uJhB7g/g6Bq3rJQtz9fRNwF4ay2P1UOCAzhGLY/OVg9FEyStT8nelIHNhe1P+uXN/0PprQ/\",\"dtype\":\"float64\",\"order\":\"little\",\"shape\":[21]},\"index\":[0,1,2,3,4,5,6,7,8,9,10,11,12,13,14,15,16,17,18,19,20],\"pH\":{\"__ndarray__\":\"L/I2jqj8G0AOzsMM3/wbQKRqG7lB/RtAL1TmpND9G0CToXE6kP4bQBUWX8uB/xtAID2O/qEAHEDimro16wEcQJTG/59XAxxAIkbFFOIEHEBxXZhBhgYcQLQ+YZhACBxApF5tLg4KHECwS4Oc7AscQOG8/OPZDRxAd0N9WdQPHEBNeleU2hEcQISlqGHrExxAog1PugUWHEBEHA27KBgcQDaIVJ5TGhxA\",\"dtype\":\"float64\",\"order\":\"little\",\"shape\":[21]}},\"selected\":{\"id\":\"1315\"},\"selection_policy\":{\"id\":\"1314\"}},\"id\":\"1246\",\"type\":\"ColumnDataSource\"},{\"attributes\":{\"line_cap\":\"round\",\"line_color\":\"midnightblue\",\"line_width\":2,\"x\":{\"field\":\"amount_Ca\"},\"y\":{\"field\":\"amount_K+\"}},\"id\":\"1241\",\"type\":\"Line\"},{\"attributes\":{},\"id\":\"1308\",\"type\":\"AllLabels\"},{\"attributes\":{},\"id\":\"1307\",\"type\":\"BasicTickFormatter\"},{\"attributes\":{},\"id\":\"1310\",\"type\":\"BasicTickFormatter\"},{\"attributes\":{\"source\":{\"id\":\"1239\"}},\"id\":\"1245\",\"type\":\"CDSView\"},{\"attributes\":{\"line_cap\":\"round\",\"line_color\":\"deeppink\",\"line_width\":2,\"x\":{\"field\":\"amount_Ca\"},\"y\":{\"field\":\"amount_Ca+2\"}},\"id\":\"1255\",\"type\":\"Line\"},{\"attributes\":{\"coordinates\":null,\"data_source\":{\"id\":\"1239\"},\"glyph\":{\"id\":\"1241\"},\"group\":null,\"hover_glyph\":null,\"muted_glyph\":{\"id\":\"1243\"},\"nonselection_glyph\":{\"id\":\"1242\"},\"view\":{\"id\":\"1245\"}},\"id\":\"1244\",\"type\":\"GlyphRenderer\"},{\"attributes\":{\"data\":{\"amount_Ca\":{\"__ndarray__\":\"vInYl7LSrDy3mZmZmZmZP6iZmZmZmak/OzMzMzMzsz+hmZmZmZm5PwQAAAAAAMA/ODMzMzMzwz9rZmZmZmbGP56ZmZmZmck/0czMzMzMzD8CAAAAAADQP5yZmZmZmdE/NjMzMzMz0z/PzMzMzMzUP2lmZmZmZtY/AgAAAAAA2D+cmZmZmZnZPzYzMzMzM9s/z8zMzMzM3D9oZmZmZmbePwEAAAAAAOA/\",\"dtype\":\"float64\",\"order\":\"little\",\"shape\":[21]},\"amount_Ca+2\":{\"__ndarray__\":\"vInYl7LSnDzIIBcGr49KPzvQoIcQGmw/s69fkXSmgj8PM2BweuaSP1wiHVI45p8/smkrqlvEpz/nrfCrSkSwPxUr+7En/bQ/zAs3L/z0uT+VNq4LpBu/P2mehzoAM8I/uRl2Mh3mxD/lICLhU6THP+NtL/WLa8o/qEFpDjA6zT9vxb7egwfQP78jWvuOdNE/fb0Wwdfj0j+ni6FUD1XUPzAm2jL1x9U/\",\"dtype\":\"float64\",\"order\":\"little\",\"shape\":[21]},\"amount_CaX2\":{\"__ndarray__\":\"vInYl7LSnDyx4GghHMWYP6SMH5H416c/RT0HoWTesD/djIH9+t+0P3G3eOtxBrg/l7FQkTiEuj/vHtwggoi8PycIOIELNr4/1o1iap2kvz+55Cj6LXLAP8+Uq/gyAME/s0zwM0mAwT+5eHe4RfXBP+9enddAYcI/XL6W8c/Fwj9bqLV1KyTDP+4esm9IfcM/pB5sF+rRwz+DtYkjriLEP6OzS5oVcMQ/\",\"dtype\":\"float64\",\"order\":\"little\",\"shape\":[21]},\"amount_K\":{\"__ndarray__\":\"oZmZmZmZuT9ZuB6F61G4PxHXo3A9Crc/yvUoXI/CtT+CFK5H4Xq0PzozMzMzM7M/81G4HoXrsT+rcD0K16OwP8YehetRuK4/N1yPwvUorD+omZmZmZmpPxjXo3A9Cqc/iRSuR+F6pD/6UbgeheuhP9QehetRuJ4/t5mZmZmZmT+YFK5H4XqUP/IehetRuI4/tRSuR+F6hD/uFK5H4Xp0P7yJ2Jey0qw8\",\"dtype\":\"float64\",\"order\":\"little\",\"shape\":[21]},\"amount_K+\":{\"__ndarray__\":\"BYu8rjdkdz9DqgGM3o+BP13O2G22d4c/yOVjP/HJjD+c56pJWHSQP/12Gjvzy5E/7B1M/jB6kj9DYZVVLZ2SP3L3MbzhUZI/WAFLhoevkT9/qGSCv8eQP8JF53mVT48/Xc8MGWizjD8zCQm4ZcqJP22rda6aoIY/584sJpU/gz8qR4CDDF5/P+92rB1q6nc/Du7SR6MucD9yYLlxyGZgP7yJ2Jey0pw8\",\"dtype\":\"float64\",\"order\":\"little\",\"shape\":[21]},\"amount_KX\":{\"__ndarray__\":\"8dCtHlYjuD8Rg56z7x+2P0W96KJGG7Q/EXk8NFEpsj+bWkM1y12wP/Uq2chsgK0/8JRKvvGZqj+1MLBpF/mnPw0jbA1hj6U/i9tp/zFRoz9pRWfYuTWhP08LVCSwbJ4/ZMHVgg6cmj9aH2xh1/GWPx5JSpQEaJM/h2QGDZ7zjz+bBZxNvEaJP3vjrtwcw4I/XDuJRx/HeD9qyaId+o5oP7yJ2Jey0pw8\",\"dtype\":\"float64\",\"order\":\"little\",\"shape\":[21]},\"amount_Na+\":{\"__ndarray__\":\"4dCtHlYjuD+seSniPkHBP+wkBJqf+cU/xXklOw3zyT8jOiOY4A7NPyUCrx2NZs8/ZqtxgFqV0D+KFaT9Y0PRP3GISeLxzNE/WIIe9XQ80j9izTU15ZjSP4DV8Pr95tI/xagdHAoq0z+qOo4uY2TTP30D4iDBl9M/e/H+4WzF0z+EiCJYYe7TPweWl1ZhE9Q/jkOKlAY11D8S+8QXzFPUP6GzS5oVcNQ/\",\"dtype\":\"float64\",\"order\":\"little\",\"shape\":[21]},\"amount_NaX\":{\"__ndarray__\":\"ZCXuEcSQ0z/G3IQo+vjQP0wOL5mTOc0/dLkN+CVAyT8W+Q+bUiTGPxMxhBWmzMM/bNxPMn4Iwj8kCOs3a6zAP6pEQN2eMr8/DV3skZJ0vT/nMI+R0QK8P28Qo3puyro/XcPv9T2+uT/Gey2s2dS4P31Y3uJhB7g/g6Bq3rJQtz9fRNwF4ay2P1UOCAzhGLY/OVg9FEyStT8nelIHNhe1P+uXN/0PprQ/\",\"dtype\":\"float64\",\"order\":\"little\",\"shape\":[21]},\"index\":[0,1,2,3,4,5,6,7,8,9,10,11,12,13,14,15,16,17,18,19,20],\"pH\":{\"__ndarray__\":\"L/I2jqj8G0AOzsMM3/wbQKRqG7lB/RtAL1TmpND9G0CToXE6kP4bQBUWX8uB/xtAID2O/qEAHEDimro16wEcQJTG/59XAxxAIkbFFOIEHEBxXZhBhgYcQLQ+YZhACBxApF5tLg4KHECwS4Oc7AscQOG8/OPZDRxAd0N9WdQPHEBNeleU2hEcQISlqGHrExxAog1PugUWHEBEHA27KBgcQDaIVJ5TGhxA\",\"dtype\":\"float64\",\"order\":\"little\",\"shape\":[21]}},\"selected\":{\"id\":\"1317\"},\"selection_policy\":{\"id\":\"1316\"}},\"id\":\"1253\",\"type\":\"ColumnDataSource\"},{\"attributes\":{\"data\":{\"amount_Ca\":{\"__ndarray__\":\"vInYl7LSrDy3mZmZmZmZP6iZmZmZmak/OzMzMzMzsz+hmZmZmZm5PwQAAAAAAMA/ODMzMzMzwz9rZmZmZmbGP56ZmZmZmck/0czMzMzMzD8CAAAAAADQP5yZmZmZmdE/NjMzMzMz0z/PzMzMzMzUP2lmZmZmZtY/AgAAAAAA2D+cmZmZmZnZPzYzMzMzM9s/z8zMzMzM3D9oZmZmZmbePwEAAAAAAOA/\",\"dtype\":\"float64\",\"order\":\"little\",\"shape\":[21]},\"amount_Ca+2\":{\"__ndarray__\":\"vInYl7LSnDzIIBcGr49KPzvQoIcQGmw/s69fkXSmgj8PM2BweuaSP1wiHVI45p8/smkrqlvEpz/nrfCrSkSwPxUr+7En/bQ/zAs3L/z0uT+VNq4LpBu/P2mehzoAM8I/uRl2Mh3mxD/lICLhU6THP+NtL/WLa8o/qEFpDjA6zT9vxb7egwfQP78jWvuOdNE/fb0Wwdfj0j+ni6FUD1XUPzAm2jL1x9U/\",\"dtype\":\"float64\",\"order\":\"little\",\"shape\":[21]},\"amount_CaX2\":{\"__ndarray__\":\"vInYl7LSnDyx4GghHMWYP6SMH5H416c/RT0HoWTesD/djIH9+t+0P3G3eOtxBrg/l7FQkTiEuj/vHtwggoi8PycIOIELNr4/1o1iap2kvz+55Cj6LXLAP8+Uq/gyAME/s0zwM0mAwT+5eHe4RfXBP+9enddAYcI/XL6W8c/Fwj9bqLV1KyTDP+4esm9IfcM/pB5sF+rRwz+DtYkjriLEP6OzS5oVcMQ/\",\"dtype\":\"float64\",\"order\":\"little\",\"shape\":[21]},\"amount_K\":{\"__ndarray__\":\"oZmZmZmZuT9ZuB6F61G4PxHXo3A9Crc/yvUoXI/CtT+CFK5H4Xq0PzozMzMzM7M/81G4HoXrsT+rcD0K16OwP8YehetRuK4/N1yPwvUorD+omZmZmZmpPxjXo3A9Cqc/iRSuR+F6pD/6UbgeheuhP9QehetRuJ4/t5mZmZmZmT+YFK5H4XqUP/IehetRuI4/tRSuR+F6hD/uFK5H4Xp0P7yJ2Jey0qw8\",\"dtype\":\"float64\",\"order\":\"little\",\"shape\":[21]},\"amount_K+\":{\"__ndarray__\":\"BYu8rjdkdz9DqgGM3o+BP13O2G22d4c/yOVjP/HJjD+c56pJWHSQP/12Gjvzy5E/7B1M/jB6kj9DYZVVLZ2SP3L3MbzhUZI/WAFLhoevkT9/qGSCv8eQP8JF53mVT48/Xc8MGWizjD8zCQm4ZcqJP22rda6aoIY/584sJpU/gz8qR4CDDF5/P+92rB1q6nc/Du7SR6MucD9yYLlxyGZgP7yJ2Jey0pw8\",\"dtype\":\"float64\",\"order\":\"little\",\"shape\":[21]},\"amount_KX\":{\"__ndarray__\":\"8dCtHlYjuD8Rg56z7x+2P0W96KJGG7Q/EXk8NFEpsj+bWkM1y12wP/Uq2chsgK0/8JRKvvGZqj+1MLBpF/mnPw0jbA1hj6U/i9tp/zFRoz9pRWfYuTWhP08LVCSwbJ4/ZMHVgg6cmj9aH2xh1/GWPx5JSpQEaJM/h2QGDZ7zjz+bBZxNvEaJP3vjrtwcw4I/XDuJRx/HeD9qyaId+o5oP7yJ2Jey0pw8\",\"dtype\":\"float64\",\"order\":\"little\",\"shape\":[21]},\"amount_Na+\":{\"__ndarray__\":\"4dCtHlYjuD+seSniPkHBP+wkBJqf+cU/xXklOw3zyT8jOiOY4A7NPyUCrx2NZs8/ZqtxgFqV0D+KFaT9Y0PRP3GISeLxzNE/WIIe9XQ80j9izTU15ZjSP4DV8Pr95tI/xagdHAoq0z+qOo4uY2TTP30D4iDBl9M/e/H+4WzF0z+EiCJYYe7TPweWl1ZhE9Q/jkOKlAY11D8S+8QXzFPUP6GzS5oVcNQ/\",\"dtype\":\"float64\",\"order\":\"little\",\"shape\":[21]},\"amount_NaX\":{\"__ndarray__\":\"ZCXuEcSQ0z/G3IQo+vjQP0wOL5mTOc0/dLkN+CVAyT8W+Q+bUiTGPxMxhBWmzMM/bNxPMn4Iwj8kCOs3a6zAP6pEQN2eMr8/DV3skZJ0vT/nMI+R0QK8P28Qo3puyro/XcPv9T2+uT/Gey2s2dS4P31Y3uJhB7g/g6Bq3rJQtz9fRNwF4ay2P1UOCAzhGLY/OVg9FEyStT8nelIHNhe1P+uXN/0PprQ/\",\"dtype\":\"float64\",\"order\":\"little\",\"shape\":[21]},\"index\":[0,1,2,3,4,5,6,7,8,9,10,11,12,13,14,15,16,17,18,19,20],\"pH\":{\"__ndarray__\":\"L/I2jqj8G0AOzsMM3/wbQKRqG7lB/RtAL1TmpND9G0CToXE6kP4bQBUWX8uB/xtAID2O/qEAHEDimro16wEcQJTG/59XAxxAIkbFFOIEHEBxXZhBhgYcQLQ+YZhACBxApF5tLg4KHECwS4Oc7AscQOG8/OPZDRxAd0N9WdQPHEBNeleU2hEcQISlqGHrExxAog1PugUWHEBEHA27KBgcQDaIVJ5TGhxA\",\"dtype\":\"float64\",\"order\":\"little\",\"shape\":[21]}},\"selected\":{\"id\":\"1323\"},\"selection_policy\":{\"id\":\"1322\"}},\"id\":\"1274\",\"type\":\"ColumnDataSource\"},{\"attributes\":{},\"id\":\"1315\",\"type\":\"Selection\"},{\"attributes\":{\"line_cap\":\"round\",\"line_color\":\"green\",\"line_dash\":[4,4],\"line_width\":2,\"x\":{\"field\":\"amount_Ca\"},\"y\":{\"field\":\"amount_Na+\"}},\"id\":\"1269\",\"type\":\"Line\"},{\"attributes\":{\"tools\":[{\"id\":\"1224\"},{\"id\":\"1225\"},{\"id\":\"1226\"},{\"id\":\"1227\"},{\"id\":\"1228\"},{\"id\":\"1229\"},{\"id\":\"1204\"}]},\"id\":\"1231\",\"type\":\"Toolbar\"},{\"attributes\":{},\"id\":\"1318\",\"type\":\"UnionRenderers\"},{\"attributes\":{},\"id\":\"1314\",\"type\":\"UnionRenderers\"},{\"attributes\":{},\"id\":\"1319\",\"type\":\"Selection\"},{\"attributes\":{\"fill_alpha\":{\"value\":0.2},\"fill_color\":{\"value\":\"#1f77b4\"},\"hatch_alpha\":{\"value\":0.2},\"line_alpha\":{\"value\":0.2},\"line_color\":{\"value\":\"green\"},\"line_width\":{\"value\":2},\"marker\":{\"value\":\"x\"},\"size\":{\"value\":10},\"x\":{\"field\":\"amount_Ca\"},\"y\":{\"field\":\"amount_Na+\"}},\"id\":\"1278\",\"type\":\"Scatter\"},{\"attributes\":{\"source\":{\"id\":\"1253\"}},\"id\":\"1259\",\"type\":\"CDSView\"},{\"attributes\":{\"source\":{\"id\":\"1246\"}},\"id\":\"1252\",\"type\":\"CDSView\"},{\"attributes\":{\"bottom_units\":\"screen\",\"coordinates\":null,\"fill_alpha\":0.5,\"fill_color\":\"lightgrey\",\"group\":null,\"left_units\":\"screen\",\"level\":\"overlay\",\"line_alpha\":1.0,\"line_color\":\"black\",\"line_dash\":[4,4],\"line_width\":2,\"right_units\":\"screen\",\"syncable\":false,\"top_units\":\"screen\"},\"id\":\"1230\",\"type\":\"BoxAnnotation\"},{\"attributes\":{},\"id\":\"1320\",\"type\":\"UnionRenderers\"},{\"attributes\":{},\"id\":\"1228\",\"type\":\"ResetTool\"},{\"attributes\":{},\"id\":\"1227\",\"type\":\"SaveTool\"},{\"attributes\":{},\"id\":\"1321\",\"type\":\"Selection\"},{\"attributes\":{\"overlay\":{\"id\":\"1230\"}},\"id\":\"1226\",\"type\":\"BoxZoomTool\"},{\"attributes\":{},\"id\":\"1224\",\"type\":\"PanTool\"},{\"attributes\":{},\"id\":\"1229\",\"type\":\"HelpTool\"},{\"attributes\":{},\"id\":\"1316\",\"type\":\"UnionRenderers\"},{\"attributes\":{},\"id\":\"1313\",\"type\":\"Selection\"},{\"attributes\":{},\"id\":\"1221\",\"type\":\"BasicTicker\"},{\"attributes\":{\"axis\":{\"id\":\"1220\"},\"coordinates\":null,\"dimension\":1,\"group\":null,\"ticker\":null},\"id\":\"1223\",\"type\":\"Grid\"},{\"attributes\":{\"axis_label\":\"AMOUNT [MOL]\",\"coordinates\":null,\"formatter\":{\"id\":\"1307\"},\"group\":null,\"major_label_policy\":{\"id\":\"1308\"},\"ticker\":{\"id\":\"1221\"}},\"id\":\"1220\",\"type\":\"LinearAxis\"},{\"attributes\":{\"source\":{\"id\":\"1274\"}},\"id\":\"1280\",\"type\":\"CDSView\"},{\"attributes\":{},\"id\":\"1317\",\"type\":\"Selection\"},{\"attributes\":{},\"id\":\"1225\",\"type\":\"WheelZoomTool\"},{\"attributes\":{\"axis_label\":\"AMOUNT OF CA+2 [MOL]\",\"coordinates\":null,\"formatter\":{\"id\":\"1310\"},\"group\":null,\"major_label_policy\":{\"id\":\"1311\"},\"ticker\":{\"id\":\"1217\"}},\"id\":\"1216\",\"type\":\"LinearAxis\"},{\"attributes\":{\"coordinates\":null,\"group\":null,\"text\":\"DEPENDENCE OF THE SOLUTE IONS ON ADDED CA+2\"},\"id\":\"1206\",\"type\":\"Title\"},{\"attributes\":{\"line_alpha\":0.2,\"line_cap\":\"round\",\"line_color\":\"green\",\"line_dash\":[4,4],\"line_width\":2,\"x\":{\"field\":\"amount_Ca\"},\"y\":{\"field\":\"amount_Na+\"}},\"id\":\"1271\",\"type\":\"Line\"},{\"attributes\":{},\"id\":\"1214\",\"type\":\"LinearScale\"},{\"attributes\":{\"line_alpha\":0.1,\"line_cap\":\"round\",\"line_color\":\"green\",\"line_dash\":[4,4],\"line_width\":2,\"x\":{\"field\":\"amount_Ca\"},\"y\":{\"field\":\"amount_Na+\"}},\"id\":\"1270\",\"type\":\"Line\"},{\"attributes\":{\"coordinates\":null,\"data_source\":{\"id\":\"1246\"},\"glyph\":{\"id\":\"1248\"},\"group\":null,\"hover_glyph\":null,\"muted_glyph\":{\"id\":\"1250\"},\"nonselection_glyph\":{\"id\":\"1249\"},\"view\":{\"id\":\"1252\"}},\"id\":\"1251\",\"type\":\"GlyphRenderer\"},{\"attributes\":{\"source\":{\"id\":\"1267\"}},\"id\":\"1273\",\"type\":\"CDSView\"},{\"attributes\":{},\"id\":\"1322\",\"type\":\"UnionRenderers\"},{\"attributes\":{},\"id\":\"1217\",\"type\":\"BasicTicker\"},{\"attributes\":{\"axis\":{\"id\":\"1216\"},\"coordinates\":null,\"group\":null,\"ticker\":null},\"id\":\"1219\",\"type\":\"Grid\"},{\"attributes\":{\"line_alpha\":0.1,\"line_cap\":\"round\",\"line_color\":\"deeppink\",\"line_width\":2,\"x\":{\"field\":\"amount_Ca\"},\"y\":{\"field\":\"amount_Ca+2\"}},\"id\":\"1256\",\"type\":\"Line\"},{\"attributes\":{},\"id\":\"1212\",\"type\":\"LinearScale\"},{\"attributes\":{\"coordinates\":null,\"data_source\":{\"id\":\"1260\"},\"glyph\":{\"id\":\"1262\"},\"group\":null,\"hover_glyph\":null,\"muted_glyph\":{\"id\":\"1264\"},\"nonselection_glyph\":{\"id\":\"1263\"},\"view\":{\"id\":\"1266\"}},\"id\":\"1265\",\"type\":\"GlyphRenderer\"},{\"attributes\":{},\"id\":\"1312\",\"type\":\"UnionRenderers\"},{\"attributes\":{\"fill_alpha\":{\"value\":0.1},\"fill_color\":{\"value\":\"#1f77b4\"},\"hatch_alpha\":{\"value\":0.1},\"line_alpha\":{\"value\":0.1},\"line_color\":{\"value\":\"green\"},\"line_width\":{\"value\":2},\"marker\":{\"value\":\"x\"},\"size\":{\"value\":10},\"x\":{\"field\":\"amount_Ca\"},\"y\":{\"field\":\"amount_Na+\"}},\"id\":\"1277\",\"type\":\"Scatter\"},{\"attributes\":{},\"id\":\"1323\",\"type\":\"Selection\"},{\"attributes\":{\"label\":{\"value\":\"Ca+2\"},\"renderers\":[{\"id\":\"1258\"},{\"id\":\"1265\"}]},\"id\":\"1283\",\"type\":\"LegendItem\"},{\"attributes\":{\"data\":{\"amount_Ca\":{\"__ndarray__\":\"vInYl7LSrDy3mZmZmZmZP6iZmZmZmak/OzMzMzMzsz+hmZmZmZm5PwQAAAAAAMA/ODMzMzMzwz9rZmZmZmbGP56ZmZmZmck/0czMzMzMzD8CAAAAAADQP5yZmZmZmdE/NjMzMzMz0z/PzMzMzMzUP2lmZmZmZtY/AgAAAAAA2D+cmZmZmZnZPzYzMzMzM9s/z8zMzMzM3D9oZmZmZmbePwEAAAAAAOA/\",\"dtype\":\"float64\",\"order\":\"little\",\"shape\":[21]},\"amount_Ca+2\":{\"__ndarray__\":\"vInYl7LSnDzIIBcGr49KPzvQoIcQGmw/s69fkXSmgj8PM2BweuaSP1wiHVI45p8/smkrqlvEpz/nrfCrSkSwPxUr+7En/bQ/zAs3L/z0uT+VNq4LpBu/P2mehzoAM8I/uRl2Mh3mxD/lICLhU6THP+NtL/WLa8o/qEFpDjA6zT9vxb7egwfQP78jWvuOdNE/fb0Wwdfj0j+ni6FUD1XUPzAm2jL1x9U/\",\"dtype\":\"float64\",\"order\":\"little\",\"shape\":[21]},\"amount_CaX2\":{\"__ndarray__\":\"vInYl7LSnDyx4GghHMWYP6SMH5H416c/RT0HoWTesD/djIH9+t+0P3G3eOtxBrg/l7FQkTiEuj/vHtwggoi8PycIOIELNr4/1o1iap2kvz+55Cj6LXLAP8+Uq/gyAME/s0zwM0mAwT+5eHe4RfXBP+9enddAYcI/XL6W8c/Fwj9bqLV1KyTDP+4esm9IfcM/pB5sF+rRwz+DtYkjriLEP6OzS5oVcMQ/\",\"dtype\":\"float64\",\"order\":\"little\",\"shape\":[21]},\"amount_K\":{\"__ndarray__\":\"oZmZmZmZuT9ZuB6F61G4PxHXo3A9Crc/yvUoXI/CtT+CFK5H4Xq0PzozMzMzM7M/81G4HoXrsT+rcD0K16OwP8YehetRuK4/N1yPwvUorD+omZmZmZmpPxjXo3A9Cqc/iRSuR+F6pD/6UbgeheuhP9QehetRuJ4/t5mZmZmZmT+YFK5H4XqUP/IehetRuI4/tRSuR+F6hD/uFK5H4Xp0P7yJ2Jey0qw8\",\"dtype\":\"float64\",\"order\":\"little\",\"shape\":[21]},\"amount_K+\":{\"__ndarray__\":\"BYu8rjdkdz9DqgGM3o+BP13O2G22d4c/yOVjP/HJjD+c56pJWHSQP/12Gjvzy5E/7B1M/jB6kj9DYZVVLZ2SP3L3MbzhUZI/WAFLhoevkT9/qGSCv8eQP8JF53mVT48/Xc8MGWizjD8zCQm4ZcqJP22rda6aoIY/584sJpU/gz8qR4CDDF5/P+92rB1q6nc/Du7SR6MucD9yYLlxyGZgP7yJ2Jey0pw8\",\"dtype\":\"float64\",\"order\":\"little\",\"shape\":[21]},\"amount_KX\":{\"__ndarray__\":\"8dCtHlYjuD8Rg56z7x+2P0W96KJGG7Q/EXk8NFEpsj+bWkM1y12wP/Uq2chsgK0/8JRKvvGZqj+1MLBpF/mnPw0jbA1hj6U/i9tp/zFRoz9pRWfYuTWhP08LVCSwbJ4/ZMHVgg6cmj9aH2xh1/GWPx5JSpQEaJM/h2QGDZ7zjz+bBZxNvEaJP3vjrtwcw4I/XDuJRx/HeD9qyaId+o5oP7yJ2Jey0pw8\",\"dtype\":\"float64\",\"order\":\"little\",\"shape\":[21]},\"amount_Na+\":{\"__ndarray__\":\"4dCtHlYjuD+seSniPkHBP+wkBJqf+cU/xXklOw3zyT8jOiOY4A7NPyUCrx2NZs8/ZqtxgFqV0D+KFaT9Y0PRP3GISeLxzNE/WIIe9XQ80j9izTU15ZjSP4DV8Pr95tI/xagdHAoq0z+qOo4uY2TTP30D4iDBl9M/e/H+4WzF0z+EiCJYYe7TPweWl1ZhE9Q/jkOKlAY11D8S+8QXzFPUP6GzS5oVcNQ/\",\"dtype\":\"float64\",\"order\":\"little\",\"shape\":[21]},\"amount_NaX\":{\"__ndarray__\":\"ZCXuEcSQ0z/G3IQo+vjQP0wOL5mTOc0/dLkN+CVAyT8W+Q+bUiTGPxMxhBWmzMM/bNxPMn4Iwj8kCOs3a6zAP6pEQN2eMr8/DV3skZJ0vT/nMI+R0QK8P28Qo3puyro/XcPv9T2+uT/Gey2s2dS4P31Y3uJhB7g/g6Bq3rJQtz9fRNwF4ay2P1UOCAzhGLY/OVg9FEyStT8nelIHNhe1P+uXN/0PprQ/\",\"dtype\":\"float64\",\"order\":\"little\",\"shape\":[21]},\"index\":[0,1,2,3,4,5,6,7,8,9,10,11,12,13,14,15,16,17,18,19,20],\"pH\":{\"__ndarray__\":\"L/I2jqj8G0AOzsMM3/wbQKRqG7lB/RtAL1TmpND9G0CToXE6kP4bQBUWX8uB/xtAID2O/qEAHEDimro16wEcQJTG/59XAxxAIkbFFOIEHEBxXZhBhgYcQLQ+YZhACBxApF5tLg4KHECwS4Oc7AscQOG8/OPZDRxAd0N9WdQPHEBNeleU2hEcQISlqGHrExxAog1PugUWHEBEHA27KBgcQDaIVJ5TGhxA\",\"dtype\":\"float64\",\"order\":\"little\",\"shape\":[21]}},\"selected\":{\"id\":\"1321\"},\"selection_policy\":{\"id\":\"1320\"}},\"id\":\"1267\",\"type\":\"ColumnDataSource\"},{\"attributes\":{\"source\":{\"id\":\"1260\"}},\"id\":\"1266\",\"type\":\"CDSView\"},{\"attributes\":{\"coordinates\":null,\"data_source\":{\"id\":\"1253\"},\"glyph\":{\"id\":\"1255\"},\"group\":null,\"hover_glyph\":null,\"muted_glyph\":{\"id\":\"1257\"},\"nonselection_glyph\":{\"id\":\"1256\"},\"view\":{\"id\":\"1259\"}},\"id\":\"1258\",\"type\":\"GlyphRenderer\"},{\"attributes\":{\"coordinates\":null,\"group\":null,\"items\":[{\"id\":\"1282\"},{\"id\":\"1283\"},{\"id\":\"1284\"}],\"location\":\"center\"},\"id\":\"1281\",\"type\":\"Legend\"},{\"attributes\":{\"fill_alpha\":{\"value\":0.1},\"fill_color\":{\"value\":null},\"hatch_alpha\":{\"value\":0.1},\"line_alpha\":{\"value\":0.1},\"line_color\":{\"value\":\"deeppink\"},\"marker\":{\"value\":\"square\"},\"x\":{\"field\":\"amount_Ca\"},\"y\":{\"field\":\"amount_Ca+2\"}},\"id\":\"1263\",\"type\":\"Scatter\"},{\"attributes\":{\"label\":{\"value\":\"K+\"},\"renderers\":[{\"id\":\"1251\"},{\"id\":\"1251\"}]},\"id\":\"1282\",\"type\":\"LegendItem\"},{\"attributes\":{\"coordinates\":null,\"data_source\":{\"id\":\"1274\"},\"glyph\":{\"id\":\"1276\"},\"group\":null,\"hover_glyph\":null,\"muted_glyph\":{\"id\":\"1278\"},\"nonselection_glyph\":{\"id\":\"1277\"},\"view\":{\"id\":\"1280\"}},\"id\":\"1279\",\"type\":\"GlyphRenderer\"},{\"attributes\":{\"fill_color\":{\"value\":null},\"line_color\":{\"value\":\"deeppink\"},\"marker\":{\"value\":\"square\"},\"x\":{\"field\":\"amount_Ca\"},\"y\":{\"field\":\"amount_Ca+2\"}},\"id\":\"1262\",\"type\":\"Scatter\"},{\"attributes\":{\"coordinates\":null,\"data_source\":{\"id\":\"1267\"},\"glyph\":{\"id\":\"1269\"},\"group\":null,\"hover_glyph\":null,\"muted_glyph\":{\"id\":\"1271\"},\"nonselection_glyph\":{\"id\":\"1270\"},\"view\":{\"id\":\"1273\"}},\"id\":\"1272\",\"type\":\"GlyphRenderer\"},{\"attributes\":{\"line_alpha\":0.2,\"line_cap\":\"round\",\"line_color\":\"deeppink\",\"line_width\":2,\"x\":{\"field\":\"amount_Ca\"},\"y\":{\"field\":\"amount_Ca+2\"}},\"id\":\"1257\",\"type\":\"Line\"},{\"attributes\":{\"fill_alpha\":{\"value\":0.2},\"fill_color\":{\"value\":null},\"hatch_alpha\":{\"value\":0.2},\"line_alpha\":{\"value\":0.2},\"line_color\":{\"value\":\"deeppink\"},\"marker\":{\"value\":\"square\"},\"x\":{\"field\":\"amount_Ca\"},\"y\":{\"field\":\"amount_Ca+2\"}},\"id\":\"1264\",\"type\":\"Scatter\"},{\"attributes\":{\"label\":{\"value\":\"Na+\"},\"renderers\":[{\"id\":\"1272\"},{\"id\":\"1279\"}]},\"id\":\"1284\",\"type\":\"LegendItem\"},{\"attributes\":{\"fill_color\":{\"value\":\"#1f77b4\"},\"line_color\":{\"value\":\"green\"},\"line_width\":{\"value\":2},\"marker\":{\"value\":\"x\"},\"size\":{\"value\":10},\"x\":{\"field\":\"amount_Ca\"},\"y\":{\"field\":\"amount_Na+\"}},\"id\":\"1276\",\"type\":\"Scatter\"}],\"root_ids\":[\"1205\"]},\"title\":\"Bokeh Application\",\"version\":\"2.4.2\"}};\n",
       "  const render_items = [{\"docid\":\"c4307e9d-9e87-4363-8973-89de3bd765a5\",\"root_ids\":[\"1205\"],\"roots\":{\"1205\":\"0c344807-3b55-4672-bd17-d78fc3d41ba2\"}}];\n",
       "  root.Bokeh.embed.embed_items_notebook(docs_json, render_items);\n",
       "\n",
       "  }\n",
       "  if (root.Bokeh !== undefined) {\n",
       "    embed_document(root);\n",
       "  } else {\n",
       "    let attempts = 0;\n",
       "    const timer = setInterval(function(root) {\n",
       "      if (root.Bokeh !== undefined) {\n",
       "        clearInterval(timer);\n",
       "        embed_document(root);\n",
       "      } else {\n",
       "        attempts++;\n",
       "        if (attempts > 100) {\n",
       "          clearInterval(timer);\n",
       "          console.log(\"Bokeh: ERROR: Unable to run BokehJS code because BokehJS library is missing\");\n",
       "        }\n",
       "      }\n",
       "    }, 10, root)\n",
       "  }\n",
       "})(window);"
      ],
      "application/vnd.bokehjs_exec.v0+json": ""
     },
     "metadata": {
      "application/vnd.bokehjs_exec.v0+json": {
       "id": "1205"
      }
     },
     "output_type": "display_data"
    }
   ],
   "source": [
    "hovertool = HoverTool()\n",
    "hovertool.tooltips = [(\"amount(Ca)\"  , \"@amount_Ca mol\"),\n",
    "                      (\"amount(K+)\"  , \"@amount_K+ mol\"),\n",
    "                      (\"amount(Ca+2)\", \"@amount_Ca+2 mol\"),\n",
    "                      (\"amount(Na+)\" , \"@amount_Na+ mol\")]\n",
    "\n",
    "p = figure(\n",
    "    title=\"DEPENDENCE OF THE SOLUTE IONS ON ADDED CA+2\",\n",
    "    y_axis_label='AMOUNT [MOL]',\n",
    "    x_axis_label='AMOUNT OF CA+2 [MOL]',\n",
    "    sizing_mode=\"scale_width\",\n",
    "    plot_height=300)\n",
    "\n",
    "p.add_tools(hovertool)\n",
    "\n",
    "r11 = p.line(\"amount_Ca\", \"amount_K+\", line_width=2, line_cap=\"round\", line_color=\"midnightblue\", source=df)\n",
    "r11 = p.circle(\"amount_Ca\", \"amount_K+\", line_color=\"midnightblue\", source=df)\n",
    "\n",
    "r21 = p.line(\"amount_Ca\", \"amount_Ca+2\", line_width=2, line_cap=\"round\", line_color=\"deeppink\", source=df)\n",
    "r22 = p.square(\"amount_Ca\", \"amount_Ca+2\", fill_color=None, line_color=\"deeppink\", source=df)\n",
    "\n",
    "r31 = p.line(\"amount_Ca\", \"amount_Na+\", line_width=2, line_cap=\"round\", line_color=\"green\", line_dash=[4, 4], source=df)\n",
    "r32 = p.x(\"amount_Ca\", \"amount_Na+\", line_color=\"green\", size=10, line_width=2, source=df)\n",
    "\n",
    "legend = Legend(items=[\n",
    "    (\"K+\"  , [r11, r11]),\n",
    "    (\"Ca+2\", [r21, r22]),\n",
    "    (\"Na+\" , [r31, r32]),\n",
    "], location=\"center\")\n",
    "\n",
    "p.add_layout(legend, 'right')\n",
    "\n",
    "show(p)"
   ]
  },
  {
   "cell_type": "markdown",
   "metadata": {},
   "source": [
    "Finally, we present the dependence of pH levels on changing values of Ca<sup>+2</sup> amount."
   ]
  },
  {
   "cell_type": "code",
   "execution_count": 8,
   "metadata": {
    "tags": [
     "hide_input"
    ]
   },
   "outputs": [
    {
     "data": {
      "text/html": [
       "\n",
       "\n",
       "\n",
       "\n",
       "\n",
       "\n",
       "  <div class=\"bk-root\" id=\"725e0b2e-06ba-4612-9df1-0a1caa2ef351\" data-root-id=\"1426\"></div>\n"
      ]
     },
     "metadata": {},
     "output_type": "display_data"
    },
    {
     "data": {
      "application/javascript": [
       "(function(root) {\n",
       "  function embed_document(root) {\n",
       "    \n",
       "  const docs_json = {\"29838fe0-2d11-4d3b-8701-d78f358d1b8d\":{\"defs\":[],\"roots\":{\"references\":[{\"attributes\":{\"below\":[{\"id\":\"1437\"}],\"center\":[{\"id\":\"1440\"},{\"id\":\"1444\"}],\"height\":300,\"left\":[{\"id\":\"1441\"}],\"renderers\":[{\"id\":\"1465\"},{\"id\":\"1472\"}],\"right\":[{\"id\":\"1474\"}],\"sizing_mode\":\"scale_width\",\"title\":{\"id\":\"1427\"},\"toolbar\":{\"id\":\"1452\"},\"x_range\":{\"id\":\"1429\"},\"x_scale\":{\"id\":\"1433\"},\"y_range\":{\"id\":\"1431\"},\"y_scale\":{\"id\":\"1435\"}},\"id\":\"1426\",\"subtype\":\"Figure\",\"type\":\"Plot\"},{\"attributes\":{},\"id\":\"1526\",\"type\":\"Selection\"},{\"attributes\":{\"source\":{\"id\":\"1460\"}},\"id\":\"1466\",\"type\":\"CDSView\"},{\"attributes\":{},\"id\":\"1442\",\"type\":\"BasicTicker\"},{\"attributes\":{\"label\":{\"value\":\"pH\"},\"renderers\":[{\"id\":\"1465\"},{\"id\":\"1472\"}]},\"id\":\"1475\",\"type\":\"LegendItem\"},{\"attributes\":{\"axis\":{\"id\":\"1441\"},\"coordinates\":null,\"dimension\":1,\"group\":null,\"ticker\":null},\"id\":\"1444\",\"type\":\"Grid\"},{\"attributes\":{\"fill_alpha\":{\"value\":0.2},\"fill_color\":{\"value\":\"#1f77b4\"},\"hatch_alpha\":{\"value\":0.2},\"line_alpha\":{\"value\":0.2},\"line_color\":{\"value\":\"teal\"},\"line_width\":{\"value\":2},\"x\":{\"field\":\"amount_Ca\"},\"y\":{\"field\":\"pH\"}},\"id\":\"1471\",\"type\":\"Circle\"},{\"attributes\":{},\"id\":\"1448\",\"type\":\"SaveTool\"},{\"attributes\":{\"overlay\":{\"id\":\"1451\"}},\"id\":\"1447\",\"type\":\"BoxZoomTool\"},{\"attributes\":{},\"id\":\"1522\",\"type\":\"AllLabels\"},{\"attributes\":{},\"id\":\"1450\",\"type\":\"HelpTool\"},{\"attributes\":{\"axis_label\":\"PH [-]\",\"coordinates\":null,\"formatter\":{\"id\":\"1518\"},\"group\":null,\"major_label_policy\":{\"id\":\"1519\"},\"ticker\":{\"id\":\"1442\"}},\"id\":\"1441\",\"type\":\"LinearAxis\"},{\"attributes\":{\"source\":{\"id\":\"1467\"}},\"id\":\"1473\",\"type\":\"CDSView\"},{\"attributes\":{},\"id\":\"1524\",\"type\":\"Selection\"},{\"attributes\":{\"line_cap\":\"round\",\"line_color\":\"teal\",\"line_width\":2,\"x\":{\"field\":\"amount_Ca\"},\"y\":{\"field\":\"pH\"}},\"id\":\"1462\",\"type\":\"Line\"},{\"attributes\":{},\"id\":\"1518\",\"type\":\"BasicTickFormatter\"},{\"attributes\":{},\"id\":\"1449\",\"type\":\"ResetTool\"},{\"attributes\":{},\"id\":\"1525\",\"type\":\"UnionRenderers\"},{\"attributes\":{},\"id\":\"1519\",\"type\":\"AllLabels\"},{\"attributes\":{\"coordinates\":null,\"group\":null,\"text\":\"DEPENDENCE OF PH ON ADDED CA+2\"},\"id\":\"1427\",\"type\":\"Title\"},{\"attributes\":{\"bottom_units\":\"screen\",\"coordinates\":null,\"fill_alpha\":0.5,\"fill_color\":\"lightgrey\",\"group\":null,\"left_units\":\"screen\",\"level\":\"overlay\",\"line_alpha\":1.0,\"line_color\":\"black\",\"line_dash\":[4,4],\"line_width\":2,\"right_units\":\"screen\",\"syncable\":false,\"top_units\":\"screen\"},\"id\":\"1451\",\"type\":\"BoxAnnotation\"},{\"attributes\":{},\"id\":\"1446\",\"type\":\"WheelZoomTool\"},{\"attributes\":{\"fill_color\":{\"value\":\"#1f77b4\"},\"line_color\":{\"value\":\"teal\"},\"line_width\":{\"value\":2},\"x\":{\"field\":\"amount_Ca\"},\"y\":{\"field\":\"pH\"}},\"id\":\"1469\",\"type\":\"Circle\"},{\"attributes\":{\"coordinates\":null,\"data_source\":{\"id\":\"1467\"},\"glyph\":{\"id\":\"1469\"},\"group\":null,\"hover_glyph\":null,\"muted_glyph\":{\"id\":\"1471\"},\"nonselection_glyph\":{\"id\":\"1470\"},\"view\":{\"id\":\"1473\"}},\"id\":\"1472\",\"type\":\"GlyphRenderer\"},{\"attributes\":{\"axis\":{\"id\":\"1437\"},\"coordinates\":null,\"group\":null,\"ticker\":null},\"id\":\"1440\",\"type\":\"Grid\"},{\"attributes\":{},\"id\":\"1445\",\"type\":\"PanTool\"},{\"attributes\":{\"line_alpha\":0.1,\"line_cap\":\"round\",\"line_color\":\"teal\",\"line_width\":2,\"x\":{\"field\":\"amount_Ca\"},\"y\":{\"field\":\"pH\"}},\"id\":\"1463\",\"type\":\"Line\"},{\"attributes\":{},\"id\":\"1521\",\"type\":\"BasicTickFormatter\"},{\"attributes\":{},\"id\":\"1431\",\"type\":\"DataRange1d\"},{\"attributes\":{},\"id\":\"1435\",\"type\":\"LinearScale\"},{\"attributes\":{\"tools\":[{\"id\":\"1445\"},{\"id\":\"1446\"},{\"id\":\"1447\"},{\"id\":\"1448\"},{\"id\":\"1449\"},{\"id\":\"1450\"},{\"id\":\"1425\"}]},\"id\":\"1452\",\"type\":\"Toolbar\"},{\"attributes\":{\"data\":{\"amount_Ca\":{\"__ndarray__\":\"vInYl7LSrDy3mZmZmZmZP6iZmZmZmak/OzMzMzMzsz+hmZmZmZm5PwQAAAAAAMA/ODMzMzMzwz9rZmZmZmbGP56ZmZmZmck/0czMzMzMzD8CAAAAAADQP5yZmZmZmdE/NjMzMzMz0z/PzMzMzMzUP2lmZmZmZtY/AgAAAAAA2D+cmZmZmZnZPzYzMzMzM9s/z8zMzMzM3D9oZmZmZmbePwEAAAAAAOA/\",\"dtype\":\"float64\",\"order\":\"little\",\"shape\":[21]},\"amount_Ca+2\":{\"__ndarray__\":\"vInYl7LSnDzIIBcGr49KPzvQoIcQGmw/s69fkXSmgj8PM2BweuaSP1wiHVI45p8/smkrqlvEpz/nrfCrSkSwPxUr+7En/bQ/zAs3L/z0uT+VNq4LpBu/P2mehzoAM8I/uRl2Mh3mxD/lICLhU6THP+NtL/WLa8o/qEFpDjA6zT9vxb7egwfQP78jWvuOdNE/fb0Wwdfj0j+ni6FUD1XUPzAm2jL1x9U/\",\"dtype\":\"float64\",\"order\":\"little\",\"shape\":[21]},\"amount_CaX2\":{\"__ndarray__\":\"vInYl7LSnDyx4GghHMWYP6SMH5H416c/RT0HoWTesD/djIH9+t+0P3G3eOtxBrg/l7FQkTiEuj/vHtwggoi8PycIOIELNr4/1o1iap2kvz+55Cj6LXLAP8+Uq/gyAME/s0zwM0mAwT+5eHe4RfXBP+9enddAYcI/XL6W8c/Fwj9bqLV1KyTDP+4esm9IfcM/pB5sF+rRwz+DtYkjriLEP6OzS5oVcMQ/\",\"dtype\":\"float64\",\"order\":\"little\",\"shape\":[21]},\"amount_K\":{\"__ndarray__\":\"oZmZmZmZuT9ZuB6F61G4PxHXo3A9Crc/yvUoXI/CtT+CFK5H4Xq0PzozMzMzM7M/81G4HoXrsT+rcD0K16OwP8YehetRuK4/N1yPwvUorD+omZmZmZmpPxjXo3A9Cqc/iRSuR+F6pD/6UbgeheuhP9QehetRuJ4/t5mZmZmZmT+YFK5H4XqUP/IehetRuI4/tRSuR+F6hD/uFK5H4Xp0P7yJ2Jey0qw8\",\"dtype\":\"float64\",\"order\":\"little\",\"shape\":[21]},\"amount_K+\":{\"__ndarray__\":\"BYu8rjdkdz9DqgGM3o+BP13O2G22d4c/yOVjP/HJjD+c56pJWHSQP/12Gjvzy5E/7B1M/jB6kj9DYZVVLZ2SP3L3MbzhUZI/WAFLhoevkT9/qGSCv8eQP8JF53mVT48/Xc8MGWizjD8zCQm4ZcqJP22rda6aoIY/584sJpU/gz8qR4CDDF5/P+92rB1q6nc/Du7SR6MucD9yYLlxyGZgP7yJ2Jey0pw8\",\"dtype\":\"float64\",\"order\":\"little\",\"shape\":[21]},\"amount_KX\":{\"__ndarray__\":\"8dCtHlYjuD8Rg56z7x+2P0W96KJGG7Q/EXk8NFEpsj+bWkM1y12wP/Uq2chsgK0/8JRKvvGZqj+1MLBpF/mnPw0jbA1hj6U/i9tp/zFRoz9pRWfYuTWhP08LVCSwbJ4/ZMHVgg6cmj9aH2xh1/GWPx5JSpQEaJM/h2QGDZ7zjz+bBZxNvEaJP3vjrtwcw4I/XDuJRx/HeD9qyaId+o5oP7yJ2Jey0pw8\",\"dtype\":\"float64\",\"order\":\"little\",\"shape\":[21]},\"amount_Na+\":{\"__ndarray__\":\"4dCtHlYjuD+seSniPkHBP+wkBJqf+cU/xXklOw3zyT8jOiOY4A7NPyUCrx2NZs8/ZqtxgFqV0D+KFaT9Y0PRP3GISeLxzNE/WIIe9XQ80j9izTU15ZjSP4DV8Pr95tI/xagdHAoq0z+qOo4uY2TTP30D4iDBl9M/e/H+4WzF0z+EiCJYYe7TPweWl1ZhE9Q/jkOKlAY11D8S+8QXzFPUP6GzS5oVcNQ/\",\"dtype\":\"float64\",\"order\":\"little\",\"shape\":[21]},\"amount_NaX\":{\"__ndarray__\":\"ZCXuEcSQ0z/G3IQo+vjQP0wOL5mTOc0/dLkN+CVAyT8W+Q+bUiTGPxMxhBWmzMM/bNxPMn4Iwj8kCOs3a6zAP6pEQN2eMr8/DV3skZJ0vT/nMI+R0QK8P28Qo3puyro/XcPv9T2+uT/Gey2s2dS4P31Y3uJhB7g/g6Bq3rJQtz9fRNwF4ay2P1UOCAzhGLY/OVg9FEyStT8nelIHNhe1P+uXN/0PprQ/\",\"dtype\":\"float64\",\"order\":\"little\",\"shape\":[21]},\"index\":[0,1,2,3,4,5,6,7,8,9,10,11,12,13,14,15,16,17,18,19,20],\"pH\":{\"__ndarray__\":\"L/I2jqj8G0AOzsMM3/wbQKRqG7lB/RtAL1TmpND9G0CToXE6kP4bQBUWX8uB/xtAID2O/qEAHEDimro16wEcQJTG/59XAxxAIkbFFOIEHEBxXZhBhgYcQLQ+YZhACBxApF5tLg4KHECwS4Oc7AscQOG8/OPZDRxAd0N9WdQPHEBNeleU2hEcQISlqGHrExxAog1PugUWHEBEHA27KBgcQDaIVJ5TGhxA\",\"dtype\":\"float64\",\"order\":\"little\",\"shape\":[21]}},\"selected\":{\"id\":\"1524\"},\"selection_policy\":{\"id\":\"1523\"}},\"id\":\"1460\",\"type\":\"ColumnDataSource\"},{\"attributes\":{},\"id\":\"1523\",\"type\":\"UnionRenderers\"},{\"attributes\":{},\"id\":\"1438\",\"type\":\"BasicTicker\"},{\"attributes\":{\"line_alpha\":0.2,\"line_cap\":\"round\",\"line_color\":\"teal\",\"line_width\":2,\"x\":{\"field\":\"amount_Ca\"},\"y\":{\"field\":\"pH\"}},\"id\":\"1464\",\"type\":\"Line\"},{\"attributes\":{\"fill_alpha\":{\"value\":0.1},\"fill_color\":{\"value\":\"#1f77b4\"},\"hatch_alpha\":{\"value\":0.1},\"line_alpha\":{\"value\":0.1},\"line_color\":{\"value\":\"teal\"},\"line_width\":{\"value\":2},\"x\":{\"field\":\"amount_Ca\"},\"y\":{\"field\":\"pH\"}},\"id\":\"1470\",\"type\":\"Circle\"},{\"attributes\":{},\"id\":\"1429\",\"type\":\"DataRange1d\"},{\"attributes\":{},\"id\":\"1433\",\"type\":\"LinearScale\"},{\"attributes\":{\"coordinates\":null,\"data_source\":{\"id\":\"1460\"},\"glyph\":{\"id\":\"1462\"},\"group\":null,\"hover_glyph\":null,\"muted_glyph\":{\"id\":\"1464\"},\"nonselection_glyph\":{\"id\":\"1463\"},\"view\":{\"id\":\"1466\"}},\"id\":\"1465\",\"type\":\"GlyphRenderer\"},{\"attributes\":{\"data\":{\"amount_Ca\":{\"__ndarray__\":\"vInYl7LSrDy3mZmZmZmZP6iZmZmZmak/OzMzMzMzsz+hmZmZmZm5PwQAAAAAAMA/ODMzMzMzwz9rZmZmZmbGP56ZmZmZmck/0czMzMzMzD8CAAAAAADQP5yZmZmZmdE/NjMzMzMz0z/PzMzMzMzUP2lmZmZmZtY/AgAAAAAA2D+cmZmZmZnZPzYzMzMzM9s/z8zMzMzM3D9oZmZmZmbePwEAAAAAAOA/\",\"dtype\":\"float64\",\"order\":\"little\",\"shape\":[21]},\"amount_Ca+2\":{\"__ndarray__\":\"vInYl7LSnDzIIBcGr49KPzvQoIcQGmw/s69fkXSmgj8PM2BweuaSP1wiHVI45p8/smkrqlvEpz/nrfCrSkSwPxUr+7En/bQ/zAs3L/z0uT+VNq4LpBu/P2mehzoAM8I/uRl2Mh3mxD/lICLhU6THP+NtL/WLa8o/qEFpDjA6zT9vxb7egwfQP78jWvuOdNE/fb0Wwdfj0j+ni6FUD1XUPzAm2jL1x9U/\",\"dtype\":\"float64\",\"order\":\"little\",\"shape\":[21]},\"amount_CaX2\":{\"__ndarray__\":\"vInYl7LSnDyx4GghHMWYP6SMH5H416c/RT0HoWTesD/djIH9+t+0P3G3eOtxBrg/l7FQkTiEuj/vHtwggoi8PycIOIELNr4/1o1iap2kvz+55Cj6LXLAP8+Uq/gyAME/s0zwM0mAwT+5eHe4RfXBP+9enddAYcI/XL6W8c/Fwj9bqLV1KyTDP+4esm9IfcM/pB5sF+rRwz+DtYkjriLEP6OzS5oVcMQ/\",\"dtype\":\"float64\",\"order\":\"little\",\"shape\":[21]},\"amount_K\":{\"__ndarray__\":\"oZmZmZmZuT9ZuB6F61G4PxHXo3A9Crc/yvUoXI/CtT+CFK5H4Xq0PzozMzMzM7M/81G4HoXrsT+rcD0K16OwP8YehetRuK4/N1yPwvUorD+omZmZmZmpPxjXo3A9Cqc/iRSuR+F6pD/6UbgeheuhP9QehetRuJ4/t5mZmZmZmT+YFK5H4XqUP/IehetRuI4/tRSuR+F6hD/uFK5H4Xp0P7yJ2Jey0qw8\",\"dtype\":\"float64\",\"order\":\"little\",\"shape\":[21]},\"amount_K+\":{\"__ndarray__\":\"BYu8rjdkdz9DqgGM3o+BP13O2G22d4c/yOVjP/HJjD+c56pJWHSQP/12Gjvzy5E/7B1M/jB6kj9DYZVVLZ2SP3L3MbzhUZI/WAFLhoevkT9/qGSCv8eQP8JF53mVT48/Xc8MGWizjD8zCQm4ZcqJP22rda6aoIY/584sJpU/gz8qR4CDDF5/P+92rB1q6nc/Du7SR6MucD9yYLlxyGZgP7yJ2Jey0pw8\",\"dtype\":\"float64\",\"order\":\"little\",\"shape\":[21]},\"amount_KX\":{\"__ndarray__\":\"8dCtHlYjuD8Rg56z7x+2P0W96KJGG7Q/EXk8NFEpsj+bWkM1y12wP/Uq2chsgK0/8JRKvvGZqj+1MLBpF/mnPw0jbA1hj6U/i9tp/zFRoz9pRWfYuTWhP08LVCSwbJ4/ZMHVgg6cmj9aH2xh1/GWPx5JSpQEaJM/h2QGDZ7zjz+bBZxNvEaJP3vjrtwcw4I/XDuJRx/HeD9qyaId+o5oP7yJ2Jey0pw8\",\"dtype\":\"float64\",\"order\":\"little\",\"shape\":[21]},\"amount_Na+\":{\"__ndarray__\":\"4dCtHlYjuD+seSniPkHBP+wkBJqf+cU/xXklOw3zyT8jOiOY4A7NPyUCrx2NZs8/ZqtxgFqV0D+KFaT9Y0PRP3GISeLxzNE/WIIe9XQ80j9izTU15ZjSP4DV8Pr95tI/xagdHAoq0z+qOo4uY2TTP30D4iDBl9M/e/H+4WzF0z+EiCJYYe7TPweWl1ZhE9Q/jkOKlAY11D8S+8QXzFPUP6GzS5oVcNQ/\",\"dtype\":\"float64\",\"order\":\"little\",\"shape\":[21]},\"amount_NaX\":{\"__ndarray__\":\"ZCXuEcSQ0z/G3IQo+vjQP0wOL5mTOc0/dLkN+CVAyT8W+Q+bUiTGPxMxhBWmzMM/bNxPMn4Iwj8kCOs3a6zAP6pEQN2eMr8/DV3skZJ0vT/nMI+R0QK8P28Qo3puyro/XcPv9T2+uT/Gey2s2dS4P31Y3uJhB7g/g6Bq3rJQtz9fRNwF4ay2P1UOCAzhGLY/OVg9FEyStT8nelIHNhe1P+uXN/0PprQ/\",\"dtype\":\"float64\",\"order\":\"little\",\"shape\":[21]},\"index\":[0,1,2,3,4,5,6,7,8,9,10,11,12,13,14,15,16,17,18,19,20],\"pH\":{\"__ndarray__\":\"L/I2jqj8G0AOzsMM3/wbQKRqG7lB/RtAL1TmpND9G0CToXE6kP4bQBUWX8uB/xtAID2O/qEAHEDimro16wEcQJTG/59XAxxAIkbFFOIEHEBxXZhBhgYcQLQ+YZhACBxApF5tLg4KHECwS4Oc7AscQOG8/OPZDRxAd0N9WdQPHEBNeleU2hEcQISlqGHrExxAog1PugUWHEBEHA27KBgcQDaIVJ5TGhxA\",\"dtype\":\"float64\",\"order\":\"little\",\"shape\":[21]}},\"selected\":{\"id\":\"1526\"},\"selection_policy\":{\"id\":\"1525\"}},\"id\":\"1467\",\"type\":\"ColumnDataSource\"},{\"attributes\":{\"coordinates\":null,\"group\":null,\"items\":[{\"id\":\"1475\"}],\"location\":\"center\"},\"id\":\"1474\",\"type\":\"Legend\"},{\"attributes\":{\"callback\":null,\"tooltips\":[[\"amount(Ca)\",\"@amount_Ca mol\"],[\"pH\",\"@pH \"]]},\"id\":\"1425\",\"type\":\"HoverTool\"},{\"attributes\":{\"axis_label\":\"AMOUNT OF CA+2 [MOL]\",\"coordinates\":null,\"formatter\":{\"id\":\"1521\"},\"group\":null,\"major_label_policy\":{\"id\":\"1522\"},\"ticker\":{\"id\":\"1438\"}},\"id\":\"1437\",\"type\":\"LinearAxis\"}],\"root_ids\":[\"1426\"]},\"title\":\"Bokeh Application\",\"version\":\"2.4.2\"}};\n",
       "  const render_items = [{\"docid\":\"29838fe0-2d11-4d3b-8701-d78f358d1b8d\",\"root_ids\":[\"1426\"],\"roots\":{\"1426\":\"725e0b2e-06ba-4612-9df1-0a1caa2ef351\"}}];\n",
       "  root.Bokeh.embed.embed_items_notebook(docs_json, render_items);\n",
       "\n",
       "  }\n",
       "  if (root.Bokeh !== undefined) {\n",
       "    embed_document(root);\n",
       "  } else {\n",
       "    let attempts = 0;\n",
       "    const timer = setInterval(function(root) {\n",
       "      if (root.Bokeh !== undefined) {\n",
       "        clearInterval(timer);\n",
       "        embed_document(root);\n",
       "      } else {\n",
       "        attempts++;\n",
       "        if (attempts > 100) {\n",
       "          clearInterval(timer);\n",
       "          console.log(\"Bokeh: ERROR: Unable to run BokehJS code because BokehJS library is missing\");\n",
       "        }\n",
       "      }\n",
       "    }, 10, root)\n",
       "  }\n",
       "})(window);"
      ],
      "application/vnd.bokehjs_exec.v0+json": ""
     },
     "metadata": {
      "application/vnd.bokehjs_exec.v0+json": {
       "id": "1426"
      }
     },
     "output_type": "display_data"
    }
   ],
   "source": [
    "hovertool = HoverTool()\n",
    "hovertool.tooltips = [(\"amount(Ca)\", \"@amount_Ca mol\"),\n",
    "                      (\"pH\"        , \"@pH \")]\n",
    "\n",
    "p = figure(\n",
    "    title=\"DEPENDENCE OF PH ON ADDED CA+2\",\n",
    "    y_axis_label='PH [-]',\n",
    "    x_axis_label='AMOUNT OF CA+2 [MOL]',\n",
    "    sizing_mode=\"scale_width\",\n",
    "    plot_height=300)\n",
    "\n",
    "p.add_tools(hovertool)\n",
    "\n",
    "r1 = p.line(\"amount_Ca\", \"pH\", line_width=2, line_cap=\"round\", line_color=\"teal\", source=df)\n",
    "r2 = p.circle(\"amount_Ca\", \"pH\", line_width=2, line_color=\"teal\", source=df)\n",
    "\n",
    "legend = Legend(items=[\n",
    "    (\"pH\"  , [r1, r2]),\n",
    "], location=\"center\")\n",
    "\n",
    "p.add_layout(legend, 'right')\n",
    "\n",
    "show(p)"
   ]
  },
  {
   "cell_type": "markdown",
   "metadata": {},
   "source": [
    "In this tutorial, we tried to vary the initial composition of the solution in contact with the exchanger to see how it reacts in terms of ion exchange distribution. The obtained numerical results have confirmed that an increase in Ca<sup>+2</sup> amounts causes the growth of the ion exchange site CaX{{_2}} and the decrease of NaX while sodium ions are replaced by calcium ions."
   ]
  }
 ],
 "metadata": {
  "kernelspec": {
   "display_name": "PyCharm (reaktoro-v2-with-conda)",
   "language": "python",
   "name": "pycharm-1ee75b1a"
  },
  "language_info": {
   "codemirror_mode": {
    "name": "ipython",
    "version": 3
   },
   "file_extension": ".py",
   "mimetype": "text/x-python",
   "name": "python",
   "nbconvert_exporter": "python",
   "pygments_lexer": "ipython3",
   "version": "3.9.10"
  }
 },
 "nbformat": 4,
 "nbformat_minor": 1
}