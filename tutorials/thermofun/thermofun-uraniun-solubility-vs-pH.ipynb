{
 "cells": [
  {
   "cell_type": "markdown",
   "metadata": {
    "collapsed": true,
    "pycharm": {
     "name": "#%% md\n"
    }
   },
   "source": [
    "# Solubility of uranium for changing pH\n",
    "\n",
    "<p class=\"acknowledgement\">Written by Svetlana Kyas (ETH Zurich) on Feb 4th, 2022</p>\n",
    "\n",
    "This tutorial presents an example of the calculation of the uranium solubility for changing pH levels in underground\n",
    "water. In this example, the thermodynamic database `psinagra-12-07` is used based on\n",
    "[Nagra/PSI Chemical Thermodynamic Data Base 01/01](https://www.psi.ch/de/les/database). It supports the ongoing safety\n",
    "assessments for the planned repositories for low- and intermediate-level (L/ILW) and high-level (HLW) radioactive waste\n",
    "in Switzerland.\n",
    "\n",
    "```{note}\n",
    "\n",
    "This tutorial is joint work with Dan Miron, PSI.\n",
    "\n",
    "If your main interest is in computing thermodynamic properties, rather than chemical equilibrium and\n",
    "kinetics modeling, you may want to check [ThermoFun](https://thermohub.org/thermofun/thermofun/),\n",
    "which is an excellent project dedicated to this task.\n",
    "```\n",
    "\n",
    "We set up the chemical system with the aqueous phase only."
   ]
  },
  {
   "cell_type": "code",
   "execution_count": null,
   "metadata": {
    "pycharm": {
     "name": "#%%\n"
    }
   },
   "outputs": [],
   "source": [
    "from reaktoro import *\n",
    "import numpy as np\n",
    "import math\n",
    "\n",
    "# Define Thermofun database\n",
    "db = ThermoFunDatabase (\"psinagra-12-07\")\n",
    "\n",
    "# Define aqueous phase\n",
    "solution = AqueousPhase(speciate(\"Al C Ca Cl Fe H K Mg N Na O P S Si U\"))\n",
    "solution.setActivityModel(chain(\n",
    "    ActivityModelHKF(),\n",
    "    ActivityModelDrummond(\"CO2\")\n",
    "))\n",
    "\n",
    "# Define chemical system by providing database, aqueous phase, and minerals\n",
    "system = ChemicalSystem(db, solution)"
   ]
  },
  {
   "cell_type": "markdown",
   "metadata": {},
   "source": [
    "The specified below equilibrium specs indicate that equilibrium calculations will be performed for fixed T, P, and pH.\n",
    "The corresponding equilibrium conditions and equilibrium solver are initialized using `specs` instance:"
   ]
  },
  {
   "cell_type": "code",
   "execution_count": null,
   "metadata": {
    "pycharm": {
     "name": "#%%\n"
    }
   },
   "outputs": [],
   "source": [
    "# Specify conditions to be satisfied at chemical equilibrium\n",
    "specs = EquilibriumSpecs(system)\n",
    "specs.temperature()\n",
    "specs.pressure()\n",
    "specs.pH()\n",
    "\n",
    "# Define temperature and pressure\n",
    "T = 25.0 # in Celsius\n",
    "P = 1.0 # in bar\n",
    "\n",
    "# Define conditions to be satisfied at chemical equilibrium\n",
    "conditions = EquilibriumConditions(specs)\n",
    "conditions.temperature(T, \"celsius\")\n",
    "conditions.pressure(P, \"bar\")\n",
    "\n",
    "# Define equilibrium solver\n",
    "solver = EquilibriumSolver(specs)"
   ]
  },
  {
   "cell_type": "markdown",
   "metadata": {
    "pycharm": {
     "name": "#%% md\n"
    }
   },
   "source": [
    "The initial chemical state is defined according to the following recipe:\n",
    "\n",
    "* 1000 g of water,\n",
    "* 1e-5 mol of H<sub>3</sub>PO<sub>4</sub>@,\n",
    "* 1e-5 mol of UO<sub>2</sub>(SO<sub>4</sub>)@, and\n",
    "* 0.1 g of CO<sub>2</sub>@."
   ]
  },
  {
   "cell_type": "code",
   "execution_count": null,
   "metadata": {
    "pycharm": {
     "name": "#%%\n"
    }
   },
   "outputs": [],
   "source": [
    "# Define initial equilibrium state\n",
    "state = ChemicalState(system)\n",
    "state.set(\"H2O@\"     , 1e3,  \"g\")\n",
    "state.set(\"CO2@\"     , 1e-1, \"g\")\n",
    "state.set(\"H3PO4@\"   , 1e-5, \"mol\")\n",
    "state.set(\"UO2(SO4)@\", 1e-5, \"mol\")"
   ]
  },
  {
   "cell_type": "markdown",
   "metadata": {
    "pycharm": {
     "name": "#%% md\n"
    }
   },
   "source": [
    "The amount of uranium can be calculated through the chemical properties of this chemical state.\n",
    "We define the range of the pH values as well as the list of uranium-containing species interesting for our modeling.\n",
    "Finally, we run simulations in the for-loop over the pH values that are provided to the equilibrium conditions instance:"
   ]
  },
  {
   "cell_type": "code",
   "execution_count": null,
   "metadata": {
    "pycharm": {
     "name": "#%%\n"
    }
   },
   "outputs": [],
   "source": [
    "# Calculate the amount of uranium element\n",
    "prop = ChemicalProps(state)\n",
    "bU = prop.elementAmount(\"U\")[0]\n",
    "\n",
    "# Defined auxiliary arrays\n",
    "pHs = np.linspace(5, 10, num=41)\n",
    "species_list = SpeciesList(\"UO2+2 UO2OH+ UO2(OH)2@ UO2CO3@ (UO2)3CO3(OH)3+ (UO2)2(OH)+3 \"\n",
    "                               \"UO2(CO3)3-4 UO2(CO3)2-2 (UO2)2(OH)2+2 (UO2)3(OH)5+ (UO2)4(OH)7+\")\n",
    "nU = np.zeros((len(pHs), species_list.size()))\n",
    "\n",
    "for i in range(0, len(pHs)):\n",
    "\n",
    "    # Set the value of pH for the current equilibrium calculations\n",
    "    conditions.pH(pHs[i])\n",
    "\n",
    "    # Equilibrate the initial state with given conditions and component amounts\n",
    "    res = solver.solve(state, conditions)\n",
    "\n",
    "    if not res.optima.succeeded:\n",
    "        # If the equilibrium calculations has not succeeded, return nan values\n",
    "        nU[i, :] = math.nan * np.ones(species_list.size())\n",
    "    else:\n",
    "        # Otherwise, calculate U(VI) Speciation, %\n",
    "        for j in range(0, species_list.size()):#species in species_list:\n",
    "            nU[i, j] = state.speciesAmount(species_list[j].name())[0] / bU * 100\n"
   ]
  },
  {
   "cell_type": "markdown",
   "metadata": {},
   "source": [
    "Below, we plot obtained values of the U(VI) Speciation in % on two plots. First, we plot species having a higher range\n",
    "of values."
   ]
  },
  {
   "cell_type": "code",
   "execution_count": null,
   "metadata": {
    "pycharm": {
     "name": "#%%\n"
    }
   },
   "outputs": [],
   "source": [
    "import matplotlib.pyplot as plt\n",
    "colors = ['C1', 'C2', 'C3', 'C4', 'C5', 'C7', 'C8', 'C9', 'C0', 'darkblue', 'darkgreen']\n",
    "\n",
    "#\"UO2+2 UO2OH+ UO2CO3@ UO2(CO3) 3-4 UO2(CO3)2-2\"\n",
    "indices_high = [0, 1, 3, 6, 7]\n",
    "\n",
    "#\"UO2(OH)2@ (UO2)3CO3(OH)3+ (UO2)2(OH)+3 (UO2)2(OH)2+2 (UO2)3(OH)5+ (UO2)4(OH)7+\"\n",
    "indices_low = [2, 4, 5, 8, 9, 10]\n",
    "\n",
    "plt.figure()\n",
    "plt.xlabel(\"pH\")\n",
    "plt.ylabel(\"U(VI) Speciation, %\")\n",
    "for j in indices_high:\n",
    "    plt.plot(pHs, nU[:, j], label=species_list[j].name(), color=colors[j])\n",
    "plt.legend(loc=\"best\")\n",
    "plt.grid()"
   ]
  },
  {
   "cell_type": "markdown",
   "metadata": {
    "pycharm": {
     "name": "#%% md\n"
    }
   },
   "source": [
    "Next, we also depict the U(VI) speciation of species with lower values."
   ]
  },
  {
   "cell_type": "code",
   "execution_count": null,
   "metadata": {
    "pycharm": {
     "name": "#%%\n"
    }
   },
   "outputs": [],
   "source": [
    "plt.figure()\n",
    "plt.xlabel(\"pH\")\n",
    "plt.ylabel(\"U(VI) Speciation, %\")\n",
    "for j in indices_low:\n",
    "    plt.plot(pHs, nU[:, j], label=species_list[j].name(), color=colors[j])\n",
    "plt.legend(loc=\"best\")\n",
    "plt.grid()"
   ]
  },
  {
   "cell_type": "code",
   "execution_count": null,
   "metadata": {},
   "outputs": [],
   "source": []
  }
 ],
 "metadata": {
  "kernelspec": {
   "display_name": "Python 3 (ipykernel)",
   "language": "python",
   "name": "python3"
  },
  "language_info": {
   "codemirror_mode": {
    "name": "ipython",
    "version": 3
   },
   "file_extension": ".py",
   "mimetype": "text/x-python",
   "name": "python",
   "nbconvert_exporter": "python",
   "pygments_lexer": "ipython3",
   "version": "3.9.7"
  }
 },
 "nbformat": 4,
 "nbformat_minor": 1
}