{
 "cells": [
  {
   "cell_type": "markdown",
   "metadata": {},
   "source": [
    "# Granite simulations\n",
    "\n",
    "This tutorial demonstrates how Reaktoro can be used for performing equilibrium simulations for the granite rock mixed\n",
    "with NaCl-brine. We use `aq17` thermofun database.\n",
    "\n",
    "```{note}\n",
    "If your main interest is in computing thermodynamic properties, rather than chemical equilibrium and\n",
    "kinetics modeling, you may want to check [ThermoFun](https://thermohub.org/thermofun/thermofun/),\n",
    "which is an excellent project dedicated to this task.\n",
    "\n",
    "This tutorial is joint work with Dan Miron, PSI.\n",
    "```"
   ]
  },
  {
   "cell_type": "code",
   "execution_count": null,
   "metadata": {},
   "outputs": [],
   "source": [
    "# Import reaktoro package\n",
    "from reaktoro import *\n",
    "\n",
    "# Define Thermofun database\n",
    "db = ThermoFunDatabase(\"aq17\")"
   ]
  },
  {
   "cell_type": "markdown",
   "metadata": {
    "pycharm": {
     "name": "#%% md\n"
    }
   },
   "source": [
    "We define an aqueous solution with concrete species' list and set up the Debye-Huckel activity model with\n",
    "provided parameters. The minerals' assembly includes 12 minerals. These two phases will define the chemical system."
   ]
  },
  {
   "cell_type": "code",
   "execution_count": null,
   "metadata": {
    "pycharm": {
     "name": "#%%\n"
    }
   },
   "outputs": [],
   "source": [
    "solution = AqueousPhase(\"H2O@ H+ OH- Cl- HCl@ Na+ NaOH@ NaHSiO3@ NaCl@ NaAl(OH)4@ SiO2@ HSiO3- \"\n",
    "                            \"K+ KOH@ KCl@ KAlO2@ Al+3 AlOH+2 Al(OH)2+ Al(OH)3@ Al(OH)4-\")\n",
    "\n",
    "# Set up a and b parameters for ionic species (NaCl, b = 0.064, a = 3.72)\n",
    "params = ActivityModelDebyeHuckelParams()\n",
    "params.aiondefault = 3.72\n",
    "params.biondefault = 0.064\n",
    "params.bneutraldefault = 0.064\n",
    "solution.setActivityModel(ActivityModelDebyeHuckel(params))\n",
    "\n",
    "# Define minerals phases\n",
    "minerals = MineralPhases(\"Quartz Diaspore Gibbsite Andalusite Kyanite \"\n",
    "                             \"Sillimanite Muscovite Paragonite Pyrophyllite \"\n",
    "                             \"Kaolinite Albite Microcline\")\n",
    "\n",
    "# Define chemical system by providing database, aqueous phase, and minerals\n",
    "system = ChemicalSystem(db, solution, minerals)"
   ]
  },
  {
   "cell_type": "markdown",
   "metadata": {},
   "source": [
    "With the code below, we set up equilibrium specifications, equilibrium conditions, and equilibrium solver used for the\n",
    "equilibrium calculations:"
   ]
  },
  {
   "cell_type": "code",
   "execution_count": null,
   "metadata": {
    "pycharm": {
     "name": "#%%\n"
    }
   },
   "outputs": [],
   "source": [
    "# Specify conditions to be satisfied at chemical equilibrium\n",
    "specs = EquilibriumSpecs(system)\n",
    "specs.temperature()\n",
    "specs.pressure()\n",
    "\n",
    "# Define temperature and pressure\n",
    "T = 400.0 # in Celsius\n",
    "P = 1e3 # in bar\n",
    "\n",
    "# Define conditions to be satisfied at chemical equilibrium\n",
    "conditions = EquilibriumConditions(specs)\n",
    "conditions.temperature(T, \"celsius\")\n",
    "conditions.pressure(P, \"bar\")\n",
    "\n",
    "# Define equilibrium solver\n",
    "solver = EquilibriumSolver(specs)"
   ]
  },
  {
   "cell_type": "markdown",
   "metadata": {
    "pycharm": {
     "name": "#%% md\n"
    }
   },
   "source": [
    "In the initial chemical state, we mix 100 g of granite and 20 g of NaCl-brine (1 molal NaCl concentration).\n",
    "Granite rock is composed of 35% of quartz, 19% muscovite, 29% of albite, and 17% of microcline. This corresponds to\n",
    "the mass of the minerals we set below. Finally, we run equilibrium calculations and create chemical and aqueous\n",
    "properties instances based on the obtained chemical state."
   ]
  },
  {
   "cell_type": "code",
   "execution_count": null,
   "metadata": {
    "pycharm": {
     "name": "#%%\n"
    }
   },
   "outputs": [],
   "source": [
    "# Define initial equilibrium state\n",
    "state = ChemicalState(system)\n",
    "# Define initial solution amount (1 molal NaCl-brine)\n",
    "state.set(\"H2O@\" , 20, \"g\")\n",
    "state.set(\"NaCl@\", 0.02, \"mol\")\n",
    "# Define initial composition of granite (100g)\n",
    "state.set(\"Quartz\"    , 35, \"g\") # 35% of granite\n",
    "state.set(\"Microcline\", 17, \"g\") # 17% of granite\n",
    "state.set(\"Albite\"    , 29, \"g\") # 29% of granite\n",
    "state.set(\"Muscovite\" , 19, \"g\") # 19% of granite\n",
    "\n",
    "# Equilibrate the initial state with given conditions and component amounts\n",
    "res = solver.solve(state, conditions)\n",
    "print(\"res (aq17) = \", res.optima.succeeded)\n",
    "\n",
    "# Output the chemical state to a console\n",
    "print(state)\n",
    "\n",
    "# Create chemical properties instance and output it to a console\n",
    "props = ChemicalProps (state)\n",
    "print(props)\n",
    "\n",
    "# Create aqueous properties instance and output it to a console\n",
    "aprops = AqueousProps (state)\n",
    "print(aprops)"
   ]
  }
 ],
 "metadata": {
  "kernelspec": {
   "display_name": "Python 3 (ipykernel)",
   "language": "python",
   "name": "python3"
  },
  "language_info": {
   "codemirror_mode": {
    "name": "ipython",
    "version": 3
   },
   "file_extension": ".py",
   "mimetype": "text/x-python",
   "name": "python",
   "nbconvert_exporter": "python",
   "pygments_lexer": "ipython3",
   "version": "3.9.7"
  }
 },
 "nbformat": 4,
 "nbformat_minor": 1
}