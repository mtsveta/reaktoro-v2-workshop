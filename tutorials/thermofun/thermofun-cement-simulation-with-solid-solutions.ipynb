{
 "cells": [
  {
   "cell_type": "markdown",
   "metadata": {
    "collapsed": true,
    "pycharm": {
     "name": "#%% md\n"
    }
   },
   "source": [
    "# Limestone addition to the cement recipe\n",
    "\n",
    "This tutorial demonstrates how Reaktoro can be used for performing realistic modeling of the limestone addition\n",
    "to the cement recipe and effects this mixing causes.\n",
    "\n",
    "```{note}\n",
    "If your main interest is in computing thermodynamic properties, rather than chemical equilibrium and\n",
    "kinetics modeling, you may want to check [ThermoFun](https://thermohub.org/thermofun/thermofun/),\n",
    "which is an excellent project dedicated to this task.\n",
    "\n",
    "This tutorial is joint work with Dan Miron, PSI.\n",
    "```\n",
    "\n",
    "The considered model uses a **thermofun** database `cemdata18` based on [Cemdata](https://www.empa.ch/web/s308/thermodynamic-data),\n",
    "the thermodynamic data for hydrated solids in the Portland cement system (CaO-Al2O3-SiO2-CaSO4-CaCO3-Fe2O3-MgO-H2O).\n",
    "The resulting chemical system includes an aqueous phase, minerals, and four solid phases."
   ]
  },
  {
   "cell_type": "code",
   "execution_count": null,
   "metadata": {
    "pycharm": {
     "name": "#%%\n"
    }
   },
   "outputs": [],
   "source": [
    "from reaktoro import *\n",
    "\n",
    "# Define Thermofun database\n",
    "db = ThermoFunDatabase(\"cemdata18\")\n",
    "\n",
    "# Define aqueous solution phase with Debye-Huckel activity model\n",
    "solution = AqueousPhase(speciate(\"H O K Na S Si Ca Mg Al C Cl\"))\n",
    "\n",
    "# Set up a and b parameters for the ionic species (KOH, b = 0.123, a = 3.67)\n",
    "params = ActivityModelDebyeHuckelParams()\n",
    "params.aiondefault = 3.67\n",
    "params.biondefault = 0.123\n",
    "params.bneutraldefault = 0.123\n",
    "\n",
    "solution.setActivityModel(ActivityModelDebyeHuckel(params))\n",
    "\n",
    "# Define minerals phases\n",
    "minerals = MineralPhases(\"Cal hydrotalcite Portlandite hemicarbonate monocarbonate Amor-Sl FeOOHmic Gbs Mag \"\n",
    "                             \"C2S C3A C3S C4AF Lim Gp Brc K2SO4 K2O Na2SO4 Na2O\")\n",
    "\n",
    "# Define solid phases\n",
    "solidphase_C3AFS084H  = SolidPhase(\"C3FS0.84H4.32 C3AFS0.84H4.32\") # AlFeSi-hydrogarnet_ss\n",
    "solidphase_ettringite = SolidPhase(\"ettringite ettringite30\") # Ettrignite_ss\n",
    "solidphase_OH_SO4_AFm = SolidPhase(\"C4AH13 monosulphate12\") # Monosulfate_ss\n",
    "solidphase_CSHQ       = SolidPhase(\"CSHQ-TobD CSHQ-TobH CSHQ-JenH CSHQ-JenD KSiOH NaSiOH\") # CSH_ss\n",
    "\n",
    "# Define chemical system by providing database, aqueous phase, minerals, and solid solutions\n",
    "system = ChemicalSystem(db, solution, minerals,\n",
    "                            solidphase_C3AFS084H,\n",
    "                            solidphase_ettringite,\n",
    "                            solidphase_OH_SO4_AFm,\n",
    "                            solidphase_CSHQ)"
   ]
  },
  {
   "cell_type": "markdown",
   "metadata": {
    "pycharm": {
     "name": "#%% md\n"
    }
   },
   "source": [
    "Next, we set up equilibrium specifications, equilibrium conditions, and equilibrium solver all to be used for the\n",
    "equilibrium calculations:"
   ]
  },
  {
   "cell_type": "code",
   "execution_count": null,
   "metadata": {
    "pycharm": {
     "name": "#%%\n"
    }
   },
   "outputs": [],
   "source": [
    "# Specify conditions to be satisfied at chemical equilibrium\n",
    "specs = EquilibriumSpecs(system)\n",
    "specs.temperature()\n",
    "specs.pressure()\n",
    "\n",
    "# Define temperature and pressure\n",
    "T = 20.0 # in Celsius\n",
    "P = 1.0 # in bar\n",
    "\n",
    "# Define conditions to be satisfied at chemical equilibrium\n",
    "conditions = EquilibriumConditions(specs)\n",
    "conditions.temperature(T, \"celsius\")\n",
    "conditions.pressure(P, \"bar\")\n",
    "\n",
    "# Define equilibrium solver\n",
    "solver = EquilibriumSolver(specs)"
   ]
  },
  {
   "cell_type": "markdown",
   "metadata": {},
   "source": [
    "Below, we assemble the chemical state in the proportion water/binder = 0.4, i.e., we assume 40 g of water per 100 g of\n",
    "the cement clinker presented by the several clinker phases with additives. We run equilibrium calculations and create\n",
    "chemical and aqueous properties instances based on the obtained chemical state."
   ]
  },
  {
   "cell_type": "code",
   "execution_count": null,
   "metadata": {
    "pycharm": {
     "name": "#%%\n"
    }
   },
   "outputs": [],
   "source": [
    "# Define initial equilibrium state\n",
    "state = ChemicalState(system)\n",
    "state.set(\"H2O@\", 40, \"g\") # water\n",
    "# clinker phases\n",
    "state.set(\"C2S\" ,  9.70, \"g\") # belite\n",
    "state.set(\"C3A\" ,  7.72, \"g\") # aluminate\n",
    "state.set(\"C3S\" , 67.31, \"g\") # alite\n",
    "state.set(\"C4AF\",  8.14, \"g\") # ferrite, (CaO)4(Al2O3)(Fe|3|2O3)\n",
    "# additional\n",
    "state.set(\"Gp\"    , 3.13, \"g\") # gypsum, CaSO4(H2O)2\n",
    "state.set(\"Cal\"   , 0.10, \"g\") # calcite, CaCO3\n",
    "state.set(\"Lim\"   , 0.93, \"g\") # lime, CaO\n",
    "state.set(\"Brc\"   , 1.31, \"g\") # brucite, Mg(OH)2\n",
    "state.set(\"K2SO4\" , 1.34, \"g\") # potasium-sulfate\n",
    "state.set(\"K2O\"   , 0.05, \"g\") # potasium oxide\n",
    "state.set(\"Na2SO4\", 0.21, \"g\") # sodium sulfate\n",
    "state.set(\"Na2O\"  , 0.05, \"g\") # sodium oxide\n",
    "# additional oxygen to stabilize the system\n",
    "state.set(\"O2@\"   , 0.15, \"g\") # oxygen\n",
    "\n",
    "# Equilibrate the initial state with given conditions and component amounts\n",
    "res = solver.solve(state, conditions)\n",
    "print(\"res (cemdata18) = \", res.optima.succeeded)\n",
    "\n",
    "# Output the chemical state to a console\n",
    "print(state)\n",
    "\n",
    "# Create chemical properties instance and output it to a console\n",
    "props = ChemicalProps (state)\n",
    "print(props)\n",
    "\n",
    "# Create aqueous properties instance and output it to a console\n",
    "aprops = AqueousProps (state)\n",
    "print(aprops)"
   ]
  },
  {
   "cell_type": "code",
   "execution_count": null,
   "metadata": {},
   "outputs": [],
   "source": []
  }
 ],
 "metadata": {
  "kernelspec": {
   "display_name": "Python 3 (ipykernel)",
   "language": "python",
   "name": "python3"
  },
  "language_info": {
   "codemirror_mode": {
    "name": "ipython",
    "version": 3
   },
   "file_extension": ".py",
   "mimetype": "text/x-python",
   "name": "python",
   "nbconvert_exporter": "python",
   "pygments_lexer": "ipython3",
   "version": "3.9.7"
  }
 },
 "nbformat": 4,
 "nbformat_minor": 1
}