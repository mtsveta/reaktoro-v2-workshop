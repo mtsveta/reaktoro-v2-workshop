{
 "cells": [
  {
   "cell_type": "code",
   "execution_count": 8,
   "metadata": {
    "collapsed": true,
    "pycharm": {
     "name": "#%%\n"
    }
   },
   "outputs": [
    {
     "name": "stdout",
     "output_type": "stream",
     "text": [
      "Element H  has 1.1102e+02 moles and 111.8938 grams\n",
      "Element O  has 5.9508e+01 moles and 952.0988 grams\n",
      "Element C  has 2.0000e+00 moles and  24.0215 grams\n",
      "Element Z  has 8.1730e-10 moles and   0.0000 grams\n",
      "\n",
      "Species H2O(aq) has 5.5455e+01 moles and 999.0347 grams.\n",
      "Species H+      has 1.2349e-04 moles and   0.0001 grams.\n",
      "Species OH-     has 8.3974e-11 moles and   0.0000 grams.\n",
      "Species CO3--   has 4.9365e-11 moles and   0.0000 grams.\n",
      "Species HCO3-   has 1.2348e-04 moles and   0.0075 grams.\n",
      "Species CO2(aq) has 3.2861e-02 moles and   1.4462 grams.\n",
      "Species CO2(g)  has 1.9670e+00 moles and  86.5676 grams.\n",
      "Species H2O(g)  has 5.3173e-02 moles and   0.9579 grams.\n"
     ]
    }
   ],
   "source": [
    "# Import the Python package Numpy, so we can perform linear algebra calculations\n",
    "import numpy\n",
    "\n",
    "# Create a list of species name\n",
    "species = ['H2O(aq)', 'H+', 'OH-', 'CO3--', 'HCO3-', 'CO2(aq)', 'CO2(g)', 'H2O(g)']\n",
    "\n",
    "# Create a list of rows of the formula matrix A\n",
    "A = [[2,  1,  1,  0,  1,  0,  0,  2],\n",
    "     [1,  0,  1,  3,  3,  2,  2,  1],\n",
    "     [0,  0,  0,  1,  1,  1,  1,  0],\n",
    "     [0,  1, -1, -2, -1,  0,  0,  0]]\n",
    "\n",
    "# Create a list with the amounts of species (in moles)\n",
    "n = [55.4551, 1.23485e-4, 8.39739e-11, 4.93648e-11, 1.23484e-4, 0.032861, 1.96702, 0.0531732]\n",
    "\n",
    "# Transform Python lists A and n into Numpy arrays\n",
    "A = numpy.array(A)\n",
    "n = numpy.array(n)\n",
    "\n",
    "# Multiply matrix A and vector n to calculate the amounts of elements, b\n",
    "b = A.dot(n)\n",
    "\n",
    "# Create a list with the names of the elements\n",
    "elements = ['H', 'O', 'C', 'Z']\n",
    "\n",
    "# Create a list with the molar masses of H, O, C, Z\n",
    "molar_masses_elements = [1.0079, 15.9994, 12.0107, 0.0]\n",
    "\n",
    "# Loop over all elements, their amounts, and their molar masses\n",
    "for element, amount, molarmass in zip(elements, b, molar_masses_elements):\n",
    "    print(f'Element {element:2s} has {amount:4.4e} moles and {amount*molarmass:8.4f} grams')\n",
    "\n",
    "print(\"\") # Just to skip one line in the output\n",
    "\n",
    "# Alternative way of looping over all species using an index i\n",
    "for i in range(len(species)):\n",
    "    # Calculate the molar mass of current species\n",
    "    molar_mass = A[:, i].dot(molar_masses_elements)\n",
    "    # Calculate the mass of current species\n",
    "    mass = n[i] * molar_mass\n",
    "    print(f'Species {species[i]:7s} has {n[i]:4.4e} moles and {mass:8.4f} grams.')"
   ]
  }
 ],
 "metadata": {
  "kernelspec": {
   "name": "pycharm-6dd1373a",
   "language": "python",
   "display_name": "PyCharm (reaktoro-v2-workshop)"
  },
  "language_info": {
   "codemirror_mode": {
    "name": "ipython",
    "version": 2
   },
   "file_extension": ".py",
   "mimetype": "text/x-python",
   "name": "python",
   "nbconvert_exporter": "python",
   "pygments_lexer": "ipython2",
   "version": "2.7.6"
  }
 },
 "nbformat": 4,
 "nbformat_minor": 0
}