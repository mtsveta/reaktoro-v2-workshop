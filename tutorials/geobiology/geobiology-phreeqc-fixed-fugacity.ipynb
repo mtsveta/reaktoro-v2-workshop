{
 "cells": [
  {
   "cell_type": "markdown",
   "metadata": {},
   "source": [
    "# Phosphate accumulation in carbonate-rich brines\n",
    "\n",
    "In this tutorial, we demonstrate how Reaktoro can be used to perform a series of experiments presented in the paper\n",
    "of Toner and Catling, 2020 `Toner2020`, which is focused on determining how much phosphate can accumulate by abiotic\n",
    "processes in carbonate-rich lakes.\n",
    "\n",
    "```{note}\n",
    "This tutorial is one of two tutorials that follows\n",
    "the paper of Toner and Catling `Toner2020` and tries to replicate the geobiological simulations carried out in it.\n",
    "The second tutorial is available through the link:\n",
    "[**Carbonate-rich lakes modelling on the early Earth**](geobiology-streammodel-fixed-fugacity.ipynb)\n",
    "This work was carried out together with Cara Magnabosco and Laura Murzakhmetov, ETH-Zurich.\n",
    "```\n",
    "\n",
    "The database is loaded from the database provided by the publication of Toner and Catling (2020):"
   ]
  },
  {
   "cell_type": "code",
   "execution_count": null,
   "metadata": {},
   "outputs": [],
   "source": [
    "from reaktoro import *\n",
    "import numpy as np\n",
    "import math\n",
    "\n",
    "db = PhreeqcDatabase.fromFile('phreeqc-toner-catling.dat') # if running from tutorials folder"
   ]
  },
  {
   "cell_type": "markdown",
   "metadata": {},
   "source": [
    "We define a chemical system based on the database and provided aqueous and mineral phases. Moreover, to evaluate pH and\n",
    "phosphate amount in the aqueous phase, we will need aqueous and chemical properties:"
   ]
  },
  {
   "cell_type": "code",
   "execution_count": null,
   "metadata": {},
   "outputs": [],
   "source": [
    "# Define aqueous phase\n",
    "solution = AqueousPhase(speciate(\"H O C Na Cl P\"))\n",
    "solution.setActivityModel(chain(\n",
    "    ActivityModelHKF(),\n",
    "    ActivityModelDrummond(\"CO2\")\n",
    "))\n",
    "\n",
    "# Define mineral phases\n",
    "minerals = MineralPhases(\"Natron Nahcolite Trona Na2CO3:H2O Na2CO3:7H2O Halite Na2(HPO4):7H2O\")\n",
    "\n",
    "# Define chemical system\n",
    "system = ChemicalSystem(db, solution, minerals)\n",
    "\n",
    "# Define aqueous and chemical properties\n",
    "props = ChemicalProps(system)\n",
    "aprops = AqueousProps(system)"
   ]
  },
  {
   "cell_type": "markdown",
   "metadata": {},
   "source": [
    "To communicate to the solver that fugacity will be constrained in this chemical system, we have to define equilibrium\n",
    "specifications and corresponding conditions. The first one indicates what will be a constraint and the second one by\n",
    "which value (set below for the range of fugacities). We also reset the equilibrium option's field `epsilon` to \"relax\"\n",
    "the convergence of equilibrium calculations."
   ]
  },
  {
   "cell_type": "code",
   "execution_count": null,
   "metadata": {},
   "outputs": [],
   "source": [
    "# Define equilibrium specifications\n",
    "specs = EquilibriumSpecs(system)\n",
    "specs.temperature()\n",
    "specs.pressure()\n",
    "specs.fugacity(\"CO2\")\n",
    "\n",
    "# Define equilibrium conditions\n",
    "conditions = EquilibriumConditions(specs)\n",
    "\n",
    "opts = EquilibriumOptions()\n",
    "opts.epsilon = 1e-13"
   ]
  },
  {
   "cell_type": "markdown",
   "metadata": {},
   "source": [
    "For the numerical experiment, we consider Na–Cl-HCO<sub>3</sub>–CO<sub>3</sub>-HPO<sub>4</sub> brine defined\n",
    "by the initial chemical state in the function `equilibrate_with_NaCl_HPO4()."
   ]
  },
  {
   "cell_type": "code",
   "execution_count": null,
   "metadata": {},
   "outputs": [],
   "source": [
    "def equilibrate_with_NaCl_HPO4(log10pCO2, T):\n",
    "\n",
    "    conditions.temperature(T, \"celsius\")\n",
    "    conditions.pressure(1.0, \"atm\")\n",
    "    conditions.fugacity(\"CO2\", 10 ** log10pCO2, \"bar\")\n",
    "\n",
    "    state = ChemicalState(system)\n",
    "    state.set(\"H2O\"           ,   1.0, \"kg\")\n",
    "    state.set(\"Nahcolite\"     ,  10.0, \"mol\")\n",
    "    state.set(\"Halite\"        ,  10.0, \"mol\")\n",
    "    state.set(\"Na2(HPO4):7H2O\",  10.0, \"mol\")\n",
    "    state.set(\"CO2\"           , 100.0, \"mol\")\n",
    "\n",
    "    solver = EquilibriumSolver(specs)\n",
    "    solver.setOptions(opts)\n",
    "\n",
    "    res = solver.solve(state, conditions)\n",
    "\n",
    "    if not res.optima.succeeded:\n",
    "        print(f\"The optimization solver hasn't converged for T = {T} C and log10pCO2 = {log10pCO2}\")\n",
    "        return math.nan, math.nan, math.nan, math.nan, math.nan\n",
    "\n",
    "    props.update(state)\n",
    "    aprops.update(state)\n",
    "\n",
    "    ph = aprops.pH()[0]\n",
    "    mCO3 = state.speciesAmount(\"CO3-2\")[0]\n",
    "    mHCO3 = state.speciesAmount(\"HCO3-\")[0]\n",
    "    x = 100 * 2 * mCO3 / (mHCO3 + 2 * mCO3)\n",
    "    mP = props.elementAmountInPhase(\"P\", \"AqueousPhase\")[0]\n",
    "\n",
    "    return ph, mCO3, mHCO3, x, mP"
   ]
  },
  {
   "cell_type": "markdown",
   "metadata": {},
   "source": [
    "To determine the maximum phosphate concentrations possible in such brine, we model solutions saturated with respect to\n",
    "sodium phosphate, carbonate, and chloride salts at temperatures in a range between 0 to 50 °C and gas pressure\n",
    "represented log<sub>10</sub>(pCO<sub>2</sub>) = −3.5 to 0 bars. We find that up to 2.1 moles phosphate occurs in\n",
    "equilibrium with Na<sub>2</sub>(HPO<sub>4</sub>)·7H<sub>2</sub>O salts.\n",
    "\n",
    "The block below defines the array of the partial CO<sub>2</sub> pressures and data blocks that will be storing results\n",
    "for different temperatures. We run equilibrium calculations for different pressures in the for-loop:"
   ]
  },
  {
   "cell_type": "code",
   "execution_count": null,
   "metadata": {},
   "outputs": [],
   "source": [
    "num_log10pCO2s = 71\n",
    "co2pressures = np.flip(np.linspace(-5.0, 2.0, num=num_log10pCO2s))\n",
    "\n",
    "data_size = 5\n",
    "data50 = np.zeros((num_log10pCO2s, data_size+1))\n",
    "data25 = np.zeros((num_log10pCO2s, data_size+1))\n",
    "data0 = np.zeros((num_log10pCO2s, data_size+1))\n",
    "\n",
    "for i in range(0, num_log10pCO2s):\n",
    "    result = equilibrate_with_NaCl_HPO4(co2pressures[i], 0)\n",
    "    data0[i, 0] = co2pressures[i]\n",
    "    data0[i, 1] = result[0]\n",
    "    data0[i, 2] = result[1]\n",
    "    data0[i, 3] = result[2]\n",
    "    data0[i, 4] = result[3]\n",
    "    data0[i, 5] = result[4]\n",
    "\n",
    "    result = equilibrate_with_NaCl_HPO4(co2pressures[i], 25)\n",
    "    data25[i, 0] = co2pressures[i]\n",
    "    data25[i, 1] = result[0]\n",
    "    data25[i, 2] = result[1]\n",
    "    data25[i, 3] = result[2]\n",
    "    data25[i, 4] = result[3]\n",
    "    data25[i, 5] = result[4]\n",
    "\n",
    "    result = equilibrate_with_NaCl_HPO4(co2pressures[i], 50)\n",
    "    data50[i, 0] = co2pressures[i]\n",
    "    data50[i, 1] = result[0]\n",
    "    data50[i, 2] = result[1]\n",
    "    data50[i, 3] = result[2]\n",
    "    data50[i, 4] = result[3]\n",
    "    data50[i, 5] = result[4]"
   ]
  },
  {
   "cell_type": "markdown",
   "metadata": {},
   "source": [
    "The modeled pH of saturated phosphate brines depends on the temperature and the partial CO<sub>2</sub> pressures.\n",
    "At present day pCO<sub>2</sub> levels (log<sub>10</sub>(pCO<sub>2</sub>) = −3.5), solutions are highly alkaline\n",
    "(pH approximate to 10), consistent with high pHs measured in modern soda lakes. However, in CO<sub>2</sub>-rich\n",
    "atmospheres on the early Earth (log<sub>10</sub>(pCO<sub>2</sub>) = −2 to 0), brines range from moderately alkaline\n",
    "(with pH = 9) to slightly acidic (pH = 6.5) because of acidification by CO<sub>2</sub> (see the plot below).\n",
    "We note that plotted pH levels are the maximum values for the corresponding solution, as it is saturated with respect to\n",
    "carbonate minerals. For undersaturated solutions, the pH is always lower. We see that temperature also affects the pH\n",
    "levels, because CO<sub>2</sub> is more soluble in solutions at lower temperatures, making pH slightly higher."
   ]
  },
  {
   "cell_type": "code",
   "execution_count": null,
   "metadata": {},
   "outputs": [],
   "source": [
    "import matplotlib.pyplot as plt\n",
    "plt.figure()\n",
    "plt.plot(data0[:, 0], data0[:, 1], label=f'0 C', color='C2')\n",
    "plt.plot(data0[:, 0], data25[:, 1], label=f'25 C', color='C3')\n",
    "plt.plot(data0[:, 0], data50[:, 1], label=f'50 C', color='C4')\n",
    "plt.legend(loc=\"best\")\n",
    "plt.xlabel(r'$\\log_{10}(\\rm{pCO}_2)$ [bar]')\n",
    "plt.ylabel('pH [-]')\n",
    "plt.grid()"
   ]
  },
  {
   "cell_type": "markdown",
   "metadata": {},
   "source": [
    "Below, we see that the solubility of phosphate increases with growing temperature and pressure:"
   ]
  },
  {
   "cell_type": "code",
   "execution_count": null,
   "metadata": {},
   "outputs": [],
   "source": [
    "plt.figure()\n",
    "plt.title(\"Solubility of phosphate\")\n",
    "plt.plot(co2pressures, data50[:, 5], label=f'50 C', color=\"C2\")\n",
    "plt.plot(co2pressures, data25[:, 5], label=f'25 C', color=\"C3\")\n",
    "plt.plot(co2pressures, data0[:, 5], label=f'0 C', color=\"C4\")\n",
    "plt.legend(loc=\"best\")\n",
    "plt.xlabel(r'$\\log_{10}(\\sf{pCO}_2)$ [bar]')\n",
    "plt.ylabel('Amount of P [mol]')\n",
    "plt.grid()"
   ]
  },
  {
   "cell_type": "markdown",
   "metadata": {},
   "source": [
    "The relative proportion of CO<sub>2</sub><sup>−3</sup> vs. HCO<sup>−3</sup> ions in solution also controls the\n",
    "log<sub>10</sub>(pCO<sub>2</sub>) and pH modeled for the experimental saturated Na–HCO<sub>3</sub>–CO<sub>3</sub> brines.\n",
    "Here, the pH ranges from neutral (at 1 bar CO<sub>2</sub>) to pH = 9 at 0.01 bar partial CO<sub>2</sub> pressure.\n",
    "The relatively high pCO<sub>2</sub> values would acidify the solution. This suggests that increased phosphate\n",
    "concentrations could have occurred in CO<sub>2</sub>-rich atmospheres on the early Earth. The x-axis corresponds to the\n",
    "equivalent percentage of CO<sub>2</sub><sup>−3</sup> ions relative to the total carbonate alkalinity defined as and is\n",
    "defined as $x = \\frac{2[\\sf{CO}_3^{-2}]}{[\\sf{HCO}_3^-] + 2[\\sf{CO}_3^{-2}]}$."
   ]
  },
  {
   "cell_type": "code",
   "execution_count": null,
   "metadata": {
    "pycharm": {
     "name": "#%%\n"
    }
   },
   "outputs": [],
   "source": [
    "fig, ax1 = plt.subplots()\n",
    "color = 'tab:red'\n",
    "ax1.set_xlabel(r'$\\frac{2[\\sf{CO}_3^{-2}]}{[\\sf{HCO}_3^-] + 2[\\sf{CO}_3^{-2}]}$ [%]')\n",
    "ax1.set_ylabel('pH [-]', color=color)\n",
    "ax1.plot(data25[:, 4], data25[:, 1], color=color)\n",
    "ax1.tick_params(axis='y', labelcolor=color)\n",
    "\n",
    "ax2 = ax1.twinx()  # instantiate a second axes that shares the same x-axis\n",
    "color = 'tab:blue'\n",
    "ax2.set_ylabel(r'$\\log_{10}(\\sf{pCO}_2)$ [bar]', color=color)  # we already handled the x-label with ax1\n",
    "ax2.plot(data25[:, 4], data25[:, 0], color=color)\n",
    "ax2.tick_params(axis='y', labelcolor=color)\n",
    "\n",
    "fig.tight_layout()  # otherwise the right y-label is slightly clipped\n",
    "plt.grid()"
   ]
  }
 ],
 "metadata": {
  "interpreter": {
   "hash": "e4e8b2f3ae27709963f14fd23a6560d362beea55eaec742263828e04d814e23c"
  },
  "kernelspec": {
   "display_name": "Python 3 (ipykernel)",
   "language": "python",
   "name": "python3"
  },
  "language_info": {
   "codemirror_mode": {
    "name": "ipython",
    "version": 3
   },
   "file_extension": ".py",
   "mimetype": "text/x-python",
   "name": "python",
   "nbconvert_exporter": "python",
   "pygments_lexer": "ipython3",
   "version": "3.9.7"
  }
 },
 "nbformat": 4,
 "nbformat_minor": 2
}