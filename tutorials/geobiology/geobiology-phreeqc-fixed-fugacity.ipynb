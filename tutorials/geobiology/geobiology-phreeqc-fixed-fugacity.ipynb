{
 "cells": [
  {
   "cell_type": "markdown",
   "metadata": {},
   "source": [
    "# Phosphate accumulation in carbonate-rich brines\n",
    "\n",
    "The simulations performed in this tutorial are based on the article \"*A carbonate-rich lake solution to the phosphate problem of the origin of life*\" by **Toner and Catling (2020)** and propose a possible approach to the phosphate problem in the origin of life. The phosphate problem arises due to the low phosphate solubility as it tends to precipitate in a form of apatite in the presence of calcium. At the same time, it is one of the most important compounds in the formation of the first cellular compounds such as phospholipids or nucleic acids. \n",
    "\n",
    "However, `Toner2020` show that early Earth conditions differed in many ways from today, including significantly higher carbon dioxide levels in the atmosphere. Elevated CO<sub>2</sub> partial pressures may have led to carbonation of brines and then precipitation of calcium carbonate in the brines on the early Earth. Lower calcium concentrations in the brines would then have allowed higher phosphate concentrations, creating suitable conditions for the formation of the first cells on Earth.\n",
    "\n",
    "```{note}\n",
    "This tutorial is one of two tutorials that follow the paper `Toner2020` and attempts to replicate the geobiological simulations performed in it (see also the second tutorial [**Phosphate accumulation in carbonate-rich brines**](geobiology-phreeqc-fixed-fugacity.ipynb)). This work was done in collaboration with Cara Magnabosco and Laura Murzakhmetov, ETH-Zurich.\n",
    "```\n",
    "\n",
    "The thermodynamic database is loaded from the database file provided by the publication of Toner and Catling (2020):"
   ]
  },
  {
   "cell_type": "code",
   "execution_count": null,
   "metadata": {},
   "outputs": [],
   "source": [
    "from reaktoro import *\n",
    "import numpy as np\n",
    "import pandas as pd\n",
    "\n",
    "db = PhreeqcDatabase.fromFile('phreeqc-toner-catling.dat') # if running from tutorials folder"
   ]
  },
  {
   "cell_type": "markdown",
   "metadata": {},
   "source": [
    "We define a chemical system based on the database and provided aqueous and mineral phases. Moreover, to evaluate pH and phosphate amount in the aqueous phase, we will need aqueous and chemical properties:"
   ]
  },
  {
   "cell_type": "code",
   "execution_count": null,
   "metadata": {},
   "outputs": [],
   "source": [
    "# Define aqueous phase\n",
    "solution = AqueousPhase(speciate(\"H O C Na Cl P\"))\n",
    "solution.setActivityModel(chain(\n",
    "    ActivityModelHKF(),\n",
    "    ActivityModelDrummond(\"CO2\")\n",
    "))\n",
    "\n",
    "# Define mineral phases\n",
    "minerals = MineralPhases(\"Natron Nahcolite Trona Na2CO3:H2O Na2CO3:7H2O Halite Na2(HPO4):7H2O\")\n",
    "\n",
    "# Define chemical system\n",
    "system = ChemicalSystem(db, solution, minerals)\n",
    "\n",
    "# Define aqueous and chemical properties\n",
    "props = ChemicalProps(system)\n",
    "aprops = AqueousProps(system)"
   ]
  },
  {
   "cell_type": "markdown",
   "metadata": {},
   "source": [
    "To tell the solver that fugacity in this chemical system will be constrained, we have to define equilibrium specifications and corresponding conditions. The first specifies what will be a constraint and the second by what value (specified below for the range of fugacities). We also reset the equilibrium option's field `epsilon` to reset the default lower bound of species to 10<sup>-13</sup>."
   ]
  },
  {
   "cell_type": "code",
   "execution_count": null,
   "metadata": {},
   "outputs": [],
   "source": [
    "# Define equilibrium specifications\n",
    "specs = EquilibriumSpecs(system)\n",
    "specs.temperature()\n",
    "specs.pressure()\n",
    "specs.fugacity(\"CO2\")\n",
    "\n",
    "# Define conditions to be satisfied at the chemical equilibrium state\n",
    "conditions = EquilibriumConditions(specs)\n",
    "\n",
    "# Define equilibrium conditions\n",
    "opts = EquilibriumOptions()\n",
    "opts.epsilon = 1e-13"
   ]
  },
  {
   "cell_type": "markdown",
   "metadata": {},
   "source": [
    "To determine the maximum possible phosphate concentrations in such brine, we model solutions saturated with sodium phosphate, carbonate, and chloride salts at temperatures between 0 and 50 °C and gas pressure of log<sub>10</sub>(pCO<sub>2</sub>) = −3.5 to 0 bar. We note that up to 2.1 moles phosphate occurs in equilibrium with Na<sub>2</sub>(HPO<sub>4</sub>)·7H<sub>2</sub>O salts.\n",
    "\n",
    "The following block defines the array of CO<sub>2</sub> partial pressures and the data blocks that will store the results for different temperatures. We perform equilibrium calculations for different pressures in the for loop:"
   ]
  },
  {
   "cell_type": "code",
   "execution_count": null,
   "metadata": {},
   "outputs": [],
   "source": [
    "# Auxiliary arrays\n",
    "num_log10pCO2s = 71\n",
    "co2pressures = np.flip(np.linspace(-5.0, 2.0, num=num_log10pCO2s))\n",
    "temperatures = np.array([0, 25, 50])\n",
    "\n",
    "# Output dataframe\n",
    "data = pd.DataFrame(columns=[\"T\", \"ppCO2\", \"pH\", \"mCO3\", \"mHCO3\", \"x\", \"amount_P\"])\n",
    "\n",
    "for T in temperatures:\n",
    "    for log10pCO2 in co2pressures:\n",
    "\n",
    "        conditions.temperature(T, \"celsius\")\n",
    "        conditions.pressure(1.0, \"atm\")\n",
    "        conditions.fugacity(\"CO2\", 10 ** log10pCO2, \"bar\")\n",
    "\n",
    "        state = ChemicalState(system)\n",
    "        state.set(\"H2O\"           ,   1.0, \"kg\")\n",
    "        state.set(\"Nahcolite\"     ,  10.0, \"mol\")\n",
    "        state.set(\"Halite\"        ,  10.0, \"mol\")\n",
    "        state.set(\"Na2(HPO4):7H2O\",  10.0, \"mol\")\n",
    "        state.set(\"CO2\"           , 100.0, \"mol\")\n",
    "\n",
    "        solver = EquilibriumSolver(specs)\n",
    "        solver.setOptions(opts)\n",
    "\n",
    "        # Equilibrate the solution with the given initial chemical state and desired conditions at the equilibrium\n",
    "        res = solver.solve(state, conditions)\n",
    "        # Stop if the equilibration did not converge or failed\n",
    "        if not res.optima.succeeded: continue\n",
    "\n",
    "        props.update(state)\n",
    "        aprops.update(state)\n",
    "\n",
    "        mCO3 = float(state.speciesAmount(\"CO3-2\"))\n",
    "        mHCO3 = float(state.speciesAmount(\"HCO3-\"))\n",
    "        x = 100 * 2 * mCO3 / (mHCO3 + 2 * mCO3)\n",
    "\n",
    "        data.loc[len(data)] = [T, log10pCO2, float(aprops.pH()),\n",
    "                               mCO3, mHCO3, x,\n",
    "                               float(props.elementAmountInPhase(\"P\", \"AqueousPhase\"))]"
   ]
  },
  {
   "cell_type": "markdown",
   "metadata": {},
   "source": [
    "The modeled pH of saturated phosphate brines depends on the temperature and the partial CO<sub>2</sub> pressures. At present-day pCO<sub>2</sub> levels (log<sub>10</sub>(pCO<sub>2</sub>) = −3.5), solutions are highly alkaline (pH approximate to 10), consistent with high pHs measured in modern soda lakes. However, in CO<sub>2</sub>-rich atmospheres on the early Earth (log<sub>10</sub>(pCO<sub>2</sub>) = −2 to 0), brines range from moderately alkaline (with pH = 9) to slightly acidic (pH = 6.5) because of acidification by CO<sub>2</sub> (see the plot below). Below, we plot pH levels with the [bokeh](https://bokeh.org/) plotting library. We note that those are the maximum values for the corresponding solution, as it is saturated with respect to carbonate minerals. For undersaturated solutions, the pH is always lower. We see that temperature also affects the pH levels, because CO<sub>2</sub> is more soluble in solutions at lower temperatures, making pH slightly higher."
   ]
  },
  {
   "cell_type": "code",
   "execution_count": null,
   "metadata": {
    "tags": [
     "hide_input"
    ]
   },
   "outputs": [],
   "source": [
    "from bokeh.plotting import figure, show, gridplot\n",
    "from bokeh.models import HoverTool\n",
    "from bokeh.io import output_notebook\n",
    "from bokeh.models import ColumnDataSource\n",
    "output_notebook()\n",
    "\n",
    "# ----------------------------------- #\n",
    "# Plot P amount\n",
    "# ----------------------------------- #\n",
    "hovertool1 = HoverTool()\n",
    "hovertool1.tooltips = [(\"pH\", \"@pH\"), \n",
    "                       (\"T\", \"@T °C\"),\n",
    "                       (\"ppCO2\", \"@ppCO2\")]\n",
    "\n",
    "p1 = figure(\n",
    "    title=\"DEPENDENCE PH ON TEMPERATURE\",\n",
    "    x_axis_label=r'PARTIAL PRESSURE CO2 [-]',\n",
    "    y_axis_label='PH [-]',\n",
    "    sizing_mode=\"scale_width\",\n",
    "    plot_height=300)\n",
    "\n",
    "p1.add_tools(hovertool1)\n",
    "\n",
    "colors = ['teal', 'darkred', 'indigo']\n",
    "for T, color in zip(temperatures, colors):\n",
    "    df_T = ColumnDataSource(data[data['T'] == T])\n",
    "    p1.line(\"ppCO2\", \"pH\", legend_label=f'{T} °C', line_width=2, line_cap=\"round\", line_color=color, source=df_T)\n",
    "\n",
    "p1.legend.location = 'top_right'\n",
    "\n",
    "# ----------------------------------- #\n",
    "# Plot Ca amount\n",
    "# ----------------------------------- #\n",
    "hovertool2 = HoverTool()\n",
    "hovertool2.tooltips = [(\"amount(P)\", \"@amount_P mol\"), \n",
    "                       (\"T\", \"@T °C\"),\n",
    "                      (\"ppCO2\", \"@ppCO2\")]\n",
    "\n",
    "p2 = figure(\n",
    "    title=\"DEPENDENCE PHOSPHATE AMOUNT ON TEMPERATURE\",\n",
    "    x_axis_label=r'PARTIAL PRESSURE CO2 [-]',\n",
    "    y_axis_label='AMOUNT OF P IN SOLUTION [MOL]',\n",
    "    sizing_mode=\"scale_width\",\n",
    "    plot_height=300)\n",
    "\n",
    "p2.add_tools(hovertool2)\n",
    "\n",
    "colors = ['teal', 'darkred', 'indigo']\n",
    "for T, color in zip(temperatures, colors):\n",
    "    df_T = ColumnDataSource(data[data['T'] == T])\n",
    "    p2.line(\"ppCO2\", \"amount_P\", legend_label=f'{T} °C', line_width=2, line_cap=\"round\", line_color=color, source=df_T)\n",
    "\n",
    "p2.legend.location = 'top_left'\n",
    "\n",
    "grid = gridplot([[p1], [p2]])\n",
    "\n",
    "show(grid)"
   ]
  },
  {
   "cell_type": "markdown",
   "metadata": {},
   "source": [
    "We see that the pH is neutral around a partial pressure of CO<sub>2</sub>  of 1 bar and becomes alkaline (pH ~ 9) at a partial pressure of CO<sub>2</sub> of 0.01 bar (ppCO2 = 2). The relatively high pCO<sub>2</sub> values acidify the solution, which suggests that increased phosphate concentrations could have occurred in CO<sub>2</sub>-rich atmospheres on the early Earth. We also plot the amount of phosphorus in the brine supporting this hypothesis. The second plot also indicates that the solubility of phosphates increases with growing temperature and pressure.\n",
    "\n",
    "The relative proportion of CO<sub>2</sub><sup>−3</sup> vs. HCO<sup>−3</sup> ions in saturated Na–HCO<sub>3</sub>–CO<sub>3</sub> brines and the pH of the solution is controlled by the pCO<sub>2</sub> according to our model. Below, we plot pH and pCO<sub>2</sub> as a function of the equivalent percentage of CO<sub>2</sub><sup>−3</sup> ions relative to the total carbonate alkalinity defined as $\\rm{x} = \\frac{2[\\rm{CO}_3^{-2}]}{[\\rm{HCO}_3^-] + 2[\\rm{CO}_3^{-2}]}$."
   ]
  },
  {
   "cell_type": "code",
   "execution_count": null,
   "metadata": {
    "tags": [
     "hide_input"
    ]
   },
   "outputs": [],
   "source": [
    "from bokeh.models import LinearAxis, Range1d, Legend\n",
    "\n",
    "df_T = data[data['T'] == 25.0]\n",
    "df_T_pH = df_T[\"pH\"]\n",
    "\n",
    "hovertool = HoverTool()\n",
    "hovertool.tooltips = [(\"pH\", \"@pH\"),\n",
    "                      (\"ppCO2\", \"@ppCO2\"),\n",
    "                      (\"x\", \"@x\")]\n",
    "\n",
    "p = figure(y_range=(df_T_pH.iloc[0]-0.1, df_T_pH.iloc[-1]+0.1),\n",
    "    title=\"PH AND PCO2 DEPENDENCE ON X\",\n",
    "    x_axis_label=r'x',\n",
    "    y_axis_label='PH [-]',\n",
    "    sizing_mode=\"scale_width\",\n",
    "    plot_height=300)\n",
    "\n",
    "p.add_tools(hovertool)\n",
    "\n",
    "r11 = p.line(\"x\", \"pH\", line_width=3, line_cap=\"round\", line_color=\"midnightblue\", source=df_T)\n",
    "r12 = p.circle(\"x\", \"pH\", size=6, fill_color=None, line_color=\"midnightblue\", source=df_T)\n",
    "\n",
    "p.extra_y_ranges = {\"foo\": Range1d(start=co2pressures[-1]-0.1, end=1.01*co2pressures[0]+0.1)}\n",
    "\n",
    "r21 = p.line(\"x\", \"ppCO2\", y_range_name=\"foo\", line_width=2, line_cap=\"round\", line_color=\"deeppink\", source=df_T)\n",
    "r22 = p.square(\"x\", \"ppCO2\", y_range_name=\"foo\", size=6, fill_color=None, line_color=\"deeppink\", source=df_T)\n",
    "\n",
    "legend = Legend(items=[\n",
    "    (\"pH\"  , [r11, r12]),\n",
    "    (\"ppCO2\", [r21, r22])\n",
    "], location=\"center\")\n",
    "\n",
    "p.add_layout(legend, 'right')\n",
    "p.add_layout(LinearAxis(y_range_name=\"foo\",axis_label=\"ppCO2 [-]\"), 'right')\n",
    "\n",
    "show(p)"
   ]
  },
  {
   "cell_type": "markdown",
   "metadata": {},
   "source": [
    "We see the increase of the brine alkalinity with respect to increate of x. At the same time, higher x corresponds to the lower CO<sub>2</sub> partial pressure."
   ]
  }
 ],
 "metadata": {
  "interpreter": {
   "hash": "e4e8b2f3ae27709963f14fd23a6560d362beea55eaec742263828e04d814e23c"
  },
  "kernelspec": {
   "display_name": "Python 3 (ipykernel)",
   "language": "python",
   "name": "python3"
  },
  "language_info": {
   "codemirror_mode": {
    "name": "ipython",
    "version": 3
   },
   "file_extension": ".py",
   "mimetype": "text/x-python",
   "name": "python",
   "nbconvert_exporter": "python",
   "pygments_lexer": "ipython3",
   "version": "3.9.7"
  }
 },
 "nbformat": 4,
 "nbformat_minor": 4
}
