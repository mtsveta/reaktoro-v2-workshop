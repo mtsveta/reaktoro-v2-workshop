{
 "cells": [
  {
   "cell_type": "code",
   "execution_count": null,
   "metadata": {
    "pycharm": {
     "name": "#%%\n"
    },
    "tags": []
   },
   "outputs": [],
   "source": [
    "# Import the Python package Numpy, so we can perform linear algebra calculations\n",
    "import numpy\n",
    "\n",
    "# Create a list of species name\n",
    "species = ['H2O(aq)', 'H+', 'OH-', 'CO3--', 'HCO3-', 'CO2(aq)', 'CO2(g)', 'H2O(g)']\n",
    "\n",
    "# Create a list of rows of the formula matrix A\n",
    "A = [[2,  1,  1,  0,  1,  0,  0,  2],\n",
    "     [1,  0,  1,  3,  3,  2,  2,  1],\n",
    "     [0,  0,  0,  1,  1,  1,  1,  0],\n",
    "     [0,  1, -1, -2, -1,  0,  0,  0]]\n",
    "\n",
    "# Create a list with the amounts of species (in moles)\n",
    "n = [55.4551, 1.23485e-4, 8.39739e-11, 4.93648e-11, 1.23484e-4, 0.032861, 1.96702, 0.0531732]\n",
    "\n",
    "# Transform Python lists A and n into Numpy arrays\n",
    "A = numpy.array(A)\n",
    "n = numpy.array(n)\n",
    "\n",
    "# Multiply matrix A and vector n to calculate the amounts of elements, b\n",
    "b = A.dot(n)\n",
    "\n",
    "# Create a list with the names of the elements\n",
    "elements = ['H', 'O', 'C', 'Z']\n",
    "\n",
    "# Create a list with the molar masses of H, O, C, Z\n",
    "molar_masses_elements = [1.0079, 15.9994, 12.0107, 0.0]\n",
    "\n",
    "# Loop over all elements, their amounts, and their molar masses\n",
    "for element, amount, molarmass in zip(elements, b, molar_masses_elements):\n",
    "    print(f'Element {element:2s} has {amount:4.4e} moles and {amount*molarmass:8.4f} grams')\n",
    "\n",
    "print(\"\") # Just to skip one line in the output\n",
    "\n",
    "# Alternative way of looping over all species using an index i\n",
    "for i in range(len(species)):\n",
    "    # Calculate the molar mass of current species\n",
    "    molar_mass = A[:, i].dot(molar_masses_elements)\n",
    "    # Calculate the mass of current species\n",
    "    mass = n[i] * molar_mass\n",
    "    print(f'Species {species[i]:7s} has {n[i]:4.4e} moles and {mass:8.4f} grams.')"
   ]
  }
 ],
 "metadata": {
  "kernelspec": {
   "display_name": "PyCharm (reaktoro-jupyter)",
   "language": "python",
   "name": "pycharm-e7a7431a"
  },
  "language_info": {
   "codemirror_mode": {
    "name": "ipython",
    "version": 3
   },
   "file_extension": ".py",
   "mimetype": "text/x-python",
   "name": "python",
   "nbconvert_exporter": "python",
   "pygments_lexer": "ipython3",
   "version": "3.9.10"
  }
 },
 "nbformat": 4,
 "nbformat_minor": 4
}
