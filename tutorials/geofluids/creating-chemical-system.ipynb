{
 "cells": [
  {
   "cell_type": "code",
   "execution_count": 1,
   "metadata": {
    "collapsed": true
   },
   "outputs": [
    {
     "name": "stdout",
     "output_type": "stream",
     "text": [
      "<reaktoro.reaktoro4py.ChemicalSystem object at 0x7f8af41ea7f0>\n"
     ]
    }
   ],
   "source": [
    "from reaktoro import *\n",
    "\n",
    "# Define the SUPCRT database\n",
    "db = SupcrtDatabase(\"supcrtbl\")\n",
    "\n",
    "# Define an aqueous solution with automatic species collection for selected elements\n",
    "solution = AqueousPhase(speciate(\"H O Na Cl Ca C\"))\n",
    "\n",
    "# Define gaseous phase\n",
    "gas = GaseousPhase(\"CO2(g)\")\n",
    "\n",
    "# Define mineral phase\n",
    "minerals = MineralPhases(\"Halite Calcite Dolomite Quartz\")\n",
    "\n",
    "# Create the chemical system\n",
    "system = ChemicalSystem(db, solution, gas, minerals)\n",
    "\n",
    "# Inspect species phases and species\n",
    "for phase in system.phases():\n",
    "    print(phase.name())\n",
    "    for species in phase.species():\n",
    "        print(\":: \" + species.name())"
   ]
  }
 ],
 "metadata": {
  "kernelspec": {
   "name": "pycharm-6dd1373a",
   "language": "python",
   "display_name": "PyCharm (reaktoro-v2-workshop)"
  },
  "language_info": {
   "codemirror_mode": {
    "name": "ipython",
    "version": 2
   },
   "file_extension": ".py",
   "mimetype": "text/x-python",
   "name": "python",
   "nbconvert_exporter": "python",
   "pygments_lexer": "ipython2",
   "version": "2.7.6"
  }
 },
 "nbformat": 4,
 "nbformat_minor": 0
}