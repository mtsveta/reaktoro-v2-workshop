{
 "cells": [
  {
   "cell_type": "code",
   "execution_count": null,
   "metadata": {
    "scrolled": true,
    "tags": []
   },
   "outputs": [],
   "source": [
    "from reaktoro import *\n",
    "\n",
    "# Define the SUPCRT database\n",
    "db = SupcrtDatabase(\"supcrtbl\")\n",
    "\n",
    "# Inspect species phases and species\n",
    "print(f\"Total number of species in the database {db.species().size()}\")\n",
    "for species in db.species():\n",
    "    print(\":: \" + species.name())"
   ]
  },
  {
   "cell_type": "code",
   "execution_count": null,
   "metadata": {},
   "outputs": [],
   "source": [
    "species_list = db.species().withElements(\"H O C Ca\")\n",
    "print(f\"{len(species_list)} fetched in total:\")\n",
    "for species in species_list:\n",
    "    print(species.name())"
   ]
  },
  {
   "cell_type": "code",
   "execution_count": null,
   "metadata": {},
   "outputs": [],
   "source": [
    "species_list = db.speciesWithAggregateState(AggregateState.Gas)\n",
    "print(f\"{len(species_list)} fetched in total:\")\n",
    "for species in species_list:\n",
    "    print(species.name())"
   ]
  },
  {
   "cell_type": "code",
   "execution_count": null,
   "metadata": {
    "tags": []
   },
   "outputs": [],
   "source": [
    "# Define an aqueous solution with automatic species collection for selected elements\n",
    "solution = AqueousPhase(speciate(\"H O Na Cl Ca C\"))\n",
    "#solution = AqueousPhase(speciate(\"H O Na Cl Ca C\"), exclude(\"organic\"))\n",
    "\n",
    "# Define gaseous phase\n",
    "#gas = GaseousPhase()\n",
    "#gas = GaseousPhase(\"CO2(g)\")\n",
    "gas = GaseousPhase(\"CO2(g) CO2(g) O2(g)\")\n",
    "# CO2(g) O2(g)\n",
    "\n",
    "# Define mineral phase\n",
    "#minerals = MineralPhases()\n",
    "minerals = MineralPhases(\"Halite Calcite Dolomite\")\n",
    "\n",
    "# Create the chemical system\n",
    "system = ChemicalSystem(db, solution, gas, minerals)\n",
    "\n",
    "# Inspect species phases and species\n",
    "print(f\"Total number of species is {system.species().size()}\")\n",
    "for phase in system.phases():\n",
    "    print(phase.name())\n",
    "    for species in phase.species():\n",
    "        print(\":: \" + species.name())"
   ]
  },
  {
   "cell_type": "code",
   "execution_count": null,
   "metadata": {},
   "outputs": [],
   "source": []
  }
 ],
 "metadata": {
  "kernelspec": {
   "display_name": "PyCharm (reaktoro-v2-workshop)",
   "language": "python",
   "name": "pycharm-6dd1373a"
  },
  "language_info": {
   "codemirror_mode": {
    "name": "ipython",
    "version": 3
   },
   "file_extension": ".py",
   "mimetype": "text/x-python",
   "name": "python",
   "nbconvert_exporter": "python",
   "pygments_lexer": "ipython3",
   "version": "3.9.7"
  }
 },
 "nbformat": 4,
 "nbformat_minor": 4
}