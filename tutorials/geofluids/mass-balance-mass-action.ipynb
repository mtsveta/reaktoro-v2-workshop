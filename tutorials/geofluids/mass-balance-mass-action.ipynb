{
 "cells": [
  {
   "cell_type": "markdown",
   "metadata": {},
   "source": [
    "# Mass balance and mass action equations and related chemical properties\n",
    "\n",
    "In this tutorial, we clarify how to access certain basic properties of the chemical system and chemical equilibrium state, such as mass balance and mass action equations.\n",
    "\n",
    "We start from defining H<sub>2</sub>O-CO<sub>2</sub> chemical system defined as a mixture of 100 mol of H<sub>2</sub>0 and 2 mols of CO2 at T = 100 &deg;C and P = 50 bar:"
   ]
  },
  {
   "cell_type": "code",
   "execution_count": null,
   "metadata": {
    "pycharm": {
     "is_executing": true
    }
   },
   "outputs": [],
   "source": [
    "from reaktoro import *\n",
    "import numpy as np\n",
    "\n",
    "# Define the thermodynamic database\n",
    "db =  SupcrtDatabase(\"supcrt98\")\n",
    "\n",
    "# Define the aqueous phase\n",
    "aqueousphase = AqueousPhase(speciate(\"H O C\"), exclude(\"organic\"))\n",
    "aqueousphase.setActivityModel(ActivityModelHKF())\n",
    "\n",
    "# Define the gaseous phase\n",
    "gaseousphase = GaseousPhase(\"H2O(g) CO2(g)\")\n",
    "\n",
    "# Define the chemical system:\n",
    "system = ChemicalSystem(db, aqueousphase, gaseousphase)\n",
    "\n",
    "T = 25\n",
    "P = 1.0\n",
    "\n",
    "# Define the chemical state\n",
    "state = ChemicalState(system)\n",
    "state.setTemperature(25, \"celsius\")\n",
    "state.setPressure(1.0, \"bar\")\n",
    "state.set(\"H2O(aq)\", 1.0, \"kg\")\n",
    "state.set(\"CO2(aq)\", 1.0, \"kg\")\n",
    "\n",
    "# Define equilibrium solver and solve equilibrium problem with initial chemical state\n",
    "solver = EquilibriumSolver(system)\n",
    "solver.solve(state)\n",
    "\n",
    "props = ChemicalProps(state)"
   ]
  },
  {
   "cell_type": "markdown",
   "metadata": {},
   "source": [
    "Fetch chemical species, chemical amounts, and formula matrix:"
   ]
  },
  {
   "cell_type": "code",
   "execution_count": null,
   "metadata": {},
   "outputs": [],
   "source": [
    "b = state.elementAmounts().asarray()\n",
    "Z = float(state.charge())\n",
    "n = state.speciesAmounts().asarray()\n",
    "A = system.formulaMatrix()\n",
    "\n",
    "print(\"b = \", np.transpose(b))\n",
    "print(\"Z = \", Z)\n",
    "print(\"n = \", np.transpose(n))\n",
    "print(\"A = \", A)"
   ]
  },
  {
   "cell_type": "markdown",
   "metadata": {},
   "source": [
    "To evaluate the satisfaction of the mass balance equation, we use linear algebra library of the **numpy** package:"
   ]
  },
  {
   "cell_type": "code",
   "execution_count": null,
   "metadata": {},
   "outputs": [],
   "source": [
    "# Compose a new vector including element amounts and a charge\n",
    "b_with_z = np.concatenate((b, [Z]), axis=None)\n",
    "\n",
    "# Calculate the residual of the mass balance equation\n",
    "r = b_with_z - np.dot(A, n)\n",
    "\n",
    "# Calculate the norm of the residual\n",
    "r_norm = np.linalg.norm(r)\n",
    "print(\"||r|| = \", r_norm)"
   ]
  },
  {
   "cell_type": "markdown",
   "metadata": {},
   "source": [
    "How much of the CO2(g) is dissolved as CO2(aq)?"
   ]
  },
  {
   "cell_type": "code",
   "execution_count": null,
   "metadata": {},
   "outputs": [],
   "source": [
    "print(f\"CO2(aq) amount is {float(state.speciesAmount('CO2(aq)')):6.4e} mol\")"
   ]
  },
  {
   "cell_type": "markdown",
   "metadata": {},
   "source": [
    "How much of the H2O(l) has evaporated as H2O(g)?"
   ]
  },
  {
   "cell_type": "code",
   "execution_count": null,
   "metadata": {},
   "outputs": [],
   "source": [
    "print(f\"H2O(g) amount is {float(state.speciesAmount('H2O(g)')):6.4e} mol\")"
   ]
  },
  {
   "cell_type": "markdown",
   "metadata": {},
   "source": [
    "What is the amount of H+ species?"
   ]
  },
  {
   "cell_type": "code",
   "execution_count": null,
   "metadata": {},
   "outputs": [],
   "source": [
    "print(f\"H+ amount is {float(state.speciesAmount('H+')):6.4e} mol\")"
   ]
  },
  {
   "cell_type": "markdown",
   "metadata": {},
   "source": [
    "A nicer output of the formula matrix (where one can control the spacing and format) can be achieved via the following for-loop:"
   ]
  },
  {
   "cell_type": "code",
   "execution_count": null,
   "metadata": {},
   "outputs": [],
   "source": [
    "rows, cols = A.shape\n",
    "for i in range(rows):\n",
    "    for j in range(cols):\n",
    "        print(f\"{A[i][j]:4.0f}\", end=\"\")\n",
    "    print(\"\\n\")"
   ]
  },
  {
   "cell_type": "markdown",
   "metadata": {},
   "source": [
    "Rank is the maximal number of linearly independent columns of A, and it is equal to the dimension of the vector space spanned by its rows."
   ]
  },
  {
   "cell_type": "code",
   "execution_count": null,
   "metadata": {},
   "outputs": [],
   "source": [
    "rank = np.linalg.matrix_rank(A)\n",
    "print(\"Rank of A is\", rank)"
   ]
  },
  {
   "cell_type": "markdown",
   "metadata": {},
   "source": [
    "To access the molar masses of the elements in the system and evaluate their mass:"
   ]
  },
  {
   "cell_type": "code",
   "execution_count": null,
   "metadata": {},
   "outputs": [],
   "source": [
    "# Collect elements names and molar masses\n",
    "element_names, molar_masses = zip(*[(element.name(), element.molarMass()) for element in system.elements()])\n",
    "print(\"\\nElement    : Molar mass (g/mol) : Mass (g)\")\n",
    "for name, molar_mass, amount in zip(element_names, molar_masses, b):\n",
    "    print(f\"{name:>10} : {molar_mass * 1e3:18.2e} : {molar_mass * 1e3 * amount:8.2e}\")"
   ]
  },
  {
   "cell_type": "markdown",
   "metadata": {},
   "source": [
    "To evaluate the mass of the species:"
   ]
  },
  {
   "cell_type": "code",
   "execution_count": null,
   "metadata": {},
   "outputs": [],
   "source": [
    "# Fetch species names\n",
    "species_names = [speices.name() for speices in system.species()]\n",
    "\n",
    "# Species counter\n",
    "i = 0\n",
    "print(\"\\n              Species  : Amount (mol) :   Mass (g)\")\n",
    "for name, amount in zip(species_names, n):\n",
    "    # Calculate species molar mass as the multiplication of the formula matrix column and element molar masses (in g)\n",
    "    species_molar_mass = np.dot(A[0:-1, i], molar_masses) * 1e3\n",
    "    # Calculate species mass\n",
    "    mass = amount * species_molar_mass\n",
    "\n",
    "    print(f\"{name:>22} : {amount:12.4f} : {mass:9.4f}\")\n",
    "\n",
    "    # Increase the species counter\n",
    "    i += 1"
   ]
  },
  {
   "cell_type": "markdown",
   "metadata": {},
   "source": [
    "Let us inspect other properties (i.e., chemical potentials, logarithms of activities) of the system:"
   ]
  },
  {
   "cell_type": "code",
   "execution_count": null,
   "metadata": {
    "pycharm": {
     "is_executing": true
    }
   },
   "outputs": [],
   "source": [
    "print(\"\\nChemical potentials of the species:\")\n",
    "for mu, species, index in zip(props.speciesChemicalPotentials().asarray(),\n",
    "                              system.species(),\n",
    "                              list(range(1, system.species().size()+1))):\n",
    "    print(f\"\\u03BC_{index} ({species.name():>22}) = {mu:12.4f} (J/mol)\")\n",
    "\n",
    "print(\"\\nLogarithms of activities of the species:\")\n",
    "for lna, species, index in zip(props.speciesActivitiesLn().asarray(),\n",
    "                              system.species(),\n",
    "                              list(range(1, system.species().size()+1))):\n",
    "    print(f\"ln(a_{index} ({species.name():>22}) = {lna:8.4f}\")"
   ]
  },
  {
   "cell_type": "markdown",
   "metadata": {},
   "source": [
    "To evaluate equilibrium constants for the reactions:"
   ]
  },
  {
   "cell_type": "code",
   "execution_count": null,
   "metadata": {},
   "outputs": [],
   "source": [
    "# Initialize reaction equations\n",
    "equations = [\"H2O(aq) = H+ + OH-\",\n",
    "             \"HCO3- + H+ = CO2(aq) + H2O(aq)\",\n",
    "             \"H2O(aq) + CO2(aq) = CO3-2 + 2*H+\",\n",
    "             \"CO2(aq) = CO2(g)\"]\n",
    "# Initialize reactions\n",
    "reactions = [db.reaction(equation) for equation in equations]\n",
    "\n",
    "# Initialize reactions properties\n",
    "rprops = [rxn.props(T, \"C\", P, \"bar\") for rxn in reactions]\n",
    "\n",
    "# Fetch equilibrium constants for each reaction\n",
    "lnKs = [rprop.lgK for rprop in rprops]\n",
    "print(\"\\nEquilibrium constants of reactions:\")\n",
    "for equation, lnK in zip(equations, lnKs):\n",
    "    print(f\"log10K ( {equation:>32} ) = {float(lnK):6.4f}\")"
   ]
  },
  {
   "cell_type": "markdown",
   "metadata": {},
   "source": [
    "To control whether these constants correspond to the definition via the standard chemical potential, let us consider the equation `H2O(l) = H+ + OH-`:"
   ]
  },
  {
   "cell_type": "code",
   "execution_count": null,
   "metadata": {
    "pycharm": {
     "name": "#%%\n"
    }
   },
   "outputs": [],
   "source": [
    "# Standard chemical potentials\n",
    "mu0_H = db.species().get(\"H+\").props(T, \"C\", P, \"bar\").G0\n",
    "mu0_H2O = db.species().get(\"H2O(aq)\").props(T, \"C\", P, \"bar\").G0\n",
    "mu0_OH = db.species().get(\"OH-\").props(T, \"C\", P, \"bar\").G0\n",
    "\n",
    "R = 8.314 # J / (mol * K)\n",
    "TKelvin = T + 273.15\n",
    "lnK = - 1 / R / TKelvin * (mu0_OH + mu0_H - mu0_H2O)\n",
    "\n",
    "from math import *\n",
    "print(\"\\nEquilibrium constants via standard chemical potentials:\")\n",
    "print(\"lnK    ( H2O(aq) = H+ + OH- ) = \", lnK)\n",
    "print(\"log10K ( H2O(aq) = H+ + OH- ) = \", lnK * log10(e))"
   ]
  },
  {
   "cell_type": "markdown",
   "metadata": {
    "pycharm": {
     "name": "#%% md\n"
    }
   },
   "source": [
    "We see that the log10(K) fetched from the reaction's properties and the log10K calculated via standard chemical potential are almost the same."
   ]
  }
 ],
 "metadata": {
  "kernelspec": {
   "display_name": "PyCharm (reaktoro-v2-workshop)",
   "language": "python",
   "name": "pycharm-6dd1373a"
  },
  "language_info": {
   "codemirror_mode": {
    "name": "ipython",
    "version": 3
   },
   "file_extension": ".py",
   "mimetype": "text/x-python",
   "name": "python",
   "nbconvert_exporter": "python",
   "pygments_lexer": "ipython3",
   "version": "3.9.7"
  }
 },
 "nbformat": 4,
 "nbformat_minor": 4
}