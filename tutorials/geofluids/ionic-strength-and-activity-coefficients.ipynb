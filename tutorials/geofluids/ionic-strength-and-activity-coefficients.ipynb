{
 "cells": [
  {
   "cell_type": "markdown",
   "metadata": {},
   "source": [
    "# Calculation of ionic strength and activity coefficients of aqueous species\n",
    "\n",
    "In this tutorial, we explain how to access the ionic strength of the equilibrium state as well as clarify how it can be calculated manually by accessing specific properties of the chemical state. We also calculate the activity coefficients of aqueous species and solvent water.\n",
    "\n",
    "First, we import all the required python packages:"
   ]
  },
  {
   "cell_type": "code",
   "execution_count": 1,
   "metadata": {},
   "outputs": [],
   "source": [
    "from reaktoro import *\n",
    "import numpy as np\n",
    "from math import *"
   ]
  },
  {
   "cell_type": "markdown",
   "metadata": {},
   "source": [
    "Define database, initialize phases with chemical editor, and create chemical system:"
   ]
  },
  {
   "cell_type": "code",
   "execution_count": 2,
   "metadata": {},
   "outputs": [],
   "source": [
    "# Define the thermodynamic database\n",
    "db =  SupcrtDatabase(\"supcrt98\")\n",
    "\n",
    "# Define the aqueous phase\n",
    "aqueousphase = AqueousPhase(speciate(\"H O C Na Cl Ca\"), exclude(\"organic\"))\n",
    "aqueousphase.setActivityModel(ActivityModelDebyeHuckel())\n",
    "\n",
    "# Define the gaseous phase\n",
    "gaseousphase = GaseousPhase(\"H2O(g)\")\n",
    "\n",
    "# Define the chemical system\n",
    "system = ChemicalSystem(db, aqueousphase, gaseousphase)\n",
    "\n",
    "# Define the chemical prperties\n",
    "properties = ChemicalProps(system)"
   ]
  },
  {
   "cell_type": "markdown",
   "metadata": {},
   "source": [
    "Set thermodynamic conditions:"
   ]
  },
  {
   "cell_type": "code",
   "execution_count": 3,
   "metadata": {},
   "outputs": [],
   "source": [
    "T = 25 # in celsius\n",
    "P = 1 # in bar"
   ]
  },
  {
   "cell_type": "markdown",
   "metadata": {},
   "source": [
    "First problem simulates mixing sodium chlorite with water:"
   ]
  },
  {
   "cell_type": "code",
   "execution_count": 4,
   "metadata": {},
   "outputs": [],
   "source": [
    "state1 = ChemicalState(system)\n",
    "state1.temperature(T, \"celsius\")\n",
    "state1.pressure(P, \"bar\")\n",
    "state1.add(\"H2O(aq)\", 1.0, \"kg\")\n",
    "state1.add(\"NaCl(aq)\", 1.0, \"mol\")"
   ]
  },
  {
   "cell_type": "markdown",
   "metadata": {},
   "source": [
    "The second one demonstrates experiment of mixing water with CaCl<sub>2</sub>:"
   ]
  },
  {
   "cell_type": "code",
   "execution_count": 5,
   "metadata": {},
   "outputs": [],
   "source": [
    "state2 = ChemicalState(system)\n",
    "state2.temperature(T, \"celsius\")\n",
    "state2.pressure(P, \"bar\")\n",
    "state2.add(\"H2O(aq)\", 1.0, \"kg\")\n",
    "state2.add(\"CaCl2(aq)\", 1, \"mol\")"
   ]
  },
  {
   "cell_type": "markdown",
   "metadata": {},
   "source": [
    "Equilibration of the water mixed 1 mol of sodium chlorite and water mixed with 1 mol of CaCl<sub>2</sub> results into the following two states:"
   ]
  },
  {
   "cell_type": "code",
   "execution_count": 6,
   "metadata": {},
   "outputs": [],
   "source": [
    "res1 = equilibrate(state1)\n",
    "res2 = equilibrate(state2)"
   ]
  },
  {
   "cell_type": "markdown",
   "metadata": {},
   "source": [
    "To evaluate the ionic strength, we need to define a corresponding function `ionic_strength()`"
   ]
  },
  {
   "cell_type": "code",
   "execution_count": 7,
   "metadata": {},
   "outputs": [
    {
     "name": "stdout",
     "output_type": "stream",
     "text": [
      "Ionic strength of state1 is 0.947121 molal\n",
      "Ionic strength of state2 is 2.094351 molal\n"
     ]
    }
   ],
   "source": [
    "aprops1 = AqueousProps(state1)\n",
    "aprops2 = AqueousProps(state2)\n",
    "\n",
    "I1 = float(aprops1.ionicStrength())\n",
    "I2 = float(aprops2.ionicStrength())\n",
    "\n",
    "print(f\"Ionic strength of state1 is {I1:f} molal\")\n",
    "print(f\"Ionic strength of state2 is {I2:f} molal\")"
   ]
  },
  {
   "cell_type": "markdown",
   "metadata": {},
   "source": [
    "We see that the ionic strength of the second mix is higher, which can be explained by the fact that CaCl<sub>2</sub> contains two ions of Cl<sup>-</sup>.\n",
    "\n",
    "## Calculating the ionic strength\n",
    "\n",
    "Below, we explain, which information one needs to fetch from chemical state to be able to calculate ionic strength. First, let us fix the molality of 1 kg of solvent water (where 18.0154 * 1e-3 kg/mol is a molar mass of water):"
   ]
  },
  {
   "cell_type": "code",
   "execution_count": 8,
   "metadata": {},
   "outputs": [
    {
     "name": "stdout",
     "output_type": "stream",
     "text": [
      "mw_h2o = 55.508065 molal\n"
     ]
    }
   ],
   "source": [
    "mw_h2o = 1 / 18.0154 / 1e-3\n",
    "print(f\"mw_h2o = {mw_h2o:f} molal\")"
   ]
  },
  {
   "cell_type": "markdown",
   "metadata": {},
   "source": [
    "Next we collect the list of species and their amounts in the chemical system:"
   ]
  },
  {
   "cell_type": "code",
   "execution_count": 9,
   "metadata": {},
   "outputs": [],
   "source": [
    "species = system.species()\n",
    "n2 = state2.speciesAmounts().asarray()"
   ]
  },
  {
   "cell_type": "markdown",
   "metadata": {},
   "source": [
    "Since out of two phases (aqueous and gaseous) we need to consider only species from the aqueous phase, we fetch indices of the aqueous species."
   ]
  },
  {
   "cell_type": "code",
   "execution_count": 10,
   "metadata": {
    "collapsed": false,
    "jupyter": {
     "outputs_hidden": false
    },
    "pycharm": {
     "name": "#%%\n"
    }
   },
   "outputs": [
    {
     "name": "stdout",
     "output_type": "stream",
     "text": [
      "Indices of aq. species: [0, 1, 2, 3, 4, 5, 6, 7, 8, 9, 10, 11, 12, 13, 14, 15, 16, 17, 18, 19, 20, 21, 22, 23, 24, 25, 26, 27, 28, 29, 30, 31, 32]\n",
      "Indices of gas. species: [33]\n",
      "Indices of all species: [0, 1, 2, 3, 4, 5, 6, 7, 8, 9, 10, 11, 12, 13, 14, 15, 16, 17, 18, 19, 20, 21, 22, 23, 24, 25, 26, 27, 28, 29, 30, 31, 32, 33]\n"
     ]
    }
   ],
   "source": [
    "phases = system.phases()\n",
    "species = system.species()\n",
    "\n",
    "aq_species = phases.get(\"AqueousPhase\").species()\n",
    "gas_species = phases.get(\"GaseousPhase\").species()\n",
    "\n",
    "indx_aqueous_species = [species.findWithName(s.name()) for s in aq_species]\n",
    "indx_gas_species = [species.findWithName(s.name()) for s in gas_species]\n",
    "indx_all_species = indx_aqueous_species + indx_gas_species\n",
    "\n",
    "print(f\"Indices of aq. species:\", indx_aqueous_species)\n",
    "print(f\"Indices of gas. species:\", indx_gas_species)\n",
    "print(f\"Indices of all species:\", indx_all_species)"
   ]
  },
  {
   "cell_type": "markdown",
   "metadata": {},
   "source": [
    "We see that the difference between these two lists is only in the last index.\n",
    "\n",
    "Next, out the list `species` (with all species), we collect lists of only aqueous species, their amounts, names, and corresponding charges:"
   ]
  },
  {
   "cell_type": "code",
   "execution_count": 11,
   "metadata": {},
   "outputs": [],
   "source": [
    "species_aq = [species[i] for i in indx_aqueous_species]\n",
    "n2_aq = [n2[i] for i in indx_aqueous_species]\n",
    "names_aq = [species.name() for species in species_aq]\n",
    "charge_aq = [float(species.charge()) for species in species_aq]"
   ]
  },
  {
   "cell_type": "markdown",
   "metadata": {},
   "source": [
    "Amount of the water is obtained by:"
   ]
  },
  {
   "cell_type": "code",
   "execution_count": 12,
   "metadata": {},
   "outputs": [],
   "source": [
    "n_h2o = float(state2.speciesAmount(\"H2O(aq)\"))"
   ]
  },
  {
   "cell_type": "markdown",
   "metadata": {},
   "source": [
    "Next, we calculate the molalities of aqueous species and print their names, charges, and molalities:"
   ]
  },
  {
   "cell_type": "code",
   "execution_count": 13,
   "metadata": {},
   "outputs": [
    {
     "name": "stdout",
     "output_type": "stream",
     "text": [
      "Species               : charge, molalities\n",
      "H2O(aq)               :      0, 5.55e+01 molal\n",
      "2-Hydroxynonanoate-   :     -1, 1.00e-16 molal\n",
      "2-Hydroxynonanoic(aq) :      0, 1.00e-16 molal\n",
      "CaOH+                 :      1, 2.51e-07 molal\n",
      "CO(aq)                :      0, 1.00e-16 molal\n",
      "CO2(aq)               :      0, 1.00e-16 molal\n",
      "CO3-2                 :     -2, 1.00e-16 molal\n",
      "Ca(HCO3)+             :      1, 1.00e-16 molal\n",
      "Ca+2                  :      2, 5.56e-01 molal\n",
      "CaCl+                 :      1, 4.25e-01 molal\n",
      "CaCl2(aq)             :      0, 1.84e-02 molal\n",
      "Cl-                   :     -1, 1.54e+00 molal\n",
      "HClO(aq)              :      0, 1.00e-16 molal\n",
      "ClO-                  :     -1, 1.00e-16 molal\n",
      "ClO2-                 :     -1, 1.00e-16 molal\n",
      "ClO3-                 :     -1, 1.00e-16 molal\n",
      "ClO4-                 :     -1, 1.00e-16 molal\n",
      "H+                    :      1, 2.66e-07 molal\n",
      "H2(aq)                :      0, 1.00e-16 molal\n",
      "HCO3-                 :     -1, 1.00e-16 molal\n",
      "HO2-                  :     -1, 1.00e-16 molal\n",
      "Nonanoate-            :     -1, 1.00e-16 molal\n",
      "Nonanoic-Acid(aq)     :      0, 1.00e-16 molal\n",
      "Na+                   :      1, 1.00e-16 molal\n",
      "NaCl(aq)              :      0, 1.00e-16 molal\n",
      "NaOH(aq)              :      0, 1.00e-16 molal\n",
      "O2(aq)                :      0, 1.00e-16 molal\n",
      "OH-                   :     -1, 3.52e-08 molal\n",
      "Nonanal(aq)           :      0, 1.00e-16 molal\n",
      "H2O2(aq)              :      0, 1.00e-16 molal\n",
      "HClO2(aq)             :      0, 1.00e-16 molal\n",
      "HCl(aq)               :      0, 2.04e-08 molal\n",
      "CaCO3(aq)             :      0, 1.00e-16 molal\n"
     ]
    }
   ],
   "source": [
    "m_aq = mw_h2o * np.divide(n2_aq, n_h2o)\n",
    "print(f\"Species               : charge, molalities\")\n",
    "for name, Z, m in zip(names_aq, charge_aq, m_aq):\n",
    "    print(f\"{name:21s} : {Z:6.0f}, {m:6.2e} molal\")"
   ]
  },
  {
   "cell_type": "markdown",
   "metadata": {},
   "source": [
    "The ionic strength can be calculated by:"
   ]
  },
  {
   "cell_type": "code",
   "execution_count": 14,
   "metadata": {},
   "outputs": [
    {
     "name": "stdout",
     "output_type": "stream",
     "text": [
      "Ionic strength of state2 is 2.094336 molal (calculated manually)\n"
     ]
    }
   ],
   "source": [
    "I2 = 1/2 * sum([m * Z**2 for m, Z in zip(m_aq, charge_aq)])\n",
    "print(f\"Ionic strength of state2 is {I2:f} molal (calculated manually)\")"
   ]
  },
  {
   "cell_type": "markdown",
   "metadata": {},
   "source": [
    "## Calculating the activity coefficients for aqueous ionic species (Davis model)\n",
    "\n",
    "Calculating and outputting the activity coefficients for aqueous ionic species is done by:"
   ]
  },
  {
   "cell_type": "code",
   "execution_count": 15,
   "metadata": {},
   "outputs": [
    {
     "name": "stdout",
     "output_type": "stream",
     "text": [
      "              Species : Activity coefficients\n",
      "              H2O(aq) : 1.0000\n",
      "  2-Hydroxynonanoate- : 1.0443\n",
      "2-Hydroxynonanoic(aq) : 1.0000\n",
      "                CaOH+ : 1.0443\n",
      "               CO(aq) : 1.0000\n",
      "              CO2(aq) : 1.0000\n",
      "                CO3-2 : 1.1892\n",
      "            Ca(HCO3)+ : 1.0443\n",
      "                 Ca+2 : 1.1892\n",
      "                CaCl+ : 1.0443\n",
      "            CaCl2(aq) : 1.0000\n",
      "                  Cl- : 1.0443\n",
      "             HClO(aq) : 1.0000\n",
      "                 ClO- : 1.0443\n",
      "                ClO2- : 1.0443\n",
      "                ClO3- : 1.0443\n",
      "                ClO4- : 1.0443\n",
      "                   H+ : 1.0443\n",
      "               H2(aq) : 1.0000\n",
      "                HCO3- : 1.0443\n",
      "                 HO2- : 1.0443\n",
      "           Nonanoate- : 1.0443\n",
      "    Nonanoic-Acid(aq) : 1.0000\n",
      "                  Na+ : 1.0443\n",
      "             NaCl(aq) : 1.0000\n",
      "             NaOH(aq) : 1.0000\n",
      "               O2(aq) : 1.0000\n",
      "                  OH- : 1.0443\n",
      "          Nonanal(aq) : 1.0000\n",
      "             H2O2(aq) : 1.0000\n",
      "            HClO2(aq) : 1.0000\n",
      "              HCl(aq) : 1.0000\n",
      "            CaCO3(aq) : 1.0000\n"
     ]
    }
   ],
   "source": [
    "A_gamma = 0.5095\n",
    "gammas = [10**(-A_gamma * z**2 * (sqrt(I2) / (1 + sqrt(I2)) - 0.3 * I2)) for z in charge_aq]\n",
    "print(f\"              Species : Activity coefficients\")\n",
    "for name, gamma in zip(names_aq, gammas):\n",
    "    print(f\"{name:>21} : {gamma:2.4f}\")"
   ]
  },
  {
   "cell_type": "markdown",
   "metadata": {},
   "source": [
    "We see that many of the activity coefficients are away from $\\gamma_i$ = 1 (which corresponds to an ideal solution).\n",
    "\n",
    "## Calculating activity of the water solvent\n",
    "\n",
    "To calculate the activity of the water solvent, we need fractions of the species, which are stored in the class [ChemicalProperties](https://reaktoro.org/cpp/classReaktoro_1_1ChemicalProperties.html) accessed from chemical state by the method `properties()`."
   ]
  },
  {
   "cell_type": "code",
   "execution_count": 16,
   "metadata": {},
   "outputs": [],
   "source": [
    "properties.update(state2)\n",
    "fractions = properties.speciesMoleFractions().asarray()"
   ]
  },
  {
   "cell_type": "markdown",
   "metadata": {},
   "source": [
    "Let us output only those species that have fractions bigger than machine precision (fetched from the field `epsilon` of a class [EquilibriumOptions](https://reaktoro.org/api/struct_reaktoro_1_1_equilibrium_options.html), a default lower bound for the amounts of the species):"
   ]
  },
  {
   "cell_type": "code",
   "execution_count": 17,
   "metadata": {},
   "outputs": [
    {
     "name": "stdout",
     "output_type": "stream",
     "text": [
      "   Species : Mole fractions\n",
      "   H2O(aq) : 9.5628e-01\n",
      "     CaOH+ : 4.3239e-09\n",
      "      Ca+2 : 9.5846e-03\n",
      "     CaCl+ : 7.3268e-03\n",
      " CaCl2(aq) : 3.1621e-04\n",
      "       Cl- : 2.6496e-02\n",
      "        H+ : 4.5788e-09\n",
      "       OH- : 6.0640e-10\n",
      "   HCl(aq) : 3.5150e-10\n"
     ]
    }
   ],
   "source": [
    "machine_precision = EquilibriumOptions().epsilon\n",
    "print(f\"   Species : Mole fractions\")\n",
    "for name, x in zip(names_aq, fractions):\n",
    "    if x > machine_precision:\n",
    "        print(f\"{name:>10} : {x:6.4e}\")"
   ]
  },
  {
   "cell_type": "markdown",
   "metadata": {},
   "source": [
    "We see that solvent water possesses the biggest fraction as well as CaCl<sub>2</sub>(aq) and ions Ca<sup>2+</sup>, CaCl<sup>+</sup>, and Cl<sup>-</sup> (caused by addition of CaCl<sub>2</sub> to the water). The fraction of solvent water can be accessed via index of this species:"
   ]
  },
  {
   "cell_type": "code",
   "execution_count": 18,
   "metadata": {},
   "outputs": [
    {
     "name": "stdout",
     "output_type": "stream",
     "text": [
      "Index of the water solvent is 0\n",
      "Fraction of the water solvent is 0.9563\n"
     ]
    }
   ],
   "source": [
    "indx_h2o = species.findWithName(\"H2O(aq)\")\n",
    "x_h2o = fractions[indx_h2o]\n",
    "print(f\"Index of the water solvent is {indx_h2o}\")\n",
    "print(f\"Fraction of the water solvent is {x_h2o:6.4f}\")"
   ]
  },
  {
   "cell_type": "markdown",
   "metadata": {},
   "source": [
    "Finally, we calculate activity coefficient of solvent water by:"
   ]
  },
  {
   "cell_type": "code",
   "execution_count": 19,
   "metadata": {},
   "outputs": [
    {
     "name": "stdout",
     "output_type": "stream",
     "text": [
      "Activity coefficient of water solvent (Davis model) is 0.9389\n",
      "Activity coefficient of water solvent (ideal model) is 0.9553\n"
     ]
    }
   ],
   "source": [
    "ln10 = np.log(10.0)\n",
    "sqrtI2 = np.sqrt(I2)\n",
    "gamma_h2o_davis = exp(ln10/55.5084*A_gamma*(2*(I2 + 2*sqrtI2)/(1 + sqrtI2) - 4 * np.log(1 + sqrtI2) - 0.3 * I2**2)\n",
    "                      - (1 - x_h2o)/x_h2o)\n",
    "gamma_h2o_ideal = exp(- (1 - x_h2o)/x_h2o)\n",
    "print(f\"Activity coefficient of water solvent (Davis model) is {gamma_h2o_davis:6.4f}\")\n",
    "print(f\"Activity coefficient of water solvent (ideal model) is {gamma_h2o_ideal:6.4f}\")"
   ]
  },
  {
   "cell_type": "markdown",
   "metadata": {},
   "source": [
    "## Demonstration of Coulomb’s law\n",
    "\n",
    "According to Coulomb’s law, the activity coefficient decreases as the concentration increases because the electrostatic forces become stronger as the ions approach. Thus, for more concentrated solutions, the repulsion effect seems to dominate. Let us demonstrate how it can be seen in Reaktoro simulations. First, we access the activity coefficients of the `state2` via its properties obtained earlier:"
   ]
  },
  {
   "cell_type": "code",
   "execution_count": 20,
   "metadata": {},
   "outputs": [],
   "source": [
    "gamma_1_mol = [np.exp(float(properties.speciesActivityCoefficientLn(i))) for i in indx_all_species]"
   ]
  },
  {
   "cell_type": "markdown",
   "metadata": {},
   "source": []
  },
  {
   "cell_type": "code",
   "execution_count": 21,
   "metadata": {},
   "outputs": [],
   "source": [
    "state2.add(\"CaCl2(aq)\", 2, \"mol\")\n",
    "res2 = equilibrate(state2)\n",
    "properties.update(state2)\n",
    "gamma_2_mol = [np.exp(float(properties.speciesActivityCoefficientLn(i))) for i in indx_all_species]"
   ]
  },
  {
   "cell_type": "code",
   "execution_count": 22,
   "metadata": {
    "pycharm": {
     "name": "#%%\n"
    }
   },
   "outputs": [
    {
     "name": "stdout",
     "output_type": "stream",
     "text": [
      "Species with decreased activity coeffs. after adding more CaCl2 to the water:\n",
      "H2O(aq)               : 3.6824e-01 -> 9.0789e-02\n",
      "2-Hydroxynonanoate-   : 1.7794e-01 -> 9.3451e-02\n",
      "2-Hydroxynonanoic(aq) : 1.6404e+00 -> 2.5423e+00\n",
      "CaOH+                 : 1.7794e-01 -> 9.3451e-02\n",
      "CO(aq)                : 1.6404e+00 -> 2.5423e+00\n",
      "CO2(aq)               : 1.6404e+00 -> 2.5423e+00\n",
      "CO3-2                 : 1.4711e-01 -> 1.2582e-01\n",
      "Ca(HCO3)+             : 6.4176e-01 -> 6.2075e-01\n",
      "Ca+2                  : 2.9870e-01 -> 5.1651e-01\n",
      "CaCl+                 : 1.7794e-01 -> 9.3451e-02\n",
      "CaCl2(aq)             : 1.6404e+00 -> 2.5423e+00\n",
      "Cl-                   : 5.8061e-01 -> 5.8390e-01\n",
      "HClO(aq)              : 1.6404e+00 -> 2.5423e+00\n",
      "ClO-                  : 1.7794e-01 -> 9.3451e-02\n",
      "ClO2-                 : 1.7794e-01 -> 9.3451e-02\n",
      "ClO3-                 : 1.7794e-01 -> 9.3451e-02\n",
      "ClO4-                 : 1.7794e-01 -> 9.3451e-02\n",
      "H+                    : 7.2369e-01 -> 7.1125e-01\n",
      "H2(aq)                : 1.6404e+00 -> 2.5423e+00\n",
      "HCO3-                 : 6.1932e-01 -> 5.9558e-01\n",
      "HO2-                  : 1.7794e-01 -> 9.3451e-02\n",
      "Nonanoate-            : 1.7794e-01 -> 9.3451e-02\n",
      "Nonanoic-Acid(aq)     : 1.6404e+00 -> 2.5423e+00\n",
      "Na+                   : 8.3856e-01 -> 1.1326e+00\n",
      "NaCl(aq)              : 1.6404e+00 -> 2.5423e+00\n",
      "NaOH(aq)              : 1.6404e+00 -> 2.5423e+00\n",
      "O2(aq)                : 1.6404e+00 -> 2.5423e+00\n",
      "OH-                   : 5.2600e-01 -> 4.8933e-01\n",
      "Nonanal(aq)           : 1.6404e+00 -> 2.5423e+00\n",
      "H2O2(aq)              : 1.6404e+00 -> 2.5423e+00\n",
      "HClO2(aq)             : 1.6404e+00 -> 2.5423e+00\n",
      "HCl(aq)               : 1.6404e+00 -> 2.5423e+00\n",
      "CaCO3(aq)             : 1.6404e+00 -> 2.5423e+00\n"
     ]
    }
   ],
   "source": [
    "print(f\"Species with decreased activity coeffs. after adding more CaCl2 to the water:\")\n",
    "for name, gamma1, gamma2 in zip(names_aq, gamma_1_mol, gamma_2_mol):\n",
    "    if gamma_1_mol > gamma_2_mol:\n",
    "        print(f\"{name:21s} : {gamma1:6.4e} -> {gamma2:6.4e}\")"
   ]
  }
 ],
 "metadata": {
  "kernelspec": {
   "display_name": "Python 3 (ipykernel)",
   "language": "python",
   "name": "python3"
  },
  "language_info": {
   "codemirror_mode": {
    "name": "ipython",
    "version": 3
   },
   "file_extension": ".py",
   "mimetype": "text/x-python",
   "name": "python",
   "nbconvert_exporter": "python",
   "pygments_lexer": "ipython3",
   "version": "3.9.7"
  }
 },
 "nbformat": 4,
 "nbformat_minor": 4
}