{
 "cells": [
  {
   "cell_type": "code",
   "execution_count": 1,
   "metadata": {
    "collapsed": true,
    "pycharm": {
     "name": "#%%\n"
    }
   },
   "outputs": [
    {
     "name": "stdout",
     "output_type": "stream",
     "text": [
      "Ionic strength of solution is 0.921001 molal.\n",
      "Molality of H2O(aq)  is 5.5508e+01 molal.\n",
      "Molality of H+       is 1.2360e-04 molal.\n",
      "Molality of OH-      is 8.4054e-11 molal.\n",
      "Molality of Na+      is 9.2088e-01 molal.\n",
      "Molality of Cl-      is 9.2088e-01 molal.\n",
      "Molality of CO3--    is 4.9412e-11 molal.\n",
      "Molality of HCO3-    is 1.2360e-04 molal.\n",
      "Molality of CO2(aq)  is 3.2892e-02 molal.\n"
     ]
    }
   ],
   "source": [
    "import numpy\n",
    "\n",
    "# Create a list with names of aqueous species of interest\n",
    "aqueous_species = ['H2O(aq)', 'H+', 'OH-', 'Na+', 'Cl-', 'CO3--', 'HCO3-', 'CO2(aq)']\n",
    "\n",
    "# The index of species H2O(aq) used in the calculation of molalities\n",
    "iH2O = 0\n",
    "\n",
    "# Create a list with the electrical charges of each species\n",
    "Z = [0,  1, -1, 1, -1, -2, -1,  0]\n",
    "\n",
    "# Create a list with the amounts (in moles) of each species\n",
    "n = [55.4551, 1.23485e-4, 8.39739e-11, 0.92, 0.92, 4.93648e-11, 1.23484e-4, 0.032861]\n",
    "\n",
    "# Transform the list n into a Numpy array for numerical calculations\n",
    "n = numpy.array(n)\n",
    "\n",
    "# Calculate the molalities of all species\n",
    "m = 55.508 * n / n[iH2O] #  = n / (18.01528 * 1e-3 * n[iH2O])\n",
    "\n",
    "# Calculate the ionic strength of the aqueous solution\n",
    "I = 0.5 * sum(m * Z * Z)\n",
    "\n",
    "# Print the calculated ionic strength\n",
    "print('Ionic strength of solution is %f molal.' % I)\n",
    "\n",
    "# Print the calculated molality of each species\n",
    "for i in range(len(aqueous_species)):\n",
    "    print(f'Molality of {aqueous_species[i]:8s} is {m[i]:4.4e} molal.')"
   ]
  }
 ],
 "metadata": {
  "kernelspec": {
   "name": "pycharm-6dd1373a",
   "language": "python",
   "display_name": "PyCharm (reaktoro-v2-workshop)"
  },
  "language_info": {
   "codemirror_mode": {
    "name": "ipython",
    "version": 2
   },
   "file_extension": ".py",
   "mimetype": "text/x-python",
   "name": "python",
   "nbconvert_exporter": "python",
   "pygments_lexer": "ipython2",
   "version": "2.7.6"
  }
 },
 "nbformat": 4,
 "nbformat_minor": 0
}