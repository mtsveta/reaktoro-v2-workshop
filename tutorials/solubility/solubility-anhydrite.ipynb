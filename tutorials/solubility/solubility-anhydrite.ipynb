{
 "cells": [
  {
   "cell_type": "markdown",
   "metadata": {},
   "source": [
    "# Gypsum/anhydrite solubility in water\n",
    "\n",
    "In this tutorial, we investigate the dependence of the sulfate mineral anhydrite (CaSO<sub>4</sub>) solubility in water for different temperatures and pressures.\n",
    "\n",
    "> **Note**: In the databases available in Reaktoro, CaSO<sub>4</sub> is always referred to as anhydrite. When exposed to water, anhydrite transforms by the absorption of water to the more commonly known/occurring form gypsum (CaSO<sub>4</sub> · 2H<sub>2</sub>O).\n",
    "\n",
    "First, we import necessary packages for the presented simulations:"
   ]
  },
  {
   "cell_type": "code",
   "execution_count": null,
   "metadata": {
    "lines_to_next_cell": 1
   },
   "outputs": [],
   "source": [
    "from reaktoro import *\n",
    "import numpy as np\n",
    "import math as math"
   ]
  },
  {
   "cell_type": "markdown",
   "metadata": {},
   "source": [
    "First, we initialize the chemical system with aqueous, gaseous, and anhydrite phases:"
   ]
  },
  {
   "cell_type": "code",
   "execution_count": null,
   "metadata": {
    "collapsed": false,
    "jupyter": {
     "outputs_hidden": false
    },
    "pycharm": {
     "name": "#%%\n"
    }
   },
   "outputs": [],
   "source": [
    "# Define the thermodynamic database\n",
    "db =  SupcrtDatabase(\"supcrt98\")\n",
    "\n",
    "# Define the aqueous phase\n",
    "aqueousphase = AqueousPhase(speciate(\"H O Ca S\"), exclude(\"organic\"))\n",
    "aqueousphase.setActivityModel(ActivityModelHKF())\n",
    "\n",
    "# Define the gaseous phase\n",
    "minerals = MineralPhases(\"Anhydrite\")\n",
    "\n",
    "# Define the chemical system\n",
    "system = ChemicalSystem(db, aqueousphase, minerals)\n",
    "\n",
    "# Define the chemical properties\n",
    "props = ChemicalProps(system)\n",
    "aprops = AqueousProps(system)\n",
    "\n",
    "# Defined the equilibrium solver\n",
    "solver = EquilibriumSolver(system)"
   ]
  },
  {
   "cell_type": "markdown",
   "metadata": {
    "pycharm": {
     "name": "#%% md\n"
    }
   },
   "source": [
    "The anhydrite chemical reaction is defined based on the reaction equation and chemical system:"
   ]
  },
  {
   "cell_type": "code",
   "execution_count": null,
   "metadata": {
    "collapsed": false,
    "jupyter": {
     "outputs_hidden": false
    },
    "pycharm": {
     "name": "#%%\n"
    }
   },
   "outputs": [],
   "source": [
    "reaction = db.reaction(\"Anhydrite = SO4-2 + Ca+2\")"
   ]
  },
  {
   "cell_type": "markdown",
   "metadata": {},
   "source": [
    "Below, function `water_problem()` defines the chemical problem corresponding to pure water (closed system):"
   ]
  },
  {
   "cell_type": "code",
   "execution_count": null,
   "metadata": {
    "lines_to_next_cell": 1
   },
   "outputs": [],
   "source": [
    "def water_problem(T, P):\n",
    "\n",
    "    state = ChemicalState(system)\n",
    "    state.temperature(T, \"celsius\")\n",
    "    state.pressure(P, \"bar\")\n",
    "    state.add(\"H2O(aq)\", 1.0, \"kg\")\n",
    "\n",
    "    return state"
   ]
  },
  {
   "cell_type": "markdown",
   "metadata": {},
   "source": [
    "Below, we define the range of temperatures from 0 till 90 °C and calculate solubilities of anhydrite in water for the pressures P = 1, 100, 1000 bar. In a loop, we simulate the chemical equilibrium of 5 mol anhydrite in water. In addition, we also evaluate ph, ionic strength I, equilibrium constant log10(K),\n",
    "and saturation index SI. If the SI > 0, the solution is supersaturated with anhydrite, whereas if the SI < 0, the solution is undersaturated with it. Finally, SI = 0 indicates equilibrium."
   ]
  },
  {
   "cell_type": "code",
   "execution_count": null,
   "metadata": {
    "lines_to_next_cell": 1
   },
   "outputs": [],
   "source": [
    "import pandas as pd\n",
    "df = pd.DataFrame(columns=[\"T\", \"P\", \"I\", \"pH\", \"SI\", \"log10K\", \"dAnhydrite\"])\n",
    "\n",
    "temperatures = np.arange(0.0, 91.0, 5.0) # in celsius\n",
    "pressures = np.array([1.0, 100.0, 1000.0]) # in bar\n",
    "\n",
    "for P in pressures:\n",
    "    for T in temperatures:\n",
    "        \n",
    "        n0Anhydrite = 5.0\n",
    "\n",
    "        # Equilibrate pure water\n",
    "        state = water_problem(T, P)\n",
    "        solver.solve(state)\n",
    "\n",
    "        # Add 10mol of anhydrite\n",
    "        state.set(\"Anhydrite\", n0Anhydrite, \"mol\")\n",
    "\n",
    "        # Equilibrate pure water with anhydrite\n",
    "        solver.solve(state)\n",
    "\n",
    "        # Update chemical and aqueous properties\n",
    "        props.update(state)\n",
    "        aprops.update(state)\n",
    "\n",
    "        # Calculate ionic strength, pH, SI(Anhydrite) of the current state and log10K of the anhydrite dissolution reaction\n",
    "        I = float(aprops.ionicStrength())\n",
    "        pH = float(aprops.pH())\n",
    "        SI = float(aprops.saturationIndex(\"Anhydrite\"))\n",
    "\n",
    "        log10K = float(reaction.props(T, \"C\", P, \"bar\").lgK)\n",
    "\n",
    "        # Calculate the solubility of anhydrite\n",
    "        dAnhydrite = n0Anhydrite - float(state.speciesAmount(\"Anhydrite\"))\n",
    "        #print(f\"P = {P:.1f} bar, T = {T} C: \"\n",
    "        #      f\"ph = {pH:.2f}, I = {I * 1e3:.2f} mmolal, lnK = {log10K:.4f}, SI = {SI:e}, dAnhydrite = {dAnhydrite:.4e}\")\n",
    "\n",
    "        # [\"T\", \"P\", \"I\", \"pH\", \"SI\", \"log10K\", \"dAnhydrite\"]\n",
    "        df.loc[len(df)] = [T, P, I, pH, SI, log10K, dAnhydrite]"
   ]
  },
  {
   "cell_type": "code",
   "execution_count": null,
   "metadata": {
    "collapsed": false,
    "jupyter": {
     "outputs_hidden": false
    },
    "pycharm": {
     "name": "#%%\n"
    }
   },
   "outputs": [],
   "source": [
    "df"
   ]
  },
  {
   "cell_type": "markdown",
   "metadata": {},
   "source": [
    "The obtained solubility in water is 2.308049 g/L (25 &deg;C), which is considerably higher than for calcite. We use 172.17 g/mol as a molar mass of anhydrite."
   ]
  },
  {
   "cell_type": "code",
   "execution_count": null,
   "metadata": {},
   "outputs": [],
   "source": [
    "df_25C = df[df['T'] == 25.0] # fetch data corresponding to T = 25 celsius\n",
    "df_25C_P1 = df_25C[df_25C['P'] == 1.0] # fetch data corresponding to T = 25 celsius and P = 1 bar\n",
    "deltaAnhydrite = df_25C_P1['dAnhydrite'].iloc[0]\n",
    "print(f\"Solubility of anhydrite in water equals to {deltaAnhydrite:.6f} \"\n",
    "      f\"mol/kgw = ... = {deltaAnhydrite * 0.17217 * 1e3:.6f} g/L\")"
   ]
  },
  {
   "cell_type": "markdown",
   "metadata": {},
   "source": [
    "According to the calculated values, the log10K at the 25 &deg;C is lnK = -9.9159, which corresponds to the database\n",
    "values of `log_k = -4.36` (see, for example, `phreeqc.dat`). Below, we verify this from the numerical data collected to the dataframe `df`:"
   ]
  },
  {
   "cell_type": "code",
   "execution_count": null,
   "metadata": {},
   "outputs": [],
   "source": [
    "df_25C = df[df['T'] == 25.0] # fetch data corresponding to T = 25 celsius\n",
    "df_25C_P1 = df_25C[df_25C['P'] == 1.0] # fetch data corresponding to T = 25 celsius and P = 1 bar\n",
    "deltaAnhydrite = df_25C_P1['dAnhydrite'].iloc[0]\n",
    "\n",
    "lnK = -9.9159\n",
    "log10K = lnK * math.log10(math.exp(1))\n",
    "print(\"Anhydrite/gypsum logK = \", log10K)"
   ]
  },
  {
   "cell_type": "markdown",
   "metadata": {},
   "source": [
    "Let us now plot solubilities of anhydrite as function of different temperatures for different pressure:"
   ]
  },
  {
   "cell_type": "code",
   "execution_count": null,
   "metadata": {},
   "outputs": [],
   "source": [
    "from bokeh.plotting import figure, show\n",
    "from bokeh.models import HoverTool\n",
    "from bokeh.io import output_notebook\n",
    "from bokeh.models import ColumnDataSource\n",
    "\n",
    "output_notebook()\n",
    "hovertool = HoverTool()\n",
    "hovertool.tooltips = [(\"T\", \"@T\"),\n",
    "                      (\"amount(Anhydrite) in brine\", \"@dAnhydrite mol\")]\n",
    "\n",
    "p = figure(\n",
    "    title=\"SOLUBILITY OF ANHYDRITE\",\n",
    "    x_axis_label=r'TEMPERATURES [°C]',\n",
    "    y_axis_label='AMOUNT OF DISSOLVED ANHYDRITE [MOL/KGW]',\n",
    "    sizing_mode=\"scale_width\",\n",
    "    plot_height=300)\n",
    "\n",
    "p.add_tools(hovertool)\n",
    "\n",
    "colors = ['teal', 'darkred', 'indigo', 'coral']\n",
    "for P, color in zip(pressures, colors):\n",
    "    df_P = ColumnDataSource(df[df['P'] == P])\n",
    "    p.line(\"T\", \"dAnhydrite\", legend_label=f'{P} bar', line_width=3, line_cap=\"round\", line_color=color, source=df_P)\n",
    "\n",
    "p.legend.location = 'top_right'\n",
    "show(p)"
   ]
  },
  {
   "cell_type": "markdown",
   "metadata": {},
   "source": [
    "We see that anhydrite solubility decreases with increasing temperature. Increasing pressure also increases the solubility of calcium sulfate."
   ]
  }
 ],
 "metadata": {
  "kernelspec": {
   "display_name": "Python 3 (ipykernel)",
   "language": "python",
   "name": "python3"
  },
  "language_info": {
   "codemirror_mode": {
    "name": "ipython",
    "version": 3
   },
   "file_extension": ".py",
   "mimetype": "text/x-python",
   "name": "python",
   "nbconvert_exporter": "python",
   "pygments_lexer": "ipython3",
   "version": "3.9.7"
  }
 },
 "nbformat": 4,
 "nbformat_minor": 4
}