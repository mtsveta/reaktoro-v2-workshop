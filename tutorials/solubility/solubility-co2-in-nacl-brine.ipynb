{
 "cells": [
  {
   "cell_type": "markdown",
   "id": "a8f29c0c",
   "metadata": {
    "lines_to_next_cell": 1,
    "pycharm": {
     "name": "#%% md\n"
    }
   },
   "source": [
    "# Carbon dioxide solubility in the NaCl-brine\n",
    "\n",
    "This tutorial demonstrates how to simulate the solubility of CO<sub>2</sub> gas in the NaCl-brine and its dependence on\n",
    "the salinity of the brine (also referred to as a salting-out effect).\n",
    "\n",
    "The chemical system and the corresponding equilibrium solver are initialized below."
   ]
  },
  {
   "cell_type": "code",
   "execution_count": 35,
   "outputs": [],
   "source": [
    "from reaktoro import *\n",
    "\n",
    "# Initialize a thermodynamic database\n",
    "db = PhreeqcDatabase(\"phreeqc.dat\")\n",
    "\n",
    "# Create an aqueous phase automatically selecting all species with provided elements\n",
    "aqueousphase = AqueousPhase(speciate(\"H O C Na Cl\"))\n",
    "aqueousphase.setActivityModel(chain(\n",
    "    ActivityModelHKF(),\n",
    "    ActivityModelDrummond(\"CO2\"),\n",
    "))\n",
    "\n",
    "# Create a gaseous phase\n",
    "gaseousphase = GaseousPhase(\"CO2(g)\")\n",
    "gaseousphase.setActivityModel(ActivityModelPengRobinson())\n",
    "\n",
    "phases = Phases(db)\n",
    "phases.add(aqueousphase)\n",
    "phases.add(gaseousphase)\n",
    "\n",
    "# Create the chemical system\n",
    "system = ChemicalSystem(phases)\n",
    "\n",
    "# Create the equilibrium solver\n",
    "solver = EquilibriumSolver(system)"
   ],
   "metadata": {
    "collapsed": false,
    "pycharm": {
     "name": "#%%\n"
    }
   }
  },
  {
   "cell_type": "markdown",
   "source": [
    "Finally, we define the range of temperatures and pressure for the equilibrium calculations and calculate CO<sub>2</sub>\n",
    "solubilities for different temperatures and brine concentrations."
   ],
   "metadata": {
    "collapsed": false
   }
  },
  {
   "cell_type": "markdown",
   "source": [
    "We start the definition of function `solubility_co2()` that calculates the solubility of CO<sub>2</sub> in the NaCl-brine\n",
    "by returning the concentration of carbon that got dissolved in the brine."
   ],
   "metadata": {
    "collapsed": false
   }
  },
  {
   "cell_type": "code",
   "execution_count": 36,
   "id": "479774dc",
   "metadata": {
    "pycharm": {
     "name": "#%%\n"
    }
   },
   "outputs": [],
   "source": [
    "\n",
    "def solubility_co2(system, solver, T, P, mNaCl):\n",
    "\n",
    "    # Initial amount of the CO2 gas\n",
    "    n0CO2g = 10.0\n",
    "\n",
    "    # Define initial chemical state corresponding to the NaCl-brine of the given concentration\n",
    "    state = ChemicalState(system)\n",
    "    state.setTemperature(T, \"celsius\")\n",
    "    state.setPressure(P, \"bar\")\n",
    "    state.set(\"H2O\"   , 1.0   , \"kg\")\n",
    "    state.set(\"CO2(g)\", n0CO2g, \"mol\")\n",
    "    state.set(\"Na+\"   , mNaCl , \"mol\")\n",
    "    state.set(\"Cl-\"   , mNaCl , \"mol\")\n",
    "\n",
    "    # Calculate equilibrium state\n",
    "    res = solver.solve(state)\n",
    "\n",
    "    # Throw exception if the equilibrium couldn't be found\n",
    "    if not res.optima.succeeded:\n",
    "        raise RuntimeError(\"Equilibrium calculation did not succeed!\")\n",
    "\n",
    "    # Fetch resulting aqueous properties of the chemical state\n",
    "    aqprops = AqueousProps(state)\n",
    "\n",
    "    # Return concentration of the carbon in the aqueous phase\n",
    "    return aqprops.elementMolality(\"C\")[0]"
   ]
  },
  {
   "cell_type": "markdown",
   "id": "bc2275d5",
   "metadata": {
    "pycharm": {
     "name": "#%% md\n"
    }
   },
   "source": [
    "Finally, we define the range of temperatures and pressure for the equilibrium calculations and calculate CO<sub>2</sub>\n",
    "solubilities. In a loop, we run equilibrium calculations for different input temperatures and different brine concentrations."
   ]
  },
  {
   "cell_type": "code",
   "execution_count": 37,
   "outputs": [],
   "source": [
    "import numpy as np\n",
    "import pandas as pd\n",
    "\n",
    "temperatures = np.arange(25.0, 90.0, 5.0)\n",
    "molsNaCl  = np.array([1.0, 2.0, 4.0])\n",
    "P = 100.0\n",
    "\n",
    "df = pd.DataFrame(columns=[\"T\", \"amountNaCl\", \"amountCaq\"])\n",
    "\n",
    "for molNaCl in molsNaCl:\n",
    "    for T in temperatures:\n",
    "\n",
    "        # Initial amount of the CO2 gas\n",
    "        n0CO2g = 10.0\n",
    "\n",
    "        # Define initial chemical state corresponding to the NaCl-brine of the given concentration\n",
    "        state = ChemicalState(system)\n",
    "        state.setTemperature(T, \"celsius\")\n",
    "        state.setPressure(P, \"bar\")\n",
    "        state.set(\"H2O\"   , 1.0   , \"kg\")\n",
    "        state.set(\"CO2(g)\", n0CO2g, \"mol\")\n",
    "        state.set(\"Na+\"   , molNaCl , \"mol\")\n",
    "        state.set(\"Cl-\"   , molNaCl , \"mol\")\n",
    "\n",
    "        # Calculate equilibrium state\n",
    "        res = solver.solve(state)\n",
    "\n",
    "        # Throw exception if the equilibrium couldn't be found\n",
    "        if not res.optima.succeeded: continue\n",
    "\n",
    "        # Fetch resulting aqueous properties of the chemical state\n",
    "        aqprops = AqueousProps(state)\n",
    "\n",
    "        # Update value [\"T\", \"amountNaCl\", \"amountCaq\"] in the dataframe\n",
    "        df.loc[len(df)] = [T, molNaCl, float(aqprops.elementMolality(\"C\"))]"
   ],
   "metadata": {}
  },
  {
   "cell_type": "markdown",
   "source": [
    "To visualize the obtained results, we use [bokeh](https://bokeh.org/) plotting library."
   ],
   "metadata": {
    "collapsed": false
   }
  },
  {
   "cell_type": "code",
   "execution_count": 38,
   "outputs": [
    {
     "data": {
      "text/html": "\n    <div class=\"bk-root\">\n        <a href=\"https://bokeh.org\" target=\"_blank\" class=\"bk-logo bk-logo-small bk-logo-notebook\"></a>\n        <span id=\"2634\">Loading BokehJS ...</span>\n    </div>"
     },
     "metadata": {},
     "output_type": "display_data"
    },
    {
     "data": {
      "application/javascript": "\n(function(root) {\n  function now() {\n    return new Date();\n  }\n\n  const force = true;\n\n  if (typeof root._bokeh_onload_callbacks === \"undefined\" || force === true) {\n    root._bokeh_onload_callbacks = [];\n    root._bokeh_is_loading = undefined;\n  }\n\n  const JS_MIME_TYPE = 'application/javascript';\n  const HTML_MIME_TYPE = 'text/html';\n  const EXEC_MIME_TYPE = 'application/vnd.bokehjs_exec.v0+json';\n  const CLASS_NAME = 'output_bokeh rendered_html';\n\n  /**\n   * Render data to the DOM node\n   */\n  function render(props, node) {\n    const script = document.createElement(\"script\");\n    node.appendChild(script);\n  }\n\n  /**\n   * Handle when an output is cleared or removed\n   */\n  function handleClearOutput(event, handle) {\n    const cell = handle.cell;\n\n    const id = cell.output_area._bokeh_element_id;\n    const server_id = cell.output_area._bokeh_server_id;\n    // Clean up Bokeh references\n    if (id != null && id in Bokeh.index) {\n      Bokeh.index[id].model.document.clear();\n      delete Bokeh.index[id];\n    }\n\n    if (server_id !== undefined) {\n      // Clean up Bokeh references\n      const cmd_clean = \"from bokeh.io.state import curstate; print(curstate().uuid_to_server['\" + server_id + \"'].get_sessions()[0].document.roots[0]._id)\";\n      cell.notebook.kernel.execute(cmd_clean, {\n        iopub: {\n          output: function(msg) {\n            const id = msg.content.text.trim();\n            if (id in Bokeh.index) {\n              Bokeh.index[id].model.document.clear();\n              delete Bokeh.index[id];\n            }\n          }\n        }\n      });\n      // Destroy server and session\n      const cmd_destroy = \"import bokeh.io.notebook as ion; ion.destroy_server('\" + server_id + \"')\";\n      cell.notebook.kernel.execute(cmd_destroy);\n    }\n  }\n\n  /**\n   * Handle when a new output is added\n   */\n  function handleAddOutput(event, handle) {\n    const output_area = handle.output_area;\n    const output = handle.output;\n\n    // limit handleAddOutput to display_data with EXEC_MIME_TYPE content only\n    if ((output.output_type != \"display_data\") || (!Object.prototype.hasOwnProperty.call(output.data, EXEC_MIME_TYPE))) {\n      return\n    }\n\n    const toinsert = output_area.element.find(\".\" + CLASS_NAME.split(' ')[0]);\n\n    if (output.metadata[EXEC_MIME_TYPE][\"id\"] !== undefined) {\n      toinsert[toinsert.length - 1].firstChild.textContent = output.data[JS_MIME_TYPE];\n      // store reference to embed id on output_area\n      output_area._bokeh_element_id = output.metadata[EXEC_MIME_TYPE][\"id\"];\n    }\n    if (output.metadata[EXEC_MIME_TYPE][\"server_id\"] !== undefined) {\n      const bk_div = document.createElement(\"div\");\n      bk_div.innerHTML = output.data[HTML_MIME_TYPE];\n      const script_attrs = bk_div.children[0].attributes;\n      for (let i = 0; i < script_attrs.length; i++) {\n        toinsert[toinsert.length - 1].firstChild.setAttribute(script_attrs[i].name, script_attrs[i].value);\n        toinsert[toinsert.length - 1].firstChild.textContent = bk_div.children[0].textContent\n      }\n      // store reference to server id on output_area\n      output_area._bokeh_server_id = output.metadata[EXEC_MIME_TYPE][\"server_id\"];\n    }\n  }\n\n  function register_renderer(events, OutputArea) {\n\n    function append_mime(data, metadata, element) {\n      // create a DOM node to render to\n      const toinsert = this.create_output_subarea(\n        metadata,\n        CLASS_NAME,\n        EXEC_MIME_TYPE\n      );\n      this.keyboard_manager.register_events(toinsert);\n      // Render to node\n      const props = {data: data, metadata: metadata[EXEC_MIME_TYPE]};\n      render(props, toinsert[toinsert.length - 1]);\n      element.append(toinsert);\n      return toinsert\n    }\n\n    /* Handle when an output is cleared or removed */\n    events.on('clear_output.CodeCell', handleClearOutput);\n    events.on('delete.Cell', handleClearOutput);\n\n    /* Handle when a new output is added */\n    events.on('output_added.OutputArea', handleAddOutput);\n\n    /**\n     * Register the mime type and append_mime function with output_area\n     */\n    OutputArea.prototype.register_mime_type(EXEC_MIME_TYPE, append_mime, {\n      /* Is output safe? */\n      safe: true,\n      /* Index of renderer in `output_area.display_order` */\n      index: 0\n    });\n  }\n\n  // register the mime type if in Jupyter Notebook environment and previously unregistered\n  if (root.Jupyter !== undefined) {\n    const events = require('base/js/events');\n    const OutputArea = require('notebook/js/outputarea').OutputArea;\n\n    if (OutputArea.prototype.mime_types().indexOf(EXEC_MIME_TYPE) == -1) {\n      register_renderer(events, OutputArea);\n    }\n  }\n\n  \n  if (typeof (root._bokeh_timeout) === \"undefined\" || force === true) {\n    root._bokeh_timeout = Date.now() + 5000;\n    root._bokeh_failed_load = false;\n  }\n\n  const NB_LOAD_WARNING = {'data': {'text/html':\n     \"<div style='background-color: #fdd'>\\n\"+\n     \"<p>\\n\"+\n     \"BokehJS does not appear to have successfully loaded. If loading BokehJS from CDN, this \\n\"+\n     \"may be due to a slow or bad network connection. Possible fixes:\\n\"+\n     \"</p>\\n\"+\n     \"<ul>\\n\"+\n     \"<li>re-rerun `output_notebook()` to attempt to load from CDN again, or</li>\\n\"+\n     \"<li>use INLINE resources instead, as so:</li>\\n\"+\n     \"</ul>\\n\"+\n     \"<code>\\n\"+\n     \"from bokeh.resources import INLINE\\n\"+\n     \"output_notebook(resources=INLINE)\\n\"+\n     \"</code>\\n\"+\n     \"</div>\"}};\n\n  function display_loaded() {\n    const el = document.getElementById(\"2634\");\n    if (el != null) {\n      el.textContent = \"BokehJS is loading...\";\n    }\n    if (root.Bokeh !== undefined) {\n      if (el != null) {\n        el.textContent = \"BokehJS \" + root.Bokeh.version + \" successfully loaded.\";\n      }\n    } else if (Date.now() < root._bokeh_timeout) {\n      setTimeout(display_loaded, 100)\n    }\n  }\n\n\n  function run_callbacks() {\n    try {\n      root._bokeh_onload_callbacks.forEach(function(callback) {\n        if (callback != null)\n          callback();\n      });\n    } finally {\n      delete root._bokeh_onload_callbacks\n    }\n    console.debug(\"Bokeh: all callbacks have finished\");\n  }\n\n  function load_libs(css_urls, js_urls, callback) {\n    if (css_urls == null) css_urls = [];\n    if (js_urls == null) js_urls = [];\n\n    root._bokeh_onload_callbacks.push(callback);\n    if (root._bokeh_is_loading > 0) {\n      console.debug(\"Bokeh: BokehJS is being loaded, scheduling callback at\", now());\n      return null;\n    }\n    if (js_urls == null || js_urls.length === 0) {\n      run_callbacks();\n      return null;\n    }\n    console.debug(\"Bokeh: BokehJS not loaded, scheduling load and callback at\", now());\n    root._bokeh_is_loading = css_urls.length + js_urls.length;\n\n    function on_load() {\n      root._bokeh_is_loading--;\n      if (root._bokeh_is_loading === 0) {\n        console.debug(\"Bokeh: all BokehJS libraries/stylesheets loaded\");\n        run_callbacks()\n      }\n    }\n\n    function on_error(url) {\n      console.error(\"failed to load \" + url);\n    }\n\n    for (let i = 0; i < css_urls.length; i++) {\n      const url = css_urls[i];\n      const element = document.createElement(\"link\");\n      element.onload = on_load;\n      element.onerror = on_error.bind(null, url);\n      element.rel = \"stylesheet\";\n      element.type = \"text/css\";\n      element.href = url;\n      console.debug(\"Bokeh: injecting link tag for BokehJS stylesheet: \", url);\n      document.body.appendChild(element);\n    }\n\n    for (let i = 0; i < js_urls.length; i++) {\n      const url = js_urls[i];\n      const element = document.createElement('script');\n      element.onload = on_load;\n      element.onerror = on_error.bind(null, url);\n      element.async = false;\n      element.src = url;\n      console.debug(\"Bokeh: injecting script tag for BokehJS library: \", url);\n      document.head.appendChild(element);\n    }\n  };\n\n  function inject_raw_css(css) {\n    const element = document.createElement(\"style\");\n    element.appendChild(document.createTextNode(css));\n    document.body.appendChild(element);\n  }\n\n  \n  const js_urls = [\"https://cdn.bokeh.org/bokeh/release/bokeh-2.4.2.min.js\", \"https://cdn.bokeh.org/bokeh/release/bokeh-gl-2.4.2.min.js\", \"https://cdn.bokeh.org/bokeh/release/bokeh-widgets-2.4.2.min.js\", \"https://cdn.bokeh.org/bokeh/release/bokeh-tables-2.4.2.min.js\", \"https://cdn.bokeh.org/bokeh/release/bokeh-mathjax-2.4.2.min.js\"];\n  const css_urls = [];\n  \n\n  const inline_js = [\n    function(Bokeh) {\n      Bokeh.set_log_level(\"info\");\n    },\n    function(Bokeh) {\n    \n    \n    }\n  ];\n\n  function run_inline_js() {\n    \n    if (root.Bokeh !== undefined || force === true) {\n      \n    for (let i = 0; i < inline_js.length; i++) {\n      inline_js[i].call(root, root.Bokeh);\n    }\n    if (force === true) {\n        display_loaded();\n      }} else if (Date.now() < root._bokeh_timeout) {\n      setTimeout(run_inline_js, 100);\n    } else if (!root._bokeh_failed_load) {\n      console.log(\"Bokeh: BokehJS failed to load within specified timeout.\");\n      root._bokeh_failed_load = true;\n    } else if (force !== true) {\n      const cell = $(document.getElementById(\"2634\")).parents('.cell').data().cell;\n      cell.output_area.append_execute_result(NB_LOAD_WARNING)\n    }\n\n  }\n\n  if (root._bokeh_is_loading === 0) {\n    console.debug(\"Bokeh: BokehJS loaded, going straight to plotting\");\n    run_inline_js();\n  } else {\n    load_libs(css_urls, js_urls, function() {\n      console.debug(\"Bokeh: BokehJS plotting callback run at\", now());\n      run_inline_js();\n    });\n  }\n}(window));",
      "application/vnd.bokehjs_load.v0+json": "\n(function(root) {\n  function now() {\n    return new Date();\n  }\n\n  const force = true;\n\n  if (typeof root._bokeh_onload_callbacks === \"undefined\" || force === true) {\n    root._bokeh_onload_callbacks = [];\n    root._bokeh_is_loading = undefined;\n  }\n\n  \n\n  \n  if (typeof (root._bokeh_timeout) === \"undefined\" || force === true) {\n    root._bokeh_timeout = Date.now() + 5000;\n    root._bokeh_failed_load = false;\n  }\n\n  const NB_LOAD_WARNING = {'data': {'text/html':\n     \"<div style='background-color: #fdd'>\\n\"+\n     \"<p>\\n\"+\n     \"BokehJS does not appear to have successfully loaded. If loading BokehJS from CDN, this \\n\"+\n     \"may be due to a slow or bad network connection. Possible fixes:\\n\"+\n     \"</p>\\n\"+\n     \"<ul>\\n\"+\n     \"<li>re-rerun `output_notebook()` to attempt to load from CDN again, or</li>\\n\"+\n     \"<li>use INLINE resources instead, as so:</li>\\n\"+\n     \"</ul>\\n\"+\n     \"<code>\\n\"+\n     \"from bokeh.resources import INLINE\\n\"+\n     \"output_notebook(resources=INLINE)\\n\"+\n     \"</code>\\n\"+\n     \"</div>\"}};\n\n  function display_loaded() {\n    const el = document.getElementById(\"2634\");\n    if (el != null) {\n      el.textContent = \"BokehJS is loading...\";\n    }\n    if (root.Bokeh !== undefined) {\n      if (el != null) {\n        el.textContent = \"BokehJS \" + root.Bokeh.version + \" successfully loaded.\";\n      }\n    } else if (Date.now() < root._bokeh_timeout) {\n      setTimeout(display_loaded, 100)\n    }\n  }\n\n\n  function run_callbacks() {\n    try {\n      root._bokeh_onload_callbacks.forEach(function(callback) {\n        if (callback != null)\n          callback();\n      });\n    } finally {\n      delete root._bokeh_onload_callbacks\n    }\n    console.debug(\"Bokeh: all callbacks have finished\");\n  }\n\n  function load_libs(css_urls, js_urls, callback) {\n    if (css_urls == null) css_urls = [];\n    if (js_urls == null) js_urls = [];\n\n    root._bokeh_onload_callbacks.push(callback);\n    if (root._bokeh_is_loading > 0) {\n      console.debug(\"Bokeh: BokehJS is being loaded, scheduling callback at\", now());\n      return null;\n    }\n    if (js_urls == null || js_urls.length === 0) {\n      run_callbacks();\n      return null;\n    }\n    console.debug(\"Bokeh: BokehJS not loaded, scheduling load and callback at\", now());\n    root._bokeh_is_loading = css_urls.length + js_urls.length;\n\n    function on_load() {\n      root._bokeh_is_loading--;\n      if (root._bokeh_is_loading === 0) {\n        console.debug(\"Bokeh: all BokehJS libraries/stylesheets loaded\");\n        run_callbacks()\n      }\n    }\n\n    function on_error(url) {\n      console.error(\"failed to load \" + url);\n    }\n\n    for (let i = 0; i < css_urls.length; i++) {\n      const url = css_urls[i];\n      const element = document.createElement(\"link\");\n      element.onload = on_load;\n      element.onerror = on_error.bind(null, url);\n      element.rel = \"stylesheet\";\n      element.type = \"text/css\";\n      element.href = url;\n      console.debug(\"Bokeh: injecting link tag for BokehJS stylesheet: \", url);\n      document.body.appendChild(element);\n    }\n\n    for (let i = 0; i < js_urls.length; i++) {\n      const url = js_urls[i];\n      const element = document.createElement('script');\n      element.onload = on_load;\n      element.onerror = on_error.bind(null, url);\n      element.async = false;\n      element.src = url;\n      console.debug(\"Bokeh: injecting script tag for BokehJS library: \", url);\n      document.head.appendChild(element);\n    }\n  };\n\n  function inject_raw_css(css) {\n    const element = document.createElement(\"style\");\n    element.appendChild(document.createTextNode(css));\n    document.body.appendChild(element);\n  }\n\n  \n  const js_urls = [\"https://cdn.bokeh.org/bokeh/release/bokeh-2.4.2.min.js\", \"https://cdn.bokeh.org/bokeh/release/bokeh-gl-2.4.2.min.js\", \"https://cdn.bokeh.org/bokeh/release/bokeh-widgets-2.4.2.min.js\", \"https://cdn.bokeh.org/bokeh/release/bokeh-tables-2.4.2.min.js\", \"https://cdn.bokeh.org/bokeh/release/bokeh-mathjax-2.4.2.min.js\"];\n  const css_urls = [];\n  \n\n  const inline_js = [\n    function(Bokeh) {\n      Bokeh.set_log_level(\"info\");\n    },\n    function(Bokeh) {\n    \n    \n    }\n  ];\n\n  function run_inline_js() {\n    \n    if (root.Bokeh !== undefined || force === true) {\n      \n    for (let i = 0; i < inline_js.length; i++) {\n      inline_js[i].call(root, root.Bokeh);\n    }\n    if (force === true) {\n        display_loaded();\n      }} else if (Date.now() < root._bokeh_timeout) {\n      setTimeout(run_inline_js, 100);\n    } else if (!root._bokeh_failed_load) {\n      console.log(\"Bokeh: BokehJS failed to load within specified timeout.\");\n      root._bokeh_failed_load = true;\n    } else if (force !== true) {\n      const cell = $(document.getElementById(\"2634\")).parents('.cell').data().cell;\n      cell.output_area.append_execute_result(NB_LOAD_WARNING)\n    }\n\n  }\n\n  if (root._bokeh_is_loading === 0) {\n    console.debug(\"Bokeh: BokehJS loaded, going straight to plotting\");\n    run_inline_js();\n  } else {\n    load_libs(css_urls, js_urls, function() {\n      console.debug(\"Bokeh: BokehJS plotting callback run at\", now());\n      run_inline_js();\n    });\n  }\n}(window));"
     },
     "metadata": {},
     "output_type": "display_data"
    }
   ],
   "source": [
    "from bokeh.plotting import figure, show\n",
    "from bokeh.models import HoverTool\n",
    "from bokeh.io import output_notebook\n",
    "from bokeh.models import ColumnDataSource\n",
    "output_notebook()"
   ],
   "metadata": {
    "collapsed": false,
    "pycharm": {
     "name": "#%%\n"
    }
   }
  },
  {
   "cell_type": "markdown",
   "id": "2563a4d2",
   "source": [
    "Below, we plot the solubility of CO<sub>2</sub>(g) as a function of pressure for different salinities of NaCl-brine."
   ]
  },
  {
   "cell_type": "code",
   "execution_count": 39,
   "id": "9c97c986",
   "metadata": {
    "pycharm": {
     "name": "#%%\n"
    }
   },
   "outputs": [
    {
     "data": {
      "text/html": "\n\n\n\n\n\n  <div class=\"bk-root\" id=\"c0e0fb50-d7a9-4b79-857c-43ab0604ae10\" data-root-id=\"2636\"></div>\n"
     },
     "metadata": {},
     "output_type": "display_data"
    },
    {
     "data": {
      "application/javascript": "(function(root) {\n  function embed_document(root) {\n    \n  const docs_json = {\"8546f03f-5350-436b-b5a8-3f72aae63cdc\":{\"defs\":[],\"roots\":{\"references\":[{\"attributes\":{\"below\":[{\"id\":\"2647\"}],\"center\":[{\"id\":\"2650\"},{\"id\":\"2654\"},{\"id\":\"2687\"}],\"height\":300,\"left\":[{\"id\":\"2651\"}],\"renderers\":[{\"id\":\"2675\"},{\"id\":\"2694\"},{\"id\":\"2714\"}],\"sizing_mode\":\"scale_width\",\"title\":{\"id\":\"2637\"},\"toolbar\":{\"id\":\"2662\"},\"x_range\":{\"id\":\"2639\"},\"x_scale\":{\"id\":\"2643\"},\"y_range\":{\"id\":\"2641\"},\"y_scale\":{\"id\":\"2645\"}},\"id\":\"2636\",\"subtype\":\"Figure\",\"type\":\"Plot\"},{\"attributes\":{},\"id\":\"2652\",\"type\":\"BasicTicker\"},{\"attributes\":{\"line_cap\":\"round\",\"line_color\":\"indigo\",\"line_width\":3,\"x\":{\"field\":\"T\"},\"y\":{\"field\":\"amountCaq\"}},\"id\":\"2711\",\"type\":\"Line\"},{\"attributes\":{},\"id\":\"2656\",\"type\":\"WheelZoomTool\"},{\"attributes\":{\"axis_label\":\"AMOUNT OF DISSOLVED CO2 [MOL/KGW]\",\"coordinates\":null,\"formatter\":{\"id\":\"2679\"},\"group\":null,\"major_label_policy\":{\"id\":\"2680\"},\"ticker\":{\"id\":\"2652\"}},\"id\":\"2651\",\"type\":\"LinearAxis\"},{\"attributes\":{\"data\":{\"T\":{\"__ndarray__\":\"AAAAAAAAOUAAAAAAAAA+QAAAAAAAgEFAAAAAAAAAREAAAAAAAIBGQAAAAAAAAElAAAAAAACAS0AAAAAAAABOQAAAAAAAQFBAAAAAAACAUUAAAAAAAMBSQAAAAAAAAFRAAAAAAABAVUA=\",\"dtype\":\"float64\",\"order\":\"little\",\"shape\":[13]},\"amountCaq\":{\"__ndarray__\":\"765zQe7E8T+L0FLFOtHwP7I6SKnl7O8/aOHlNetY7j+pHLZwFtbsP2kDMs2eXus/YTR+qPj96T+PpOjyKbzoP4HPjNKFmuc/BK/U1I6X5j8kMlzL17DlP4uUqbTF4+Q/o7cicMwt5D8=\",\"dtype\":\"float64\",\"order\":\"little\",\"shape\":[13]},\"amountNaCl\":{\"__ndarray__\":\"AAAAAAAA8D8AAAAAAADwPwAAAAAAAPA/AAAAAAAA8D8AAAAAAADwPwAAAAAAAPA/AAAAAAAA8D8AAAAAAADwPwAAAAAAAPA/AAAAAAAA8D8AAAAAAADwPwAAAAAAAPA/AAAAAAAA8D8=\",\"dtype\":\"float64\",\"order\":\"little\",\"shape\":[13]},\"index\":[0,1,2,3,4,5,6,7,8,9,10,11,12]},\"selected\":{\"id\":\"2685\"},\"selection_policy\":{\"id\":\"2684\"}},\"id\":\"2670\",\"type\":\"ColumnDataSource\"},{\"attributes\":{},\"id\":\"2659\",\"type\":\"ResetTool\"},{\"attributes\":{\"line_alpha\":0.2,\"line_cap\":\"round\",\"line_color\":\"teal\",\"line_width\":3,\"x\":{\"field\":\"T\"},\"y\":{\"field\":\"amountCaq\"}},\"id\":\"2674\",\"type\":\"Line\"},{\"attributes\":{\"callback\":null,\"tooltips\":[[\"T\",\"@T\"],[\"amount(Ca) in brine\",\"@amountCaq mol\"]]},\"id\":\"2635\",\"type\":\"HoverTool\"},{\"attributes\":{},\"id\":\"2683\",\"type\":\"AllLabels\"},{\"attributes\":{},\"id\":\"2679\",\"type\":\"BasicTickFormatter\"},{\"attributes\":{},\"id\":\"2658\",\"type\":\"SaveTool\"},{\"attributes\":{},\"id\":\"2648\",\"type\":\"BasicTicker\"},{\"attributes\":{\"label\":{\"value\":\"1.0 mol of NaCl\"},\"renderers\":[{\"id\":\"2675\"}]},\"id\":\"2688\",\"type\":\"LegendItem\"},{\"attributes\":{},\"id\":\"2706\",\"type\":\"Selection\"},{\"attributes\":{},\"id\":\"2728\",\"type\":\"Selection\"},{\"attributes\":{},\"id\":\"2684\",\"type\":\"UnionRenderers\"},{\"attributes\":{\"coordinates\":null,\"group\":null,\"text\":\"SOLUBILITY OF CO2 IN NACL BRINE\"},\"id\":\"2637\",\"type\":\"Title\"},{\"attributes\":{\"data\":{\"T\":{\"__ndarray__\":\"AAAAAAAAOUAAAAAAAAA+QAAAAAAAgEFAAAAAAAAAREAAAAAAAIBGQAAAAAAAAElAAAAAAACAS0AAAAAAAABOQAAAAAAAQFBAAAAAAACAUUAAAAAAAMBSQAAAAAAAAFRAAAAAAABAVUA=\",\"dtype\":\"float64\",\"order\":\"little\",\"shape\":[13]},\"amountCaq\":{\"__ndarray__\":\"Uepsjx7S4j9mZP5W6C/iP/YCUK7/meE/5hrmj4kJ4T/71jNBzXbgP0Fhqhgdv98/WgtkuhGX3j9Uk6/NNIHdPxW1g1Gsgdw/jBJlBBCZ2z8Ywq25iMbaP9lI6xXKCNo/OKc5FCpe2T8=\",\"dtype\":\"float64\",\"order\":\"little\",\"shape\":[13]},\"amountNaCl\":{\"__ndarray__\":\"AAAAAAAAEEAAAAAAAAAQQAAAAAAAABBAAAAAAAAAEEAAAAAAAAAQQAAAAAAAABBAAAAAAAAAEEAAAAAAAAAQQAAAAAAAABBAAAAAAAAAEEAAAAAAAAAQQAAAAAAAABBAAAAAAAAAEEA=\",\"dtype\":\"float64\",\"order\":\"little\",\"shape\":[13]},\"index\":[26,27,28,29,30,31,32,33,34,35,36,37,38]},\"selected\":{\"id\":\"2728\"},\"selection_policy\":{\"id\":\"2727\"}},\"id\":\"2709\",\"type\":\"ColumnDataSource\"},{\"attributes\":{},\"id\":\"2645\",\"type\":\"LinearScale\"},{\"attributes\":{\"overlay\":{\"id\":\"2661\"}},\"id\":\"2657\",\"type\":\"BoxZoomTool\"},{\"attributes\":{},\"id\":\"2643\",\"type\":\"LinearScale\"},{\"attributes\":{\"source\":{\"id\":\"2689\"}},\"id\":\"2695\",\"type\":\"CDSView\"},{\"attributes\":{\"source\":{\"id\":\"2670\"}},\"id\":\"2676\",\"type\":\"CDSView\"},{\"attributes\":{\"coordinates\":null,\"data_source\":{\"id\":\"2670\"},\"glyph\":{\"id\":\"2672\"},\"group\":null,\"hover_glyph\":null,\"muted_glyph\":{\"id\":\"2674\"},\"nonselection_glyph\":{\"id\":\"2673\"},\"view\":{\"id\":\"2676\"}},\"id\":\"2675\",\"type\":\"GlyphRenderer\"},{\"attributes\":{},\"id\":\"2680\",\"type\":\"AllLabels\"},{\"attributes\":{},\"id\":\"2705\",\"type\":\"UnionRenderers\"},{\"attributes\":{},\"id\":\"2660\",\"type\":\"HelpTool\"},{\"attributes\":{\"line_alpha\":0.2,\"line_cap\":\"round\",\"line_color\":\"indigo\",\"line_width\":3,\"x\":{\"field\":\"T\"},\"y\":{\"field\":\"amountCaq\"}},\"id\":\"2713\",\"type\":\"Line\"},{\"attributes\":{},\"id\":\"2655\",\"type\":\"PanTool\"},{\"attributes\":{\"axis\":{\"id\":\"2651\"},\"coordinates\":null,\"dimension\":1,\"group\":null,\"ticker\":null},\"id\":\"2654\",\"type\":\"Grid\"},{\"attributes\":{\"coordinates\":null,\"data_source\":{\"id\":\"2689\"},\"glyph\":{\"id\":\"2691\"},\"group\":null,\"hover_glyph\":null,\"muted_glyph\":{\"id\":\"2693\"},\"nonselection_glyph\":{\"id\":\"2692\"},\"view\":{\"id\":\"2695\"}},\"id\":\"2694\",\"type\":\"GlyphRenderer\"},{\"attributes\":{\"line_cap\":\"round\",\"line_color\":\"teal\",\"line_width\":3,\"x\":{\"field\":\"T\"},\"y\":{\"field\":\"amountCaq\"}},\"id\":\"2672\",\"type\":\"Line\"},{\"attributes\":{},\"id\":\"2641\",\"type\":\"DataRange1d\"},{\"attributes\":{\"line_alpha\":0.1,\"line_cap\":\"round\",\"line_color\":\"indigo\",\"line_width\":3,\"x\":{\"field\":\"T\"},\"y\":{\"field\":\"amountCaq\"}},\"id\":\"2712\",\"type\":\"Line\"},{\"attributes\":{\"data\":{\"T\":{\"__ndarray__\":\"AAAAAAAAOUAAAAAAAAA+QAAAAAAAgEFAAAAAAAAAREAAAAAAAIBGQAAAAAAAAElAAAAAAACAS0AAAAAAAABOQAAAAAAAQFBAAAAAAACAUUAAAAAAAMBSQAAAAAAAAFRAAAAAAABAVUA=\",\"dtype\":\"float64\",\"order\":\"little\",\"shape\":[13]},\"amountCaq\":{\"__ndarray__\":\"7j7yZ3yv7D+2dTkZzlLrPxSfnbj8Fuo/Z/MuG/Lv6D9DQ8cZDdHnPz9k5wEstuY/ddlYV2+p5T+Ktj4zJrLkP/U2gpIS0uM/AuTQXooI4z92dw2xBFTiP+P3ICjBsuE/g6KXM/Ei4T8=\",\"dtype\":\"float64\",\"order\":\"little\",\"shape\":[13]},\"amountNaCl\":{\"__ndarray__\":\"AAAAAAAAAEAAAAAAAAAAQAAAAAAAAABAAAAAAAAAAEAAAAAAAAAAQAAAAAAAAABAAAAAAAAAAEAAAAAAAAAAQAAAAAAAAABAAAAAAAAAAEAAAAAAAAAAQAAAAAAAAABAAAAAAAAAAEA=\",\"dtype\":\"float64\",\"order\":\"little\",\"shape\":[13]},\"index\":[13,14,15,16,17,18,19,20,21,22,23,24,25]},\"selected\":{\"id\":\"2706\"},\"selection_policy\":{\"id\":\"2705\"}},\"id\":\"2689\",\"type\":\"ColumnDataSource\"},{\"attributes\":{\"axis\":{\"id\":\"2647\"},\"coordinates\":null,\"group\":null,\"ticker\":null},\"id\":\"2650\",\"type\":\"Grid\"},{\"attributes\":{},\"id\":\"2727\",\"type\":\"UnionRenderers\"},{\"attributes\":{\"coordinates\":null,\"data_source\":{\"id\":\"2709\"},\"glyph\":{\"id\":\"2711\"},\"group\":null,\"hover_glyph\":null,\"muted_glyph\":{\"id\":\"2713\"},\"nonselection_glyph\":{\"id\":\"2712\"},\"view\":{\"id\":\"2715\"}},\"id\":\"2714\",\"type\":\"GlyphRenderer\"},{\"attributes\":{\"line_alpha\":0.2,\"line_cap\":\"round\",\"line_color\":\"darkred\",\"line_width\":3,\"x\":{\"field\":\"T\"},\"y\":{\"field\":\"amountCaq\"}},\"id\":\"2693\",\"type\":\"Line\"},{\"attributes\":{\"line_alpha\":0.1,\"line_cap\":\"round\",\"line_color\":\"teal\",\"line_width\":3,\"x\":{\"field\":\"T\"},\"y\":{\"field\":\"amountCaq\"}},\"id\":\"2673\",\"type\":\"Line\"},{\"attributes\":{\"label\":{\"value\":\"2.0 mol of NaCl\"},\"renderers\":[{\"id\":\"2694\"}]},\"id\":\"2708\",\"type\":\"LegendItem\"},{\"attributes\":{},\"id\":\"2682\",\"type\":\"BasicTickFormatter\"},{\"attributes\":{},\"id\":\"2639\",\"type\":\"DataRange1d\"},{\"attributes\":{\"label\":{\"value\":\"4.0 mol of NaCl\"},\"renderers\":[{\"id\":\"2714\"}]},\"id\":\"2730\",\"type\":\"LegendItem\"},{\"attributes\":{\"source\":{\"id\":\"2709\"}},\"id\":\"2715\",\"type\":\"CDSView\"},{\"attributes\":{\"line_alpha\":0.1,\"line_cap\":\"round\",\"line_color\":\"darkred\",\"line_width\":3,\"x\":{\"field\":\"T\"},\"y\":{\"field\":\"amountCaq\"}},\"id\":\"2692\",\"type\":\"Line\"},{\"attributes\":{\"line_cap\":\"round\",\"line_color\":\"darkred\",\"line_width\":3,\"x\":{\"field\":\"T\"},\"y\":{\"field\":\"amountCaq\"}},\"id\":\"2691\",\"type\":\"Line\"},{\"attributes\":{\"coordinates\":null,\"group\":null,\"items\":[{\"id\":\"2688\"},{\"id\":\"2708\"},{\"id\":\"2730\"}]},\"id\":\"2687\",\"type\":\"Legend\"},{\"attributes\":{},\"id\":\"2685\",\"type\":\"Selection\"},{\"attributes\":{\"bottom_units\":\"screen\",\"coordinates\":null,\"fill_alpha\":0.5,\"fill_color\":\"lightgrey\",\"group\":null,\"left_units\":\"screen\",\"level\":\"overlay\",\"line_alpha\":1.0,\"line_color\":\"black\",\"line_dash\":[4,4],\"line_width\":2,\"right_units\":\"screen\",\"syncable\":false,\"top_units\":\"screen\"},\"id\":\"2661\",\"type\":\"BoxAnnotation\"},{\"attributes\":{\"tools\":[{\"id\":\"2655\"},{\"id\":\"2656\"},{\"id\":\"2657\"},{\"id\":\"2658\"},{\"id\":\"2659\"},{\"id\":\"2660\"},{\"id\":\"2635\"}]},\"id\":\"2662\",\"type\":\"Toolbar\"},{\"attributes\":{\"axis_label\":\"TEMPERATURES [\\u00b0C]\",\"coordinates\":null,\"formatter\":{\"id\":\"2682\"},\"group\":null,\"major_label_policy\":{\"id\":\"2683\"},\"ticker\":{\"id\":\"2648\"}},\"id\":\"2647\",\"type\":\"LinearAxis\"}],\"root_ids\":[\"2636\"]},\"title\":\"Bokeh Application\",\"version\":\"2.4.2\"}};\n  const render_items = [{\"docid\":\"8546f03f-5350-436b-b5a8-3f72aae63cdc\",\"root_ids\":[\"2636\"],\"roots\":{\"2636\":\"c0e0fb50-d7a9-4b79-857c-43ab0604ae10\"}}];\n  root.Bokeh.embed.embed_items_notebook(docs_json, render_items);\n\n  }\n  if (root.Bokeh !== undefined) {\n    embed_document(root);\n  } else {\n    let attempts = 0;\n    const timer = setInterval(function(root) {\n      if (root.Bokeh !== undefined) {\n        clearInterval(timer);\n        embed_document(root);\n      } else {\n        attempts++;\n        if (attempts > 100) {\n          clearInterval(timer);\n          console.log(\"Bokeh: ERROR: Unable to run BokehJS code because BokehJS library is missing\");\n        }\n      }\n    }, 10, root)\n  }\n})(window);",
      "application/vnd.bokehjs_exec.v0+json": ""
     },
     "metadata": {
      "application/vnd.bokehjs_exec.v0+json": {
       "id": "2636"
      }
     },
     "output_type": "display_data"
    }
   ],
   "source": [
    "hovertool = HoverTool()\n",
    "hovertool.tooltips = [(\"T\", \"@T\"),\n",
    "                      (\"amount(Ca) in brine\", \"@amountCaq mol\")]\n",
    "\n",
    "p = figure(\n",
    "    title=\"SOLUBILITY OF CO2 IN NACL BRINE\",\n",
    "    x_axis_label=r'TEMPERATURES [°C]',\n",
    "    y_axis_label='AMOUNT OF DISSOLVED CO2 [MOL/KGW]',\n",
    "    sizing_mode=\"scale_width\",\n",
    "    plot_height=300)\n",
    "\n",
    "p.add_tools(hovertool)\n",
    "\n",
    "colors = ['teal', 'darkred', 'indigo', 'coral']\n",
    "for molNaCl, color in zip(molsNaCl, colors):\n",
    "    df_NaCl = ColumnDataSource(df[df['amountNaCl'] == molNaCl])\n",
    "    p.line(\"T\", \"amountCaq\", legend_label=f'{molNaCl} mol of NaCl', line_width=3, line_cap=\"round\", line_color=color, source=df_NaCl)\n",
    "\n",
    "p.legend.location = 'top_right'\n",
    "show(p)"
   ]
  },
  {
   "cell_type": "markdown",
   "source": [
    "As expected, the CO<sub>2</sub>(g)-solubility decreases with the increase of the temperature. Moreover, we see that\n",
    "the solubility of the gas drops as the brine becomes more saline (also referred as salting out effect)."
   ],
   "metadata": {
    "collapsed": false,
    "pycharm": {
     "name": "#%% md\n"
    }
   }
  }
 ],
 "metadata": {
  "kernelspec": {
   "display_name": "Python 3 (ipykernel)",
   "language": "python",
   "name": "python3"
  },
  "language_info": {
   "codemirror_mode": {
    "name": "ipython",
    "version": 3
   },
   "file_extension": ".py",
   "mimetype": "text/x-python",
   "name": "python",
   "nbconvert_exporter": "python",
   "pygments_lexer": "ipython3",
   "version": "3.9.7"
  }
 },
 "nbformat": 4,
 "nbformat_minor": 5
}