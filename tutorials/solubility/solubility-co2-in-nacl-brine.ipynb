{
 "cells": [
  {
   "cell_type": "markdown",
   "id": "a8f29c0c",
   "metadata": {
    "lines_to_next_cell": 1,
    "pycharm": {
     "name": "#%% md\n"
    }
   },
   "source": [
    "# Carbon dioxide solubility in the NaCl-brine\n",
    "\n",
    "<p class=\"acknowledgement\">Written by Svetlana Kyas (ETH Zurich) on Feb 8th, 2022</p>\n",
    "\n",
    "This tutorial demonstrates how to simulate the solubility of CO<sub>2</sub> gas in the NaCl-brine and its dependence on\n",
    "the salinity of the brine (also referred to as a salting-out effect).\n",
    "\n",
    "We start the definition of function `solubility_co2()` that calculates the solubility of CO<sub>2</sub> in the NaCl-brine\n",
    "by returning the concentration of carbon that got dissolved in the brine."
   ]
  },
  {
   "cell_type": "code",
   "execution_count": null,
   "id": "479774dc",
   "metadata": {
    "pycharm": {
     "name": "#%%\n"
    }
   },
   "outputs": [],
   "source": [
    "from reaktoro import *\n",
    "import numpy as np\n",
    "\n",
    "def solubility_co2(system, solver, T, P, mNaCl):\n",
    "\n",
    "    # Initial amount of the CO2 gas\n",
    "    n0CO2g = 10.0\n",
    "\n",
    "    # Define initial chemical state corresponding to the NaCl-brine of the given concentration\n",
    "    state = ChemicalState(system)\n",
    "    state.setTemperature(T, \"celsius\")\n",
    "    state.setPressure(P, \"bar\")\n",
    "    state.set(\"H2O\"   , 1.0   , \"kg\")\n",
    "    state.set(\"CO2(g)\", n0CO2g, \"mol\")\n",
    "    state.set(\"Na+\"   , mNaCl , \"mol\")\n",
    "    state.set(\"Cl-\"   , mNaCl , \"mol\")\n",
    "\n",
    "    # Calculate equilibrium state\n",
    "    res = solver.solve(state)\n",
    "\n",
    "    # Throw exception if the equilibrium couldn't be found\n",
    "    if not res.optima.succeeded:\n",
    "        raise RuntimeError(\"Equilibrium calculation did not succeed!\")\n",
    "\n",
    "    # Fetch resulting aqueous properties of the chemical state\n",
    "    aqprops = AqueousProps(state)\n",
    "\n",
    "    # Return concentration of the carbon in the aqueous phase\n",
    "    return aqprops.elementMolality(\"C\")[0]"
   ]
  },
  {
   "cell_type": "markdown",
   "id": "e8d91489",
   "source": [
    "The chemical system and the corresponding equilibrium solver are initialized below."
   ]
  },
  {
   "cell_type": "code",
   "execution_count": null,
   "id": "d671e6ea",
   "metadata": {},
   "outputs": [],
   "source": [
    "# Initialize a thermodynamic database\n",
    "db = PhreeqcDatabase(\"phreeqc.dat\")\n",
    "\n",
    "# Create an aqueous phase automatically selecting all species with provided elements\n",
    "aqueousphase = AqueousPhase(speciate(\"H O C Na Cl\"))\n",
    "aqueousphase.setActivityModel(chain(\n",
    "    ActivityModelHKF(),\n",
    "    ActivityModelDrummond(\"CO2\"),\n",
    "))\n",
    "\n",
    "# Create a gaseous phase\n",
    "gaseousphase = GaseousPhase(\"CO2(g)\")\n",
    "gaseousphase.setActivityModel(ActivityModelPengRobinson())\n",
    "\n",
    "phases = Phases(db)\n",
    "phases.add(aqueousphase)\n",
    "phases.add(gaseousphase)\n",
    "\n",
    "# Create the chemical system\n",
    "system = ChemicalSystem(phases)\n",
    "\n",
    "# Create the equilibrium solver\n",
    "solver = EquilibriumSolver(system)"
   ]
  },
  {
   "cell_type": "markdown",
   "id": "bc2275d5",
   "metadata": {
    "pycharm": {
     "name": "#%% md\n"
    }
   },
   "source": [
    "Finally, we define the range of temperatures and pressure for the equilibrium calculations and calculate CO<sub>2</sub>\n",
    "solubilities for the range of the temperatures and different brine concentrations."
   ]
  },
  {
   "cell_type": "code",
   "execution_count": null,
   "outputs": [],
   "source": [
    "T = np.arange(25.0, 90.0, 5.0)\n",
    "P = 100.0\n",
    "\n",
    "mCO2_nacl1 = [solubility_co2(system, solver, x, P, mNaCl=1.0) for x in T]\n",
    "mCO2_nacl2 = [solubility_co2(system, solver, x, P, mNaCl=2.0) for x in T]\n",
    "mCO2_nacl4 = [solubility_co2(system, solver, x, P, mNaCl=4.0) for x in T]\n",
    "\n",
    "# Output the results\n",
    "print(\" ----------------------------------------------------------------\")\n",
    "print(\"  CO2 solubilities w.r.t. temperatures\")\n",
    "print(\" ----------------------------------------------------------------\")\n",
    "print(\"   T    1 mol NaCl-brine   2 mol NaCl-brine   4 mol NaCl-brine\")\n",
    "for i in range(len(T)):\n",
    "    print(f\"{T[i]:4.0f}  {mCO2_nacl1[i]:18.4f} {mCO2_nacl2[i]:18.4f} {mCO2_nacl4[i]:18.4f}\")"
   ]
  },
  {
   "cell_type": "markdown",
   "id": "2563a4d2",
   "source": [
    "Below, we plot the solubility of CO<sub>2</sub>(g) as a function of pressure for different salinities of NaCl-brine.\n",
    "As expected, the CO<sub>2</sub>(g)-solubility decreases with the increase of the temperature. Moreover, we see that\n",
    "the solubility of the gas drops as the brine becomes more saline."
   ]
  },
  {
   "cell_type": "code",
   "execution_count": null,
   "id": "9c97c986",
   "metadata": {
    "pycharm": {
     "name": "#%%\n"
    }
   },
   "outputs": [],
   "source": [
    "import matplotlib.pyplot as plt\n",
    "fig, ax = plt.subplots()\n",
    "ax.plot(T, mCO2_nacl1, label=f\"1 NaCl molal\")\n",
    "ax.plot(T, mCO2_nacl2, label=f\"2 NaCl molal\")\n",
    "ax.plot(T, mCO2_nacl4, label=f\"4 NaCl molal\")\n",
    "ax.legend(loc=\"best\")\n",
    "ax.grid(True)\n",
    "ax.set(xlabel=r'Temperatures [$^\\circ$]')\n",
    "ax.set(ylabel='Solubility [mol/kgw]')\n",
    "ax.set(title='Solubility of CO2 in NaCl brine, P = ' + str(P) + ' bar');"
   ]
  }
 ],
 "metadata": {
  "kernelspec": {
   "display_name": "Python 3 (ipykernel)",
   "language": "python",
   "name": "python3"
  },
  "language_info": {
   "codemirror_mode": {
    "name": "ipython",
    "version": 3
   },
   "file_extension": ".py",
   "mimetype": "text/x-python",
   "name": "python",
   "nbconvert_exporter": "python",
   "pygments_lexer": "ipython3",
   "version": "3.9.7"
  }
 },
 "nbformat": 4,
 "nbformat_minor": 5
}
