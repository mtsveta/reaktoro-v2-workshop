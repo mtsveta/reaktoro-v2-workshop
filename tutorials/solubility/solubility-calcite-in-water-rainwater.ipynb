{
 "cells": [
  {
   "cell_type": "markdown",
   "metadata": {},
   "source": [
    "# Calcite solubility in water and CO<sub>2</sub>-saturated rainwater\n",
    "\n",
    "<p class=\"acknowledgement\">Written by Svetlana Kyas (ETH Zurich) on Feb 8th, 2022</p>\n",
    "\n",
    "In this tutorial, we investigate the dependence of calcite solubility in water (closed system) and carbon-dioxide\n",
    "saturated rainwater (open system) on temperature and pressure change.\n",
    "\n",
    "First, we initialize chemical system with aqueous, gaseous, and calcite phases."
   ]
  },
  {
   "cell_type": "code",
   "execution_count": 1,
   "metadata": {
    "lines_to_next_cell": 1
   },
   "outputs": [],
   "source": [
    "from reaktoro import *\n",
    "import numpy as np\n",
    "import matplotlib.pyplot as plt\n",
    "import math\n",
    "\n",
    "# Create the database\n",
    "db = SupcrtDatabase(\"supcrtbl\")\n",
    "\n",
    "# Create an aqueous phase automatically selecting all species with provided elements\n",
    "aqueousphase = AqueousPhase(speciate(\"H O C Ca Mg K Cl Na S N\"))\n",
    "aqueousphase.setActivityModel(chain(\n",
    "    ActivityModelHKF(),\n",
    "    ActivityModelDrummond(\"CO2\"),\n",
    "))\n",
    "\n",
    "# Create a gaseous phase\n",
    "gaseousphase = GaseousPhase(\"CO2(g)\")\n",
    "gaseousphase.setActivityModel(ActivityModelPengRobinson())\n",
    "\n",
    "# Create a mineral phase\n",
    "mineral = MineralPhase(\"Calcite\")\n",
    "\n",
    "# Create the chemical system\n",
    "system = ChemicalSystem(db, aqueousphase, gaseousphase, mineral)"
   ]
  },
  {
   "cell_type": "markdown",
   "metadata": {
    "pycharm": {
     "name": "#%% md\n"
    }
   },
   "source": [
    "Next, we set up equilibrium specifications, equilibrium conditions, and equilibrium solver all to be used for the\n",
    "equilibrium calculations. In order to constrain the charge of the chemical state, we need to make it open to the\n",
    "Cl<sup>-</sup>. Finally, we create aqueous properties to evaluate pH in the forthcoming calculations."
   ]
  },
  {
   "cell_type": "code",
   "execution_count": 3,
   "metadata": {
    "pycharm": {
     "name": "#%%\n"
    }
   },
   "outputs": [],
   "source": [
    "# Define equilibrium specs\n",
    "specs = EquilibriumSpecs (system)\n",
    "specs.temperature()\n",
    "specs.pressure()\n",
    "specs.charge()\n",
    "specs.openTo(\"Cl-\")\n",
    "\n",
    "# Define equilibrium conditions to be satisfied at chemical equilibrium\n",
    "conditions = EquilibriumConditions(specs)\n",
    "conditions.charge(0.0, \"mol\") # to make sure the mixture is neutral\n",
    "\n",
    "# Define equilibrium solver\n",
    "solver = EquilibriumSolver(specs)\n",
    "\n",
    "# Define aqueous properties\n",
    "aprops = AqueousProps(system)"
   ]
  },
  {
   "cell_type": "markdown",
   "metadata": {},
   "source": [
    "Function below defines the chemical states corresponding to the pure water (also referred as a closed system):"
   ]
  },
  {
   "cell_type": "code",
   "execution_count": 5,
   "metadata": {
    "pycharm": {
     "name": "#%%\n"
    }
   },
   "outputs": [],
   "source": [
    "def water():\n",
    "\n",
    "    state = ChemicalState(system)\n",
    "    state.add(\"H2O(aq)\", 1.0, \"kg\")\n",
    "\n",
    "    return state"
   ]
  },
  {
   "cell_type": "markdown",
   "source": [
    "The function `rainwater()` defines the chemical state corresponding to rainwater saturated with carbon-dioxide:"
   ],
   "metadata": {
    "collapsed": false
   }
  },
  {
   "cell_type": "code",
   "execution_count": 7,
   "metadata": {
    "pycharm": {
     "name": "#%%\n"
    }
   },
   "outputs": [],
   "source": [
    "def rainwater():\n",
    "\n",
    "    state = ChemicalState(system)\n",
    "    # Rainwater composition\n",
    "    state.set(\"H2O(aq)\"    , 1.0, \"kg\")\n",
    "    state.set(\"Na+\"    , 2.05, \"mg\") # Sodium, 2.05 ppm = 2.05 mg/L ~ 2.05 mg/kgw\n",
    "    state.set(\"K+\"     , 0.35, \"mg\") # Potassium\n",
    "    state.set(\"Ca+2\"   , 1.42, \"mg\") # Calcium\n",
    "    state.set(\"Mg+2\"   , 0.39, \"mg\") # Magnesium\n",
    "    state.set(\"Cl-\"    , 3.47, \"mg\") # Chloride\n",
    "    state.set(\"SO4-2\"  , 2.19, \"mg\")\n",
    "    state.set(\"NO3-\"   , 0.27, \"mg\")\n",
    "    state.set(\"NH4+\"   , 0.41, \"mg\")\n",
    "    state.set(\"CO2(aq)\", 0.36, \"mol\")  # rainwater is saturated with CO2\n",
    "\n",
    "    return state"
   ]
  },
  {
   "cell_type": "markdown",
   "metadata": {},
   "source": [
    "Finally, we initialize the array of temperatures from 20 &deg;C till 90 &deg;C and calculate solubilities of calcite\n",
    "in water and CO<sub>2</sub>-saturated rainwater for pressure P = 1 bar. Function `solubility_of_calcite()` numerically\n",
    "models chemical equilibrium of 10 mol calcite with a given solute (defined by the input instance `state`):"
   ]
  },
  {
   "cell_type": "code",
   "execution_count": 8,
   "metadata": {},
   "outputs": [],
   "source": [
    "temperatures = np.arange(20.0, 91.0, 5.0)\n",
    "\n",
    "def solubility_of_calcite(state, T, P):\n",
    "\n",
    "    # Initial amount of calcite\n",
    "    n0Calcite = 10.0\n",
    "\n",
    "    conditions.temperature(T, \"celsius\")\n",
    "    conditions.pressure(P, \"bar\")\n",
    "\n",
    "    # Equilibrate the solution given by the chemical state and conditions\n",
    "    res = solver.solve(state, conditions)\n",
    "\n",
    "    # If solver didn't succeed return nan\n",
    "    if not res.optima.succeeded:\n",
    "        print(f\"Equilibrium calculations didn't succeed for {T} C and {P} bar.\")\n",
    "        math.nan\n",
    "\n",
    "    # Add `n0Calcite` amount of calcite\n",
    "    state.set(\"Calcite\", n0Calcite, \"mol\")\n",
    "\n",
    "    # Equilibrate solution with added calcite\n",
    "    res = solver.solve(state)\n",
    "\n",
    "    # If solver didn't succeed return nan\n",
    "    if not res.optima.succeeded:\n",
    "        math.nan\n",
    "\n",
    "    # Update aqueous properties\n",
    "    aprops.update(state)\n",
    "\n",
    "    # Calculate pH of the current state\n",
    "    print(f\"T = {T} C: \"\n",
    "          f\"ph = {aprops.pH()[0]:.2f}\")\n",
    "\n",
    "    # Fetch the amount of final calcite in the equilibrium state\n",
    "    nCalcite = state.speciesAmount(\"Calcite\")[0]\n",
    "\n",
    "    # Return the difference between the initially added and remaining calcite\n",
    "    return n0Calcite - nCalcite"
   ]
  },
  {
   "cell_type": "markdown",
   "metadata": {
    "pycharm": {
     "name": "#%% md\n"
    }
   },
   "source": [
    "First, we investigate solubilities of calcite for P = 1."
   ]
  },
  {
   "cell_type": "code",
   "execution_count": 10,
   "metadata": {},
   "outputs": [
    {
     "name": "stdout",
     "output_type": "stream",
     "text": [
      "Solubility in water (closed system) for P = 1:\n",
      "T = 20.0 C: ph = 10.01\n",
      "T = 25.0 C: ph = 9.88\n",
      "T = 30.0 C: ph = 9.76\n",
      "T = 35.0 C: ph = 9.64\n",
      "T = 40.0 C: ph = 9.53\n",
      "T = 45.0 C: ph = 9.42\n",
      "T = 50.0 C: ph = 9.31\n",
      "T = 55.0 C: ph = 9.21\n",
      "T = 60.0 C: ph = 9.11\n",
      "T = 65.0 C: ph = 9.01\n",
      "T = 70.0 C: ph = 8.92\n",
      "T = 75.0 C: ph = 8.83\n",
      "T = 80.0 C: ph = 8.74\n",
      "T = 85.0 C: ph = 8.66\n",
      "T = 90.0 C: ph = 8.57\n",
      "Solubility in rainwater for P = 1:\n",
      "T = 20.0 C: ph = 5.98\n",
      "T = 25.0 C: ph = 5.97\n",
      "T = 30.0 C: ph = 5.97\n",
      "T = 35.0 C: ph = 5.96\n",
      "T = 40.0 C: ph = 5.96\n",
      "T = 45.0 C: ph = 5.96\n",
      "T = 50.0 C: ph = 5.95\n",
      "T = 55.0 C: ph = 5.95\n",
      "T = 60.0 C: ph = 5.95\n",
      "T = 65.0 C: ph = 5.95\n",
      "T = 70.0 C: ph = 5.95\n",
      "T = 75.0 C: ph = 5.95\n",
      "T = 80.0 C: ph = 5.95\n",
      "T = 85.0 C: ph = 5.95\n",
      "T = 90.0 C: ph = 5.95\n"
     ]
    }
   ],
   "source": [
    "P = 1.0 # in bar\n",
    "print(f\"Solubility in water (closed system) for P = 1:\")\n",
    "delta_calcite_water_P1 = [solubility_of_calcite(water(), T, P) for T in temperatures]\n",
    "print(f\"Solubility in rainwater for P = 1:\")\n",
    "delta_calcite_rainwater_P1 = [solubility_of_calcite(rainwater(), T, P) for T in temperatures]"
   ]
  },
  {
   "cell_type": "markdown",
   "metadata": {},
   "source": [
    "Let us check if the obtained value for 25 &deg;C (second element of the list `delta_calcite_water_P1`) corresponds to the\n",
    "values of Wikipedia, i.e., the solubility in water equals to 0.013 g/L (25 &deg;C). Below, we use 100.0869 g/mol as\n",
    "the calcite molar mass:"
   ]
  },
  {
   "cell_type": "code",
   "execution_count": 11,
   "metadata": {},
   "outputs": [
    {
     "name": "stdout",
     "output_type": "stream",
     "text": [
      "Solubility of calcite in water (closed system) equals to 0.000116 mol/kgw = ... = 0.011592 g/L\n"
     ]
    }
   ],
   "source": [
    "print(f\"Solubility of calcite in water (closed system) equals to {delta_calcite_water_P1[1]:.6f} mol/kgw = ... = \"\n",
    "      f\"{delta_calcite_water_P1[1] * 0.1000869 * 1e3:.6f} g/L\")"
   ]
  },
  {
   "cell_type": "markdown",
   "metadata": {},
   "source": [
    "Thus, in the closed system (with the pure water), approximately 0.116 mmol of calcite dissolve.\n",
    "The amount of calcite that dissolves is independent of the initial value (provided that it exceeds the solubility\n",
    "limit)."
   ]
  },
  {
   "cell_type": "markdown",
   "metadata": {},
   "source": [
    "Next, we calculate solubilities of calcite in water and CO<sub>2</sub>-saturated rainwater for pressure P = 100 bar."
   ]
  },
  {
   "cell_type": "code",
   "execution_count": 12,
   "metadata": {},
   "outputs": [
    {
     "name": "stdout",
     "output_type": "stream",
     "text": [
      "Solubility in water (closed system) for P = 100:\n",
      "T = 20.0 C: ph = 10.00\n",
      "T = 25.0 C: ph = 9.87\n",
      "T = 30.0 C: ph = 9.75\n",
      "T = 35.0 C: ph = 9.63\n",
      "T = 40.0 C: ph = 9.52\n",
      "T = 45.0 C: ph = 9.41\n",
      "T = 50.0 C: ph = 9.30\n",
      "T = 55.0 C: ph = 9.20\n",
      "T = 60.0 C: ph = 9.10\n",
      "T = 65.0 C: ph = 9.00\n",
      "T = 70.0 C: ph = 8.91\n",
      "T = 75.0 C: ph = 8.82\n",
      "T = 80.0 C: ph = 8.73\n",
      "T = 85.0 C: ph = 8.65\n",
      "T = 90.0 C: ph = 8.57\n",
      "Solubility in rainwater (open system) for P = 100:\n",
      "T = 20.0 C: ph = 5.38\n",
      "T = 25.0 C: ph = 5.33\n",
      "T = 30.0 C: ph = 5.29\n",
      "T = 35.0 C: ph = 5.25\n",
      "T = 40.0 C: ph = 5.21\n",
      "T = 45.0 C: ph = 5.18\n",
      "T = 50.0 C: ph = 5.15\n",
      "T = 55.0 C: ph = 5.12\n",
      "T = 60.0 C: ph = 5.10\n",
      "T = 65.0 C: ph = 5.08\n",
      "T = 70.0 C: ph = 5.06\n",
      "T = 75.0 C: ph = 5.04\n",
      "T = 80.0 C: ph = 5.02\n",
      "T = 85.0 C: ph = 5.01\n",
      "T = 90.0 C: ph = 5.00\n"
     ]
    }
   ],
   "source": [
    "P = 100.0 # in bar\n",
    "print(f\"Solubility in water (closed system) for P = 100:\")\n",
    "delta_calcite_water_P100 = [solubility_of_calcite(water(), T, P) for T in temperatures]\n",
    "print(f\"Solubility in rainwater (open system) for P = 100:\")\n",
    "delta_calcite_rainwater_P100 = [solubility_of_calcite(rainwater(), T, P) for T in temperatures]"
   ]
  },
  {
   "cell_type": "markdown",
   "metadata": {},
   "source": [
    "Plot solubilities of calcite in water and CO<sub>2</sub>-saturated rainwater for pressure P = 1:"
   ]
  },
  {
   "cell_type": "code",
   "execution_count": 13,
   "metadata": {},
   "outputs": [
    {
     "data": {
      "image/png": "[encoded data removed]",
      "text/plain": [
       "<Figure size 432x288 with 1 Axes>"
      ]
     },
     "metadata": {
      "needs_background": "light"
     },
     "output_type": "display_data"
    }
   ],
   "source": [
    "fig, ax = plt.subplots()\n",
    "ax.plot(temperatures, delta_calcite_water_P1, label=f\"Calcite in water\", color='C1')\n",
    "ax.plot(temperatures, delta_calcite_rainwater_P1, label=f\"Calcite in rainwater\", color='C3')\n",
    "ax.legend(loc=\"upper right\")\n",
    "ax.set(xlabel=r'Temperature [$^\\circ$C]',\n",
    "       ylabel='Solubility [mol/kgw]',\n",
    "       title='Comparison of calcite solubility')\n",
    "ax.grid()"
   ]
  },
  {
   "cell_type": "markdown",
   "metadata": {},
   "source": [
    "The plot illustrates that calcium carbonate has very low solubility in pure water, but in rainwater saturated with\n",
    "carbon dioxide, its solubility increases due to the formation of more soluble calcium bicarbonate. Below, we plot\n",
    "solubilities on the different scales and for different pressure. We see below that increasing pressure also increases\n",
    "the solubility of calcium carbonate."
   ]
  },
  {
   "cell_type": "code",
   "execution_count": 14,
   "metadata": {
    "pycharm": {
     "name": "#%%\n"
    }
   },
   "outputs": [
    {
     "name": "stdout",
     "output_type": "stream",
     "text": [
      "The history saving thread hit an unexpected error (OperationalError('database is locked')).History will not be written to the database.\n"
     ]
    },
    {
     "data": {
      "image/png": "[encoded data removed]",
      "text/plain": [
       "<Figure size 432x288 with 2 Axes>"
      ]
     },
     "metadata": {
      "needs_background": "light"
     },
     "output_type": "display_data"
    }
   ],
   "source": [
    "fig, (ax1, ax2) = plt.subplots(2, 1)\n",
    "\n",
    "ax1.plot(temperatures, delta_calcite_water_P100, label=\"P = 100\", color='C2')\n",
    "ax1.plot(temperatures, delta_calcite_water_P1, label=\"P = 1\", color='C1')\n",
    "ax1.legend(loc=\"best\")\n",
    "ax1.set_title('Calcite in water')\n",
    "ax1.grid()\n",
    "ax1.set_ylabel('Solubility [mol/kgw]')\n",
    "\n",
    "ax2.plot(temperatures, delta_calcite_rainwater_P100, label=f\"P = 100\", color='C4')\n",
    "ax2.plot(temperatures, delta_calcite_rainwater_P1, label=f\"P = 1\", color='C3')\n",
    "ax2.set_title('Calcite in rainwater')\n",
    "ax2.legend(loc=\"best\")\n",
    "ax2.grid()\n",
    "ax2.set_ylabel('Solubility [mol/kgw]')\n",
    "ax2.set_xlabel(r'Temperature [$^\\circ$C]')\n",
    "\n",
    "fig.tight_layout()"
   ]
  }
 ],
 "metadata": {
  "kernelspec": {
   "display_name": "Python 3 (ipykernel)",
   "language": "python",
   "name": "python3"
  },
  "language_info": {
   "codemirror_mode": {
    "name": "ipython",
    "version": 3
   },
   "file_extension": ".py",
   "mimetype": "text/x-python",
   "name": "python",
   "nbconvert_exporter": "python",
   "pygments_lexer": "ipython3",
   "version": "3.9.7"
  }
 },
 "nbformat": 4,
 "nbformat_minor": 4
}