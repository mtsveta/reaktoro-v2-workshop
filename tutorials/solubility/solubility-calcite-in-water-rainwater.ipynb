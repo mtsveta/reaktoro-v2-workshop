{
 "cells": [
  {
   "cell_type": "markdown",
   "metadata": {},
   "source": [
    "# Calcite solubility in water and CO<sub>2</sub>-saturated rainwater\n",
    "\n",
    "In this tutorial, we investigate the dependence of calcite solubility in water (closed system) and carbon-dioxide saturated rainwater (open system) on temperature and pressure change. We also study calcite solubility trends, when adding carbon dioxide into the system.\n",
    "\n",
    "First, we initialize chemical system with aqueous, gaseous, and calcite phases."
   ]
  },
  {
   "cell_type": "code",
   "execution_count": 5,
   "metadata": {
    "lines_to_next_cell": 1
   },
   "outputs": [],
   "source": [
    "from reaktoro import *\n",
    "import numpy as np\n",
    "import pandas as pd\n",
    "\n",
    "# Create the database\n",
    "db = SupcrtDatabase(\"supcrtbl\")\n",
    "\n",
    "# Create an aqueous phase automatically selecting all species with provided elements\n",
    "aqueousphase = AqueousPhase(speciate(\"H O C Ca Mg K Cl Na S N\"))\n",
    "aqueousphase.setActivityModel(chain(\n",
    "    ActivityModelHKF(),\n",
    "    ActivityModelDrummond(\"CO2\"),\n",
    "))\n",
    "\n",
    "# Create a gaseous phase\n",
    "gaseousphase = GaseousPhase(\"CO2(g)\")\n",
    "gaseousphase.setActivityModel(ActivityModelPengRobinson())\n",
    "\n",
    "# Create a mineral phase\n",
    "mineral = MineralPhase(\"Calcite\")\n",
    "\n",
    "# Create the chemical system\n",
    "system = ChemicalSystem(db, aqueousphase, gaseousphase, mineral)"
   ]
  },
  {
   "cell_type": "markdown",
   "metadata": {
    "pycharm": {
     "name": "#%% md\n"
    }
   },
   "source": [
    "Next, we set up equilibrium specifications, equilibrium conditions, and equilibrium solver all to be used for the\n",
    "equilibrium calculations. In order to constrain the charge of the chemical state, we need to make it open to the\n",
    "Cl<sup>-</sup>. Finally, we create aqueous properties to evaluate pH in the forthcoming calculations."
   ]
  },
  {
   "cell_type": "code",
   "execution_count": 6,
   "metadata": {
    "pycharm": {
     "name": "#%%\n"
    }
   },
   "outputs": [],
   "source": [
    "# Define equilibrium specs\n",
    "specs = EquilibriumSpecs (system)\n",
    "specs.temperature()\n",
    "specs.pressure()\n",
    "specs.charge()\n",
    "specs.openTo(\"Cl-\")\n",
    "\n",
    "# Define equilibrium conditions to be satisfied at chemical equilibrium\n",
    "conditions = EquilibriumConditions(specs)\n",
    "conditions.charge(0.0, \"mol\") # to make sure the mixture is neutral\n",
    "\n",
    "# Define equilibrium solver\n",
    "solver = EquilibriumSolver(specs)\n",
    "\n",
    "# Define aqueous properties\n",
    "aprops = AqueousProps(system)"
   ]
  },
  {
   "cell_type": "markdown",
   "metadata": {},
   "source": [
    "Functions below define the chemical states corresponding to the pure water (also referred as a closed system), rainwater saturated with carbon-dioxide, and seawater, respectively:"
   ]
  },
  {
   "cell_type": "code",
   "execution_count": 7,
   "metadata": {
    "pycharm": {
     "name": "#%%\n"
    }
   },
   "outputs": [],
   "source": [
    "def water():\n",
    "\n",
    "    state = ChemicalState(system)\n",
    "    state.add(\"H2O(aq)\", 1.0, \"kg\")\n",
    "\n",
    "    return state\n",
    "\n",
    "def rainwater():\n",
    "\n",
    "    state = ChemicalState(system)\n",
    "    # Rainwater composition\n",
    "    state.set(\"H2O(aq)\", 1.0, \"kg\")\n",
    "    state.set(\"Na+\"    , 2.05, \"mg\") # Sodium, 2.05 ppm = 2.05 mg/L ~ 2.05 mg/kgw\n",
    "    state.set(\"K+\"     , 0.35, \"mg\") # Potassium\n",
    "    state.set(\"Ca+2\"   , 1.42, \"mg\") # Calcium\n",
    "    state.set(\"Mg+2\"   , 0.39, \"mg\") # Magnesium\n",
    "    state.set(\"Cl-\"    , 3.47, \"mg\") # Chloride\n",
    "    state.set(\"SO4-2\"  , 2.19, \"mg\")\n",
    "    state.set(\"NO3-\"   , 0.27, \"mg\")\n",
    "    state.set(\"NH4+\"   , 0.41, \"mg\")\n",
    "    state.set(\"CO2(aq)\", 0.36, \"mol\")  # rainwater is saturated with CO2\n",
    "\n",
    "    return state\n",
    "\n",
    "def seawater():\n",
    "\n",
    "    state = ChemicalState(system)\n",
    "    # Seawater composition\n",
    "    state.setTemperature(25, \"celsius\")\n",
    "    state.setPressure(1.0, \"bar\")\n",
    "    state.add(\"H2O(aq)\",     1.0, \"kg\")\n",
    "    state.add(\"Ca+2\"   ,   412.3, \"mg\")\n",
    "    state.add(\"Mg+2\"   ,  1290.0, \"mg\")\n",
    "    state.add(\"Na+\"    , 10768.0, \"mg\")\n",
    "    state.add(\"K+\"     ,   399.1, \"mg\")\n",
    "    state.add(\"Cl-\"    , 19353.0, \"mg\")\n",
    "    state.add(\"HCO3-\"  ,   141.7, \"mg\")\n",
    "    state.add(\"SO4-2\"  ,  2712.0, \"mg\")\n",
    "\n",
    "    return state"
   ]
  },
  {
   "cell_type": "markdown",
   "metadata": {},
   "source": [
    "## Solubility of calcite for different temperatures and pressures\n",
    "\n",
    "Next, we initialize the array of temperatures from 20 &deg;C till 90 &deg;C and calculate solubilities of calcite in water and CO<sub>2</sub>-saturated rainwater for pressures P = 1, 10, 100 bar."
   ]
  },
  {
   "cell_type": "code",
   "execution_count": 12,
   "metadata": {},
   "outputs": [],
   "source": [
    "temperatures = np.arange(20.0, 91.0, 5.0)   # in celsius\n",
    "pressures = np.array([1, 10, 100])          # in bar\n",
    "\n",
    "df_water = pd.DataFrame(columns=[\"T\", \"P\", \"pH\", \"deltaCalcite\"])\n",
    "df_rainwater = pd.DataFrame(columns=[\"T\", \"P\", \"pH\", \"deltaCalcite\"])\n",
    "\n",
    "def solubility_of_calcite(state, T, P, tag):\n",
    "\n",
    "    # Initial amount of calcite\n",
    "    n0Calcite = 10.0\n",
    "\n",
    "    conditions.temperature(T, \"celsius\")\n",
    "    conditions.pressure(P, \"bar\")\n",
    "\n",
    "    # Equilibrate the solution given by the chemical state and conditions\n",
    "    res = solver.solve(state, conditions)\n",
    "\n",
    "    # Add `n0Calcite` amount of calcite\n",
    "    state.set(\"Calcite\", n0Calcite, \"mol\")\n",
    "\n",
    "    # Equilibrate solution with added calcite\n",
    "    res = solver.solve(state)\n",
    "\n",
    "    # Update aqueous properties\n",
    "    aprops.update(state)\n",
    "\n",
    "    # Fetch the amount of final calcite in the equilibrium state\n",
    "    nCalcite = float(state.speciesAmount(\"Calcite\"))\n",
    "\n",
    "    if tag == \"water\":\n",
    "        df_water.loc[len(df_water)] = [T, P, float(aprops.pH()), n0Calcite - nCalcite]\n",
    "    elif tag == \"rainwater\":\n",
    "        df_rainwater.loc[len(df_rainwater)] = [T, P, float(aprops.pH()), n0Calcite - nCalcite]\n",
    "\n",
    "for T in temperatures:\n",
    "    for P in pressures:\n",
    "        solubility_of_calcite(water(), T, P, \"water\")\n",
    "        solubility_of_calcite(rainwater(), T, P, \"rainwater\")"
   ]
  },
  {
   "cell_type": "markdown",
   "metadata": {},
   "source": [
    "Let us check if the obtained value of solubility for 25 &deg;C and 1 bar indeed corresponds to the values of Wikipedia, i.e., the solubility in water equals to 0.013 g/L (25 &deg;C). Below, we use 100.0869 g/mol as the calcite molar mass:"
   ]
  },
  {
   "cell_type": "code",
   "execution_count": 28,
   "metadata": {},
   "outputs": [
    {
     "name": "stdout",
     "output_type": "stream",
     "text": [
      "Solubility of calcite in water (closed system) equals to -0.000116 mol/kgw = ... = -0.011592 g/L\n"
     ]
    }
   ],
   "source": [
    "df_water_25C = df_water[df_water['T'] == 25.0] # fetch data corresponding to T = 25 celsius\n",
    "df_water_25C_P1 = df_water_25C[df_water_25C['P'] == 1.0] # fetch data corresponding to T = 25 celsius and P = 1 bar\n",
    "deltaCalcite = df_water_25C_P1['deltaCalcite'].iloc[0]\n",
    "print(f\"Solubility of calcite in water (closed system) equals to {deltaCalcite:.6f} \"\n",
    "      f\"mol/kgw = ... = {deltaCalcite * 0.1000869 * 1e3:.6f} g/L\")"
   ]
  },
  {
   "cell_type": "markdown",
   "metadata": {},
   "source": [
    "Thus, in the closed system (with the pure water), approximately 0.116 mmol of calcite dissolve.\n",
    "The amount of calcite that dissolves is independent of the initial value (provided that it exceeds the solubility\n",
    "limit)."
   ]
  },
  {
   "cell_type": "markdown",
   "metadata": {},
   "source": [
    "We plot using [bokeh](https://bokeh.org/) python library. We start from solubilities of calcite in water and CO<sub>2</sub>-saturated rainwater for pressure P = 1:"
   ]
  },
  {
   "cell_type": "code",
   "execution_count": 30,
   "metadata": {},
   "outputs": [
    {
     "data": {
      "text/html": "\n    <div class=\"bk-root\">\n        <a href=\"https://bokeh.org\" target=\"_blank\" class=\"bk-logo bk-logo-small bk-logo-notebook\"></a>\n        <span id=\"1322\">Loading BokehJS ...</span>\n    </div>"
     },
     "metadata": {},
     "output_type": "display_data"
    },
    {
     "data": {
      "application/javascript": "\n(function(root) {\n  function now() {\n    return new Date();\n  }\n\n  const force = true;\n\n  if (typeof root._bokeh_onload_callbacks === \"undefined\" || force === true) {\n    root._bokeh_onload_callbacks = [];\n    root._bokeh_is_loading = undefined;\n  }\n\n  const JS_MIME_TYPE = 'application/javascript';\n  const HTML_MIME_TYPE = 'text/html';\n  const EXEC_MIME_TYPE = 'application/vnd.bokehjs_exec.v0+json';\n  const CLASS_NAME = 'output_bokeh rendered_html';\n\n  /**\n   * Render data to the DOM node\n   */\n  function render(props, node) {\n    const script = document.createElement(\"script\");\n    node.appendChild(script);\n  }\n\n  /**\n   * Handle when an output is cleared or removed\n   */\n  function handleClearOutput(event, handle) {\n    const cell = handle.cell;\n\n    const id = cell.output_area._bokeh_element_id;\n    const server_id = cell.output_area._bokeh_server_id;\n    // Clean up Bokeh references\n    if (id != null && id in Bokeh.index) {\n      Bokeh.index[id].model.document.clear();\n      delete Bokeh.index[id];\n    }\n\n    if (server_id !== undefined) {\n      // Clean up Bokeh references\n      const cmd_clean = \"from bokeh.io.state import curstate; print(curstate().uuid_to_server['\" + server_id + \"'].get_sessions()[0].document.roots[0]._id)\";\n      cell.notebook.kernel.execute(cmd_clean, {\n        iopub: {\n          output: function(msg) {\n            const id = msg.content.text.trim();\n            if (id in Bokeh.index) {\n              Bokeh.index[id].model.document.clear();\n              delete Bokeh.index[id];\n            }\n          }\n        }\n      });\n      // Destroy server and session\n      const cmd_destroy = \"import bokeh.io.notebook as ion; ion.destroy_server('\" + server_id + \"')\";\n      cell.notebook.kernel.execute(cmd_destroy);\n    }\n  }\n\n  /**\n   * Handle when a new output is added\n   */\n  function handleAddOutput(event, handle) {\n    const output_area = handle.output_area;\n    const output = handle.output;\n\n    // limit handleAddOutput to display_data with EXEC_MIME_TYPE content only\n    if ((output.output_type != \"display_data\") || (!Object.prototype.hasOwnProperty.call(output.data, EXEC_MIME_TYPE))) {\n      return\n    }\n\n    const toinsert = output_area.element.find(\".\" + CLASS_NAME.split(' ')[0]);\n\n    if (output.metadata[EXEC_MIME_TYPE][\"id\"] !== undefined) {\n      toinsert[toinsert.length - 1].firstChild.textContent = output.data[JS_MIME_TYPE];\n      // store reference to embed id on output_area\n      output_area._bokeh_element_id = output.metadata[EXEC_MIME_TYPE][\"id\"];\n    }\n    if (output.metadata[EXEC_MIME_TYPE][\"server_id\"] !== undefined) {\n      const bk_div = document.createElement(\"div\");\n      bk_div.innerHTML = output.data[HTML_MIME_TYPE];\n      const script_attrs = bk_div.children[0].attributes;\n      for (let i = 0; i < script_attrs.length; i++) {\n        toinsert[toinsert.length - 1].firstChild.setAttribute(script_attrs[i].name, script_attrs[i].value);\n        toinsert[toinsert.length - 1].firstChild.textContent = bk_div.children[0].textContent\n      }\n      // store reference to server id on output_area\n      output_area._bokeh_server_id = output.metadata[EXEC_MIME_TYPE][\"server_id\"];\n    }\n  }\n\n  function register_renderer(events, OutputArea) {\n\n    function append_mime(data, metadata, element) {\n      // create a DOM node to render to\n      const toinsert = this.create_output_subarea(\n        metadata,\n        CLASS_NAME,\n        EXEC_MIME_TYPE\n      );\n      this.keyboard_manager.register_events(toinsert);\n      // Render to node\n      const props = {data: data, metadata: metadata[EXEC_MIME_TYPE]};\n      render(props, toinsert[toinsert.length - 1]);\n      element.append(toinsert);\n      return toinsert\n    }\n\n    /* Handle when an output is cleared or removed */\n    events.on('clear_output.CodeCell', handleClearOutput);\n    events.on('delete.Cell', handleClearOutput);\n\n    /* Handle when a new output is added */\n    events.on('output_added.OutputArea', handleAddOutput);\n\n    /**\n     * Register the mime type and append_mime function with output_area\n     */\n    OutputArea.prototype.register_mime_type(EXEC_MIME_TYPE, append_mime, {\n      /* Is output safe? */\n      safe: true,\n      /* Index of renderer in `output_area.display_order` */\n      index: 0\n    });\n  }\n\n  // register the mime type if in Jupyter Notebook environment and previously unregistered\n  if (root.Jupyter !== undefined) {\n    const events = require('base/js/events');\n    const OutputArea = require('notebook/js/outputarea').OutputArea;\n\n    if (OutputArea.prototype.mime_types().indexOf(EXEC_MIME_TYPE) == -1) {\n      register_renderer(events, OutputArea);\n    }\n  }\n\n  \n  if (typeof (root._bokeh_timeout) === \"undefined\" || force === true) {\n    root._bokeh_timeout = Date.now() + 5000;\n    root._bokeh_failed_load = false;\n  }\n\n  const NB_LOAD_WARNING = {'data': {'text/html':\n     \"<div style='background-color: #fdd'>\\n\"+\n     \"<p>\\n\"+\n     \"BokehJS does not appear to have successfully loaded. If loading BokehJS from CDN, this \\n\"+\n     \"may be due to a slow or bad network connection. Possible fixes:\\n\"+\n     \"</p>\\n\"+\n     \"<ul>\\n\"+\n     \"<li>re-rerun `output_notebook()` to attempt to load from CDN again, or</li>\\n\"+\n     \"<li>use INLINE resources instead, as so:</li>\\n\"+\n     \"</ul>\\n\"+\n     \"<code>\\n\"+\n     \"from bokeh.resources import INLINE\\n\"+\n     \"output_notebook(resources=INLINE)\\n\"+\n     \"</code>\\n\"+\n     \"</div>\"}};\n\n  function display_loaded() {\n    const el = document.getElementById(\"1322\");\n    if (el != null) {\n      el.textContent = \"BokehJS is loading...\";\n    }\n    if (root.Bokeh !== undefined) {\n      if (el != null) {\n        el.textContent = \"BokehJS \" + root.Bokeh.version + \" successfully loaded.\";\n      }\n    } else if (Date.now() < root._bokeh_timeout) {\n      setTimeout(display_loaded, 100)\n    }\n  }\n\n\n  function run_callbacks() {\n    try {\n      root._bokeh_onload_callbacks.forEach(function(callback) {\n        if (callback != null)\n          callback();\n      });\n    } finally {\n      delete root._bokeh_onload_callbacks\n    }\n    console.debug(\"Bokeh: all callbacks have finished\");\n  }\n\n  function load_libs(css_urls, js_urls, callback) {\n    if (css_urls == null) css_urls = [];\n    if (js_urls == null) js_urls = [];\n\n    root._bokeh_onload_callbacks.push(callback);\n    if (root._bokeh_is_loading > 0) {\n      console.debug(\"Bokeh: BokehJS is being loaded, scheduling callback at\", now());\n      return null;\n    }\n    if (js_urls == null || js_urls.length === 0) {\n      run_callbacks();\n      return null;\n    }\n    console.debug(\"Bokeh: BokehJS not loaded, scheduling load and callback at\", now());\n    root._bokeh_is_loading = css_urls.length + js_urls.length;\n\n    function on_load() {\n      root._bokeh_is_loading--;\n      if (root._bokeh_is_loading === 0) {\n        console.debug(\"Bokeh: all BokehJS libraries/stylesheets loaded\");\n        run_callbacks()\n      }\n    }\n\n    function on_error(url) {\n      console.error(\"failed to load \" + url);\n    }\n\n    for (let i = 0; i < css_urls.length; i++) {\n      const url = css_urls[i];\n      const element = document.createElement(\"link\");\n      element.onload = on_load;\n      element.onerror = on_error.bind(null, url);\n      element.rel = \"stylesheet\";\n      element.type = \"text/css\";\n      element.href = url;\n      console.debug(\"Bokeh: injecting link tag for BokehJS stylesheet: \", url);\n      document.body.appendChild(element);\n    }\n\n    for (let i = 0; i < js_urls.length; i++) {\n      const url = js_urls[i];\n      const element = document.createElement('script');\n      element.onload = on_load;\n      element.onerror = on_error.bind(null, url);\n      element.async = false;\n      element.src = url;\n      console.debug(\"Bokeh: injecting script tag for BokehJS library: \", url);\n      document.head.appendChild(element);\n    }\n  };\n\n  function inject_raw_css(css) {\n    const element = document.createElement(\"style\");\n    element.appendChild(document.createTextNode(css));\n    document.body.appendChild(element);\n  }\n\n  \n  const js_urls = [\"https://cdn.bokeh.org/bokeh/release/bokeh-2.4.2.min.js\", \"https://cdn.bokeh.org/bokeh/release/bokeh-gl-2.4.2.min.js\", \"https://cdn.bokeh.org/bokeh/release/bokeh-widgets-2.4.2.min.js\", \"https://cdn.bokeh.org/bokeh/release/bokeh-tables-2.4.2.min.js\", \"https://cdn.bokeh.org/bokeh/release/bokeh-mathjax-2.4.2.min.js\"];\n  const css_urls = [];\n  \n\n  const inline_js = [\n    function(Bokeh) {\n      Bokeh.set_log_level(\"info\");\n    },\n    function(Bokeh) {\n    \n    \n    }\n  ];\n\n  function run_inline_js() {\n    \n    if (root.Bokeh !== undefined || force === true) {\n      \n    for (let i = 0; i < inline_js.length; i++) {\n      inline_js[i].call(root, root.Bokeh);\n    }\n    if (force === true) {\n        display_loaded();\n      }} else if (Date.now() < root._bokeh_timeout) {\n      setTimeout(run_inline_js, 100);\n    } else if (!root._bokeh_failed_load) {\n      console.log(\"Bokeh: BokehJS failed to load within specified timeout.\");\n      root._bokeh_failed_load = true;\n    } else if (force !== true) {\n      const cell = $(document.getElementById(\"1322\")).parents('.cell').data().cell;\n      cell.output_area.append_execute_result(NB_LOAD_WARNING)\n    }\n\n  }\n\n  if (root._bokeh_is_loading === 0) {\n    console.debug(\"Bokeh: BokehJS loaded, going straight to plotting\");\n    run_inline_js();\n  } else {\n    load_libs(css_urls, js_urls, function() {\n      console.debug(\"Bokeh: BokehJS plotting callback run at\", now());\n      run_inline_js();\n    });\n  }\n}(window));",
      "application/vnd.bokehjs_load.v0+json": "\n(function(root) {\n  function now() {\n    return new Date();\n  }\n\n  const force = true;\n\n  if (typeof root._bokeh_onload_callbacks === \"undefined\" || force === true) {\n    root._bokeh_onload_callbacks = [];\n    root._bokeh_is_loading = undefined;\n  }\n\n  \n\n  \n  if (typeof (root._bokeh_timeout) === \"undefined\" || force === true) {\n    root._bokeh_timeout = Date.now() + 5000;\n    root._bokeh_failed_load = false;\n  }\n\n  const NB_LOAD_WARNING = {'data': {'text/html':\n     \"<div style='background-color: #fdd'>\\n\"+\n     \"<p>\\n\"+\n     \"BokehJS does not appear to have successfully loaded. If loading BokehJS from CDN, this \\n\"+\n     \"may be due to a slow or bad network connection. Possible fixes:\\n\"+\n     \"</p>\\n\"+\n     \"<ul>\\n\"+\n     \"<li>re-rerun `output_notebook()` to attempt to load from CDN again, or</li>\\n\"+\n     \"<li>use INLINE resources instead, as so:</li>\\n\"+\n     \"</ul>\\n\"+\n     \"<code>\\n\"+\n     \"from bokeh.resources import INLINE\\n\"+\n     \"output_notebook(resources=INLINE)\\n\"+\n     \"</code>\\n\"+\n     \"</div>\"}};\n\n  function display_loaded() {\n    const el = document.getElementById(\"1322\");\n    if (el != null) {\n      el.textContent = \"BokehJS is loading...\";\n    }\n    if (root.Bokeh !== undefined) {\n      if (el != null) {\n        el.textContent = \"BokehJS \" + root.Bokeh.version + \" successfully loaded.\";\n      }\n    } else if (Date.now() < root._bokeh_timeout) {\n      setTimeout(display_loaded, 100)\n    }\n  }\n\n\n  function run_callbacks() {\n    try {\n      root._bokeh_onload_callbacks.forEach(function(callback) {\n        if (callback != null)\n          callback();\n      });\n    } finally {\n      delete root._bokeh_onload_callbacks\n    }\n    console.debug(\"Bokeh: all callbacks have finished\");\n  }\n\n  function load_libs(css_urls, js_urls, callback) {\n    if (css_urls == null) css_urls = [];\n    if (js_urls == null) js_urls = [];\n\n    root._bokeh_onload_callbacks.push(callback);\n    if (root._bokeh_is_loading > 0) {\n      console.debug(\"Bokeh: BokehJS is being loaded, scheduling callback at\", now());\n      return null;\n    }\n    if (js_urls == null || js_urls.length === 0) {\n      run_callbacks();\n      return null;\n    }\n    console.debug(\"Bokeh: BokehJS not loaded, scheduling load and callback at\", now());\n    root._bokeh_is_loading = css_urls.length + js_urls.length;\n\n    function on_load() {\n      root._bokeh_is_loading--;\n      if (root._bokeh_is_loading === 0) {\n        console.debug(\"Bokeh: all BokehJS libraries/stylesheets loaded\");\n        run_callbacks()\n      }\n    }\n\n    function on_error(url) {\n      console.error(\"failed to load \" + url);\n    }\n\n    for (let i = 0; i < css_urls.length; i++) {\n      const url = css_urls[i];\n      const element = document.createElement(\"link\");\n      element.onload = on_load;\n      element.onerror = on_error.bind(null, url);\n      element.rel = \"stylesheet\";\n      element.type = \"text/css\";\n      element.href = url;\n      console.debug(\"Bokeh: injecting link tag for BokehJS stylesheet: \", url);\n      document.body.appendChild(element);\n    }\n\n    for (let i = 0; i < js_urls.length; i++) {\n      const url = js_urls[i];\n      const element = document.createElement('script');\n      element.onload = on_load;\n      element.onerror = on_error.bind(null, url);\n      element.async = false;\n      element.src = url;\n      console.debug(\"Bokeh: injecting script tag for BokehJS library: \", url);\n      document.head.appendChild(element);\n    }\n  };\n\n  function inject_raw_css(css) {\n    const element = document.createElement(\"style\");\n    element.appendChild(document.createTextNode(css));\n    document.body.appendChild(element);\n  }\n\n  \n  const js_urls = [\"https://cdn.bokeh.org/bokeh/release/bokeh-2.4.2.min.js\", \"https://cdn.bokeh.org/bokeh/release/bokeh-gl-2.4.2.min.js\", \"https://cdn.bokeh.org/bokeh/release/bokeh-widgets-2.4.2.min.js\", \"https://cdn.bokeh.org/bokeh/release/bokeh-tables-2.4.2.min.js\", \"https://cdn.bokeh.org/bokeh/release/bokeh-mathjax-2.4.2.min.js\"];\n  const css_urls = [];\n  \n\n  const inline_js = [\n    function(Bokeh) {\n      Bokeh.set_log_level(\"info\");\n    },\n    function(Bokeh) {\n    \n    \n    }\n  ];\n\n  function run_inline_js() {\n    \n    if (root.Bokeh !== undefined || force === true) {\n      \n    for (let i = 0; i < inline_js.length; i++) {\n      inline_js[i].call(root, root.Bokeh);\n    }\n    if (force === true) {\n        display_loaded();\n      }} else if (Date.now() < root._bokeh_timeout) {\n      setTimeout(run_inline_js, 100);\n    } else if (!root._bokeh_failed_load) {\n      console.log(\"Bokeh: BokehJS failed to load within specified timeout.\");\n      root._bokeh_failed_load = true;\n    } else if (force !== true) {\n      const cell = $(document.getElementById(\"1322\")).parents('.cell').data().cell;\n      cell.output_area.append_execute_result(NB_LOAD_WARNING)\n    }\n\n  }\n\n  if (root._bokeh_is_loading === 0) {\n    console.debug(\"Bokeh: BokehJS loaded, going straight to plotting\");\n    run_inline_js();\n  } else {\n    load_libs(css_urls, js_urls, function() {\n      console.debug(\"Bokeh: BokehJS plotting callback run at\", now());\n      run_inline_js();\n    });\n  }\n}(window));"
     },
     "metadata": {},
     "output_type": "display_data"
    },
    {
     "data": {
      "text/html": "\n\n\n\n\n\n  <div class=\"bk-root\" id=\"859d0e24-bc52-4f3b-8bf3-fbd8f73f056a\" data-root-id=\"1323\"></div>\n"
     },
     "metadata": {},
     "output_type": "display_data"
    },
    {
     "data": {
      "application/javascript": "(function(root) {\n  function embed_document(root) {\n    \n  const docs_json = {\"5b3bf1cf-b90d-4f79-9761-3ce5ec5032ff\":{\"defs\":[],\"roots\":{\"references\":[{\"attributes\":{\"below\":[{\"id\":\"1334\"}],\"center\":[{\"id\":\"1337\"},{\"id\":\"1341\"}],\"height\":300,\"left\":[{\"id\":\"1338\"}],\"renderers\":[{\"id\":\"1361\"},{\"id\":\"1368\"}],\"sizing_mode\":\"scale_width\",\"title\":{\"id\":\"1324\"},\"toolbar\":{\"id\":\"1349\"},\"x_range\":{\"id\":\"1326\"},\"x_scale\":{\"id\":\"1330\"},\"y_range\":{\"id\":\"1328\"},\"y_scale\":{\"id\":\"1332\"}},\"id\":\"1323\",\"subtype\":\"Figure\",\"type\":\"Plot\"},{\"attributes\":{},\"id\":\"1346\",\"type\":\"ResetTool\"},{\"attributes\":{},\"id\":\"1404\",\"type\":\"Selection\"},{\"attributes\":{\"coordinates\":null,\"group\":null,\"text\":\"COMPARISON OF CALCITE SOLUBILITY IN WATER AND RAINWATER\"},\"id\":\"1324\",\"type\":\"Title\"},{\"attributes\":{\"axis_label\":\"TEMPERATURE [\\u00b0C]\",\"coordinates\":null,\"formatter\":{\"id\":\"1399\"},\"group\":null,\"major_label_policy\":{\"id\":\"1400\"},\"ticker\":{\"id\":\"1335\"}},\"id\":\"1334\",\"type\":\"LinearAxis\"},{\"attributes\":{\"axis_label\":\"CALCITE SOLUBILITY [MOL/KG]\",\"coordinates\":null,\"formatter\":{\"id\":\"1396\"},\"group\":null,\"major_label_policy\":{\"id\":\"1397\"},\"ticker\":{\"id\":\"1339\"}},\"id\":\"1338\",\"type\":\"LinearAxis\"},{\"attributes\":{},\"id\":\"1397\",\"type\":\"AllLabels\"},{\"attributes\":{},\"id\":\"1328\",\"type\":\"DataRange1d\"},{\"attributes\":{},\"id\":\"1401\",\"type\":\"UnionRenderers\"},{\"attributes\":{},\"id\":\"1402\",\"type\":\"Selection\"},{\"attributes\":{},\"id\":\"1399\",\"type\":\"BasicTickFormatter\"},{\"attributes\":{},\"id\":\"1330\",\"type\":\"LinearScale\"},{\"attributes\":{},\"id\":\"1339\",\"type\":\"BasicTicker\"},{\"attributes\":{},\"id\":\"1326\",\"type\":\"DataRange1d\"},{\"attributes\":{\"coordinates\":null,\"data_source\":{\"id\":\"1356\"},\"glyph\":{\"id\":\"1358\"},\"group\":null,\"hover_glyph\":null,\"muted_glyph\":{\"id\":\"1360\"},\"nonselection_glyph\":{\"id\":\"1359\"},\"view\":{\"id\":\"1362\"}},\"id\":\"1361\",\"type\":\"GlyphRenderer\"},{\"attributes\":{},\"id\":\"1342\",\"type\":\"PanTool\"},{\"attributes\":{\"tools\":[{\"id\":\"1342\"},{\"id\":\"1343\"},{\"id\":\"1344\"},{\"id\":\"1345\"},{\"id\":\"1346\"},{\"id\":\"1347\"}]},\"id\":\"1349\",\"type\":\"Toolbar\"},{\"attributes\":{\"line_alpha\":0.1,\"line_cap\":\"round\",\"line_color\":\"indigo\",\"line_width\":3,\"x\":{\"field\":\"T\"},\"y\":{\"field\":\"deltaCalcite\"}},\"id\":\"1359\",\"type\":\"Line\"},{\"attributes\":{},\"id\":\"1345\",\"type\":\"SaveTool\"},{\"attributes\":{},\"id\":\"1400\",\"type\":\"AllLabels\"},{\"attributes\":{\"overlay\":{\"id\":\"1348\"}},\"id\":\"1344\",\"type\":\"BoxZoomTool\"},{\"attributes\":{\"line_alpha\":0.2,\"line_cap\":\"round\",\"line_color\":\"darkred\",\"line_width\":3,\"x\":{\"field\":\"T\"},\"y\":{\"field\":\"deltaCalcite\"}},\"id\":\"1367\",\"type\":\"Line\"},{\"attributes\":{},\"id\":\"1335\",\"type\":\"BasicTicker\"},{\"attributes\":{\"axis\":{\"id\":\"1334\"},\"coordinates\":null,\"group\":null,\"ticker\":null},\"id\":\"1337\",\"type\":\"Grid\"},{\"attributes\":{},\"id\":\"1403\",\"type\":\"UnionRenderers\"},{\"attributes\":{\"line_cap\":\"round\",\"line_color\":\"indigo\",\"line_width\":3,\"x\":{\"field\":\"T\"},\"y\":{\"field\":\"deltaCalcite\"}},\"id\":\"1358\",\"type\":\"Line\"},{\"attributes\":{},\"id\":\"1332\",\"type\":\"LinearScale\"},{\"attributes\":{},\"id\":\"1396\",\"type\":\"BasicTickFormatter\"},{\"attributes\":{\"line_cap\":\"round\",\"line_color\":\"darkred\",\"line_width\":3,\"x\":{\"field\":\"T\"},\"y\":{\"field\":\"deltaCalcite\"}},\"id\":\"1365\",\"type\":\"Line\"},{\"attributes\":{\"coordinates\":null,\"data_source\":{\"id\":\"1363\"},\"glyph\":{\"id\":\"1365\"},\"group\":null,\"hover_glyph\":null,\"muted_glyph\":{\"id\":\"1367\"},\"nonselection_glyph\":{\"id\":\"1366\"},\"view\":{\"id\":\"1369\"}},\"id\":\"1368\",\"type\":\"GlyphRenderer\"},{\"attributes\":{\"source\":{\"id\":\"1363\"}},\"id\":\"1369\",\"type\":\"CDSView\"},{\"attributes\":{\"data\":{\"P\":{\"__ndarray__\":\"AAAAAAAA8D8AAAAAAADwPwAAAAAAAPA/AAAAAAAA8D8AAAAAAADwPwAAAAAAAPA/AAAAAAAA8D8AAAAAAADwPwAAAAAAAPA/AAAAAAAA8D8AAAAAAADwPwAAAAAAAPA/AAAAAAAA8D8AAAAAAADwPwAAAAAAAPA/\",\"dtype\":\"float64\",\"order\":\"little\",\"shape\":[15]},\"T\":{\"__ndarray__\":\"AAAAAAAANEAAAAAAAAA5QAAAAAAAAD5AAAAAAACAQUAAAAAAAABEQAAAAAAAgEZAAAAAAAAASUAAAAAAAIBLQAAAAAAAAE5AAAAAAABAUEAAAAAAAIBRQAAAAAAAwFJAAAAAAAAAVEAAAAAAAEBVQAAAAAAAgFZA\",\"dtype\":\"float64\",\"order\":\"little\",\"shape\":[15]},\"deltaCalcite\":{\"__ndarray__\":\"ABhBSKrVg78AeIRyABCCvwAgsoD0d4C/AJD3ROoJfr8AMNtWfGd7vwBAv9yFAnm/AECY3mHVdr8AECXaCd50vwDYbJHME3O/AKCofX1ycb8AAEiJnuxvvwDgx8uaN22/AADSIbjCar8AEEAKf4RovwDQG6/vd2a/\",\"dtype\":\"float64\",\"order\":\"little\",\"shape\":[15]},\"index\":[0,3,6,9,12,15,18,21,24,27,30,33,36,39,42],\"pH\":{\"__ndarray__\":\"6f25SfzrF0D07QzlFOUXQG50xHpS3xdAfA85Y3HaF0BBaPhIYNYXQJGVgucP0xdAoQYcn3LQF0CB8q8+m84XQPcm6jpdzRdA/RlPf67MF0DB8UHVhcwXQAk0xsvazBdAvMsXPL7NF0D5U0CMDs8XQJKrGj3F0BdA\",\"dtype\":\"float64\",\"order\":\"little\",\"shape\":[15]}},\"selected\":{\"id\":\"1404\"},\"selection_policy\":{\"id\":\"1403\"}},\"id\":\"1363\",\"type\":\"ColumnDataSource\"},{\"attributes\":{\"line_alpha\":0.1,\"line_cap\":\"round\",\"line_color\":\"darkred\",\"line_width\":3,\"x\":{\"field\":\"T\"},\"y\":{\"field\":\"deltaCalcite\"}},\"id\":\"1366\",\"type\":\"Line\"},{\"attributes\":{},\"id\":\"1343\",\"type\":\"WheelZoomTool\"},{\"attributes\":{},\"id\":\"1347\",\"type\":\"HelpTool\"},{\"attributes\":{\"line_alpha\":0.2,\"line_cap\":\"round\",\"line_color\":\"indigo\",\"line_width\":3,\"x\":{\"field\":\"T\"},\"y\":{\"field\":\"deltaCalcite\"}},\"id\":\"1360\",\"type\":\"Line\"},{\"attributes\":{\"source\":{\"id\":\"1356\"}},\"id\":\"1362\",\"type\":\"CDSView\"},{\"attributes\":{\"bottom_units\":\"screen\",\"coordinates\":null,\"fill_alpha\":0.5,\"fill_color\":\"lightgrey\",\"group\":null,\"left_units\":\"screen\",\"level\":\"overlay\",\"line_alpha\":1.0,\"line_color\":\"black\",\"line_dash\":[4,4],\"line_width\":2,\"right_units\":\"screen\",\"syncable\":false,\"top_units\":\"screen\"},\"id\":\"1348\",\"type\":\"BoxAnnotation\"},{\"attributes\":{\"data\":{\"P\":{\"__ndarray__\":\"AAAAAAAA8D8AAAAAAADwPwAAAAAAAPA/AAAAAAAA8D8AAAAAAADwPwAAAAAAAPA/AAAAAAAA8D8AAAAAAADwPwAAAAAAAPA/AAAAAAAA8D8AAAAAAADwPwAAAAAAAPA/AAAAAAAA8D8AAAAAAADwPwAAAAAAAPA/\",\"dtype\":\"float64\",\"order\":\"little\",\"shape\":[15]},\"T\":{\"__ndarray__\":\"AAAAAAAANEAAAAAAAAA5QAAAAAAAAD5AAAAAAACAQUAAAAAAAABEQAAAAAAAgEZAAAAAAAAASUAAAAAAAIBLQAAAAAAAAE5AAAAAAABAUEAAAAAAAIBRQAAAAAAAwFJAAAAAAAAAVEAAAAAAAEBVQAAAAAAAgFZA\",\"dtype\":\"float64\",\"order\":\"little\",\"shape\":[15]},\"deltaCalcite\":{\"__ndarray__\":\"AADUexRJHb8AADxhxFwevwAAYmNpax+/AAA8bHg6IL8AAGDhuLwgvwAA3R8gPCG/AADXQBK4Ib8AAL4tTzAivwAAkH9woyK/AADMlY0QI78AAMasw3YjvwAAuZk/1SO/AABRp88rJL8AAPziSXkkvwAAncEovSS/\",\"dtype\":\"float64\",\"order\":\"little\",\"shape\":[15]},\"index\":[0,3,6,9,12,15,18,21,24,27,30,33,36,39,42],\"pH\":{\"__ndarray__\":\"68Jnmt4GJEDgsQ12+MQjQGtcA7aOhSNALNHI3HZII0D1ku6Mjw0jQAz8bMC81CJAl+JmZuadIkA4+2zj+WgiQPKNYNPhNSJAH1M5yYwEIkC3y2Gd6tQhQHuahDrspiFAw+bfQIZ6IUDg0JHjqE8hQP44DPZHJiFA\",\"dtype\":\"float64\",\"order\":\"little\",\"shape\":[15]}},\"selected\":{\"id\":\"1402\"},\"selection_policy\":{\"id\":\"1401\"}},\"id\":\"1356\",\"type\":\"ColumnDataSource\"},{\"attributes\":{\"axis\":{\"id\":\"1338\"},\"coordinates\":null,\"dimension\":1,\"group\":null,\"ticker\":null},\"id\":\"1341\",\"type\":\"Grid\"}],\"root_ids\":[\"1323\"]},\"title\":\"Bokeh Application\",\"version\":\"2.4.2\"}};\n  const render_items = [{\"docid\":\"5b3bf1cf-b90d-4f79-9761-3ce5ec5032ff\",\"root_ids\":[\"1323\"],\"roots\":{\"1323\":\"859d0e24-bc52-4f3b-8bf3-fbd8f73f056a\"}}];\n  root.Bokeh.embed.embed_items_notebook(docs_json, render_items);\n\n  }\n  if (root.Bokeh !== undefined) {\n    embed_document(root);\n  } else {\n    let attempts = 0;\n    const timer = setInterval(function(root) {\n      if (root.Bokeh !== undefined) {\n        clearInterval(timer);\n        embed_document(root);\n      } else {\n        attempts++;\n        if (attempts > 100) {\n          clearInterval(timer);\n          console.log(\"Bokeh: ERROR: Unable to run BokehJS code because BokehJS library is missing\");\n        }\n      }\n    }, 10, root)\n  }\n})(window);",
      "application/vnd.bokehjs_exec.v0+json": ""
     },
     "metadata": {
      "application/vnd.bokehjs_exec.v0+json": {
       "id": "1323"
      }
     },
     "output_type": "display_data"
    }
   ],
   "source": [
    "from bokeh.plotting import figure, show\n",
    "from bokeh.io import output_notebook\n",
    "output_notebook()\n",
    "\n",
    "df_water_P1 = df_water[df_water['P'] == 1.0]\n",
    "df_rainwater_P1 = df_rainwater[df_rainwater['P'] == 1.0]\n",
    "\n",
    "p = figure(\n",
    "    title=\"COMPARISON OF CALCITE SOLUBILITY IN WATER AND RAINWATER\",\n",
    "    x_axis_label=r'TEMPERATURE [°C]',\n",
    "    y_axis_label='CALCITE SOLUBILITY [MOL/KG]',\n",
    "    sizing_mode=\"scale_width\",\n",
    "    plot_height=300)\n",
    "\n",
    "p.line(\"T\", \"deltaCalcite\", line_width=3, line_cap=\"round\", line_color='indigo', source=df_water_P1)\n",
    "p.line(\"T\", \"deltaCalcite\", line_width=3, line_cap=\"round\", line_color='darkred', source=df_rainwater_P1)\n",
    "\n",
    "show(p)"
   ]
  },
  {
   "cell_type": "markdown",
   "metadata": {},
   "source": [
    "The plot illustrates that calcium carbonate has a very low solubility in pure water, but in rainwater saturated with\n",
    "carbon dioxide, its solubility increases due to the formation of more soluble calcium bicarbonate. Below, we plot\n",
    "solubilities on the different scales and for different pressure. We see below that increasing pressure also increases\n",
    "the solubility of calcium carbonate."
   ]
  },
  {
   "cell_type": "code",
   "execution_count": 31,
   "metadata": {
    "pycharm": {
     "name": "#%%\n"
    }
   },
   "outputs": [
    {
     "data": {
      "text/html": "\n\n\n\n\n\n  <div class=\"bk-root\" id=\"ed56f06d-0db0-4ae5-89c0-92aeb26f7559\" data-root-id=\"1691\"></div>\n"
     },
     "metadata": {},
     "output_type": "display_data"
    },
    {
     "data": {
      "application/javascript": "(function(root) {\n  function embed_document(root) {\n    \n  const docs_json = {\"be145735-56f9-4586-b94a-dd57921eadc9\":{\"defs\":[],\"roots\":{\"references\":[{\"attributes\":{\"children\":[{\"id\":\"1690\"},{\"id\":\"1688\"}]},\"id\":\"1691\",\"type\":\"Column\"},{\"attributes\":{},\"id\":\"1490\",\"type\":\"ResetTool\"},{\"attributes\":{},\"id\":\"1654\",\"type\":\"UnionRenderers\"},{\"attributes\":{\"children\":[[{\"id\":\"1467\"},0,0],[{\"id\":\"1563\"},1,0]]},\"id\":\"1688\",\"type\":\"GridBox\"},{\"attributes\":{},\"id\":\"1489\",\"type\":\"SaveTool\"},{\"attributes\":{\"overlay\":{\"id\":\"1492\"}},\"id\":\"1488\",\"type\":\"BoxZoomTool\"},{\"attributes\":{},\"id\":\"1487\",\"type\":\"WheelZoomTool\"},{\"attributes\":{},\"id\":\"1655\",\"type\":\"Selection\"},{\"attributes\":{},\"id\":\"1491\",\"type\":\"HelpTool\"},{\"attributes\":{\"coordinates\":null,\"group\":null,\"items\":[{\"id\":\"1519\"},{\"id\":\"1539\"},{\"id\":\"1561\"}]},\"id\":\"1518\",\"type\":\"Legend\"},{\"attributes\":{\"line_alpha\":0.2,\"line_cap\":\"round\",\"line_color\":\"teal\",\"line_width\":3,\"x\":{\"field\":\"T\"},\"y\":{\"field\":\"deltaCalcite\"}},\"id\":\"1601\",\"type\":\"Line\"},{\"attributes\":{\"coordinates\":null,\"data_source\":{\"id\":\"1597\"},\"glyph\":{\"id\":\"1599\"},\"group\":null,\"hover_glyph\":null,\"muted_glyph\":{\"id\":\"1601\"},\"nonselection_glyph\":{\"id\":\"1600\"},\"view\":{\"id\":\"1603\"}},\"id\":\"1602\",\"type\":\"GlyphRenderer\"},{\"attributes\":{\"label\":{\"value\":\"P = 1\"},\"renderers\":[{\"id\":\"1602\"}]},\"id\":\"1615\",\"type\":\"LegendItem\"},{\"attributes\":{\"source\":{\"id\":\"1501\"}},\"id\":\"1507\",\"type\":\"CDSView\"},{\"attributes\":{},\"id\":\"1513\",\"type\":\"BasicTickFormatter\"},{\"attributes\":{},\"id\":\"1510\",\"type\":\"BasicTickFormatter\"},{\"attributes\":{\"line_cap\":\"round\",\"line_color\":\"teal\",\"line_width\":3,\"x\":{\"field\":\"T\"},\"y\":{\"field\":\"deltaCalcite\"}},\"id\":\"1503\",\"type\":\"Line\"},{\"attributes\":{\"coordinates\":null,\"data_source\":{\"id\":\"1501\"},\"glyph\":{\"id\":\"1503\"},\"group\":null,\"hover_glyph\":null,\"muted_glyph\":{\"id\":\"1505\"},\"nonselection_glyph\":{\"id\":\"1504\"},\"view\":{\"id\":\"1507\"}},\"id\":\"1506\",\"type\":\"GlyphRenderer\"},{\"attributes\":{},\"id\":\"1607\",\"type\":\"AllLabels\"},{\"attributes\":{\"source\":{\"id\":\"1597\"}},\"id\":\"1603\",\"type\":\"CDSView\"},{\"attributes\":{},\"id\":\"1611\",\"type\":\"UnionRenderers\"},{\"attributes\":{\"coordinates\":null,\"group\":null,\"items\":[{\"id\":\"1615\"},{\"id\":\"1635\"},{\"id\":\"1657\"}]},\"id\":\"1614\",\"type\":\"Legend\"},{\"attributes\":{},\"id\":\"1606\",\"type\":\"BasicTickFormatter\"},{\"attributes\":{\"callback\":null,\"tooltips\":[[\"T\",\"@T \\u00b0C\"],[\"P\",\"@P bar\"],[\"delta(Calcite)\",\"@deltaCalcite mol\"]]},\"id\":\"1562\",\"type\":\"HoverTool\"},{\"attributes\":{},\"id\":\"1612\",\"type\":\"Selection\"},{\"attributes\":{},\"id\":\"1609\",\"type\":\"BasicTickFormatter\"},{\"attributes\":{},\"id\":\"1610\",\"type\":\"AllLabels\"},{\"attributes\":{},\"id\":\"1514\",\"type\":\"AllLabels\"},{\"attributes\":{\"toolbars\":[{\"id\":\"1493\"},{\"id\":\"1589\"}],\"tools\":[{\"id\":\"1486\"},{\"id\":\"1487\"},{\"id\":\"1488\"},{\"id\":\"1489\"},{\"id\":\"1490\"},{\"id\":\"1491\"},{\"id\":\"1466\"},{\"id\":\"1582\"},{\"id\":\"1583\"},{\"id\":\"1584\"},{\"id\":\"1585\"},{\"id\":\"1586\"},{\"id\":\"1587\"},{\"id\":\"1562\"}]},\"id\":\"1689\",\"type\":\"ProxyToolbar\"},{\"attributes\":{\"line_cap\":\"round\",\"line_color\":\"teal\",\"line_width\":3,\"x\":{\"field\":\"T\"},\"y\":{\"field\":\"deltaCalcite\"}},\"id\":\"1599\",\"type\":\"Line\"},{\"attributes\":{\"line_alpha\":0.1,\"line_cap\":\"round\",\"line_color\":\"teal\",\"line_width\":3,\"x\":{\"field\":\"T\"},\"y\":{\"field\":\"deltaCalcite\"}},\"id\":\"1600\",\"type\":\"Line\"},{\"attributes\":{\"line_cap\":\"round\",\"line_color\":\"indigo\",\"line_width\":3,\"x\":{\"field\":\"T\"},\"y\":{\"field\":\"deltaCalcite\"}},\"id\":\"1638\",\"type\":\"Line\"},{\"attributes\":{\"source\":{\"id\":\"1540\"}},\"id\":\"1546\",\"type\":\"CDSView\"},{\"attributes\":{\"line_alpha\":0.2,\"line_cap\":\"round\",\"line_color\":\"indigo\",\"line_width\":3,\"x\":{\"field\":\"T\"},\"y\":{\"field\":\"deltaCalcite\"}},\"id\":\"1544\",\"type\":\"Line\"},{\"attributes\":{\"line_alpha\":0.1,\"line_cap\":\"round\",\"line_color\":\"indigo\",\"line_width\":3,\"x\":{\"field\":\"T\"},\"y\":{\"field\":\"deltaCalcite\"}},\"id\":\"1543\",\"type\":\"Line\"},{\"attributes\":{},\"id\":\"1558\",\"type\":\"UnionRenderers\"},{\"attributes\":{\"below\":[{\"id\":\"1574\"}],\"center\":[{\"id\":\"1577\"},{\"id\":\"1581\"},{\"id\":\"1614\"}],\"height\":300,\"left\":[{\"id\":\"1578\"}],\"renderers\":[{\"id\":\"1602\"},{\"id\":\"1621\"},{\"id\":\"1641\"}],\"sizing_mode\":\"scale_width\",\"title\":{\"id\":\"1564\"},\"toolbar\":{\"id\":\"1589\"},\"toolbar_location\":null,\"x_range\":{\"id\":\"1566\"},\"x_scale\":{\"id\":\"1570\"},\"y_range\":{\"id\":\"1568\"},\"y_scale\":{\"id\":\"1572\"}},\"id\":\"1563\",\"subtype\":\"Figure\",\"type\":\"Plot\"},{\"attributes\":{\"coordinates\":null,\"data_source\":{\"id\":\"1540\"},\"glyph\":{\"id\":\"1542\"},\"group\":null,\"hover_glyph\":null,\"muted_glyph\":{\"id\":\"1544\"},\"nonselection_glyph\":{\"id\":\"1543\"},\"view\":{\"id\":\"1546\"}},\"id\":\"1545\",\"type\":\"GlyphRenderer\"},{\"attributes\":{},\"id\":\"1566\",\"type\":\"DataRange1d\"},{\"attributes\":{\"line_alpha\":0.2,\"line_cap\":\"round\",\"line_color\":\"teal\",\"line_width\":3,\"x\":{\"field\":\"T\"},\"y\":{\"field\":\"deltaCalcite\"}},\"id\":\"1505\",\"type\":\"Line\"},{\"attributes\":{},\"id\":\"1515\",\"type\":\"UnionRenderers\"},{\"attributes\":{\"callback\":null,\"tooltips\":[[\"T\",\"@T \\u00b0C\"],[\"P\",\"@P bar\"],[\"delta(Calcite)\",\"@deltaCalcite mol\"]]},\"id\":\"1466\",\"type\":\"HoverTool\"},{\"attributes\":{\"data\":{\"P\":{\"__ndarray__\":\"AAAAAAAA8D8AAAAAAADwPwAAAAAAAPA/AAAAAAAA8D8AAAAAAADwPwAAAAAAAPA/AAAAAAAA8D8AAAAAAADwPwAAAAAAAPA/AAAAAAAA8D8AAAAAAADwPwAAAAAAAPA/AAAAAAAA8D8AAAAAAADwPwAAAAAAAPA/\",\"dtype\":\"float64\",\"order\":\"little\",\"shape\":[15]},\"T\":{\"__ndarray__\":\"AAAAAAAANEAAAAAAAAA5QAAAAAAAAD5AAAAAAACAQUAAAAAAAABEQAAAAAAAgEZAAAAAAAAASUAAAAAAAIBLQAAAAAAAAE5AAAAAAABAUEAAAAAAAIBRQAAAAAAAwFJAAAAAAAAAVEAAAAAAAEBVQAAAAAAAgFZA\",\"dtype\":\"float64\",\"order\":\"little\",\"shape\":[15]},\"deltaCalcite\":{\"__ndarray__\":\"AADUexRJHb8AADxhxFwevwAAYmNpax+/AAA8bHg6IL8AAGDhuLwgvwAA3R8gPCG/AADXQBK4Ib8AAL4tTzAivwAAkH9woyK/AADMlY0QI78AAMasw3YjvwAAuZk/1SO/AABRp88rJL8AAPziSXkkvwAAncEovSS/\",\"dtype\":\"float64\",\"order\":\"little\",\"shape\":[15]},\"index\":[0,3,6,9,12,15,18,21,24,27,30,33,36,39,42],\"pH\":{\"__ndarray__\":\"68Jnmt4GJEDgsQ12+MQjQGtcA7aOhSNALNHI3HZII0D1ku6Mjw0jQAz8bMC81CJAl+JmZuadIkA4+2zj+WgiQPKNYNPhNSJAH1M5yYwEIkC3y2Gd6tQhQHuahDrspiFAw+bfQIZ6IUDg0JHjqE8hQP44DPZHJiFA\",\"dtype\":\"float64\",\"order\":\"little\",\"shape\":[15]}},\"selected\":{\"id\":\"1516\"},\"selection_policy\":{\"id\":\"1515\"}},\"id\":\"1501\",\"type\":\"ColumnDataSource\"},{\"attributes\":{\"coordinates\":null,\"group\":null,\"text\":\"CALCITE SOLUBILITY IN WATER\"},\"id\":\"1468\",\"type\":\"Title\"},{\"attributes\":{},\"id\":\"1570\",\"type\":\"LinearScale\"},{\"attributes\":{},\"id\":\"1511\",\"type\":\"AllLabels\"},{\"attributes\":{\"below\":[{\"id\":\"1478\"}],\"center\":[{\"id\":\"1481\"},{\"id\":\"1485\"},{\"id\":\"1518\"}],\"height\":300,\"left\":[{\"id\":\"1482\"}],\"renderers\":[{\"id\":\"1506\"},{\"id\":\"1525\"},{\"id\":\"1545\"}],\"sizing_mode\":\"scale_width\",\"title\":{\"id\":\"1468\"},\"toolbar\":{\"id\":\"1493\"},\"toolbar_location\":null,\"x_range\":{\"id\":\"1470\"},\"x_scale\":{\"id\":\"1474\"},\"y_range\":{\"id\":\"1472\"},\"y_scale\":{\"id\":\"1476\"}},\"id\":\"1467\",\"subtype\":\"Figure\",\"type\":\"Plot\"},{\"attributes\":{},\"id\":\"1476\",\"type\":\"LinearScale\"},{\"attributes\":{},\"id\":\"1470\",\"type\":\"DataRange1d\"},{\"attributes\":{},\"id\":\"1474\",\"type\":\"LinearScale\"},{\"attributes\":{\"line_alpha\":0.1,\"line_cap\":\"round\",\"line_color\":\"teal\",\"line_width\":3,\"x\":{\"field\":\"T\"},\"y\":{\"field\":\"deltaCalcite\"}},\"id\":\"1504\",\"type\":\"Line\"},{\"attributes\":{},\"id\":\"1486\",\"type\":\"PanTool\"},{\"attributes\":{},\"id\":\"1479\",\"type\":\"BasicTicker\"},{\"attributes\":{\"axis\":{\"id\":\"1478\"},\"coordinates\":null,\"group\":null,\"ticker\":null},\"id\":\"1481\",\"type\":\"Grid\"},{\"attributes\":{\"coordinates\":null,\"data_source\":{\"id\":\"1520\"},\"glyph\":{\"id\":\"1522\"},\"group\":null,\"hover_glyph\":null,\"muted_glyph\":{\"id\":\"1524\"},\"nonselection_glyph\":{\"id\":\"1523\"},\"view\":{\"id\":\"1526\"}},\"id\":\"1525\",\"type\":\"GlyphRenderer\"},{\"attributes\":{},\"id\":\"1632\",\"type\":\"UnionRenderers\"},{\"attributes\":{\"line_cap\":\"round\",\"line_color\":\"darkred\",\"line_width\":3,\"x\":{\"field\":\"T\"},\"y\":{\"field\":\"deltaCalcite\"}},\"id\":\"1522\",\"type\":\"Line\"},{\"attributes\":{\"line_alpha\":0.2,\"line_cap\":\"round\",\"line_color\":\"darkred\",\"line_width\":3,\"x\":{\"field\":\"T\"},\"y\":{\"field\":\"deltaCalcite\"}},\"id\":\"1620\",\"type\":\"Line\"},{\"attributes\":{\"line_alpha\":0.1,\"line_cap\":\"round\",\"line_color\":\"darkred\",\"line_width\":3,\"x\":{\"field\":\"T\"},\"y\":{\"field\":\"deltaCalcite\"}},\"id\":\"1523\",\"type\":\"Line\"},{\"attributes\":{\"label\":{\"value\":\"P = 100\"},\"renderers\":[{\"id\":\"1545\"}]},\"id\":\"1561\",\"type\":\"LegendItem\"},{\"attributes\":{\"label\":{\"value\":\"P = 1\"},\"renderers\":[{\"id\":\"1506\"}]},\"id\":\"1519\",\"type\":\"LegendItem\"},{\"attributes\":{\"line_cap\":\"round\",\"line_color\":\"darkred\",\"line_width\":3,\"x\":{\"field\":\"T\"},\"y\":{\"field\":\"deltaCalcite\"}},\"id\":\"1618\",\"type\":\"Line\"},{\"attributes\":{},\"id\":\"1559\",\"type\":\"Selection\"},{\"attributes\":{\"coordinates\":null,\"group\":null,\"text\":\"CALCITE SOLUBILITY IN RAINWATER\"},\"id\":\"1564\",\"type\":\"Title\"},{\"attributes\":{\"line_alpha\":0.1,\"line_cap\":\"round\",\"line_color\":\"darkred\",\"line_width\":3,\"x\":{\"field\":\"T\"},\"y\":{\"field\":\"deltaCalcite\"}},\"id\":\"1619\",\"type\":\"Line\"},{\"attributes\":{},\"id\":\"1572\",\"type\":\"LinearScale\"},{\"attributes\":{\"data\":{\"P\":{\"__ndarray__\":\"AAAAAAAA8D8AAAAAAADwPwAAAAAAAPA/AAAAAAAA8D8AAAAAAADwPwAAAAAAAPA/AAAAAAAA8D8AAAAAAADwPwAAAAAAAPA/AAAAAAAA8D8AAAAAAADwPwAAAAAAAPA/AAAAAAAA8D8AAAAAAADwPwAAAAAAAPA/\",\"dtype\":\"float64\",\"order\":\"little\",\"shape\":[15]},\"T\":{\"__ndarray__\":\"AAAAAAAANEAAAAAAAAA5QAAAAAAAAD5AAAAAAACAQUAAAAAAAABEQAAAAAAAgEZAAAAAAAAASUAAAAAAAIBLQAAAAAAAAE5AAAAAAABAUEAAAAAAAIBRQAAAAAAAwFJAAAAAAAAAVEAAAAAAAEBVQAAAAAAAgFZA\",\"dtype\":\"float64\",\"order\":\"little\",\"shape\":[15]},\"deltaCalcite\":{\"__ndarray__\":\"ABhBSKrVg78AeIRyABCCvwAgsoD0d4C/AJD3ROoJfr8AMNtWfGd7vwBAv9yFAnm/AECY3mHVdr8AECXaCd50vwDYbJHME3O/AKCofX1ycb8AAEiJnuxvvwDgx8uaN22/AADSIbjCar8AEEAKf4RovwDQG6/vd2a/\",\"dtype\":\"float64\",\"order\":\"little\",\"shape\":[15]},\"index\":[0,3,6,9,12,15,18,21,24,27,30,33,36,39,42],\"pH\":{\"__ndarray__\":\"6f25SfzrF0D07QzlFOUXQG50xHpS3xdAfA85Y3HaF0BBaPhIYNYXQJGVgucP0xdAoQYcn3LQF0CB8q8+m84XQPcm6jpdzRdA/RlPf67MF0DB8UHVhcwXQAk0xsvazBdAvMsXPL7NF0D5U0CMDs8XQJKrGj3F0BdA\",\"dtype\":\"float64\",\"order\":\"little\",\"shape\":[15]}},\"selected\":{\"id\":\"1612\"},\"selection_policy\":{\"id\":\"1611\"}},\"id\":\"1597\",\"type\":\"ColumnDataSource\"},{\"attributes\":{\"coordinates\":null,\"data_source\":{\"id\":\"1616\"},\"glyph\":{\"id\":\"1618\"},\"group\":null,\"hover_glyph\":null,\"muted_glyph\":{\"id\":\"1620\"},\"nonselection_glyph\":{\"id\":\"1619\"},\"view\":{\"id\":\"1622\"}},\"id\":\"1621\",\"type\":\"GlyphRenderer\"},{\"attributes\":{\"line_alpha\":0.2,\"line_cap\":\"round\",\"line_color\":\"darkred\",\"line_width\":3,\"x\":{\"field\":\"T\"},\"y\":{\"field\":\"deltaCalcite\"}},\"id\":\"1524\",\"type\":\"Line\"},{\"attributes\":{},\"id\":\"1575\",\"type\":\"BasicTicker\"},{\"attributes\":{\"axis\":{\"id\":\"1574\"},\"coordinates\":null,\"group\":null,\"ticker\":null},\"id\":\"1577\",\"type\":\"Grid\"},{\"attributes\":{\"data\":{\"P\":{\"__ndarray__\":\"AAAAAAAAWUAAAAAAAABZQAAAAAAAAFlAAAAAAAAAWUAAAAAAAABZQAAAAAAAAFlAAAAAAAAAWUAAAAAAAABZQAAAAAAAAFlAAAAAAAAAWUAAAAAAAABZQAAAAAAAAFlAAAAAAAAAWUAAAAAAAABZQAAAAAAAAFlA\",\"dtype\":\"float64\",\"order\":\"little\",\"shape\":[15]},\"T\":{\"__ndarray__\":\"AAAAAAAANEAAAAAAAAA5QAAAAAAAAD5AAAAAAACAQUAAAAAAAABEQAAAAAAAgEZAAAAAAAAASUAAAAAAAIBLQAAAAAAAAE5AAAAAAABAUEAAAAAAAIBRQAAAAAAAwFJAAAAAAAAAVEAAAAAAAEBVQAAAAAAAgFZA\",\"dtype\":\"float64\",\"order\":\"little\",\"shape\":[15]},\"deltaCalcite\":{\"__ndarray__\":\"AI7eZ0qdmr8AahQ3jJSZvwBssJxjhJi/AGTyE2pol78AmCf2a0WWvwCYo1Z2H5W/AAJzpOz5k78AQPQHTdySvwAqww9jw5G/AM4fTRKxkL8AsIpOtk2PvwAAjoLOS42/ANzYAnpji78AhDuXmI+JvwAI6LAS0Ye/\",\"dtype\":\"float64\",\"order\":\"little\",\"shape\":[15]},\"index\":[2,5,8,11,14,17,20,23,26,29,32,35,38,41,44],\"pH\":{\"__ndarray__\":\"JQjQ4C+BFUANBltowFAVQNNyBbrHJBVAz1zntqX8FEC0Ny0qDNgUQL2Trtm2thRAFmlqommYFED0NoW7IX0UQBRB4+95ZBRAYHpG80ZOFEBWuYyKYToUQIlstP2lKBRAZldEAx4ZFECbIieZfgsUQO5WuCys/xNA\",\"dtype\":\"float64\",\"order\":\"little\",\"shape\":[15]}},\"selected\":{\"id\":\"1655\"},\"selection_policy\":{\"id\":\"1654\"}},\"id\":\"1636\",\"type\":\"ColumnDataSource\"},{\"attributes\":{\"label\":{\"value\":\"P = 10\"},\"renderers\":[{\"id\":\"1621\"}]},\"id\":\"1635\",\"type\":\"LegendItem\"},{\"attributes\":{},\"id\":\"1568\",\"type\":\"DataRange1d\"},{\"attributes\":{},\"id\":\"1537\",\"type\":\"Selection\"},{\"attributes\":{\"axis_label\":\"TEMPERATURE [\\u00b0C]\",\"coordinates\":null,\"formatter\":{\"id\":\"1609\"},\"group\":null,\"major_label_policy\":{\"id\":\"1610\"},\"ticker\":{\"id\":\"1575\"}},\"id\":\"1574\",\"type\":\"LinearAxis\"},{\"attributes\":{},\"id\":\"1583\",\"type\":\"WheelZoomTool\"},{\"attributes\":{\"bottom_units\":\"screen\",\"coordinates\":null,\"fill_alpha\":0.5,\"fill_color\":\"lightgrey\",\"group\":null,\"left_units\":\"screen\",\"level\":\"overlay\",\"line_alpha\":1.0,\"line_color\":\"black\",\"line_dash\":[4,4],\"line_width\":2,\"right_units\":\"screen\",\"syncable\":false,\"top_units\":\"screen\"},\"id\":\"1492\",\"type\":\"BoxAnnotation\"},{\"attributes\":{\"axis_label\":\"CALCITE SOLUBILITY [MOL/KG]\",\"coordinates\":null,\"formatter\":{\"id\":\"1606\"},\"group\":null,\"major_label_policy\":{\"id\":\"1607\"},\"ticker\":{\"id\":\"1579\"}},\"id\":\"1578\",\"type\":\"LinearAxis\"},{\"attributes\":{\"axis\":{\"id\":\"1578\"},\"coordinates\":null,\"dimension\":1,\"group\":null,\"ticker\":null},\"id\":\"1581\",\"type\":\"Grid\"},{\"attributes\":{},\"id\":\"1579\",\"type\":\"BasicTicker\"},{\"attributes\":{\"label\":{\"value\":\"P = 10\"},\"renderers\":[{\"id\":\"1525\"}]},\"id\":\"1539\",\"type\":\"LegendItem\"},{\"attributes\":{},\"id\":\"1587\",\"type\":\"HelpTool\"},{\"attributes\":{\"data\":{\"P\":{\"__ndarray__\":\"AAAAAAAAJEAAAAAAAAAkQAAAAAAAACRAAAAAAAAAJEAAAAAAAAAkQAAAAAAAACRAAAAAAAAAJEAAAAAAAAAkQAAAAAAAACRAAAAAAAAAJEAAAAAAAAAkQAAAAAAAACRAAAAAAAAAJEAAAAAAAAAkQAAAAAAAACRA\",\"dtype\":\"float64\",\"order\":\"little\",\"shape\":[15]},\"T\":{\"__ndarray__\":\"AAAAAAAANEAAAAAAAAA5QAAAAAAAAD5AAAAAAACAQUAAAAAAAABEQAAAAAAAgEZAAAAAAAAASUAAAAAAAIBLQAAAAAAAAE5AAAAAAABAUEAAAAAAAIBRQAAAAAAAwFJAAAAAAAAAVEAAAAAAAEBVQAAAAAAAgFZA\",\"dtype\":\"float64\",\"order\":\"little\",\"shape\":[15]},\"deltaCalcite\":{\"__ndarray__\":\"AAAEbyuPHb8AAAgqIaIevwAA9J8OsB+/AACG1XNcIL8AAA71ZN4gvwAAsbGGXSG/AACC+T3ZIb8AAPTHS1EivwAA6uRHxCK/AADrpkgxI78AAHcGapcjvwAAPXzX9SO/AACJ615MJL8AAOsb1JkkvwAAYViw3SS/\",\"dtype\":\"float64\",\"order\":\"little\",\"shape\":[15]},\"index\":[1,4,7,10,13,16,19,22,25,28,31,34,37,40,43],\"pH\":{\"__ndarray__\":\"gvK000kGJEAI5dXpa8QjQOBdi7kJhSNAdsskuvhHI0B87MiIFw0jQIUDtx9K1CJAmAHLc3idIkAafGPyj2giQHviq0N7NSJAmcw/BykEIkB4sxMiidQhQGAzdIqMpiFAR8mv6id6IUDi/kx+S08hQIld6R7rJSFA\",\"dtype\":\"float64\",\"order\":\"little\",\"shape\":[15]}},\"selected\":{\"id\":\"1537\"},\"selection_policy\":{\"id\":\"1536\"}},\"id\":\"1520\",\"type\":\"ColumnDataSource\"},{\"attributes\":{},\"id\":\"1582\",\"type\":\"PanTool\"},{\"attributes\":{\"overlay\":{\"id\":\"1588\"}},\"id\":\"1584\",\"type\":\"BoxZoomTool\"},{\"attributes\":{},\"id\":\"1516\",\"type\":\"Selection\"},{\"attributes\":{},\"id\":\"1585\",\"type\":\"SaveTool\"},{\"attributes\":{},\"id\":\"1586\",\"type\":\"ResetTool\"},{\"attributes\":{\"tools\":[{\"id\":\"1486\"},{\"id\":\"1487\"},{\"id\":\"1488\"},{\"id\":\"1489\"},{\"id\":\"1490\"},{\"id\":\"1491\"},{\"id\":\"1466\"}]},\"id\":\"1493\",\"type\":\"Toolbar\"},{\"attributes\":{},\"id\":\"1633\",\"type\":\"Selection\"},{\"attributes\":{\"bottom_units\":\"screen\",\"coordinates\":null,\"fill_alpha\":0.5,\"fill_color\":\"lightgrey\",\"group\":null,\"left_units\":\"screen\",\"level\":\"overlay\",\"line_alpha\":1.0,\"line_color\":\"black\",\"line_dash\":[4,4],\"line_width\":2,\"right_units\":\"screen\",\"syncable\":false,\"top_units\":\"screen\"},\"id\":\"1588\",\"type\":\"BoxAnnotation\"},{\"attributes\":{\"data\":{\"P\":{\"__ndarray__\":\"AAAAAAAAWUAAAAAAAABZQAAAAAAAAFlAAAAAAAAAWUAAAAAAAABZQAAAAAAAAFlAAAAAAAAAWUAAAAAAAABZQAAAAAAAAFlAAAAAAAAAWUAAAAAAAABZQAAAAAAAAFlAAAAAAAAAWUAAAAAAAABZQAAAAAAAAFlA\",\"dtype\":\"float64\",\"order\":\"little\",\"shape\":[15]},\"T\":{\"__ndarray__\":\"AAAAAAAANEAAAAAAAAA5QAAAAAAAAD5AAAAAAACAQUAAAAAAAABEQAAAAAAAgEZAAAAAAAAASUAAAAAAAIBLQAAAAAAAAE5AAAAAAABAUEAAAAAAAIBRQAAAAAAAwFJAAAAAAAAAVEAAAAAAAEBVQAAAAAAAgFZA\",\"dtype\":\"float64\",\"order\":\"little\",\"shape\":[15]},\"deltaCalcite\":{\"__ndarray__\":\"AAA0QFM3IL8AAApaTbwgvwAAyDzUPiG/AACPvAS/Ib8AANFRET0ivwAAuU27uCK/AABOKHExI78AADKF/6YjvwAAqrDrFyS/AACkaUGDJL8AANB1D+gkvwAA4PVyRSW/AABbIDWbJb8AAFbfEeglvwAAdP51Kya/\",\"dtype\":\"float64\",\"order\":\"little\",\"shape\":[15]},\"index\":[2,5,8,11,14,17,20,23,26,29,32,35,38,41,44],\"pH\":{\"__ndarray__\":\"FnLiJm0AJECH90l44b4jQKWTdS/LfyNAUEDlQv9CI0AaclMEXAgjQOR5CmLFzyJA4v3FeiOZIkBm/QEIZGQiQIctrCVyMSJAgQkK7TwAIkCT+2m+tNAhQPS3cQTLoiFAmzEez3R2IUCFvGyxokshQEaXYcZIIiFA\",\"dtype\":\"float64\",\"order\":\"little\",\"shape\":[15]}},\"selected\":{\"id\":\"1559\"},\"selection_policy\":{\"id\":\"1558\"}},\"id\":\"1540\",\"type\":\"ColumnDataSource\"},{\"attributes\":{\"source\":{\"id\":\"1616\"}},\"id\":\"1622\",\"type\":\"CDSView\"},{\"attributes\":{},\"id\":\"1536\",\"type\":\"UnionRenderers\"},{\"attributes\":{\"tools\":[{\"id\":\"1582\"},{\"id\":\"1583\"},{\"id\":\"1584\"},{\"id\":\"1585\"},{\"id\":\"1586\"},{\"id\":\"1587\"},{\"id\":\"1562\"}]},\"id\":\"1589\",\"type\":\"Toolbar\"},{\"attributes\":{\"line_alpha\":0.2,\"line_cap\":\"round\",\"line_color\":\"indigo\",\"line_width\":3,\"x\":{\"field\":\"T\"},\"y\":{\"field\":\"deltaCalcite\"}},\"id\":\"1640\",\"type\":\"Line\"},{\"attributes\":{\"data\":{\"P\":{\"__ndarray__\":\"AAAAAAAAJEAAAAAAAAAkQAAAAAAAACRAAAAAAAAAJEAAAAAAAAAkQAAAAAAAACRAAAAAAAAAJEAAAAAAAAAkQAAAAAAAACRAAAAAAAAAJEAAAAAAAAAkQAAAAAAAACRAAAAAAAAAJEAAAAAAAAAkQAAAAAAAACRA\",\"dtype\":\"float64\",\"order\":\"little\",\"shape\":[15]},\"T\":{\"__ndarray__\":\"AAAAAAAANEAAAAAAAAA5QAAAAAAAAD5AAAAAAACAQUAAAAAAAABEQAAAAAAAgEZAAAAAAAAASUAAAAAAAIBLQAAAAAAAAE5AAAAAAABAUEAAAAAAAIBRQAAAAAAAwFJAAAAAAAAAVEAAAAAAAEBVQAAAAAAAgFZA\",\"dtype\":\"float64\",\"order\":\"little\",\"shape\":[15]},\"deltaCalcite\":{\"__ndarray__\":\"AEqXs7uDmL8AvIYivuWWvwAMnNHtyZS/AIALqkTjkr8ABFCcFiyRvwCQ9lLQPo+/APxiXaNxjL8AsIxgo+6JvwD8w36Rp4e/AFg0wICWhb8AQKnwIbaDvwDIei2yAYK/AFi7tKV3gL8AmMa7gCF+vwD4lW5gk3u/\",\"dtype\":\"float64\",\"order\":\"little\",\"shape\":[15]},\"index\":[1,4,7,10,13,16,19,22,25,28,31,34,37,40,43],\"pH\":{\"__ndarray__\":\"Ib1jYPOIFUDFZnJeoGwVQGZotNZ1ZRVAqFZZiz9fFUAlBOO26VkVQBW8n2djVRVA0XFj251RFUCO9wjCt04VQADalbx2TBVA9OROXtBKFUBEvfE0u0kVQHk/C6UuSRVAf3Vl3EVJFUAUkuH900kVQBKz8obSShVA\",\"dtype\":\"float64\",\"order\":\"little\",\"shape\":[15]}},\"selected\":{\"id\":\"1633\"},\"selection_policy\":{\"id\":\"1632\"}},\"id\":\"1616\",\"type\":\"ColumnDataSource\"},{\"attributes\":{\"toolbar\":{\"id\":\"1689\"},\"toolbar_location\":\"above\"},\"id\":\"1690\",\"type\":\"ToolbarBox\"},{\"attributes\":{\"line_cap\":\"round\",\"line_color\":\"indigo\",\"line_width\":3,\"x\":{\"field\":\"T\"},\"y\":{\"field\":\"deltaCalcite\"}},\"id\":\"1542\",\"type\":\"Line\"},{\"attributes\":{},\"id\":\"1483\",\"type\":\"BasicTicker\"},{\"attributes\":{\"axis\":{\"id\":\"1482\"},\"coordinates\":null,\"dimension\":1,\"group\":null,\"ticker\":null},\"id\":\"1485\",\"type\":\"Grid\"},{\"attributes\":{\"axis_label\":\"CALCITE SOLUBILITY [MOL/KG]\",\"coordinates\":null,\"formatter\":{\"id\":\"1510\"},\"group\":null,\"major_label_policy\":{\"id\":\"1511\"},\"ticker\":{\"id\":\"1483\"}},\"id\":\"1482\",\"type\":\"LinearAxis\"},{\"attributes\":{\"source\":{\"id\":\"1636\"}},\"id\":\"1642\",\"type\":\"CDSView\"},{\"attributes\":{\"source\":{\"id\":\"1520\"}},\"id\":\"1526\",\"type\":\"CDSView\"},{\"attributes\":{\"line_alpha\":0.1,\"line_cap\":\"round\",\"line_color\":\"indigo\",\"line_width\":3,\"x\":{\"field\":\"T\"},\"y\":{\"field\":\"deltaCalcite\"}},\"id\":\"1639\",\"type\":\"Line\"},{\"attributes\":{\"coordinates\":null,\"data_source\":{\"id\":\"1636\"},\"glyph\":{\"id\":\"1638\"},\"group\":null,\"hover_glyph\":null,\"muted_glyph\":{\"id\":\"1640\"},\"nonselection_glyph\":{\"id\":\"1639\"},\"view\":{\"id\":\"1642\"}},\"id\":\"1641\",\"type\":\"GlyphRenderer\"},{\"attributes\":{\"axis_label\":\"TEMPERATURE [\\u00b0C]\",\"coordinates\":null,\"formatter\":{\"id\":\"1513\"},\"group\":null,\"major_label_policy\":{\"id\":\"1514\"},\"ticker\":{\"id\":\"1479\"}},\"id\":\"1478\",\"type\":\"LinearAxis\"},{\"attributes\":{},\"id\":\"1472\",\"type\":\"DataRange1d\"},{\"attributes\":{\"label\":{\"value\":\"P = 100\"},\"renderers\":[{\"id\":\"1641\"}]},\"id\":\"1657\",\"type\":\"LegendItem\"}],\"root_ids\":[\"1691\"]},\"title\":\"Bokeh Application\",\"version\":\"2.4.2\"}};\n  const render_items = [{\"docid\":\"be145735-56f9-4586-b94a-dd57921eadc9\",\"root_ids\":[\"1691\"],\"roots\":{\"1691\":\"ed56f06d-0db0-4ae5-89c0-92aeb26f7559\"}}];\n  root.Bokeh.embed.embed_items_notebook(docs_json, render_items);\n\n  }\n  if (root.Bokeh !== undefined) {\n    embed_document(root);\n  } else {\n    let attempts = 0;\n    const timer = setInterval(function(root) {\n      if (root.Bokeh !== undefined) {\n        clearInterval(timer);\n        embed_document(root);\n      } else {\n        attempts++;\n        if (attempts > 100) {\n          clearInterval(timer);\n          console.log(\"Bokeh: ERROR: Unable to run BokehJS code because BokehJS library is missing\");\n        }\n      }\n    }, 10, root)\n  }\n})(window);",
      "application/vnd.bokehjs_exec.v0+json": ""
     },
     "metadata": {
      "application/vnd.bokehjs_exec.v0+json": {
       "id": "1691"
      }
     },
     "output_type": "display_data"
    }
   ],
   "source": [
    "from bokeh.models import HoverTool, Legend\n",
    "from bokeh.plotting import gridplot\n",
    "from bokeh.models import ColumnDataSource\n",
    "colors = ['teal', 'darkred', 'indigo', 'coral']\n",
    "\n",
    "# ----------------------------------- #\n",
    "# Plot calcite solubility in water\n",
    "# ----------------------------------- #\n",
    "hovertool1 = HoverTool()\n",
    "hovertool1.tooltips = [(\"T\", \"@T °C\"),\n",
    "                      (\"P\", \"@P bar\"),\n",
    "                      (\"delta(Calcite)\", \"@deltaCalcite mol\")]\n",
    "p1 = figure(\n",
    "    title=\"CALCITE SOLUBILITY IN WATER\",\n",
    "    x_axis_label=r'TEMPERATURE [°C]',\n",
    "    y_axis_label='CALCITE SOLUBILITY [MOL/KG]',\n",
    "    sizing_mode=\"scale_width\",\n",
    "    plot_height=300)\n",
    "\n",
    "p1.add_tools(hovertool1)\n",
    "\n",
    "for P, color in zip(pressures, colors):\n",
    "    df_water_P = ColumnDataSource(df_water[df_water['P'] == P])\n",
    "    p1.line(\"T\", \"deltaCalcite\", legend_label=f'P = {P}', line_width=3, line_cap=\"round\", line_color=color, source=df_water_P)\n",
    "\n",
    "p1.legend.location = 'top_right'\n",
    "\n",
    "# ----------------------------------- #\n",
    "# Plot calcite solubility in rainwater\n",
    "# ----------------------------------- #\n",
    "hovertool2 = HoverTool()\n",
    "hovertool2.tooltips = [(\"T\", \"@T °C\"),\n",
    "                      (\"P\", \"@P bar\"),\n",
    "                      (\"delta(Calcite)\", \"@deltaCalcite mol\")]\n",
    "\n",
    "p2 = figure(\n",
    "    title=\"CALCITE SOLUBILITY IN RAINWATER\",\n",
    "    x_axis_label=r'TEMPERATURE [°C]',\n",
    "    y_axis_label='CALCITE SOLUBILITY [MOL/KG]',\n",
    "    sizing_mode=\"scale_width\",\n",
    "    plot_height=300)\n",
    "\n",
    "p2.add_tools(hovertool2)\n",
    "\n",
    "for P, color in zip(pressures, colors):\n",
    "    df_rainwater_P = ColumnDataSource(df_rainwater[df_water['P'] == P])\n",
    "    p2.line(\"T\", \"deltaCalcite\", legend_label=f'P = {P}', line_width=3, line_cap=\"round\", line_color=color, source=df_rainwater_P)\n",
    "\n",
    "grid = gridplot([[p1], [p2]])\n",
    "\n",
    "show(grid)"
   ]
  },
  {
   "cell_type": "markdown",
   "source": [
    "## Solubility of calcite in the seawater with increasing levels of CO<sub>2</sub>\n",
    "\n",
    "The anthropogenic CO<sub>2</sub> absorbed by the oceans results in an increase in the concentration of hydrogen ions (H<sup>+</sup>) and in bicarbonate ions (HCO<sub>3</sub><sup>-</sup>) and a decrease in carbonate ions (CO<sub>3</sub></sub><sup>-2</sup>). A review article of *Figuerola et al., A Review and Meta-Analysis of Potential Impacts of Ocean Acidification on Marine Calcifiers From the Southern Ocean, Front. Mar. Sci., 2021* identifies *ocean acidification (OA)* (accompanied by reduction in CO<sub>3</sub></sub><sup>-2</sup>, see figure below) as a critical issue for shells and skeletons of marine calcifiers such as foraminifera, corals, echinoderms, molluscs, and bryozoans. OA process is shallowing the carbonate saturation horizon (which is the depth below which calcium carbonate dissolves) likely increasing the vulnerability of many resident marine calcifiers to dissolution. Moreover, ocean warming could further exacerbate the effects of OA in these particular species. That is why understanding of dependence of calcite solubility on various factors is an important modelling question.\n",
    "\n",
    "|![Infographic of the ocean acidification process](../../images/ocian-acidification.jpeg)|\n",
    "|:--:|\n",
    "|Infographic of the ocean acidification process, Source: frontiersin.org|\n",
    "\n",
    "Below, we define the auxiliary variables with initial values of CO<sub>2</sub> amounts and its increment. We run the loop with `nsteps` steps adding CO<sub>2</sub> into seawater asn re-equilibrate. The level of added carbon dioxide as well as corresponding pH, we collect into dataframe."
   ],
   "metadata": {
    "collapsed": false
   }
  },
  {
   "cell_type": "code",
   "execution_count": 51,
   "outputs": [],
   "source": [
    "co2_0 = 0.0\n",
    "co2_delta = 2.0 # in mmol\n",
    "nsteps = 50\n",
    "\n",
    "df_seawater = pd.DataFrame(columns=[\"amountCO2\", \"pH\", \"deltaCalcite\"])\n",
    "\n",
    "T = 25\n",
    "P = 1\n",
    "\n",
    "for i in range(nsteps):\n",
    "\n",
    "    # Initial amount of calcite\n",
    "    n0Calcite = 10.0\n",
    "\n",
    "    conditions.temperature(T, \"celsius\")\n",
    "    conditions.pressure(P, \"bar\")\n",
    "\n",
    "    # Add more CO2 to the problem\n",
    "    state = seawater()\n",
    "    state.set(\"CO2(g)\", co2_0, \"mmol\")\n",
    "\n",
    "    # Equilibrate the solution given by the chemical state and conditions\n",
    "    res = solver.solve(state, conditions)\n",
    "\n",
    "    # Add `n0Calcite` amount of calcite\n",
    "    state.set(\"Calcite\", n0Calcite, \"mol\")\n",
    "\n",
    "    # Equilibrate solution with added calcite\n",
    "    res = solver.solve(state)\n",
    "\n",
    "    # Update aqueous properties\n",
    "    aprops.update(state)\n",
    "\n",
    "    # Fetch the amount of final calcite in the equilibrium state\n",
    "    nCalcite = float(state.speciesAmount(\"Calcite\"))\n",
    "\n",
    "    # Update CO2 amount\n",
    "    co2_0 += co2_delta\n",
    "\n",
    "    # Append new calculated value to the dataframe\n",
    "    df_seawater.loc[len(df_seawater)] = [co2_0, float(aprops.pH()), n0Calcite - nCalcite]"
   ],
   "metadata": {
    "collapsed": false,
    "pycharm": {
     "name": "#%%\n"
    }
   }
  },
  {
   "cell_type": "markdown",
   "source": [
    "Below, we plot pH and calcite solubility dependence on the added CO<sub>2</sub> into seawater."
   ],
   "metadata": {
    "collapsed": false
   }
  },
  {
   "cell_type": "code",
   "execution_count": 52,
   "outputs": [
    {
     "data": {
      "text/html": "\n\n\n\n\n\n  <div class=\"bk-root\" id=\"31c41679-80ef-4e6a-b884-3931a4baefbd\" data-root-id=\"5478\"></div>\n"
     },
     "metadata": {},
     "output_type": "display_data"
    },
    {
     "data": {
      "application/javascript": "(function(root) {\n  function embed_document(root) {\n    \n  const docs_json = {\"7736bfb3-61c7-463f-b32e-58a85141948c\":{\"defs\":[],\"roots\":{\"references\":[{\"attributes\":{\"children\":[{\"id\":\"5477\"},{\"id\":\"5475\"}]},\"id\":\"5478\",\"type\":\"Column\"},{\"attributes\":{\"axis_label\":\"PH [-]\",\"coordinates\":null,\"formatter\":{\"id\":\"5455\"},\"group\":null,\"major_label_policy\":{\"id\":\"5456\"},\"ticker\":{\"id\":\"5387\"}},\"id\":\"5386\",\"type\":\"LinearAxis\"},{\"attributes\":{},\"id\":\"5459\",\"type\":\"AllLabels\"},{\"attributes\":{},\"id\":\"5421\",\"type\":\"LinearScale\"},{\"attributes\":{},\"id\":\"5393\",\"type\":\"SaveTool\"},{\"attributes\":{\"axis\":{\"id\":\"5382\"},\"coordinates\":null,\"group\":null,\"ticker\":null},\"id\":\"5385\",\"type\":\"Grid\"},{\"attributes\":{\"line_cap\":\"round\",\"line_color\":\"coral\",\"line_width\":3,\"x\":{\"field\":\"amountCO2\"},\"y\":{\"field\":\"deltaCalcite\"}},\"id\":\"5448\",\"type\":\"Line\"},{\"attributes\":{\"axis_label\":\"CO2 AMOUNT [MMOL]\",\"coordinates\":null,\"formatter\":{\"id\":\"5458\"},\"group\":null,\"major_label_policy\":{\"id\":\"5459\"},\"ticker\":{\"id\":\"5383\"}},\"id\":\"5382\",\"type\":\"LinearAxis\"},{\"attributes\":{\"line_cap\":\"round\",\"line_color\":\"indigo\",\"line_width\":3,\"x\":{\"field\":\"amountCO2\"},\"y\":{\"field\":\"pH\"}},\"id\":\"5407\",\"type\":\"Line\"},{\"attributes\":{},\"id\":\"5424\",\"type\":\"BasicTicker\"},{\"attributes\":{},\"id\":\"5417\",\"type\":\"DataRange1d\"},{\"attributes\":{},\"id\":\"5466\",\"type\":\"BasicTickFormatter\"},{\"attributes\":{\"children\":[[{\"id\":\"5371\"},0,0],[{\"id\":\"5412\"},1,0]]},\"id\":\"5475\",\"type\":\"GridBox\"},{\"attributes\":{},\"id\":\"5432\",\"type\":\"WheelZoomTool\"},{\"attributes\":{\"coordinates\":null,\"group\":null,\"text\":\"CALCITE SOLUBILITY DEPENDENCE ON AMOUNT OF ADDED CO2 TO THE SEAWATER\"},\"id\":\"5413\",\"type\":\"Title\"},{\"attributes\":{},\"id\":\"5467\",\"type\":\"AllLabels\"},{\"attributes\":{\"overlay\":{\"id\":\"5396\"}},\"id\":\"5392\",\"type\":\"BoxZoomTool\"},{\"attributes\":{\"bottom_units\":\"screen\",\"coordinates\":null,\"fill_alpha\":0.5,\"fill_color\":\"lightgrey\",\"group\":null,\"left_units\":\"screen\",\"level\":\"overlay\",\"line_alpha\":1.0,\"line_color\":\"black\",\"line_dash\":[4,4],\"line_width\":2,\"right_units\":\"screen\",\"syncable\":false,\"top_units\":\"screen\"},\"id\":\"5437\",\"type\":\"BoxAnnotation\"},{\"attributes\":{\"axis_label\":\"CO2 AMOUNT [MMOL]\",\"coordinates\":null,\"formatter\":{\"id\":\"5469\"},\"group\":null,\"major_label_policy\":{\"id\":\"5470\"},\"ticker\":{\"id\":\"5424\"}},\"id\":\"5423\",\"type\":\"LinearAxis\"},{\"attributes\":{},\"id\":\"5469\",\"type\":\"BasicTickFormatter\"},{\"attributes\":{},\"id\":\"5394\",\"type\":\"ResetTool\"},{\"attributes\":{},\"id\":\"5380\",\"type\":\"LinearScale\"},{\"attributes\":{},\"id\":\"5378\",\"type\":\"LinearScale\"},{\"attributes\":{\"coordinates\":null,\"group\":null,\"text\":\"PH DEPENDENCE ON AMOUNT OF ADDED CO2 TO THE SEAWATER\"},\"id\":\"5372\",\"type\":\"Title\"},{\"attributes\":{},\"id\":\"5470\",\"type\":\"AllLabels\"},{\"attributes\":{},\"id\":\"5436\",\"type\":\"HelpTool\"},{\"attributes\":{\"line_alpha\":0.2,\"line_cap\":\"round\",\"line_color\":\"coral\",\"line_width\":3,\"x\":{\"field\":\"amountCO2\"},\"y\":{\"field\":\"deltaCalcite\"}},\"id\":\"5450\",\"type\":\"Line\"},{\"attributes\":{\"bottom_units\":\"screen\",\"coordinates\":null,\"fill_alpha\":0.5,\"fill_color\":\"lightgrey\",\"group\":null,\"left_units\":\"screen\",\"level\":\"overlay\",\"line_alpha\":1.0,\"line_color\":\"black\",\"line_dash\":[4,4],\"line_width\":2,\"right_units\":\"screen\",\"syncable\":false,\"top_units\":\"screen\"},\"id\":\"5396\",\"type\":\"BoxAnnotation\"},{\"attributes\":{},\"id\":\"5376\",\"type\":\"DataRange1d\"},{\"attributes\":{},\"id\":\"5428\",\"type\":\"BasicTicker\"},{\"attributes\":{\"source\":{\"id\":\"5446\"}},\"id\":\"5452\",\"type\":\"CDSView\"},{\"attributes\":{},\"id\":\"5461\",\"type\":\"Selection\"},{\"attributes\":{},\"id\":\"5383\",\"type\":\"BasicTicker\"},{\"attributes\":{\"line_alpha\":0.1,\"line_cap\":\"round\",\"line_color\":\"coral\",\"line_width\":3,\"x\":{\"field\":\"amountCO2\"},\"y\":{\"field\":\"deltaCalcite\"}},\"id\":\"5449\",\"type\":\"Line\"},{\"attributes\":{},\"id\":\"5390\",\"type\":\"PanTool\"},{\"attributes\":{},\"id\":\"5431\",\"type\":\"PanTool\"},{\"attributes\":{\"source\":{\"id\":\"5405\"}},\"id\":\"5411\",\"type\":\"CDSView\"},{\"attributes\":{},\"id\":\"5395\",\"type\":\"HelpTool\"},{\"attributes\":{},\"id\":\"5419\",\"type\":\"LinearScale\"},{\"attributes\":{\"line_alpha\":0.1,\"line_cap\":\"round\",\"line_color\":\"indigo\",\"line_width\":3,\"x\":{\"field\":\"amountCO2\"},\"y\":{\"field\":\"pH\"}},\"id\":\"5408\",\"type\":\"Line\"},{\"attributes\":{},\"id\":\"5435\",\"type\":\"ResetTool\"},{\"attributes\":{\"line_alpha\":0.2,\"line_cap\":\"round\",\"line_color\":\"indigo\",\"line_width\":3,\"x\":{\"field\":\"amountCO2\"},\"y\":{\"field\":\"pH\"}},\"id\":\"5409\",\"type\":\"Line\"},{\"attributes\":{},\"id\":\"5455\",\"type\":\"BasicTickFormatter\"},{\"attributes\":{},\"id\":\"5415\",\"type\":\"DataRange1d\"},{\"attributes\":{\"below\":[{\"id\":\"5423\"}],\"center\":[{\"id\":\"5426\"},{\"id\":\"5430\"}],\"height\":300,\"left\":[{\"id\":\"5427\"}],\"renderers\":[{\"id\":\"5451\"}],\"sizing_mode\":\"scale_width\",\"title\":{\"id\":\"5413\"},\"toolbar\":{\"id\":\"5438\"},\"toolbar_location\":null,\"x_range\":{\"id\":\"5415\"},\"x_scale\":{\"id\":\"5419\"},\"y_range\":{\"id\":\"5417\"},\"y_scale\":{\"id\":\"5421\"}},\"id\":\"5412\",\"subtype\":\"Figure\",\"type\":\"Plot\"},{\"attributes\":{\"tools\":[{\"id\":\"5390\"},{\"id\":\"5391\"},{\"id\":\"5392\"},{\"id\":\"5393\"},{\"id\":\"5394\"},{\"id\":\"5395\"},{\"id\":\"5370\"}]},\"id\":\"5397\",\"type\":\"Toolbar\"},{\"attributes\":{\"overlay\":{\"id\":\"5437\"}},\"id\":\"5433\",\"type\":\"BoxZoomTool\"},{\"attributes\":{\"axis\":{\"id\":\"5427\"},\"coordinates\":null,\"dimension\":1,\"group\":null,\"ticker\":null},\"id\":\"5430\",\"type\":\"Grid\"},{\"attributes\":{},\"id\":\"5471\",\"type\":\"UnionRenderers\"},{\"attributes\":{\"toolbar\":{\"id\":\"5476\"},\"toolbar_location\":\"above\"},\"id\":\"5477\",\"type\":\"ToolbarBox\"},{\"attributes\":{\"toolbars\":[{\"id\":\"5397\"},{\"id\":\"5438\"}],\"tools\":[{\"id\":\"5390\"},{\"id\":\"5391\"},{\"id\":\"5392\"},{\"id\":\"5393\"},{\"id\":\"5394\"},{\"id\":\"5395\"},{\"id\":\"5370\"},{\"id\":\"5431\"},{\"id\":\"5432\"},{\"id\":\"5433\"},{\"id\":\"5434\"},{\"id\":\"5435\"},{\"id\":\"5436\"},{\"id\":\"5370\"}]},\"id\":\"5476\",\"type\":\"ProxyToolbar\"},{\"attributes\":{\"data\":{\"amountCO2\":{\"__ndarray__\":\"AAAAAAAAAEAAAAAAAAAQQAAAAAAAABhAAAAAAAAAIEAAAAAAAAAkQAAAAAAAAChAAAAAAAAALEAAAAAAAAAwQAAAAAAAADJAAAAAAAAANEAAAAAAAAA2QAAAAAAAADhAAAAAAAAAOkAAAAAAAAA8QAAAAAAAAD5AAAAAAAAAQEAAAAAAAABBQAAAAAAAAEJAAAAAAAAAQ0AAAAAAAABEQAAAAAAAAEVAAAAAAAAARkAAAAAAAABHQAAAAAAAAEhAAAAAAAAASUAAAAAAAABKQAAAAAAAAEtAAAAAAAAATEAAAAAAAABNQAAAAAAAAE5AAAAAAAAAT0AAAAAAAABQQAAAAAAAgFBAAAAAAAAAUUAAAAAAAIBRQAAAAAAAAFJAAAAAAACAUkAAAAAAAABTQAAAAAAAgFNAAAAAAAAAVEAAAAAAAIBUQAAAAAAAAFVAAAAAAACAVUAAAAAAAABWQAAAAAAAgFZAAAAAAAAAV0AAAAAAAIBXQAAAAAAAAFhAAAAAAACAWEAAAAAAAABZQA==\",\"dtype\":\"float64\",\"order\":\"little\",\"shape\":[50]},\"deltaCalcite\":{\"__ndarray__\":\"AAAAAAAAAAAAoAhwoz1XPwCQKljEWWU/AMB7YSh8bT8ACEtMk0FyPwDQYLJOXXU/AOCiZbopeD8AoN5Ldbd6PwBIEe9LEn0/AOhvNuxCfz8A8L2e9KeAPwAoO84un4E/AMBFbSqJgj8AdOEniWeDPwAM7hqhO4Q/AHDEP44GhT8A6FsSP8mFPwDUOu99hIY/AByCIvg4hz8AiAxPQ+eHPwB8B6Dhj4g/AIyR0RzhiD8AmJHRHOGIPwCMkdEc4Yg/AIyR0RzhiD8AgJHRHOGIPwCMkdEc4Yg/AIyR0RzhiD8AgJHRHOGIPwDMkdEc4Yg/AIyR0RzhiD8AgJHRHOGIPwDMkdEc4Yg/AIyR0RzhiD8AgJHRHOGIPwDMkdEc4Yg/AHyR0RzhiD8AbJHRHOGIPwBskdEc4Yg/AHyR0RzhiD8AbJHRHOGIPwBskdEc4Yg/AMCR0RzhiD8AbJHRHOGIPwBskdEc4Yg/AMCR0RzhiD8AbJHRHOGIPwBskdEc4Yg/AMCR0RzhiD8AbJHRHOGIPw==\",\"dtype\":\"float64\",\"order\":\"little\",\"shape\":[50]},\"index\":[0,1,2,3,4,5,6,7,8,9,10,11,12,13,14,15,16,17,18,19,20,21,22,23,24,25,26,27,28,29,30,31,32,33,34,35,36,37,38,39,40,41,42,43,44,45,46,47,48,49],\"pH\":{\"__ndarray__\":\"/e+8NdiqHUB4Eyx5EO4bQJIE62gzHBtAc0tjHgKVGkBLzxfgbTIaQP+PcNtl5RlA4ovMqHamGUBBGAz4a3EZQJfxbPGtQxlAC/fu04cbGUCxDTTIy/cYQOOUEvKg1xhAzMCViWa6GED3pMs2op8YQDXPltL0hhhA4IgU9xJwGECQsqbtv1oYQPUjECLKRhhA8dsDlwg0GEC/reQJWSIYQL1uJ5CeERhAGGrbg7AJGEDHaduDsAkYQP1p24OwCRhA/Wnbg7AJGEAUatuDsAkYQPlp24OwCRhA8Wnbg7AJGEAratuDsAkYQLAt1YOwCRhA92nbg7AJGEAuatuDsAkYQLst1YOwCRhA7mnbg7AJGEAiatuDsAkYQLct1YOwCRhAMmvbg7AJGEBXa9uDsAkYQF9r24OwCRhAImvbg7AJGEBXa9uDsAkYQGFr24OwCRhA7i3Vg7AJGEBha9uDsAkYQFVr24OwCRhA7y3Vg7AJGEBea9uDsAkYQFdr24OwCRhA7S3Vg7AJGEBJa9uDsAkYQA==\",\"dtype\":\"float64\",\"order\":\"little\",\"shape\":[50]}},\"selected\":{\"id\":\"5461\"},\"selection_policy\":{\"id\":\"5460\"}},\"id\":\"5405\",\"type\":\"ColumnDataSource\"},{\"attributes\":{\"tools\":[{\"id\":\"5431\"},{\"id\":\"5432\"},{\"id\":\"5433\"},{\"id\":\"5434\"},{\"id\":\"5435\"},{\"id\":\"5436\"},{\"id\":\"5370\"}]},\"id\":\"5438\",\"type\":\"Toolbar\"},{\"attributes\":{},\"id\":\"5460\",\"type\":\"UnionRenderers\"},{\"attributes\":{},\"id\":\"5472\",\"type\":\"Selection\"},{\"attributes\":{\"axis\":{\"id\":\"5423\"},\"coordinates\":null,\"group\":null,\"ticker\":null},\"id\":\"5426\",\"type\":\"Grid\"},{\"attributes\":{},\"id\":\"5434\",\"type\":\"SaveTool\"},{\"attributes\":{},\"id\":\"5456\",\"type\":\"AllLabels\"},{\"attributes\":{\"axis\":{\"id\":\"5386\"},\"coordinates\":null,\"dimension\":1,\"group\":null,\"ticker\":null},\"id\":\"5389\",\"type\":\"Grid\"},{\"attributes\":{\"axis_label\":\"CALCITE SOLUBILITY [MOL]\",\"coordinates\":null,\"formatter\":{\"id\":\"5466\"},\"group\":null,\"major_label_policy\":{\"id\":\"5467\"},\"ticker\":{\"id\":\"5428\"}},\"id\":\"5427\",\"type\":\"LinearAxis\"},{\"attributes\":{\"callback\":null,\"tooltips\":[[\"amount(CO2)\",\"@amountCO2 mmol\"],[\"pH\",\"@pH\"],[\"delta(Calcite)\",\"@deltaCalcite\"]]},\"id\":\"5370\",\"type\":\"HoverTool\"},{\"attributes\":{\"coordinates\":null,\"data_source\":{\"id\":\"5446\"},\"glyph\":{\"id\":\"5448\"},\"group\":null,\"hover_glyph\":null,\"muted_glyph\":{\"id\":\"5450\"},\"nonselection_glyph\":{\"id\":\"5449\"},\"view\":{\"id\":\"5452\"}},\"id\":\"5451\",\"type\":\"GlyphRenderer\"},{\"attributes\":{},\"id\":\"5458\",\"type\":\"BasicTickFormatter\"},{\"attributes\":{},\"id\":\"5374\",\"type\":\"DataRange1d\"},{\"attributes\":{},\"id\":\"5391\",\"type\":\"WheelZoomTool\"},{\"attributes\":{\"below\":[{\"id\":\"5382\"}],\"center\":[{\"id\":\"5385\"},{\"id\":\"5389\"}],\"height\":300,\"left\":[{\"id\":\"5386\"}],\"renderers\":[{\"id\":\"5410\"}],\"sizing_mode\":\"scale_width\",\"title\":{\"id\":\"5372\"},\"toolbar\":{\"id\":\"5397\"},\"toolbar_location\":null,\"x_range\":{\"id\":\"5374\"},\"x_scale\":{\"id\":\"5378\"},\"y_range\":{\"id\":\"5376\"},\"y_scale\":{\"id\":\"5380\"}},\"id\":\"5371\",\"subtype\":\"Figure\",\"type\":\"Plot\"},{\"attributes\":{\"data\":{\"amountCO2\":{\"__ndarray__\":\"AAAAAAAAAEAAAAAAAAAQQAAAAAAAABhAAAAAAAAAIEAAAAAAAAAkQAAAAAAAAChAAAAAAAAALEAAAAAAAAAwQAAAAAAAADJAAAAAAAAANEAAAAAAAAA2QAAAAAAAADhAAAAAAAAAOkAAAAAAAAA8QAAAAAAAAD5AAAAAAAAAQEAAAAAAAABBQAAAAAAAAEJAAAAAAAAAQ0AAAAAAAABEQAAAAAAAAEVAAAAAAAAARkAAAAAAAABHQAAAAAAAAEhAAAAAAAAASUAAAAAAAABKQAAAAAAAAEtAAAAAAAAATEAAAAAAAABNQAAAAAAAAE5AAAAAAAAAT0AAAAAAAABQQAAAAAAAgFBAAAAAAAAAUUAAAAAAAIBRQAAAAAAAAFJAAAAAAACAUkAAAAAAAABTQAAAAAAAgFNAAAAAAAAAVEAAAAAAAIBUQAAAAAAAAFVAAAAAAACAVUAAAAAAAABWQAAAAAAAgFZAAAAAAAAAV0AAAAAAAIBXQAAAAAAAAFhAAAAAAACAWEAAAAAAAABZQA==\",\"dtype\":\"float64\",\"order\":\"little\",\"shape\":[50]},\"deltaCalcite\":{\"__ndarray__\":\"AAAAAAAAAAAAoAhwoz1XPwCQKljEWWU/AMB7YSh8bT8ACEtMk0FyPwDQYLJOXXU/AOCiZbopeD8AoN5Ldbd6PwBIEe9LEn0/AOhvNuxCfz8A8L2e9KeAPwAoO84un4E/AMBFbSqJgj8AdOEniWeDPwAM7hqhO4Q/AHDEP44GhT8A6FsSP8mFPwDUOu99hIY/AByCIvg4hz8AiAxPQ+eHPwB8B6Dhj4g/AIyR0RzhiD8AmJHRHOGIPwCMkdEc4Yg/AIyR0RzhiD8AgJHRHOGIPwCMkdEc4Yg/AIyR0RzhiD8AgJHRHOGIPwDMkdEc4Yg/AIyR0RzhiD8AgJHRHOGIPwDMkdEc4Yg/AIyR0RzhiD8AgJHRHOGIPwDMkdEc4Yg/AHyR0RzhiD8AbJHRHOGIPwBskdEc4Yg/AHyR0RzhiD8AbJHRHOGIPwBskdEc4Yg/AMCR0RzhiD8AbJHRHOGIPwBskdEc4Yg/AMCR0RzhiD8AbJHRHOGIPwBskdEc4Yg/AMCR0RzhiD8AbJHRHOGIPw==\",\"dtype\":\"float64\",\"order\":\"little\",\"shape\":[50]},\"index\":[0,1,2,3,4,5,6,7,8,9,10,11,12,13,14,15,16,17,18,19,20,21,22,23,24,25,26,27,28,29,30,31,32,33,34,35,36,37,38,39,40,41,42,43,44,45,46,47,48,49],\"pH\":{\"__ndarray__\":\"/e+8NdiqHUB4Eyx5EO4bQJIE62gzHBtAc0tjHgKVGkBLzxfgbTIaQP+PcNtl5RlA4ovMqHamGUBBGAz4a3EZQJfxbPGtQxlAC/fu04cbGUCxDTTIy/cYQOOUEvKg1xhAzMCViWa6GED3pMs2op8YQDXPltL0hhhA4IgU9xJwGECQsqbtv1oYQPUjECLKRhhA8dsDlwg0GEC/reQJWSIYQL1uJ5CeERhAGGrbg7AJGEDHaduDsAkYQP1p24OwCRhA/Wnbg7AJGEAUatuDsAkYQPlp24OwCRhA8Wnbg7AJGEAratuDsAkYQLAt1YOwCRhA92nbg7AJGEAuatuDsAkYQLst1YOwCRhA7mnbg7AJGEAiatuDsAkYQLct1YOwCRhAMmvbg7AJGEBXa9uDsAkYQF9r24OwCRhAImvbg7AJGEBXa9uDsAkYQGFr24OwCRhA7i3Vg7AJGEBha9uDsAkYQFVr24OwCRhA7y3Vg7AJGEBea9uDsAkYQFdr24OwCRhA7S3Vg7AJGEBJa9uDsAkYQA==\",\"dtype\":\"float64\",\"order\":\"little\",\"shape\":[50]}},\"selected\":{\"id\":\"5472\"},\"selection_policy\":{\"id\":\"5471\"}},\"id\":\"5446\",\"type\":\"ColumnDataSource\"},{\"attributes\":{},\"id\":\"5387\",\"type\":\"BasicTicker\"},{\"attributes\":{\"coordinates\":null,\"data_source\":{\"id\":\"5405\"},\"glyph\":{\"id\":\"5407\"},\"group\":null,\"hover_glyph\":null,\"muted_glyph\":{\"id\":\"5409\"},\"nonselection_glyph\":{\"id\":\"5408\"},\"view\":{\"id\":\"5411\"}},\"id\":\"5410\",\"type\":\"GlyphRenderer\"}],\"root_ids\":[\"5478\"]},\"title\":\"Bokeh Application\",\"version\":\"2.4.2\"}};\n  const render_items = [{\"docid\":\"7736bfb3-61c7-463f-b32e-58a85141948c\",\"root_ids\":[\"5478\"],\"roots\":{\"5478\":\"31c41679-80ef-4e6a-b884-3931a4baefbd\"}}];\n  root.Bokeh.embed.embed_items_notebook(docs_json, render_items);\n\n  }\n  if (root.Bokeh !== undefined) {\n    embed_document(root);\n  } else {\n    let attempts = 0;\n    const timer = setInterval(function(root) {\n      if (root.Bokeh !== undefined) {\n        clearInterval(timer);\n        embed_document(root);\n      } else {\n        attempts++;\n        if (attempts > 100) {\n          clearInterval(timer);\n          console.log(\"Bokeh: ERROR: Unable to run BokehJS code because BokehJS library is missing\");\n        }\n      }\n    }, 10, root)\n  }\n})(window);",
      "application/vnd.bokehjs_exec.v0+json": ""
     },
     "metadata": {
      "application/vnd.bokehjs_exec.v0+json": {
       "id": "5478"
      }
     },
     "output_type": "display_data"
    }
   ],
   "source": [
    "hovertool1 = HoverTool()\n",
    "hovertool1.tooltips = [(\"amount(CO2)\", \"@amountCO2 mmol\"), (\"pH\", \"@pH\"), (\"delta(Calcite)\", \"@deltaCalcite\")]\n",
    "\n",
    "p1 = figure(\n",
    "    title=\"PH DEPENDENCE ON AMOUNT OF ADDED CO2 TO THE SEAWATER\",\n",
    "    x_axis_label=r'CO2 AMOUNT [MMOL]',\n",
    "    y_axis_label='PH [-]',\n",
    "    sizing_mode=\"scale_width\",\n",
    "    plot_height=300)\n",
    "\n",
    "p1.add_tools(hovertool1)\n",
    "\n",
    "p1.line(\"amountCO2\", \"pH\", line_width=3, line_cap=\"round\", line_color='indigo', source=df_seawater)\n",
    "\n",
    "p2 = figure(\n",
    "    title=\"CALCITE SOLUBILITY DEPENDENCE ON AMOUNT OF ADDED CO2 TO THE SEAWATER\",\n",
    "    x_axis_label=r'CO2 AMOUNT [MMOL]',\n",
    "    y_axis_label='CALCITE SOLUBILITY [MOL]',\n",
    "    sizing_mode=\"scale_width\",\n",
    "    plot_height=300)\n",
    "\n",
    "p2.add_tools(hovertool1)\n",
    "\n",
    "p2.line(\"amountCO2\", \"deltaCalcite\", line_width=3, line_cap=\"round\", line_color='coral', source=df_seawater)\n",
    "\n",
    "grid = gridplot([[p1], [p2]])\n",
    "\n",
    "show(grid)"
   ],
   "metadata": {
    "collapsed": false,
    "pycharm": {
     "name": "#%%\n"
    }
   }
  },
  {
   "cell_type": "markdown",
   "source": [
    "Below 45 mmol of CO<sub>2</sub>, addition of the gas continues making seawater more acidic and therefore increase the solubility of calcite. However, after reaching out the point of the saturation, no more gas can be dissolved in seawater and pH remains constant. The solubility of calcite from this point on is also constant."
   ],
   "metadata": {
    "collapsed": false,
    "pycharm": {
     "name": "#%% md\n"
    }
   }
  }
 ],
 "metadata": {
  "kernelspec": {
   "display_name": "Python 3 (ipykernel)",
   "language": "python",
   "name": "python3"
  },
  "language_info": {
   "codemirror_mode": {
    "name": "ipython",
    "version": 3
   },
   "file_extension": ".py",
   "mimetype": "text/x-python",
   "name": "python",
   "nbconvert_exporter": "python",
   "pygments_lexer": "ipython3",
   "version": "3.9.7"
  }
 },
 "nbformat": 4,
 "nbformat_minor": 4
}