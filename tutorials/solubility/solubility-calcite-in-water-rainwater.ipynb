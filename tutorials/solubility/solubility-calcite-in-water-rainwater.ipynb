{
 "cells": [
  {
   "cell_type": "markdown",
   "metadata": {},
   "source": [
    "# Calcite solubility in water and CO<sub>2</sub>-saturated rainwater\n",
    "\n",
    "The anthropogenic CO<sub>2</sub> absorbed by the oceans results in an increase in the concentration of hydrogen ions (H<sup>+</sup>) and in bicarbonate ions (HCO<sub>3</sub><sup>-</sup>) and a decrease in carbonate ions (CO<sub>3</sub><sup>-2</sup>). A review article of *Figuerola et al., A Review and Meta-Analysis of Potential Impacts of Ocean Acidification on Marine Calcifiers From the Southern Ocean, Front. Mar. Sci., 2021* identifies *ocean acidification (OA)* (accompanied by reduction in CO<sub>3</sub><sup>-2</sup>, see figure below) as a critical issue for shells and skeletons of marine calcifiers such as foraminifera, corals, echinoderms, molluscs, and bryozoans. OA process is shallowing the carbonate saturation horizon (which is the depth below which calcium carbonate dissolves) likely increasing the vulnerability of many resident marine calcifiers to dissolution. Moreover, ocean warming could further exacerbate the effects of OA in these particular species. That is why an understanding of the dependence of calcite solubility on various factors is an important modelling question.\n",
    "\n",
    "|![Infographic of the ocean acidification process](../../images/ocian-acidification.jpeg)|\n",
    "|:--:|\n",
    "|Infographic of the ocean acidification process, Source: frontiersin.org|\n",
    "\n",
    "In this tutorial, we investigate the dependence of calcite solubility in water (closed system) and carbon-dioxide saturated rainwater (open system) on temperature and pressure change. We also study calcite solubility trends, when adding carbon dioxide into the system.\n",
    "\n",
    "First, we initialize the chemical system with aqueous, gaseous, and calcite phases."
   ]
  },
  {
   "cell_type": "code",
   "execution_count": null,
   "metadata": {
    "lines_to_next_cell": 1
   },
   "outputs": [],
   "source": [
    "from reaktoro import *\n",
    "import numpy as np\n",
    "import pandas as pd\n",
    "\n",
    "# Create the database\n",
    "db = SupcrtDatabase(\"supcrtbl\")\n",
    "\n",
    "# Create an aqueous phase automatically selecting all species with provided elements\n",
    "aqueousphase = AqueousPhase(speciate(\"H O C Ca Mg K Cl Na S N\"))\n",
    "aqueousphase.setActivityModel(chain(\n",
    "    ActivityModelHKF(),\n",
    "    ActivityModelDrummond(\"CO2\"),\n",
    "))\n",
    "\n",
    "# Create a gaseous phase\n",
    "gaseousphase = GaseousPhase(\"CO2(g)\")\n",
    "gaseousphase.setActivityModel(ActivityModelPengRobinson())\n",
    "\n",
    "# Create a mineral phase\n",
    "mineral = MineralPhase(\"Calcite\")\n",
    "\n",
    "# Create the chemical system\n",
    "system = ChemicalSystem(db, aqueousphase, gaseousphase, mineral)"
   ]
  },
  {
   "cell_type": "markdown",
   "metadata": {
    "pycharm": {
     "name": "#%% md\n"
    }
   },
   "source": [
    "Next, we set up equilibrium specifications, equilibrium conditions, and equilibrium solver all to be used for the equilibrium calculations. To constrain the charge of the chemical state, we need to make it open to the Cl<sup>-</sup>. Finally, we create aqueous properties to evaluate pH in the forthcoming calculations."
   ]
  },
  {
   "cell_type": "code",
   "execution_count": null,
   "metadata": {
    "pycharm": {
     "name": "#%%\n"
    }
   },
   "outputs": [],
   "source": [
    "# Define equilibrium specs\n",
    "specs = EquilibriumSpecs (system)\n",
    "specs.temperature()\n",
    "specs.pressure()\n",
    "specs.charge()\n",
    "specs.openTo(\"Cl-\")\n",
    "\n",
    "# Define equilibrium conditions to be satisfied at chemical equilibrium\n",
    "conditions = EquilibriumConditions(specs)\n",
    "conditions.charge(0.0, \"mol\") # to make sure the mixture is neutral\n",
    "\n",
    "# Define equilibrium solver\n",
    "solver = EquilibriumSolver(specs)\n",
    "\n",
    "# Define aqueous properties\n",
    "aprops = AqueousProps(system)"
   ]
  },
  {
   "cell_type": "markdown",
   "metadata": {},
   "source": [
    "Functions below define the chemical states corresponding to the pure water (also referred to as a closed system), rainwater saturated with carbon dioxide, and seawater, respectively:"
   ]
  },
  {
   "cell_type": "code",
   "execution_count": null,
   "metadata": {
    "pycharm": {
     "name": "#%%\n"
    }
   },
   "outputs": [],
   "source": [
    "def water():\n",
    "\n",
    "    state = ChemicalState(system)\n",
    "    state.add(\"H2O(aq)\", 1.0, \"kg\")\n",
    "\n",
    "    return state\n",
    "\n",
    "def rainwater():\n",
    "\n",
    "    state = ChemicalState(system)\n",
    "    # Rainwater composition\n",
    "    state.set(\"H2O(aq)\", 1.0, \"kg\")\n",
    "    state.set(\"Na+\"    , 2.05, \"mg\") # Sodium, 2.05 ppm = 2.05 mg/L ~ 2.05 mg/kgw\n",
    "    state.set(\"K+\"     , 0.35, \"mg\") # Potassium\n",
    "    state.set(\"Ca+2\"   , 1.42, \"mg\") # Calcium\n",
    "    state.set(\"Mg+2\"   , 0.39, \"mg\") # Magnesium\n",
    "    state.set(\"Cl-\"    , 3.47, \"mg\") # Chloride\n",
    "    state.set(\"SO4-2\"  , 2.19, \"mg\")\n",
    "    state.set(\"NO3-\"   , 0.27, \"mg\")\n",
    "    state.set(\"NH4+\"   , 0.41, \"mg\")\n",
    "    state.set(\"CO2(aq)\", 0.36, \"mol\")  # rainwater is saturated with CO2\n",
    "\n",
    "    return state\n",
    "\n",
    "def seawater():\n",
    "\n",
    "    state = ChemicalState(system)\n",
    "    # Seawater composition\n",
    "    state.setTemperature(25, \"celsius\")\n",
    "    state.setPressure(1.0, \"bar\")\n",
    "    state.add(\"H2O(aq)\",     1.0, \"kg\")\n",
    "    state.add(\"Ca+2\"   ,   412.3, \"mg\")\n",
    "    state.add(\"Mg+2\"   ,  1290.0, \"mg\")\n",
    "    state.add(\"Na+\"    , 10768.0, \"mg\")\n",
    "    state.add(\"K+\"     ,   399.1, \"mg\")\n",
    "    state.add(\"Cl-\"    , 19353.0, \"mg\")\n",
    "    state.add(\"HCO3-\"  ,   141.7, \"mg\")\n",
    "    state.add(\"SO4-2\"  ,  2712.0, \"mg\")\n",
    "\n",
    "    return state"
   ]
  },
  {
   "cell_type": "markdown",
   "metadata": {},
   "source": [
    "## Solubility of calcite for different temperatures and pressures\n",
    "\n",
    "Next, we initialize the array of temperatures from 20 &deg;C till 90 &deg;C and calculate solubilities of calcite in water and CO<sub>2</sub>-saturated rainwater for pressures P = 1, 10, 100 bar."
   ]
  },
  {
   "cell_type": "code",
   "execution_count": null,
   "metadata": {},
   "outputs": [],
   "source": [
    "temperatures = np.arange(20.0, 91.0, 5.0)   # in celsius\n",
    "pressures = np.array([1, 10, 100])          # in bar\n",
    "\n",
    "df_water = pd.DataFrame(columns=[\"T\", \"P\", \"pH\", \"deltaCalcite\"])\n",
    "df_rainwater = pd.DataFrame(columns=[\"T\", \"P\", \"pH\", \"deltaCalcite\"])\n",
    "\n",
    "def solubility_of_calcite(state, T, P, tag):\n",
    "\n",
    "    # Initial amount of calcite\n",
    "    n0Calcite = 10.0\n",
    "\n",
    "    conditions.temperature(T, \"celsius\")\n",
    "    conditions.pressure(P, \"bar\")\n",
    "\n",
    "    # Equilibrate the solution given by the chemical state and conditions\n",
    "    res = solver.solve(state, conditions)\n",
    "\n",
    "    # Add `n0Calcite` amount of calcite\n",
    "    state.set(\"Calcite\", n0Calcite, \"mol\")\n",
    "\n",
    "    # Equilibrate solution with added calcite\n",
    "    res = solver.solve(state)\n",
    "\n",
    "    # Update aqueous properties\n",
    "    aprops.update(state)\n",
    "\n",
    "    # Fetch the amount of final calcite in the equilibrium state\n",
    "    nCalcite = float(state.speciesAmount(\"Calcite\"))\n",
    "\n",
    "    if tag == \"water\":\n",
    "        df_water.loc[len(df_water)] = [T, P, float(aprops.pH()), n0Calcite - nCalcite]\n",
    "    elif tag == \"rainwater\":\n",
    "        df_rainwater.loc[len(df_rainwater)] = [T, P, float(aprops.pH()), n0Calcite - nCalcite]\n",
    "\n",
    "for T in temperatures:\n",
    "    for P in pressures:\n",
    "        solubility_of_calcite(water(), T, P, \"water\")\n",
    "        solubility_of_calcite(rainwater(), T, P, \"rainwater\")"
   ]
  },
  {
   "cell_type": "markdown",
   "metadata": {},
   "source": [
    "Let us check if the obtained value of solubility for 25 &deg;C and 1 bar indeed corresponds to the values of Wikipedia, i.e., the solubility in water equals to 0.013 g/L (25 &deg;C). Below, we use 100.0869 g/mol as the calcite molar mass:"
   ]
  },
  {
   "cell_type": "code",
   "execution_count": null,
   "metadata": {},
   "outputs": [],
   "source": [
    "df_water_25C = df_water[df_water['T'] == 25.0] # fetch data corresponding to T = 25 celsius\n",
    "df_water_25C_P1 = df_water_25C[df_water_25C['P'] == 1.0] # fetch data corresponding to T = 25 celsius and P = 1 bar\n",
    "deltaCalcite = df_water_25C_P1['deltaCalcite'].iloc[0]\n",
    "print(f\"Solubility of calcite in water (closed system) equals to {deltaCalcite:.6f} \"\n",
    "      f\"mol/kgw = ... = {deltaCalcite * 0.1000869 * 1e3:.6f} g/L\")"
   ]
  },
  {
   "cell_type": "markdown",
   "metadata": {},
   "source": [
    "Thus, in the closed system (with pure water), approximately 0.116 mmol of calcite dissolve. The amount of calcite that dissolves is independent of the initial value (provided that it exceeds the solubility limit)."
   ]
  },
  {
   "cell_type": "markdown",
   "metadata": {},
   "source": [
    "We plot using [bokeh](https://bokeh.org/) python library. We start from solubilities of calcite in water and CO<sub>2</sub>-saturated rainwater for pressure P = 1:"
   ]
  },
  {
   "cell_type": "code",
   "execution_count": null,
   "metadata": {},
   "outputs": [],
   "source": [
    "from bokeh.plotting import figure, show\n",
    "from bokeh.io import output_notebook\n",
    "output_notebook()\n",
    "\n",
    "df_water_P1 = df_water[df_water['P'] == 1.0]\n",
    "df_rainwater_P1 = df_rainwater[df_rainwater['P'] == 1.0]\n",
    "\n",
    "p = figure(\n",
    "    title=\"COMPARISON OF CALCITE SOLUBILITY IN WATER AND RAINWATER\",\n",
    "    x_axis_label=r'TEMPERATURE [°C]',\n",
    "    y_axis_label='CALCITE SOLUBILITY [MOL/KG]',\n",
    "    sizing_mode=\"scale_width\",\n",
    "    plot_height=300)\n",
    "\n",
    "p.line(\"T\", \"deltaCalcite\", line_width=3, line_cap=\"round\", line_color='indigo', source=df_water_P1)\n",
    "p.line(\"T\", \"deltaCalcite\", line_width=3, line_cap=\"round\", line_color='darkred', source=df_rainwater_P1)\n",
    "\n",
    "show(p)"
   ]
  },
  {
   "cell_type": "markdown",
   "metadata": {},
   "source": [
    "The plot illustrates that calcium carbonate has very low solubility in pure water, but in rainwater saturated with carbon dioxide, its solubility increases due to the formation of more soluble calcium bicarbonate. Below, we plot solubilities on the different scales and for different pressure. We see below that increasing pressure also increases the solubility of calcium carbonate."
   ]
  },
  {
   "cell_type": "code",
   "execution_count": null,
   "metadata": {
    "pycharm": {
     "name": "#%%\n"
    }
   },
   "outputs": [],
   "source": [
    "from bokeh.models import HoverTool, Legend\n",
    "from bokeh.plotting import gridplot\n",
    "from bokeh.models import ColumnDataSource\n",
    "colors = ['teal', 'darkred', 'indigo', 'coral']\n",
    "\n",
    "# ----------------------------------- #\n",
    "# Plot calcite solubility in water\n",
    "# ----------------------------------- #\n",
    "hovertool1 = HoverTool()\n",
    "hovertool1.tooltips = [(\"T\", \"@T °C\"),\n",
    "                      (\"P\", \"@P bar\"),\n",
    "                      (\"delta(Calcite)\", \"@deltaCalcite mol\")]\n",
    "p1 = figure(\n",
    "    title=\"CALCITE SOLUBILITY IN WATER\",\n",
    "    x_axis_label=r'TEMPERATURE [°C]',\n",
    "    y_axis_label='CALCITE SOLUBILITY [MOL/KG]',\n",
    "    sizing_mode=\"scale_width\",\n",
    "    plot_height=300)\n",
    "\n",
    "p1.add_tools(hovertool1)\n",
    "\n",
    "for P, color in zip(pressures, colors):\n",
    "    df_water_P = ColumnDataSource(df_water[df_water['P'] == P])\n",
    "    p1.line(\"T\", \"deltaCalcite\", legend_label=f'P = {P}', line_width=3, line_cap=\"round\", line_color=color, source=df_water_P)\n",
    "\n",
    "p1.legend.location = 'top_right'\n",
    "\n",
    "# ----------------------------------- #\n",
    "# Plot calcite solubility in rainwater\n",
    "# ----------------------------------- #\n",
    "hovertool2 = HoverTool()\n",
    "hovertool2.tooltips = [(\"T\", \"@T °C\"),\n",
    "                      (\"P\", \"@P bar\"),\n",
    "                      (\"delta(Calcite)\", \"@deltaCalcite mol\")]\n",
    "\n",
    "p2 = figure(\n",
    "    title=\"CALCITE SOLUBILITY IN RAINWATER\",\n",
    "    x_axis_label=r'TEMPERATURE [°C]',\n",
    "    y_axis_label='CALCITE SOLUBILITY [MOL/KG]',\n",
    "    sizing_mode=\"scale_width\",\n",
    "    plot_height=300)\n",
    "\n",
    "p2.add_tools(hovertool2)\n",
    "\n",
    "for P, color in zip(pressures, colors):\n",
    "    df_rainwater_P = ColumnDataSource(df_rainwater[df_water['P'] == P])\n",
    "    p2.line(\"T\", \"deltaCalcite\", legend_label=f'P = {P}', line_width=3, line_cap=\"round\", line_color=color, source=df_rainwater_P)\n",
    "\n",
    "grid = gridplot([[p1], [p2]])\n",
    "\n",
    "show(grid)"
   ]
  },
  {
   "cell_type": "markdown",
   "metadata": {},
   "source": [
    "## Solubility of calcite in the seawater with increasing levels of CO<sub>2</sub>\n",
    "\n",
    "Below, we define the auxiliary variables with initial values of CO<sub>2</sub> amounts and its increment. We run the loop with `nsteps` steps adding CO<sub>2</sub> into seawater and re-equilibrate. The level of added carbon dioxide as well as corresponding pH, we collect into dataframe."
   ]
  },
  {
   "cell_type": "code",
   "execution_count": null,
   "metadata": {
    "collapsed": false,
    "jupyter": {
     "outputs_hidden": false
    },
    "pycharm": {
     "name": "#%%\n"
    }
   },
   "outputs": [],
   "source": [
    "co2_0 = 0.0\n",
    "co2_delta = 2.0 # in mmol\n",
    "nsteps = 50\n",
    "\n",
    "df_seawater = pd.DataFrame(columns=[\"amountCO2\", \"pH\", \"deltaCalcite\", \"mCO2aq\"])\n",
    "\n",
    "T = 25\n",
    "P = 1\n",
    "\n",
    "for i in range(nsteps):\n",
    "\n",
    "    # Initial amount of calcite\n",
    "    n0Calcite = 10.0\n",
    "\n",
    "    conditions.temperature(T, \"celsius\")\n",
    "    conditions.pressure(P, \"bar\")\n",
    "\n",
    "    # Add more CO2 to the problem\n",
    "    state = seawater()\n",
    "    state.set(\"CO2(g)\", co2_0, \"mmol\")\n",
    "\n",
    "    # Equilibrate the solution given by the chemical state and conditions\n",
    "    res = solver.solve(state, conditions)\n",
    "\n",
    "    # Add `n0Calcite` amount of calcite\n",
    "    state.set(\"Calcite\", n0Calcite, \"mol\")\n",
    "\n",
    "    # Equilibrate solution with added calcite\n",
    "    res = solver.solve(state)\n",
    "\n",
    "    # Update aqueous properties\n",
    "    aprops.update(state)\n",
    "\n",
    "    # Fetch the amount of final calcite and CO2(aq) in the equilibrium state\n",
    "    nCalcite = float(state.speciesAmount(\"Calcite\"))\n",
    "    nCO2aq   = float(state.speciesAmount(\"CO2(aq)\"))\n",
    "\n",
    "    # Update CO2 amount\n",
    "    co2_0 += co2_delta\n",
    "\n",
    "    # Append new calculated value to the dataframe\n",
    "    df_seawater.loc[len(df_seawater)] = [co2_0, float(aprops.pH()), n0Calcite - nCalcite, nCO2aq]"
   ]
  },
  {
   "cell_type": "markdown",
   "metadata": {},
   "source": [
    "Below, we plot pH and calcite solubility dependence on the added CO<sub>2</sub> into seawater."
   ]
  },
  {
   "cell_type": "code",
   "execution_count": null,
   "metadata": {
    "collapsed": false,
    "jupyter": {
     "outputs_hidden": false
    },
    "pycharm": {
     "name": "#%%\n"
    }
   },
   "outputs": [],
   "source": [
    "hovertool1 = HoverTool()\n",
    "hovertool1.tooltips = [(\"amount(CO2)\", \"@amountCO2 mmol\"),\n",
    "                       (\"pH\", \"@pH\"),\n",
    "                       (\"delta(Calcite)\", \"@deltaCalcite\"),\n",
    "                       (\"amount(CO2(aq))\", \"@mCO2aq\")]\n",
    "\n",
    "p1 = figure(\n",
    "    title=\"PH DEPENDENCE ON AMOUNT OF ADDED CO2 TO THE SEAWATER\",\n",
    "    x_axis_label=r'CO2 AMOUNT [MMOL]',\n",
    "    y_axis_label='PH [-]',\n",
    "    sizing_mode=\"scale_width\",\n",
    "    plot_height=300)\n",
    "\n",
    "p1.add_tools(hovertool1)\n",
    "\n",
    "p1.line(\"amountCO2\", \"pH\", line_width=3, line_cap=\"round\", line_color='indigo', source=df_seawater)\n",
    "\n",
    "p2 = figure(\n",
    "    title=\"CALCITE SOLUBILITY DEPENDENCE ON AMOUNT OF ADDED CO2 TO THE SEAWATER\",\n",
    "    x_axis_label=r'CO2 AMOUNT [MMOL]',\n",
    "    y_axis_label='CALCITE SOLUBILITY [MOL]',\n",
    "    sizing_mode=\"scale_width\",\n",
    "    plot_height=300)\n",
    "\n",
    "p2.add_tools(hovertool1)\n",
    "\n",
    "p2.line(\"amountCO2\", \"deltaCalcite\", line_width=3, line_cap=\"round\", line_color='coral', source=df_seawater)\n",
    "\n",
    "p3 = figure(\n",
    "    title=\"AMOUNT OF DISSOLVED CO2 IN THE SEAWATER\",\n",
    "    x_axis_label=r'CO2 AMOUNT [MMOL]',\n",
    "    y_axis_label='AMOUNT OF CO2(AQ) [MOL]',\n",
    "    sizing_mode=\"scale_width\",\n",
    "    plot_height=300)\n",
    "\n",
    "p3.add_tools(hovertool1)\n",
    "\n",
    "p3.line(\"amountCO2\", \"mCO2aq\", line_width=3, line_cap=\"round\", line_color='darkgreen', source=df_seawater)\n",
    "\n",
    "grid = gridplot([[p1], [p2], [p3]])\n",
    "\n",
    "show(grid)"
   ]
  },
  {
   "cell_type": "markdown",
   "metadata": {
    "pycharm": {
     "name": "#%% md\n"
    }
   },
   "source": [
    "Below 45 mmol of CO<sub>2</sub>, the addition of the gas continues making seawater more acidic and therefore increasing the solubility of calcite. However, after reaching the point of saturation, no more gas can be dissolved in seawater and pH remains constant. The solubility of calcite from this point on is also constant."
   ]
  }
 ],
 "metadata": {
  "kernelspec": {
   "display_name": "Python 3 (ipykernel)",
   "language": "python",
   "name": "python3"
  },
  "language_info": {
   "codemirror_mode": {
    "name": "ipython",
    "version": 3
   },
   "file_extension": ".py",
   "mimetype": "text/x-python",
   "name": "python",
   "nbconvert_exporter": "python",
   "pygments_lexer": "ipython3",
   "version": "3.9.7"
  }
 },
 "nbformat": 4,
 "nbformat_minor": 4
}