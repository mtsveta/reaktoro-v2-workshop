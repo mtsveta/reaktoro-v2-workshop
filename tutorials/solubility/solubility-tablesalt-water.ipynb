{
 "cells": [
  {
   "cell_type": "markdown",
   "metadata": {},
   "source": [
    "# Solubility of the table salt in water\n",
    "\n",
    "<p class=\"acknowledgement\">Written by Svetlana Kyas (ETH Zurich) on Feb 8th, 2022</p>\n",
    "\n",
    "In this tutorial, we investigate the solubility of table salt in water."
   ]
  },
  {
   "cell_type": "code",
   "execution_count": null,
   "metadata": {},
   "outputs": [],
   "source": [
    "from reaktoro import *\n",
    "\n",
    "db =  SupcrtDatabase(\"supcrtbl\")\n",
    "\n",
    "aqueousphase = AqueousPhase(speciate(\"H O Na Cl C\"), exclude(\"organic\"))\n",
    "aqueousphase.setActivityModel(chain(\n",
    "    ActivityModelHKF(),\n",
    "    ActivityModelDrummond(\"CO2\")\n",
    "))\n",
    "\n",
    "# Create a mineral phase\n",
    "mineral = MineralPhase(\"Halite\")\n",
    "\n",
    "# Create the chemical system\n",
    "system = ChemicalSystem(db, aqueousphase, mineral)"
   ]
  },
  {
   "cell_type": "markdown",
   "source": [
    "We start by dissolving tiny amount of sodium chloride in water:"
   ],
   "metadata": {
    "collapsed": false
   }
  },
  {
   "cell_type": "code",
   "execution_count": null,
   "outputs": [],
   "source": [
    "state = ChemicalState(system)\n",
    "state.setTemperature(25, \"celsius\")\n",
    "state.setPressure(1, \"bar\")\n",
    "state.set(\"H2O(aq)\" , 1.0, \"kg\") # water\n",
    "state.set(\"NaCl(aq)\", 1.0, \"mg\") # sodium chloride / table salt"
   ],
   "metadata": {
    "collapsed": false,
    "pycharm": {
     "name": "#%%\n"
    }
   }
  },
  {
   "cell_type": "markdown",
   "metadata": {},
   "source": [
    "After mixing water and salt, the following system of reactions starts:\n",
    "\\begin{alignat}{4}\n",
    "{\\sf NaCl(s)} & \\rightleftharpoons {\\sf Na}^+ + {\\sf Cl}^-, &\\qquad& (1) \\\\\n",
    "{\\sf Na}^+ + {\\sf Cl}^- &  \\rightleftharpoons {\\sf NaCl(aq)}, &\\qquad& (2) \\\\\n",
    "{\\sf H_2O} & \\rightleftharpoons {\\sf H}^+ + {\\sf OH}^-. &\\qquad& (3) \\\\\n",
    "\\end{alignat}\n",
    "Reaction (1) corresponds to dissolution of solid sodium chloride provides ions of sodium and chloride.\n",
    "In (2), ions of sodium and chloride combine aqueous sodium chloride, NaCl(aq).\n",
    "In reaction (3), water provides solvent species for other solutions.\n",
    "Another species that can be forming are HCl(aq), NaOH(aq) by the following reactions:\n",
    "$${\\sf H}^{+} + {\\sf Cl}^- \\rightleftharpoons {\\sf HCl(aq)} \\quad \\mbox{or} \\quad \n",
    "{\\sf Na}^{+} + {\\sf OH}^- \\rightleftharpoons {\\sf NaOH(aq)}.$$\n",
    "\n",
    "Let us evaluate the resulting chemical state after the equilibration:"
   ]
  },
  {
   "cell_type": "code",
   "execution_count": null,
   "metadata": {},
   "outputs": [],
   "source": [
    "res = equilibrate(state)\n",
    "print(state)"
   ]
  },
  {
   "cell_type": "markdown",
   "metadata": {},
   "source": [
    "We see that the Halite mineral has practically zero amount in the resulting mixture, which indicates that it was\n",
    "completely dissolved in water. If we set a higher amount of salt and equilibrate the state, we obtain 10.2434 mol of\n",
    "the precipitated halite. This means that while dissolving the halite in water, we have reached its point of saturation."
   ]
  },
  {
   "cell_type": "code",
   "execution_count": null,
   "metadata": {
    "pycharm": {
     "name": "#%%\n"
    }
   },
   "outputs": [],
   "source": [
    "state.set(\"NaCl(aq)\", 1.0, \"kg\") # set 1kg of salt\n",
    "res = equilibrate(state)\n",
    "print(f\"Amount of halite : {state.speciesAmount('Halite')}\")"
   ]
  }
 ],
 "metadata": {
  "kernelspec": {
   "display_name": "Python 3 (ipykernel)",
   "language": "python",
   "name": "python3"
  },
  "language_info": {
   "codemirror_mode": {
    "name": "ipython",
    "version": 3
   },
   "file_extension": ".py",
   "mimetype": "text/x-python",
   "name": "python",
   "nbconvert_exporter": "python",
   "pygments_lexer": "ipython3",
   "version": "3.9.7"
  }
 },
 "nbformat": 4,
 "nbformat_minor": 4
}