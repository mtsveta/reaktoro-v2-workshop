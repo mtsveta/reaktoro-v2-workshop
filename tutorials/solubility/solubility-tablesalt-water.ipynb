{
 "cells": [
  {
   "cell_type": "markdown",
   "metadata": {},
   "source": [
    "# Solubility of the table salt in water\n",
    "\n",
    "In this tutorial, we investigate the solubility of table salt in water (see image below).\n",
    "\n",
    "|![Adding table salt to the drinking water](../../images/adding_tablesalt_to_water.jpeg)|\n",
    "|:--:|\n",
    "|Adding table salt to the drinking water, Source: sciencing.com|"
   ]
  },
  {
   "cell_type": "code",
   "execution_count": 1,
   "metadata": {},
   "outputs": [],
   "source": [
    "from reaktoro import *\n",
    "\n",
    "db =  SupcrtDatabase(\"supcrtbl\")\n",
    "\n",
    "aqueousphase = AqueousPhase(speciate(\"H O Na Cl C\"), exclude(\"organic\"))\n",
    "aqueousphase.setActivityModel(chain(\n",
    "    ActivityModelHKF(),\n",
    "    ActivityModelDrummond(\"CO2\")\n",
    "))\n",
    "\n",
    "# Create a mineral phase\n",
    "mineral = MineralPhase(\"Halite\")\n",
    "\n",
    "# Create the chemical system\n",
    "system = ChemicalSystem(db, aqueousphase, mineral)"
   ]
  },
  {
   "cell_type": "markdown",
   "metadata": {},
   "source": [
    "We start by dissolving a tiny amount of sodium chloride in water:"
   ]
  },
  {
   "cell_type": "code",
   "execution_count": 2,
   "metadata": {
    "collapsed": false,
    "jupyter": {
     "outputs_hidden": false
    },
    "pycharm": {
     "name": "#%%\n"
    }
   },
   "outputs": [],
   "source": [
    "state = ChemicalState(system)\n",
    "state.setTemperature(25, \"celsius\")\n",
    "state.setPressure(1, \"bar\")\n",
    "state.set(\"H2O(aq)\" , 1.0, \"kg\") # water\n",
    "state.set(\"Halite\", 1.0, \"mg\") # sodium chloride / table salt"
   ]
  },
  {
   "cell_type": "markdown",
   "metadata": {},
   "source": [
    "After mixing water and salt, the following system of reactions starts:\n",
    "\\begin{alignat}{4}\n",
    "{\\rm NaCl(s)} & \\rightleftharpoons {\\rm Na}^+ + {\\rm Cl}^-, &\\qquad& (1) \\\\\n",
    "{\\rm Na}^+ + {\\rm Cl}^- &  \\rightleftharpoons {\\rm NaCl(aq)}, &\\qquad& (2) \\\\\n",
    "{\\rm H_2O} & \\rightleftharpoons {\\rm H}^+ + {\\rm OH}^-. &\\qquad& (3) \\\\\n",
    "\\end{alignat}\n",
    "Reaction (1) corresponds to the dissolution of solid sodium chloride provides ions of sodium and chloride. In (2), ions of sodium and chloride combine aqueous sodium chloride, NaCl(aq). In reaction (3), water provides solvent species for other solutions. Another species that can be forming are HCl(aq), NaOH(aq) by the following reactions:\n",
    "$${\\rm H}^{+} + {\\rm Cl}^- \\rightleftharpoons {\\rm HCl(aq)} \\quad \\mbox{or} \\quad\n",
    "{\\rm Na}^{+} + {\\rm OH}^- \\rightleftharpoons {\\rm NaOH(aq)}.$$\n",
    "\n",
    "Let us evaluate the resulting chemical state after the equilibration:"
   ]
  },
  {
   "cell_type": "code",
   "execution_count": 3,
   "metadata": {},
   "outputs": [
    {
     "name": "stdout",
     "output_type": "stream",
     "text": [
      "+-------------------+-------------+------+\n",
      "| Property          |       Value | Unit |\n",
      "+-------------------+-------------+------+\n",
      "| Temperature       |    298.1500 |    K |\n",
      "| Pressure          |      1.0000 |  bar |\n",
      "| Charge:           | -8.0000e-16 |  mol |\n",
      "| Element Amount:   |             |      |\n",
      "| :: H              |  1.1102e+02 |  mol |\n",
      "| :: C              |  4.0000e-16 |  mol |\n",
      "| :: O              |  5.5508e+01 |  mol |\n",
      "| :: Na             |  1.7111e-05 |  mol |\n",
      "| :: Cl             |  1.7111e-05 |  mol |\n",
      "| Species Amount:   |             |      |\n",
      "| :: H2O(aq)        |  5.5508e+01 |  mol |\n",
      "| :: CO(aq)         |  1.0000e-16 |  mol |\n",
      "| :: CO2(aq)        |  1.0000e-16 |  mol |\n",
      "| :: CO3-2          |  1.0000e-16 |  mol |\n",
      "| :: Cl-            |  1.7111e-05 |  mol |\n",
      "| :: HClO(aq)       |  1.0000e-16 |  mol |\n",
      "| :: ClO-           |  1.0000e-16 |  mol |\n",
      "| :: ClO2-          |  1.0000e-16 |  mol |\n",
      "| :: ClO3-          |  1.0000e-16 |  mol |\n",
      "| :: ClO4-          |  1.0000e-16 |  mol |\n",
      "| :: H+             |  1.0104e-07 |  mol |\n",
      "| :: H2(aq)         |  1.0000e-16 |  mol |\n",
      "| :: HCO3-          |  1.0000e-16 |  mol |\n",
      "| :: HO2-           |  1.0000e-16 |  mol |\n",
      "| :: Na+            |  1.7111e-05 |  mol |\n",
      "| :: NaCl(aq)       |  4.8436e-11 |  mol |\n",
      "| :: NaOH(aq)       |  1.0569e-12 |  mol |\n",
      "| :: O2(aq)         |  1.0000e-16 |  mol |\n",
      "| :: OH-            |  1.0104e-07 |  mol |\n",
      "| :: H2O2(aq)       |  1.0000e-16 |  mol |\n",
      "| :: HClO2(aq)      |  1.0000e-16 |  mol |\n",
      "| :: HCl(aq)        |  3.3355e-13 |  mol |\n",
      "| :: Halite :: NaCl |  1.0000e-16 |  mol |\n",
      "+-------------------+-------------+------+\n"
     ]
    }
   ],
   "source": [
    "res = equilibrate(state)\n",
    "print(state)"
   ]
  },
  {
   "cell_type": "markdown",
   "metadata": {},
   "source": [
    "We see that the Halite mineral has practically zero amount in the resulting mixture, which indicates that it was completely dissolved in water.\n",
    "\n",
    "If we set a higher amount of salt and equilibrate the state, we obtain 10.2434 mol of the precipitated halite. This means that while dissolving the halite in water, we have reached its point of saturation."
   ]
  },
  {
   "cell_type": "code",
   "execution_count": 4,
   "metadata": {
    "pycharm": {
     "name": "#%%\n"
    }
   },
   "outputs": [
    {
     "name": "stdout",
     "output_type": "stream",
     "text": [
      "Initial amount of halite : 17.1108 mol\n",
      "Amount of halite : 10.2434 mol\n"
     ]
    }
   ],
   "source": [
    "state.set(\"Halite\", 1.0, \"kg\")\n",
    "print(f\"Initial amount of halite : {state.speciesAmount('Halite')} mol\")\n",
    "res = equilibrate(state)\n",
    "print(f\"Amount of halite : {state.speciesAmount('Halite')} mol\")"
   ]
  },
  {
   "cell_type": "markdown",
   "metadata": {
    "pycharm": {
     "name": "#%% md\n"
    }
   },
   "source": [
    "**TASK**: run simulations similar to those above for the table salt mass ranging from 1 mg to 1 kg, to figure out the amount of NaCl, when the water gets over-saturated with it."
   ]
  },
  {
   "cell_type": "code",
   "execution_count": 5,
   "metadata": {
    "collapsed": false,
    "jupyter": {
     "outputs_hidden": false
    },
    "pycharm": {
     "name": "#%%\n"
    }
   },
   "outputs": [],
   "source": [
    "# -------------------------------------- #\n",
    "# Code cell for the task\n",
    "# -------------------------------------- #"
   ]
  }
 ],
 "metadata": {
  "kernelspec": {
   "display_name": "Python 3 (ipykernel)",
   "language": "python",
   "name": "python3"
  },
  "language_info": {
   "codemirror_mode": {
    "name": "ipython",
    "version": 3
   },
   "file_extension": ".py",
   "mimetype": "text/x-python",
   "name": "python",
   "nbconvert_exporter": "python",
   "pygments_lexer": "ipython3",
   "version": "3.9.7"
  }
 },
 "nbformat": 4,
 "nbformat_minor": 4
}