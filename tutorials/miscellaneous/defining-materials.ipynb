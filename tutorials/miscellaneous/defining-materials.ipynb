{
 "cells": [
  {
   "cell_type": "markdown",
   "metadata": {},
   "source": [
    "# Defining materials\n",
    "\n",
    "<p class=\"acknowledgement\">Written by Allan Leal (ETH Zurich) on January 31, 2022</p>\n",
    "\n",
    "When performing chemical equilibrium or chemical kinetics calculations, an **initial chemical state** is required. From this state, often in disequilibrium, you are interested in:\n",
    "\n",
    "1. immediately find a chemical equilibrium state that satisfies the desired constraints; or\n",
    "2. compute a sequence of states describing the evolution of the system as it reacts over a period of time.\n",
    "\n",
    "In most cases, you should be able to construct an initial state in terms of *given amounts of chemical species in the system* using the {{ChemicalState}} class. However, this may not always be convenient or possible for you. In this tutorial, we show an alternative way to define an initial chemical state using the {{Material}} class. First, however, we give you an example that shows some disadvantages of working only with the {{ChemicalState}} class as a motivation to use {{Material}}."
   ]
  },
  {
   "cell_type": "markdown",
   "metadata": {},
   "source": [
    "## An initial chemical state not so conveniently defined\n",
    "\n",
    "Consider an aqueous solution with the following molal composition: 1 molal NaCl, 0.1 molal CaCl{{_2}}, 0.05 molal MgCl{{_2}} and 0.1 molal CO{{_2}}. Consider a rock with the following mass composition: 80%<sub>kg</sub> quartz (SiO{{_2}}) and 20%<sub>kg</sub> calcite (CaCO{{_3}}). Mix 1 kg of this aqueous solution with 10 g of rock and find the chemical equilibrium state of the system (i.e., solution and minerals) at 60°C and 15 bar.\n",
    "\n",
    "As usual, we will start with the definition of a suitable chemical system to model this problem, which is done next."
   ]
  },
  {
   "cell_type": "code",
   "execution_count": 3,
   "metadata": {},
   "outputs": [],
   "source": [
    "from reaktoro import *\n",
    "\n",
    "db = PhreeqcDatabase(\"phreeqc.dat\")\n",
    "\n",
    "solution = AqueousPhase()\n",
    "solution.setActivityModel(ActivityModelPitzerHMW())\n",
    "\n",
    "minerals = MineralPhases(\"Halite Calcite Dolomite Quartz\")\n",
    "\n",
    "system = ChemicalSystem(db, solution, minerals)"
   ]
  },
  {
   "cell_type": "markdown",
   "metadata": {},
   "source": [
    "```{note}\n",
    "In this system, the aqueous species were selected automatically based on the chemical elements composing the explicitly listed minerals (i.e., all aqueous species with elements H, O, Na, Cl, Ca, Mg, and Si). If you are curious, copy the code above and print the species in the chemical system!\n",
    "\n",
    "~~~python\n",
    "for species in system.species():\n",
    "    print(species.name()) \n",
    "~~~\n",
    "```\n",
    "\n",
    "Let's now create our initial chemical containing 1 kg of aqueous solution and 10 g of rock:"
   ]
  },
  {
   "cell_type": "code",
   "execution_count": 4,
   "metadata": {},
   "outputs": [],
   "source": [
    "state = ChemicalState(system)\n",
    "\n",
    "# Set initial brine composition\n",
    "state.set(\"H2O\" , 1.00, \"kg\")\n",
    "state.set(\"Na+\" , 1.00, \"mol\")\n",
    "state.set(\"Ca+2\", 0.10, \"mol\")\n",
    "state.set(\"Mg+2\", 0.05, \"mol\")\n",
    "state.set(\"Cl-\" , 1.30, \"mol\")\n",
    "state.set(\"CO2\" , 0.10, \"mol\")\n",
    "\n",
    "# Set initial rock composition\n",
    "state.set(\"Quartz\",  80.0, \"g\")\n",
    "state.set(\"Calcite\", 20.0, \"g\")\n",
    "\n",
    "# Scale fluid and solid masses to 1 kg and 10 g respectively\n",
    "state.scaleFluidMass(1.0, \"kg\")\n",
    "state.scaleSolidMass(10.0, \"g\")"
   ]
  },
  {
   "cell_type": "markdown",
   "metadata": {},
   "source": [
    "While defining this initial chemical state, note that:\n",
    "\n",
    "* we needed to specify amounts for ions `Na+`, `Ca+2`, and `Mg+2` that reflect the desired molality of NaCl, CaCl{{_2}}, and MgCl{{_2}}.\n",
    "* we needed to specify an amount for `Cl-` that produces zero electric charge in the solution.\n",
    "* we needed to provide species names exactly how they exist in the database instead of chemical formulas (e.g., names `Quartz` and `Calcite` instead of formulas `SiO2` and `CaCO3`).\n",
    "* we needed to scale the mass of fluid and solids in the chemical state.\n",
    "\n",
    "Let's now equilibrate this state at 60 °C and 15 bar:"
   ]
  },
  {
   "cell_type": "code",
   "execution_count": 5,
   "metadata": {},
   "outputs": [
    {
     "name": "stdout",
     "output_type": "stream",
     "text": [
      "+-----------------+-------------+------+\n",
      "| Property        |       Value | Unit |\n",
      "+-----------------+-------------+------+\n",
      "| Temperature     |      333.15 |    K |\n",
      "| Pressure        |     1.5e+06 |   Pa |\n",
      "| Charge:         | -4.0934e-16 |  mol |\n",
      "| Element Amount: |             |      |\n",
      "| :: H            |     102.913 |  mol |\n",
      "| :: C            |    0.112686 |  mol |\n",
      "| :: O            |     51.9681 |  mol |\n",
      "| :: Na           |    0.927039 |  mol |\n",
      "| :: Mg           |   0.0463519 |  mol |\n",
      "| :: Si           |    0.133146 |  mol |\n",
      "| :: Cl           |     1.20515 |  mol |\n",
      "| :: Ca           |    0.112686 |  mol |\n",
      "| Species Amount: |             |      |\n",
      "| :: CO3-2        | 2.30742e-06 |  mol |\n",
      "| :: H+           | 6.67715e-06 |  mol |\n",
      "| :: H2O          |     51.4444 |  mol |\n",
      "| :: CO2          |   0.0811717 |  mol |\n",
      "| :: (CO2)2       |       1e-16 |  mol |\n",
      "| :: HCO3-        |   0.0126081 |  mol |\n",
      "| :: CH4          |       1e-16 |  mol |\n",
      "| :: Ca+2         |   0.0987002 |  mol |\n",
      "| :: CaCO3        | 7.40765e-06 |  mol |\n",
      "| :: CaHCO3+      |  0.00554777 |  mol |\n",
      "| :: CaOH+        | 1.02167e-09 |  mol |\n",
      "| :: Cl-          |     1.20515 |  mol |\n",
      "| :: H2           |       1e-16 |  mol |\n",
      "| :: H4SiO4       | 0.000257914 |  mol |\n",
      "| :: H2SiO4-2     | 7.45022e-14 |  mol |\n",
      "| :: H3SiO4-      |  4.5289e-08 |  mol |\n",
      "| :: Mg+2         |   0.0438727 |  mol |\n",
      "| :: MgCO3        | 1.34392e-06 |  mol |\n",
      "| :: MgHCO3+      |  0.00247781 |  mol |\n",
      "| :: MgOH+        | 8.74263e-08 |  mol |\n",
      "| :: Na+          |      0.9246 |  mol |\n",
      "| :: NaCO3-       | 1.47454e-05 |  mol |\n",
      "| :: NaHCO3       |  0.00242418 |  mol |\n",
      "| :: OH-          | 3.27355e-08 |  mol |\n",
      "| :: NaOH         |       1e-16 |  mol |\n",
      "| :: O2           |       1e-16 |  mol |\n",
      "| :: Halite       |       1e-16 |  mol |\n",
      "| :: Calcite      |  0.00843032 |  mol |\n",
      "| :: Dolomite     | 1.18139e-14 |  mol |\n",
      "| :: Quartz       |    0.132888 |  mol |\n",
      "+-----------------+-------------+------+\n"
     ]
    }
   ],
   "source": [
    "state.temperature(60.0, \"celsius\")\n",
    "state.pressure(15.0, \"bar\")\n",
    "\n",
    "equilibrate(state)\n",
    "\n",
    "print(state)"
   ]
  },
  {
   "cell_type": "markdown",
   "metadata": {},
   "source": [
    "We managed to get the problem defined and solved, but the coding process could be simpler as shown in the next section. "
   ]
  },
  {
   "cell_type": "markdown",
   "metadata": {},
   "source": [
    "## Simplifying with class Material\n",
    "\n",
    "Let's now use class {{Material}} to obtain the same result with more convenience:"
   ]
  },
  {
   "cell_type": "code",
   "execution_count": 7,
   "metadata": {},
   "outputs": [
    {
     "name": "stdout",
     "output_type": "stream",
     "text": [
      "+-----------------+-------------+------+\n",
      "| Property        |       Value | Unit |\n",
      "+-----------------+-------------+------+\n",
      "| Temperature     |      333.15 |    K |\n",
      "| Pressure        |     1.5e+06 |   Pa |\n",
      "| Charge:         | 2.13121e-16 |  mol |\n",
      "| Element Amount: |             |      |\n",
      "| :: H            |     102.913 |  mol |\n",
      "| :: C            |    0.112686 |  mol |\n",
      "| :: O            |     51.9681 |  mol |\n",
      "| :: Na           |     0.92704 |  mol |\n",
      "| :: Mg           |    0.046352 |  mol |\n",
      "| :: Si           |    0.133146 |  mol |\n",
      "| :: Cl           |     1.20515 |  mol |\n",
      "| :: Ca           |    0.112686 |  mol |\n",
      "| Species Amount: |             |      |\n",
      "| :: CO3-2        | 2.30742e-06 |  mol |\n",
      "| :: H+           | 6.67716e-06 |  mol |\n",
      "| :: H2O          |     51.4444 |  mol |\n",
      "| :: CO2          |   0.0811718 |  mol |\n",
      "| :: (CO2)2       |       1e-16 |  mol |\n",
      "| :: HCO3-        |   0.0126081 |  mol |\n",
      "| :: CH4          |       1e-16 |  mol |\n",
      "| :: Ca+2         |   0.0987003 |  mol |\n",
      "| :: CaCO3        | 7.40766e-06 |  mol |\n",
      "| :: CaHCO3+      |  0.00554777 |  mol |\n",
      "| :: CaOH+        | 1.02167e-09 |  mol |\n",
      "| :: Cl-          |     1.20515 |  mol |\n",
      "| :: H2           |       1e-16 |  mol |\n",
      "| :: H4SiO4       | 0.000257914 |  mol |\n",
      "| :: H2SiO4-2     | 7.45023e-14 |  mol |\n",
      "| :: H3SiO4-      |  4.5289e-08 |  mol |\n",
      "| :: Mg+2         |   0.0438727 |  mol |\n",
      "| :: MgCO3        | 1.34392e-06 |  mol |\n",
      "| :: MgHCO3+      |  0.00247781 |  mol |\n",
      "| :: MgOH+        | 8.74264e-08 |  mol |\n",
      "| :: Na+          |    0.924601 |  mol |\n",
      "| :: NaCO3-       | 1.47454e-05 |  mol |\n",
      "| :: NaHCO3       |  0.00242418 |  mol |\n",
      "| :: OH-          | 3.27355e-08 |  mol |\n",
      "| :: NaOH         |       1e-16 |  mol |\n",
      "| :: O2           |       1e-16 |  mol |\n",
      "| :: Halite       |       1e-16 |  mol |\n",
      "| :: Calcite      |  0.00843031 |  mol |\n",
      "| :: Dolomite     | 1.18139e-14 |  mol |\n",
      "| :: Quartz       |    0.132888 |  mol |\n",
      "+-----------------+-------------+------+\n"
     ]
    }
   ],
   "source": [
    "brine = Material(system)\n",
    "brine.add(\"H2O\"  , 1.00, \"kg\")\n",
    "brine.add(\"NaCl\" , 1.00, \"mol\")\n",
    "brine.add(\"CaCl2\", 0.10, \"mol\")\n",
    "brine.add(\"MgCl2\", 0.05, \"mol\")\n",
    "brine.add(\"CO2\"  , 0.10, \"mol\")\n",
    "\n",
    "rock = Material(system)\n",
    "rock.add(\"SiO2\",  80.0, \"g\")\n",
    "rock.add(\"CaCO3\", 20.0, \"g\")\n",
    "\n",
    "mix = brine(1.0, \"kg\") + rock(10.0, \"g\")\n",
    "\n",
    "state = mix.equilibrate(60, \"celsius\", 15, \"bar\")\n",
    "\n",
    "print(state)"
   ]
  },
  {
   "cell_type": "markdown",
   "metadata": {},
   "source": [
    "The code above should (hopefully!) be intuitive enough and self-explanatory. The table printed above should also be identical (or extremely close!) to the previous one.\n",
    "\n",
    "That's it; you now have an extra Reaktoro component in your arsenal when performing your chemical modeling. The {{Material}} class should provide that extra level of convenience if things get a little more confusing if only the {{ChemicalState}} class is used.\n",
    "\n",
    "```{attention}\n",
    "You may have to use the {{Material}} class more carefully if chemical kinetics is considered. In this case, it is critical that species undergoing chemical reactions controlled by kinetic rates must have their initial amounts explicitly specified in the {{ChemicalState}} object, using their names instead of their formulas to avoid ambiguity. For example, suppose the minerals calcite and quartz are to react kinetically with the aqueous solution (and the aqueous species react instantaneously at equilibrium). In that case, the initial amounts of these minerals must be given in the {{ChemicalState}} object. The code below should give you an idea of how to proceed in this scenario:\n",
    "\n",
    "~~~python\n",
    "brine = Material(system)\n",
    "brine.add(\"H2O\"  , 1.00, \"kg\")\n",
    "brine.add(\"NaCl\" , 1.00, \"mol\")\n",
    "brine.add(\"CaCl2\", 0.10, \"mol\")\n",
    "brine.add(\"MgCl2\", 0.05, \"mol\")\n",
    "brine.add(\"CO2\"  , 0.10, \"mol\")\n",
    "\n",
    "state = brine(1.0, \"kg\").equilibrate(60, \"celsius\", 15, \"bar\")\n",
    "\n",
    "state.set(\"Quartz\",  80.0, \"g\")\n",
    "state.set(\"Calcite\", 20.0, \"g\")\n",
    "state.scaleSolidMass(10.0, \"g\")\n",
    "\n",
    "states = react(state, 10.0, \"minutes\")\n",
    "~~~\n",
    "\n",
    "***Note**: chemical kinetics (available in Reaktoro v1) is still in development in Reaktoro v2 (a completely new kinetics solver with modeling capabilities as extensive as the new equilibrium solver in Reaktoro v2). Thus, the `react` function above is still not available! If kinetics is already available in v2 and we forgot to remove this note, please report to us in {{Gitter}}.* \n",
    "```"
   ]
  }
 ],
 "metadata": {
  "interpreter": {
   "hash": "e4e8b2f3ae27709963f14fd23a6560d362beea55eaec742263828e04d814e23c"
  },
  "kernelspec": {
   "display_name": "Python 3.9.9 64-bit ('reaktoro-jupyter-book': conda)",
   "language": "python",
   "name": "python3"
  },
  "language_info": {
   "codemirror_mode": {
    "name": "ipython",
    "version": 3
   },
   "file_extension": ".py",
   "mimetype": "text/x-python",
   "name": "python",
   "nbconvert_exporter": "python",
   "pygments_lexer": "ipython3",
   "version": "3.9.9"
  },
  "orig_nbformat": 4
 },
 "nbformat": 4,
 "nbformat_minor": 2
}
