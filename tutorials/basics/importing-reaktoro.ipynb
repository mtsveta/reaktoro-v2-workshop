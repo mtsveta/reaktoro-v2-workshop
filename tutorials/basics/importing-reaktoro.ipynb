{
 "cells": [
  {
   "cell_type": "markdown",
   "metadata": {},
   "source": [
    "# Importing Reaktoro\n",
    "\n",
    "<p class=\"acknowledgement\">Written by Allan Leal (ETH Zurich) on Jan 4th, 2022</p>\n",
    "\n",
    "Reaktoro can be used via C++ or Python. We will detail below how this can be accomplished using Python only. \n",
    "\n",
    "Assuming you have installed Reaktoro correctly, you can import the `reaktoro` package in either a Python script or Jupyter Notebook:"
   ]
  },
  {
   "cell_type": "code",
   "execution_count": 8,
   "metadata": {},
   "outputs": [],
   "source": [
    "import reaktoro"
   ]
  },
  {
   "cell_type": "markdown",
   "metadata": {},
   "source": [
    "Throughout this user guide, we will instead use one of the following import statements:"
   ]
  },
  {
   "cell_type": "code",
   "execution_count": 9,
   "metadata": {},
   "outputs": [],
   "source": [
    "import reaktoro as rkt"
   ]
  },
  {
   "cell_type": "markdown",
   "metadata": {},
   "source": [
    "or"
   ]
  },
  {
   "cell_type": "code",
   "execution_count": null,
   "metadata": {},
   "outputs": [],
   "source": [
    "from reaktoro import *"
   ]
  },
  {
   "cell_type": "markdown",
   "metadata": {},
   "source": [
    "Once we do this in a Python script or Jupyter Notebook, we obtain access to all Reaktoro's library components. \n",
    "\n",
    "```{tip}\n",
    "You might want to check out [Reaktoro's C++ API Reference](https://reaktoro.org/api) to find out all these library components (e.g. {{ChemicalSystem}}, {{ChemicalState}}, {{ChemicalProps}}, and many more). Since Reaktoro's Python and C++ interfaces are nearly identical, this C++ API reference should be useful to you.\n",
    "```\n",
    "\n",
    "Keep reading. More interesting stuff in the next sections!"
   ]
  }
 ],
 "metadata": {
  "interpreter": {
   "hash": "e4e8b2f3ae27709963f14fd23a6560d362beea55eaec742263828e04d814e23c"
  },
  "kernelspec": {
   "display_name": "Python 3.9.7 64-bit ('reaktoro-jupyter-book': conda)",
   "language": "python",
   "name": "python3"
  },
  "language_info": {
   "codemirror_mode": {
    "name": "ipython",
    "version": 3
   },
   "file_extension": ".py",
   "mimetype": "text/x-python",
   "name": "python",
   "nbconvert_exporter": "python",
   "pygments_lexer": "ipython3",
   "version": "3.9.7"
  },
  "orig_nbformat": 4
 },
 "nbformat": 4,
 "nbformat_minor": 2
}
