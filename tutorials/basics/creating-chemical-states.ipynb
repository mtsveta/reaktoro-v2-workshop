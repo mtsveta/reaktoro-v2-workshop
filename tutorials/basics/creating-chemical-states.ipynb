{
 "cells": [
  {
   "cell_type": "markdown",
   "metadata": {},
   "source": [
    "# Creating chemical states\n",
    "\n",
    "After defining and creating a [ChemicalSystem](https://reaktoro.org/api/classReaktoro_1_1ChemicalSystem.html) object, we are equipped to create chemical states. In applications, we often deal with either a *single chemical state* or *a collection of them* (as in reactive transport, for example) with fixed temperature, pressure, and species amounts specified for each state. [ChemicalState](https://reaktoro.org/api/classReaktoro_1_1ChemicalState.html) class is commonly use for:\n",
    "* specifying *initial conditions* for chemical equilibrium and kinetics calculations\n",
    "* *storing computed states* resulting from the above computations\n",
    "\n",
    "First, we consider an example of the chemical system with a gaseous phase only and corresponding [ChemicalState](https://reaktoro.org/api/classReaktoro_1_1ChemicalState.html) instance:"
   ]
  },
  {
   "cell_type": "code",
   "execution_count": 1,
   "metadata": {},
   "outputs": [],
   "source": [
    "from reaktoro import *\n",
    "\n",
    "db = NasaDatabase(\"nasa-cea\")\n",
    "\n",
    "gases = GaseousPhase(\"CO2 O2 H2 H2O CH4 CO\")\n",
    "\n",
    "system = ChemicalSystem(db, gases)\n",
    "\n",
    "# Providing initial chemical state\n",
    "state = ChemicalState(system)\n",
    "state.temperature(1000, \"celsius\") # remove this line to see the default value\n",
    "state.pressure(10, \"MPa\")          # remove this line to see the default value\n",
    "state.set(\"CO2\", 0.1, \"mol\")\n",
    "state.set(\"O2\" , 0.2, \"mol\")\n",
    "state.set(\"H2\" , 0.3, \"mol\")\n",
    "state.set(\"H2O\", 0.4, \"mol\")\n",
    "state.set(\"CH4\", 0.5, \"mol\")\n",
    "state.set(\"CO\" , 0.0, \"mol\")       # remove this line to see the default value"
   ]
  },
  {
   "cell_type": "markdown",
   "metadata": {},
   "source": [
    "We can print this chemical state to inspect its content:"
   ]
  },
  {
   "cell_type": "code",
   "execution_count": 2,
   "metadata": {},
   "outputs": [
    {
     "name": "stdout",
     "output_type": "stream",
     "text": [
      "INITIAL STATE\n",
      "+-----------------+------------+------+\n",
      "| Property        |      Value | Unit |\n",
      "+-----------------+------------+------+\n",
      "| Temperature     |  1273.1500 |    K |\n",
      "| Pressure        |   100.0000 |  bar |\n",
      "| Charge:         | 0.0000e+00 |  mol |\n",
      "| Element Amount: |            |      |\n",
      "| :: H            | 3.4000e+00 |  mol |\n",
      "| :: C            | 6.0000e-01 |  mol |\n",
      "| :: O            | 1.0000e+00 |  mol |\n",
      "| Species Amount: |            |      |\n",
      "| :: CO2          | 1.0000e-01 |  mol |\n",
      "| :: O2           | 2.0000e-01 |  mol |\n",
      "| :: H2           | 3.0000e-01 |  mol |\n",
      "| :: H2O          | 4.0000e-01 |  mol |\n",
      "| :: CH4          | 5.0000e-01 |  mol |\n",
      "| :: CO           | 0.0000e+00 |  mol |\n",
      "+-----------------+------------+------+\n"
     ]
    }
   ],
   "source": [
    "print(\"INITIAL STATE\")\n",
    "print(state)"
   ]
  },
  {
   "cell_type": "markdown",
   "metadata": {},
   "source": [
    "The table above **does not** contain *thermodynamic properties of the system*; only temperature, pressure, species and element amounts, and the electric charge.\n",
    "\n",
    "\n",
    "> **Note**: By default, a [ChemicalState](https://reaktoro.org/api/classReaktoro_1_1ChemicalState.html) object is initialized with the following conditions:\n",
    "> * 273.15 K (or 25 °C)\n",
    "> * 10<sup>5</sup> Pa (or 1 bar)\n",
    "> * 10<sup>-16</sup> mol as the amounts of every species.\n",
    "> Zero is a numerically problematic value for species amounts; that's why we set it to a very small positive value instead. This should not be an issue for you in most cases, but if for some reason 10<sup>-16</sup> is not small enough, you can use the method `ChemicalState.setSpeciesAmount(1e-40)` to set a common amount value for all species in the system."
   ]
  },
  {
   "cell_type": "markdown",
   "metadata": {},
   "source": [
    "**TASK**: \n",
    "1) consider a more complicated chemical system containing\n",
    "* mineral phases of Calcite, Dolomite, Quartz, Halite\n",
    "* aqueous phase generated automatically based on the elements contained in the mineral phases\n",
    "and \n",
    "2) create a chemical state with the following initial composition of the species per 1 kg of water at 50 °C and 5 atm:\n",
    "\n",
    "| Aqueous species | Value     |\n",
    "|-----------------|-----------|\n",
    "| Na<sup>+</sup>  | 0.10 mol  |\n",
    "| Cl<sup>-</sup>  | 0.10 mol  |\n",
    "| Mg<sup>2+</sup> | 0.50 mmol |\n",
    "| Ca<sup>2+</sup> | 0.50 mmol |\n",
    "| Calcite         | 1 mg      |\n",
    "| Dolomite        | 1 ug      |\n",
    "| Quartz          | 1 kmol    |\n"
   ]
  },
  {
   "cell_type": "code",
   "execution_count": 3,
   "metadata": {},
   "outputs": [
    {
     "name": "stdout",
     "output_type": "stream",
     "text": [
      "+---------------------------+------------+------+\n",
      "| Property                  |      Value | Unit |\n",
      "+---------------------------+------------+------+\n",
      "| Temperature               |   323.1500 |    K |\n",
      "| Pressure                  |     5.0663 |  bar |\n",
      "| Charge:                   | 2.0000e-03 |  mol |\n",
      "| Element Amount:           |            |      |\n",
      "| :: H                      | 1.1101e+02 |  mol |\n",
      "| :: C                      | 1.0002e-05 |  mol |\n",
      "| :: O                      | 2.0555e+03 |  mol |\n",
      "| :: Na                     | 1.0000e-01 |  mol |\n",
      "| :: Mg                     | 5.0001e-04 |  mol |\n",
      "| :: Si                     | 1.0000e+03 |  mol |\n",
      "| :: Cl                     | 1.0000e-01 |  mol |\n",
      "| :: Ca                     | 5.1000e-04 |  mol |\n",
      "| Species Amount:           |            |      |\n",
      "| :: H+                     | 1.0000e-16 |  mol |\n",
      "| :: H2O                    | 5.5506e+01 |  mol |\n",
      "| :: CO3-2                  | 1.0000e-16 |  mol |\n",
      "| :: CO2                    | 1.0000e-16 |  mol |\n",
      "| :: Ca+2                   | 5.0000e-04 |  mol |\n",
      "| :: Cl-                    | 1.0000e-01 |  mol |\n",
      "| :: H4SiO4                 | 1.0000e-16 |  mol |\n",
      "| :: H2SiO4-2               | 1.0000e-16 |  mol |\n",
      "| :: H3SiO4-                | 1.0000e-16 |  mol |\n",
      "| :: HCO3-                  | 1.0000e-16 |  mol |\n",
      "| :: Mg+2                   | 5.0000e-04 |  mol |\n",
      "| :: MgCO3                  | 1.0000e-16 |  mol |\n",
      "| :: MgOH+                  | 1.0000e-16 |  mol |\n",
      "| :: Na+                    | 1.0000e-01 |  mol |\n",
      "| :: OH-                    | 1.0000e-16 |  mol |\n",
      "| :: Halite :: NaCl         | 1.0000e-16 |  mol |\n",
      "| :: Calcite :: CaCO3       | 9.9909e-06 |  mol |\n",
      "| :: Dolomite :: CaMg(CO3)2 | 5.4228e-09 |  mol |\n",
      "| :: Quartz :: SiO2         | 1.0000e+03 |  mol |\n",
      "+---------------------------+------------+------+\n"
     ]
    }
   ],
   "source": [
    "# -------------------------------------- #\n",
    "# Code cell for the task\n",
    "# -------------------------------------- #\n",
    "\n",
    "db = PhreeqcDatabase(\"pitzer.dat\")\n",
    "\n",
    "solution = AqueousPhase()\n",
    "minerals = MineralPhases(\"Halite Calcite Dolomite Quartz\")\n",
    "\n",
    "system = ChemicalSystem(db, solution, minerals)\n",
    "\n",
    "state = ChemicalState(system)\n",
    "state.temperature(50.0, \"celsius\")\n",
    "state.pressure(5.0, \"atm\")\n",
    "state.set(\"H2O\"     , 1.00, \"kg\")\n",
    "state.set(\"Na+\"     , 0.10, \"mol\")\n",
    "state.set(\"Cl-\"     , 0.10, \"mol\")\n",
    "state.set(\"Ca+2\"    , 0.50, \"mmol\")\n",
    "state.set(\"Mg+2\"    , 0.50, \"mmol\")\n",
    "state.set(\"Calcite\" , 1.00, \"mg\")\n",
    "state.set(\"Dolomite\", 1.00, \"ug\")\n",
    "state.set(\"Quartz\"  , 1.00, \"kmol\")\n",
    "\n",
    "print(state)"
   ]
  },
  {
   "cell_type": "markdown",
   "metadata": {
    "tags": []
   },
   "source": [
    "## Setting surface area\n",
    "\n",
    "Providing surface areas between some phases is an important functionality in modelling chemical kinetics in which heterogeneous reactions (i.e., reactions containing species from different phases, such as mineral and gas dissolution reactions) are common:"
   ]
  },
  {
   "cell_type": "code",
   "execution_count": 4,
   "metadata": {},
   "outputs": [
    {
     "name": "stdout",
     "output_type": "stream",
     "text": [
      "+---------------------------+-------------+------+\n",
      "| Property                  |       Value | Unit |\n",
      "+---------------------------+-------------+------+\n",
      "| Temperature               |    298.1500 |    K |\n",
      "| Pressure                  |      1.0000 |  bar |\n",
      "| Charge:                   | -4.0000e-16 |  mol |\n",
      "| Element Amount:           |             |      |\n",
      "| :: H                      |  1.1101e+02 |  mol |\n",
      "| :: C                      |  4.0000e-16 |  mol |\n",
      "| :: O                      |  5.5506e+01 |  mol |\n",
      "| :: Si                     |  4.0000e-16 |  mol |\n",
      "| :: Ca                     |  2.0000e-16 |  mol |\n",
      "| Species Amount:           |             |      |\n",
      "| :: H+                     |  1.0000e-16 |  mol |\n",
      "| :: H2O                    |  5.5506e+01 |  mol |\n",
      "| :: CO3-2                  |  1.0000e-16 |  mol |\n",
      "| :: CO2                    |  1.0000e-16 |  mol |\n",
      "| :: Ca+2                   |  1.0000e-16 |  mol |\n",
      "| :: H4SiO4                 |  1.0000e-16 |  mol |\n",
      "| :: H2SiO4-2               |  1.0000e-16 |  mol |\n",
      "| :: H3SiO4-                |  1.0000e-16 |  mol |\n",
      "| :: HCO3-                  |  1.0000e-16 |  mol |\n",
      "| :: OH-                    |  1.0000e-16 |  mol |\n",
      "| :: Calcite :: CaCO3       |  1.0000e-16 |  mol |\n",
      "| :: Quartz :: SiO2         |  1.0000e-16 |  mol |\n",
      "| Surface Area:             |             |      |\n",
      "| :: AqueousPhase : Calcite |      1.2000 |   m2 |\n",
      "| :: AqueousPhase : Quartz  |      1.4000 |   m2 |\n",
      "+---------------------------+-------------+------+\n"
     ]
    }
   ],
   "source": [
    "db = PhreeqcDatabase(\"pitzer.dat\")\n",
    "\n",
    "solution = AqueousPhase()\n",
    "minerals = MineralPhases(\"Calcite Quartz\") # HINT: adding Dolomote\n",
    "\n",
    "system = ChemicalSystem(db, solution, minerals)\n",
    "\n",
    "state = ChemicalState(system)\n",
    "state.set(\"H2O\"     , 1.00, \"kg\")\n",
    "\n",
    "state.surfaceArea(\"AqueousPhase\", \"Calcite\", 1.2, \"m2\")\n",
    "state.surfaceArea(\"AqueousPhase\", \"Quartz\" , 1.4, \"m2\")\n",
    "# HINT: adding surface aread between Dolomote and AqueousPhase \n",
    "\n",
    "print(state)"
   ]
  },
  {
   "cell_type": "markdown",
   "metadata": {},
   "source": [
    "Initially, [ChemicalState](https://reaktoro.org/api/classReaktoro_1_1ChemicalState.html) contains no surface areas. As you set surface areas for some phase pairs, interphase surface information is saved in the [ChemicalState](https://reaktoro.org/api/classReaktoro_1_1ChemicalState.html) object. To access the phase pairs for which surfaces areas have been set and retrieve their values can be done as follows:"
   ]
  },
  {
   "cell_type": "code",
   "execution_count": 5,
   "metadata": {
    "pycharm": {
     "name": "#%%\n"
    }
   },
   "outputs": [
    {
     "name": "stdout",
     "output_type": "stream",
     "text": [
      "EXISTING SURFACES IN THE CHEMICAL STATE OBJECT\n",
      "Surface area between AqueousPhase and Calcite: 1.2 m2\n",
      "Surface area between AqueousPhase and Quartz: 1.4 m2\n"
     ]
    }
   ],
   "source": [
    "print(\"EXISTING SURFACES IN THE CHEMICAL STATE OBJECT\")\n",
    "for [i, j] in state.surfaces():\n",
    "    name1 = system.phase(i).name()      # the name of the first phase in the phase pair\n",
    "    name2 = system.phase(j).name()      # the name of the other phase in the phase pair\n",
    "    surfarea = state.surfaceArea(i, j)  # the surface area of this phase pair\n",
    "    print(f\"Surface area between {name1} and {name2}: {surfarea} m2\")"
   ]
  }
 ],
 "metadata": {
  "interpreter": {
   "hash": "e4e8b2f3ae27709963f14fd23a6560d362beea55eaec742263828e04d814e23c"
  },
  "kernelspec": {
   "display_name": "Python 3 (ipykernel)",
   "language": "python",
   "name": "python3"
  },
  "language_info": {
   "codemirror_mode": {
    "name": "ipython",
    "version": 3
   },
   "file_extension": ".py",
   "mimetype": "text/x-python",
   "name": "python",
   "nbconvert_exporter": "python",
   "pygments_lexer": "ipython3",
   "version": "3.9.7"
  }
 },
 "nbformat": 4,
 "nbformat_minor": 4
}
