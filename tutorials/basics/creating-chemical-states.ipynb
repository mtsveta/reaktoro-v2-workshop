{
 "cells": [
  {
   "cell_type": "markdown",
   "metadata": {},
   "source": [
    "# Creating chemical states\n",
    "\n",
    "After defining and creating a [ChemicalSystem](https://reaktoro.org/api/classReaktoro_1_1ChemicalSystem.html) object, we are equipped to create chemical states. In applications, we often deal with either a *single chemical state* or *a collection of them* (as in reactive transport, for example) with fixed temperature, pressure, and species amounts specified for each state. [ChemicalState](https://reaktoro.org/api/classReaktoro_1_1ChemicalState.html) class is commonly use for:\n",
    "* **specifying initial conditions** for chemical equilibrium and kinetics calculations\n",
    "* **storing computed states** resulting from the above computations\n",
    "\n",
    "First, we consider an example of the chemical system with a gaseous phase only and corresponding [ChemicalState](https://reaktoro.org/api/classReaktoro_1_1ChemicalState.html) instance:"
   ]
  },
  {
   "cell_type": "code",
   "execution_count": null,
   "metadata": {},
   "outputs": [],
   "source": [
    "from reaktoro import *\n",
    "\n",
    "db = NasaDatabase(\"nasa-cea\")\n",
    "\n",
    "gases = GaseousPhase(\"CO2 O2 H2 H2O CH4 CO\")\n",
    "\n",
    "system = ChemicalSystem(db, gases)\n",
    "\n",
    "# Providing initial chemical state\n",
    "state = ChemicalState(system)\n",
    "state.temperature(1000, \"celsius\") # remove this line to see the default value\n",
    "state.pressure(10, \"MPa\")          # remove this line to see the default value\n",
    "state.set(\"CO2\", 0.1, \"mol\")\n",
    "state.set(\"O2\" , 0.2, \"mol\")\n",
    "state.set(\"H2\" , 0.3, \"mol\")\n",
    "state.set(\"H2O\", 0.4, \"mol\")\n",
    "state.set(\"CH4\", 0.5, \"mol\")\n",
    "state.set(\"CO\" , 0.0, \"mol\")       # remove this line to see the default value\n",
    "\n",
    "# Print the obtained chemical state\n",
    "print(\"INITIAL STATE\")\n",
    "print(state)"
   ]
  },
  {
   "cell_type": "markdown",
   "metadata": {},
   "source": [
    "> **Note**: The table above **does not** contain *thermodynamic properties of the system*; only temperature, pressure, species and element amounts, and the electric charge.\n",
    "\n",
    "\n",
    "> **Note**: By default, a [ChemicalState](https://reaktoro.org/api/classReaktoro_1_1ChemicalState.html) object is initialized with the following conditions:\n",
    "> * 273.15 K (or 25 °C)\n",
    "> * 10<sup>5</sup> Pa (or 1 bar)\n",
    "> * 10<sup>-16</sup> mol as the amounts of every species.\n",
    "> Zero is a numerically problematic value for species amounts; that's why we set it to a very small positive value instead. This should not be an issue for you in most cases, but if for some reason 10<sup>-16</sup> is not small enough, you can use the method `ChemicalState.setSpeciesAmount(1e-40)` to set a common amount value for all species in the system."
   ]
  },
  {
   "cell_type": "markdown",
   "metadata": {},
   "source": [
    "**TASK**: \n",
    "1) consider a more complicated chemical system containing\n",
    "* mineral phases of Calcite, Dolomite, Quartz, Halite\n",
    "* aqueous phase generated automatically based on the elements contained in the mineral phases\n",
    "and \n",
    "2) create a chemical state with the following initial composition of the species per 1 kg of water at 50 °C and 5 atm:\n",
    "\n",
    "| Aqueous species | Value     |\n",
    "|-----------------|-----------|\n",
    "| Na<sup>+</sup>  | 0.10 mol  |\n",
    "| Cl<sup>-</sup>  | 0.10 mol  |\n",
    "| Mg<sup>2+</sup> | 0.50 mmol |\n",
    "| Ca<sup>2+</sup> | 0.50 mmol |\n",
    "| Calcite         | 1 mg      |\n",
    "| Dolomite        | 1 ug      |\n",
    "| Quartz          | 1 kmol    |\n"
   ]
  },
  {
   "cell_type": "code",
   "execution_count": null,
   "metadata": {},
   "outputs": [],
   "source": [
    "# -------------------------------------- #\n",
    "# Code cell for the task\n",
    "# -------------------------------------- #"
   ]
  },
  {
   "cell_type": "markdown",
   "metadata": {
    "tags": []
   },
   "source": [
    "## Setting surface area\n",
    "\n",
    "Providing surface areas between some phases is an **important functionality in modelling chemical kinetics** in which *heterogeneous reactions* (i.e., reactions containing species from different phases, such as mineral and gas dissolution reactions) are common:"
   ]
  },
  {
   "cell_type": "code",
   "execution_count": null,
   "metadata": {},
   "outputs": [],
   "source": [
    "db = PhreeqcDatabase(\"pitzer.dat\")\n",
    "\n",
    "solution = AqueousPhase()\n",
    "minerals = MineralPhases(\"Calcite Quartz\") # HINT: adding Dolomite\n",
    "\n",
    "system = ChemicalSystem(db, solution, minerals)\n",
    "\n",
    "state = ChemicalState(system)\n",
    "state.set(\"H2O\"     , 1.00, \"kg\")\n",
    "\n",
    "state.surfaceArea(\"AqueousPhase\", \"Calcite\", 1.2, \"m2\")\n",
    "state.surfaceArea(\"AqueousPhase\", \"Quartz\" , 1.4, \"m2\")\n",
    "# HINT: adding surface area between Dolomite and AqueousPhase\n",
    "\n",
    "print(state)"
   ]
  },
  {
   "cell_type": "markdown",
   "metadata": {},
   "source": [
    "Initially, [ChemicalState](https://reaktoro.org/api/classReaktoro_1_1ChemicalState.html) contains no surface areas. As you set surface areas for some phase pairs, interphase surface information is saved in the [ChemicalState](https://reaktoro.org/api/classReaktoro_1_1ChemicalState.html) object. To access the phase pairs for which surfaces areas have been set and retrieve their values can be done as follows:"
   ]
  },
  {
   "cell_type": "code",
   "execution_count": null,
   "metadata": {
    "pycharm": {
     "name": "#%%\n"
    }
   },
   "outputs": [],
   "source": [
    "print(\"EXISTING SURFACES IN THE CHEMICAL STATE OBJECT\")\n",
    "for [i, j] in state.surfaces():\n",
    "    name1 = system.phase(i).name()      # the name of the first phase in the phase pair\n",
    "    name2 = system.phase(j).name()      # the name of the other phase in the phase pair\n",
    "    surfarea = state.surfaceArea(i, j)  # the surface area of this phase pair\n",
    "    print(f\"Surface area between {name1} and {name2}: {surfarea} m2\")"
   ]
  }
 ],
 "metadata": {
  "interpreter": {
   "hash": "e4e8b2f3ae27709963f14fd23a6560d362beea55eaec742263828e04d814e23c"
  },
  "kernelspec": {
   "display_name": "Python 3 (ipykernel)",
   "language": "python",
   "name": "python3"
  },
  "language_info": {
   "codemirror_mode": {
    "name": "ipython",
    "version": 3
   },
   "file_extension": ".py",
   "mimetype": "text/x-python",
   "name": "python",
   "nbconvert_exporter": "python",
   "pygments_lexer": "ipython3",
   "version": "3.9.7"
  }
 },
 "nbformat": 4,
 "nbformat_minor": 4
}
