{
 "cells": [
  {
   "cell_type": "markdown",
   "metadata": {},
   "source": [
    "# Computing thermodynamic properties\n",
    "\n",
    "## Standard thermodynamic properties of species\n",
    "\n",
    "For species, we can compute the following *standard thermodynamic properties*:\n",
    "\n",
    "* the standard molar Gibbs energy, $G_i^\\circ$\n",
    "* the standard molar Helmholtz energy, $A_i^\\circ$\n",
    "* the standard molar enthalpy, $H_i^\\circ$\n",
    "* the standard molar internal energy, $U_i^\\circ$\n",
    "* the standard molar entropy, $S_i^\\circ$\n",
    "* the standard molar volume, $V_i^\\circ$\n",
    "* the standard molar heat capacity (constant pressure), $C_{P,i}^\\circ$\n",
    "* the standard molar heat capacity (constant volume), $C_{V,i}^\\circ$\n",
    "\n",
    "Below, we use the SUPCRTBL database to compute the standard thermodynamic properties of CO<sub></sub>(aq)."
   ]
  },
  {
   "cell_type": "code",
   "execution_count": null,
   "metadata": {},
   "outputs": [],
   "source": [
    "from reaktoro import *\n",
    "\n",
    "db = SupcrtDatabase(\"supcrtbl\")\n",
    "\n",
    "CO2aq   = db.species(\"CO2(aq)\")"
   ]
  },
  {
   "cell_type": "markdown",
   "metadata": {},
   "source": [
    "We can use the method `props` in the [Species](https://reaktoro.org/api/classReaktoro_1_1Species.html) class to compute the standard thermodynamic properties of instance `CO2aq` at 60 °C and 100 bar:"
   ]
  },
  {
   "cell_type": "code",
   "execution_count": null,
   "metadata": {
    "scrolled": true,
    "tags": []
   },
   "outputs": [],
   "source": [
    "print(\"STANDARD THERMODYNAMIC PROPERTIES OF CO2(AQ) AT 60 °C AND 100 BAR\")\n",
    "print(CO2aq.props(60, \"C\", 100, \"bar\"))"
   ]
  },
  {
   "cell_type": "markdown",
   "metadata": {},
   "source": [
    "**TASK 1**: compute the standard thermodynamic properties of CO(g) and calcite."
   ]
  },
  {
   "cell_type": "code",
   "execution_count": null,
   "metadata": {},
   "outputs": [],
   "source": [
    "# -------------------------------------- #\n",
    "# Code cell for the task\n",
    "# -------------------------------------- #"
   ]
  },
  {
   "cell_type": "markdown",
   "metadata": {},
   "source": [
    "Let's calculate the *standard thermodynamic properties of CO<sub></sub>(aq) from 25 to 300 °C* along the *saturation pressure of water*. Below, we build a dictionary containing the following data:\n",
    "* the temperatures used to evaluate thermodynamic properties\n",
    "* the standard molar Gibbs energy of CO<sub></sub>(aq)\n",
    "* the standard molar enthalpy of CO<sub></sub>(aq)"
   ]
  },
  {
   "cell_type": "code",
   "execution_count": null,
   "metadata": {},
   "outputs": [],
   "source": [
    "import numpy as np\n",
    "\n",
    "temperatures = np.linspace(25.0, 300.0, 100) + 273.15  # in K\n",
    "\n",
    "data = { \"T\": [], \"G0\": [], \"H0\": [] }\n",
    "\n",
    "for T in temperatures:\n",
    "    P = waterSaturationPressureWagnerPruss(T)   # in Pa\n",
    "    props = CO2aq.props(T, P)                   # properties calculated in K and Pa\n",
    "    data[\"T\" ].append(float(T - 273.15))        # in °C\n",
    "    data[\"G0\"].append(float(props.G0 * 0.001))  # in kJ/mol\n",
    "    data[\"H0\"].append(float(props.H0 * 0.001))  # in kJ/mol"
   ]
  },
  {
   "cell_type": "markdown",
   "metadata": {},
   "source": [
    "> **Tip:** You might also be interested in other methods for calculating the thermodynamic properties of water besides `waterSaturationPressureWagnerPruss` (which implements the water saturation pressure equation). Below, we list other methods available in [Reaktoro's API](https://reaktoro.org/api/):\n",
    ">\n",
    "> * `waterDensityHGK`\n",
    "> * `waterDensityWagnerPruss`\n",
    "> * `waterLiquidDensityHGK`\n",
    "> * `waterLiquidDensityWagnerPruss`\n",
    "> * `waterVaporDensityHGK`\n",
    "> * `waterVaporDensityWagnerPruss`\n",
    "> * `waterPressureHGK`\n",
    "> * `waterPressureWagnerPruss`\n",
    "> * `waterSaturationPressureWagnerPruss`\n",
    "> * `waterSaturationLiquidDensityWagnerPruss`\n",
    "> * `waterSaturationVapourDensityWagnerPruss`\n",
    "> * `waterThermoPropsHGK`\n",
    "> * `waterThermoPropsWagnerPruss`"
   ]
  },
  {
   "cell_type": "markdown",
   "metadata": {},
   "source": [
    "We use the [bokeh](https://bokeh.org/) plotting library, which must be initialized to work in Jupyter Notebooks:"
   ]
  },
  {
   "cell_type": "code",
   "execution_count": null,
   "metadata": {
    "pycharm": {
     "is_executing": true
    }
   },
   "outputs": [],
   "source": [
    "from bokeh.plotting import figure, show\n",
    "from bokeh.models import HoverTool\n",
    "from bokeh.io import output_notebook\n",
    "output_notebook()"
   ]
  },
  {
   "cell_type": "markdown",
   "metadata": {},
   "source": [
    "The interactive plot of standard molar Gibbs energy and standard molar enthalpy versus temperature range is build below:"
   ]
  },
  {
   "cell_type": "code",
   "execution_count": null,
   "metadata": {
    "pycharm": {
     "is_executing": true
    }
   },
   "outputs": [],
   "source": [
    "hovertool = HoverTool()\n",
    "hovertool.tooltips = [(\"Temperature\", \"@T °C\"), (\"G°,CO2(aq)\", \"@G0 kJ/mol\"), (\"H°,CO2(aq)\", \"@H0 kJ/mol\")]\n",
    "\n",
    "p = figure(\n",
    "    title=\"STANDARD THERMODYNAMIC PROPERTIES OF CO2(AQ)\\nALONG WATER SATURATION PRESSURE\", \n",
    "    x_axis_label='TEMPERATURE [°C]', \n",
    "    y_axis_label=r\"\",\n",
    "    sizing_mode=\"scale_width\")\n",
    "\n",
    "p.add_tools(hovertool)\n",
    "\n",
    "p.line(\"T\", \"G0\", source=data, legend_label=\"G°,CO2(aq)\", line_width=5, line_cap=\"round\", line_color=\"midnightblue\")\n",
    "p.line(\"T\", \"H0\", source=data, legend_label=\"H°,CO2(aq)\", line_width=5, line_cap=\"round\", line_color=\"orange\")\n",
    "\n",
    "show(p)"
   ]
  },
  {
   "cell_type": "markdown",
   "metadata": {},
   "source": [
    "**TASK 2**: use the PHREEQC database to collect the *standard molar internal energy* and *standard molar entropy of CO2* and plot their temperature dependence."
   ]
  },
  {
   "cell_type": "code",
   "execution_count": null,
   "metadata": {
    "collapsed": false,
    "jupyter": {
     "outputs_hidden": false
    },
    "pycharm": {
     "name": "#%%\n"
    }
   },
   "outputs": [],
   "source": [
    "# -------------------------------------- #\n",
    "# Code cell for the task\n",
    "# -------------------------------------- #"
   ]
  },
  {
   "cell_type": "markdown",
   "metadata": {},
   "source": [
    "## Standard thermodynamic properties of reactions\n",
    "\n",
    "Next, we demonstrate computation of *standard thermodynamic properties of a chemical reaction* such as:\n",
    "\n",
    "* the equilibrium constant of reaction, $K_r$\n",
    "* the standard Gibbs energy of reaction, $\\Delta G_r^\\circ$\n",
    "* the standard Helmholtz energy of reaction, $\\Delta A_r^\\circ$\n",
    "* the standard enthalpy of reaction, $\\Delta H_r^\\circ$\n",
    "* the standard internal energy of reaction, $\\Delta U_r^\\circ$\n",
    "* the standard entropy of reaction, $\\Delta S_r^\\circ$\n",
    "* the standard volume of reaction, $\\Delta V_r^\\circ$\n",
    "* the standard heat capacity (constant pressure) of reaction, $\\Delta C_{P,r}^\\circ$\n",
    "* the standard heat capacity (constant volume) of reaction, $\\Delta C_{V,r}^\\circ$\n",
    "\n",
    "Reaktoro computes these reaction properties using the standard thermodynamic properties of the reacting species at a given temperature and pressure.\n",
    "\n",
    "**Example**: for the reaction $2\\mathrm{A}+3\\mathrm{B}=\\mathrm{C}$, the *standard Gibbs energy of this reaction* is computed using\n",
    "\n",
    "$$\\Delta G_{r}^{\\circ}=G_{\\mathrm{C}}^{\\circ}-2G_{\\mathrm{A}}^{\\circ}-3G_{\\mathrm{B}}^{\\circ}.$$\n",
    "\n",
    "This rationale (stoichiometric property contribution from product species minus the contribution of reactant species) can be applied to all other standard thermodynamic properties and every reaction.\n",
    "\n",
    "The *equilibrium constant of the reaction* is defined as\n",
    "\n",
    "$$\\ln K_r = -\\dfrac{\\Delta G^{\\circ}_m}{RT}$$\n",
    "\n",
    "but it's often handled in logarithm base 10, $\\lg K_r = \\ln K_r/\\ln 10$.\n",
    "\n",
    "Below, we demonstrate computing of these reaction properties:"
   ]
  },
  {
   "cell_type": "code",
   "execution_count": null,
   "metadata": {
    "collapsed": false,
    "jupyter": {
     "outputs_hidden": false
    },
    "pycharm": {
     "name": "#%%\n"
    }
   },
   "outputs": [],
   "source": [
    "from reaktoro import *\n",
    "\n",
    "db = PhreeqcDatabase(\"phreeqc.dat\")\n",
    "\n",
    "rxn = db.reaction(\"H+ + OH- = H2O\")\n",
    "\n",
    "rprops = rxn.props(25.0, \"C\", 1.0, \"atm\")\n",
    "print(rprops)"
   ]
  },
  {
   "cell_type": "markdown",
   "metadata": {},
   "source": [
    "**TASK 3**: consider reaction of kaolinite dissolution `Kaolinite + 6*H+ = H2O + 2*H4SiO4 + 2*Al+3` and compute its properties."
   ]
  },
  {
   "cell_type": "code",
   "execution_count": null,
   "metadata": {
    "collapsed": false,
    "jupyter": {
     "outputs_hidden": false
    },
    "pycharm": {
     "name": "#%%\n"
    }
   },
   "outputs": [],
   "source": [
    "# -------------------------------------- #\n",
    "# Code cell for the task\n",
    "# -------------------------------------- #"
   ]
  }
 ],
 "metadata": {
  "interpreter": {
   "hash": "e4e8b2f3ae27709963f14fd23a6560d362beea55eaec742263828e04d814e23c"
  },
  "kernelspec": {
   "display_name": "Python 3 (ipykernel)",
   "language": "python",
   "name": "python3"
  },
  "language_info": {
   "codemirror_mode": {
    "name": "ipython",
    "version": 3
   },
   "file_extension": ".py",
   "mimetype": "text/x-python",
   "name": "python",
   "nbconvert_exporter": "python",
   "pygments_lexer": "ipython3",
   "version": "3.9.7"
  }
 },
 "nbformat": 4,
 "nbformat_minor": 4
}