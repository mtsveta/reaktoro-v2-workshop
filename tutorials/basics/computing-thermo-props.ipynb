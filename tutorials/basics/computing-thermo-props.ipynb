{
 "cells": [
  {
   "cell_type": "markdown",
   "metadata": {},
   "source": [
    "# Computing thermodynamic properties\n",
    "\n",
    "## Standard thermodynamic properties of species\n",
    "\n",
    "Let's learn how to compute *standard thermodynamic properties of chemical species* such as:\n",
    "\n",
    "* the standard molar Gibbs energy, $G_i^\\circ$\n",
    "* the standard molar Helmholtz energy, $A_i^\\circ$\n",
    "* the standard molar enthalpy, $H_i^\\circ$\n",
    "* the standard molar internal energy, $U_i^\\circ$\n",
    "* the standard molar entropy, $S_i^\\circ$\n",
    "* the standard molar volume, $V_i^\\circ$\n",
    "* the standard molar heat capacity (constant pressure), $C_{P,i}^\\circ$\n",
    "* the standard molar heat capacity (constant volume), $C_{V,i}^\\circ$\n",
    "\n",
    "Below, we use of the SUPCRTBL database to compute the standard thermodynamic properties of CO<sub></sub>(aq)."
   ]
  },
  {
   "cell_type": "code",
   "execution_count": 2,
   "metadata": {},
   "outputs": [],
   "source": [
    "from reaktoro import *\n",
    "\n",
    "db = SupcrtDatabase(\"supcrtbl\")\n",
    "\n",
    "CO2g    = db.species(\"CO2(g)\")\n",
    "CO2aq   = db.species(\"CO2(aq)\")\n",
    "calcite = db.species(\"Calcite\")"
   ]
  },
  {
   "cell_type": "markdown",
   "metadata": {},
   "source": [
    "We can use the method `props` in the [Species](https://reaktoro.org/api/classReaktoro_1_1Species.html) class to compute the standard thermodynamic properties of instances `CO2g`, `CO2aq`, `calcite` at 60 °C and 100 bar:"
   ]
  },
  {
   "cell_type": "code",
   "execution_count": 3,
   "metadata": {},
   "outputs": [
    {
     "name": "stdout",
     "output_type": "stream",
     "text": [
      "STANDARD THERMODYNAMIC PROPERTIES OF CO2(G) AT 60 °C AND 100 BAR\n",
      "+------------------------------------------+---------+-------------+\n",
      "| Property                                 |   Value |        Unit |\n",
      "+------------------------------------------+---------+-------------+\n",
      "| Temperature                              |  333.15 |           K |\n",
      "| Pressure                                 |   1e+07 |          Pa |\n",
      "| Standard Gibbs Energy                    | -401904 |       J/mol |\n",
      "| Standard Enthalpy                        | -392186 |       J/mol |\n",
      "| Standard Volume                          |       0 |      m3/mol |\n",
      "| Standard Volume (Temperature Derivative) |       0 |  m3/(mol*K) |\n",
      "| Standard Volume (Pressure Derivative)    |       0 | m3/(mol*Pa) |\n",
      "| Standard Isobaric Heat Capacity          | 38.5567 |   J/(mol*K) |\n",
      "| Standard Isochoric Heat Capacity         | 38.5567 |   J/(mol*K) |\n",
      "| Standard Internal Energy                 | -392186 |       J/mol |\n",
      "| Standard Entropy                         | 29.1699 |   J/(mol*K) |\n",
      "| Standard Helmholtz Energy                | -401904 |       J/mol |\n",
      "+------------------------------------------+---------+-------------+\n",
      "STANDARD THERMODYNAMIC PROPERTIES OF CO2(AQ) AT 60 °C AND 100 BAR\n",
      "+------------------------------------------+--------------+-------------+\n",
      "| Property                                 |        Value |        Unit |\n",
      "+------------------------------------------+--------------+-------------+\n",
      "| Temperature                              |       333.15 |           K |\n",
      "| Pressure                                 |        1e+07 |          Pa |\n",
      "| Standard Gibbs Energy                    |      -390193 |       J/mol |\n",
      "| Standard Enthalpy                        |      -405930 |       J/mol |\n",
      "| Standard Volume                          |  3.43478e-05 |      m3/mol |\n",
      "| Standard Volume (Temperature Derivative) |  3.31002e-08 |  m3/(mol*K) |\n",
      "| Standard Volume (Pressure Derivative)    | -2.62559e-14 | m3/(mol*Pa) |\n",
      "| Standard Isobaric Heat Capacity          |       203.77 |   J/(mol*K) |\n",
      "| Standard Isochoric Heat Capacity         |      189.868 |   J/(mol*K) |\n",
      "| Standard Internal Energy                 |      -406274 |       J/mol |\n",
      "| Standard Entropy                         |     -47.2375 |   J/(mol*K) |\n",
      "| Standard Helmholtz Energy                |      -390537 |       J/mol |\n",
      "+------------------------------------------+--------------+-------------+\n",
      "STANDARD THERMODYNAMIC PROPERTIES OF CALCITE AT 60 °C AND 100 BAR\n",
      "+------------------------------------------+--------------+-------------+\n",
      "| Property                                 |        Value |        Unit |\n",
      "+------------------------------------------+--------------+-------------+\n",
      "| Temperature                              |       333.15 |           K |\n",
      "| Pressure                                 |        1e+07 |          Pa |\n",
      "| Standard Gibbs Energy                    | -1.13263e+06 |       J/mol |\n",
      "| Standard Enthalpy                        | -1.20455e+06 |       J/mol |\n",
      "| Standard Volume                          |  3.69181e-05 |      m3/mol |\n",
      "| Standard Volume (Temperature Derivative) |            0 |  m3/(mol*K) |\n",
      "| Standard Volume (Pressure Derivative)    |            0 | m3/(mol*Pa) |\n",
      "| Standard Isobaric Heat Capacity          |      86.9803 |   J/(mol*K) |\n",
      "| Standard Isochoric Heat Capacity         |      86.9803 |   J/(mol*K) |\n",
      "| Standard Internal Energy                 | -1.20492e+06 |       J/mol |\n",
      "| Standard Entropy                         |     -215.868 |   J/(mol*K) |\n",
      "| Standard Helmholtz Energy                |   -1.133e+06 |       J/mol |\n",
      "+------------------------------------------+--------------+-------------+\n"
     ]
    }
   ],
   "source": [
    "print(\"STANDARD THERMODYNAMIC PROPERTIES OF CO2(G) AT 60 °C AND 100 BAR\")\n",
    "print(CO2g.props(60, \"C\", 100, \"bar\"))"
   ]
  },
  {
   "cell_type": "markdown",
   "metadata": {},
   "source": [
    "Let's calculate the standard thermodynamic properties of CO<sub></sub>(aq) from 25 to 300 °C along the saturation pressure of water. Below, we build dictionary containing the following data:\n",
    "* the temperatures used to evaluate thermodynamic properties\n",
    "* the standard molar Gibbs energy\n",
    "* the standard molar enthalpy of the species CO<sub></sub>(aq)"
   ]
  },
  {
   "cell_type": "code",
   "execution_count": 4,
   "metadata": {},
   "outputs": [],
   "source": [
    "import numpy as np\n",
    "\n",
    "temperatures = np.linspace(25.0, 300.0, 100) + 273.15  # in K\n",
    "\n",
    "data = { \"T\": [], \"G0\": [], \"H0\": [] }\n",
    "\n",
    "for T in temperatures:\n",
    "    P = waterSaturationPressureWagnerPruss(T)   # in Pa\n",
    "    props = CO2aq.props(T, P)                   # properties calculated in K and Pa\n",
    "    data[\"T\" ].append(float(T - 273.15))        # in °C\n",
    "    data[\"G0\"].append(float(props.G0 * 0.001))  # in kJ/mol\n",
    "    data[\"H0\"].append(float(props.H0 * 0.001))  # in kJ/mol"
   ]
  },
  {
   "cell_type": "markdown",
   "metadata": {},
   "source": [
    "> **Tip:** You might also be interested in other methods for calculating the thermodynamic properties of water besides `waterSaturationPressureWagnerPruss` (which implements the water saturation pressure equation). Below, we list other methods available in [Reaktoro's API](https://reaktoro.org/api/):\n",
    ">\n",
    "> * `waterDensityHGK`\n",
    "> * `waterDensityWagnerPruss`\n",
    "> * `waterLiquidDensityHGK`\n",
    "> * `waterLiquidDensityWagnerPruss`\n",
    "> * `waterVaporDensityHGK`\n",
    "> * `waterVaporDensityWagnerPruss`\n",
    "> * `waterPressureHGK`\n",
    "> * `waterPressureWagnerPruss`\n",
    "> * `waterSaturationPressureWagnerPruss`\n",
    "> * `waterSaturationLiquidDensityWagnerPruss`\n",
    "> * `waterSaturationVapourDensityWagnerPruss`\n",
    "> * `waterThermoPropsHGK`\n",
    "> * `waterThermoPropsWagnerPruss`"
   ]
  },
  {
   "cell_type": "markdown",
   "metadata": {},
   "source": [
    "We use the [bokeh](https://bokeh.org/) plotting library, which must be initialized to work in Jupyter Notebooks:"
   ]
  },
  {
   "cell_type": "code",
   "execution_count": null,
   "metadata": {
    "pycharm": {
     "is_executing": true
    }
   },
   "outputs": [],
   "source": [
    "from bokeh.plotting import figure, show\n",
    "from bokeh.models import HoverTool\n",
    "from bokeh.io import output_notebook\n",
    "output_notebook()"
   ]
  },
  {
   "cell_type": "markdown",
   "metadata": {},
   "source": [
    "The interactive plot of standard molar Gibbs energy and standard molar enthalpy versus temperature range is buid below:"
   ]
  },
  {
   "cell_type": "code",
   "execution_count": null,
   "metadata": {
    "pycharm": {
     "is_executing": true
    }
   },
   "outputs": [],
   "source": [
    "hovertool = HoverTool()\n",
    "hovertool.tooltips = [(\"Temperature\", \"@T °C\"), (\"G°,CO2(aq)\", \"@G0 kJ/mol\"), (\"H°,CO2(aq)\", \"@H0 kJ/mol\")]\n",
    "\n",
    "p = figure(\n",
    "    title=\"STANDARD THERMODYNAMIC PROPERTIES OF CO2(AQ)\\nALONG WATER SATURATION PRESSURE\", \n",
    "    x_axis_label='TEMPERATURE [°C]', \n",
    "    y_axis_label=r\"\",\n",
    "    sizing_mode=\"scale_width\")\n",
    "\n",
    "p.add_tools(hovertool)\n",
    "\n",
    "p.line(\"T\", \"G0\", source=data, legend_label=\"G°,CO2(aq)\", line_width=5, line_cap=\"round\", line_color=\"midnightblue\")\n",
    "p.line(\"T\", \"H0\", source=data, legend_label=\"H°,CO2(aq)\", line_width=5, line_cap=\"round\", line_color=\"orange\")\n",
    "\n",
    "show(p)"
   ]
  },
  {
   "cell_type": "markdown",
   "source": [
    "**TASK**: use the PHREEQC database to collect the *standard molar internal energy* and *standard molar entropy of calcite* and plot their dependence on temperature."
   ],
   "metadata": {
    "collapsed": false
   }
  },
  {
   "cell_type": "code",
   "execution_count": 5,
   "outputs": [
    {
     "data": {
      "text/html": "\n    <div class=\"bk-root\">\n        <a href=\"https://bokeh.org\" target=\"_blank\" class=\"bk-logo bk-logo-small bk-logo-notebook\"></a>\n        <span id=\"1308\">Loading BokehJS ...</span>\n    </div>"
     },
     "metadata": {},
     "output_type": "display_data"
    },
    {
     "data": {
      "application/javascript": "\n(function(root) {\n  function now() {\n    return new Date();\n  }\n\n  const force = true;\n\n  if (typeof root._bokeh_onload_callbacks === \"undefined\" || force === true) {\n    root._bokeh_onload_callbacks = [];\n    root._bokeh_is_loading = undefined;\n  }\n\n  const JS_MIME_TYPE = 'application/javascript';\n  const HTML_MIME_TYPE = 'text/html';\n  const EXEC_MIME_TYPE = 'application/vnd.bokehjs_exec.v0+json';\n  const CLASS_NAME = 'output_bokeh rendered_html';\n\n  /**\n   * Render data to the DOM node\n   */\n  function render(props, node) {\n    const script = document.createElement(\"script\");\n    node.appendChild(script);\n  }\n\n  /**\n   * Handle when an output is cleared or removed\n   */\n  function handleClearOutput(event, handle) {\n    const cell = handle.cell;\n\n    const id = cell.output_area._bokeh_element_id;\n    const server_id = cell.output_area._bokeh_server_id;\n    // Clean up Bokeh references\n    if (id != null && id in Bokeh.index) {\n      Bokeh.index[id].model.document.clear();\n      delete Bokeh.index[id];\n    }\n\n    if (server_id !== undefined) {\n      // Clean up Bokeh references\n      const cmd_clean = \"from bokeh.io.state import curstate; print(curstate().uuid_to_server['\" + server_id + \"'].get_sessions()[0].document.roots[0]._id)\";\n      cell.notebook.kernel.execute(cmd_clean, {\n        iopub: {\n          output: function(msg) {\n            const id = msg.content.text.trim();\n            if (id in Bokeh.index) {\n              Bokeh.index[id].model.document.clear();\n              delete Bokeh.index[id];\n            }\n          }\n        }\n      });\n      // Destroy server and session\n      const cmd_destroy = \"import bokeh.io.notebook as ion; ion.destroy_server('\" + server_id + \"')\";\n      cell.notebook.kernel.execute(cmd_destroy);\n    }\n  }\n\n  /**\n   * Handle when a new output is added\n   */\n  function handleAddOutput(event, handle) {\n    const output_area = handle.output_area;\n    const output = handle.output;\n\n    // limit handleAddOutput to display_data with EXEC_MIME_TYPE content only\n    if ((output.output_type != \"display_data\") || (!Object.prototype.hasOwnProperty.call(output.data, EXEC_MIME_TYPE))) {\n      return\n    }\n\n    const toinsert = output_area.element.find(\".\" + CLASS_NAME.split(' ')[0]);\n\n    if (output.metadata[EXEC_MIME_TYPE][\"id\"] !== undefined) {\n      toinsert[toinsert.length - 1].firstChild.textContent = output.data[JS_MIME_TYPE];\n      // store reference to embed id on output_area\n      output_area._bokeh_element_id = output.metadata[EXEC_MIME_TYPE][\"id\"];\n    }\n    if (output.metadata[EXEC_MIME_TYPE][\"server_id\"] !== undefined) {\n      const bk_div = document.createElement(\"div\");\n      bk_div.innerHTML = output.data[HTML_MIME_TYPE];\n      const script_attrs = bk_div.children[0].attributes;\n      for (let i = 0; i < script_attrs.length; i++) {\n        toinsert[toinsert.length - 1].firstChild.setAttribute(script_attrs[i].name, script_attrs[i].value);\n        toinsert[toinsert.length - 1].firstChild.textContent = bk_div.children[0].textContent\n      }\n      // store reference to server id on output_area\n      output_area._bokeh_server_id = output.metadata[EXEC_MIME_TYPE][\"server_id\"];\n    }\n  }\n\n  function register_renderer(events, OutputArea) {\n\n    function append_mime(data, metadata, element) {\n      // create a DOM node to render to\n      const toinsert = this.create_output_subarea(\n        metadata,\n        CLASS_NAME,\n        EXEC_MIME_TYPE\n      );\n      this.keyboard_manager.register_events(toinsert);\n      // Render to node\n      const props = {data: data, metadata: metadata[EXEC_MIME_TYPE]};\n      render(props, toinsert[toinsert.length - 1]);\n      element.append(toinsert);\n      return toinsert\n    }\n\n    /* Handle when an output is cleared or removed */\n    events.on('clear_output.CodeCell', handleClearOutput);\n    events.on('delete.Cell', handleClearOutput);\n\n    /* Handle when a new output is added */\n    events.on('output_added.OutputArea', handleAddOutput);\n\n    /**\n     * Register the mime type and append_mime function with output_area\n     */\n    OutputArea.prototype.register_mime_type(EXEC_MIME_TYPE, append_mime, {\n      /* Is output safe? */\n      safe: true,\n      /* Index of renderer in `output_area.display_order` */\n      index: 0\n    });\n  }\n\n  // register the mime type if in Jupyter Notebook environment and previously unregistered\n  if (root.Jupyter !== undefined) {\n    const events = require('base/js/events');\n    const OutputArea = require('notebook/js/outputarea').OutputArea;\n\n    if (OutputArea.prototype.mime_types().indexOf(EXEC_MIME_TYPE) == -1) {\n      register_renderer(events, OutputArea);\n    }\n  }\n\n  \n  if (typeof (root._bokeh_timeout) === \"undefined\" || force === true) {\n    root._bokeh_timeout = Date.now() + 5000;\n    root._bokeh_failed_load = false;\n  }\n\n  const NB_LOAD_WARNING = {'data': {'text/html':\n     \"<div style='background-color: #fdd'>\\n\"+\n     \"<p>\\n\"+\n     \"BokehJS does not appear to have successfully loaded. If loading BokehJS from CDN, this \\n\"+\n     \"may be due to a slow or bad network connection. Possible fixes:\\n\"+\n     \"</p>\\n\"+\n     \"<ul>\\n\"+\n     \"<li>re-rerun `output_notebook()` to attempt to load from CDN again, or</li>\\n\"+\n     \"<li>use INLINE resources instead, as so:</li>\\n\"+\n     \"</ul>\\n\"+\n     \"<code>\\n\"+\n     \"from bokeh.resources import INLINE\\n\"+\n     \"output_notebook(resources=INLINE)\\n\"+\n     \"</code>\\n\"+\n     \"</div>\"}};\n\n  function display_loaded() {\n    const el = document.getElementById(\"1308\");\n    if (el != null) {\n      el.textContent = \"BokehJS is loading...\";\n    }\n    if (root.Bokeh !== undefined) {\n      if (el != null) {\n        el.textContent = \"BokehJS \" + root.Bokeh.version + \" successfully loaded.\";\n      }\n    } else if (Date.now() < root._bokeh_timeout) {\n      setTimeout(display_loaded, 100)\n    }\n  }\n\n\n  function run_callbacks() {\n    try {\n      root._bokeh_onload_callbacks.forEach(function(callback) {\n        if (callback != null)\n          callback();\n      });\n    } finally {\n      delete root._bokeh_onload_callbacks\n    }\n    console.debug(\"Bokeh: all callbacks have finished\");\n  }\n\n  function load_libs(css_urls, js_urls, callback) {\n    if (css_urls == null) css_urls = [];\n    if (js_urls == null) js_urls = [];\n\n    root._bokeh_onload_callbacks.push(callback);\n    if (root._bokeh_is_loading > 0) {\n      console.debug(\"Bokeh: BokehJS is being loaded, scheduling callback at\", now());\n      return null;\n    }\n    if (js_urls == null || js_urls.length === 0) {\n      run_callbacks();\n      return null;\n    }\n    console.debug(\"Bokeh: BokehJS not loaded, scheduling load and callback at\", now());\n    root._bokeh_is_loading = css_urls.length + js_urls.length;\n\n    function on_load() {\n      root._bokeh_is_loading--;\n      if (root._bokeh_is_loading === 0) {\n        console.debug(\"Bokeh: all BokehJS libraries/stylesheets loaded\");\n        run_callbacks()\n      }\n    }\n\n    function on_error(url) {\n      console.error(\"failed to load \" + url);\n    }\n\n    for (let i = 0; i < css_urls.length; i++) {\n      const url = css_urls[i];\n      const element = document.createElement(\"link\");\n      element.onload = on_load;\n      element.onerror = on_error.bind(null, url);\n      element.rel = \"stylesheet\";\n      element.type = \"text/css\";\n      element.href = url;\n      console.debug(\"Bokeh: injecting link tag for BokehJS stylesheet: \", url);\n      document.body.appendChild(element);\n    }\n\n    for (let i = 0; i < js_urls.length; i++) {\n      const url = js_urls[i];\n      const element = document.createElement('script');\n      element.onload = on_load;\n      element.onerror = on_error.bind(null, url);\n      element.async = false;\n      element.src = url;\n      console.debug(\"Bokeh: injecting script tag for BokehJS library: \", url);\n      document.head.appendChild(element);\n    }\n  };\n\n  function inject_raw_css(css) {\n    const element = document.createElement(\"style\");\n    element.appendChild(document.createTextNode(css));\n    document.body.appendChild(element);\n  }\n\n  \n  const js_urls = [\"https://cdn.bokeh.org/bokeh/release/bokeh-2.4.2.min.js\", \"https://cdn.bokeh.org/bokeh/release/bokeh-gl-2.4.2.min.js\", \"https://cdn.bokeh.org/bokeh/release/bokeh-widgets-2.4.2.min.js\", \"https://cdn.bokeh.org/bokeh/release/bokeh-tables-2.4.2.min.js\", \"https://cdn.bokeh.org/bokeh/release/bokeh-mathjax-2.4.2.min.js\"];\n  const css_urls = [];\n  \n\n  const inline_js = [\n    function(Bokeh) {\n      Bokeh.set_log_level(\"info\");\n    },\n    function(Bokeh) {\n    \n    \n    }\n  ];\n\n  function run_inline_js() {\n    \n    if (root.Bokeh !== undefined || force === true) {\n      \n    for (let i = 0; i < inline_js.length; i++) {\n      inline_js[i].call(root, root.Bokeh);\n    }\n    if (force === true) {\n        display_loaded();\n      }} else if (Date.now() < root._bokeh_timeout) {\n      setTimeout(run_inline_js, 100);\n    } else if (!root._bokeh_failed_load) {\n      console.log(\"Bokeh: BokehJS failed to load within specified timeout.\");\n      root._bokeh_failed_load = true;\n    } else if (force !== true) {\n      const cell = $(document.getElementById(\"1308\")).parents('.cell').data().cell;\n      cell.output_area.append_execute_result(NB_LOAD_WARNING)\n    }\n\n  }\n\n  if (root._bokeh_is_loading === 0) {\n    console.debug(\"Bokeh: BokehJS loaded, going straight to plotting\");\n    run_inline_js();\n  } else {\n    load_libs(css_urls, js_urls, function() {\n      console.debug(\"Bokeh: BokehJS plotting callback run at\", now());\n      run_inline_js();\n    });\n  }\n}(window));",
      "application/vnd.bokehjs_load.v0+json": "\n(function(root) {\n  function now() {\n    return new Date();\n  }\n\n  const force = true;\n\n  if (typeof root._bokeh_onload_callbacks === \"undefined\" || force === true) {\n    root._bokeh_onload_callbacks = [];\n    root._bokeh_is_loading = undefined;\n  }\n\n  \n\n  \n  if (typeof (root._bokeh_timeout) === \"undefined\" || force === true) {\n    root._bokeh_timeout = Date.now() + 5000;\n    root._bokeh_failed_load = false;\n  }\n\n  const NB_LOAD_WARNING = {'data': {'text/html':\n     \"<div style='background-color: #fdd'>\\n\"+\n     \"<p>\\n\"+\n     \"BokehJS does not appear to have successfully loaded. If loading BokehJS from CDN, this \\n\"+\n     \"may be due to a slow or bad network connection. Possible fixes:\\n\"+\n     \"</p>\\n\"+\n     \"<ul>\\n\"+\n     \"<li>re-rerun `output_notebook()` to attempt to load from CDN again, or</li>\\n\"+\n     \"<li>use INLINE resources instead, as so:</li>\\n\"+\n     \"</ul>\\n\"+\n     \"<code>\\n\"+\n     \"from bokeh.resources import INLINE\\n\"+\n     \"output_notebook(resources=INLINE)\\n\"+\n     \"</code>\\n\"+\n     \"</div>\"}};\n\n  function display_loaded() {\n    const el = document.getElementById(\"1308\");\n    if (el != null) {\n      el.textContent = \"BokehJS is loading...\";\n    }\n    if (root.Bokeh !== undefined) {\n      if (el != null) {\n        el.textContent = \"BokehJS \" + root.Bokeh.version + \" successfully loaded.\";\n      }\n    } else if (Date.now() < root._bokeh_timeout) {\n      setTimeout(display_loaded, 100)\n    }\n  }\n\n\n  function run_callbacks() {\n    try {\n      root._bokeh_onload_callbacks.forEach(function(callback) {\n        if (callback != null)\n          callback();\n      });\n    } finally {\n      delete root._bokeh_onload_callbacks\n    }\n    console.debug(\"Bokeh: all callbacks have finished\");\n  }\n\n  function load_libs(css_urls, js_urls, callback) {\n    if (css_urls == null) css_urls = [];\n    if (js_urls == null) js_urls = [];\n\n    root._bokeh_onload_callbacks.push(callback);\n    if (root._bokeh_is_loading > 0) {\n      console.debug(\"Bokeh: BokehJS is being loaded, scheduling callback at\", now());\n      return null;\n    }\n    if (js_urls == null || js_urls.length === 0) {\n      run_callbacks();\n      return null;\n    }\n    console.debug(\"Bokeh: BokehJS not loaded, scheduling load and callback at\", now());\n    root._bokeh_is_loading = css_urls.length + js_urls.length;\n\n    function on_load() {\n      root._bokeh_is_loading--;\n      if (root._bokeh_is_loading === 0) {\n        console.debug(\"Bokeh: all BokehJS libraries/stylesheets loaded\");\n        run_callbacks()\n      }\n    }\n\n    function on_error(url) {\n      console.error(\"failed to load \" + url);\n    }\n\n    for (let i = 0; i < css_urls.length; i++) {\n      const url = css_urls[i];\n      const element = document.createElement(\"link\");\n      element.onload = on_load;\n      element.onerror = on_error.bind(null, url);\n      element.rel = \"stylesheet\";\n      element.type = \"text/css\";\n      element.href = url;\n      console.debug(\"Bokeh: injecting link tag for BokehJS stylesheet: \", url);\n      document.body.appendChild(element);\n    }\n\n    for (let i = 0; i < js_urls.length; i++) {\n      const url = js_urls[i];\n      const element = document.createElement('script');\n      element.onload = on_load;\n      element.onerror = on_error.bind(null, url);\n      element.async = false;\n      element.src = url;\n      console.debug(\"Bokeh: injecting script tag for BokehJS library: \", url);\n      document.head.appendChild(element);\n    }\n  };\n\n  function inject_raw_css(css) {\n    const element = document.createElement(\"style\");\n    element.appendChild(document.createTextNode(css));\n    document.body.appendChild(element);\n  }\n\n  \n  const js_urls = [\"https://cdn.bokeh.org/bokeh/release/bokeh-2.4.2.min.js\", \"https://cdn.bokeh.org/bokeh/release/bokeh-gl-2.4.2.min.js\", \"https://cdn.bokeh.org/bokeh/release/bokeh-widgets-2.4.2.min.js\", \"https://cdn.bokeh.org/bokeh/release/bokeh-tables-2.4.2.min.js\", \"https://cdn.bokeh.org/bokeh/release/bokeh-mathjax-2.4.2.min.js\"];\n  const css_urls = [];\n  \n\n  const inline_js = [\n    function(Bokeh) {\n      Bokeh.set_log_level(\"info\");\n    },\n    function(Bokeh) {\n    \n    \n    }\n  ];\n\n  function run_inline_js() {\n    \n    if (root.Bokeh !== undefined || force === true) {\n      \n    for (let i = 0; i < inline_js.length; i++) {\n      inline_js[i].call(root, root.Bokeh);\n    }\n    if (force === true) {\n        display_loaded();\n      }} else if (Date.now() < root._bokeh_timeout) {\n      setTimeout(run_inline_js, 100);\n    } else if (!root._bokeh_failed_load) {\n      console.log(\"Bokeh: BokehJS failed to load within specified timeout.\");\n      root._bokeh_failed_load = true;\n    } else if (force !== true) {\n      const cell = $(document.getElementById(\"1308\")).parents('.cell').data().cell;\n      cell.output_area.append_execute_result(NB_LOAD_WARNING)\n    }\n\n  }\n\n  if (root._bokeh_is_loading === 0) {\n    console.debug(\"Bokeh: BokehJS loaded, going straight to plotting\");\n    run_inline_js();\n  } else {\n    load_libs(css_urls, js_urls, function() {\n      console.debug(\"Bokeh: BokehJS plotting callback run at\", now());\n      run_inline_js();\n    });\n  }\n}(window));"
     },
     "metadata": {},
     "output_type": "display_data"
    },
    {
     "data": {
      "text/html": "\n\n\n\n\n\n  <div class=\"bk-root\" id=\"2a722a6b-8e45-457f-90d0-e23923a6acab\" data-root-id=\"1310\"></div>\n"
     },
     "metadata": {},
     "output_type": "display_data"
    },
    {
     "data": {
      "application/javascript": "(function(root) {\n  function embed_document(root) {\n    \n  const docs_json = {\"516f45ca-f146-459f-8b8d-6bf7537d97d2\":{\"defs\":[],\"roots\":{\"references\":[{\"attributes\":{\"below\":[{\"id\":\"1321\"}],\"center\":[{\"id\":\"1324\"},{\"id\":\"1328\"},{\"id\":\"1361\"}],\"height\":300,\"left\":[{\"id\":\"1325\"}],\"renderers\":[{\"id\":\"1349\"},{\"id\":\"1368\"}],\"sizing_mode\":\"scale_width\",\"title\":{\"id\":\"1311\"},\"toolbar\":{\"id\":\"1336\"},\"x_range\":{\"id\":\"1313\"},\"x_scale\":{\"id\":\"1317\"},\"y_range\":{\"id\":\"1315\"},\"y_scale\":{\"id\":\"1319\"}},\"id\":\"1310\",\"subtype\":\"Figure\",\"type\":\"Plot\"},{\"attributes\":{\"coordinates\":null,\"formatter\":{\"id\":\"1353\"},\"group\":null,\"major_label_policy\":{\"id\":\"1354\"},\"ticker\":{\"id\":\"1326\"}},\"id\":\"1325\",\"type\":\"LinearAxis\"},{\"attributes\":{\"source\":{\"id\":\"1363\"}},\"id\":\"1369\",\"type\":\"CDSView\"},{\"attributes\":{\"callback\":null,\"tooltips\":[[\"Temperature\",\"@T \\u00b0C\"],[\"U\\u00b0, CO2\",\"@U0 kJ/mol\"],[\"S\\u00b0, CO2 \",\"@S0 kJ/(mol*K)\"]]},\"id\":\"1309\",\"type\":\"HoverTool\"},{\"attributes\":{},\"id\":\"1313\",\"type\":\"DataRange1d\"},{\"attributes\":{\"line_alpha\":0.2,\"line_cap\":\"round\",\"line_color\":\"midnightblue\",\"line_width\":5,\"x\":{\"field\":\"T\"},\"y\":{\"field\":\"U0\"}},\"id\":\"1348\",\"type\":\"Line\"},{\"attributes\":{},\"id\":\"1333\",\"type\":\"ResetTool\"},{\"attributes\":{\"label\":{\"value\":\"S\\u00b0, CO2\"},\"renderers\":[{\"id\":\"1368\"}]},\"id\":\"1382\",\"type\":\"LegendItem\"},{\"attributes\":{},\"id\":\"1322\",\"type\":\"BasicTicker\"},{\"attributes\":{\"axis\":{\"id\":\"1321\"},\"coordinates\":null,\"group\":null,\"ticker\":null},\"id\":\"1324\",\"type\":\"Grid\"},{\"attributes\":{\"overlay\":{\"id\":\"1335\"}},\"id\":\"1331\",\"type\":\"BoxZoomTool\"},{\"attributes\":{},\"id\":\"1379\",\"type\":\"UnionRenderers\"},{\"attributes\":{\"coordinates\":null,\"group\":null,\"text\":\"STANDARD THERMODYNAMIC PROPERTIES OF CO2 ALONG WATER SATURATION PRESSURE\"},\"id\":\"1311\",\"type\":\"Title\"},{\"attributes\":{\"line_cap\":\"round\",\"line_color\":\"orange\",\"line_width\":5,\"x\":{\"field\":\"T\"},\"y\":{\"field\":\"S0\"}},\"id\":\"1365\",\"type\":\"Line\"},{\"attributes\":{\"line_alpha\":0.2,\"line_cap\":\"round\",\"line_color\":\"orange\",\"line_width\":5,\"x\":{\"field\":\"T\"},\"y\":{\"field\":\"S0\"}},\"id\":\"1367\",\"type\":\"Line\"},{\"attributes\":{},\"id\":\"1353\",\"type\":\"BasicTickFormatter\"},{\"attributes\":{\"source\":{\"id\":\"1344\"}},\"id\":\"1350\",\"type\":\"CDSView\"},{\"attributes\":{},\"id\":\"1354\",\"type\":\"AllLabels\"},{\"attributes\":{\"bottom_units\":\"screen\",\"coordinates\":null,\"fill_alpha\":0.5,\"fill_color\":\"lightgrey\",\"group\":null,\"left_units\":\"screen\",\"level\":\"overlay\",\"line_alpha\":1.0,\"line_color\":\"black\",\"line_dash\":[4,4],\"line_width\":2,\"right_units\":\"screen\",\"syncable\":false,\"top_units\":\"screen\"},\"id\":\"1335\",\"type\":\"BoxAnnotation\"},{\"attributes\":{},\"id\":\"1334\",\"type\":\"HelpTool\"},{\"attributes\":{\"data\":{\"S0\":[238.81728651166108,244.87481447508472,250.80671127103972,256.6196104223109,262.31981116421093,267.9132972270814,273.4057544283032,278.80258715831144,284.1089338384239,289.32968142231886,294.4694790072891,299.53275061649447,304.5237072086506,309.4463579674113,314.30452091869813,319.10183292077915,323.84175906845405,328.5276015497681,333.1625079908756,337.749479322081,342.291377195719,346.79093098443997,351.2507443863227,355.6733016615312,360.06097352338116,364.4160227052371,368.7406092230904,373.03679535237274,377.3065503363073,381.55175484192966,385.77420517883536,389.97561729472824,394.1576305609083,398.32181136000884,402.46965648743526,406.60259637731673,410.7219981630095,414.8291685815514,418.92535673099076,423.01175668877823,427.08950999906847,431.15970803614175,435.2233942508829,439.28156630664955,443.3351781106214,447.38514174627767,451.4323293123425,455.47757467322157,459.5216751256071,463.56539298575035,467.60945710154,471.6545642933297,475.7013807272477,479.7505432244581,483.8026605096809,487.8583144021069,491.9180609515819,495.98243152290286,500.0519338307892,504.12705292802525,508.20825214908876,512.2959740115075,516.3906410769788,520.4926567742724,524.6024061857529,528.7202567993055,532.8465592273122,536.9816478943086,541.1258416947603,545.2794446224234,549.442746372625,553.6160229187266,557.7995370640043,561.9935389700614,566.1982666629049,570.4139465176773,574.640793723043,578.8790127261881,583.1287976592561,587.3903327481154,591.6637927042452,595.949343100482,600.2471407313487,604.5573339586917,608.8800630432307,613.2154604626573,617.563651216898,621.9247531210854,626.2988770867476,630.6861273917735,635.0866019396359,639.500392508277,643.9275849891804,648.3682596169749,652.8224911900412,657.2903492824488,661.7718984476029,666.2671984139777,670.7763042732281,675.2992666610126],\"T\":[25.0,27.77777777777777,30.555555555555543,33.333333333333314,36.111111111111086,38.888888888888914,41.666666666666686,44.44444444444446,47.22222222222223,50.0,52.77777777777777,55.55555555555554,58.333333333333314,61.111111111111086,63.888888888888914,66.66666666666663,69.44444444444446,72.22222222222223,75.0,77.77777777777777,80.55555555555554,83.33333333333331,86.11111111111109,88.88888888888891,91.66666666666663,94.44444444444446,97.22222222222223,100.0,102.77777777777777,105.55555555555554,108.33333333333331,111.11111111111109,113.88888888888891,116.66666666666663,119.44444444444446,122.22222222222223,125.0,127.77777777777777,130.55555555555554,133.33333333333331,136.1111111111111,138.8888888888889,141.66666666666663,144.44444444444446,147.22222222222223,150.0,152.77777777777777,155.55555555555554,158.33333333333331,161.1111111111111,163.8888888888889,166.66666666666663,169.44444444444446,172.22222222222223,175.0,177.77777777777777,180.55555555555554,183.33333333333331,186.1111111111111,188.8888888888889,191.66666666666663,194.44444444444446,197.22222222222223,200.0,202.77777777777777,205.55555555555554,208.33333333333331,211.1111111111111,213.8888888888889,216.66666666666663,219.44444444444446,222.22222222222223,225.0,227.77777777777777,230.55555555555554,233.33333333333331,236.1111111111111,238.8888888888889,241.66666666666663,244.44444444444446,247.22222222222229,250.0,252.77777777777771,255.55555555555554,258.33333333333337,261.1111111111111,263.8888888888889,266.66666666666663,269.44444444444446,272.2222222222222,275.0,277.7777777777777,280.55555555555554,283.33333333333337,286.1111111111111,288.8888888888888,291.66666666666663,294.44444444444446,297.2222222222223,300.0],\"U0\":[-24.01611277001169,-22.20166206852719,-20.408367033638537,-18.634901223302542,-16.87998584078941,-15.142387601478687,-13.42091671291783,-11.714424960891547,-10.021803894803394,-8.3419831061668,-6.6739285944454085,-5.016641214888518,-3.369155203370477,-1.7305367735827484,-0.09988278222577604,1.5236805418636765,3.1409988084666702,4.752890620190652,6.360148673494503,7.963540809690932,9.56381101890557,11.161680399803569,12.757848077744562,14.352992083880068,15.947770197586747,17.542820754508334,19.138763422374122,20.73619994666572,22.33571486812472,23.937876214009194,25.543236164950425,27.152331699197738,28.76568521599714,30.38380513980786,32.00718650703255,33.63631153691929,35.27165018827989,36.91366070367526,38.56279014271847,40.21947490618,41.88414125260403,43.55720580919237,45.23907607877414,46.93015094475291,48.63082117597614,50.34146993354477,52.06247328252077,53.79420070929518,55.53701564874755,57.29127602317851,59.0573347961353,60.8355405443804,62.62623805155789,64.42976892746731,66.24647225726393,68.07668528536463,69.92074413938043,71.77898459999801,73.65174292344678,75.53935672398231,77.44216592475061,79.36051378646276,81.29474802452646,83.2452220267153,85.21229618506845,87.19633935762738,89.19773047779256,91.21686033164173,93.25413352650781,95.30997067757465,97.38481084328801,99.47911424510181,101.59336531264036,103.72807610188201,105.88379014167623,108.06108677302412,110.2605860563477,112.48295433483474,114.72891055726504,116.99923348206113,119.29476990630306,121.61644402077587,123.96526830777731,126.34235611291268,128.74893583606539,131.1863676627331,133.65616291112002,136.160006571501,138.69978364893228,141.2776100540222,143.89586895327122,146.55725369966342,149.26481872792016,152.02204013305325,154.83288807695013,157.70191371404957,160.6343540321843,163.63625892039022,166.71464597325047,169.87769011955697]},\"selected\":{\"id\":\"1380\"},\"selection_policy\":{\"id\":\"1379\"}},\"id\":\"1363\",\"type\":\"ColumnDataSource\"},{\"attributes\":{\"line_alpha\":0.1,\"line_cap\":\"round\",\"line_color\":\"midnightblue\",\"line_width\":5,\"x\":{\"field\":\"T\"},\"y\":{\"field\":\"U0\"}},\"id\":\"1347\",\"type\":\"Line\"},{\"attributes\":{\"axis_label\":\"TEMPERATURE [\\u00b0C]\",\"coordinates\":null,\"formatter\":{\"id\":\"1356\"},\"group\":null,\"major_label_policy\":{\"id\":\"1357\"},\"ticker\":{\"id\":\"1322\"}},\"id\":\"1321\",\"type\":\"LinearAxis\"},{\"attributes\":{},\"id\":\"1356\",\"type\":\"BasicTickFormatter\"},{\"attributes\":{\"tools\":[{\"id\":\"1329\"},{\"id\":\"1330\"},{\"id\":\"1331\"},{\"id\":\"1332\"},{\"id\":\"1333\"},{\"id\":\"1334\"},{\"id\":\"1309\"}]},\"id\":\"1336\",\"type\":\"Toolbar\"},{\"attributes\":{\"axis\":{\"id\":\"1325\"},\"coordinates\":null,\"dimension\":1,\"group\":null,\"ticker\":null},\"id\":\"1328\",\"type\":\"Grid\"},{\"attributes\":{\"coordinates\":null,\"data_source\":{\"id\":\"1344\"},\"glyph\":{\"id\":\"1346\"},\"group\":null,\"hover_glyph\":null,\"muted_glyph\":{\"id\":\"1348\"},\"nonselection_glyph\":{\"id\":\"1347\"},\"view\":{\"id\":\"1350\"}},\"id\":\"1349\",\"type\":\"GlyphRenderer\"},{\"attributes\":{},\"id\":\"1329\",\"type\":\"PanTool\"},{\"attributes\":{},\"id\":\"1380\",\"type\":\"Selection\"},{\"attributes\":{\"line_cap\":\"round\",\"line_color\":\"midnightblue\",\"line_width\":5,\"x\":{\"field\":\"T\"},\"y\":{\"field\":\"U0\"}},\"id\":\"1346\",\"type\":\"Line\"},{\"attributes\":{\"data\":{\"S0\":[238.81728651166108,244.87481447508472,250.80671127103972,256.6196104223109,262.31981116421093,267.9132972270814,273.4057544283032,278.80258715831144,284.1089338384239,289.32968142231886,294.4694790072891,299.53275061649447,304.5237072086506,309.4463579674113,314.30452091869813,319.10183292077915,323.84175906845405,328.5276015497681,333.1625079908756,337.749479322081,342.291377195719,346.79093098443997,351.2507443863227,355.6733016615312,360.06097352338116,364.4160227052371,368.7406092230904,373.03679535237274,377.3065503363073,381.55175484192966,385.77420517883536,389.97561729472824,394.1576305609083,398.32181136000884,402.46965648743526,406.60259637731673,410.7219981630095,414.8291685815514,418.92535673099076,423.01175668877823,427.08950999906847,431.15970803614175,435.2233942508829,439.28156630664955,443.3351781106214,447.38514174627767,451.4323293123425,455.47757467322157,459.5216751256071,463.56539298575035,467.60945710154,471.6545642933297,475.7013807272477,479.7505432244581,483.8026605096809,487.8583144021069,491.9180609515819,495.98243152290286,500.0519338307892,504.12705292802525,508.20825214908876,512.2959740115075,516.3906410769788,520.4926567742724,524.6024061857529,528.7202567993055,532.8465592273122,536.9816478943086,541.1258416947603,545.2794446224234,549.442746372625,553.6160229187266,557.7995370640043,561.9935389700614,566.1982666629049,570.4139465176773,574.640793723043,578.8790127261881,583.1287976592561,587.3903327481154,591.6637927042452,595.949343100482,600.2471407313487,604.5573339586917,608.8800630432307,613.2154604626573,617.563651216898,621.9247531210854,626.2988770867476,630.6861273917735,635.0866019396359,639.500392508277,643.9275849891804,648.3682596169749,652.8224911900412,657.2903492824488,661.7718984476029,666.2671984139777,670.7763042732281,675.2992666610126],\"T\":[25.0,27.77777777777777,30.555555555555543,33.333333333333314,36.111111111111086,38.888888888888914,41.666666666666686,44.44444444444446,47.22222222222223,50.0,52.77777777777777,55.55555555555554,58.333333333333314,61.111111111111086,63.888888888888914,66.66666666666663,69.44444444444446,72.22222222222223,75.0,77.77777777777777,80.55555555555554,83.33333333333331,86.11111111111109,88.88888888888891,91.66666666666663,94.44444444444446,97.22222222222223,100.0,102.77777777777777,105.55555555555554,108.33333333333331,111.11111111111109,113.88888888888891,116.66666666666663,119.44444444444446,122.22222222222223,125.0,127.77777777777777,130.55555555555554,133.33333333333331,136.1111111111111,138.8888888888889,141.66666666666663,144.44444444444446,147.22222222222223,150.0,152.77777777777777,155.55555555555554,158.33333333333331,161.1111111111111,163.8888888888889,166.66666666666663,169.44444444444446,172.22222222222223,175.0,177.77777777777777,180.55555555555554,183.33333333333331,186.1111111111111,188.8888888888889,191.66666666666663,194.44444444444446,197.22222222222223,200.0,202.77777777777777,205.55555555555554,208.33333333333331,211.1111111111111,213.8888888888889,216.66666666666663,219.44444444444446,222.22222222222223,225.0,227.77777777777777,230.55555555555554,233.33333333333331,236.1111111111111,238.8888888888889,241.66666666666663,244.44444444444446,247.22222222222229,250.0,252.77777777777771,255.55555555555554,258.33333333333337,261.1111111111111,263.8888888888889,266.66666666666663,269.44444444444446,272.2222222222222,275.0,277.7777777777777,280.55555555555554,283.33333333333337,286.1111111111111,288.8888888888888,291.66666666666663,294.44444444444446,297.2222222222223,300.0],\"U0\":[-24.01611277001169,-22.20166206852719,-20.408367033638537,-18.634901223302542,-16.87998584078941,-15.142387601478687,-13.42091671291783,-11.714424960891547,-10.021803894803394,-8.3419831061668,-6.6739285944454085,-5.016641214888518,-3.369155203370477,-1.7305367735827484,-0.09988278222577604,1.5236805418636765,3.1409988084666702,4.752890620190652,6.360148673494503,7.963540809690932,9.56381101890557,11.161680399803569,12.757848077744562,14.352992083880068,15.947770197586747,17.542820754508334,19.138763422374122,20.73619994666572,22.33571486812472,23.937876214009194,25.543236164950425,27.152331699197738,28.76568521599714,30.38380513980786,32.00718650703255,33.63631153691929,35.27165018827989,36.91366070367526,38.56279014271847,40.21947490618,41.88414125260403,43.55720580919237,45.23907607877414,46.93015094475291,48.63082117597614,50.34146993354477,52.06247328252077,53.79420070929518,55.53701564874755,57.29127602317851,59.0573347961353,60.8355405443804,62.62623805155789,64.42976892746731,66.24647225726393,68.07668528536463,69.92074413938043,71.77898459999801,73.65174292344678,75.53935672398231,77.44216592475061,79.36051378646276,81.29474802452646,83.2452220267153,85.21229618506845,87.19633935762738,89.19773047779256,91.21686033164173,93.25413352650781,95.30997067757465,97.38481084328801,99.47911424510181,101.59336531264036,103.72807610188201,105.88379014167623,108.06108677302412,110.2605860563477,112.48295433483474,114.72891055726504,116.99923348206113,119.29476990630306,121.61644402077587,123.96526830777731,126.34235611291268,128.74893583606539,131.1863676627331,133.65616291112002,136.160006571501,138.69978364893228,141.2776100540222,143.89586895327122,146.55725369966342,149.26481872792016,152.02204013305325,154.83288807695013,157.70191371404957,160.6343540321843,163.63625892039022,166.71464597325047,169.87769011955697]},\"selected\":{\"id\":\"1359\"},\"selection_policy\":{\"id\":\"1358\"}},\"id\":\"1344\",\"type\":\"ColumnDataSource\"},{\"attributes\":{},\"id\":\"1319\",\"type\":\"LinearScale\"},{\"attributes\":{},\"id\":\"1357\",\"type\":\"AllLabels\"},{\"attributes\":{\"coordinates\":null,\"data_source\":{\"id\":\"1363\"},\"glyph\":{\"id\":\"1365\"},\"group\":null,\"hover_glyph\":null,\"muted_glyph\":{\"id\":\"1367\"},\"nonselection_glyph\":{\"id\":\"1366\"},\"view\":{\"id\":\"1369\"}},\"id\":\"1368\",\"type\":\"GlyphRenderer\"},{\"attributes\":{},\"id\":\"1332\",\"type\":\"SaveTool\"},{\"attributes\":{},\"id\":\"1315\",\"type\":\"DataRange1d\"},{\"attributes\":{},\"id\":\"1330\",\"type\":\"WheelZoomTool\"},{\"attributes\":{},\"id\":\"1358\",\"type\":\"UnionRenderers\"},{\"attributes\":{\"line_alpha\":0.1,\"line_cap\":\"round\",\"line_color\":\"orange\",\"line_width\":5,\"x\":{\"field\":\"T\"},\"y\":{\"field\":\"S0\"}},\"id\":\"1366\",\"type\":\"Line\"},{\"attributes\":{},\"id\":\"1326\",\"type\":\"BasicTicker\"},{\"attributes\":{},\"id\":\"1317\",\"type\":\"LinearScale\"},{\"attributes\":{},\"id\":\"1359\",\"type\":\"Selection\"},{\"attributes\":{\"label\":{\"value\":\"U\\u00b0, CO2\"},\"renderers\":[{\"id\":\"1349\"}]},\"id\":\"1362\",\"type\":\"LegendItem\"},{\"attributes\":{\"coordinates\":null,\"group\":null,\"items\":[{\"id\":\"1362\"},{\"id\":\"1382\"}]},\"id\":\"1361\",\"type\":\"Legend\"}],\"root_ids\":[\"1310\"]},\"title\":\"Bokeh Application\",\"version\":\"2.4.2\"}};\n  const render_items = [{\"docid\":\"516f45ca-f146-459f-8b8d-6bf7537d97d2\",\"root_ids\":[\"1310\"],\"roots\":{\"1310\":\"2a722a6b-8e45-457f-90d0-e23923a6acab\"}}];\n  root.Bokeh.embed.embed_items_notebook(docs_json, render_items);\n\n  }\n  if (root.Bokeh !== undefined) {\n    embed_document(root);\n  } else {\n    let attempts = 0;\n    const timer = setInterval(function(root) {\n      if (root.Bokeh !== undefined) {\n        clearInterval(timer);\n        embed_document(root);\n      } else {\n        attempts++;\n        if (attempts > 100) {\n          clearInterval(timer);\n          console.log(\"Bokeh: ERROR: Unable to run BokehJS code because BokehJS library is missing\");\n        }\n      }\n    }, 10, root)\n  }\n})(window);",
      "application/vnd.bokehjs_exec.v0+json": ""
     },
     "metadata": {
      "application/vnd.bokehjs_exec.v0+json": {
       "id": "1310"
      }
     },
     "output_type": "display_data"
    }
   ],
   "source": [
    "from reaktoro import *\n",
    "import numpy as np\n",
    "\n",
    "db = PhreeqcDatabase(\"phreeqc.dat\")\n",
    "\n",
    "co2 = db.species(\"CO2\")\n",
    "\n",
    "temperatures = np.linspace(25.0, 300.0, 100) + 273.15  # in K\n",
    "data = { \"T\": [], \"U0\": [], \"S0\": [] }\n",
    "\n",
    "from bokeh.plotting import figure, show\n",
    "from bokeh.models import HoverTool\n",
    "from bokeh.io import output_notebook\n",
    "output_notebook()\n",
    "\n",
    "for T in temperatures:\n",
    "    P = waterSaturationPressureWagnerPruss(T)   # in Pa\n",
    "    props = co2.props(T, P)                     # properties calculated in K and Pa\n",
    "    data[\"T\" ].append(float(T - 273.15))        # in °C\n",
    "    data[\"U0\"].append(float(props.U0 * 0.001))  # in kJ/mol\n",
    "    data[\"S0\"].append(float(props.S0))          # in J/(mol·K)\n",
    "\n",
    "hovertool = HoverTool()\n",
    "hovertool.tooltips = [(\"Temperature\", \"@T °C\"), (\"U°, CO2\", \"@U0 kJ/mol\"), (\"S°, CO2 \", \"@S0 kJ/(mol*K)\")]\n",
    "\n",
    "p = figure(\n",
    "    title=\"STANDARD THERMODYNAMIC PROPERTIES OF CO2 ALONG WATER SATURATION PRESSURE\",\n",
    "    x_axis_label='TEMPERATURE [°C]',\n",
    "    y_axis_label=r\"\",\n",
    "    sizing_mode=\"scale_width\",\n",
    "    plot_height=300)\n",
    "\n",
    "p.add_tools(hovertool)\n",
    "\n",
    "p.line(\"T\", \"U0\", source=data, legend_label=\"U°, CO2\", line_width=5, line_cap=\"round\", line_color=\"midnightblue\")\n",
    "p.line(\"T\", \"S0\", source=data, legend_label=\"S°, CO2\", line_width=5, line_cap=\"round\", line_color=\"orange\")\n",
    "\n",
    "show(p)"
   ],
   "metadata": {
    "collapsed": false,
    "pycharm": {
     "name": "#%%\n"
    }
   }
  },
  {
   "cell_type": "markdown",
   "metadata": {},
   "source": [
    "## Standard thermodynamic properties of reactions\n",
    "\n",
    "Next, we demonstrate computation of *standard thermodynamic properties of a chemical reaction* such as:\n",
    "\n",
    "* the equilibrium constant of reaction, $K_r$\n",
    "* the standard Gibbs energy of reaction, $\\Delta G_r^\\circ$\n",
    "* the standard Helmholtz energy of reaction, $\\Delta A_r^\\circ$\n",
    "* the standard enthalpy of reaction, $\\Delta H_r^\\circ$\n",
    "* the standard internal energy of reaction, $\\Delta U_r^\\circ$\n",
    "* the standard entropy of reaction, $\\Delta S_r^\\circ$\n",
    "* the standard volume of reaction, $\\Delta V_r^\\circ$\n",
    "* the standard heat capacity (constant pressure) of reaction, $\\Delta C_{P,r}^\\circ$\n",
    "* the standard heat capacity (constant volume) of reaction, $\\Delta C_{V,r}^\\circ$\n",
    "\n",
    "Reaktoro computes these reaction properties using the standard thermodynamic properties of the reacting species at a given temperature and pressure.\n",
    "\n",
    "**Example**: for reaction $2\\mathrm{A}+3\\mathrm{B}=\\mathrm{C}$, the *standard Gibbs energy of this reaction* is computed using\n",
    "\n",
    "$$\\Delta G_{r}^{\\circ}=G_{\\mathrm{C}}^{\\circ}-2G_{\\mathrm{A}}^{\\circ}-3G_{\\mathrm{B}}^{\\circ}.$$\n",
    "\n",
    "This rationale (stoichiometric property contribution from product species minus the contribution of reactant species) can be applied to all other standard thermodynamic properties and every reaction.\n",
    "\n",
    "The *equilibrium constant of the reaction* is defined as\n",
    "\n",
    "$$\\ln K_r = -\\dfrac{\\Delta G^{\\circ}_m}{RT}$$\n",
    "\n",
    "but it's often handled in logarithm base 10, $\\lg K_r = \\ln K_r/\\ln 10$.\n",
    "\n",
    "Below, we demonstrate computing of these reaction properties:"
   ]
  },
  {
   "cell_type": "code",
   "execution_count": 6,
   "outputs": [
    {
     "name": "stdout",
     "output_type": "stream",
     "text": [
      "+------------------------------------------------+-------------+-------------+\n",
      "| Property                                       |       Value |        Unit |\n",
      "+------------------------------------------------+-------------+-------------+\n",
      "| Temperature                                    |    298.1500 |           K |\n",
      "| Pressure                                       |      1.0132 |         bar |\n",
      "| Equilibrium Constant (log base 10)             |     13.9948 |           - |\n",
      "| Delta Standard Gibbs Energy                    | -79882.1698 |       J/mol |\n",
      "| Delta Standard Enthalpy                        | -56358.9238 |       J/mol |\n",
      "| Delta Standard Volume                          |  2.2208e-05 |      m3/mol |\n",
      "| Delta Standard Volume (Temperature Derivative) |  0.0000e+00 |  m3/(mol*K) |\n",
      "| Delta Standard Volume (Pressure Derivative)    |  0.0000e+00 | m3/(mol*Pa) |\n",
      "| Delta Standard Isobaric Heat Capacity          |    189.6441 |   J/(mol*K) |\n",
      "| Delta Standard Isochoric Heat Capacity         |    189.6441 |   J/(mol*K) |\n",
      "| Delta Standard Internal Energy                 | -56361.1740 |       J/mol |\n",
      "| Delta Standard Entropy                         |     78.8974 |   J/(mol*K) |\n",
      "| Delta Standard Helmholtz Energy                | -79884.4200 |       J/mol |\n",
      "+------------------------------------------------+-------------+-------------+\n"
     ]
    }
   ],
   "source": [
    "from reaktoro import *\n",
    "\n",
    "db = PhreeqcDatabase(\"phreeqc.dat\")\n",
    "\n",
    "rxn = db.reaction(\"H+ + OH- = H2O\")\n",
    "\n",
    "rprops = rxn.props(25.0, \"C\", 1.0, \"atm\")\n",
    "print(rprops)"
   ],
   "metadata": {
    "collapsed": false,
    "pycharm": {
     "name": "#%%\n"
    }
   }
  },
  {
   "cell_type": "markdown",
   "source": [
    "**TASK**: consider reaction of kaolinite dissolution `Kaolinite + 6*H+ = H2O + 2*H4SiO4 + 2*Al+3` and compute its properties."
   ],
   "metadata": {
    "collapsed": false
   }
  },
  {
   "cell_type": "code",
   "execution_count": null,
   "outputs": [],
   "source": [
    "rxn = db.reaction(\"Kaolinite + 6*H+ = H2O + 2*H4SiO4 + 2*Al+3\")\n",
    "\n",
    "rprops = rxn.props(40.0, \"C\", 1.0, \"atm\")\n",
    "print(rprops)\n"
   ],
   "metadata": {
    "collapsed": false,
    "pycharm": {
     "name": "#%%\n"
    }
   }
  }
 ],
 "metadata": {
  "interpreter": {
   "hash": "e4e8b2f3ae27709963f14fd23a6560d362beea55eaec742263828e04d814e23c"
  },
  "kernelspec": {
   "display_name": "Python 3.9.7 64-bit ('reaktoro-jupyter-book': conda)",
   "language": "python",
   "name": "python3"
  },
  "language_info": {
   "codemirror_mode": {
    "name": "ipython",
    "version": 3
   },
   "file_extension": ".py",
   "mimetype": "text/x-python",
   "name": "python",
   "nbconvert_exporter": "python",
   "pygments_lexer": "ipython3",
   "version": "3.9.9"
  },
  "orig_nbformat": 4
 },
 "nbformat": 4,
 "nbformat_minor": 2
}