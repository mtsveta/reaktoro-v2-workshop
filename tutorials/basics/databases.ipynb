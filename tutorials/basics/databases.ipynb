{
 "cells": [
  {
   "cell_type": "markdown",
   "metadata": {
    "pycharm": {
     "name": "#%% md\n"
    }
   },
   "source": [
    "# Thermodynamic databases\n",
    "\n",
    "## Loading the database\n",
    "\n",
    "Reaktoro requires thermodynamic databases to calculate the thermodynamic properties of chemical species and reactions. These properties are necessary when performing chemical equilibrium and kinetics calculations.\n",
    "\n",
    "Examples of such **thermodynamic properties for a species $i$** include:\n",
    "\n",
    "* standard molar Gibbs energy, $G_i^\\circ$,\n",
    "* standard molar Helmholtz energy, $A_i^\\circ$,\n",
    "* standard molar enthalpy, $H_i^\\circ$,\n",
    "* standard molar internal energy, $U_i^\\circ$,\n",
    "* standard molar entropy, $S_i^\\circ$,\n",
    "* standard molar volume, $V_i^\\circ$,\n",
    "* standard molar heat capacity (constant pressure), $C_{P,i}^\\circ$, and\n",
    "* standard molar heat capacity (constant volume), $C_{V,i}^\\circ$.\n",
    "\n",
    "The above standard thermodynamic properties of the species can be used to calculate **properties for a reaction m**:\n",
    "\n",
    "* equilibrium constant of reaction, $K_m$,\n",
    "* standard Gibbs energy of reaction, $\\Delta G_m^\\circ$, and\n",
    "* standard enthalpy of reaction, $\\Delta H_m^\\circ$.\n",
    "\n",
    "Reaktoro currently supports thermodynamic databases from the following providers:\n",
    "\n",
    "* [PHREEQC](https://www.usgs.gov/software/phreeqc-version-3),\n",
    "* [ThermoFun](https://thermohub.org/thermofun/thermofun/),\n",
    "* [SUPCRT](https://www.sciencedirect.com/science/article/pii/009830049290029Q),\n",
    "* [SUPCRTBL](https://models.earth.indiana.edu/supcrtbl.php), and\n",
    "* [NASA](https://www1.grc.nasa.gov/research-and-engineering/ceaweb/).\n",
    "\n",
    "They are loaded via the classes\n",
    "\n",
    "* [PhreeqcDatabase](https://reaktoro.org/api/classReaktoro_1_1PhreeqcDatabase.html),\n",
    "* [ThermoFunDatabase](https://reaktoro.org/api/classReaktoro_1_1ThermoFunDatabase.html),\n",
    "* [SupcrtDatabase](https://reaktoro.org/api/classReaktoro_1_1SupcrtDatabase.html), and\n",
    "* [NasaDatabase](https://reaktoro.org/api/classReaktoro_1_1NasaDatabase.html),\n",
    "\n",
    "derived from the [Database](https://reaktoro.org/api/classReaktoro_1_1Database.html) class.\n",
    "\n",
    "### PHREEQC Databases\n",
    "\n",
    "[PHREEQC](https://www.usgs.gov/software/phreeqc-version-3) is a well-known scientific software used for geochemical and biogeochemical modelling, and many thermodynamic databases have been compiled for it in the last decades.\n",
    "Many standard PHREEQC databases are embedded into Reaktoro and can be loaded as\n",
    "\n",
    "```db = PhreeqcDatabase(\"phreeqc.dat\")```\n",
    "\n",
    "However, a local database file (written in a correct format) can be specified manually:\n",
    "\n",
    "```db = PhreeqcDatabase.fromFile(\"/path-to-file/local-phreeqc.dat\")```\n",
    "\n",
    "### ThermoFun Databases\n",
    "\n",
    "[ThermoFun](https://thermohub.org/thermofun/thermofun/) is an open-source C++/Python library for the computation of thermodynamic properties of species and reactions. It supports many databases for a wide variety of applications.\n",
    "\n",
    "ThermoFun databases are also available in embedded form in Reaktoro for convenience. You need to use one of the following database names:\n",
    "To load the embedded ThermoFun database file, we use\n",
    "\n",
    "```db = ThermoFunDatabase(\"cemdata18\")```\n",
    "\n",
    "To load a ThermoFun database from your computer:\n",
    "\n",
    "```db = ThermoFunDatabase.fromFile(\"/path-to-file/mines16-thermofun.json\")```\n",
    "\n",
    "### SUPCRT and SUPCRTBL Databases\n",
    "\n",
    "SUPCRT and SUPCRTBL databases contain thousands of chemical species (aqueous species, gases, minerals) and are commonly used for biogeochemical modeling applications. These thermodynamic databases contain parameters for equations of state to permit the computation of standard molal thermodynamic properties of minerals, gases, aqueous species, and reactions from 1 to 5000 bar and 0 to 1000°C.\n",
    "\n",
    "SUPCRT and SUPCRTBL databases are supported in Reaktoro's database format using [YAML](https://yaml.org/) and can be loaded either with\n",
    "\n",
    "```db = SupcrtDatabase(\"supcrtbl\")```\n",
    "\n",
    "or with\n",
    "\n",
    "```db = SupcrtDatabase.fromFile(\"/path-to-file/supcrt98.yaml\")```\n",
    "\n",
    "## Inspecting the database\n",
    "\n",
    "To inspect thermodynamic databases, we will consider the [cemdata18](https://www.empa.ch/web/s308/cemdata) database supported in [ThermoFun](https://thermohub.org/thermofun/thermofun/)."
   ]
  },
  {
   "cell_type": "code",
   "execution_count": null,
   "metadata": {
    "collapsed": false,
    "jupyter": {
     "outputs_hidden": false
    },
    "pycharm": {
     "name": "#%%\n"
    }
   },
   "outputs": [],
   "source": [
    "from reaktoro import *\n",
    "\n",
    "db = ThermoFunDatabase(\"cemdata18\")"
   ]
  },
  {
   "cell_type": "markdown",
   "metadata": {},
   "source": [
    "### Inspecting the species in the database\n",
    "\n",
    "Below us inspect all species in this database object and print its name, chemical formula, and molar mass:"
   ]
  },
  {
   "cell_type": "code",
   "execution_count": null,
   "metadata": {
    "collapsed": false,
    "jupyter": {
     "outputs_hidden": false
    },
    "pycharm": {
     "name": "#%%\n"
    }
   },
   "outputs": [],
   "source": [
    "print(f\"{'Species':<20}{'Formula':<60}{'Molar Mass (kg/mol)':<20}\")\n",
    "for species in db.species():\n",
    "    print(f\"{species.name():<20}{species.formula().str():<60}{species.molarMass():<20.6f}\")"
   ]
  },
  {
   "cell_type": "markdown",
   "metadata": {},
   "source": [
    "To print those **species that contain certain chemical list of elements**:"
   ]
  },
  {
   "cell_type": "code",
   "execution_count": null,
   "metadata": {
    "collapsed": false,
    "jupyter": {
     "outputs_hidden": false
    },
    "pycharm": {
     "name": "#%%\n"
    }
   },
   "outputs": [],
   "source": [
    "for species in db.species().withElements(\"H O C Ca\"):\n",
    "    print(species.name())"
   ]
  },
  {
   "cell_type": "markdown",
   "metadata": {},
   "source": [
    "To collect **only gaseous species** from a database, the function below can be used:"
   ]
  },
  {
   "cell_type": "code",
   "execution_count": null,
   "metadata": {
    "collapsed": false,
    "jupyter": {
     "outputs_hidden": false
    },
    "pycharm": {
     "name": "#%%\n"
    }
   },
   "outputs": [],
   "source": [
    "for species in db.speciesWithAggregateState(AggregateState.Gas):\n",
    "    print(species.name())"
   ]
  },
  {
   "cell_type": "markdown",
   "metadata": {},
   "source": [
    "**TASK 1**: output only aqueous species with C, H, O elements:"
   ]
  },
  {
   "cell_type": "code",
   "execution_count": null,
   "metadata": {
    "collapsed": false,
    "jupyter": {
     "outputs_hidden": false
    },
    "pycharm": {
     "name": "#%%\n"
    }
   },
   "outputs": [],
   "source": [
    "for species in db.speciesWithAggregateState(AggregateState.Gas).withElements(\"C H O\"):\n",
    "    print(species.name())"
   ]
  },
  {
   "cell_type": "markdown",
   "metadata": {},
   "source": [
    "## Inspecting the elements in the database\n",
    "\n",
    "To check all the **chemical elements** available in the database:"
   ]
  },
  {
   "cell_type": "code",
   "execution_count": null,
   "metadata": {
    "collapsed": false,
    "jupyter": {
     "outputs_hidden": false
    },
    "pycharm": {
     "name": "#%%\n"
    }
   },
   "outputs": [],
   "source": [
    "print(f\"{'Symbol':<10}{'Molar Mass (kg/mol)':<10}\")\n",
    "for element in db.elements():\n",
    "    print(f\"{element.symbol():<10}{element.molarMass():<10.6f}\")"
   ]
  },
  {
   "cell_type": "markdown",
   "metadata": {},
   "source": [
    "## Inspecting species' and elements' parameters in the database\n",
    "\n",
    "A thermodynamic database contains model parameters for the evaluation of standard thermodynamic properties of\n",
    "species and/or reactions (e.g., standard Gibbs energies, equilibrium constants). These properties can be accessed by\n",
    "fetching a particular species from the database and calling a corresponding functions to output, e.g., charge and dissociation of CaCl<sub>2</sub>:"
   ]
  },
  {
   "cell_type": "code",
   "execution_count": 16,
   "metadata": {
    "collapsed": false,
    "jupyter": {
     "outputs_hidden": false
    },
    "pycharm": {
     "name": "#%%\n"
    }
   },
   "outputs": [
    {
     "name": "stdout",
     "output_type": "stream",
     "text": [
      "Charge of Ca(SO4)@:  0.0\n",
      "Aggregate state of Ca(SO4)@: AggregateState.Aqueous\n"
     ]
    }
   ],
   "source": [
    "species = db.species().getWithName(\"Ca(SO4)@\")\n",
    "print(\"Charge of Ca(SO4)@: \", species.charge())\n",
    "print(\"Aggregate state of Ca(SO4)@:\", species.aggregateState())"
   ]
  },
  {
   "cell_type": "markdown",
   "metadata": {},
   "source": [
    "**TASK 2**: use SUPCRT database and inspect the properties of Pyrite, i.e., formula, molar mass, charge, as well as elements, which Pyrrhotite is constructed from."
   ]
  },
  {
   "cell_type": "code",
   "execution_count": null,
   "metadata": {
    "collapsed": false,
    "jupyter": {
     "outputs_hidden": false
    },
    "pycharm": {
     "name": "#%%\n"
    }
   },
   "outputs": [],
   "source": [
    "db = SupcrtDatabase(\"supcrtbl\")\n",
    "print(\"List of all minerals in database supcrtbl:\")\n",
    "for minerals in db.speciesWithAggregateState(AggregateState.Solid):\n",
    "    print(minerals.name())\n",
    "\n",
    "species = db.species().getWithName(\"Pyrite\")\n",
    "\n",
    "print(\"Formula of Pyrrhotite:\", species.formula())\n",
    "print(f\"Molar mass of Pyrrhotite: {species.molarMass():4.4e} kg/mol\")\n",
    "print(\"Charge of Pyrrhotite:\", species.charge())\n",
    "print(\"Elemental composition: \", species.elements().symbols())\n"
   ]
  }
 ],
 "metadata": {
  "kernelspec": {
   "display_name": "Python 3 (ipykernel)",
   "language": "python",
   "name": "python3"
  },
  "language_info": {
   "codemirror_mode": {
    "name": "ipython",
    "version": 3
   },
   "file_extension": ".py",
   "mimetype": "text/x-python",
   "name": "python",
   "nbconvert_exporter": "python",
   "pygments_lexer": "ipython3",
   "version": "3.9.7"
  }
 },
 "nbformat": 4,
 "nbformat_minor": 4
}