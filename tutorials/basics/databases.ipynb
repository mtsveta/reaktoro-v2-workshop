{
 "cells": [
  {
   "cell_type": "markdown",
   "metadata": {
    "collapsed": true,
    "pycharm": {
     "name": "#%% md\n"
    }
   },
   "source": [
    "# Thermodynamic databases\n",
    "\n",
    "## Loading\n",
    "\n",
    "Reaktoro requires thermodynamic databases to calculate the thermodynamic properties of chemical species and reactions. These properties are necessary when performing chemical equilibrium and kinetics calculations.\n",
    "\n",
    "Examples of such thermodynamic properties for a species $i$ include:\n",
    "\n",
    "* standard molar Gibbs energy, $G_i^\\circ$\n",
    "* standard molar Helmholtz energy, $A_i^\\circ$\n",
    "* standard molar enthalpy, $H_i^\\circ$\n",
    "* standard molar internal energy, $U_i^\\circ$\n",
    "* standard molar entropy, $S_i^\\circ$\n",
    "* standard molar volume, $V_i^\\circ$\n",
    "* standard molar heat capacity (constant pressure), $C_{P,i}^\\circ$\n",
    "* standard molar heat capacity (constant volume), $C_{V,i}^\\circ$\n",
    "\n",
    "The standard thermodynamic properties of the above species can be used to calculate reaction properties, such as the following for a reaction $m$:\n",
    "\n",
    "* equilibrium constant of reaction, $K_m$\n",
    "* standard Gibbs energy of reaction, $\\Delta G_m^\\circ$\n",
    "* standard enthalpy of reaction, $\\Delta H_m^\\circ$\n",
    "\n",
    "Reaktoro currently supports thermodynamic databases from the following providers:\n",
    "\n",
    "* [PHREEQC](https://www.usgs.gov/software/phreeqc-version-3)\n",
    "* [ThermoFun](https://thermohub.org/thermofun/thermofun/)\n",
    "* [SUPCRT](https://www.sciencedirect.com/science/article/pii/009830049290029Q)\n",
    "* [SUPCRTBL](https://models.earth.indiana.edu/supcrtbl.php)\n",
    "* [NASA](https://www1.grc.nasa.gov/research-and-engineering/ceaweb/)\n",
    "\n",
    "The following classes exist for loading thermodynamic databases:\n",
    "\n",
    "* {{PhreeqcDatabase}}\n",
    "* {{SupcrtDatabase}}\n",
    "* {{ThermoFunDatabase}}\n",
    "* {{NasaDatabase}}\n",
    "\n",
    "```{note}\n",
    "All these classes derive from the {{Database}} class. They exist to provide you additional convenience and functionality.\n",
    "```\n",
    "\n",
    "Read the next sections to learn how different thermodynamic databases from distinct providers can be loaded in Reaktoro.\n",
    "\n",
    "### PHREEQC Databases\n",
    "\n",
    "[PHREEQC](https://www.usgs.gov/software/phreeqc-version-3) {cite}`Parkhurst2013` is a well-known scientific software used for geochemical and biogeochemical modelling, and many thermodynamic databases have been compiled for it in the last decades. If you'd like to use Reaktoro with PHREEQC databases, we've got you covered. You can do this using a database file available on your computer or one of the following database files embedded into Reaktoro (those provided with PHREEQC v3):\n",
    "\n",
    "* [Amm.dat](https://github.com/reaktoro/reaktoro/tree/main/databases/phreeqc/Amm.dat)\n",
    "* [ColdChem.dat](https://github.com/reaktoro/reaktoro/tree/main/databases/phreeqc/ColdChem.dat)\n",
    "* [core10.dat](https://github.com/reaktoro/reaktoro/tree/main/databases/phreeqc/core10.dat)\n",
    "* [frezchem.dat](https://github.com/reaktoro/reaktoro/tree/main/databases/phreeqc/frezchem.dat)\n",
    "* [iso.dat](https://github.com/reaktoro/reaktoro/tree/main/databases/phreeqc/iso.dat)\n",
    "* [llnl.dat](https://github.com/reaktoro/reaktoro/tree/main/databases/phreeqc/llnl.dat)\n",
    "* [minteq.dat](https://github.com/reaktoro/reaktoro/tree/main/databases/phreeqc/minteq.dat)\n",
    "* [minteq.v4.dat](https://github.com/reaktoro/reaktoro/tree/main/databases/phreeqc/minteq.v4.dat)\n",
    "* [phreeqc.dat](https://github.com/reaktoro/reaktoro/tree/main/databases/phreeqc/phreeqc.dat)\n",
    "* [pitzer.dat](https://github.com/reaktoro/reaktoro/tree/main/databases/phreeqc/pitzer.dat)\n",
    "* [sit.dat](https://github.com/reaktoro/reaktoro/tree/main/databases/phreeqc/sit.dat)\n",
    "* [Tipping_Hurley.dat](https://github.com/reaktoro/reaktoro/tree/main/databases/phreeqc/Tipping_Hurley.dat)\n",
    "* [wateq4f.dat](https://github.com/reaktoro/reaktoro/tree/main/databases/phreeqc/wateq4f.dat)\n",
    "\n",
    "#### Loading embedded PHREEQC database files\n",
    "\n",
    "The following are equivalent ways to load embedded PHREEEQC database files:\n",
    "\n",
    "```python3\n",
    "db = PhreeqcDatabase(\"phreeqc.dat\")\n",
    "db = PhreeqcDatabase.withName(\"phreeqc.dat\")\n",
    "```\n",
    "\n",
    "#### Loading locally available PHREEQC database files\n",
    "\n",
    "The following are equivalent ways to load the same PHREEQC database file from\n",
    "your computer:\n",
    "\n",
    "```{tab} Linux and macOS\n",
    "~~~\n",
    "db = PhreeqcDatabase()\n",
    "db.load(\"/home/username/databases/phreeqc.dat\")\n",
    "\n",
    "db = PhreeqcDatabase.fromFile(\"/home/username/databases/phreeqc.dat\")\n",
    "~~~\n",
    "```\n",
    "```{tab} Windows\n",
    "~~~\n",
    "db = PhreeqcDatabase()\n",
    "db.load(\"C:\\\\Users\\\\Username\\\\databases\\\\phreeqc.dat\")\n",
    "\n",
    "db = PhreeqcDatabase.fromFile(\"C:\\\\Users\\\\Username\\\\databases\\\\phreeqc.dat\")\n",
    "~~~\n",
    "```\n",
    "\n",
    "### ThermoFun Databases\n",
    "\n",
    "[ThermoFun](https://thermohub.org/thermofun/thermofun/) is an open-source C++/Python library for the computation of thermodynamic properties of species and reactions. It supports many databases for a wide variety of applications. The following are the currently supported database files:\n",
    "\n",
    "* [aq17-thermofun.json](https://github.com/reaktoro/reaktoro/tree/main/databases/thermofun/aq17-thermofun.json)\n",
    "* [cemdata18-thermofun.json](https://github.com/reaktoro/reaktoro/tree/main/databases/thermofun/cemdata18-thermofun.json)\n",
    "* [heracles-thermofun.json](https://github.com/reaktoro/reaktoro/tree/main/databases/thermofun/heracles-thermofun.json)\n",
    "* [mines16-thermofun.json](https://github.com/reaktoro/reaktoro/tree/main/databases/thermofun/mines16-thermofun.json)\n",
    "* [psinagra-12-07-thermofun.json](https://github.com/reaktoro/reaktoro/tree/main/databases/thermofun/psinagra-12-07-thermofun.json)\n",
    "* [slop98-organic-thermofun.json](https://github.com/reaktoro/reaktoro/tree/main/databases/thermofun/slop98-organic-thermofun.json)\n",
    "* [slop98-thermofun.json](https://github.com/reaktoro/reaktoro/tree/main/databases/thermofun/slop98-thermofun.json)\n",
    "\n",
    "#### Loading embedded ThermoFun database files\n",
    "\n",
    "ThermoFun databases are also available in embedded form in Reaktoro for convenience. You need to use one of the following database names:\n",
    "\n",
    "* `aq17`\n",
    "* `cemdata18`\n",
    "* `heracles`\n",
    "* `mines16`\n",
    "* `psinagra-12-07`\n",
    "* `slop98-organic`\n",
    "* `slop98`\n",
    "\n",
    "The following are equivalent ways to load the same embedded ThermoFun database file:\n",
    "\n",
    "```python3\n",
    "db = ThermoFunDatabase(\"cemdata18\")\n",
    "db = ThermoFunDatabase.withName(\"cemdata18\")\n",
    "```\n",
    "\n",
    "#### Loading locally available ThermoFun database files\n",
    "\n",
    "The following are equivalent ways to load the same ThermoFun database file from\n",
    "your computer:\n",
    "\n",
    "```{tab} Linux and macOS\n",
    "~~~\n",
    "db = ThermoFunDatabase()\n",
    "db.load(\"/home/username/databases/mines16-thermofun.json\")\n",
    "\n",
    "db = ThermoFunDatabase.fromFile(\"/home/username/databases/mines16-thermofun.json\")\n",
    "~~~\n",
    "```\n",
    "```{tab} Windows\n",
    "~~~\n",
    "db = ThermoFunDatabase()\n",
    "db.load(\"C:\\\\Users\\\\Username\\\\databases\\\\mines16-thermofun.json\")\n",
    "\n",
    "db = ThermoFunDatabase.fromFile(\"C:\\\\Users\\\\Username\\\\databases\\\\mines16-thermofun.json\")\n",
    "~~~\n",
    "```\n",
    "\n",
    "### SUPCRT and SUPCRTBL Databases\n",
    "\n",
    "SUPCRT {cite}`Johnson1992` and SUPCRTBL {cite}`Zimmer2016a` databases contain thousands of chemical species (aqueous species, gases, minerals) and are commonly used for biogeochemical modeling applications. These thermodynamic databases contain parameters for equations of state to permit the computation of standard molal thermodynamic properties of minerals, gases, aqueous species, and reactions from 1 to 5000 bar and 0 to 1000°C. The theory behind these equations and their derivation can be found across the following publications: {cite:t}`Helgeson1974,Helgeson1974a,Helgeson1976,Helgeson1981,Tanger1988,Shock1992`.\n",
    "\n",
    "#### Loading embedded SUPCRT and SUPCRTBL database files\n",
    "\n",
    "SUPCRT and SUPCRTBL databases are supported in Reaktoro's database format using\n",
    "[YAML](https://yaml.org/). The currently available embedded database files are\n",
    "listed below:\n",
    "\n",
    "* [supcrt98.yaml](https://github.com/reaktoro/reaktoro/tree/main/databases/reaktoro/supcrt98.yaml)\n",
    "* [supcrt07.yaml](https://github.com/reaktoro/reaktoro/tree/main/databases/reaktoro/supcrt07.yaml)\n",
    "* [supcrt16.yaml](https://github.com/reaktoro/reaktoro/tree/main/databases/reaktoro/supcrt16.yaml)\n",
    "* [supcrtbl.yaml](https://github.com/reaktoro/reaktoro/tree/main/databases/reaktoro/supcrtbl.yaml)\n",
    "\n",
    "The following are equivalent ways to load the same embedded SUPCRT/SUPCRTBL database file:\n",
    "\n",
    "```python3\n",
    "db = SupcrtDatabase(\"supcrtbl\")\n",
    "db = SupcrtDatabase.withName(\"supcrtbl\")\n",
    "```\n",
    "\n",
    "#### Loading locally available SUPCRT and SUPCRTBL database files\n",
    "\n",
    "The following are equivalent ways to load the same SUPCRT or SUPCRTBL database file from\n",
    "your computer:\n",
    "\n",
    "```{tab} Linux and macOS\n",
    "~~~\n",
    "db = SupcrtDatabase()\n",
    "db.load(\"/home/username/databases/supcrt98.yaml\")\n",
    "\n",
    "db = SupcrtDatabase.fromFile(\"/home/username/databases/supcrt98.yaml\")\n",
    "~~~\n",
    "```\n",
    "```{tab} Windows\n",
    "~~~\n",
    "db = SupcrtDatabase()\n",
    "db.load(\"C:\\\\Users\\\\Username\\\\databases\\\\supcrt98.yaml\")\n",
    "\n",
    "db = SupcrtDatabase.fromFile(\"C:\\\\Users\\\\Username\\\\databases\\\\supcrt98.yaml\")\n",
    "~~~\n",
    "```\n",
    "\n",
    "### NASA Databases\n",
    "\n",
    "Reaktoro also supports the NASA-CEA thermochemical database {cite}`Gordon1994a,Gordon1996`. These contain coefficients for NASA-CEA polynomials used to calculate the standard thermodynamic properties of gases and condensed phases. The NASA-CEA database is commonly used for modeling combustion processes in various applications, from rocket propellant combustion to explosives detonation.\n",
    "\n",
    "The NASA-CEA database supported in Reaktoro has been converted to Reaktoro's YAML database format:\n",
    "\n",
    "* [nasa-cea.yaml](https://github.com/reaktoro/reaktoro/tree/main/databases/reaktoro/nasa-cea.yaml).\n",
    "\n",
    "This file was constructed by parsing the [original NASA-CEA thermochemical database file](https://github.com/reaktoro/reaktoro/tree/main/utilities/nasa-parser/nasa-cea.dat) and converting it to Reaktoro's YAML format.\n",
    "\n",
    "```{attention}\n",
    "NASA-CEA database is organized differently in Reaktoro's YAML database format. In the original NASA-CEA database, identical substances in different physical states and crystal structures (e.g., `Mg(L)` and `Mg(cr)`; `MgSO4(II)`, `MgSO4(I)` and `MgSO4(L)`) are considered distinct chemical species. In Reaktoro's YAML format, these chemical species are combined into one (e.g., `Mg(cd)`, `MgSO4(cd)`). This was done after observing improved performance and behavior in Reaktoro's chemical equilibrium algorithm, while still producing identical results. More specifically, this improved the determination of stable phases at equilibrium, which Reaktoro determines during the calculation (not at the end with individual stability tests for currently unstable phases).\n",
    "```\n",
    "\n",
    "#### Loading embedded NASA database files\n",
    "\n",
    "The following are equivalent ways to load the same embedded NASA database file:\n",
    "\n",
    "```python3\n",
    "db = NasaDatabase(\"nasa-cea\")\n",
    "db = NasaDatabase.withName(\"nasa-cea\")\n",
    "```\n",
    "\n",
    "#### Loading locally available NASA database files\n",
    "\n",
    "The following are equivalent ways to load the same NASA database file from your\n",
    "computer:\n",
    "\n",
    "```{tab} Linux and macOS\n",
    "~~~\n",
    "db = NasaDatabase()\n",
    "db.load(\"/home/username/databases/nasa-cea.yaml\")\n",
    "\n",
    "db = NasaDatabase.fromFile(\"/home/username/databases/nasa-cea.yaml\")\n",
    "~~~\n",
    "```\n",
    "```{tab} Windows\n",
    "~~~\n",
    "db = NasaDatabase()\n",
    "db.load(\"C:\\\\Users\\\\Username\\\\databases\\\\nasa-cea.yaml\")\n",
    "\n",
    "db = NasaDatabase.fromFile(\"C:\\\\Users\\\\Username\\\\databases\\\\nasa-cea.yaml\")\n",
    "~~~\n",
    "```\n",
    "\n",
    "## Inspecting\n",
    "\n",
    "This tutorial demonstrates how a thermodynamic database can be inspected programmatically using Reaktoro's Python API. For this, we will consider the [cemdata18](https://www.empa.ch/web/s308/cemdata) database supported in [ThermoFun](https://thermohub.org/thermofun/thermofun/).\n",
    "\n",
    "So, let's get started by creating an object of class {{ThermoFunDatabase}}:"
   ]
  },
  {
   "cell_type": "code",
   "execution_count": null,
   "outputs": [],
   "source": [
    "from reaktoro import *\n",
    "\n",
    "db = ThermoFunDatabase(\"cemdata18\")"
   ],
   "metadata": {
    "collapsed": false,
    "pycharm": {
     "name": "#%%\n"
    }
   }
  },
  {
   "cell_type": "markdown",
   "source": [
    "We'll use this `db` object throughout this tutorial to demonstrate all inspection capabilities available in class {{Database}} (yes, {{ThermoFunDatabase}} is a derived class from {{Database}})!"
   ],
   "metadata": {
    "collapsed": false
   }
  },
  {
   "cell_type": "markdown",
   "source": [
    "## Inspecting the species in the database\n",
    "\n",
    "Let's loop through all species in this database object and print its name, chemical formula, and molar mass:"
   ],
   "metadata": {
    "collapsed": false
   }
  },
  {
   "cell_type": "code",
   "execution_count": null,
   "outputs": [],
   "source": [
    "print(f\"{'Species':<20}{'Formula':<60}{'Molar Mass (kg/mol)':<20}\")\n",
    "for species in db.species():\n",
    "    print(f\"{species.name():<20}{species.formula().str():<60}{species.molarMass():<20.6f}\")"
   ],
   "metadata": {
    "collapsed": false,
    "pycharm": {
     "name": "#%%\n"
    }
   }
  },
  {
   "cell_type": "markdown",
   "source": [
    "## Inspecting the species in the database with given chemical elements\n",
    "\n",
    "Often, we are not interested in all species in a database, but only in those that contain some chemical elements. We show below how the species that can be formed from the elements H, O, C, and Ca can be collected and printed:"
   ],
   "metadata": {
    "collapsed": false
   }
  },
  {
   "cell_type": "code",
   "execution_count": null,
   "outputs": [],
   "source": [
    "for species in db.species().withElements(\"H O C Ca\"):\n",
    "    print(species.name())"
   ],
   "metadata": {
    "collapsed": false,
    "pycharm": {
     "name": "#%%\n"
    }
   }
  },
  {
   "cell_type": "markdown",
   "source": [
    "## Inspecting the species in the database with given aggregate state\n",
    "\n",
    "What if we want to collect only gaseous species from a database? Check next:"
   ],
   "metadata": {
    "collapsed": false
   }
  },
  {
   "cell_type": "code",
   "execution_count": null,
   "outputs": [],
   "source": [
    "for species in db.speciesWithAggregateState(AggregateState.Gas):\n",
    "    print(species.name())"
   ],
   "metadata": {
    "collapsed": false,
    "pycharm": {
     "name": "#%%\n"
    }
   }
  },
  {
   "cell_type": "markdown",
   "source": [
    "And what if only gases with C, H, O elements?"
   ],
   "metadata": {
    "collapsed": false
   }
  },
  {
   "cell_type": "code",
   "execution_count": null,
   "outputs": [],
   "source": [
    "for species in db.speciesWithAggregateState(AggregateState.Gas).withElements(\"C H O\"):\n",
    "    print(species.name())"
   ],
   "metadata": {
    "collapsed": false,
    "pycharm": {
     "name": "#%%\n"
    }
   }
  },
  {
   "cell_type": "markdown",
   "source": [
    "## Inspecting the elements in the database\n",
    "\n",
    "We can also check all the chemical elements available in the database:"
   ],
   "metadata": {
    "collapsed": false
   }
  },
  {
   "cell_type": "code",
   "execution_count": null,
   "outputs": [],
   "source": [
    "print(f\"{'Symbol':<10}{'Molar Mass (kg/mol)':<10}\")\n",
    "for element in db.elements():\n",
    "    print(f\"{element.symbol():<10}{element.molarMass():<10.6f}\")"
   ],
   "metadata": {
    "collapsed": false,
    "pycharm": {
     "name": "#%%\n"
    }
   }
  },
  {
   "cell_type": "markdown",
   "source": [
    "That's it. You should now be able to load and inspect databases in Reaktoro the way you want!\n",
    "\n",
    "```{tip}\n",
    "You might want to check the API documentation of all Reaktoro components (classes and their methods) used in this tutorial:\n",
    "\n",
    "* {{Database}}\n",
    "* {{Element}}\n",
    "* {{Species}}\n",
    "* {{SpeciesList}}\n",
    "* {{ElementList}}\n",
    "* {{ChemicalFormula}}\n",
    "* {{AggregateState}}\n",
    "```\n",
    "\n"
   ],
   "metadata": {
    "collapsed": false
   }
  }
 ],
 "metadata": {
  "kernelspec": {
   "display_name": "Python 3",
   "language": "python",
   "name": "python3"
  },
  "language_info": {
   "codemirror_mode": {
    "name": "ipython",
    "version": 2
   },
   "file_extension": ".py",
   "mimetype": "text/x-python",
   "name": "python",
   "nbconvert_exporter": "python",
   "pygments_lexer": "ipython2",
   "version": "2.7.6"
  }
 },
 "nbformat": 4,
 "nbformat_minor": 0
}