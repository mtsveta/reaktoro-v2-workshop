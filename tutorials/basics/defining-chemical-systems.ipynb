{
 "cells": [
  {
   "cell_type": "markdown",
   "metadata": {},
   "source": [
    "# Defining chemical systems\n",
    "\n",
    "Before performing chemical reaction calculations, we need to define the phases that must be considered in the calculation as well as the chemical species that constitute these phases.\n",
    "\n",
    "**Example I:** to calculate the *solubility of a mineral in water*, two phases must be considered:\n",
    "* *an aqueous phase* (representing water and dissolved species) and\n",
    "* *a solid phase* (representing the mineral we want to dissolve).\n",
    "\n",
    "**Example II:** to calculate the *combustion of a solid substance*, the chemical system must be composed of:\n",
    "* *a gaseous phase* (with most of the gases relevant to the process) and\n",
    "* *one or more solid/liquid substances* (condensed as phases) that may appear/disappear during the combustion process.\n",
    "\n",
    "The concept of a chemical system (containing the information about phases) is implemented using the [ChemicalSystem](https://reaktoro.org/api/classReaktoro_1_1ChemicalSystem.html) class. It contains:\n",
    "* a *list of phases* using [Phase](https://reaktoro.org/api/classReaktoro_1_1Phase.html) class (containing list of species using [Species](https://reaktoro.org/api/classReaktoro_1_1Species.html) class) and\n",
    "* an *activity model* assigned to each phase of the list (to account for non-ideal thermodynamic behaviour)."
   ]
  },
  {
   "cell_type": "markdown",
   "metadata": {},
   "source": [
    "## Chemical system for a mineral solubility problem\n",
    "\n",
    "Let's consider the problem of determining the halite (NaCl) solubility in water. In this case, the [ChemicalSystem](https://reaktoro.org/api/classReaktoro_1_1ChemicalSystem.html) should be created with [AqueousPhase](https://reaktoro.org/api/classReaktoro_1_1AqueousPhase.html) and [MineralPhase](https://reaktoro.org/api/classReaktoro_1_1MineralPhase.html) classes."
   ]
  },
  {
   "cell_type": "code",
   "execution_count": null,
   "metadata": {},
   "outputs": [],
   "source": [
    "from reaktoro import *\n",
    "\n",
    "# Define the PHREEQC database\n",
    "db = PhreeqcDatabase(\"phreeqc.dat\")\n",
    "\n",
    "# Define an aqueous solution with species relevant to the problem\n",
    "solution = AqueousPhase(\"H2O H+ OH- Na+ Cl-\")\n",
    "\n",
    "# Define a phase of the mineral which solubility is studied\n",
    "halite = MineralPhase(\"Halite\")\n",
    "\n",
    "# Create the chemical system with the database and phases\n",
    "system = ChemicalSystem(db, solution, halite)"
   ]
  },
  {
   "cell_type": "markdown",
   "metadata": {},
   "source": [
    "Once the [ChemicalSystem](https://reaktoro.org/api/classReaktoro_1_1ChemicalSystem.html) instance is created, we can inspect its phases and chemical species composing them:"
   ]
  },
  {
   "cell_type": "code",
   "execution_count": null,
   "metadata": {},
   "outputs": [],
   "source": [
    "for phase in system.phases():\n",
    "    print(phase.name())\n",
    "    for species in phase.species():\n",
    "        print(\":: \" + species.name())"
   ]
  },
  {
   "cell_type": "markdown",
   "metadata": {},
   "source": [
    "> **Note**: `AqueousPhase` and `GaseousPhase` are default names for aqueous and gaseous phases. For pure mineral phases, the phase name is the same as the name of the mineral species composing it.\n",
    "\n",
    "> **Note**: Reaktoro supports as many phases as you wish, each phase containing any number of species.\n",
    "\n",
    "We can inspect chemical species and elements of the system:"
   ]
  },
  {
   "cell_type": "code",
   "execution_count": null,
   "metadata": {},
   "outputs": [],
   "source": [
    "print(\"Species :\", end=\" \")\n",
    "for species in system.species():\n",
    "    print(species.name(), end=\" \")\n",
    "print(\"\\nElements:\")\n",
    "for element in system.elements():\n",
    "    print(element.symbol())"
   ]
  },
  {
   "cell_type": "markdown",
   "metadata": {},
   "source": [
    "The [ChemicalSystem](https://reaktoro.org/api/classReaktoro_1_1ChemicalSystem.html) class also contains the *formula matrix* $A$ of the system, which is a matrix whose entry $A_{j,i}$ contains the number of atoms of an element with index $j$ in species with index $i$:"
   ]
  },
  {
   "cell_type": "code",
   "execution_count": null,
   "metadata": {},
   "outputs": [],
   "source": [
    "print(system.formulaMatrix())"
   ]
  },
  {
   "cell_type": "markdown",
   "metadata": {},
   "source": [
    "The matrix printed above is the matrix of the size *5 x 6* corresponding to 5 components (4 elements and 1 charge) and 6 species we have inspected above. The last row in the formula matrix contains the electric charge of each species. For instance, H<sub>2</sub>0 corresponds to the first column with coefficient 2 for element H, 1 for element 0, and 0 for a charge."
   ]
  },
  {
   "cell_type": "markdown",
   "metadata": {},
   "source": [
    "## Chemical system for a gas solubility problem\n",
    "\n",
    "Let us consider the chemical system for computation of the CO<sub>2</sub> solubility in saline solutions. Thus, we need an aqueous and gaseous phase (created by the [GaseousPhase](https://reaktoro.org/api/classReaktoro_1_1GaseousPhase.html) class):"
   ]
  },
  {
   "cell_type": "code",
   "execution_count": null,
   "metadata": {},
   "outputs": [],
   "source": [
    "from reaktoro import *\n",
    "\n",
    "# Define the SUPCRT database\n",
    "db = SupcrtDatabase(\"supcrtbl\")\n",
    "\n",
    "# Define an aqueous solution with automatic species collection for selected elements\n",
    "solution = AqueousPhase(speciate(\"H O Na Cl Ca C\")) # HINT: 1) try to add N 2) try to add `exclude(\"organic\")`\n",
    "# HINT: 3) aqueous_species = [ \"H2O(aq)\", \"CaOH+\",  \"CO2(aq)\", \"CO3-2\", \"CaCO3(aq)\", \"Ca+2\", \"Cl-\", \"H+\", \"HCO3-\", \"Na+\", \"OH-\" ]\n",
    "\n",
    "# Let Reaktoro automatically identify the gases by specifying an empty list of species below\n",
    "gas = GaseousPhase() # HINT: try gas = GaseousPhase(\"CO2(g)\")\n",
    "\n",
    "# Create the chemical system\n",
    "system = ChemicalSystem(db, solution, gas)"
   ]
  },
  {
   "cell_type": "markdown",
   "metadata": {},
   "source": [
    "Below, we print the system's species, their names, formula, and molar mass:"
   ]
  },
  {
   "cell_type": "code",
   "execution_count": null,
   "metadata": {
    "tags": [
     "output_scroll"
    ]
   },
   "outputs": [],
   "source": [
    "print(f\"{len(system.species())} species found!\")\n",
    "print(\"{:<25}{:<25}{:<20}\".format(\"Name\", \"Formula\", \"Molar Mass (kg/mol)\"))\n",
    "for species in system.species():\n",
    "    print(\"{:<25}{:<25}{:<20.6f}\".format(species.name(), species.formula().str(), species.molarMass()))"
   ]
  },
  {
   "cell_type": "markdown",
   "metadata": {},
   "source": [
    "This chemical system contains many species due to the large amount of organic species included in the SUPCRTBL database. To filter them out, we can use the `exclude()` function:\n",
    "\n",
    "~~~python\n",
    "solution = AqueousPhase(speciate(\"H O Na Cl Ca C\"), exclude(\"organic\"))\n",
    "~~~"
   ]
  },
  {
   "cell_type": "markdown",
   "metadata": {},
   "source": [
    "> **Warning:** the specified species' names must coincide exactly the names they are included in [Database](https://reaktoro.org/api/classReaktoro_1_1Database.html)."
   ]
  },
  {
   "cell_type": "markdown",
   "metadata": {},
   "source": [
    "As earlier, we can specify the exact aqueous species to be considered in the phase:"
   ]
  },
  {
   "cell_type": "code",
   "execution_count": null,
   "metadata": {},
   "outputs": [],
   "source": [
    "aqueous_species = [\n",
    "    \"H2O(aq)\",\n",
    "    \"CaOH+\", \n",
    "    \"CO2(aq)\",\n",
    "    \"CO3-2\", \n",
    "    \"CaCO3(aq)\",\n",
    "    \"Ca+2\", \n",
    "    \"Cl-\",\n",
    "    \"H+\", \n",
    "    \"HCO3-\", \n",
    "    \"Na+\",\n",
    "    \"OH-\"\n",
    "]\n",
    "\n",
    "solution = AqueousPhase(aqueous_species)\n",
    "\n",
    "gas = GaseousPhase() \n",
    "\n",
    "system = ChemicalSystem(db, solution, gas)\n",
    "\n",
    "for species in system.species():\n",
    "    print(species.name())"
   ]
  },
  {
   "cell_type": "markdown",
   "metadata": {},
   "source": [
    "## Chemical system with many phases\n",
    "\n",
    "Now, let's define a chemical system with many phases and species using `cemdata18` database provided by ThermoFun, which is suitable for modeling cement chemistry. We define *an aqueous solution* with the chemical elements of interest. Since all minerals could potentially be important (e.g., minerals that could precipitate as the solution temperature is changed), we let Reaktoro to collect *all minerals* in the database whose constituting elements are found in the aqueous solution. Moreover, we show how the mineral phase can be defined as a *solid solution* (containing more than one mineral end-member)."
   ]
  },
  {
   "cell_type": "code",
   "execution_count": null,
   "metadata": {
    "scrolled": true,
    "tags": []
   },
   "outputs": [],
   "source": [
    "# Define the ThermoFun database\n",
    "db = ThermoFunDatabase(\"cemdata18\")\n",
    "\n",
    "# Define phases\n",
    "solution = AqueousPhase(speciate(\"H O Na Cl Ca Mg C Si Fe Al K S\"))\n",
    "gas = GaseousPhase()\n",
    "pureminerals = MineralPhases()\n",
    "solidsolution = MineralPhase(\"ettringite Fe-ettringite\").setName(\"SolidSolution\")\n",
    "\n",
    "# Create the chemical system\n",
    "system = ChemicalSystem(db, solution, gas, pureminerals, solidsolution)\n",
    "\n",
    "for phase in system.phases():\n",
    "    print(phase.name())\n",
    "    for species in phase.species():\n",
    "        print(\":: \" + species.name())"
   ]
  },
  {
   "cell_type": "markdown",
   "metadata": {},
   "source": [
    "**TASK 1**: 1) define a chemical system with two minerals (albite and kaolinite) and aqueous solution (allowing Reaktoro to automatically generate its content) 2) inspect, which aqueous species were selected automatically for the aqueous phase."
   ]
  },
  {
   "cell_type": "code",
   "execution_count": null,
   "metadata": {},
   "outputs": [],
   "source": [
    "# -------------------------------------- #\n",
    "# Code cell for the task\n",
    "# -------------------------------------- #"
   ]
  },
  {
   "cell_type": "markdown",
   "metadata": {},
   "source": [
    "## Chemical system for a combustion problem\n",
    "\n",
    "Let's construct a chemical system suitable for modeling the *combustion of black powder*. Black powder is composed of potassium nitrate (KNO<sub>3</sub>), charcoal (C<sub>10</sub>Ca<sub>0.026</sub>H<sub>4.774</sub>N<sub>0.039</sub>O<sub>1.234</sub>), and sulfur (S<sub>8</sub>). In the code below, we construct a [CondensedPhases](https://reaktoro.org/api/classReaktoro_1_1CondensedPhases.html) using the chemical elements above:"
   ]
  },
  {
   "cell_type": "code",
   "execution_count": null,
   "metadata": {},
   "outputs": [],
   "source": [
    "# Define the NASA-CEA database\n",
    "db = NasaDatabase(\"nasa-cea\")\n",
    "\n",
    "# Initialize condensed phases (solid or liquid substances) with given elements\n",
    "condensed = CondensedPhases(speciate(\"K N O C Ca H S\"))\n",
    "\n",
    "# Automatically select the gases based on the elements above\n",
    "gases = GaseousPhase()  \n",
    "\n",
    "# Create a chemical system\n",
    "system = ChemicalSystem(db, gases, condensed)\n",
    "\n",
    "# Output gases and condensed phases constituting the chemical system\n",
    "print(\"Gases\")\n",
    "for species in system.species():\n",
    "    if species.aggregateState() == AggregateState.Gas:\n",
    "        print(\":: \" + species.name())\n",
    "print(\"Condensed Phases\")\n",
    "for species in system.species():\n",
    "    if species.aggregateState() == AggregateState.CondensedPhase:\n",
    "        print(\":: \" + species.name())"
   ]
  },
  {
   "cell_type": "markdown",
   "metadata": {
    "tags": []
   },
   "source": [
    "> **Note**: by including as many gases and condensed phases as possible, Reaktoro will be able to determine those that may appear (find positive amounts for them) after burning black powder. For example, K<sub>2</sub>S(cd), K<sub>2</sub>SO<sub>4</sub>(cd) and CaS(cd) are typically formed in the combustion process. By including them in the definition of the chemical system, the chemical equilibrium solver will be able to find positive amounts for them (i.e., the solver will identify these condensed phases as stable in equilibrium).\n"
   ]
  },
  {
   "cell_type": "markdown",
   "metadata": {},
   "source": [
    "**TASK 2**: check how many phases and species are collected in the chemical system."
   ]
  },
  {
   "cell_type": "code",
   "execution_count": null,
   "metadata": {},
   "outputs": [],
   "source": [
    "# -------------------------------------- #\n",
    "# Code cell for the task\n",
    "# -------------------------------------- #"
   ]
  }
 ],
 "metadata": {
  "interpreter": {
   "hash": "e4e8b2f3ae27709963f14fd23a6560d362beea55eaec742263828e04d814e23c"
  },
  "kernelspec": {
   "display_name": "Python 3 (ipykernel)",
   "language": "python",
   "name": "python3"
  },
  "language_info": {
   "codemirror_mode": {
    "name": "ipython",
    "version": 3
   },
   "file_extension": ".py",
   "mimetype": "text/x-python",
   "name": "python",
   "nbconvert_exporter": "python",
   "pygments_lexer": "ipython3",
   "version": "3.9.7"
  }
 },
 "nbformat": 4,
 "nbformat_minor": 4
}
