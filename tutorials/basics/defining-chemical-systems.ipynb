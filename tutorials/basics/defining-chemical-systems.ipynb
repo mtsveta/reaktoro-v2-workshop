{
 "cells": [
  {
   "cell_type": "markdown",
   "metadata": {},
   "source": [
    "# Defining chemical systems\n",
    "\n",
    "Before performing chemical reaction calculations, we need to define the phases that must be considered in the calculation as well as the chemical species that constitute these phases.\n",
    "\n",
    "**Example I:** to calculate the *solubility of a mineral in water*, two phases must be considered:\n",
    "* *an aqueous phase* (representing water and dissolved species) and\n",
    "* *a solid phase* (representing the mineral we want to dissolve).\n",
    "\n",
    "**Example II:** to calculate the *combustion of a solid substance*, the chemical system must be composed of:\n",
    "* *a gaseous phase* (with most of the gases relevant to the process) and\n",
    "* *one or more solid/liquid substances* (condensed as phases) that may appear/disappear during the combustion process.\n",
    "\n",
    "The concept of a chemical system (containing the information about phases) is implemented using the [ChemicalSystem](https://reaktoro.org/api/classReaktoro_1_1ChemicalSystem.html) class. It contains:\n",
    "* a *list of phases* using [Phase](https://reaktoro.org/api/classReaktoro_1_1Phase.html) class (containing list of species using [Species](https://reaktoro.org/api/classReaktoro_1_1Species.html) class) and\n",
    "* an *activity model* assigned to each phase of the list (to account for non-ideal thermodynamic behaviour)."
   ]
  },
  {
   "cell_type": "markdown",
   "metadata": {},
   "source": [
    "## Chemical system for a mineral solubility problem\n",
    "\n",
    "Let's consider the problem of determining the halite (NaCl) solubility in water. In this case, the [ChemicalSystem](https://reaktoro.org/api/classReaktoro_1_1ChemicalSystem.html) should be created with [AqueousPhase](https://reaktoro.org/api/classReaktoro_1_1AqueousPhase.html) and [MineralPhase](https://reaktoro.org/api/classReaktoro_1_1MineralPhase.html) classes."
   ]
  },
  {
   "cell_type": "code",
   "execution_count": 1,
   "metadata": {},
   "outputs": [],
   "source": [
    "from reaktoro import *\n",
    "\n",
    "# Define the PHREEQC database\n",
    "db = PhreeqcDatabase(\"phreeqc.dat\")\n",
    "\n",
    "# Define an aqueous solution with species relevant to the problem\n",
    "solution = AqueousPhase(\"H2O H+ OH- Na+ Cl-\")\n",
    "\n",
    "# Define a phase of the mineral which solubility is studied\n",
    "halite = MineralPhase(\"Halite\")\n",
    "\n",
    "# Create the chemical system with the database and phases\n",
    "system = ChemicalSystem(db, solution, halite)"
   ]
  },
  {
   "cell_type": "markdown",
   "metadata": {},
   "source": [
    "Once the [ChemicalSystem](https://reaktoro.org/api/classReaktoro_1_1ChemicalSystem.html) instance is created, we can inspect its phases and chemical species composing them:"
   ]
  },
  {
   "cell_type": "code",
   "execution_count": 2,
   "metadata": {},
   "outputs": [
    {
     "name": "stdout",
     "output_type": "stream",
     "text": [
      "AqueousPhase\n",
      ":: H2O\n",
      ":: H+\n",
      ":: OH-\n",
      ":: Na+\n",
      ":: Cl-\n",
      "Halite\n",
      ":: Halite\n"
     ]
    }
   ],
   "source": [
    "for phase in system.phases():\n",
    "    print(phase.name())\n",
    "    for species in phase.species():\n",
    "        print(\":: \" + species.name())"
   ]
  },
  {
   "cell_type": "markdown",
   "metadata": {},
   "source": [
    "> **Note**: `AqueousPhase` and `GaseousPhase` are default names for aqueous and gaseous phases. For pure mineral phases, the phase name is the same as the name of the mineral species composing it.\n",
    "\n",
    "> **Note**: Reaktoro supports as many phases as you wish, each phase containing any number of species.\n",
    "\n",
    "We can inspect chemical species and elements of the system:"
   ]
  },
  {
   "cell_type": "code",
   "execution_count": 3,
   "metadata": {},
   "outputs": [
    {
     "name": "stdout",
     "output_type": "stream",
     "text": [
      "Species : H2O H+ OH- Na+ Cl- Halite \n",
      "Elements:\n",
      "H\n",
      "O\n",
      "Na\n",
      "Cl\n"
     ]
    }
   ],
   "source": [
    "print(\"Species :\", end=\" \")\n",
    "for species in system.species():\n",
    "    print(species.name(), end=\" \")\n",
    "print(\"\\nElements:\")\n",
    "for element in system.elements():\n",
    "    print(element.symbol())"
   ]
  },
  {
   "cell_type": "markdown",
   "metadata": {},
   "source": [
    "The [ChemicalSystem](https://reaktoro.org/api/classReaktoro_1_1ChemicalSystem.html) class also contains the *formula matrix* $A$ of the system, which is a matrix whose entry $A_{j,i}$ contains the number of atoms of an element with index $j$ in species with index $i$:"
   ]
  },
  {
   "cell_type": "code",
   "execution_count": 4,
   "metadata": {},
   "outputs": [
    {
     "name": "stdout",
     "output_type": "stream",
     "text": [
      "[[ 2.  1.  1.  0.  0.  0.]\n",
      " [ 1.  0.  1.  0.  0.  0.]\n",
      " [ 0.  0.  0.  1.  0.  1.]\n",
      " [ 0.  0.  0.  0.  1.  1.]\n",
      " [ 0.  1. -1.  1. -1.  0.]]\n"
     ]
    }
   ],
   "source": [
    "print(system.formulaMatrix())"
   ]
  },
  {
   "cell_type": "markdown",
   "metadata": {},
   "source": [
    "The matrix printed above is the matrix of the size *5 x 6* corresponding to 5 components (4 elements and 1 charge) and 6 species we have inspected above. The last row in the formula matrix contains the electric charge of each species. For instance, H<sub>2</sub>0 corresponds to the first column with coefficient 2 for element H, 1 for element 0, and 0 for a charge."
   ]
  },
  {
   "cell_type": "markdown",
   "metadata": {},
   "source": [
    "## Chemical system for a gas solubility problem\n",
    "\n",
    "Let us consider the chemical system for computation of the CO<sub>2</sub> solubility in saline solutions. Thus, we need an aqueous and gaseous phase (created by the [GaseousPhase](https://reaktoro.org/api/classReaktoro_1_1GaseousPhase.html) class):"
   ]
  },
  {
   "cell_type": "code",
   "execution_count": 5,
   "metadata": {},
   "outputs": [],
   "source": [
    "from reaktoro import *\n",
    "\n",
    "# Define the SUPCRT database\n",
    "db = SupcrtDatabase(\"supcrtbl\")\n",
    "\n",
    "# Define an aqueous solution with automatic species collection for selected elements\n",
    "solution = AqueousPhase(speciate(\"H O Na Cl Ca C\")) # HINT: 1) try to add N 2) try to add `exclude(\"organic\")`\n",
    "# HINT: 3) aqueous_species = [ \"H2O(aq)\", \"CaOH+\",  \"CO2(aq)\", \"CO3-2\", \"CaCO3(aq)\", \"Ca+2\", \"Cl-\", \"H+\", \"HCO3-\", \"Na+\", \"OH-\" ]\n",
    "\n",
    "# Let Reaktoro automatically identify the gases by specifying an empty list of species below\n",
    "gas = GaseousPhase() # HINT: try gas = GaseousPhase(\"CO2(g)\")\n",
    "\n",
    "# Create the chemical system\n",
    "system = ChemicalSystem(db, solution, gas)"
   ]
  },
  {
   "cell_type": "markdown",
   "metadata": {},
   "source": [
    "Below, we print the system's species, their names, formula, and molar mass:"
   ]
  },
  {
   "cell_type": "code",
   "execution_count": 6,
   "metadata": {
    "tags": [
     "output_scroll"
    ]
   },
   "outputs": [
    {
     "name": "stdout",
     "output_type": "stream",
     "text": [
      "208 species found!\n",
      "Name                     Formula                  Molar Mass (kg/mol) \n",
      "H2O(aq)                  H2O                      0.018015            \n",
      "CaOH+                    CaOH+                    0.057085            \n",
      "CO(aq)                   CO                       0.028010            \n",
      "CO2(aq)                  CO2                      0.044010            \n",
      "CO3-2                    CO3-2                    0.060010            \n",
      "Ca(HCO3)+                Ca(HCO3)+                0.101095            \n",
      "Ca+2                     Ca+2                     0.040077            \n",
      "CaCl+                    CaCl+                    0.075530            \n",
      "CaCl2(aq)                CaCl2                    0.110983            \n",
      "Cl-                      Cl-                      0.035453            \n",
      "HClO(aq)                 HClO                     0.052460            \n",
      "ClO-                     ClO-                     0.051453            \n",
      "ClO2-                    ClO2-                    0.067452            \n",
      "ClO3-                    ClO3-                    0.083451            \n",
      "ClO4-                    ClO4-                    0.099451            \n",
      "H+                       H+                       0.001007            \n",
      "H2(aq)                   H2                       0.002016            \n",
      "HCO3-                    HCO3-                    0.061018            \n",
      "HO2-                     HO2-                     0.033007            \n",
      "Na+                      Na+                      0.022989            \n",
      "NaCl(aq)                 NaCl                     0.058442            \n",
      "NaOH(aq)                 NaOH                     0.039997            \n",
      "O2(aq)                   O2                       0.031999            \n",
      "OH-                      OH-                      0.017008            \n",
      "H2O2(aq)                 H2O2                     0.034015            \n",
      "HClO2(aq)                HClO2                    0.068459            \n",
      "HCl(aq)                  HCl                      0.036461            \n",
      "CaCO3(aq)                CaCO3                    0.100087            \n",
      "CH4(aq)                  CH4                      0.016043            \n",
      "H-Acetate(aq)            C2H4O2                   0.060053            \n",
      "Acetate-                 C2H3O2-                  0.059045            \n",
      "1-Butanol(aq)            C4H9OH                   0.074123            \n",
      "1-Butene(aq)             C4H8                     0.056108            \n",
      "1-Butyne(aq)             C4H6                     0.054092            \n",
      "1-Heptanol(aq)           C7H15OH                  0.116203            \n",
      "1-Heptene(aq)            C7H14                    0.098188            \n",
      "1-Heptyne(aq)            C7H12                    0.096172            \n",
      "1-Hexanol(aq)            C6H13OH                  0.102177            \n",
      "1-Hexene(aq)             C6H12                    0.084161            \n",
      "1-Hexyne(aq)             C6H10                    0.082145            \n",
      "1-Octanol(aq)            C8H17OH                  0.130230            \n",
      "1-Octene(aq)             C8H16                    0.112215            \n",
      "1-Octyne(aq)             C8H14                    0.110199            \n",
      "1-Pentanol(aq)           C5H11OH                  0.088150            \n",
      "1-Pentene(aq)            C5H10                    0.070134            \n",
      "1-Pentyne(aq)            C5H8                     0.068119            \n",
      "1-Propanol(aq)           C3H7OH                   0.060096            \n",
      "1-Propene(aq)            C3H6                     0.042081            \n",
      "1-Propyne(aq)            C3H4                     0.040065            \n",
      "2-Butanone(aq)           C4H8O                    0.072107            \n",
      "2-Heptanone(aq)          C7H14O                   0.114188            \n",
      "2-Hexanone(aq)           C6H12O                   0.100161            \n",
      "2-Hydroxybutanoate       C4H7O3-                  0.103098            \n",
      "2-Hydroxybutanoic(aq)    C4H8O3                   0.104106            \n",
      "2-Hydroxydecanoate       C10H19O3-                0.187260            \n",
      "2-Hydroxydecanoic(aq)    C10H20O3                 0.188267            \n",
      "2-Hydroxyheptanoic       C7H14O3                  0.146186            \n",
      "2-Hydroxyhexanoate       C6H11O3-                 0.131152            \n",
      "2-Hydroxyhexanoic(aq)    C6H12O3                  0.132159            \n",
      "2-Hydroxynonanoate       C9H17O3-                 0.173233            \n",
      "2-Hydroxynonanoic(aq)    C9H18O3                  0.174240            \n",
      "2-Hydroxyoctanoate       C8H15O3-                 0.159206            \n",
      "2-Hydroxyoctanoic(aq)    C8H16O3                  0.160213            \n",
      "2-Hydroxypentanoic       C5H10O3                  0.118133            \n",
      "2-Octanone(aq)           C8H16O                   0.128214            \n",
      "2-Pentanone(aq)          C5H10O                   0.086134            \n",
      "Acetone(aq)              C3H6O                    0.058080            \n",
      "Adipate                  C6H8O4-2                 0.144128            \n",
      "Adipic-Acid(aq)          C6H10O4                  0.146143            \n",
      "Azelaic-Acid(aq)         C9H16O4                  0.188224            \n",
      "Azelate                  C9H14O4-2                0.186209            \n",
      "Benzene(aq)              C6H6                     0.078114            \n",
      "Benzoate                 C7H5O2-                  0.121116            \n",
      "Benzoic-Acid(aq)         C7H6O2                   0.122123            \n",
      "o-Cresol(aq)             C6H4OHCH3                0.108140            \n",
      "m-Cresol(aq)             C6H4OHCH3                0.108140            \n",
      "p-Cresol(aq)             C6H4OHCH3                0.108140            \n",
      "Decanoate                C10H19O2-                0.171260            \n",
      "Decanoic-Acid(aq)        C10H20O2                 0.172268            \n",
      "2,3-DMP(aq)              C6H3OHCH3CH3             0.122167            \n",
      "2,4-DMP(aq)              C6H3OHCH3CH3             0.122167            \n",
      "2,5-DMP(aq)              C6H3OHCH3CH3             0.122167            \n",
      "2,6-DMP(aq)              C6H3OHCH3CH3             0.122167            \n",
      "3,4-DMP(aq)              C6H3OHCH3CH3             0.122167            \n",
      "3,5-DMP(aq)              C6H3OHCH3CH3             0.122167            \n",
      "Dodecanoate              C12H23O2-                0.199314            \n",
      "Dodecanoic-Acid(aq)      C12H24O2                 0.200321            \n",
      "Ethane(aq)               C2H6                     0.030070            \n",
      "Ethanol(aq)              C2H5OH                   0.046069            \n",
      "Ethylacetate(aq)         CH3COOCH2CH3             0.088106            \n",
      "Ethylbenzene(aq)         C6H5C2H5                 0.106167            \n",
      "Ethylene(aq)             C2H4                     0.028054            \n",
      "Ethyne(aq)               C2H2                     0.026038            \n",
      "Glutarate                C5H6O4-2                 0.130101            \n",
      "Glutaric-Acid(aq)        C5H8O4                   0.132116            \n",
      "H-Adipate                C6H9O4-                  0.145136            \n",
      "H-Azelate                C9H15O4-                 0.187216            \n",
      "H-Glutarate              C5H7O4-                  0.131109            \n",
      "H-Malonate               C3H3O4-                  0.103055            \n",
      "H-Oxalate                C2HO4-                   0.089028            \n",
      "H-Pimelate               C7H11O4-                 0.159162            \n",
      "H-Sebacate               C10H17O4-                0.201243            \n",
      "H-Suberate               C8H13O4-                 0.173189            \n",
      "H-Succinate              C4H5O4-                  0.117082            \n",
      "Heptanoate               C7H13O2-                 0.129180            \n",
      "Heptanoic-Acid(aq)       C7H14O2                  0.130187            \n",
      "Hexanoate                C6H11O2-                 0.115153            \n",
      "Hexanoic-Acid(aq)        C6H12O2                  0.116160            \n",
      "m-Toluate                C8H7O2-                  0.135143            \n",
      "m-Toluic-Acid(aq)        C8H8O2                   0.136150            \n",
      "Malonate                 C3H2O4-2                 0.102048            \n",
      "Malonic-Acid(aq)         C3H4O4                   0.104062            \n",
      "Methanol(aq)             CH3OH                    0.032042            \n",
      "n-Butane(aq)             C4H10                    0.058123            \n",
      "n-Butylbenzene(aq)       C6H5C4H9                 0.134221            \n",
      "n-Heptane(aq)            C7H16                    0.100204            \n",
      "n-Heptylbenzene(aq)      C6H5C7H15                0.176302            \n",
      "n-Hexane(aq)             C6H14                    0.086177            \n",
      "n-Hexylbenzene(aq)       C6H5C6H13                0.162275            \n",
      "n-Octane(aq)             C8H18                    0.114231            \n",
      "n-Octylbenzene(aq)       C6H5C8H17                0.190329            \n",
      "n-Pentane(aq)            C5H12                    0.072150            \n",
      "n-Pentylbenzene(aq)      C6H5C5H1                 0.148248            \n",
      "n-Propylbenzene(aq)      C6H5C3H7                 0.120194            \n",
      "Nonanoate                C9H17O2-                 0.157233            \n",
      "Nonanoic-Acid(aq)        C9H18O2                  0.158241            \n",
      "o-Toluate                C8H7O2-                  0.135143            \n",
      "o-Toluic-Acid(aq)        C8H8O2                   0.136150            \n",
      "Octanoate                C8H15O2-                 0.143206            \n",
      "Octanoic-Acid(aq)        C8H16O2                  0.144214            \n",
      "Oxalate                  C2O4-2                   0.088021            \n",
      "Oxalic-Acid(aq)          C2H2O4                   0.090035            \n",
      "p-Toluate                C8H7O2-                  0.135143            \n",
      "p-Toluic-Acid(aq)        C8H8O2                   0.136150            \n",
      "Phenol(aq)               C6H5OH                   0.094113            \n",
      "Pimelate                 C7H10O4-2                0.158155            \n",
      "Pimelic-Acid(aq)         C7H12O4                  0.160170            \n",
      "Propane(aq)              C3H8                     0.044097            \n",
      "Sebacate                 C10H16O4-2               0.200236            \n",
      "Sebacic-Acid(aq)         C10H18O4                 0.202251            \n",
      "Suberate                 C8H12O4-2                0.172182            \n",
      "Suberic-Acid(aq)         C8H14O4                  0.174197            \n",
      "Succinate                C4H4O4-2                 0.116074            \n",
      "Succinic-Acid(aq)        C4H6O4                   0.118089            \n",
      "Toluene(aq)              C6H5CH3                  0.092141            \n",
      "Undecanoate              C11H21O2-                0.185287            \n",
      "Undecanoic-Acid(aq)      C11H22O2                 0.186294            \n",
      "Acetaldehyde(aq)         CH3CHO                   0.044053            \n",
      "Butanal(aq)              CH3(CH2)2CHO             0.072107            \n",
      "Decanal(aq)              CH3(CH2)8CHO             0.156268            \n",
      "Formaldehyde(aq)         HCHO                     0.030026            \n",
      "Heptanal(aq)             CH3(CH2)5CHO             0.114188            \n",
      "Hexanal(aq)              CH3(CH2)4CHO             0.100161            \n",
      "Nonanal(aq)              CH3(CH2)7CHO             0.142241            \n",
      "Octanal(aq)              CH3(CH2)6CHO             0.128214            \n",
      "Pentanal(aq)             CH3(CH2)3CHO             0.086134            \n",
      "Propanal(aq)             CH3CH2CHO                0.058080            \n",
      "Na(Ac)(aq)               NaCH3COO                 0.082034            \n",
      "Na(Ac)2-                 Na(CH3COO)2-             0.141080            \n",
      "Ca(Ac)+                  CaCH3COO+                0.099122            \n",
      "Ca(Ac)2(aq)              Ca(CH3COO)2              0.158167            \n",
      "Lactate                  C3H5O3-                  0.089071            \n",
      "Lactic-Acid(aq)          C3H6O3                   0.090079            \n",
      "Ca(Lac)+                 CaCH3CH2OCO2+            0.129148            \n",
      "Ca(Lac)2(aq)             Ca(CH3CH2OCO2)2          0.218220            \n",
      "Na(Lac)(aq)              NaCH3CH2OCO2             0.112061            \n",
      "Na(Lac)2-                Na(CH3CH2OCO2)2-         0.201132            \n",
      "Glycolic-Acid(aq)        C2H4O3                   0.076052            \n",
      "Glycolate                C2H3O3-                  0.075045            \n",
      "Ca(Glyc)+                CaCH3OCO2+               0.115121            \n",
      "Ca(Glyc)2(aq)            Ca(CH3OCO2)2             0.190166            \n",
      "Na(Glyc)(aq)             Na(CH3OCO2)              0.098034            \n",
      "Na(Glyc)2-               Na(CH3OCO2)2-            0.173078            \n",
      "Formic-Acid(aq)          H2CO2                    0.046026            \n",
      "Formate                  HCO2-                    0.045018            \n",
      "Ca(For)+                 CaCHO2+                  0.085095            \n",
      "Ca(For)2(aq)             Ca(CHO2)2                0.130113            \n",
      "Na(For)(aq)              NaCHO2                   0.068008            \n",
      "Na(For)2-                Na(CHO2)2-               0.113026            \n",
      "Propanoic-Acid(aq)       C3H6O2                   0.074079            \n",
      "Propanoate               C3H5O2-                  0.073072            \n",
      "Ca(Prop)+                CaCH3CH2CO2+             0.113149            \n",
      "Ca(Prop)2(aq)            Ca(CH3CH2CO2)2           0.186221            \n",
      "Na(Prop)(aq)             NaCH3CH2CO2              0.096061            \n",
      "Na(Prop)2-               Na(CH3CH2CO2)2-          0.169133            \n",
      "Butanoic-Acid(aq)        C4H8O2                   0.088106            \n",
      "Butanoate                C4H7O2-                  0.087099            \n",
      "Ca(But)+                 CaCH3(CH2)2CO2+          0.127176            \n",
      "Ca(But)2(aq)             Ca(CH3CH2CH2CO2)2        0.214275            \n",
      "Na(But)(aq)              NaCH3(CH2)2CO2           0.110088            \n",
      "Na(But)2-                Na(CH3CH2CH2CO2)2-       0.197187            \n",
      "Pentanoic-Acid(aq)       C5H10O2                  0.102133            \n",
      "Pentanoate               C5H9O2-                  0.101126            \n",
      "Ca(Pent)+                CaCH3(CH2)3CO2+          0.141203            \n",
      "Ca(Pent)2(aq)            Ca(CH3CH2CH2CH2CO2)2     0.242329            \n",
      "Na(Pent)(aq)             NaCH3(CH2)3CO2           0.124115            \n",
      "Na(Pent)2-               Na(CH3CH2CH2CH2CO2)2-    0.225241            \n",
      "CH4(g)                   CH4                      0.016043            \n",
      "CO(g)                    CO                       0.028010            \n",
      "CO2(g)                   CO2                      0.044010            \n",
      "H2(g)                    H2                       0.002016            \n",
      "O2(g)                    O2                       0.031999            \n",
      "H2O(g)                   H2O                      0.018015            \n",
      "Phenol(g)                C6H5OH                   0.094113            \n",
      "o-Cresol(g)              CH3C6H4(OH)              0.108140            \n",
      "m-Cresol(g)              CH3C6H4(OH)              0.108140            \n",
      "p-Cresol(g)              CH3C6H4(OH)              0.108140            \n",
      "Ethylene(g)              C2H4                     0.028054            \n"
     ]
    }
   ],
   "source": [
    "print(f\"{len(system.species())} species found!\")\n",
    "print(\"{:<25}{:<25}{:<20}\".format(\"Name\", \"Formula\", \"Molar Mass (kg/mol)\"))\n",
    "for species in system.species():\n",
    "    print(\"{:<25}{:<25}{:<20.6f}\".format(species.name(), species.formula().str(), species.molarMass()))"
   ]
  },
  {
   "cell_type": "markdown",
   "metadata": {},
   "source": [
    "This chemical system contains many species due to the large amount of organic species included in the SUPCRTBL database. To filter them out, we can use the `exclude()` function:\n",
    "\n",
    "~~~python\n",
    "solution = AqueousPhase(speciate(\"H O Na Cl Ca C\"), exclude(\"organic\"))\n",
    "~~~"
   ]
  },
  {
   "cell_type": "markdown",
   "metadata": {},
   "source": [
    "> **Warning:** the specified species' names must coincide exactly the names they are included in [Database](https://reaktoro.org/api/classReaktoro_1_1Database.html)."
   ]
  },
  {
   "cell_type": "markdown",
   "metadata": {},
   "source": [
    "As earlier, we can specify the exact aqueous species to be considered in the phase:"
   ]
  },
  {
   "cell_type": "code",
   "execution_count": null,
   "metadata": {},
   "outputs": [],
   "source": [
    "aqueous_species = [\n",
    "    \"H2O(aq)\",\n",
    "    \"CaOH+\", \n",
    "    \"CO2(aq)\",\n",
    "    \"CO3-2\", \n",
    "    \"CaCO3(aq)\",\n",
    "    \"Ca+2\", \n",
    "    \"Cl-\",\n",
    "    \"H+\", \n",
    "    \"HCO3-\", \n",
    "    \"Na+\",\n",
    "    \"OH-\"\n",
    "]\n",
    "\n",
    "solution = AqueousPhase(aqueous_species)\n",
    "\n",
    "gas = GaseousPhase() \n",
    "\n",
    "system = ChemicalSystem(db, solution, gas)\n",
    "\n",
    "for species in system.species():\n",
    "    print(species.name())"
   ]
  },
  {
   "cell_type": "markdown",
   "metadata": {},
   "source": [
    "## Chemical system with many phases\n",
    "\n",
    "Now, let's define a chemical system with many phases and species using `cemdata18` database provided by ThermoFun, which is suitable for modeling cement chemistry. We define *an aqueous solution* with the chemical elements of interest. Since all minerals could potentially be important (e.g., minerals that could precipitate as the solution temperature is changed), we let Reaktoro to collect *all minerals* in the database whose constituting elements are found in the aqueous solution. Moreover, we show how the mineral phase can be defined as a *solid solution* (containing more than one mineral end-member)."
   ]
  },
  {
   "cell_type": "code",
   "execution_count": null,
   "metadata": {
    "scrolled": true,
    "tags": []
   },
   "outputs": [],
   "source": [
    "# Define the ThermoFun database\n",
    "db = ThermoFunDatabase(\"cemdata18\")\n",
    "\n",
    "# Define phases\n",
    "solution = AqueousPhase(speciate(\"H O Na Cl Ca Mg C Si Fe Al K S\"))\n",
    "gas = GaseousPhase()\n",
    "pureminerals = MineralPhases()\n",
    "solidsolution = MineralPhase(\"ettringite Fe-ettringite\").setName(\"SolidSolution\")\n",
    "\n",
    "# Create the chemical system\n",
    "system = ChemicalSystem(db, solution, gas, pureminerals, solidsolution)\n",
    "\n",
    "for phase in system.phases():\n",
    "    print(phase.name())\n",
    "    for species in phase.species():\n",
    "        print(\":: \" + species.name())"
   ]
  },
  {
   "cell_type": "markdown",
   "metadata": {},
   "source": [
    "**TASK 1**: 1) define a chemical system with two minerals (albite and kaolinite) and aqueous solution (allowing Reaktoro to automatically generate its content) 2) inspect, which aqueous species were selected automatically for the aqueous phase."
   ]
  },
  {
   "cell_type": "code",
   "execution_count": null,
   "metadata": {},
   "outputs": [],
   "source": [
    "# -------------------------------------- #\n",
    "# Code cell for the task\n",
    "# -------------------------------------- #"
   ]
  },
  {
   "cell_type": "markdown",
   "metadata": {},
   "source": [
    "## Chemical system for a combustion problem\n",
    "\n",
    "Let's construct a chemical system suitable for modeling the *combustion of black powder*. Black powder is composed of potassium nitrate (KNO<sub>3</sub>), charcoal (C<sub>10</sub>Ca<sub>0.026</sub>H<sub>4.774</sub>N<sub>0.039</sub>O<sub>1.234</sub>), and sulfur (S<sub>8</sub>). In the code below, we construct a [CondensedPhases](https://reaktoro.org/api/classReaktoro_1_1CondensedPhases.html) using the chemical elements above:"
   ]
  },
  {
   "cell_type": "code",
   "execution_count": null,
   "metadata": {},
   "outputs": [],
   "source": [
    "# Define the NASA-CEA database\n",
    "db = NasaDatabase(\"nasa-cea\")\n",
    "\n",
    "# Initialize condensed phases (solid or liquid substances) with given elements\n",
    "condensed = CondensedPhases(speciate(\"K N O C Ca H S\"))\n",
    "\n",
    "# Automatically select the gases based on the elements above\n",
    "gases = GaseousPhase()  \n",
    "\n",
    "# Create a chemical system\n",
    "system = ChemicalSystem(db, gases, condensed)\n",
    "\n",
    "# Output gases and condensed phases constituting the chemical system\n",
    "print(\"Gases\")\n",
    "for species in system.species():\n",
    "    if species.aggregateState() == AggregateState.Gas:\n",
    "        print(\":: \" + species.name())\n",
    "print(\"Condensed Phases\")\n",
    "for species in system.species():\n",
    "    if species.aggregateState() == AggregateState.CondensedPhase:\n",
    "        print(\":: \" + species.name())"
   ]
  },
  {
   "cell_type": "markdown",
   "metadata": {
    "tags": []
   },
   "source": [
    "> **Note**: by including as many gases and condensed phases as possible, Reaktoro will be able to determine those that may appear (find positive amounts for them) after burning black powder. For example, K<sub>2</sub>S(cd), K<sub>2</sub>SO<sub>4</sub>(cd) and CaS(cd) are typically formed in the combustion process. By including them in the definition of the chemical system, the chemical equilibrium solver will be able to find positive amounts for them (i.e., the solver will identify these condensed phases as stable in equilibrium).\n"
   ]
  },
  {
   "cell_type": "markdown",
   "metadata": {},
   "source": [
    "**TASK 2**: check how many phases and species are collected in the chemical system."
   ]
  },
  {
   "cell_type": "code",
   "execution_count": null,
   "metadata": {},
   "outputs": [],
   "source": [
    "# -------------------------------------- #\n",
    "# Code cell for the task\n",
    "# -------------------------------------- #"
   ]
  }
 ],
 "metadata": {
  "interpreter": {
   "hash": "e4e8b2f3ae27709963f14fd23a6560d362beea55eaec742263828e04d814e23c"
  },
  "kernelspec": {
   "display_name": "Python 3 (ipykernel)",
   "language": "python",
   "name": "python3"
  },
  "language_info": {
   "codemirror_mode": {
    "name": "ipython",
    "version": 3
   },
   "file_extension": ".py",
   "mimetype": "text/x-python",
   "name": "python",
   "nbconvert_exporter": "python",
   "pygments_lexer": "ipython3",
   "version": "3.9.7"
  }
 },
 "nbformat": 4,
 "nbformat_minor": 4
}