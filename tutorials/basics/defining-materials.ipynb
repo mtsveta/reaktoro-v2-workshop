{
 "cells": [
  {
   "cell_type": "markdown",
   "metadata": {},
   "source": [
    "# Defining materials\n",
    "\n",
    "When performing chemical equilibrium or chemical kinetics calculations, an **initial chemical state** is required. In most cases, you should be able to construct an initial state in terms of *given amounts of chemical species in the system* using the [ChemicalState](https://reaktoro.org/api/classReaktoro_1_1ChemicalState.html) class. However, this may not always be convenient or possible for the user. The [Material](https://reaktoro.org/api/classReaktoro_1_1Material.html) class offers an alternative way to define an initial chemical state."
   ]
  },
  {
   "cell_type": "markdown",
   "metadata": {},
   "source": [
    "## An initial chemical state not so conveniently defined\n",
    "\n",
    "Consider an **aqueous solution** given by the following *recipe*: \n",
    "* 1 molal NaCl, \n",
    "* 0.1 molal CaCl<sub>2</sub>, \n",
    "* 0.05 molal MgCl<sub>2</sub> and \n",
    "* 0.1 molal CO<sub>2</sub>. \n",
    "\n",
    "Consider a **rock** with the following mass composition: \n",
    "* 80%<sub>kg</sub> quartz (SiO<sub>2</sub>) and \n",
    "* 20%<sub>kg</sub> calcite (CaCO<sub>3</sub>). \n",
    "\n",
    "Mix 1 kg of this *aqueous solution* with 10 g of *rock* and find the chemical equilibrium state of the system at 60°C and 15 bar.\n",
    "\n",
    "We start with the definition of a suitable chemical system to model this problem:"
   ]
  },
  {
   "cell_type": "code",
   "execution_count": null,
   "metadata": {},
   "outputs": [],
   "source": [
    "from reaktoro import *\n",
    "\n",
    "db = PhreeqcDatabase(\"phreeqc.dat\")\n",
    "\n",
    "solution = AqueousPhase()\n",
    "solution.setActivityModel(ActivityModelPitzerHMW())\n",
    "\n",
    "minerals = MineralPhases(\"Halite Calcite Dolomite Quartz\")\n",
    "\n",
    "system = ChemicalSystem(db, solution, minerals)"
   ]
  },
  {
   "cell_type": "markdown",
   "metadata": {},
   "source": [
    "**TASK 1**: inspect, which aqueous species were selected automatically based on the chemical elements composing the explicitly listed minerals."
   ]
  },
  {
   "cell_type": "code",
   "execution_count": null,
   "metadata": {
    "collapsed": false,
    "jupyter": {
     "outputs_hidden": false
    },
    "pycharm": {
     "name": "#%%\n"
    }
   },
   "outputs": [],
   "source": [
    "# -------------------------------------- #\n",
    "# Code cell for the task\n",
    "# -------------------------------------- #"
   ]
  },
  {
   "cell_type": "markdown",
   "metadata": {},
   "source": [
    "Next, we create an initial chemical state containing 1 kg of aqueous solution and 10 g of rock:"
   ]
  },
  {
   "cell_type": "code",
   "execution_count": null,
   "metadata": {},
   "outputs": [],
   "source": [
    "state = ChemicalState(system)\n",
    "\n",
    "# Set initial brine composition\n",
    "state.set(\"H2O\" , 1.00, \"kg\")\n",
    "state.set(\"Na+\" , 1.00, \"mol\")\n",
    "state.set(\"Ca+2\", 0.10, \"mol\")\n",
    "state.set(\"Mg+2\", 0.05, \"mol\")\n",
    "state.set(\"Cl-\" , 1.30, \"mol\") # = 1.0 + 2*0.1 + 2*0.05\n",
    "state.set(\"CO2\" , 0.10, \"mol\")\n",
    "\n",
    "# Set initial rock composition\n",
    "state.set(\"Quartz\",  80.0, \"g\")\n",
    "state.set(\"Calcite\", 20.0, \"g\")\n",
    "\n",
    "# Scale fluid and solid masses to 1 kg and 10 g, respectively\n",
    "state.scaleFluidMass(1.0, \"kg\")\n",
    "state.scaleSolidMass(10.0, \"g\")"
   ]
  },
  {
   "cell_type": "markdown",
   "metadata": {},
   "source": [
    "While defining this initial chemical state, we need:\n",
    "\n",
    "* to specify amounts for ions `Na+`, `Ca+2`, and `Mg+2` that reflect the desired molality of NaCl, CaCl<sub>2</sub>, and MgCl<sub>2</sub>,\n",
    "* to specify an amount for `Cl-` that produces zero electric charge in the solution,\n",
    "* to provide species names exactly how they exist in the database instead of chemical formulas (e.g., names `Quartz` and `Calcite` instead of formulas `SiO2` and `CaCO3`), and\n",
    "* to scale the mass of fluid and solids in the chemical state.\n",
    "\n",
    "Let's now equilibrate this state at 60 °C and 15 bar:"
   ]
  },
  {
   "cell_type": "code",
   "execution_count": null,
   "metadata": {
    "scrolled": true,
    "tags": []
   },
   "outputs": [],
   "source": [
    "state.temperature(60.0, \"celsius\")\n",
    "state.pressure(15.0, \"bar\")\n",
    "\n",
    "equilibrate(state)\n",
    "\n",
    "print(state)"
   ]
  },
  {
   "cell_type": "markdown",
   "metadata": {},
   "source": [
    "## Simplifying with class Material\n",
    "\n",
    "The same result can be obtained with the class [Material](https://reaktoro.org/api/classReaktoro_1_1Material.html):"
   ]
  },
  {
   "cell_type": "code",
   "execution_count": null,
   "metadata": {
    "pycharm": {
     "name": "#%%\n"
    },
    "scrolled": true,
    "tags": []
   },
   "outputs": [],
   "source": [
    "brine = Material(system)\n",
    "brine.add(\"H2O\"  , 1.00, \"kg\")\n",
    "brine.add(\"NaCl\" , 1.00, \"mol\")\n",
    "brine.add(\"CaCl2\", 0.10, \"mol\")\n",
    "brine.add(\"MgCl2\", 0.05, \"mol\")\n",
    "brine.add(\"CO2\"  , 0.10, \"mol\")\n",
    "\n",
    "rock = Material(system)\n",
    "rock.add(\"SiO2\",  80.0, \"g\")\n",
    "rock.add(\"CaCO3\", 20.0, \"g\")\n",
    "\n",
    "mix = brine(1.0, \"kg\") + rock(10.0, \"g\")\n",
    "\n",
    "state = mix.equilibrate(60, \"celsius\", 15, \"bar\")\n",
    "\n",
    "print(state)"
   ]
  },
  {
   "cell_type": "markdown",
   "metadata": {},
   "source": [
    "**TASK 2**: check if the obtained states are indeed the same."
   ]
  }
 ],
 "metadata": {
  "interpreter": {
   "hash": "e4e8b2f3ae27709963f14fd23a6560d362beea55eaec742263828e04d814e23c"
  },
  "kernelspec": {
   "display_name": "Python 3 (ipykernel)",
   "language": "python",
   "name": "python3"
  },
  "language_info": {
   "codemirror_mode": {
    "name": "ipython",
    "version": 3
   },
   "file_extension": ".py",
   "mimetype": "text/x-python",
   "name": "python",
   "nbconvert_exporter": "python",
   "pygments_lexer": "ipython3",
   "version": "3.9.7"
  }
 },
 "nbformat": 4,
 "nbformat_minor": 4
}
