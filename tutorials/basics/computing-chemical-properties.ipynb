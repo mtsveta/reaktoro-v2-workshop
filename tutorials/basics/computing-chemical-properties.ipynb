{
 "cells": [
  {
   "cell_type": "markdown",
   "metadata": {},
   "source": [
    "# Computing chemical properties\n",
    "\n",
    "So far, we have gained an understanding of how to work with [ChemicalSystem](https://reaktoro.org/api/classReaktoro_1_1ChemicalSystem.html) and [ChemicalState](https://reaktoro.org/api/classReaktoro_1_1ChemicalState.html). Below, we continue learning to evaluate *thermodynamic and chemical properties of the system, its phases, and constituting species* using class [ChemicalProps](https://reaktoro.org/api/classReaktoro_1_1ChemicalProps.html).\n",
    "\n",
    "Let's start with a simple chemical system containing a single aqueous phase and chemical state representing a 1 molal NaCl solution with 0.7 molal dissolved CO<sub>2</sub>:"
   ]
  },
  {
   "cell_type": "code",
   "execution_count": null,
   "metadata": {},
   "outputs": [],
   "source": [
    "from reaktoro import *\n",
    "\n",
    "db = PhreeqcDatabase(\"phreeqc.dat\")\n",
    "\n",
    "solution = AqueousPhase(speciate(\"H O Na Cl C\"))\n",
    "# HINT: solution.setActivityModel(ActivityModelPitzerHMW())\n",
    "\n",
    "system = ChemicalSystem(db, solution)\n",
    "\n",
    "state = ChemicalState(system)\n",
    "state.temperature(60.0, \"celsius\")\n",
    "state.pressure(15.0, \"atm\")\n",
    "state.set(\"H2O\", 1.0, \"kg\")\n",
    "state.set(\"Na+\", 1.0, \"mol\")\n",
    "state.set(\"Cl-\", 1.0, \"mol\")\n",
    "state.set(\"CO2\", 0.7, \"mol\")\n",
    "\n",
    "equilibrate(state)\n",
    "\n",
    "print(state)"
   ]
  },
  {
   "cell_type": "markdown",
   "metadata": {
    "tags": [
     "output_scroll"
    ]
   },
   "source": [
    "> **Note**: Above, we use a convenience method [equilibrate](https://reaktoro.org/api/namespaceReaktoro.html#a286e2972325304934d631234abef9e87) to quickly bring the [ChemicalState](https://reaktoro.org/api/classReaktoro_1_1ChemicalState.html) object `state` into a state of chemical equilibrium. It is implemented for the case when the Gibbs energy minimization has to be performed once. However, for the *sequence of chemical equilibrium calculations*, we recommend using [EquilibriumSolver](https://reaktoro.org/api/classReaktoro_1_1EquilibriumSolver.html) class, which\n",
    "> * improves the performance (avoiding initialization of new equilibrium solver at each call of `equilibrate`)\n",
    "> * add flexibility to enforce different equilibrium constraints at equilibrium (e.g., fixed pH, pE, Eh, gas fugacity, enthalpy, internal energy, volume, etc.) in combination classes [EquilibriumSpecs](https://reaktoro.org/api/classReaktoro_1_1EquilibriumSpecs.html) and [EquilibriumConditions](https://reaktoro.org/api/classReaktoro_1_1EquilibriumConditions.html).\n",
    "\n",
    "Generally speaking, computing chemical properties of [ChemicalSystem](https://reaktoro.org/api/classReaktoro_1_1ChemicalSystem.html) objects is a task for class [ChemicalProps](https://reaktoro.org/api/classReaktoro_1_1ChemicalProps.html)."
   ]
  },
  {
   "cell_type": "code",
   "execution_count": null,
   "metadata": {
    "scrolled": true,
    "tags": [
     "output_scroll"
    ]
   },
   "outputs": [],
   "source": [
    "props = ChemicalProps(state)\n",
    "print(props)"
   ]
  },
  {
   "cell_type": "markdown",
   "metadata": {},
   "source": [
    "> **Note**: `ActivityCoefficients` above are all set to 1.0, since all phases in chemical system are assigned with **ideal activity models** by default.\n",
    "\n",
    "For comparison, we reconstruct the [ChemicalSystem](https://reaktoro.org/api/classReaktoro_1_1ChemicalSystem.html) with *Pitzer's activity model* for aqueous phase and activity model based on *Peng-Robinson's equation of state* for the gaseous phase as well as reevaluate chemical state and its properties:"
   ]
  },
  {
   "cell_type": "code",
   "execution_count": null,
   "metadata": {
    "scrolled": true,
    "tags": [
     "output_scroll"
    ]
   },
   "outputs": [],
   "source": [
    "solution = AqueousPhase(speciate(\"H O Na Cl C Ca Si\"))\n",
    "solution.setActivityModel(ActivityModelPitzerHMW())\n",
    "\n",
    "gases = GaseousPhase()\n",
    "gases.setActivityModel(ActivityModelPengRobinson())\n",
    "\n",
    "minerals = MineralPhases()\n",
    "\n",
    "system = ChemicalSystem(db, solution, gases, minerals)\n",
    "\n",
    "state = ChemicalState(system)\n",
    "state.temperature(60.0, \"celsius\")\n",
    "state.pressure(15.0, \"atm\")\n",
    "state.set(\"H2O\"    , 1.0, \"kg\")\n",
    "state.set(\"Na+\"    , 1.0, \"mol\")\n",
    "state.set(\"Cl-\"    , 1.0, \"mol\")\n",
    "state.set(\"CO2\"    , 0.7, \"mol\")\n",
    "state.set(\"Calcite\", 1.0, \"g\")\n",
    "state.set(\"Quartz\" , 1.0, \"g\")\n",
    "\n",
    "equilibrate(state)\n",
    "\n",
    "# Chemical properties can be also fetched from the chemical state as they get updated at the end of the optimization algorithm\n",
    "props = state.props()\n",
    "\n",
    "print(props)"
   ]
  },
  {
   "cell_type": "markdown",
   "metadata": {},
   "source": [
    "The results displayed above should now be a little more interesting.\n",
    "\n",
    "> **Note**: chemical properties can be also accessed by `state.props()` as they are being evaluated at the end of the minimization algorithm run in the `equilibrate()` method.\n",
    "\n",
    "Now consider a scenario where the chemical state has changed, for example, 1 mol of NaCl has been added to it and the temperature has increased by 10 °C. The chemical properties of the system must then be updated as shown below:"
   ]
  },
  {
   "cell_type": "code",
   "execution_count": null,
   "metadata": {
    "scrolled": true,
    "tags": [
     "output_scroll"
    ]
   },
   "outputs": [],
   "source": [
    "state.temperature(70.0, \"celsius\")\n",
    "state.add(\"Na+\", 1.0, \"mol\")\n",
    "state.add(\"Cl-\", 1.0, \"mol\")\n",
    "\n",
    "props.update(state)\n",
    "\n",
    "print(props)"
   ]
  },
  {
   "cell_type": "markdown",
   "metadata": {},
   "source": [
    "The printed table above shows a long list of properties. Below, we use some methods from class [ChemicalProps](https://reaktoro.org/api/classReaktoro_1_1ChemicalProps.html) to retrieve specific properties for the system, its phases, and its species:"
   ]
  },
  {
   "cell_type": "code",
   "execution_count": null,
   "metadata": {
    "pycharm": {
     "name": "#%%\n"
    }
   },
   "outputs": [],
   "source": [
    "print(f\"SYSTEM'S TEMPERATURE     : {props.temperature()                        } K    \")\n",
    "print(f\"AQUEOUS PHASE'S DENSITY  : {props.phaseProps('AqueousPhase').density() } kg/m3\")\n",
    "print(f\"AQUEOUS PHASE'S ENTHALPY : {props.phaseProps('AqueousPhase').enthalpy()} J/mol\")\n",
    "print(f\"GASEOUS PHASE'S DENSITY  : {props.phaseProps('GaseousPhase').density() } kg/m3\")\n",
    "print(f\"GASEOUS PHASE'S ENTHALPY : {props.phaseProps('GaseousPhase').enthalpy()} J/mol\")\n",
    "print(f\"ACTIVITY H+              : {props.speciesActivity('H+')                }      \")\n",
    "print(f\"ACTIVITY H+ (LOG10)      : {props.speciesActivityLg('H+')              }      \")\n",
    "print(f\"ACTIVITY COEFF. CO2      : {props.speciesActivityCoefficient('CO2')    }      \")\n",
    "print(f\"FUGACITY COEFF. CO2(g)   : {props.speciesActivityCoefficient('CO2(g)') }      \")"
   ]
  },
  {
   "cell_type": "markdown",
   "metadata": {},
   "source": [
    "**TASK**: using [API of the ChemicalProps](https://reaktoro.org/api/classReaktoro_1_1ChemicalProps.html) class, print out the following properties of the system:\n",
    "* pressure and volume\n",
    "* aqueous phase's mass and volume\n",
    "* aqueous phase's mass and volume\n",
    "* activity coefficient of species `HCO3-`\n",
    "* fugacity coefficient of `H2O(g)` and `O2(g)` gases"
   ]
  },
  {
   "cell_type": "code",
   "execution_count": null,
   "metadata": {},
   "outputs": [],
   "source": [
    "# -------------------------------------- #\n",
    "# Code cell for the task\n",
    "# -------------------------------------- #"
   ]
  }
 ],
 "metadata": {
  "interpreter": {
   "hash": "e4e8b2f3ae27709963f14fd23a6560d362beea55eaec742263828e04d814e23c"
  },
  "kernelspec": {
   "display_name": "Python 3 (ipykernel)",
   "language": "python",
   "name": "python3"
  },
  "language_info": {
   "codemirror_mode": {
    "name": "ipython",
    "version": 3
   },
   "file_extension": ".py",
   "mimetype": "text/x-python",
   "name": "python",
   "nbconvert_exporter": "python",
   "pygments_lexer": "ipython3",
   "version": "3.9.7"
  }
 },
 "nbformat": 4,
 "nbformat_minor": 4
}