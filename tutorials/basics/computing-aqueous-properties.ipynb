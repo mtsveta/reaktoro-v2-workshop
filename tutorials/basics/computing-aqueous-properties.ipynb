{
 "cells": [
  {
   "cell_type": "markdown",
   "metadata": {},
   "source": [
    "# Computing aqueous properties\n",
    "\n",
    "To obtain specific properties of the aqueous phase, such as **pH, pE, Eh, ionic strength, molalities**, the [AqueousProps](https://reaktoro.org/api/classReaktoro_1_1AqueousProps.html) class must be used.\n",
    "\n",
    "We demonstrate its use below:"
   ]
  },
  {
   "cell_type": "code",
   "execution_count": null,
   "metadata": {
    "scrolled": true,
    "tags": []
   },
   "outputs": [],
   "source": [
    "from reaktoro import *\n",
    "\n",
    "db = PhreeqcDatabase(\"phreeqc.dat\")\n",
    "\n",
    "solution = AqueousPhase(speciate(\"H O Na Cl C Ca Si\"))\n",
    "solution.setActivityModel(ActivityModelPitzerHMW())\n",
    "\n",
    "gases = GaseousPhase(\"CO2(g) H2O(g)\")\n",
    "gases.setActivityModel(ActivityModelPengRobinson())\n",
    "\n",
    "minerals = MineralPhases()\n",
    "\n",
    "system = ChemicalSystem(db, solution, gases, minerals)\n",
    "\n",
    "state = ChemicalState(system)\n",
    "state.temperature(60.0, \"celsius\")\n",
    "state.pressure(15.0, \"atm\")\n",
    "state.set(\"H2O\"    , 1.0, \"kg\")\n",
    "state.set(\"Na+\"    , 1.0, \"mol\")\n",
    "state.set(\"Cl-\"    , 1.0, \"mol\")\n",
    "state.set(\"CO2\"    , 0.7, \"mol\")\n",
    "state.set(\"Calcite\", 1.0, \"g\")\n",
    "state.set(\"Quartz\" , 1.0, \"g\")\n",
    "\n",
    "equilibrate(state)\n",
    "print(state)"
   ]
  },
  {
   "cell_type": "markdown",
   "metadata": {},
   "source": [
    "To evaluate and inspect aqueous properties, we use [AqueousProps](https://reaktoro.org/api/classReaktoro_1_1AqueousProps.html) class:"
   ]
  },
  {
   "cell_type": "code",
   "execution_count": null,
   "metadata": {
    "scrolled": true,
    "tags": []
   },
   "outputs": [],
   "source": [
    "aprops = AqueousProps(state)\n",
    "print(aprops)"
   ]
  },
  {
   "cell_type": "markdown",
   "metadata": {},
   "source": [
    "**TASK 1:** add another 1 mol of table salt to the chemical state and inspect and inspect the change in the aqueous properties."
   ]
  },
  {
   "cell_type": "code",
   "execution_count": null,
   "metadata": {
    "collapsed": false,
    "jupyter": {
     "outputs_hidden": false
    },
    "pycharm": {
     "name": "#%%\n"
    },
    "scrolled": true,
    "tags": []
   },
   "outputs": [],
   "source": [
    "# -------------------------------------- #\n",
    "# Code cell for the task\n",
    "# -------------------------------------- #"
   ]
  },
  {
   "cell_type": "markdown",
   "metadata": {},
   "source": [
    "**TASK 2:** after inspecting methods from class [AqueousProps](https://reaktoro.org/api/classReaktoro_1_1AqueousProps.html) retrieve the following aqueous properties:\n",
    "* pH, pE, Eh, ionic strength\n",
    "* molalities of element C, Ca,\n",
    "* molalities of species CO2, Na+\n",
    "* saturation index of Halite mineral\n",
    "* saturation index of CO2(g)"
   ]
  },
  {
   "cell_type": "code",
   "execution_count": null,
   "metadata": {
    "pycharm": {
     "name": "#%%\n"
    }
   },
   "outputs": [],
   "source": [
    "# -------------------------------------- #\n",
    "# Code cell for the task\n",
    "# -------------------------------------- #"
   ]
  }
 ],
 "metadata": {
  "interpreter": {
   "hash": "e4e8b2f3ae27709963f14fd23a6560d362beea55eaec742263828e04d814e23c"
  },
  "kernelspec": {
   "display_name": "Python 3 (ipykernel)",
   "language": "python",
   "name": "python3"
  },
  "language_info": {
   "codemirror_mode": {
    "name": "ipython",
    "version": 3
   },
   "file_extension": ".py",
   "mimetype": "text/x-python",
   "name": "python",
   "nbconvert_exporter": "python",
   "pygments_lexer": "ipython3",
   "version": "3.9.7"
  }
 },
 "nbformat": 4,
 "nbformat_minor": 4
}