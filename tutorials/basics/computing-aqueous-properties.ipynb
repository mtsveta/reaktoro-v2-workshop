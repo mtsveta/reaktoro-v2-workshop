{
 "cells": [
  {
   "cell_type": "markdown",
   "metadata": {},
   "source": [
    "# Computing aqueous properties\n",
    "\n",
    "To obtain specific properties of aqueous phase, such as pH, pE, Eh, ionic strength, molalities, the [AqueousProps](https://reaktoro.org/api/classReaktoro_1_1AqueousProps.html) class must be used.\n",
    "\n",
    "We demonstrate its use below:"
   ]
  },
  {
   "cell_type": "code",
   "execution_count": 1,
   "metadata": {},
   "outputs": [
    {
     "name": "stdout",
     "output_type": "stream",
     "text": [
      "+-----------------------------------+------------+-------+\n",
      "| Property                          |      Value |  Unit |\n",
      "+-----------------------------------+------------+-------+\n",
      "| Temperature                       |   333.1500 |     K |\n",
      "| Pressure                          |    15.1988 |   bar |\n",
      "| Ionic Strength (Effective)        |     1.0263 | molal |\n",
      "| Ionic Strength (Stoichiometric)   |     1.0292 | molal |\n",
      "| pH                                |     4.9176 |       |\n",
      "| pE                                |    -0.5028 |       |\n",
      "| Eh                                |    -0.0332 |     V |\n",
      "| Element Molality:                 |            |       |\n",
      "| :: C                              | 2.1424e-01 | molal |\n",
      "| :: Na                             | 1.0004e+00 | molal |\n",
      "| :: Si                             | 2.8155e-04 | molal |\n",
      "| :: Cl                             | 1.0004e+00 | molal |\n",
      "| :: Ca                             | 9.9945e-03 | molal |\n",
      "| Species Molality:                 |            |       |\n",
      "| :: CO3-2                          | 6.4481e-07 | molal |\n",
      "| :: H+                             | 1.5051e-05 | molal |\n",
      "| :: CO2                            | 1.9424e-01 | molal |\n",
      "| :: (CO2)2                         | 1.0004e-16 | molal |\n",
      "| :: HCO3-                          | 1.6442e-02 | molal |\n",
      "| :: CH4                            | 1.0004e-16 | molal |\n",
      "| :: Ca+2                           | 9.4377e-03 | molal |\n",
      "| :: CaCO3                          | 3.9717e-07 | molal |\n",
      "| :: CaHCO3+                        | 5.5643e-04 | molal |\n",
      "| :: CaOH+                          | 4.6059e-11 | molal |\n",
      "| :: Cl-                            | 1.0004e+00 | molal |\n",
      "| :: H2                             | 1.0004e-16 | molal |\n",
      "| :: H4SiO4                         | 2.8153e-04 | molal |\n",
      "| :: H2SiO4-2                       | 1.1055e-14 | molal |\n",
      "| :: H3SiO4-                        | 2.0567e-08 | molal |\n",
      "| :: Na+                            | 9.9737e-01 | molal |\n",
      "| :: NaCO3-                         | 7.5617e-06 | molal |\n",
      "| :: NaHCO3                         | 2.9885e-03 | molal |\n",
      "| :: OH-                            | 1.3304e-08 | molal |\n",
      "| :: NaOH                           | 1.0004e-16 | molal |\n",
      "| :: O2                             | 1.0004e-16 | molal |\n",
      "| Saturation Indices (log base 10): |            |       |\n",
      "| :: H2(g)                          |   -10.1580 |     - |\n",
      "| :: O2(g)                          |   -56.1834 |     - |\n",
      "| :: CH4(g)                         |   -14.1826 |     - |\n",
      "| :: H2O(g)                         |     0.0000 |     - |\n",
      "| :: CO2(g)                         |     0.0000 |     - |\n",
      "| :: Aragonite :: CaCO3             |    -1.4245 |     - |\n",
      "| :: Chalcedony :: SiO2             |    -0.3316 |     - |\n",
      "| :: Halite :: NaCl                 |    -1.9594 |     - |\n",
      "| :: Calcite :: CaCO3               |    -1.3039 |     - |\n",
      "| :: Quartz :: SiO2                 |     0.0000 |     - |\n",
      "| :: SiO2(a)                        |    -1.0599 |     - |\n",
      "+-----------------------------------+------------+-------+\n"
     ]
    }
   ],
   "source": [
    "from reaktoro import *\n",
    "\n",
    "db = PhreeqcDatabase(\"phreeqc.dat\")\n",
    "\n",
    "solution = AqueousPhase(speciate(\"H O Na Cl C Ca Si\"))\n",
    "solution.setActivityModel(ActivityModelPitzerHMW())\n",
    "\n",
    "gases = GaseousPhase(\"CO2(g) H2O(g)\")\n",
    "gases.setActivityModel(ActivityModelPengRobinson())\n",
    "\n",
    "minerals = MineralPhases()\n",
    "\n",
    "system = ChemicalSystem(db, solution, gases, minerals)\n",
    "\n",
    "state = ChemicalState(system)\n",
    "state.temperature(60.0, \"celsius\")\n",
    "state.pressure(15.0, \"atm\")\n",
    "state.set(\"H2O\"    , 1.0, \"kg\")\n",
    "state.set(\"Na+\"    , 1.0, \"mol\")\n",
    "state.set(\"Cl-\"    , 1.0, \"mol\")\n",
    "state.set(\"CO2\"    , 0.7, \"mol\")\n",
    "state.set(\"Calcite\", 1.0, \"g\")\n",
    "state.set(\"Quartz\" , 1.0, \"g\")\n",
    "\n",
    "equilibrate(state)\n",
    "\n",
    "aprops = AqueousProps(state)\n",
    "\n",
    "print(aprops)"
   ]
  },
  {
   "cell_type": "markdown",
   "source": [
    "**TASK 1:** add another 1 mol of table salt to the chemical state and inspect and inspect the change in the aqueous properties."
   ],
   "metadata": {
    "collapsed": false
   }
  },
  {
   "cell_type": "code",
   "execution_count": 2,
   "outputs": [
    {
     "name": "stdout",
     "output_type": "stream",
     "text": [
      "+-----------------------------------+------------+-------+\n",
      "| Property                          |      Value |  Unit |\n",
      "+-----------------------------------+------------+-------+\n",
      "| Temperature                       |   333.1500 |     K |\n",
      "| Pressure                          |    15.1988 |   bar |\n",
      "| Ionic Strength (Effective)        |     4.0273 | molal |\n",
      "| Ionic Strength (Stoichiometric)   |     4.0303 | molal |\n",
      "| pH                                |     4.5414 |       |\n",
      "| pE                                |    -0.2735 |       |\n",
      "| Eh                                |    -0.0181 |     V |\n",
      "| Element Molality:                 |            |       |\n",
      "| :: C                              | 2.1424e-01 | molal |\n",
      "| :: Na                             | 4.0015e+00 | molal |\n",
      "| :: Si                             | 2.8155e-04 | molal |\n",
      "| :: Cl                             | 4.0015e+00 | molal |\n",
      "| :: Ca                             | 9.9945e-03 | molal |\n",
      "| Species Molality:                 |            |       |\n",
      "| :: CO3-2                          | 6.4481e-07 | molal |\n",
      "| :: H+                             | 1.5051e-05 | molal |\n",
      "| :: CO2                            | 1.9424e-01 | molal |\n",
      "| :: (CO2)2                         | 1.0004e-16 | molal |\n",
      "| :: HCO3-                          | 1.6442e-02 | molal |\n",
      "| :: CH4                            | 1.0004e-16 | molal |\n",
      "| :: Ca+2                           | 9.4377e-03 | molal |\n",
      "| :: CaCO3                          | 3.9717e-07 | molal |\n",
      "| :: CaHCO3+                        | 5.5643e-04 | molal |\n",
      "| :: CaOH+                          | 4.6059e-11 | molal |\n",
      "| :: Cl-                            | 4.0015e+00 | molal |\n",
      "| :: H2                             | 1.0004e-16 | molal |\n",
      "| :: H4SiO4                         | 2.8153e-04 | molal |\n",
      "| :: H2SiO4-2                       | 1.1055e-14 | molal |\n",
      "| :: H3SiO4-                        | 2.0567e-08 | molal |\n",
      "| :: Na+                            | 3.9985e+00 | molal |\n",
      "| :: NaCO3-                         | 7.5617e-06 | molal |\n",
      "| :: NaHCO3                         | 2.9885e-03 | molal |\n",
      "| :: OH-                            | 1.3304e-08 | molal |\n",
      "| :: NaOH                           | 1.0004e-16 | molal |\n",
      "| :: O2                             | 1.0004e-16 | molal |\n",
      "| Saturation Indices (log base 10): |            |       |\n",
      "| :: H2(g)                          |   -10.2384 |     - |\n",
      "| :: O2(g)                          |   -56.1356 |     - |\n",
      "| :: CH4(g)                         |   -14.1826 |     - |\n",
      "| :: H2O(g)                         |    -0.0565 |     - |\n",
      "| :: CO2(g)                         |     0.2085 |     - |\n",
      "| :: Aragonite :: CaCO3             |    -1.4894 |     - |\n",
      "| :: Chalcedony :: SiO2             |    -0.2186 |     - |\n",
      "| :: Halite :: NaCl                 |    -0.5832 |     - |\n",
      "| :: Calcite :: CaCO3               |    -1.3688 |     - |\n",
      "| :: Quartz :: SiO2                 |     0.1130 |     - |\n",
      "| :: SiO2(a)                        |    -0.9470 |     - |\n",
      "+-----------------------------------+------------+-------+\n"
     ]
    }
   ],
   "source": [
    "# -------------------------------------- #\n",
    "# Code cell for the task\n",
    "# -------------------------------------- #\n",
    "state.add(\"Na+\", 3.0, \"mol\")\n",
    "state.add(\"Cl-\", 3.0, \"mol\")\n",
    "\n",
    "aprops.update(state)\n",
    "\n",
    "print(aprops)"
   ],
   "metadata": {
    "collapsed": false,
    "pycharm": {
     "name": "#%%\n"
    }
   }
  },
  {
   "cell_type": "markdown",
   "metadata": {},
   "source": [
    "**TASK 2:** inspect some methods from class [AqueousProps](https://reaktoro.org/api/classReaktoro_1_1AqueousProps.html) to retrieve specific aqueous properties:"
   ]
  },
  {
   "cell_type": "code",
   "execution_count": 4,
   "metadata": {
    "pycharm": {
     "name": "#%%\n"
    }
   },
   "outputs": [
    {
     "name": "stdout",
     "output_type": "stream",
     "text": [
      "pH                              : 4.54143      \n",
      "pE                              : -0.273539      \n",
      "Eh                              : -0.018082 V    \n",
      "IONIC STRENGTH (EFFECTIVE)      : 4.02734 molal\n",
      "IONIC STRENGTH (STOICHIOMETRIC) : 4.03033 molal\n",
      "MOLALITY OF ELEMENT C           : 0.21424 molal\n",
      "MOLALITY OF ELEMENT Ca          : 0.00999453 molal\n",
      "MOLALITY OF AQUEOUS SPECIES CO2 : 0.194244 molal\n",
      "MOLALITY OF AQUEOUS SPECIES Na+ : 3.99846 molal\n",
      "SI Halite                       : -0.583244      \n"
     ]
    }
   ],
   "source": [
    "# -------------------------------------- #\n",
    "# Code cell for the task\n",
    "# -------------------------------------- #\n",
    "print(f\"pH                              : {aprops.pH()                         }      \")\n",
    "print(f\"pE                              : {aprops.pE()                         }      \")\n",
    "print(f\"Eh                              : {aprops.Eh()                         } V    \")\n",
    "print(f\"IONIC STRENGTH (EFFECTIVE)      : {aprops.ionicStrengthEffective()     } molal\")\n",
    "print(f\"IONIC STRENGTH (STOICHIOMETRIC) : {aprops.ionicStrengthStoichiometric()} molal\")\n",
    "print(f\"MOLALITY OF ELEMENT C           : {aprops.elementMolality('C')         } molal\")\n",
    "print(f\"MOLALITY OF ELEMENT Ca          : {aprops.elementMolality('Ca')        } molal\")\n",
    "print(f\"MOLALITY OF AQUEOUS SPECIES CO2 : {aprops.speciesMolality('CO2')       } molal\")\n",
    "print(f\"MOLALITY OF AQUEOUS SPECIES Na+ : {aprops.speciesMolality('Na+')       } molal\")\n",
    "print(f\"SI Halite                       : {aprops.saturationIndexLg('Halite')  }      \")\n"
   ]
  }
 ],
 "metadata": {
  "interpreter": {
   "hash": "e4e8b2f3ae27709963f14fd23a6560d362beea55eaec742263828e04d814e23c"
  },
  "kernelspec": {
   "display_name": "Python 3.9.7 64-bit ('reaktoro-jupyter-book': conda)",
   "language": "python",
   "name": "python3"
  },
  "language_info": {
   "codemirror_mode": {
    "name": "ipython",
    "version": 3
   },
   "file_extension": ".py",
   "mimetype": "text/x-python",
   "name": "python",
   "nbconvert_exporter": "python",
   "pygments_lexer": "ipython3",
   "version": "3.9.10"
  },
  "orig_nbformat": 4
 },
 "nbformat": 4,
 "nbformat_minor": 2
}