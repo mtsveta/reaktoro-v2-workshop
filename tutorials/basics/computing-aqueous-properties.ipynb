{
 "cells": [
  {
   "cell_type": "markdown",
   "metadata": {},
   "source": [
    "# Computing aqueous properties\n",
    "\n",
    "<p class=\"acknowledgement\">Written by Allan Leal (ETH Zurich) on Jan 4th, 2022</p>\n",
    "\n",
    "If you are interested in aqueous solutions of electrolytes, you are probably wondering why there are no methods in the {{ChemicalProps}} class to obtain pH, pE, Eh, ionic strength, molalities, and other aqueous properties.\n",
    "\n",
    "{{ChemicalProps}} is a class that stores general thermodynamic and chemical properties for systems, their phases and species. Reaktoro does not assume that you always have an aqueous phase in your chemical system. So it wouldn't make sense to have specific aqueous properties on {{ChemicalProps}}.\n",
    "\n",
    "Reaktoro has what you want though: the {{AqueousProps}} class. We demonstrate its use below:"
   ]
  },
  {
   "cell_type": "code",
   "execution_count": 2,
   "metadata": {},
   "outputs": [
    {
     "name": "stdout",
     "output_type": "stream",
     "text": [
      "+-----------------------------------+------------+-------+\n",
      "| Property                          |      Value |  Unit |\n",
      "+-----------------------------------+------------+-------+\n",
      "| Temperature                       |   333.1500 |     K |\n",
      "| Pressure                          |    15.1988 |   bar |\n",
      "| Ionic Strength (Effective)        |     1.0263 | molal |\n",
      "| Ionic Strength (Stoichiometric)   |     1.0292 | molal |\n",
      "| pH                                |     4.9176 |       |\n",
      "| pE                                |    -0.5028 |       |\n",
      "| Eh                                |    -0.0332 |     V |\n",
      "| Element Molality:                 |            |       |\n",
      "| :: C                              | 2.1424e-01 | molal |\n",
      "| :: Na                             | 1.0004e+00 | molal |\n",
      "| :: Si                             | 2.8155e-04 | molal |\n",
      "| :: Cl                             | 1.0004e+00 | molal |\n",
      "| :: Ca                             | 9.9945e-03 | molal |\n",
      "| Species Molality:                 |            |       |\n",
      "| :: CO3-2                          | 6.4481e-07 | molal |\n",
      "| :: H+                             | 1.5051e-05 | molal |\n",
      "| :: CO2                            | 1.9424e-01 | molal |\n",
      "| :: (CO2)2                         | 1.0004e-16 | molal |\n",
      "| :: HCO3-                          | 1.6442e-02 | molal |\n",
      "| :: CH4                            | 1.0004e-16 | molal |\n",
      "| :: Ca+2                           | 9.4377e-03 | molal |\n",
      "| :: CaCO3                          | 3.9717e-07 | molal |\n",
      "| :: CaHCO3+                        | 5.5643e-04 | molal |\n",
      "| :: CaOH+                          | 4.6059e-11 | molal |\n",
      "| :: Cl-                            | 1.0004e+00 | molal |\n",
      "| :: H2                             | 1.0004e-16 | molal |\n",
      "| :: H4SiO4                         | 2.8153e-04 | molal |\n",
      "| :: H2SiO4-2                       | 1.1055e-14 | molal |\n",
      "| :: H3SiO4-                        | 2.0567e-08 | molal |\n",
      "| :: Na+                            | 9.9737e-01 | molal |\n",
      "| :: NaCO3-                         | 7.5617e-06 | molal |\n",
      "| :: NaHCO3                         | 2.9885e-03 | molal |\n",
      "| :: OH-                            | 1.3304e-08 | molal |\n",
      "| :: NaOH                           | 1.0004e-16 | molal |\n",
      "| :: O2                             | 1.0004e-16 | molal |\n",
      "| Saturation Indices (log base 10): |            |       |\n",
      "| :: CH4(g)                         |   -14.1826 |     - |\n",
      "| :: CO2(g)                         |     0.0000 |     - |\n",
      "| :: H2(g)                          |   -10.1580 |     - |\n",
      "| :: H2O(g)                         |     0.0000 |     - |\n",
      "| :: O2(g)                          |   -56.1834 |     - |\n",
      "| :: Aragonite :: CaCO3             |    -1.4245 |     - |\n",
      "| :: Calcite :: CaCO3               |    -1.3039 |     - |\n",
      "| :: Chalcedony :: SiO2             |    -0.3316 |     - |\n",
      "| :: Halite :: NaCl                 |    -1.9594 |     - |\n",
      "| :: Quartz :: SiO2                 |     0.0000 |     - |\n",
      "| :: SiO2(a)                        |    -1.0599 |     - |\n",
      "+-----------------------------------+------------+-------+\n"
     ]
    }
   ],
   "source": [
    "from reaktoro import *\n",
    "\n",
    "db = PhreeqcDatabase(\"phreeqc.dat\")\n",
    "\n",
    "solution = AqueousPhase(speciate(\"H O Na Cl C Ca Si\"))\n",
    "solution.setActivityModel(ActivityModelPitzerHMW())\n",
    "\n",
    "gases = GaseousPhase(\"CO2(g) H2O(g)\")\n",
    "gases.setActivityModel(ActivityModelPengRobinson())\n",
    "\n",
    "minerals = MineralPhases()\n",
    "\n",
    "system = ChemicalSystem(db, solution, gases, minerals)\n",
    "\n",
    "state = ChemicalState(system)\n",
    "state.temperature(60.0, \"celsius\")\n",
    "state.pressure(15.0, \"atm\")\n",
    "state.set(\"H2O\"    , 1.0, \"kg\")\n",
    "state.set(\"Na+\"    , 1.0, \"mol\")\n",
    "state.set(\"Cl-\"    , 1.0, \"mol\")\n",
    "state.set(\"CO2\"    , 0.7, \"mol\")\n",
    "state.set(\"Calcite\", 1.0, \"g\")\n",
    "state.set(\"Quartz\" , 1.0, \"g\")\n",
    "\n",
    "equilibrate(state)\n",
    "\n",
    "aprops = AqueousProps(state)\n",
    "\n",
    "print(aprops)"
   ]
  },
  {
   "cell_type": "markdown",
   "metadata": {},
   "source": [
    "Let's now use some methods from class {{AqueousProps}} to retrieve some specific aqueous properties:"
   ]
  },
  {
   "cell_type": "code",
   "execution_count": 3,
   "metadata": {},
   "outputs": [
    {
     "name": "stdout",
     "output_type": "stream",
     "text": [
      "pH                              : 4.91762\n",
      "pE                              : -0.502784\n",
      "Eh                              : -0.0332361 V\n",
      "IONIC STRENGTH (EFFECTIVE)      : 1.02625 molal\n",
      "IONIC STRENGTH (STOICHIOMETRIC) : 1.02924 molal\n",
      "MOLALITY OF ELEMENT C           : 0.21424 molal\n",
      "MOLALITY OF ELEMENT Ca          : 0.00999453 molal\n",
      "MOLALITY OF AQUEOUS SPECIES CO2 : 0.194244 molal\n",
      "MOLALITY OF AQUEOUS SPECIES Na+ : 0.997367 molal\n"
     ]
    }
   ],
   "source": [
    "print(\"pH                              :\", aprops.pH())\n",
    "print(\"pE                              :\", aprops.pE())\n",
    "print(\"Eh                              :\", aprops.Eh()                         , \"V\")\n",
    "print(\"IONIC STRENGTH (EFFECTIVE)      :\", aprops.ionicStrengthEffective()     , \"molal\")\n",
    "print(\"IONIC STRENGTH (STOICHIOMETRIC) :\", aprops.ionicStrengthStoichiometric(), \"molal\")\n",
    "print(\"MOLALITY OF ELEMENT C           :\", aprops.elementMolality(\"C\")         , \"molal\")\n",
    "print(\"MOLALITY OF ELEMENT Ca          :\", aprops.elementMolality(\"Ca\")        , \"molal\")\n",
    "print(\"MOLALITY OF AQUEOUS SPECIES CO2 :\", aprops.speciesMolality(\"CO2\")       , \"molal\")\n",
    "print(\"MOLALITY OF AQUEOUS SPECIES Na+ :\", aprops.speciesMolality(\"Na+\")       , \"molal\")"
   ]
  },
  {
   "cell_type": "markdown",
   "metadata": {},
   "source": [
    "```{tip}\n",
    "Access the link {{AqueousProps}} to find out all methods available in class `AqueousProps` to get the exact data you need!\n",
    "```"
   ]
  }
 ],
 "metadata": {
  "interpreter": {
   "hash": "e4e8b2f3ae27709963f14fd23a6560d362beea55eaec742263828e04d814e23c"
  },
  "kernelspec": {
   "display_name": "Python 3.9.7 64-bit ('reaktoro-jupyter-book': conda)",
   "language": "python",
   "name": "python3"
  },
  "language_info": {
   "codemirror_mode": {
    "name": "ipython",
    "version": 3
   },
   "file_extension": ".py",
   "mimetype": "text/x-python",
   "name": "python",
   "nbconvert_exporter": "python",
   "pygments_lexer": "ipython3",
   "version": "3.9.10"
  },
  "orig_nbformat": 4
 },
 "nbformat": 4,
 "nbformat_minor": 2
}
