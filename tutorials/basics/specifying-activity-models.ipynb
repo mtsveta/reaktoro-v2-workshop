{
 "cells": [
  {
   "cell_type": "markdown",
   "metadata": {},
   "source": [
    "# Specifying activity models\n",
    "\n",
    "*Activity models* are needed to accurately represent the *non-ideal thermodynamic behavior* of aqueous, liquid, gaseous, solid, and plasma phases. They are required when computing thermodynamic properties of phases and their species (e.g., species activities, chemical potentials, etc).\n",
    "\n",
    "> **Example**: for *an aqueous solution* at extreme saline conditions, an activity model designed for low salinity conditions will not perform well.\n",
    "\n",
    "In Reaktoro, an activity model assigned to a phase $\\pi$ is a function for which the following inputs are given:\n",
    "\n",
    "* temperature $T$ (in K),\n",
    "* pressure $P$ (in Pa), and\n",
    "* mole fractions of the species $x=(x_1,\\ldots,x_\\mathrm{N_{\\pi}})$.\n",
    "\n",
    "By default, all phases in Reaktoro are created with *ideal activity models* if not explicitly specified.\n",
    "\n",
    "Consider the following chemical system:"
   ]
  },
  {
   "cell_type": "code",
   "execution_count": 18,
   "metadata": {},
   "outputs": [],
   "source": [
    "from reaktoro import *\n",
    "\n",
    "# Define the PHREEQC database\n",
    "db = PhreeqcDatabase(\"phreeqc.dat\")\n",
    "\n",
    "# Define phases\n",
    "solution = AqueousPhase(speciate(\"H O Na Cl C Ca Mg\"))\n",
    "gases = GaseousPhase(\"CO2(g) H2O(g)\")\n",
    "solidsolution = MineralPhase(\"Siderite Rhodochrosite\")\n",
    "ionexchange = IonExchangePhase(\"NaX CaX2\")\n",
    "\n",
    "# Create the chemical system\n",
    "system = ChemicalSystem(db, solution, gases, solidsolution, ionexchange)"
   ]
  },
  {
   "cell_type": "markdown",
   "metadata": {},
   "source": [
    "It is equivalent to the one below:"
   ]
  },
  {
   "cell_type": "code",
   "execution_count": 19,
   "metadata": {},
   "outputs": [],
   "source": [
    "from reaktoro import *\n",
    "\n",
    "db = PhreeqcDatabase(\"phreeqc.dat\")\n",
    "\n",
    "solution = AqueousPhase(speciate(\"H O Na Cl C Ca Mg\"))\n",
    "solution.setActivityModel(ActivityModelIdealAqueous())\n",
    "\n",
    "gases = GaseousPhase(\"CO2(g) H2O(g)\")\n",
    "gases.setActivityModel(ActivityModelIdealGas())\n",
    "\n",
    "solidsolution = MineralPhase(\"Siderite Rhodochrosite\")\n",
    "solidsolution.setActivityModel(ActivityModelIdealSolution(StateOfMatter.Solid))\n",
    "\n",
    "ionexchange = IonExchangePhase(\"NaX CaX2\")\n",
    "ionexchange.setActivityModel(ActivityModelIdealIonExchange())\n",
    "\n",
    "system = ChemicalSystem(db, solution, gases, solidsolution, ionexchange)"
   ]
  },
  {
   "cell_type": "markdown",
   "metadata": {},
   "source": [
    "*Non-ideal thermodynamic behavior* can differ from phase to phase for various conditions. Below, we elaborate on selecting and configuring different activity models for different phases."
   ]
  },
  {
   "cell_type": "markdown",
   "metadata": {},
   "source": [
    "## Specifying non-ideal activity models for aqueous phases\n",
    "\n",
    "The following are non-ideal activity models available for aqueous phases in Reaktoro:\n",
    "\n",
    "* `ActivityModelDebyeHuckel`\n",
    "* `ActivityModelDebyeHuckelKielland`\n",
    "* `ActivityModelDebyeHuckelLimitingLaw`\n",
    "* `ActivityModelDebyeHuckelParams`\n",
    "* `ActivityModelDebyeHuckelPHREEQC`\n",
    "* `ActivityModelDebyeHuckelWATEQ4F`\n",
    "* `ActivityModelHKF`\n",
    "* `ActivityModelPitzerHMW`\n",
    "\n",
    "### Activity model for water and ionic species\n",
    "\n",
    "The code below constructs a chemical system with an aqueous phase that uses the *HKF activity model* (Helgeson, 1981), which is fairly accurate for solutions up to 6 molal NaCl."
   ]
  },
  {
   "cell_type": "code",
   "execution_count": 20,
   "metadata": {},
   "outputs": [],
   "source": [
    "solution = AqueousPhase(speciate(\"H O Na Cl\"))\n",
    "solution.setActivityModel(ActivityModelHKF())\n",
    "\n",
    "system = ChemicalSystem(db, solution)"
   ]
  },
  {
   "cell_type": "markdown",
   "metadata": {},
   "source": [
    "Let's create a chemical state for this system (using [ChemicalState](https://reaktoro.org/api/classReaktoro_1_1ChemicalState.html) class), and set it so that we have a 1 molal NaCl saline solution. It contains chemical properties (provided by the class [ChemicalProps](https://reaktoro.org/api/classReaktoro_1_1ChemicalProps.html)) including the species' activity coefficients $\\gamma_i$."
   ]
  },
  {
   "cell_type": "code",
   "execution_count": 21,
   "metadata": {},
   "outputs": [
    {
     "name": "stdout",
     "output_type": "stream",
     "text": [
      "Species             Activity Coefficient\n",
      "H+                  0.614425\n",
      "H2O                 1.00142\n",
      "Cl-                 0.665158\n",
      "H2                  1.25894\n",
      "Na+                 0.65199\n",
      "OH-                 0.718866\n",
      "NaOH                1.25894\n",
      "O2                  1.25894\n"
     ]
    }
   ],
   "source": [
    "state = ChemicalState(system)\n",
    "state.temperature(25, \"celsius\")\n",
    "state.pressure(1, \"bar\")\n",
    "state.set(\"H2O\", 1.0, \"kg\")\n",
    "state.set(\"Na+\", 1.0, \"mol\")\n",
    "state.set(\"Cl-\", 1.0, \"mol\")\n",
    "\n",
    "print(f\"{'Species':<20}{'Activity Coefficient'}\")\n",
    "props = state.props()\n",
    "for species in system.species():\n",
    "    print(f\"{species.name():<20}{props.speciesActivityCoefficient(species.name())}\")"
   ]
  },
  {
   "cell_type": "markdown",
   "metadata": {},
   "source": [
    "Note that the activity coefficients for neutral species other than H<sub>2</sub>O, i.e., `H2`, `NaOH`, and `O2`, are identical and equal to 1.25894. This is because most aqueous activity models are formulated for the solvent water and ionic species and **do not** properly compute activity coefficients for the neutral species.\n",
    "\n",
    "### Correction for the neutral species\n",
    "\n",
    "One way to improve this is to combine an aqueous activity model with *Setschenow model* (must be applied **for each** neutral species). Let us  recreate the chemical system, in which a *chained activity model* is applied to the aqueous phase:"
   ]
  },
  {
   "cell_type": "code",
   "execution_count": 22,
   "metadata": {},
   "outputs": [],
   "source": [
    "solution = AqueousPhase(speciate(\"H O Na Cl\"))\n",
    "solution.setActivityModel(chain(\n",
    "    ActivityModelHKF(),\n",
    "    ActivityModelSetschenow(\"O2\", 0.123),\n",
    "    ActivityModelSetschenow(\"H2\", 0.234),\n",
    "    ActivityModelSetschenow(\"NaOH\", 0.345),\n",
    "))\n",
    "\n",
    "system = ChemicalSystem(db, solution)"
   ]
  },
  {
   "cell_type": "markdown",
   "source": [
    "The activity coefficients of the species of new system are printed below:"
   ],
   "metadata": {
    "collapsed": false
   }
  },
  {
   "cell_type": "code",
   "execution_count": 23,
   "metadata": {
    "tags": [
     "hide-input"
    ]
   },
   "outputs": [
    {
     "name": "stdout",
     "output_type": "stream",
     "text": [
      "Species             Activity Coefficient\n",
      "H+                  0.614425\n",
      "H2O                 1.00142\n",
      "Cl-                 0.665158\n",
      "H2                  1.71399\n",
      "Na+                 0.65199\n",
      "OH-                 0.718866\n",
      "NaOH                2.21317\n",
      "O2                  1.32741\n"
     ]
    }
   ],
   "source": [
    "state = ChemicalState(system)\n",
    "state.temperature(25, \"celsius\")\n",
    "state.pressure(1, \"bar\")\n",
    "state.set(\"H2O\", 1.0, \"kg\")\n",
    "state.set(\"Na+\", 1.0, \"mol\")\n",
    "state.set(\"Cl-\", 1.0, \"mol\")\n",
    "\n",
    "print(f\"{'Species':<20}{'Activity Coefficient'}\")\n",
    "props = state.props()\n",
    "for species in system.species():\n",
    "    print(f\"{species.name():<20}{props.speciesActivityCoefficient(species.name())}\")"
   ]
  },
  {
   "cell_type": "markdown",
   "metadata": {},
   "source": [
    "Note that the activity coefficients of `O2`, `H2`, and `NaOH` are now different from each other. No changes were applied to the activity coefficients of `H2O` and ionic species.\n",
    "\n",
    "### Activity models for aqueous CO<sub>2</sub>\n",
    "\n",
    "CO<sub>2</sub> is a common gas dissolved in aqueous solutions. Most of the activity models above also do not properly calculate its activity(with exception of `ActivityModelPitzerHMW`). Thus, it is recommended to create a *chained activity model* with specific activity model for dissolved CO<sub>2</sub>, i.e.,\n",
    "\n",
    "* `ActivityModelDrummond`\n",
    "* `ActivityModelDuanSun`\n",
    "* `ActivityModelRumpf`"
   ]
  },
  {
   "cell_type": "code",
   "execution_count": 24,
   "metadata": {},
   "outputs": [],
   "source": [
    "solution = AqueousPhase(speciate(\"H O Na Cl C Ca Mg\"))\n",
    "solution.setActivityModel(chain(\n",
    "    ActivityModelHKF(),\n",
    "    ActivityModelDrummond(\"CO2\")\n",
    "))\n",
    "\n",
    "system = ChemicalSystem(db, solution)"
   ]
  },
  {
   "cell_type": "markdown",
   "metadata": {},
   "source": [
    "> **Note**: when computing gas solubilities in aqueous saline solutions, it is important that the activity of the dissolved gas species (e.g., `CO2(aq)`) is adequately computed."
   ]
  },
  {
   "cell_type": "markdown",
   "metadata": {},
   "source": [
    "## Specifying non-ideal activity models for gaseous and liquid phases\n",
    "\n",
    "Reaktoro implements a general form of the *cubic equation of state* from which classic models are derived. You can assign one of the following models to an [GaseousPhase](https://reaktoro.org/api/classReaktoro_1_1GaseousPhase.html) or [LiquidPhase](https://reaktoro.org/api/classReaktoro_1_1LiquidPhase.html) object:\n",
    "\n",
    "* `ActivityModelPengRobinson`\n",
    "* `ActivityModelRedlichKwong`\n",
    "* `ActivityModelSoaveRedlichKwong`\n",
    "* `ActivityModelVanDerWaals`\n",
    "\n",
    "Additionally, Reaktoro implements some equations of state designed for specific gaseous phases:\n",
    "\n",
    "* `ActivityModelSpycherPruessEnnis` (for H<sub>2</sub>O-CO<sub>2</sub> gas mixtures\n",
    "* `ActivityModelSpycherReed` (for H<sub>2</sub>O-CO<sub>2</sub>-CH<sub>4</sub> gas mixtures)\n",
    "\n",
    "The example below demonstrates the use of the Peng-Robinson equation of state as the activity model for a gaseous phase:"
   ]
  },
  {
   "cell_type": "code",
   "execution_count": 25,
   "metadata": {},
   "outputs": [],
   "source": [
    "gases = GaseousPhase(\"CO2(g) CH4(g) H2O(g) O2(g) H2(g)\")\n",
    "gases.setActivityModel(ActivityModelPengRobinson())\n",
    "\n",
    "system = ChemicalSystem(db, gases)"
   ]
  },
  {
   "cell_type": "markdown",
   "metadata": {},
   "source": [
    "Let's create a chemical state for this system and evaluate the fugacity coefficients of the gases (included in thermodynamic and chemical properties):"
   ]
  },
  {
   "cell_type": "code",
   "execution_count": 26,
   "metadata": {},
   "outputs": [
    {
     "name": "stdout",
     "output_type": "stream",
     "text": [
      "Gas       Fugacity Coefficient\n",
      "CO2(g)    0.973811\n",
      "CH4(g)    0.992728\n",
      "H2O(g)    0.930723\n",
      "O2(g)     1.00488\n",
      "H2(g)     1.02158\n"
     ]
    }
   ],
   "source": [
    "state = ChemicalState(system)\n",
    "state.temperature(100.0, \"celsius\")\n",
    "state.pressure(1.0, \"MPa\")\n",
    "state.set(\"CO2(g)\", 0.80, \"mol\")\n",
    "state.set(\"CH4(g)\", 0.10, \"mol\")\n",
    "state.set(\"H2O(g)\", 0.05, \"mol\")\n",
    "state.set(\"O2(g)\",  0.03, \"mol\")\n",
    "state.set(\"H2(g)\",  0.02, \"mol\")\n",
    "\n",
    "props = state.props()\n",
    "\n",
    "print(f\"{'Gas':<10}{'Fugacity Coefficient'}\")\n",
    "for i in range(system.species().size()):\n",
    "    print(f\"{system.species(i).name():<10}{props.speciesActivityCoefficient(i)}\")"
   ]
  },
  {
   "cell_type": "markdown",
   "metadata": {},
   "source": [
    "**Note**: The method `ChemicalProps.speciesActivityCoefficient` is used for retrieving the fugacity coefficients of the gases due to their identity in the reference pressure of 1 bar.\n",
    "\n",
    "The full list of properties of the system can be inspected using function `print`:"
   ]
  },
  {
   "cell_type": "code",
   "execution_count": 27,
   "metadata": {
    "tags": [
     "output_scroll"
    ]
   },
   "outputs": [
    {
     "name": "stdout",
     "output_type": "stream",
     "text": [
      "+----------------------------------------+-------------+-----------+\n",
      "| Property                               |       Value |      Unit |\n",
      "+----------------------------------------+-------------+-----------+\n",
      "| Temperature                            |      373.15 |         K |\n",
      "| Pressure                               |       1e+06 |        Pa |\n",
      "| Volume                                 |  0.00302506 |        m3 |\n",
      "| Gibbs Energy                           |     -117619 |         J |\n",
      "| Enthalpy                               |     16254.9 |         J |\n",
      "| Entropy                                |     358.768 |       J/K |\n",
      "| Internal Energy                        |     13229.8 |         J |\n",
      "| Helmholtz Energy                       |     -120645 |         J |\n",
      "| Charge                                 |           0 |       mol |\n",
      "| Element Amount:                        |             |           |\n",
      "| :: H                                   |        0.54 |       mol |\n",
      "| :: C                                   |         0.9 |       mol |\n",
      "| :: O                                   |        1.71 |       mol |\n",
      "| Species Amount:                        |             |           |\n",
      "| :: CO2(g)                              |         0.8 |       mol |\n",
      "| :: CH4(g)                              |         0.1 |       mol |\n",
      "| :: H2O(g)                              |        0.05 |       mol |\n",
      "| :: O2(g)                               |        0.03 |       mol |\n",
      "| :: H2(g)                               |        0.02 |       mol |\n",
      "| Mole Fraction:                         |             |           |\n",
      "| :: CO2(g)                              |         0.8 |   mol/mol |\n",
      "| :: CH4(g)                              |         0.1 |   mol/mol |\n",
      "| :: H2O(g)                              |        0.05 |   mol/mol |\n",
      "| :: O2(g)                               |        0.03 |   mol/mol |\n",
      "| :: H2(g)                               |        0.02 |   mol/mol |\n",
      "| Activity Coefficient:                  |             |           |\n",
      "| :: CO2(g)                              |    0.973811 |         - |\n",
      "| :: CH4(g)                              |    0.992728 |         - |\n",
      "| :: H2O(g)                              |    0.930723 |         - |\n",
      "| :: O2(g)                               |     1.00488 |         - |\n",
      "| :: H2(g)                               |     1.02158 |         - |\n",
      "| Activity:                              |             |           |\n",
      "| :: CO2(g)                              |     7.79049 |         - |\n",
      "| :: CH4(g)                              |    0.992728 |         - |\n",
      "| :: H2O(g)                              |    0.465362 |         - |\n",
      "| :: O2(g)                               |    0.301463 |         - |\n",
      "| :: H2(g)                               |    0.204316 |         - |\n",
      "| lg(Activity):                          |             |           |\n",
      "| :: CO2(g)                              |    0.891565 |         - |\n",
      "| :: CH4(g)                              |  -0.0031696 |         - |\n",
      "| :: H2O(g)                              |   -0.332209 |         - |\n",
      "| :: O2(g)                               |   -0.520766 |         - |\n",
      "| :: H2(g)                               |   -0.689698 |         - |\n",
      "| ln(Activity):                          |             |           |\n",
      "| :: CO2(g)                              |      2.0529 |         - |\n",
      "| :: CH4(g)                              | -0.00729827 |         - |\n",
      "| :: H2O(g)                              |    -0.76494 |         - |\n",
      "| :: O2(g)                               |    -1.19911 |         - |\n",
      "| :: H2(g)                               |    -1.58809 |         - |\n",
      "| Chemical Potential:                    |             |           |\n",
      "| :: CO2(g)                              |     -126199 |     J/mol |\n",
      "| :: CH4(g)                              |     -250585 |     J/mol |\n",
      "| :: H2O(g)                              |    -2354.44 |     J/mol |\n",
      "| :: O2(g)                               |      447074 |     J/mol |\n",
      "| :: H2(g)                               |    -2724.21 |     J/mol |\n",
      "| Standard Volume:                       |             |           |\n",
      "| :: CO2(g)                              |           0 |    m3/mol |\n",
      "| :: CH4(g)                              |           0 |    m3/mol |\n",
      "| :: H2O(g)                              |           0 |    m3/mol |\n",
      "| :: O2(g)                               |           0 |    m3/mol |\n",
      "| :: H2(g)                               |           0 |    m3/mol |\n",
      "| Standard Gibbs Energy (formation):     |             |           |\n",
      "| :: CO2(g)                              |     -132568 |     J/mol |\n",
      "| :: CH4(g)                              |     -250563 |     J/mol |\n",
      "| :: H2O(g)                              |     18.8176 |     J/mol |\n",
      "| :: O2(g)                               |      450795 |     J/mol |\n",
      "| :: H2(g)                               |      2202.9 |     J/mol |\n",
      "| Standard Enthalpy (formation):         |             |           |\n",
      "| :: CO2(g)                              |     29576.4 |     J/mol |\n",
      "| :: CH4(g)                              |     -258559 |     J/mol |\n",
      "| :: H2O(g)                              |     41077.6 |     J/mol |\n",
      "| :: O2(g)                               |      563423 |     J/mol |\n",
      "| :: H2(g)                               |    -11992.3 |     J/mol |\n",
      "| Standard Entropy (formation):          |             |           |\n",
      "| :: CO2(g)                              |     434.529 | J/(mol*K) |\n",
      "| :: CH4(g)                              |    -21.4299 | J/(mol*K) |\n",
      "| :: H2O(g)                              |     110.033 | J/(mol*K) |\n",
      "| :: O2(g)                               |     301.833 | J/(mol*K) |\n",
      "| :: H2(g)                               |    -38.0416 | J/(mol*K) |\n",
      "| Standard Internal Energy (formation):  |             |           |\n",
      "| :: CO2(g)                              |     29576.4 |     J/mol |\n",
      "| :: CH4(g)                              |     -258559 |     J/mol |\n",
      "| :: H2O(g)                              |     41077.6 |     J/mol |\n",
      "| :: O2(g)                               |      563423 |     J/mol |\n",
      "| :: H2(g)                               |    -11992.3 |     J/mol |\n",
      "| Standard Helmholtz Energy (formation): |             |           |\n",
      "| :: CO2(g)                              |     -132568 |     J/mol |\n",
      "| :: CH4(g)                              |     -250563 |     J/mol |\n",
      "| :: H2O(g)                              |     18.8176 |     J/mol |\n",
      "| :: O2(g)                               |      450795 |     J/mol |\n",
      "| :: H2(g)                               |      2202.9 |     J/mol |\n",
      "| Standard Heat Capacity (constant P):   |             |           |\n",
      "| :: CO2(g)                              |           0 | J/(mol*K) |\n",
      "| :: CH4(g)                              |           0 | J/(mol*K) |\n",
      "| :: H2O(g)                              |           0 | J/(mol*K) |\n",
      "| :: O2(g)                               |           0 | J/(mol*K) |\n",
      "| :: H2(g)                               |           0 | J/(mol*K) |\n",
      "| Standard Heat Capacity (constant V):   |             |           |\n",
      "| :: CO2(g)                              |           0 | J/(mol*K) |\n",
      "| :: CH4(g)                              |           0 | J/(mol*K) |\n",
      "| :: H2O(g)                              |           0 | J/(mol*K) |\n",
      "| :: O2(g)                               |           0 | J/(mol*K) |\n",
      "| :: H2(g)                               |           0 | J/(mol*K) |\n",
      "+----------------------------------------+-------------+-----------+\n"
     ]
    }
   ],
   "source": [
    "print(props)"
   ]
  },
  {
   "cell_type": "markdown",
   "metadata": {},
   "source": [
    "## Specifying activity models for pure mineral and condensed phases\n",
    "\n",
    "Pure minerals and condensed phases (substances in solid or liquid states) are normally represented with a single species. Their chemical behavior is governed by ideal activity model."
   ]
  },
  {
   "cell_type": "markdown",
   "metadata": {},
   "source": [
    "## Specifying activity models for solid solution phases\n",
    "\n",
    "Currently, Reaktoro supports only the following activity models for solid solutions:\n",
    "\n",
    "* `ActivityModelRedlichKister`\n",
    "\n",
    "Below, we create a chemical system with a single solid solution phase (formed with minerals K-feldspar and albite) governed by the Redlich-Kister activity model, creates the chemical state based on this system, and prints its chemical properties:"
   ]
  },
  {
   "cell_type": "code",
   "execution_count": 28,
   "metadata": {},
   "outputs": [],
   "source": [
    "a0, a1, a2 = 1.0, 2.0, 3.0  # the Redlich-Kister parameters (demonstration values!)\n",
    "\n",
    "solidsolution = SolidPhase(\"K-feldspar Albite\")\n",
    "solidsolution.setActivityModel(ActivityModelRedlichKister(a0, a1, a2))\n",
    "\n",
    "system = ChemicalSystem(db, solidsolution)\n",
    "\n",
    "state = ChemicalState(system)\n",
    "state.set(\"K-feldspar\", 0.5, \"mol\")\n",
    "state.set(\"Albite\", 0.5, \"mol\")\n",
    "\n",
    "props = ChemicalProps(state)\n",
    "print(props)"
   ]
  },
  {
   "cell_type": "markdown",
   "metadata": {},
   "source": [
    "## Specifying activity models for ion exchange phases\n",
    "\n",
    "For non-ideal activity models for ion exchange phases, the following is currently available in Reaktoro:\n",
    "\n",
    "* `ActivityModelIonExchangeGainesThomas`\n",
    "* `ActivityModelIonExchangeVanselow`\n",
    "\n",
    "Below, we create a chemical system with aqueous and ion exchange phases and corresponding chemical state as well compute and output system's chemical properties:"
   ]
  },
  {
   "cell_type": "code",
   "execution_count": 30,
   "metadata": {
    "tags": [
     "output_scroll"
    ]
   },
   "outputs": [
    {
     "name": "stdout",
     "output_type": "stream",
     "text": [
      "+----------------------------------------+--------------+-----------+\n",
      "| Property                               |        Value |      Unit |\n",
      "+----------------------------------------+--------------+-----------+\n",
      "| Temperature                            |       298.15 |         K |\n",
      "| Pressure                               |       100000 |        Pa |\n",
      "| Volume                                 |   0.00100293 |        m3 |\n",
      "| Gibbs Energy                           | -0.000159825 |         J |\n",
      "| Enthalpy                               |  5.99996e-05 |         J |\n",
      "| Entropy                                |  7.37294e-07 |       J/K |\n",
      "| Internal Energy                        |     -100.293 |         J |\n",
      "| Helmholtz Energy                       |     -100.294 |         J |\n",
      "| Charge                                 |        0.006 |       mol |\n",
      "| Element Amount:                        |              |           |\n",
      "| :: X                                   |      1.2e-07 |       mol |\n",
      "| :: H                                   |      111.012 |       mol |\n",
      "| :: O                                   |      55.5062 |       mol |\n",
      "| :: Na                                  |   0.00100006 |       mol |\n",
      "| :: Mg                                  |   0.00100001 |       mol |\n",
      "| :: Cl                                  |        1e-16 |       mol |\n",
      "| :: K                                   |   0.00100002 |       mol |\n",
      "| :: Ca                                  |   0.00100001 |       mol |\n",
      "| Species Amount:                        |              |           |\n",
      "| :: H2O                                 |      55.5062 |       mol |\n",
      "| :: Na+                                 |        0.001 |       mol |\n",
      "| :: Cl-                                 |        1e-16 |       mol |\n",
      "| :: H+                                  |        1e-16 |       mol |\n",
      "| :: OH-                                 |        1e-16 |       mol |\n",
      "| :: K+                                  |        0.001 |       mol |\n",
      "| :: Ca+2                                |        0.001 |       mol |\n",
      "| :: Mg+2                                |        0.001 |       mol |\n",
      "| :: NaX                                 |        6e-08 |       mol |\n",
      "| :: KX                                  |        2e-08 |       mol |\n",
      "| :: CaX2                                |        1e-08 |       mol |\n",
      "| :: MgX2                                |        1e-08 |       mol |\n",
      "| Mole Fraction:                         |              |           |\n",
      "| :: H2O                                 |     0.999928 |   mol/mol |\n",
      "| :: Na+                                 |  1.80147e-05 |   mol/mol |\n",
      "| :: Cl-                                 |  1.80147e-18 |   mol/mol |\n",
      "| :: H+                                  |  1.80147e-18 |   mol/mol |\n",
      "| :: OH-                                 |  1.80147e-18 |   mol/mol |\n",
      "| :: K+                                  |  1.80147e-05 |   mol/mol |\n",
      "| :: Ca+2                                |  1.80147e-05 |   mol/mol |\n",
      "| :: Mg+2                                |  1.80147e-05 |   mol/mol |\n",
      "| :: NaX                                 |          0.6 |   mol/mol |\n",
      "| :: KX                                  |          0.2 |   mol/mol |\n",
      "| :: CaX2                                |          0.1 |   mol/mol |\n",
      "| :: MgX2                                |          0.1 |   mol/mol |\n",
      "| Activity Coefficient:                  |              |           |\n",
      "| :: H2O                                 |     0.999949 |         - |\n",
      "| :: Na+                                 |     0.927646 |         - |\n",
      "| :: Cl-                                 |     0.926272 |         - |\n",
      "| :: H+                                  |     0.933462 |         - |\n",
      "| :: OH-                                 |     0.925892 |         - |\n",
      "| :: K+                                  |     0.926052 |         - |\n",
      "| :: Ca+2                                |     0.743439 |         - |\n",
      "| :: Mg+2                                |      0.74603 |         - |\n",
      "| :: NaX                                 |     0.927646 |         - |\n",
      "| :: KX                                  |     0.926052 |         - |\n",
      "| :: CaX2                                |     0.743439 |         - |\n",
      "| :: MgX2                                |      0.74603 |         - |\n",
      "| Activity:                              |              |           |\n",
      "| :: H2O                                 |     0.999877 |         - |\n",
      "| :: Na+                                 |  0.000927684 |         - |\n",
      "| :: Cl-                                 |   9.2631e-17 |         - |\n",
      "| :: H+                                  |  9.33499e-17 |         - |\n",
      "| :: OH-                                 |   9.2593e-17 |         - |\n",
      "| :: K+                                  |   0.00092609 |         - |\n",
      "| :: Ca+2                                |  0.000743469 |         - |\n",
      "| :: Mg+2                                |   0.00074606 |         - |\n",
      "| :: NaX                                 |     0.463823 |         - |\n",
      "| :: KX                                  |     0.154342 |         - |\n",
      "| :: CaX2                                |     0.123907 |         - |\n",
      "| :: MgX2                                |     0.124338 |         - |\n",
      "| lg(Activity):                          |              |           |\n",
      "| :: H2O                                 | -5.34542e-05 |         - |\n",
      "| :: Na+                                 |      -3.0326 |         - |\n",
      "| :: Cl-                                 |     -16.0332 |         - |\n",
      "| :: H+                                  |     -16.0299 |         - |\n",
      "| :: OH-                                 |     -16.0334 |         - |\n",
      "| :: K+                                  |     -3.03335 |         - |\n",
      "| :: Ca+2                                |     -3.12874 |         - |\n",
      "| :: Mg+2                                |     -3.12723 |         - |\n",
      "| :: NaX                                 |    -0.333648 |         - |\n",
      "| :: KX                                  |    -0.811516 |         - |\n",
      "| :: CaX2                                |    -0.906906 |         - |\n",
      "| :: MgX2                                |    -0.905395 |         - |\n",
      "| ln(Activity):                          |              |           |\n",
      "| :: H2O                                 | -0.000123083 |         - |\n",
      "| :: Na+                                 |     -6.98282 |         - |\n",
      "| :: Cl-                                 |     -36.9179 |         - |\n",
      "| :: H+                                  |     -36.9102 |         - |\n",
      "| :: OH-                                 |     -36.9183 |         - |\n",
      "| :: K+                                  |     -6.98454 |         - |\n",
      "| :: Ca+2                                |     -7.20418 |         - |\n",
      "| :: Mg+2                                |      -7.2007 |         - |\n",
      "| :: NaX                                 |    -0.768252 |         - |\n",
      "| :: KX                                  |     -1.86858 |         - |\n",
      "| :: CaX2                                |     -2.08823 |         - |\n",
      "| :: MgX2                                |     -2.08475 |         - |\n",
      "| Chemical Potential:                    |              |           |\n",
      "| :: H2O                                 |    -0.305117 |     J/mol |\n",
      "| :: Na+                                 |     -17310.1 |     J/mol |\n",
      "| :: Cl-                                 |     -91517.9 |     J/mol |\n",
      "| :: H+                                  |     -91498.7 |     J/mol |\n",
      "| :: OH-                                 |     -11636.7 |     J/mol |\n",
      "| :: K+                                  |     -17314.4 |     J/mol |\n",
      "| :: Ca+2                                |     -17858.9 |     J/mol |\n",
      "| :: Mg+2                                |     -17850.2 |     J/mol |\n",
      "| :: NaX                                 |     -1904.47 |     J/mol |\n",
      "| :: KX                                  |     -8627.73 |     J/mol |\n",
      "| :: CaX2                                |     -9743.06 |     J/mol |\n",
      "| :: MgX2                                |     -8592.84 |     J/mol |\n",
      "| Standard Volume:                       |              |           |\n",
      "| :: H2O                                 |  1.80694e-05 |    m3/mol |\n",
      "| :: Na+                                 | -1.52246e-06 |    m3/mol |\n",
      "| :: Cl-                                 |  1.80447e-05 |    m3/mol |\n",
      "| :: H+                                  |            0 |    m3/mol |\n",
      "| :: OH-                                 |  -4.1384e-06 |    m3/mol |\n",
      "| :: K+                                  |  8.97937e-06 |    m3/mol |\n",
      "| :: Ca+2                                | -1.82553e-05 |    m3/mol |\n",
      "| :: Mg+2                                | -2.19369e-05 |    m3/mol |\n",
      "| :: NaX                                 |            0 |    m3/mol |\n",
      "| :: KX                                  |            0 |    m3/mol |\n",
      "| :: CaX2                                |            0 |    m3/mol |\n",
      "| :: MgX2                                |            0 |    m3/mol |\n",
      "| Standard Gibbs Energy (formation):     |              |           |\n",
      "| :: H2O                                 |            0 |     J/mol |\n",
      "| :: Na+                                 |            0 |     J/mol |\n",
      "| :: Cl-                                 |            0 |     J/mol |\n",
      "| :: H+                                  |            0 |     J/mol |\n",
      "| :: OH-                                 |      79882.2 |     J/mol |\n",
      "| :: K+                                  |            0 |     J/mol |\n",
      "| :: Ca+2                                |            0 |     J/mol |\n",
      "| :: Mg+2                                |            0 |     J/mol |\n",
      "| :: NaX                                 |  -0.00201725 |     J/mol |\n",
      "| :: KX                                  |     -3995.59 |     J/mol |\n",
      "| :: CaX2                                |     -4566.43 |     J/mol |\n",
      "| :: MgX2                                |     -3424.83 |     J/mol |\n",
      "| Standard Enthalpy (formation):         |              |           |\n",
      "| :: H2O                                 |            0 |     J/mol |\n",
      "| :: Na+                                 |            0 |     J/mol |\n",
      "| :: Cl-                                 |            0 |     J/mol |\n",
      "| :: H+                                  |            0 |     J/mol |\n",
      "| :: OH-                                 |        56359 |     J/mol |\n",
      "| :: K+                                  |            0 |     J/mol |\n",
      "| :: Ca+2                                |            0 |     J/mol |\n",
      "| :: Mg+2                                |            0 |     J/mol |\n",
      "| :: NaX                                 |  -0.00201725 |     J/mol |\n",
      "| :: KX                                  |     -4299.99 |     J/mol |\n",
      "| :: CaX2                                |      7199.98 |     J/mol |\n",
      "| :: MgX2                                |      7399.97 |     J/mol |\n",
      "| Standard Entropy (formation):          |              |           |\n",
      "| :: H2O                                 |            0 | J/(mol*K) |\n",
      "| :: Na+                                 |            0 | J/(mol*K) |\n",
      "| :: Cl-                                 |            0 | J/(mol*K) |\n",
      "| :: H+                                  |            0 | J/(mol*K) |\n",
      "| :: OH-                                 |     -78.8974 | J/(mol*K) |\n",
      "| :: K+                                  |            0 | J/(mol*K) |\n",
      "| :: Ca+2                                |            0 | J/(mol*K) |\n",
      "| :: Mg+2                                |            0 | J/(mol*K) |\n",
      "| :: NaX                                 |            0 | J/(mol*K) |\n",
      "| :: KX                                  |     -1.02094 | J/(mol*K) |\n",
      "| :: CaX2                                |      39.4647 | J/(mol*K) |\n",
      "| :: MgX2                                |      36.3066 | J/(mol*K) |\n",
      "| Standard Internal Energy (formation):  |              |           |\n",
      "| :: H2O                                 |     -1.80694 |     J/mol |\n",
      "| :: Na+                                 |     0.152246 |     J/mol |\n",
      "| :: Cl-                                 |     -1.80447 |     J/mol |\n",
      "| :: H+                                  |            0 |     J/mol |\n",
      "| :: OH-                                 |      56359.4 |     J/mol |\n",
      "| :: K+                                  |    -0.897937 |     J/mol |\n",
      "| :: Ca+2                                |      1.82553 |     J/mol |\n",
      "| :: Mg+2                                |      2.19369 |     J/mol |\n",
      "| :: NaX                                 |  -0.00201725 |     J/mol |\n",
      "| :: KX                                  |     -4299.99 |     J/mol |\n",
      "| :: CaX2                                |      7199.98 |     J/mol |\n",
      "| :: MgX2                                |      7399.97 |     J/mol |\n",
      "| Standard Helmholtz Energy (formation): |              |           |\n",
      "| :: H2O                                 |     -1.80694 |     J/mol |\n",
      "| :: Na+                                 |     0.152246 |     J/mol |\n",
      "| :: Cl-                                 |     -1.80447 |     J/mol |\n",
      "| :: H+                                  |            0 |     J/mol |\n",
      "| :: OH-                                 |      79882.6 |     J/mol |\n",
      "| :: K+                                  |    -0.897937 |     J/mol |\n",
      "| :: Ca+2                                |      1.82553 |     J/mol |\n",
      "| :: Mg+2                                |      2.19369 |     J/mol |\n",
      "| :: NaX                                 |  -0.00201725 |     J/mol |\n",
      "| :: KX                                  |     -3995.59 |     J/mol |\n",
      "| :: CaX2                                |     -4566.43 |     J/mol |\n",
      "| :: MgX2                                |     -3424.83 |     J/mol |\n",
      "| Standard Heat Capacity (constant P):   |              |           |\n",
      "| :: H2O                                 |            0 | J/(mol*K) |\n",
      "| :: Na+                                 |            0 | J/(mol*K) |\n",
      "| :: Cl-                                 |            0 | J/(mol*K) |\n",
      "| :: H+                                  |            0 | J/(mol*K) |\n",
      "| :: OH-                                 |            0 | J/(mol*K) |\n",
      "| :: K+                                  |            0 | J/(mol*K) |\n",
      "| :: Ca+2                                |            0 | J/(mol*K) |\n",
      "| :: Mg+2                                |            0 | J/(mol*K) |\n",
      "| :: NaX                                 |            0 | J/(mol*K) |\n",
      "| :: KX                                  |            0 | J/(mol*K) |\n",
      "| :: CaX2                                |            0 | J/(mol*K) |\n",
      "| :: MgX2                                |            0 | J/(mol*K) |\n",
      "| Standard Heat Capacity (constant V):   |              |           |\n",
      "| :: H2O                                 |            0 | J/(mol*K) |\n",
      "| :: Na+                                 |            0 | J/(mol*K) |\n",
      "| :: Cl-                                 |            0 | J/(mol*K) |\n",
      "| :: H+                                  |            0 | J/(mol*K) |\n",
      "| :: OH-                                 |            0 | J/(mol*K) |\n",
      "| :: K+                                  |            0 | J/(mol*K) |\n",
      "| :: Ca+2                                |            0 | J/(mol*K) |\n",
      "| :: Mg+2                                |            0 | J/(mol*K) |\n",
      "| :: NaX                                 |            0 | J/(mol*K) |\n",
      "| :: KX                                  |            0 | J/(mol*K) |\n",
      "| :: CaX2                                |            0 | J/(mol*K) |\n",
      "| :: MgX2                                |            0 | J/(mol*K) |\n",
      "+----------------------------------------+--------------+-----------+\n"
     ]
    }
   ],
   "source": [
    "db = PhreeqcDatabase(\"phreeqc.dat\")\n",
    "\n",
    "solution = AqueousPhase(\"H2O Na+ Cl- H+ OH- K+ Ca+2 Mg+2\")\n",
    "solution.setActivityModel(ActivityModelDebyeHuckel())\n",
    "\n",
    "exchange = IonExchangePhase(\"NaX KX CaX2 MgX2\")\n",
    "exchange.setActivityModel(ActivityModelIonExchangeGainesThomas())\n",
    "\n",
    "system = ChemicalSystem(db, solution, exchange)\n",
    "\n",
    "state = ChemicalState(system)\n",
    "state.set(\"H2O\" , 1.00, \"kg\")\n",
    "state.set(\"Na+\" , 1.00, \"mmol\")\n",
    "state.set(\"K+\"  , 1.00, \"mmol\")\n",
    "state.set(\"Mg+2\", 1.00, \"mmol\")\n",
    "state.set(\"Ca+2\", 1.00, \"mmol\")\n",
    "state.set(\"NaX\" , 0.06, \"umol\")\n",
    "state.set(\"KX\" ,  0.02, \"umol\")\n",
    "state.set(\"CaX2\" ,0.01, \"umol\")\n",
    "state.set(\"MgX2\" ,0.01, \"umol\")\n",
    "\n",
    "props = state.props()\n",
    "print(props)"
   ]
  },
  {
   "cell_type": "markdown",
   "metadata": {},
   "source": [
    "**Note**: The correct selection and attachment of activity model to a phase is vital. Special care must be applied when comparing Reaktoro's computations with other codes (up to considering the identical set of parameters for the activity model).\n",
    "\n",
    "**TODO**: add here 1-2 tasks.\n"
   ]
  }
 ],
 "metadata": {
  "interpreter": {
   "hash": "e4e8b2f3ae27709963f14fd23a6560d362beea55eaec742263828e04d814e23c"
  },
  "kernelspec": {
   "display_name": "Python 3 (ipykernel)",
   "language": "python",
   "name": "python3"
  },
  "language_info": {
   "codemirror_mode": {
    "name": "ipython",
    "version": 3
   },
   "file_extension": ".py",
   "mimetype": "text/x-python",
   "name": "python",
   "nbconvert_exporter": "python",
   "pygments_lexer": "ipython3",
   "version": "3.9.7"
  }
 },
 "nbformat": 4,
 "nbformat_minor": 4
}