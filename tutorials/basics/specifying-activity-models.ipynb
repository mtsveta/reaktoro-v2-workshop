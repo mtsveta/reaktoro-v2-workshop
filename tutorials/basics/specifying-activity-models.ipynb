{
 "cells": [
  {
   "cell_type": "markdown",
   "metadata": {},
   "source": [
    "# Specifying activity models\n",
    "\n",
    "Activity models are needed to accurately represent the non-ideal thermodynamic behavior of aqueous, liquid, gaseous, solid, and plasma phases. They are required when computing thermodynamic properties of phases and their species, such as molar enthalpies, molar heat capacities, molar volume, molar entropies, molar internal energies, species activities, species chemical potentials, etc.. These properties can only be accurate if proper activity models are assigned to the phases. For example, for an aqueous solution at extreme saline conditions, an activity model designed for low salinity conditions will not perform well.\n",
    "\n",
    "In Reaktoro, an activity model assigned to a phase $\\pi$ is a function for which the following inputs are given:\n",
    "\n",
    "* temperature (in K), $T$\n",
    "* pressure (in Pa), $P$\n",
    "* mole fractions of the species in phase $\\pi$, $x=(x_1,\\ldots,x_\\mathrm{N_{\\pi}})$\n",
    "\n",
    "The evaluation of this activity model produces the following *primary excess/residual thermodynamic properties* for the corresponding phase and its species:\n",
    "\n",
    "* the excess/residual molar Gibbs energy of the phase (in units of J/mol), $G_\\mathrm{ex}$\n",
    "\n",
    "* the excess/residual molar enthalpy of the phase (in units of J/mol), $H_\\mathrm{ex}$\n",
    "\n",
    "* the excess/residual molar volume of the phase (in m<sup>3</sup>/mol), $V_\\mathrm{ex}$\n",
    "\n",
    "* the temperature derivative of the excess/residual molar volume at constant pressure (in m<sup>3</sup>/(mol·K)), $(\\partial V_\\mathrm{ex}/\\partial T)_P$\n",
    "\n",
    "* the pressure derivative of the excess/residual molar volume at constant temperature (in m<sup>3</sup>/(mol·Pa)), $(\\partial V_\\mathrm{ex}/\\partial P)_T$\n",
    "\n",
    "* the excess/residual molar isobaric heat capacity of the phase (in units of J/(mol·K)), $C_{P,\\mathrm{ex}}$\n",
    "\n",
    "* the activity coefficient $\\gamma_i$ of every species in the phase, for $i=1,\\ldots,\\mathrm{N_{\\pi}}$\n",
    "\n",
    "* the activity $a_i$ of every species in the phase, for $i=1,\\ldots,\\mathrm{N_{\\pi}}$\n",
    "\n",
    "Once we have computed these *primary excess/residual thermodynamic properties*, we can determine all others if needed (i.e., the *secondary excess/residual thermodynamic properties*). For example, the excess internal energy can be computed as $U_\\mathrm{ex} = H_\\mathrm{ex} - P V_\\mathrm{ex}$. \n",
    "\n",
    "By default, all phases in Reaktoro are created with *ideal activity models* if not explicitly specified. The ideal models produce zero excess/residual properties for the phase and unit activity coefficients (thus, no correction for the non-ideal thermodynamic behavior of phases). \n",
    "\n",
    "The code block that we present below:"
   ]
  },
  {
   "cell_type": "code",
   "execution_count": 18,
   "metadata": {},
   "outputs": [],
   "source": [
    "from reaktoro import *\n",
    "\n",
    "db = PhreeqcDatabase(\"phreeqc.dat\")\n",
    "\n",
    "solution = AqueousPhase(speciate(\"H O Na Cl C Ca Mg\"))\n",
    "gases = GaseousPhase(\"CO2(g) H2O(g)\")\n",
    "solidsolution = MineralPhase(\"Siderite Rhodochrosite\")\n",
    "ionexchange = IonExchangePhase(\"NaX CaX2\")\n",
    "\n",
    "system = ChemicalSystem(db, solution, gases, solidsolution, ionexchange)"
   ]
  },
  {
   "cell_type": "markdown",
   "metadata": {},
   "source": [
    "is thus equivalent to this one:"
   ]
  },
  {
   "cell_type": "code",
   "execution_count": 19,
   "metadata": {},
   "outputs": [],
   "source": [
    "from reaktoro import *\n",
    "\n",
    "db = PhreeqcDatabase(\"phreeqc.dat\")\n",
    "\n",
    "solution = AqueousPhase(speciate(\"H O Na Cl C Ca Mg\"))\n",
    "solution.setActivityModel(ActivityModelIdealAqueous())\n",
    "\n",
    "gases = GaseousPhase(\"CO2(g) H2O(g)\")\n",
    "gases.setActivityModel(ActivityModelIdealGas())\n",
    "\n",
    "solidsolution = MineralPhase(\"Siderite Rhodochrosite\")\n",
    "solidsolution.setActivityModel(ActivityModelIdealSolution(StateOfMatter.Solid))\n",
    "\n",
    "ionexchange = IonExchangePhase(\"NaX CaX2\")\n",
    "ionexchange.setActivityModel(ActivityModelIdealIonExchange())\n",
    "\n",
    "system = ChemicalSystem(db, solution, gases, solidsolution, ionexchange)"
   ]
  },
  {
   "cell_type": "markdown",
   "metadata": {},
   "source": [
    "Non-ideal thermodynamic behavior is often what most phases present in most conditions. Therefore, it is imperative to properly select an activity model for a phase suitable for the conditions of interest. Because there is no model that works best for all conditions, we leave the choice for the user.\n",
    "\n",
    "We show in the following sections the available options for activity models for different phases and how to set and configure them."
   ]
  },
  {
   "cell_type": "markdown",
   "metadata": {},
   "source": [
    "## Specifying activity models for aqueous phases\n",
    "\n",
    "The following are additional activity models available for aqueous phases in Reaktoro:\n",
    "\n",
    "* `ActivityModelDebyeHuckel`\n",
    "* `ActivityModelDebyeHuckelKielland`\n",
    "* `ActivityModelDebyeHuckelLimitingLaw`\n",
    "* `ActivityModelDebyeHuckelParams`\n",
    "* `ActivityModelDebyeHuckelPHREEQC`\n",
    "* `ActivityModelDebyeHuckelWATEQ4F`\n",
    "* `ActivityModelHKF`\n",
    "* `ActivityModelPitzerHMW`\n",
    "\n",
    "For example, the code block below will construct a chemical system with an aqueous phase that uses the HKF activity model {cite}`Helgeson1981`, which is fairly accurate for solutions up to 6 molal NaCl."
   ]
  },
  {
   "cell_type": "code",
   "execution_count": 20,
   "metadata": {},
   "outputs": [],
   "source": [
    "solution = AqueousPhase(speciate(\"H O Na Cl\"))\n",
    "solution.setActivityModel(ActivityModelHKF())\n",
    "\n",
    "system = ChemicalSystem(db, solution)"
   ]
  },
  {
   "cell_type": "markdown",
   "metadata": {},
   "source": [
    "Let's create a chemical state for this system (using {{ChemicalState}} class), and set it so that we have a 1 molal NaCl saline solution. We then compute its chemical properties (using class {{ChemicalProps}}) and print the activity coefficients, $\\gamma_i$, of the species."
   ]
  },
  {
   "cell_type": "code",
   "execution_count": 21,
   "metadata": {},
   "outputs": [
    {
     "name": "stdout",
     "output_type": "stream",
     "text": [
      "Species             Activity Coefficient\n",
      "H+                  0.614425\n",
      "H2O                 1.00142\n",
      "Cl-                 0.665158\n",
      "H2                  1.25894\n",
      "Na+                 0.65199\n",
      "OH-                 0.718866\n",
      "NaOH                1.25894\n",
      "O2                  1.25894\n"
     ]
    }
   ],
   "source": [
    "state = ChemicalState(system)\n",
    "state.temperature(25, \"celsius\")\n",
    "state.pressure(1, \"bar\")\n",
    "state.set(\"H2O\", 1.0, \"kg\")\n",
    "state.set(\"Na+\", 1.0, \"mol\")\n",
    "state.set(\"Cl-\", 1.0, \"mol\")\n",
    "\n",
    "print(f\"{'Species':<20}{'Activity Coefficient'}\")\n",
    "props = ChemicalProps(state)\n",
    "for species in system.species():\n",
    "    print(f\"{species.name():<20}{props.speciesActivityCoefficient(species.name())}\")"
   ]
  },
  {
   "cell_type": "markdown",
   "metadata": {},
   "source": [
    "Note above that the activity coefficients for neutral species other than H{{_2}}O are identical. This is because most aqueous activity models do not properly compute activity coefficients for these species (or their default variants do not contain model parameters for them). \n",
    "\n",
    "One way to overcome or improve this is to combine an aqueous activity model with *Setschenow model*, so that the following equation:\n",
    "\n",
    "$$\\log_{10}\\gamma_i = b_i I$$\n",
    "\n",
    "is used instead to compute the activity coefficient of a neutral species $i$, where $I$ is the ionic strength of the solution and $b_i$ is a *Setschenow constant*. \n",
    "\n",
    "We recreate the chemical system in the next code block in which a *chained activity model* is constructed so that the above Setschenow equation is applied for the activity coefficients of species `O2`, `H2`, and `NaOH`:"
   ]
  },
  {
   "cell_type": "code",
   "execution_count": 22,
   "metadata": {},
   "outputs": [],
   "source": [
    "solution = AqueousPhase(speciate(\"H O Na Cl\"))\n",
    "solution.setActivityModel(chain(\n",
    "    ActivityModelHKF(),\n",
    "    ActivityModelSetschenow(\"O2\", 0.123),\n",
    "    ActivityModelSetschenow(\"H2\", 0.234),\n",
    "    ActivityModelSetschenow(\"NaOH\", 0.345),\n",
    "))\n",
    "\n",
    "system = ChemicalSystem(db, solution)"
   ]
  },
  {
   "cell_type": "markdown",
   "metadata": {},
   "source": [
    "We can then repeat the process of computing the chemical properties of the new system and printing the activity coefficients of the species:"
   ]
  },
  {
   "cell_type": "code",
   "execution_count": 23,
   "metadata": {
    "tags": [
     "hide-input"
    ]
   },
   "outputs": [
    {
     "name": "stdout",
     "output_type": "stream",
     "text": [
      "Species             Activity Coefficient\n",
      "H+                  0.614425\n",
      "H2O                 1.00142\n",
      "Cl-                 0.665158\n",
      "H2                  1.71399\n",
      "Na+                 0.65199\n",
      "OH-                 0.718866\n",
      "NaOH                2.21317\n",
      "O2                  1.32741\n"
     ]
    }
   ],
   "source": [
    "state = ChemicalState(system)\n",
    "state.temperature(25, \"celsius\")\n",
    "state.pressure(1, \"bar\")\n",
    "state.set(\"H2O\", 1.0, \"kg\")\n",
    "state.set(\"Na+\", 1.0, \"mol\")\n",
    "state.set(\"Cl-\", 1.0, \"mol\")\n",
    "\n",
    "print(f\"{'Species':<20}{'Activity Coefficient'}\")\n",
    "props = ChemicalProps(state)\n",
    "for species in system.species():\n",
    "    print(f\"{species.name():<20}{props.speciesActivityCoefficient(species.name())}\")"
   ]
  },
  {
   "cell_type": "markdown",
   "metadata": {},
   "source": [
    "Note that the activity coefficients of `O2`, `H2`, and `NaOH` are now different from each other. No changes were applied to the activity coefficients of `H2O` and charged species.\n",
    "\n",
    "CO<sub>2</sub> is a common gas dissolved in aqueous solutions. Most of the activity models above also do not properly calculate the activity of this aqueous species (with exception of `ActivityModelPitzerHMW`). Thus, when using such models, it is recommended to create a *chained activity model* in which one of the following models below are combined with one of the above:\n",
    "\n",
    "* `ActivityModelDrummond`\n",
    "* `ActivityModelDuanSun`\n",
    "* `ActivityModelRumpf`\n",
    "\n",
    "Here is an example:"
   ]
  },
  {
   "cell_type": "code",
   "execution_count": 24,
   "metadata": {},
   "outputs": [],
   "source": [
    "solution = AqueousPhase(speciate(\"H O Na Cl C Ca Mg\"))\n",
    "solution.setActivityModel(chain(\n",
    "    ActivityModelHKF(),\n",
    "    ActivityModelDrummond(\"CO2\")\n",
    "))\n",
    "\n",
    "system = ChemicalSystem(db, solution)"
   ]
  },
  {
   "cell_type": "markdown",
   "metadata": {},
   "source": [
    "With the change above, the Drummond model {cite}`drummond1981boiling` will be used for the computation of the activity of CO<sub>2</sub> aqueous species (which can be named differently across the databases supported by Reaktoro, such as `CO2` in PHREEQC databases, `CO2(aq)` in SUPCRT/SUPCRTB databases, or `CO2@` in ThermoFun databases). \n",
    "\n",
    "```{tip}\n",
    "When computing gas solubilities in aqueous saline solutions, it is important that the activity of the dissolved gas species (e.g., `CO2(aq)`) is adequately computed.\n",
    "```"
   ]
  },
  {
   "cell_type": "markdown",
   "metadata": {},
   "source": [
    "## Specifying activity models for gaseous and liquid phases\n",
    "\n",
    "Reaktoro implements a general form of the cubic equation of state as presented in {cite:t}`Smith2005` from which classic models are derived. You can assign one of the following models to an {{GaseousPhase}} or {{LiquidPhase}} object:\n",
    "\n",
    "* `ActivityModelPengRobinson` ({cite:t}`Peng1976`)\n",
    "* `ActivityModelRedlichKwong` ({cite:t}`Redlich1949`)\n",
    "* `ActivityModelSoaveRedlichKwong`  ({cite:t}`Soave1972`)\n",
    "* `ActivityModelVanDerWaals`  ({cite:t}`VanderWaals1873`)\n",
    "\n",
    "Reaktoro also implements some equations of state designed for specific gaseous phases:\n",
    "\n",
    "* `ActivityModelSpycherPruessEnnis` (for H{{_2}}O-CO{{_2}} gas mixtures, {cite:t}`Spycher2003`)\n",
    "* `ActivityModelSpycherReed` (for H{{_2}}O-CO{{_2}}-CH{{_4}} gas mixtures, {cite:t}`Spycher1988`)\n",
    "\n",
    "The example below demonstrates the use of {cite:t}`Peng1976` equation of state as the activity model for a gaseous phase:"
   ]
  },
  {
   "cell_type": "code",
   "execution_count": 25,
   "metadata": {},
   "outputs": [],
   "source": [
    "gases = GaseousPhase(\"CO2(g) CH4(g) H2O(g) O2(g) H2(g)\")\n",
    "gases.setActivityModel(ActivityModelPengRobinson())\n",
    "\n",
    "system = ChemicalSystem(db, gases)"
   ]
  },
  {
   "cell_type": "markdown",
   "metadata": {},
   "source": [
    "Let's create a chemical state for this system and compute its thermodynamic and chemical properties, from which we will obtain the fugacity coefficients of the gases:"
   ]
  },
  {
   "cell_type": "code",
   "execution_count": 26,
   "metadata": {},
   "outputs": [
    {
     "name": "stdout",
     "output_type": "stream",
     "text": [
      "Gas       Fugacity Coefficient\n",
      "CO2(g)    0.973811\n",
      "CH4(g)    0.992728\n",
      "H2O(g)    0.930723\n",
      "O2(g)     1.00488\n",
      "H2(g)     1.02158\n"
     ]
    }
   ],
   "source": [
    "state = ChemicalState(system)\n",
    "state.temperature(100.0, \"celsius\")\n",
    "state.pressure(1.0, \"MPa\")\n",
    "state.set(\"CO2(g)\", 0.80, \"mol\")\n",
    "state.set(\"CH4(g)\", 0.10, \"mol\")\n",
    "state.set(\"H2O(g)\", 0.05, \"mol\")\n",
    "state.set(\"O2(g)\",  0.03, \"mol\")\n",
    "state.set(\"H2(g)\",  0.02, \"mol\")\n",
    "\n",
    "props = ChemicalProps(state)\n",
    "\n",
    "print(f\"{'Gas':<10}{'Fugacity Coefficient'}\")\n",
    "for i in range(system.species().size()):\n",
    "    print(f\"{system.species(i).name():<10}{props.speciesActivityCoefficient(i)}\")"
   ]
  },
  {
   "cell_type": "markdown",
   "metadata": {},
   "source": [
    "```{note}\n",
    "Note above that the method `ChemicalProps.speciesActivityCoefficient` is used for retrieving the fugacity coefficients of the gases. The *activity coefficient of a gas is identical to its fugacity coefficient*, and the *fugacity of a gas has identical value to its activity* when reference pressure is 1 bar, which is the case adopted in Reaktoro.\n",
    "```\n",
    "\n",
    "We print below the full computed properties of the system (in this case containing only a gaseous phase):"
   ]
  },
  {
   "cell_type": "code",
   "execution_count": 27,
   "metadata": {
    "tags": [
     "output_scroll"
    ]
   },
   "outputs": [
    {
     "name": "stdout",
     "output_type": "stream",
     "text": [
      "+----------------------------------------+-------------+-----------+\n",
      "| Property                               |       Value |      Unit |\n",
      "+----------------------------------------+-------------+-----------+\n",
      "| Temperature                            |      373.15 |         K |\n",
      "| Pressure                               |       1e+06 |        Pa |\n",
      "| Volume                                 |  0.00302506 |        m3 |\n",
      "| Gibbs Energy                           |     -117619 |         J |\n",
      "| Enthalpy                               |     16254.9 |         J |\n",
      "| Entropy                                |     358.768 |       J/K |\n",
      "| Internal Energy                        |     13229.8 |         J |\n",
      "| Helmholtz Energy                       |     -120645 |         J |\n",
      "| Charge                                 |           0 |       mol |\n",
      "| Element Amount:                        |             |           |\n",
      "| :: H                                   |        0.54 |       mol |\n",
      "| :: C                                   |         0.9 |       mol |\n",
      "| :: O                                   |        1.71 |       mol |\n",
      "| Species Amount:                        |             |           |\n",
      "| :: CO2(g)                              |         0.8 |       mol |\n",
      "| :: CH4(g)                              |         0.1 |       mol |\n",
      "| :: H2O(g)                              |        0.05 |       mol |\n",
      "| :: O2(g)                               |        0.03 |       mol |\n",
      "| :: H2(g)                               |        0.02 |       mol |\n",
      "| Mole Fraction:                         |             |           |\n",
      "| :: CO2(g)                              |         0.8 |   mol/mol |\n",
      "| :: CH4(g)                              |         0.1 |   mol/mol |\n",
      "| :: H2O(g)                              |        0.05 |   mol/mol |\n",
      "| :: O2(g)                               |        0.03 |   mol/mol |\n",
      "| :: H2(g)                               |        0.02 |   mol/mol |\n",
      "| Activity Coefficient:                  |             |           |\n",
      "| :: CO2(g)                              |    0.973811 |         - |\n",
      "| :: CH4(g)                              |    0.992728 |         - |\n",
      "| :: H2O(g)                              |    0.930723 |         - |\n",
      "| :: O2(g)                               |     1.00488 |         - |\n",
      "| :: H2(g)                               |     1.02158 |         - |\n",
      "| Activity:                              |             |           |\n",
      "| :: CO2(g)                              |     7.79049 |         - |\n",
      "| :: CH4(g)                              |    0.992728 |         - |\n",
      "| :: H2O(g)                              |    0.465362 |         - |\n",
      "| :: O2(g)                               |    0.301463 |         - |\n",
      "| :: H2(g)                               |    0.204316 |         - |\n",
      "| lg(Activity):                          |             |           |\n",
      "| :: CO2(g)                              |    0.891565 |         - |\n",
      "| :: CH4(g)                              |  -0.0031696 |         - |\n",
      "| :: H2O(g)                              |   -0.332209 |         - |\n",
      "| :: O2(g)                               |   -0.520766 |         - |\n",
      "| :: H2(g)                               |   -0.689698 |         - |\n",
      "| ln(Activity):                          |             |           |\n",
      "| :: CO2(g)                              |      2.0529 |         - |\n",
      "| :: CH4(g)                              | -0.00729827 |         - |\n",
      "| :: H2O(g)                              |    -0.76494 |         - |\n",
      "| :: O2(g)                               |    -1.19911 |         - |\n",
      "| :: H2(g)                               |    -1.58809 |         - |\n",
      "| Chemical Potential:                    |             |           |\n",
      "| :: CO2(g)                              |     -126199 |     J/mol |\n",
      "| :: CH4(g)                              |     -250585 |     J/mol |\n",
      "| :: H2O(g)                              |    -2354.44 |     J/mol |\n",
      "| :: O2(g)                               |      447074 |     J/mol |\n",
      "| :: H2(g)                               |    -2724.21 |     J/mol |\n",
      "| Standard Volume:                       |             |           |\n",
      "| :: CO2(g)                              |           0 |    m3/mol |\n",
      "| :: CH4(g)                              |           0 |    m3/mol |\n",
      "| :: H2O(g)                              |           0 |    m3/mol |\n",
      "| :: O2(g)                               |           0 |    m3/mol |\n",
      "| :: H2(g)                               |           0 |    m3/mol |\n",
      "| Standard Gibbs Energy (formation):     |             |           |\n",
      "| :: CO2(g)                              |     -132568 |     J/mol |\n",
      "| :: CH4(g)                              |     -250563 |     J/mol |\n",
      "| :: H2O(g)                              |     18.8176 |     J/mol |\n",
      "| :: O2(g)                               |      450795 |     J/mol |\n",
      "| :: H2(g)                               |      2202.9 |     J/mol |\n",
      "| Standard Enthalpy (formation):         |             |           |\n",
      "| :: CO2(g)                              |     29576.4 |     J/mol |\n",
      "| :: CH4(g)                              |     -258559 |     J/mol |\n",
      "| :: H2O(g)                              |     41077.6 |     J/mol |\n",
      "| :: O2(g)                               |      563423 |     J/mol |\n",
      "| :: H2(g)                               |    -11992.3 |     J/mol |\n",
      "| Standard Entropy (formation):          |             |           |\n",
      "| :: CO2(g)                              |     434.529 | J/(mol*K) |\n",
      "| :: CH4(g)                              |    -21.4299 | J/(mol*K) |\n",
      "| :: H2O(g)                              |     110.033 | J/(mol*K) |\n",
      "| :: O2(g)                               |     301.833 | J/(mol*K) |\n",
      "| :: H2(g)                               |    -38.0416 | J/(mol*K) |\n",
      "| Standard Internal Energy (formation):  |             |           |\n",
      "| :: CO2(g)                              |     29576.4 |     J/mol |\n",
      "| :: CH4(g)                              |     -258559 |     J/mol |\n",
      "| :: H2O(g)                              |     41077.6 |     J/mol |\n",
      "| :: O2(g)                               |      563423 |     J/mol |\n",
      "| :: H2(g)                               |    -11992.3 |     J/mol |\n",
      "| Standard Helmholtz Energy (formation): |             |           |\n",
      "| :: CO2(g)                              |     -132568 |     J/mol |\n",
      "| :: CH4(g)                              |     -250563 |     J/mol |\n",
      "| :: H2O(g)                              |     18.8176 |     J/mol |\n",
      "| :: O2(g)                               |      450795 |     J/mol |\n",
      "| :: H2(g)                               |      2202.9 |     J/mol |\n",
      "| Standard Heat Capacity (constant P):   |             |           |\n",
      "| :: CO2(g)                              |           0 | J/(mol*K) |\n",
      "| :: CH4(g)                              |           0 | J/(mol*K) |\n",
      "| :: H2O(g)                              |           0 | J/(mol*K) |\n",
      "| :: O2(g)                               |           0 | J/(mol*K) |\n",
      "| :: H2(g)                               |           0 | J/(mol*K) |\n",
      "| Standard Heat Capacity (constant V):   |             |           |\n",
      "| :: CO2(g)                              |           0 | J/(mol*K) |\n",
      "| :: CH4(g)                              |           0 | J/(mol*K) |\n",
      "| :: H2O(g)                              |           0 | J/(mol*K) |\n",
      "| :: O2(g)                               |           0 | J/(mol*K) |\n",
      "| :: H2(g)                               |           0 | J/(mol*K) |\n",
      "+----------------------------------------+-------------+-----------+\n"
     ]
    }
   ],
   "source": [
    "print(props)"
   ]
  },
  {
   "cell_type": "code",
   "execution_count": null,
   "metadata": {},
   "outputs": [],
   "source": []
  },
  {
   "cell_type": "markdown",
   "metadata": {},
   "source": [
    "## Specifying activity models for pure mineral and condensed phases\n",
    "\n",
    "Pure minerals and condensed phases (substances in solid or liquid states) constitute phases with a single species. For these pure phases, there is no need to specify an activity model other than the ideal. For solid solution phases, check the next section."
   ]
  },
  {
   "cell_type": "markdown",
   "metadata": {},
   "source": [
    "## Specifying activity models for solid solution phases"
   ]
  },
  {
   "cell_type": "markdown",
   "metadata": {},
   "source": [
    "Reaktoro supports currently only the following activity models for solid solutions:\n",
    "\n",
    "* `ActivityModelRedlichKister`\n",
    "\n",
    "The Redlich-Kister model assumes a solution with two solid species, and their activity coefficients, $\\gamma_1$ and $\\gamma_2$, are calculated as follows:\n",
    "\n",
    "$$\\ln\\gamma_{1}=x_{2}^{2}[a_{0}+a_{1}(3x_{1}-x_{2})+a_{2}(x_{1}-x_{2})(5x_{1}-x_{2}),$$\n",
    "$$\\ln\\gamma_{2}=x_{1}^{2}[a_{0}-a_{1}(3x_{2}-x_{1})+a_{2}(x_{2}-x_{1})(5x_{2}-x_{1}),$$\n",
    "\n",
    "where $a_0$, $a_1$, $a_2$ are model parameters; $x_i$ is the mole fraction of the species $i$ in the solution."
   ]
  },
  {
   "cell_type": "markdown",
   "metadata": {},
   "source": [
    "We show below how to create a chemical system with a single solid solution phase formed with minerals K-feldspar (KAlSi{{_3}}O{{_8}}) and albite (NaAlSi{{_3}}O{{_8}}) with assiged Redlich-Kister activity model:"
   ]
  },
  {
   "cell_type": "code",
   "execution_count": 28,
   "metadata": {},
   "outputs": [],
   "source": [
    "a0, a1, a2 = 1.0, 2.0, 3.0  # the Redlich-Kister parameters (demonstration values!)\n",
    "\n",
    "solidsolution = SolidPhase(\"K-feldspar Albite\")\n",
    "solidsolution.setActivityModel(ActivityModelRedlichKister(a0, a1, a2))\n",
    "\n",
    "system = ChemicalSystem(db, solidsolution)"
   ]
  },
  {
   "cell_type": "markdown",
   "metadata": {},
   "source": [
    "The following code block creates a chemical state for this system with a single solid solution phase and prints its chemical properties."
   ]
  },
  {
   "cell_type": "code",
   "execution_count": 29,
   "metadata": {
    "tags": [
     "output_scroll"
    ]
   },
   "outputs": [
    {
     "name": "stdout",
     "output_type": "stream",
     "text": [
      "+----------------------------------------+------------+-----------+\n",
      "| Property                               |      Value |      Unit |\n",
      "+----------------------------------------+------------+-----------+\n",
      "| Temperature                            |     298.15 |         K |\n",
      "| Pressure                               |     100000 |        Pa |\n",
      "| Volume                                 | 0.00010473 |        m3 |\n",
      "| Gibbs Energy                           |    19899.3 |         J |\n",
      "| Enthalpy                               |      58946 |         J |\n",
      "| Entropy                                |    130.963 |       J/K |\n",
      "| Internal Energy                        |    58935.5 |         J |\n",
      "| Helmholtz Energy                       |    19888.8 |         J |\n",
      "| Charge                                 |          0 |       mol |\n",
      "| Element Amount:                        |            |           |\n",
      "| :: O                                   |          8 |       mol |\n",
      "| :: Na                                  |        0.5 |       mol |\n",
      "| :: Al                                  |          1 |       mol |\n",
      "| :: Si                                  |          3 |       mol |\n",
      "| :: K                                   |        0.5 |       mol |\n",
      "| Species Amount:                        |            |           |\n",
      "| :: K-feldspar                          |        0.5 |       mol |\n",
      "| :: Albite                              |        0.5 |       mol |\n",
      "| Mole Fraction:                         |            |           |\n",
      "| :: K-feldspar                          |        0.5 |   mol/mol |\n",
      "| :: Albite                              |        0.5 |   mol/mol |\n",
      "| Activity Coefficient:                  |            |           |\n",
      "| :: K-feldspar                          |      2.117 |         - |\n",
      "| :: Albite                              |   0.778801 |         - |\n",
      "| Activity:                              |            |           |\n",
      "| :: K-feldspar                          |     1.0585 |         - |\n",
      "| :: Albite                              |     0.3894 |         - |\n",
      "| lg(Activity):                          |            |           |\n",
      "| :: K-feldspar                          |  0.0246909 |         - |\n",
      "| :: Albite                              |  -0.409604 |         - |\n",
      "| ln(Activity):                          |            |           |\n",
      "| :: K-feldspar                          |  0.0568528 |         - |\n",
      "| :: Albite                              |  -0.943147 |         - |\n",
      "| Chemical Potential:                    |            |           |\n",
      "| :: K-feldspar                          |    12082.9 |     J/mol |\n",
      "| :: Albite                              |    24279.2 |     J/mol |\n",
      "| Standard Volume:                       |            |           |\n",
      "| :: K-feldspar                          | 0.00010815 |    m3/mol |\n",
      "| :: Albite                              | 0.00010131 |    m3/mol |\n",
      "| Standard Gibbs Energy (formation):     |            |           |\n",
      "| :: K-feldspar                          |    11941.9 |     J/mol |\n",
      "| :: Albite                              |    26617.2 |     J/mol |\n",
      "| Standard Enthalpy (formation):         |            |           |\n",
      "| :: K-feldspar                          |    48025.2 |     J/mol |\n",
      "| :: Albite                              |    68627.2 |     J/mol |\n",
      "| Standard Entropy (formation):          |            |           |\n",
      "| :: K-feldspar                          |    121.024 | J/(mol*K) |\n",
      "| :: Albite                              |    140.902 | J/(mol*K) |\n",
      "| Standard Internal Energy (formation):  |            |           |\n",
      "| :: K-feldspar                          |    48014.4 |     J/mol |\n",
      "| :: Albite                              |    68617.1 |     J/mol |\n",
      "| Standard Helmholtz Energy (formation): |            |           |\n",
      "| :: K-feldspar                          |    11931.1 |     J/mol |\n",
      "| :: Albite                              |    26607.1 |     J/mol |\n",
      "| Standard Heat Capacity (constant P):   |            |           |\n",
      "| :: K-feldspar                          |          0 | J/(mol*K) |\n",
      "| :: Albite                              |          0 | J/(mol*K) |\n",
      "| Standard Heat Capacity (constant V):   |            |           |\n",
      "| :: K-feldspar                          |          0 | J/(mol*K) |\n",
      "| :: Albite                              |          0 | J/(mol*K) |\n",
      "+----------------------------------------+------------+-----------+\n"
     ]
    }
   ],
   "source": [
    "state = ChemicalState(system)\n",
    "state.set(\"K-feldspar\", 0.5, \"mol\")\n",
    "state.set(\"Albite\", 0.5, \"mol\")\n",
    "\n",
    "props = ChemicalProps(state)\n",
    "print(props)"
   ]
  },
  {
   "cell_type": "markdown",
   "metadata": {},
   "source": [
    "## Specifying activity models for ion exchange phases\n",
    "\n",
    "By default, ion exchange phases are created in Reaktoro with an ideal activity model assigned to it. This ideal model computes the activity of the $i$-th exchange species (e.g., NaX, KX, CaX{{_2}}) according to:\n",
    "\n",
    "$$a_i = \\dfrac{x_i z_{\\mathrm{e},i}}{\\sum_k x_k z_{\\mathrm{e},k} } $$\n",
    "\n",
    "where $z_{\\mathrm{e},i}$ is the *exchanger's equivalent* (e.g., 1 for NaX, 2 for CaX{{_2}}) and $x_i$ is the mole fraction of the exchange species.\n",
    "\n",
    "For non-ideal activity models for ion exchange phases, the following is currently available in Reaktoro:\n",
    "\n",
    "* `ActivityModelIonExchangeGainesThomas`\n",
    "\n",
    "The Gaines-Thomas model is implemented according to what is used PHREEQC {cite}`Parkhurst2013`. We show below a demonstration in which a chemical system with aqueous and ion exchange phases are created followed by the computation of the system's chemical properties at a given chemical state:"
   ]
  },
  {
   "cell_type": "code",
   "execution_count": 30,
   "metadata": {
    "tags": [
     "output_scroll"
    ]
   },
   "outputs": [
    {
     "name": "stdout",
     "output_type": "stream",
     "text": [
      "+----------------------------------------+--------------+-----------+\n",
      "| Property                               |        Value |      Unit |\n",
      "+----------------------------------------+--------------+-----------+\n",
      "| Temperature                            |       298.15 |         K |\n",
      "| Pressure                               |       100000 |        Pa |\n",
      "| Volume                                 |   0.00100293 |        m3 |\n",
      "| Gibbs Energy                           | -0.000159825 |         J |\n",
      "| Enthalpy                               |  5.99996e-05 |         J |\n",
      "| Entropy                                |  7.37294e-07 |       J/K |\n",
      "| Internal Energy                        |     -100.293 |         J |\n",
      "| Helmholtz Energy                       |     -100.294 |         J |\n",
      "| Charge                                 |        0.006 |       mol |\n",
      "| Element Amount:                        |              |           |\n",
      "| :: X                                   |      1.2e-07 |       mol |\n",
      "| :: H                                   |      111.012 |       mol |\n",
      "| :: O                                   |      55.5062 |       mol |\n",
      "| :: Na                                  |   0.00100006 |       mol |\n",
      "| :: Mg                                  |   0.00100001 |       mol |\n",
      "| :: Cl                                  |        1e-16 |       mol |\n",
      "| :: K                                   |   0.00100002 |       mol |\n",
      "| :: Ca                                  |   0.00100001 |       mol |\n",
      "| Species Amount:                        |              |           |\n",
      "| :: H2O                                 |      55.5062 |       mol |\n",
      "| :: Na+                                 |        0.001 |       mol |\n",
      "| :: Cl-                                 |        1e-16 |       mol |\n",
      "| :: H+                                  |        1e-16 |       mol |\n",
      "| :: OH-                                 |        1e-16 |       mol |\n",
      "| :: K+                                  |        0.001 |       mol |\n",
      "| :: Ca+2                                |        0.001 |       mol |\n",
      "| :: Mg+2                                |        0.001 |       mol |\n",
      "| :: NaX                                 |        6e-08 |       mol |\n",
      "| :: KX                                  |        2e-08 |       mol |\n",
      "| :: CaX2                                |        1e-08 |       mol |\n",
      "| :: MgX2                                |        1e-08 |       mol |\n",
      "| Mole Fraction:                         |              |           |\n",
      "| :: H2O                                 |     0.999928 |   mol/mol |\n",
      "| :: Na+                                 |  1.80147e-05 |   mol/mol |\n",
      "| :: Cl-                                 |  1.80147e-18 |   mol/mol |\n",
      "| :: H+                                  |  1.80147e-18 |   mol/mol |\n",
      "| :: OH-                                 |  1.80147e-18 |   mol/mol |\n",
      "| :: K+                                  |  1.80147e-05 |   mol/mol |\n",
      "| :: Ca+2                                |  1.80147e-05 |   mol/mol |\n",
      "| :: Mg+2                                |  1.80147e-05 |   mol/mol |\n",
      "| :: NaX                                 |          0.6 |   mol/mol |\n",
      "| :: KX                                  |          0.2 |   mol/mol |\n",
      "| :: CaX2                                |          0.1 |   mol/mol |\n",
      "| :: MgX2                                |          0.1 |   mol/mol |\n",
      "| Activity Coefficient:                  |              |           |\n",
      "| :: H2O                                 |     0.999949 |         - |\n",
      "| :: Na+                                 |     0.927646 |         - |\n",
      "| :: Cl-                                 |     0.926272 |         - |\n",
      "| :: H+                                  |     0.933462 |         - |\n",
      "| :: OH-                                 |     0.925892 |         - |\n",
      "| :: K+                                  |     0.926052 |         - |\n",
      "| :: Ca+2                                |     0.743439 |         - |\n",
      "| :: Mg+2                                |      0.74603 |         - |\n",
      "| :: NaX                                 |     0.927646 |         - |\n",
      "| :: KX                                  |     0.926052 |         - |\n",
      "| :: CaX2                                |     0.743439 |         - |\n",
      "| :: MgX2                                |      0.74603 |         - |\n",
      "| Activity:                              |              |           |\n",
      "| :: H2O                                 |     0.999877 |         - |\n",
      "| :: Na+                                 |  0.000927684 |         - |\n",
      "| :: Cl-                                 |   9.2631e-17 |         - |\n",
      "| :: H+                                  |  9.33499e-17 |         - |\n",
      "| :: OH-                                 |   9.2593e-17 |         - |\n",
      "| :: K+                                  |   0.00092609 |         - |\n",
      "| :: Ca+2                                |  0.000743469 |         - |\n",
      "| :: Mg+2                                |   0.00074606 |         - |\n",
      "| :: NaX                                 |     0.463823 |         - |\n",
      "| :: KX                                  |     0.154342 |         - |\n",
      "| :: CaX2                                |     0.123907 |         - |\n",
      "| :: MgX2                                |     0.124338 |         - |\n",
      "| lg(Activity):                          |              |           |\n",
      "| :: H2O                                 | -5.34542e-05 |         - |\n",
      "| :: Na+                                 |      -3.0326 |         - |\n",
      "| :: Cl-                                 |     -16.0332 |         - |\n",
      "| :: H+                                  |     -16.0299 |         - |\n",
      "| :: OH-                                 |     -16.0334 |         - |\n",
      "| :: K+                                  |     -3.03335 |         - |\n",
      "| :: Ca+2                                |     -3.12874 |         - |\n",
      "| :: Mg+2                                |     -3.12723 |         - |\n",
      "| :: NaX                                 |    -0.333648 |         - |\n",
      "| :: KX                                  |    -0.811516 |         - |\n",
      "| :: CaX2                                |    -0.906906 |         - |\n",
      "| :: MgX2                                |    -0.905395 |         - |\n",
      "| ln(Activity):                          |              |           |\n",
      "| :: H2O                                 | -0.000123083 |         - |\n",
      "| :: Na+                                 |     -6.98282 |         - |\n",
      "| :: Cl-                                 |     -36.9179 |         - |\n",
      "| :: H+                                  |     -36.9102 |         - |\n",
      "| :: OH-                                 |     -36.9183 |         - |\n",
      "| :: K+                                  |     -6.98454 |         - |\n",
      "| :: Ca+2                                |     -7.20418 |         - |\n",
      "| :: Mg+2                                |      -7.2007 |         - |\n",
      "| :: NaX                                 |    -0.768252 |         - |\n",
      "| :: KX                                  |     -1.86858 |         - |\n",
      "| :: CaX2                                |     -2.08823 |         - |\n",
      "| :: MgX2                                |     -2.08475 |         - |\n",
      "| Chemical Potential:                    |              |           |\n",
      "| :: H2O                                 |    -0.305117 |     J/mol |\n",
      "| :: Na+                                 |     -17310.1 |     J/mol |\n",
      "| :: Cl-                                 |     -91517.9 |     J/mol |\n",
      "| :: H+                                  |     -91498.7 |     J/mol |\n",
      "| :: OH-                                 |     -11636.7 |     J/mol |\n",
      "| :: K+                                  |     -17314.4 |     J/mol |\n",
      "| :: Ca+2                                |     -17858.9 |     J/mol |\n",
      "| :: Mg+2                                |     -17850.2 |     J/mol |\n",
      "| :: NaX                                 |     -1904.47 |     J/mol |\n",
      "| :: KX                                  |     -8627.73 |     J/mol |\n",
      "| :: CaX2                                |     -9743.06 |     J/mol |\n",
      "| :: MgX2                                |     -8592.84 |     J/mol |\n",
      "| Standard Volume:                       |              |           |\n",
      "| :: H2O                                 |  1.80694e-05 |    m3/mol |\n",
      "| :: Na+                                 | -1.52246e-06 |    m3/mol |\n",
      "| :: Cl-                                 |  1.80447e-05 |    m3/mol |\n",
      "| :: H+                                  |            0 |    m3/mol |\n",
      "| :: OH-                                 |  -4.1384e-06 |    m3/mol |\n",
      "| :: K+                                  |  8.97937e-06 |    m3/mol |\n",
      "| :: Ca+2                                | -1.82553e-05 |    m3/mol |\n",
      "| :: Mg+2                                | -2.19369e-05 |    m3/mol |\n",
      "| :: NaX                                 |            0 |    m3/mol |\n",
      "| :: KX                                  |            0 |    m3/mol |\n",
      "| :: CaX2                                |            0 |    m3/mol |\n",
      "| :: MgX2                                |            0 |    m3/mol |\n",
      "| Standard Gibbs Energy (formation):     |              |           |\n",
      "| :: H2O                                 |            0 |     J/mol |\n",
      "| :: Na+                                 |            0 |     J/mol |\n",
      "| :: Cl-                                 |            0 |     J/mol |\n",
      "| :: H+                                  |            0 |     J/mol |\n",
      "| :: OH-                                 |      79882.2 |     J/mol |\n",
      "| :: K+                                  |            0 |     J/mol |\n",
      "| :: Ca+2                                |            0 |     J/mol |\n",
      "| :: Mg+2                                |            0 |     J/mol |\n",
      "| :: NaX                                 |  -0.00201725 |     J/mol |\n",
      "| :: KX                                  |     -3995.59 |     J/mol |\n",
      "| :: CaX2                                |     -4566.43 |     J/mol |\n",
      "| :: MgX2                                |     -3424.83 |     J/mol |\n",
      "| Standard Enthalpy (formation):         |              |           |\n",
      "| :: H2O                                 |            0 |     J/mol |\n",
      "| :: Na+                                 |            0 |     J/mol |\n",
      "| :: Cl-                                 |            0 |     J/mol |\n",
      "| :: H+                                  |            0 |     J/mol |\n",
      "| :: OH-                                 |        56359 |     J/mol |\n",
      "| :: K+                                  |            0 |     J/mol |\n",
      "| :: Ca+2                                |            0 |     J/mol |\n",
      "| :: Mg+2                                |            0 |     J/mol |\n",
      "| :: NaX                                 |  -0.00201725 |     J/mol |\n",
      "| :: KX                                  |     -4299.99 |     J/mol |\n",
      "| :: CaX2                                |      7199.98 |     J/mol |\n",
      "| :: MgX2                                |      7399.97 |     J/mol |\n",
      "| Standard Entropy (formation):          |              |           |\n",
      "| :: H2O                                 |            0 | J/(mol*K) |\n",
      "| :: Na+                                 |            0 | J/(mol*K) |\n",
      "| :: Cl-                                 |            0 | J/(mol*K) |\n",
      "| :: H+                                  |            0 | J/(mol*K) |\n",
      "| :: OH-                                 |     -78.8974 | J/(mol*K) |\n",
      "| :: K+                                  |            0 | J/(mol*K) |\n",
      "| :: Ca+2                                |            0 | J/(mol*K) |\n",
      "| :: Mg+2                                |            0 | J/(mol*K) |\n",
      "| :: NaX                                 |            0 | J/(mol*K) |\n",
      "| :: KX                                  |     -1.02094 | J/(mol*K) |\n",
      "| :: CaX2                                |      39.4647 | J/(mol*K) |\n",
      "| :: MgX2                                |      36.3066 | J/(mol*K) |\n",
      "| Standard Internal Energy (formation):  |              |           |\n",
      "| :: H2O                                 |     -1.80694 |     J/mol |\n",
      "| :: Na+                                 |     0.152246 |     J/mol |\n",
      "| :: Cl-                                 |     -1.80447 |     J/mol |\n",
      "| :: H+                                  |            0 |     J/mol |\n",
      "| :: OH-                                 |      56359.4 |     J/mol |\n",
      "| :: K+                                  |    -0.897937 |     J/mol |\n",
      "| :: Ca+2                                |      1.82553 |     J/mol |\n",
      "| :: Mg+2                                |      2.19369 |     J/mol |\n",
      "| :: NaX                                 |  -0.00201725 |     J/mol |\n",
      "| :: KX                                  |     -4299.99 |     J/mol |\n",
      "| :: CaX2                                |      7199.98 |     J/mol |\n",
      "| :: MgX2                                |      7399.97 |     J/mol |\n",
      "| Standard Helmholtz Energy (formation): |              |           |\n",
      "| :: H2O                                 |     -1.80694 |     J/mol |\n",
      "| :: Na+                                 |     0.152246 |     J/mol |\n",
      "| :: Cl-                                 |     -1.80447 |     J/mol |\n",
      "| :: H+                                  |            0 |     J/mol |\n",
      "| :: OH-                                 |      79882.6 |     J/mol |\n",
      "| :: K+                                  |    -0.897937 |     J/mol |\n",
      "| :: Ca+2                                |      1.82553 |     J/mol |\n",
      "| :: Mg+2                                |      2.19369 |     J/mol |\n",
      "| :: NaX                                 |  -0.00201725 |     J/mol |\n",
      "| :: KX                                  |     -3995.59 |     J/mol |\n",
      "| :: CaX2                                |     -4566.43 |     J/mol |\n",
      "| :: MgX2                                |     -3424.83 |     J/mol |\n",
      "| Standard Heat Capacity (constant P):   |              |           |\n",
      "| :: H2O                                 |            0 | J/(mol*K) |\n",
      "| :: Na+                                 |            0 | J/(mol*K) |\n",
      "| :: Cl-                                 |            0 | J/(mol*K) |\n",
      "| :: H+                                  |            0 | J/(mol*K) |\n",
      "| :: OH-                                 |            0 | J/(mol*K) |\n",
      "| :: K+                                  |            0 | J/(mol*K) |\n",
      "| :: Ca+2                                |            0 | J/(mol*K) |\n",
      "| :: Mg+2                                |            0 | J/(mol*K) |\n",
      "| :: NaX                                 |            0 | J/(mol*K) |\n",
      "| :: KX                                  |            0 | J/(mol*K) |\n",
      "| :: CaX2                                |            0 | J/(mol*K) |\n",
      "| :: MgX2                                |            0 | J/(mol*K) |\n",
      "| Standard Heat Capacity (constant V):   |              |           |\n",
      "| :: H2O                                 |            0 | J/(mol*K) |\n",
      "| :: Na+                                 |            0 | J/(mol*K) |\n",
      "| :: Cl-                                 |            0 | J/(mol*K) |\n",
      "| :: H+                                  |            0 | J/(mol*K) |\n",
      "| :: OH-                                 |            0 | J/(mol*K) |\n",
      "| :: K+                                  |            0 | J/(mol*K) |\n",
      "| :: Ca+2                                |            0 | J/(mol*K) |\n",
      "| :: Mg+2                                |            0 | J/(mol*K) |\n",
      "| :: NaX                                 |            0 | J/(mol*K) |\n",
      "| :: KX                                  |            0 | J/(mol*K) |\n",
      "| :: CaX2                                |            0 | J/(mol*K) |\n",
      "| :: MgX2                                |            0 | J/(mol*K) |\n",
      "+----------------------------------------+--------------+-----------+\n"
     ]
    }
   ],
   "source": [
    "db = PhreeqcDatabase(\"phreeqc.dat\")\n",
    "\n",
    "solution = AqueousPhase(\"H2O Na+ Cl- H+ OH- K+ Ca+2 Mg+2\")\n",
    "solution.setActivityModel(ActivityModelDebyeHuckel())\n",
    "\n",
    "exchange = IonExchangePhase(\"NaX KX CaX2 MgX2\")\n",
    "exchange.setActivityModel(ActivityModelIonExchangeGainesThomas())\n",
    "\n",
    "system = ChemicalSystem(db, solution, exchange)\n",
    "\n",
    "state = ChemicalState(system)\n",
    "state.set(\"H2O\" , 1.00, \"kg\")\n",
    "state.set(\"Na+\" , 1.00, \"mmol\")\n",
    "state.set(\"K+\"  , 1.00, \"mmol\")\n",
    "state.set(\"Mg+2\", 1.00, \"mmol\")\n",
    "state.set(\"Ca+2\", 1.00, \"mmol\")\n",
    "state.set(\"NaX\" , 0.06, \"umol\")\n",
    "state.set(\"KX\" ,  0.02, \"umol\")\n",
    "state.set(\"CaX2\" ,0.01, \"umol\")\n",
    "state.set(\"MgX2\" ,0.01, \"umol\")\n",
    "\n",
    "props = ChemicalProps(state)\n",
    "print(props)"
   ]
  },
  {
   "cell_type": "markdown",
   "metadata": {},
   "source": [
    "## Recap\n",
    "\n",
    "This guide demonstrated how you can create chemical systems with activity models of your choice assigned to the phases. Reaktoro is constantly under development and new activity models will be available over time. If you would like to help with the development of a specific activity model, [please get in touch](mailto:allan.leal@erdw.ethz.ch).\n",
    "\n",
    "```{admonition} Attention\n",
    "Ensure you have correctly selected and attached an activity model to a phase when comparing Reaktoro's computations with other codes. When benchmarking, it is important to choose similar models. Ideally, you want to select the same one and use identical parameters for the model.\n",
    "```"
   ]
  }
 ],
 "metadata": {
  "interpreter": {
   "hash": "e4e8b2f3ae27709963f14fd23a6560d362beea55eaec742263828e04d814e23c"
  },
  "kernelspec": {
   "display_name": "Python 3.9.7 64-bit ('reaktoro-jupyter-book': conda)",
   "language": "python",
   "name": "python3"
  },
  "language_info": {
   "codemirror_mode": {
    "name": "ipython",
    "version": 3
   },
   "file_extension": ".py",
   "mimetype": "text/x-python",
   "name": "python",
   "nbconvert_exporter": "python",
   "pygments_lexer": "ipython3",
   "version": "3.9.9"
  },
  "orig_nbformat": 4
 },
 "nbformat": 4,
 "nbformat_minor": 2
}
