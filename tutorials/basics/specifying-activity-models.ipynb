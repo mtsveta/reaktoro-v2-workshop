{
 "cells": [
  {
   "cell_type": "markdown",
   "metadata": {},
   "source": [
    "# Specifying activity models\n",
    "\n",
    "*Activity models* are needed to accurately represent the *non-ideal thermodynamic behavior* of considered phases, i.e., when computing thermodynamic properties of phases and their species (e.g., species activities, chemical potentials, etc).\n",
    "\n",
    "**Example**: for *an aqueous solution* at extreme saline conditions, an activity model designed for low salinity conditions will not perform well.\n",
    "\n",
    "In Reaktoro, an **activity model assigned to a phase $\\pi$** is a function for which the following inputs are given:\n",
    "\n",
    "* temperature $T$ (in K),\n",
    "* pressure $P$ (in Pa), and\n",
    "* mole fractions of the species $x=(x_1,\\ldots,x_\\mathrm{N_{\\pi}})$.\n",
    "\n",
    "By default, all phases in Reaktoro are created with *ideal activity models* if not explicitly specified.\n",
    "\n",
    "Consider the following chemical system:"
   ]
  },
  {
   "cell_type": "code",
   "execution_count": null,
   "metadata": {},
   "outputs": [],
   "source": [
    "from reaktoro import *\n",
    "\n",
    "# Define the PHREEQC database\n",
    "db = PhreeqcDatabase(\"phreeqc.dat\")\n",
    "\n",
    "# Define phases\n",
    "solution = AqueousPhase(speciate(\"H O Na Cl C Ca Mg\"))\n",
    "gases = GaseousPhase(\"CO2(g) H2O(g)\")\n",
    "solidsolution = MineralPhase(\"Siderite Rhodochrosite\")\n",
    "ionexchange = IonExchangePhase(\"NaX CaX2\")\n",
    "\n",
    "# Create the chemical system\n",
    "system = ChemicalSystem(db, solution, gases, solidsolution, ionexchange)"
   ]
  },
  {
   "cell_type": "markdown",
   "metadata": {},
   "source": [
    "It is equivalent to the one below:"
   ]
  },
  {
   "cell_type": "code",
   "execution_count": null,
   "metadata": {},
   "outputs": [],
   "source": [
    "from reaktoro import *\n",
    "\n",
    "db = PhreeqcDatabase(\"phreeqc.dat\")\n",
    "\n",
    "solution = AqueousPhase(speciate(\"H O Na Cl C Ca Mg\"))\n",
    "solution.setActivityModel(ActivityModelIdealAqueous())\n",
    "\n",
    "gases = GaseousPhase(\"CO2(g) H2O(g)\")\n",
    "gases.setActivityModel(ActivityModelIdealGas())\n",
    "\n",
    "solidsolution = MineralPhase(\"Siderite Rhodochrosite\")\n",
    "solidsolution.setActivityModel(ActivityModelIdealSolution(StateOfMatter.Solid))\n",
    "\n",
    "ionexchange = IonExchangePhase(\"NaX CaX2\")\n",
    "ionexchange.setActivityModel(ActivityModelIdealIonExchange())\n",
    "\n",
    "system = ChemicalSystem(db, solution, gases, solidsolution, ionexchange)"
   ]
  },
  {
   "cell_type": "markdown",
   "metadata": {},
   "source": [
    "*Non-ideal thermodynamic behavior* can differ from phase to phase for various conditions. Below, we elaborate on selecting and configuring different activity models for different phases."
   ]
  },
  {
   "cell_type": "markdown",
   "metadata": {},
   "source": [
    "## Non-ideal activity models for aqueous phases\n",
    "\n",
    "The following are *non-ideal activity models* available for aqueous phases in Reaktoro:\n",
    "\n",
    "* `ActivityModelDebyeHuckel`\n",
    "* `ActivityModelDebyeHuckelKielland`\n",
    "* `ActivityModelDebyeHuckelLimitingLaw`\n",
    "* `ActivityModelDebyeHuckelParams`\n",
    "* `ActivityModelDebyeHuckelPHREEQC`\n",
    "* `ActivityModelDebyeHuckelWATEQ4F`\n",
    "* `ActivityModelHKF`\n",
    "* `ActivityModelPitzerHMW`\n",
    "\n",
    "### Activity model for water and ionic species\n",
    "\n",
    "The code below constructs a chemical system with an aqueous phase that uses the *HKF activity model* which is fairly accurate for solutions up to 6 molal NaCl."
   ]
  },
  {
   "cell_type": "code",
   "execution_count": null,
   "metadata": {},
   "outputs": [],
   "source": [
    "solution = AqueousPhase(speciate(\"H O Na Cl\"))\n",
    "solution.setActivityModel(ActivityModelHKF())\n",
    "\n",
    "system = ChemicalSystem(db, solution)"
   ]
  },
  {
   "cell_type": "markdown",
   "metadata": {},
   "source": [
    "Let's create a chemical state for this system (using [ChemicalState](https://reaktoro.org/api/classReaktoro_1_1ChemicalState.html) class), and set it so that we have a 1 molal NaCl saline solution. It contains chemical properties (provided by the class [ChemicalProps](https://reaktoro.org/api/classReaktoro_1_1ChemicalProps.html)) including the species' activity coefficients $\\gamma_i$."
   ]
  },
  {
   "cell_type": "code",
   "execution_count": null,
   "metadata": {},
   "outputs": [],
   "source": [
    "state = ChemicalState(system)\n",
    "state.temperature(25, \"celsius\")\n",
    "state.pressure(1, \"bar\")\n",
    "state.set(\"H2O\", 1.0, \"kg\")\n",
    "state.set(\"Na+\", 1.0, \"mol\")\n",
    "state.set(\"Cl-\", 1.0, \"mol\")\n",
    "\n",
    "print(f\"{'Species':<20}{'Activity Coefficient'}\")\n",
    "props = ChemicalProps(state)\n",
    "for species in system.species():\n",
    "    print(f\"{species.name():<20}{props.speciesActivityCoefficient(species.name())}\")"
   ]
  },
  {
   "cell_type": "markdown",
   "metadata": {},
   "source": [
    "Note that the activity coefficients for neutral species other than H<sub>2</sub>O, i.e., `H2`, `NaOH`, and `O2`, are identical and equal to 1.25894. This is because most aqueous activity models are formulated for **the solvent water and ionic species** and **do not** properly compute activity coefficients for the neutral species.\n",
    "\n",
    "### Correction for the neutral species\n",
    "\n",
    "One way to improve this is to *combine HKF aqueous activity model* with *Setschenow model* (must be applied **for each** neutral species). Let us recreate the chemical system, in which a *chained activity model* is applied to the aqueous phase:"
   ]
  },
  {
   "cell_type": "code",
   "execution_count": null,
   "metadata": {},
   "outputs": [],
   "source": [
    "solution = AqueousPhase(speciate(\"H O Na Cl\"))\n",
    "solution.setActivityModel(chain(\n",
    "    ActivityModelHKF(),\n",
    "    ActivityModelSetschenow(\"O2\", 0.123),\n",
    "    ActivityModelSetschenow(\"H2\", 0.234),\n",
    "    ActivityModelSetschenow(\"NaOH\", 0.345),\n",
    "))\n",
    "\n",
    "system = ChemicalSystem(db, solution)\n",
    "\n",
    "state = ChemicalState(system)\n",
    "state.temperature(25, \"celsius\")\n",
    "state.pressure(1, \"bar\")\n",
    "state.set(\"H2O\", 1.0, \"kg\")\n",
    "state.set(\"Na+\", 1.0, \"mol\")\n",
    "state.set(\"Cl-\", 1.0, \"mol\")\n",
    "\n",
    "print(f\"{'Species':<20}{'Activity Coefficient'}\")\n",
    "props = ChemicalProps(state)\n",
    "for species in system.species():\n",
    "    print(f\"{species.name():<20}{props.speciesActivityCoefficient(species.name())}\")"
   ]
  },
  {
   "cell_type": "markdown",
   "metadata": {},
   "source": [
    "Note that the activity coefficients of `O2`, `H2`, and `NaOH` are now different from each other. No changes were applied to the activity coefficients of `H2O` and ionic species.\n",
    "\n",
    "### Activity models for aqueous CO<sub>2</sub>\n",
    "\n",
    "CO<sub>2</sub> is a common gas dissolved in aqueous solutions. Most of the activity models above also do not properly calculate its activity (with exception of `ActivityModelPitzerHMW`). Thus, it is recommended to create a *chained activity model* with specific activity model for dissolved CO<sub>2</sub>, i.e.,\n",
    "\n",
    "* `ActivityModelDrummond`\n",
    "* `ActivityModelDuanSun`\n",
    "* `ActivityModelRumpf`"
   ]
  },
  {
   "cell_type": "markdown",
   "metadata": {},
   "source": [
    "**TASK 1**: 1) generate the system where the Drummond activity model is applied and 2) create 1-molal NaCl brine with 0.7 mol CO2 added to it 3) equilibrate and evaluate CO2(aq) activity coefficient"
   ]
  },
  {
   "cell_type": "code",
   "execution_count": null,
   "metadata": {},
   "outputs": [],
   "source": [
    "# -------------------------------------- #\n",
    "# Code cell for the task\n",
    "# -------------------------------------- #"
   ]
  },
  {
   "cell_type": "markdown",
   "metadata": {},
   "source": [
    "## Non-ideal activity models for gaseous and liquid phases\n",
    "\n",
    "Reaktoro implements a general form of the *cubic equation of state* from which classic models are derived. You can assign one of the following models to an [GaseousPhase](https://reaktoro.org/api/classReaktoro_1_1GaseousPhase.html) or [LiquidPhase](https://reaktoro.org/api/classReaktoro_1_1LiquidPhase.html) object:\n",
    "\n",
    "* `ActivityModelPengRobinson`\n",
    "* `ActivityModelRedlichKwong`\n",
    "* `ActivityModelSoaveRedlichKwong`\n",
    "* `ActivityModelVanDerWaals`\n",
    "\n",
    "Additionally, Reaktoro implements some equations of state designed for specific gaseous phases:\n",
    "\n",
    "* `ActivityModelSpycherPruessEnnis` (for H<sub>2</sub>O-CO<sub>2</sub> gas mixtures)\n",
    "* `ActivityModelSpycherReed` (for H<sub>2</sub>O-CO<sub>2</sub>-CH<sub>4</sub> gas mixtures)\n",
    "\n",
    "The example below demonstrates the use of the Peng-Robinson equation of state as the activity model for a gaseous phase:"
   ]
  },
  {
   "cell_type": "code",
   "execution_count": null,
   "metadata": {},
   "outputs": [],
   "source": [
    "gases = GaseousPhase(\"CO2(g) CH4(g) H2O(g) O2(g) H2(g)\")\n",
    "gases.setActivityModel(ActivityModelPengRobinson())\n",
    "\n",
    "system = ChemicalSystem(db, gases)"
   ]
  },
  {
   "cell_type": "markdown",
   "metadata": {},
   "source": [
    "Let's create a chemical state for this system and evaluate the fugacity coefficients of the gases (included in thermodynamic and chemical properties):"
   ]
  },
  {
   "cell_type": "code",
   "execution_count": null,
   "metadata": {},
   "outputs": [],
   "source": [
    "state = ChemicalState(system)\n",
    "state.temperature(100.0, \"celsius\")\n",
    "state.pressure(1.0, \"bar\")\n",
    "state.set(\"CO2(g)\", 0.80, \"mol\")\n",
    "state.set(\"CH4(g)\", 0.10, \"mol\")\n",
    "state.set(\"H2O(g)\", 0.05, \"mol\")\n",
    "state.set(\"O2(g)\",  0.03, \"mol\")\n",
    "state.set(\"H2(g)\",  0.02, \"mol\")\n",
    "\n",
    "props = ChemicalProps(state)\n",
    "\n",
    "print(f\"{'Gas':<10}{'Fugacity Coefficient'}\")\n",
    "for i in range(system.species().size()):\n",
    "    print(f\"{system.species(i).name():<10}{props.speciesActivityCoefficient(i)}\")"
   ]
  },
  {
   "cell_type": "markdown",
   "metadata": {},
   "source": [
    "The full list of properties of the system can be inspected using function `print`:"
   ]
  },
  {
   "cell_type": "code",
   "execution_count": null,
   "metadata": {
    "scrolled": true,
    "tags": [
     "output_scroll"
    ]
   },
   "outputs": [],
   "source": [
    "print(props)"
   ]
  },
  {
   "cell_type": "markdown",
   "metadata": {
    "jp-MarkdownHeadingCollapsed": true,
    "tags": []
   },
   "source": [
    "## Activity models for pure mineral and condensed phases\n",
    "\n",
    "*Pure minerals and condensed phases* (substances in solid or liquid states) are normally represented with a single species. Their chemical behavior is governed by ideal activity model."
   ]
  },
  {
   "cell_type": "markdown",
   "metadata": {},
   "source": [
    "## Activity models for solid solution phases\n",
    "\n",
    "Currently, Reaktoro supports only the following activity models for solid solutions:\n",
    "\n",
    "* `ActivityModelRedlichKister`\n",
    "\n",
    "Below, we create a chemical system with a single solid solution phase (formed with minerals K-feldspar and albite) governed by the Redlich-Kister activity model, creates the chemical state based on this system, and prints its chemical properties:"
   ]
  },
  {
   "cell_type": "code",
   "execution_count": null,
   "metadata": {
    "scrolled": true,
    "tags": []
   },
   "outputs": [],
   "source": [
    "a0, a1, a2 = 1.0, 2.0, 3.0  # the Redlich-Kister parameters (justdemonstration values!)\n",
    "\n",
    "solidsolution = SolidPhase(\"K-feldspar Albite\")\n",
    "solidsolution.setActivityModel(ActivityModelRedlichKister(a0, a1, a2))\n",
    "\n",
    "system = ChemicalSystem(db, solidsolution)\n",
    "\n",
    "state = ChemicalState(system)\n",
    "state.set(\"K-feldspar\", 0.5, \"mol\")\n",
    "state.set(\"Albite\", 0.5, \"mol\")\n",
    "\n",
    "props = ChemicalProps(state)\n",
    "print(props)"
   ]
  },
  {
   "cell_type": "markdown",
   "metadata": {},
   "source": [
    "## Activity models for ion exchange phases\n",
    "\n",
    "For non-ideal activity models for ion exchange phases, the following is currently available in Reaktoro:\n",
    "\n",
    "* `ActivityModelIonExchangeGainesThomas`\n",
    "* `ActivityModelIonExchangeVanselow`\n",
    "\n",
    "Below, we create a chemical system with aqueous and ion exchange phases and corresponding chemical state as well compute and output system's chemical properties:"
   ]
  },
  {
   "cell_type": "code",
   "execution_count": null,
   "metadata": {
    "scrolled": true,
    "tags": [
     "output_scroll"
    ]
   },
   "outputs": [],
   "source": [
    "db = PhreeqcDatabase(\"phreeqc.dat\")\n",
    "\n",
    "solution = AqueousPhase(\"H2O Na+ Cl- H+ OH- K+ Ca+2 Mg+2\")\n",
    "solution.setActivityModel(ActivityModelDebyeHuckel())\n",
    "\n",
    "exchange = IonExchangePhase(\"NaX KX CaX2 MgX2\")\n",
    "exchange.setActivityModel(ActivityModelIonExchangeGainesThomas())\n",
    "\n",
    "system = ChemicalSystem(db, solution, exchange)\n",
    "\n",
    "state = ChemicalState(system)\n",
    "state.set(\"H2O\" , 1.00, \"kg\")\n",
    "state.set(\"Na+\" , 1.00, \"mmol\")\n",
    "state.set(\"K+\"  , 1.00, \"mmol\")\n",
    "state.set(\"Mg+2\", 1.00, \"mmol\")\n",
    "state.set(\"Ca+2\", 1.00, \"mmol\")\n",
    "state.set(\"NaX\" , 0.06, \"umol\")\n",
    "state.set(\"KX\" ,  0.02, \"umol\")\n",
    "state.set(\"CaX2\" ,0.01, \"umol\")\n",
    "state.set(\"MgX2\" ,0.01, \"umol\")\n",
    "\n",
    "props = ChemicalProps(state)\n",
    "print(props)"
   ]
  },
  {
   "cell_type": "markdown",
   "metadata": {},
   "source": [
    "**TASK 2**: equilibrate the ion-exchange problem above and investigate which things are calculated when evaluating ion-exchange properties."
   ]
  },
  {
   "cell_type": "code",
   "execution_count": null,
   "metadata": {},
   "outputs": [],
   "source": [
    "# -------------------------------------- #\n",
    "# Code cell for the task\n",
    "# -------------------------------------- #"
   ]
  },
  {
   "cell_type": "markdown",
   "metadata": {},
   "source": [
    "**Note**: The correct selection and attachment of activity model to a phase is vital. *Special care must be applied* when comparing Reaktoro's computations with other codes (up to considering the identical set of parameters for the activity model)."
   ]
  }
 ],
 "metadata": {
  "interpreter": {
   "hash": "e4e8b2f3ae27709963f14fd23a6560d362beea55eaec742263828e04d814e23c"
  },
  "kernelspec": {
   "display_name": "PyCharm (reaktoro-v2-with-conda)",
   "language": "python",
   "name": "pycharm-1ee75b1a"
  },
  "language_info": {
   "codemirror_mode": {
    "name": "ipython",
    "version": 3
   },
   "file_extension": ".py",
   "mimetype": "text/x-python",
   "name": "python",
   "nbconvert_exporter": "python",
   "pygments_lexer": "ipython3",
   "version": "3.9.7"
  }
 },
 "nbformat": 4,
 "nbformat_minor": 4
}
