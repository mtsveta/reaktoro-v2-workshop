{
 "cells": [
  {
   "cell_type": "markdown",
   "metadata": {},
   "source": [
    "# Chemical equilibrium with fixed phase amount\n",
    "\n",
    "**Problem**: consider an aqueous solution at 60 °C obtained by mixing 1 kg of H<sub>2</sub>O, 1 mol of NaCl and 1 mol of CO<sub>2</sub>. What must the pressure of this aqueous solution be so that it becomes saturated with CO<sub>2</sub> (forming bubbles of CO<sub>2</sub>)?\n",
    "\n",
    "We formulate a chemical equilibrium problem to calculate the CO<sub>2</sub> bubble/saturation pressure P<sub>bubble</sub> in the brine. The chemical system consists of aqueous and gaseous phases. The **amount of gaseous phase must be constraint to be a tiny value** to model the limit condition in which a bubbles are formed."
   ]
  },
  {
   "cell_type": "code",
   "execution_count": 1,
   "metadata": {},
   "outputs": [],
   "source": [
    "from reaktoro import *\n",
    "\n",
    "db = PhreeqcDatabase(\"pitzer.dat\")\n",
    "\n",
    "solution = AqueousPhase(speciate(\"H O Na Cl C\"))\n",
    "solution.setActivityModel(ActivityModelPitzerHMW())\n",
    "\n",
    "gases = GaseousPhase(\"CO2(g) H2O(g)\")\n",
    "gases.setActivityModel(ActivityModelPengRobinson())\n",
    "\n",
    "system = ChemicalSystem(db, solution, gases)"
   ]
  },
  {
   "cell_type": "markdown",
   "metadata": {},
   "source": [
    "The initial chemical state for this system represents the 1 molal NaCl and 1 molal CO<sub>2</sub> brine at 60 °C:"
   ]
  },
  {
   "cell_type": "code",
   "execution_count": 2,
   "metadata": {},
   "outputs": [
    {
     "name": "stdout",
     "output_type": "stream",
     "text": [
      "INITIAL STATE\n",
      "+-----------------+-------------+------+\n",
      "| Property        |       Value | Unit |\n",
      "+-----------------+-------------+------+\n",
      "| Temperature     |    333.1500 |    K |\n",
      "| Pressure        |      1.0000 |  bar |\n",
      "| Charge:         | -1.0000e-16 |  mol |\n",
      "| Element Amount: |             |      |\n",
      "| :: H            |  1.1101e+02 |  mol |\n",
      "| :: C            |  1.0000e+00 |  mol |\n",
      "| :: O            |  5.7506e+01 |  mol |\n",
      "| :: Na           |  1.0000e+00 |  mol |\n",
      "| :: Cl           |  1.0000e+00 |  mol |\n",
      "| Species Amount: |             |      |\n",
      "| :: H+           |  1.0000e-16 |  mol |\n",
      "| :: H2O          |  5.5506e+01 |  mol |\n",
      "| :: CO3-2        |  1.0000e-16 |  mol |\n",
      "| :: CO2          |  1.0000e+00 |  mol |\n",
      "| :: Cl-          |  1.0000e+00 |  mol |\n",
      "| :: HCO3-        |  1.0000e-16 |  mol |\n",
      "| :: Na+          |  1.0000e+00 |  mol |\n",
      "| :: OH-          |  1.0000e-16 |  mol |\n",
      "| :: CO2(g)       |  1.0000e-16 |  mol |\n",
      "| :: H2O(g)       |  1.0000e-16 |  mol |\n",
      "+-----------------+-------------+------+\n"
     ]
    }
   ],
   "source": [
    "state = ChemicalState(system)\n",
    "state.temperature(60.0, \"celsius\")\n",
    "state.set(\"H2O\", 1.0, \"kg\")\n",
    "state.set(\"Na+\", 1.0, \"mol\")\n",
    "state.set(\"Cl-\", 1.0, \"mol\")\n",
    "state.set(\"CO2\", 1.0, \"mol\")\n",
    "\n",
    "print(\"INITIAL STATE\")\n",
    "print(state)"
   ]
  },
  {
   "cell_type": "markdown",
   "metadata": {},
   "source": [
    "These constraint specifications are provided with the [EquilibriumSpecs](https://reaktoro.org/api/classReaktoro_1_1EquilibriumSpecs.html) and the desired values of \n",
    "\n",
    "* **temperature** and \n",
    "* **amount of gas phase** \n",
    "\n",
    "are set via [EquilibriumConditions](https://reaktoro.org/api/classReaktoro_1_1EquilibriumConditions.html). We also define **lower and upper limits for pressure** (to avoid negative and unrealistic large pressure values during the equilibrium calculation):"
   ]
  },
  {
   "cell_type": "code",
   "execution_count": 3,
   "metadata": {},
   "outputs": [
    {
     "name": "stdout",
     "output_type": "stream",
     "text": [
      "FINAL STATE\n",
      "+-----------------+-------------+------+\n",
      "| Property        |       Value | Unit |\n",
      "+-----------------+-------------+------+\n",
      "| Temperature     |    333.1500 |    K |\n",
      "| Pressure        |    259.7338 |  bar |\n",
      "| Charge:         | -1.4299e-17 |  mol |\n",
      "| Element Amount: |             |      |\n",
      "| :: H            |  1.1101e+02 |  mol |\n",
      "| :: C            |  1.0000e+00 |  mol |\n",
      "| :: O            |  5.7506e+01 |  mol |\n",
      "| :: Na           |  1.0000e+00 |  mol |\n",
      "| :: Cl           |  1.0000e+00 |  mol |\n",
      "| Species Amount: |             |      |\n",
      "| :: H+           |  1.2704e-03 |  mol |\n",
      "| :: H2O          |  5.5505e+01 |  mol |\n",
      "| :: CO3-2        |  6.6145e-10 |  mol |\n",
      "| :: CO2          |  9.9873e-01 |  mol |\n",
      "| :: Cl-          |  1.0000e+00 |  mol |\n",
      "| :: HCO3-        |  1.2704e-03 |  mol |\n",
      "| :: Na+          |  1.0000e+00 |  mol |\n",
      "| :: OH-          |  1.8094e-10 |  mol |\n",
      "| :: CO2(g)       |  9.7193e-07 |  mol |\n",
      "| :: H2O(g)       |  2.8071e-08 |  mol |\n",
      "+-----------------+-------------+------+\n"
     ]
    }
   ],
   "source": [
    "specs = EquilibriumSpecs(system)\n",
    "specs.temperature()\n",
    "specs.phaseAmount(\"GaseousPhase\")\n",
    "\n",
    "solver = EquilibriumSolver(specs)\n",
    "\n",
    "conditions = EquilibriumConditions(specs)\n",
    "conditions.temperature(60.0, \"celsius\")\n",
    "conditions.phaseAmount(\"GaseousPhase\", 1.0, \"umol\")  # umol = 1e-6 moles\n",
    "conditions.setLowerBoundPressure(1.0, \"bar\")\n",
    "conditions.setUpperBoundPressure(1000.0, \"bar\")\n",
    "\n",
    "solver.solve(state, conditions)\n",
    "\n",
    "print(\"FINAL STATE\")\n",
    "print(state)"
   ]
  },
  {
   "cell_type": "markdown",
   "metadata": {},
   "source": [
    "**TASK:** print the CO<sub>2</sub> saturation pressure for our aqueous solution."
   ]
  },
  {
   "cell_type": "code",
   "execution_count": 4,
   "metadata": {
    "pycharm": {
     "name": "#%%\n"
    }
   },
   "outputs": [
    {
     "name": "stdout",
     "output_type": "stream",
     "text": [
      "Computed saturation pressure is 259.734 bar\n"
     ]
    }
   ],
   "source": [
    "# -------------------------------------- #\n",
    "# Code cell for the task\n",
    "# -------------------------------------- #\n",
    "P = state.pressure() * 1e-5  # convert pressure from Pa to bar\n",
    "print(\"Computed saturation pressure is\", P, \"bar\")"
   ]
  }
 ],
 "metadata": {
  "interpreter": {
   "hash": "e4e8b2f3ae27709963f14fd23a6560d362beea55eaec742263828e04d814e23c"
  },
  "kernelspec": {
   "display_name": "Python 3 (ipykernel)",
   "language": "python",
   "name": "python3"
  },
  "language_info": {
   "codemirror_mode": {
    "name": "ipython",
    "version": 3
   },
   "file_extension": ".py",
   "mimetype": "text/x-python",
   "name": "python",
   "nbconvert_exporter": "python",
   "pygments_lexer": "ipython3",
   "version": "3.9.7"
  }
 },
 "nbformat": 4,
 "nbformat_minor": 4
}
