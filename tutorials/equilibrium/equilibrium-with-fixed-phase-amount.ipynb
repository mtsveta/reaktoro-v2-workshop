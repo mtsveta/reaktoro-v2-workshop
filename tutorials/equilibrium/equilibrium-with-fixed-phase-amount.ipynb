{
 "cells": [
  {
   "cell_type": "markdown",
   "metadata": {},
   "source": [
    "# Chemical equilibrium with fixed phase amount\n",
    "\n",
    "<p class=\"acknowledgement\">Written by Allan Leal (ETH Zurich) on Jan 7th, 2022</p>\n",
    "\n",
    "Consider an aqueous solution at 60 °C obtained by mixing 1 kg of H{{_2}}O, 1 mol of NaCl and 1 mol of CO{{_2}}. What must the pressure of this aqueous solution be so that it is saturated with CO{{_2}}? In other words, what is the pressure that causes a bubble of CO{{_2}} to form (the bubble pressure)?\n",
    "\n",
    "In this tutorial, we formulate a chemical equilibrium problem to calculate the CO{{_2}} bubble/saturation pressure of this aqueous saline solution. In this problem, we consider a chemical system with an aqueous and gaseous phases. Our equilibrium problem will consider **a constraint that imposes the amount of the gas phase to be a minuscule value** (to model the limit condition in which a bubble is formed).\n",
    "\n",
    "Let's create our {{ChemicalSystem}} object with these phases:"
   ]
  },
  {
   "cell_type": "code",
   "execution_count": 2,
   "metadata": {},
   "outputs": [],
   "source": [
    "from reaktoro import *\n",
    "\n",
    "db = PhreeqcDatabase(\"pitzer.dat\")\n",
    "\n",
    "solution = AqueousPhase(speciate(\"H O Na Cl C\"))\n",
    "solution.setActivityModel(ActivityModelPitzerHMW())\n",
    "\n",
    "gases = GaseousPhase(\"CO2(g) H2O(g)\")\n",
    "gases.setActivityModel(ActivityModelPengRobinson())\n",
    "\n",
    "system = ChemicalSystem(db, solution, gases)"
   ]
  },
  {
   "cell_type": "markdown",
   "metadata": {},
   "source": [
    "Next, we create an initial chemical state for this system representing our aqueous solution at 60 °C (with composition 1 molal NaCl and 1 molal CO{{_2}}):"
   ]
  },
  {
   "cell_type": "code",
   "execution_count": 3,
   "metadata": {},
   "outputs": [
    {
     "name": "stdout",
     "output_type": "stream",
     "text": [
      "INITIAL STATE\n",
      "+-----------------+---------+------+\n",
      "| Property        |   Value | Unit |\n",
      "+-----------------+---------+------+\n",
      "| Temperature     |  333.15 |    K |\n",
      "| Pressure        |  100000 |   Pa |\n",
      "| Charge:         |  -1e-16 |  mol |\n",
      "| Element Amount: |         |      |\n",
      "| :: H            | 111.012 |  mol |\n",
      "| :: C            |       1 |  mol |\n",
      "| :: O            | 57.5062 |  mol |\n",
      "| :: Na           |       1 |  mol |\n",
      "| :: Cl           |       1 |  mol |\n",
      "| Species Amount: |         |      |\n",
      "| :: H+           |   1e-16 |  mol |\n",
      "| :: H2O          | 55.5062 |  mol |\n",
      "| :: CO3-2        |   1e-16 |  mol |\n",
      "| :: CO2          |       1 |  mol |\n",
      "| :: Cl-          |       1 |  mol |\n",
      "| :: HCO3-        |   1e-16 |  mol |\n",
      "| :: Na+          |       1 |  mol |\n",
      "| :: OH-          |   1e-16 |  mol |\n",
      "| :: CO2(g)       |   1e-16 |  mol |\n",
      "| :: H2O(g)       |   1e-16 |  mol |\n",
      "+-----------------+---------+------+\n"
     ]
    }
   ],
   "source": [
    "state = ChemicalState(system)\n",
    "state.temperature(60.0, \"celsius\")\n",
    "state.set(\"H2O\", 1.0, \"kg\")\n",
    "state.set(\"Na+\", 1.0, \"mol\")\n",
    "state.set(\"Cl-\", 1.0, \"mol\")\n",
    "state.set(\"CO2\", 1.0, \"mol\")\n",
    "\n",
    "print(\"INITIAL STATE\")\n",
    "print(state)"
   ]
  },
  {
   "cell_type": "markdown",
   "metadata": {},
   "source": [
    "We need now to create an {{EquilibriumSolver}} that can solve equilibrium problems with the following constrained properties:\n",
    "\n",
    "* temperature; and\n",
    "* amount of gaseous phase.\n",
    "\n",
    "These constraint specifications are provided to the {{EquilibriumSpecs}} object below, which is then used to construct our {{EquilibriumSolver}} object:"
   ]
  },
  {
   "cell_type": "code",
   "execution_count": 5,
   "metadata": {},
   "outputs": [],
   "source": [
    "specs = EquilibriumSpecs(system)\n",
    "specs.temperature()\n",
    "specs.phaseAmount(\"GaseousPhase\")\n",
    "\n",
    "solver = EquilibriumSolver(specs)"
   ]
  },
  {
   "cell_type": "markdown",
   "metadata": {},
   "source": [
    "The next step is to create an object {{EquilibriumConditions}} in which we specify the values of **temperature** and **amount of gas phase** (which should be a small amount). We do this in the next code block, which also defines the lower and upper limits for pressure (to avoid negative and unrealistic large pressure values during the equilibrium calculation!):"
   ]
  },
  {
   "cell_type": "code",
   "execution_count": 6,
   "metadata": {},
   "outputs": [],
   "source": [
    "conditions = EquilibriumConditions(specs)\n",
    "conditions.temperature(60.0, \"celsius\")\n",
    "conditions.phaseAmount(\"GaseousPhase\", 1.0, \"umol\")  # umol = 1e-6 moles\n",
    "conditions.setLowerBoundPressure(1.0, \"bar\")\n",
    "conditions.setUpperBoundPressure(1000.0, \"bar\")"
   ]
  },
  {
   "cell_type": "markdown",
   "metadata": {},
   "source": [
    "We now have everything needed to perform the calculation:"
   ]
  },
  {
   "cell_type": "code",
   "execution_count": 7,
   "metadata": {},
   "outputs": [
    {
     "name": "stdout",
     "output_type": "stream",
     "text": [
      "FINAL STATE\n",
      "+-----------------+--------------+------+\n",
      "| Property        |        Value | Unit |\n",
      "+-----------------+--------------+------+\n",
      "| Temperature     |       333.15 |    K |\n",
      "| Pressure        |  2.59734e+07 |   Pa |\n",
      "| Charge:         | -1.42989e-17 |  mol |\n",
      "| Element Amount: |              |      |\n",
      "| :: H            |      111.012 |  mol |\n",
      "| :: C            |            1 |  mol |\n",
      "| :: O            |      57.5062 |  mol |\n",
      "| :: Na           |            1 |  mol |\n",
      "| :: Cl           |            1 |  mol |\n",
      "| Species Amount: |              |      |\n",
      "| :: H+           |   0.00127043 |  mol |\n",
      "| :: H2O          |      55.5049 |  mol |\n",
      "| :: CO3-2        |  6.61448e-10 |  mol |\n",
      "| :: CO2          |     0.998729 |  mol |\n",
      "| :: Cl-          |            1 |  mol |\n",
      "| :: HCO3-        |   0.00127043 |  mol |\n",
      "| :: Na+          |            1 |  mol |\n",
      "| :: OH-          |  1.80938e-10 |  mol |\n",
      "| :: CO2(g)       |  9.71929e-07 |  mol |\n",
      "| :: H2O(g)       |  2.80706e-08 |  mol |\n",
      "+-----------------+--------------+------+\n"
     ]
    }
   ],
   "source": [
    "solver.solve(state, conditions)\n",
    "\n",
    "print(\"FINAL STATE\")\n",
    "print(state)"
   ]
  },
  {
   "cell_type": "markdown",
   "metadata": {},
   "source": [
    "The CO{{_2}} saturation pressure for our aqueous solution is printed next: "
   ]
  },
  {
   "cell_type": "code",
   "execution_count": 9,
   "metadata": {},
   "outputs": [
    {
     "name": "stdout",
     "output_type": "stream",
     "text": [
      "Computed saturation pressure is 259.734 bar\n"
     ]
    }
   ],
   "source": [
    "P = state.pressure() * 1e-5  # convert pressure from Pa to bar\n",
    "print(\"Computed saturation pressure is\", P, \"bar\")"
   ]
  },
  {
   "cell_type": "markdown",
   "metadata": {},
   "source": [
    "And with that, we conclude this tutorial, which demonstrates how Reaktoro can perform chemical equilibrium calculations with given **temperature** and **phase amounts** to calculate the CO{{_2}} saturation/bubble pressure of an aqueous electrolyte solution."
   ]
  }
 ],
 "metadata": {
  "interpreter": {
   "hash": "e4e8b2f3ae27709963f14fd23a6560d362beea55eaec742263828e04d814e23c"
  },
  "kernelspec": {
   "display_name": "Python 3.9.7 64-bit ('reaktoro-jupyter-book': conda)",
   "language": "python",
   "name": "python3"
  },
  "language_info": {
   "codemirror_mode": {
    "name": "ipython",
    "version": 3
   },
   "file_extension": ".py",
   "mimetype": "text/x-python",
   "name": "python",
   "nbconvert_exporter": "python",
   "pygments_lexer": "ipython3",
   "version": "3.9.7"
  },
  "orig_nbformat": 4
 },
 "nbformat": 4,
 "nbformat_minor": 2
}
