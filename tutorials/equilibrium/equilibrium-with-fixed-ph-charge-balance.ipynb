{
 "cells": [
  {
   "cell_type": "markdown",
   "metadata": {},
   "source": [
    "# Chemical equilibrium with fixed pH and charge balance\n",
    "\n",
    "**Recap**: Imposing pH of a solution in a chemical equilibrium calculation leaves the system open to H<sup>+</sup>. This results into the final solution with nonzero electrical charge.\n",
    "\n",
    "Below, we demonstrate how to perform chemical equilibrium calculations with **pH** and **charge balance** restrictions. The chemical system below is defined with single aqueous phase with thermodynamic data fetched from the [SupcrtDatabase](https://reaktoro.org/api/classReaktoro_1_1SupcrtDatabase.html) object:"
   ]
  },
  {
   "cell_type": "code",
   "execution_count": 1,
   "metadata": {},
   "outputs": [],
   "source": [
    "from reaktoro import *\n",
    "\n",
    "db = SupcrtDatabase(\"supcrtbl\")\n",
    "\n",
    "solution = AqueousPhase(\"H2O(aq) H+ OH- Na+ Cl- HCO3- CO2(aq) CO3-2\")\n",
    "solution.setActivityModel(ActivityModelDebyeHuckel())\n",
    "\n",
    "system = ChemicalSystem(db, solution)"
   ]
  },
  {
   "cell_type": "markdown",
   "metadata": {},
   "source": [
    "Since\n",
    "\n",
    "* temperature,\n",
    "* pressure,\n",
    "* pH, and\n",
    "* electric charge\n",
    "\n",
    "must be constrained and system is already open to entering/leaving H<sup>+</sup>, we need to make it open to an anion (negative ion) to counterbalance positive change of hydrogen ion. This is done by Cl<sup>-</sup>:"
   ]
  },
  {
   "cell_type": "code",
   "execution_count": 2,
   "metadata": {},
   "outputs": [],
   "source": [
    "specs = EquilibriumSpecs(system)\n",
    "specs.temperature()\n",
    "specs.pressure()\n",
    "specs.pH()          # opens the system to H+\n",
    "specs.charge()\n",
    "specs.openTo(\"Cl-\") # needs to be set to counterbalance positive charge of H+\n",
    "\n",
    "solver = EquilibriumSolver(specs)"
   ]
  },
  {
   "cell_type": "markdown",
   "metadata": {},
   "source": [
    "The *initial chemical state* for our chemical system is defined as follows:"
   ]
  },
  {
   "cell_type": "code",
   "execution_count": 3,
   "metadata": {
    "scrolled": true,
    "tags": []
   },
   "outputs": [
    {
     "name": "stdout",
     "output_type": "stream",
     "text": [
      "INITIAL STATE\n",
      "+-----------------+-------------+------+\n",
      "| Property        |       Value | Unit |\n",
      "+-----------------+-------------+------+\n",
      "| Temperature     |    303.1500 |    K |\n",
      "| Pressure        |      1.0000 |  bar |\n",
      "| Charge:         | -3.0000e-16 |  mol |\n",
      "| Element Amount: |             |      |\n",
      "| :: H            |  1.1102e+02 |  mol |\n",
      "| :: C            |  1.0000e-01 |  mol |\n",
      "| :: O            |  5.5708e+01 |  mol |\n",
      "| :: Na           |  1.0000e-02 |  mol |\n",
      "| :: Cl           |  1.0000e-02 |  mol |\n",
      "| Species Amount: |             |      |\n",
      "| :: H2O(aq)      |  5.5508e+01 |  mol |\n",
      "| :: H+           |  1.0000e-16 |  mol |\n",
      "| :: OH-          |  1.0000e-16 |  mol |\n",
      "| :: Na+          |  1.0000e-02 |  mol |\n",
      "| :: Cl-          |  1.0000e-02 |  mol |\n",
      "| :: HCO3-        |  1.0000e-16 |  mol |\n",
      "| :: CO2(aq)      |  1.0000e-01 |  mol |\n",
      "| :: CO3-2        |  1.0000e-16 |  mol |\n",
      "+-----------------+-------------+------+\n"
     ]
    }
   ],
   "source": [
    "state = ChemicalState(system)\n",
    "state.temperature(30.0, \"celsius\")\n",
    "state.pressure(1.0, \"bar\")\n",
    "state.set(\"H2O(aq)\", 1.00, \"kg\")\n",
    "state.set(\"Na+\"    , 0.01, \"mol\")\n",
    "state.set(\"Cl-\"    , 0.01, \"mol\")\n",
    "state.set(\"CO2(aq)\", 0.10, \"mol\")\n",
    "\n",
    "print(\"INITIAL STATE\")\n",
    "print(state)"
   ]
  },
  {
   "cell_type": "markdown",
   "metadata": {},
   "source": [
    "Next, we set the temperature, pressure, pH, and charge conditions we want to impose at equilibrium for this aqueous solution currently in disequilibrium and equilibrate (using verification of calculation success):"
   ]
  },
  {
   "cell_type": "code",
   "execution_count": 4,
   "metadata": {
    "pycharm": {
     "is_executing": true
    }
   },
   "outputs": [
    {
     "name": "stdout",
     "output_type": "stream",
     "text": [
      "Successful computation!\n",
      "FINAL STATE\n",
      "+-----------------+-------------+------+\n",
      "| Property        |       Value | Unit |\n",
      "+-----------------+-------------+------+\n",
      "| Temperature     |    323.1500 |    K |\n",
      "| Pressure        |     10.0000 |  bar |\n",
      "| Charge:         | -2.2055e-18 |  mol |\n",
      "| Element Amount: |             |      |\n",
      "| :: H            |  1.1103e+02 |  mol |\n",
      "| :: C            |  1.0000e-01 |  mol |\n",
      "| :: O            |  5.5708e+01 |  mol |\n",
      "| :: Na           |  1.0000e-02 |  mol |\n",
      "| :: Cl           |  2.1127e-02 |  mol |\n",
      "| Species Amount: |             |      |\n",
      "| :: H2O(aq)      |  5.5508e+01 |  mol |\n",
      "| :: H+           |  1.1133e-02 |  mol |\n",
      "| :: OH-          |  6.1358e-12 |  mol |\n",
      "| :: Na+          |  1.0000e-02 |  mol |\n",
      "| :: Cl-          |  2.1127e-02 |  mol |\n",
      "| :: HCO3-        |  6.1507e-06 |  mol |\n",
      "| :: CO2(aq)      |  9.9994e-02 |  mol |\n",
      "| :: CO3-2        |  6.0702e-14 |  mol |\n",
      "+-----------------+-------------+------+\n"
     ]
    }
   ],
   "source": [
    "conditions = EquilibriumConditions(specs)\n",
    "conditions.temperature(50.0, \"celsius\")\n",
    "conditions.pressure(10.0, \"bar\")\n",
    "conditions.pH(2.0)\n",
    "conditions.charge(0.0)\n",
    "\n",
    "result = solver.solve(state, conditions)\n",
    "print(\"Successful computation!\" if result.optima.succeeded else \"Computation has failed!\")\n",
    "\n",
    "print(\"FINAL STATE\")\n",
    "print(state)"
   ]
  },
  {
   "cell_type": "markdown",
   "metadata": {},
   "source": [
    "**TASK**: 1) evaluate and output aqueous properties to make sure that fixed properties are met 2) investigate how much H<sup>+</sup> and Cl<sup>-</sup> entered/leaved the system (compared to the initial state) so that both pH and charge conditions could be reached."
   ]
  },
  {
   "cell_type": "code",
   "execution_count": 5,
   "metadata": {
    "scrolled": true,
    "tags": []
   },
   "outputs": [
    {
     "name": "stdout",
     "output_type": "stream",
     "text": [
      "AQUEOUS PROPERTIES AT EQUILIBRIUM\n",
      "+-----------------------------------+------------+-------+\n",
      "| Property                          |      Value |  Unit |\n",
      "+-----------------------------------+------------+-------+\n",
      "| Temperature                       |   323.1500 |     K |\n",
      "| Pressure                          |    10.0000 |   bar |\n",
      "| Ionic Strength (Effective)        |     0.0211 | molal |\n",
      "| Ionic Strength (Stoichiometric)   |     0.0211 | molal |\n",
      "| pH                                |     2.0000 |       |\n",
      "| pE                                |     1.3421 |       |\n",
      "| Eh                                |     0.0861 |     V |\n",
      "| Element Molality:                 |            |       |\n",
      "| :: C                              | 1.0000e-01 | molal |\n",
      "| :: Na                             | 1.0000e-02 | molal |\n",
      "| :: Cl                             | 2.1127e-02 | molal |\n",
      "| Species Molality:                 |            |       |\n",
      "| :: H+                             | 1.1133e-02 | molal |\n",
      "| :: OH-                            | 6.1358e-12 | molal |\n",
      "| :: Na+                            | 1.0000e-02 | molal |\n",
      "| :: Cl-                            | 2.1127e-02 | molal |\n",
      "| :: HCO3-                          | 6.1508e-06 | molal |\n",
      "| :: CO2(aq)                        | 9.9994e-02 | molal |\n",
      "| :: CO3-2                          | 6.0703e-14 | molal |\n",
      "| Saturation Indices (log base 10): |            |       |\n",
      "| :: O2(g)                          |   -64.0586 |     - |\n",
      "| :: p-Cresol(g) :: CH3C6H4(OH)     |   -53.2650 |     - |\n",
      "| :: m-Cresol(g) :: CH3C6H4(OH)     |   -51.6682 |     - |\n",
      "| :: CH4(g)                         |    -5.4132 |     - |\n",
      "| :: CO(g)                          |    -9.9715 |     - |\n",
      "| :: CO2(g)                         |    -0.2822 |     - |\n",
      "| :: H2(g)                          |    -7.1497 |     - |\n",
      "| :: Ethylene(g) :: C2H4            |   -24.4885 |     - |\n",
      "| :: H2O(g)                         |    -1.9187 |     - |\n",
      "| :: Phenol(g) :: C6H5OH            |   -46.3912 |     - |\n",
      "| :: o-Cresol(g) :: CH3C6H4(OH)     |   -52.2246 |     - |\n",
      "| :: Graphite :: C                  |     0.0238 |     - |\n",
      "| :: Diamond :: C                   |    -0.4748 |     - |\n",
      "| :: Halite :: NaCl                 |    -5.3824 |     - |\n",
      "+-----------------------------------+------------+-------+\n",
      "Amount of H+  that entered the system: 0.011127035386385114 mol\n",
      "Amount of Cl- that entered the system: 0.011127035386384815 mol\n"
     ]
    }
   ],
   "source": [
    "# -------------------------------------- #\n",
    "# Code cell for the task\n",
    "# -------------------------------------- #\n",
    "aprops = AqueousProps(state)\n",
    "\n",
    "print(\"AQUEOUS PROPERTIES AT EQUILIBRIUM\")\n",
    "print(aprops)\n",
    "\n",
    "print(\"Amount of H+  that entered the system:\", state.equilibrium().implicitTitrantAmounts()[0], \"mol\")\n",
    "print(\"Amount of Cl- that entered the system:\", state.equilibrium().explicitTitrantAmounts()[0], \"mol\")"
   ]
  },
  {
   "cell_type": "markdown",
   "metadata": {
    "pycharm": {
     "name": "#%% md\n"
    }
   },
   "source": [
    "We can now see that pH is exactly 2, and temperature and pressure are 50 °C and 10 bar (but displayed in the table as 323.15 K and 10<sup>6</sup> Pa respectively). The results shown above demonstrate that our constraints were satisfied at equilibrium and that both H<sup>+</sup> and Cl<sup>-</sup> entered the system with a numerically equal amount."
   ]
  }
 ],
 "metadata": {
  "interpreter": {
   "hash": "e4e8b2f3ae27709963f14fd23a6560d362beea55eaec742263828e04d814e23c"
  },
  "kernelspec": {
   "display_name": "Python 3 (ipykernel)",
   "language": "python",
   "name": "python3"
  },
  "language_info": {
   "codemirror_mode": {
    "name": "ipython",
    "version": 3
   },
   "file_extension": ".py",
   "mimetype": "text/x-python",
   "name": "python",
   "nbconvert_exporter": "python",
   "pygments_lexer": "ipython3",
   "version": "3.9.7"
  }
 },
 "nbformat": 4,
 "nbformat_minor": 4
}
