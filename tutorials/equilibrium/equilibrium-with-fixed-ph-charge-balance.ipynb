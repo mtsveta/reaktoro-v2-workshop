{
 "cells": [
  {
   "cell_type": "markdown",
   "metadata": {},
   "source": [
    "# Chemical equilibrium with fixed pH and charge balance\n",
    "\n",
    "<p class=\"acknowledgement\">Written by Allan Leal (ETH Zurich) on Jan 7th, 2022</p>\n",
    "\n",
    "As we saw in the previous tutorial, imposing the pH of a solution in a chemical equilibrium calculation leaves the system open to H<sup>+</sup>. As a result, the final solution may not have zero electrical charge.\n",
    "\n",
    "So, in this tutorial we demonstrate how to perform chemical equilibrium calculations with fixed pH values while simultaneously satisfying charge balance.\n",
    "\n",
    "Let's create a chemical system (using {{ChemicalSystem}}) with just a single aqueous phase containing a few selected species. For this phase, we use a Debye–Hückel activity model. The required thermodynamic data for the species is extracted from the {{SupcrtDatabase}} object:"
   ]
  },
  {
   "cell_type": "code",
   "execution_count": 1,
   "metadata": {},
   "outputs": [],
   "source": [
    "from reaktoro import *\n",
    "\n",
    "db = SupcrtDatabase(\"supcrtbl\")\n",
    "\n",
    "solution = AqueousPhase(\"H2O(aq) H+ OH- Na+ Cl- HCO3- CO2(aq) CO3-2\")\n",
    "solution.setActivityModel(ActivityModelDebyeHuckel())\n",
    "\n",
    "system = ChemicalSystem(db, solution)"
   ]
  },
  {
   "cell_type": "markdown",
   "metadata": {},
   "source": [
    "We want to perform a chemical equilibrium calculation in which the following properties are constrained:\n",
    "\n",
    "* temperature;\n",
    "* pressure; \n",
    "* pH; and\n",
    "* electric charge.\n",
    "\n",
    "To attain a desired charge value in the solution, we will need to make the system open to a anion (negative ion) to counterbalance the amount of H<sup>+</sup> entering/leaving the system. We will use Cl<sup>-</sup> for this.\n",
    "\n",
    "Let's now create a specialized and optimized {{EquilibriumSolver}} object to handle equilibrium problems with these specifications (note the use of {{EquilibriumSpecs}} below to achieve this):"
   ]
  },
  {
   "cell_type": "code",
   "execution_count": 2,
   "metadata": {},
   "outputs": [],
   "source": [
    "specs = EquilibriumSpecs(system)\n",
    "specs.temperature()\n",
    "specs.pressure()\n",
    "specs.pH()\n",
    "specs.charge()\n",
    "specs.openTo(\"Cl-\")\n",
    "\n",
    "solver = EquilibriumSolver(specs)"
   ]
  },
  {
   "cell_type": "markdown",
   "metadata": {},
   "source": [
    "We should now create an initial chemical state for our chemical system:"
   ]
  },
  {
   "cell_type": "code",
   "execution_count": 3,
   "metadata": {},
   "outputs": [
    {
     "name": "stdout",
     "output_type": "stream",
     "text": [
      "INITIAL STATE\n",
      "+-----------------+-------------+------+\n",
      "| Property        |       Value | Unit |\n",
      "+-----------------+-------------+------+\n",
      "| Temperature     |    303.1500 |    K |\n",
      "| Pressure        |      1.0000 |  bar |\n",
      "| Charge:         | -3.0000e-16 |  mol |\n",
      "| Element Amount: |             |      |\n",
      "| :: H            |  1.1102e+02 |  mol |\n",
      "| :: C            |  1.0000e-01 |  mol |\n",
      "| :: O            |  5.5708e+01 |  mol |\n",
      "| :: Na           |  1.0000e-02 |  mol |\n",
      "| :: Cl           |  1.0000e-02 |  mol |\n",
      "| Species Amount: |             |      |\n",
      "| :: H2O(aq)      |  5.5508e+01 |  mol |\n",
      "| :: H+           |  1.0000e-16 |  mol |\n",
      "| :: OH-          |  1.0000e-16 |  mol |\n",
      "| :: Na+          |  1.0000e-02 |  mol |\n",
      "| :: Cl-          |  1.0000e-02 |  mol |\n",
      "| :: HCO3-        |  1.0000e-16 |  mol |\n",
      "| :: CO2(aq)      |  1.0000e-01 |  mol |\n",
      "| :: CO3-2        |  1.0000e-16 |  mol |\n",
      "+-----------------+-------------+------+\n"
     ]
    }
   ],
   "source": [
    "state = ChemicalState(system)\n",
    "state.temperature(30.0, \"celsius\")\n",
    "state.pressure(1.0, \"bar\")\n",
    "state.set(\"H2O(aq)\", 1.00, \"kg\")\n",
    "state.set(\"Na+\"    , 0.01, \"mol\")\n",
    "state.set(\"Cl-\"    , 0.01, \"mol\")\n",
    "state.set(\"CO2(aq)\", 0.10, \"mol\")\n",
    "\n",
    "print(\"INITIAL STATE\")\n",
    "print(state)"
   ]
  },
  {
   "cell_type": "markdown",
   "metadata": {},
   "source": [
    "Let's now define the temperature, pressure, pH, and charge conditions we want to impose at equilibrium for this aqueous solution currently in disequilibrium. We do this by using an object of class {{EquilibriumConditions}}:"
   ]
  },
  {
   "cell_type": "code",
   "execution_count": 4,
   "metadata": {},
   "outputs": [],
   "source": [
    "conditions = EquilibriumConditions(specs)\n",
    "conditions.temperature(50.0, \"celsius\")\n",
    "conditions.pressure(10.0, \"bar\")\n",
    "conditions.pH(2.0)\n",
    "conditions.charge(0.0)"
   ]
  },
  {
   "cell_type": "markdown",
   "metadata": {},
   "source": [
    "We have everything we need now to perform the equilibrium calculation:\n",
    "\n",
    "* an equilibrium solver (the `solver` object of class {{EquilibriumSolver}});\n",
    "* an initial chemical state to equilibrate (the `state` object of class {{ChemicalState}}); and\n",
    "* the conditions we are imposing for this equilibrium state (the `conditions` object of class {{EquilibriumConditions}}).\n",
    "\n",
    "The code below will perform the equilibrium calculation and modify the `state` object to reflect the computed chemical equilibrium state:"
   ]
  },
  {
   "cell_type": "code",
   "execution_count": 5,
   "metadata": {},
   "outputs": [
    {
     "name": "stdout",
     "output_type": "stream",
     "text": [
      "FINAL STATE\n",
      "+-----------------+-------------+------+\n",
      "| Property        |       Value | Unit |\n",
      "+-----------------+-------------+------+\n",
      "| Temperature     |    323.1500 |    K |\n",
      "| Pressure        |     10.0000 |  bar |\n",
      "| Charge:         | -2.2055e-18 |  mol |\n",
      "| Element Amount: |             |      |\n",
      "| :: H            |  1.1103e+02 |  mol |\n",
      "| :: C            |  1.0000e-01 |  mol |\n",
      "| :: O            |  5.5708e+01 |  mol |\n",
      "| :: Na           |  1.0000e-02 |  mol |\n",
      "| :: Cl           |  2.1127e-02 |  mol |\n",
      "| Species Amount: |             |      |\n",
      "| :: H2O(aq)      |  5.5508e+01 |  mol |\n",
      "| :: H+           |  1.1133e-02 |  mol |\n",
      "| :: OH-          |  6.1358e-12 |  mol |\n",
      "| :: Na+          |  1.0000e-02 |  mol |\n",
      "| :: Cl-          |  2.1127e-02 |  mol |\n",
      "| :: HCO3-        |  6.1507e-06 |  mol |\n",
      "| :: CO2(aq)      |  9.9994e-02 |  mol |\n",
      "| :: CO3-2        |  6.0702e-14 |  mol |\n",
      "+-----------------+-------------+------+\n"
     ]
    }
   ],
   "source": [
    "result = solver.solve(state, conditions)\n",
    "\n",
    "print(\"FINAL STATE\")\n",
    "print(state)"
   ]
  },
  {
   "cell_type": "markdown",
   "metadata": {},
   "source": [
    "It's always advisable to verify if the calculation succeeded:"
   ]
  },
  {
   "cell_type": "code",
   "execution_count": 6,
   "metadata": {},
   "outputs": [
    {
     "name": "stdout",
     "output_type": "stream",
     "text": [
      "Successful computation!\n"
     ]
    }
   ],
   "source": [
    "print(\"Successful computation!\" if result.optima.succeeded else \"Computation has failed!\")"
   ]
  },
  {
   "cell_type": "markdown",
   "metadata": {},
   "source": [
    "We can see from the table above that electric charge in the computed equilibrium state is numerically zero (i.e., very close to machine precision, 2.220446e-16). \n",
    "\n",
    "Let's check the aqueous properties of this equilibrium state to verify if we obtained the desired pH:"
   ]
  },
  {
   "cell_type": "code",
   "execution_count": 7,
   "metadata": {
    "tags": []
   },
   "outputs": [
    {
     "name": "stdout",
     "output_type": "stream",
     "text": [
      "AQUEOUS PROPERTIES AT EQUILIBRIUM\n",
      "+-----------------------------------+------------+-------+\n",
      "| Property                          |      Value |  Unit |\n",
      "+-----------------------------------+------------+-------+\n",
      "| Temperature                       |   323.1500 |     K |\n",
      "| Pressure                          |    10.0000 |   bar |\n",
      "| Ionic Strength (Effective)        |     0.0211 | molal |\n",
      "| Ionic Strength (Stoichiometric)   |     0.0211 | molal |\n",
      "| pH                                |     2.0000 |       |\n",
      "| pE                                |     1.3421 |       |\n",
      "| Eh                                |     0.0861 |     V |\n",
      "| Element Molality:                 |            |       |\n",
      "| :: C                              | 1.0000e-01 | molal |\n",
      "| :: Na                             | 1.0000e-02 | molal |\n",
      "| :: Cl                             | 2.1127e-02 | molal |\n",
      "| Species Molality:                 |            |       |\n",
      "| :: H+                             | 1.1133e-02 | molal |\n",
      "| :: OH-                            | 6.1358e-12 | molal |\n",
      "| :: Na+                            | 1.0000e-02 | molal |\n",
      "| :: Cl-                            | 2.1127e-02 | molal |\n",
      "| :: HCO3-                          | 6.1508e-06 | molal |\n",
      "| :: CO2(aq)                        | 9.9994e-02 | molal |\n",
      "| :: CO3-2                          | 6.0703e-14 | molal |\n",
      "| Saturation Indices (log base 10): |            |       |\n",
      "| :: CH4(g)                         |    -5.4132 |     - |\n",
      "| :: CO(g)                          |    -9.9715 |     - |\n",
      "| :: CO2(g)                         |    -0.2822 |     - |\n",
      "| :: H2(g)                          |    -7.1497 |     - |\n",
      "| :: O2(g)                          |   -64.0586 |     - |\n",
      "| :: H2O(g)                         |    -1.9187 |     - |\n",
      "| :: Phenol(g) :: C6H5OH            |   -46.3912 |     - |\n",
      "| :: o-Cresol(g) :: CH3C6H4(OH)     |   -52.2246 |     - |\n",
      "| :: m-Cresol(g) :: CH3C6H4(OH)     |   -51.6682 |     - |\n",
      "| :: p-Cresol(g) :: CH3C6H4(OH)     |   -53.2650 |     - |\n",
      "| :: Ethylene(g) :: C2H4            |   -24.4885 |     - |\n",
      "| :: Halite :: NaCl                 |    -5.3824 |     - |\n",
      "| :: Diamond :: C                   |    -0.4748 |     - |\n",
      "| :: Graphite :: C                  |     0.0238 |     - |\n",
      "+-----------------------------------+------------+-------+\n"
     ]
    }
   ],
   "source": [
    "aprops = AqueousProps(state)\n",
    "\n",
    "print(\"AQUEOUS PROPERTIES AT EQUILIBRIUM\")\n",
    "print(aprops)"
   ]
  },
  {
   "cell_type": "markdown",
   "metadata": {},
   "source": [
    "Great! We can now see that pH is exactly 2, as we enforced, and temperature and\n",
    "pressure are 50 °C and 10 bar (but displayed in the table as 323.15 K and\n",
    "10<sup>6</sup> Pa respectively).\n",
    "\n",
    "Let's now check how much H<sup>+</sup> and Cl<sup>-</sup> entered/leaved the system (compared to the initial state) so that both pH and charge conditions could be reached:"
   ]
  },
  {
   "cell_type": "code",
   "execution_count": 8,
   "metadata": {},
   "outputs": [
    {
     "name": "stdout",
     "output_type": "stream",
     "text": [
      "Amount of H+ that entered the system: 0.011127035386385114 mol\n",
      "Amount of Cl- that entered the system: 0.011127035386384815 mol\n"
     ]
    }
   ],
   "source": [
    "print(\"Amount of H+ that entered the system:\", state.equilibrium().implicitTitrantAmounts()[0], \"mol\")\n",
    "print(\"Amount of Cl- that entered the system:\", state.equilibrium().explicitTitrantAmounts()[0], \"mol\")"
   ]
  },
  {
   "cell_type": "markdown",
   "metadata": {},
   "source": [
    "That's it! The results shown above demonstrate that our constraints were satisfied at equilibrium and that both H<sup>+</sup> and Cl<sup>-</sup> entered the system with a numerically equal amount."
   ]
  }
 ],
 "metadata": {
  "interpreter": {
   "hash": "e4e8b2f3ae27709963f14fd23a6560d362beea55eaec742263828e04d814e23c"
  },
  "kernelspec": {
   "display_name": "Python 3.9.7 64-bit ('reaktoro-jupyter-book': conda)",
   "name": "python3"
  },
  "language_info": {
   "codemirror_mode": {
    "name": "ipython",
    "version": 3
   },
   "file_extension": ".py",
   "mimetype": "text/x-python",
   "name": "python",
   "nbconvert_exporter": "python",
   "pygments_lexer": "ipython3",
   "version": "3.9.10"
  },
  "orig_nbformat": 4
 },
 "nbformat": 4,
 "nbformat_minor": 2
}
