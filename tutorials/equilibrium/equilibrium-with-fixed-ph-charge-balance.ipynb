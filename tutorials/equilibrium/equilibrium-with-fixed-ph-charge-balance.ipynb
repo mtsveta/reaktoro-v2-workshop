{
 "cells": [
  {
   "cell_type": "markdown",
   "metadata": {},
   "source": [
    "# Chemical equilibrium with fixed pH and charge balance\n",
    "\n",
    "**Recap**: Imposing pH of a solution in a chemical equilibrium calculation leaves the system open to H<sup>+</sup>. This results into the final solution with nonzero electrical charge.\n",
    "\n",
    "Below, we demonstrate how to perform chemical equilibrium calculations with **pH** and **charge balance** restrictions. The chemical system below is defined with single aqueous phase with thermodynamic data fetched from the [SupcrtDatabase](https://reaktoro.org/api/classReaktoro_1_1SupcrtDatabase.html) object:"
   ]
  },
  {
   "cell_type": "code",
   "execution_count": null,
   "metadata": {},
   "outputs": [],
   "source": [
    "from reaktoro import *\n",
    "\n",
    "db = SupcrtDatabase(\"supcrtbl\")\n",
    "\n",
    "solution = AqueousPhase(\"H2O(aq) H+ OH- Na+ Cl- HCO3- CO2(aq) CO3-2\")\n",
    "solution.setActivityModel(ActivityModelDebyeHuckel())\n",
    "\n",
    "system = ChemicalSystem(db, solution)"
   ]
  },
  {
   "cell_type": "markdown",
   "metadata": {},
   "source": [
    "Since\n",
    "\n",
    "* temperature,\n",
    "* pressure,\n",
    "* pH, and\n",
    "* electric charge\n",
    "\n",
    "must be constrained and system is already open to entering/leaving H<sup>+</sup>, we need to make it open to an anion (negative ion) to counterbalance positive change of hydrogen ion. This is done by Cl<sup>-</sup>:"
   ]
  },
  {
   "cell_type": "code",
   "execution_count": null,
   "metadata": {},
   "outputs": [],
   "source": [
    "specs = EquilibriumSpecs(system)\n",
    "specs.temperature()\n",
    "specs.pressure()\n",
    "specs.pH()          # opens the system to H+\n",
    "specs.charge()\n",
    "specs.openTo(\"Cl-\") # needs to be set to counterbalance positive charge of H+\n",
    "\n",
    "solver = EquilibriumSolver(specs)"
   ]
  },
  {
   "cell_type": "markdown",
   "metadata": {},
   "source": [
    "The *initial chemical state* for our chemical system is defined as follows:"
   ]
  },
  {
   "cell_type": "code",
   "execution_count": null,
   "metadata": {
    "scrolled": true,
    "tags": []
   },
   "outputs": [],
   "source": [
    "state = ChemicalState(system)\n",
    "state.temperature(30.0, \"celsius\")\n",
    "state.pressure(1.0, \"bar\")\n",
    "state.set(\"H2O(aq)\", 1.00, \"kg\")\n",
    "state.set(\"Na+\"    , 0.01, \"mol\")\n",
    "state.set(\"Cl-\"    , 0.01, \"mol\")\n",
    "state.set(\"CO2(aq)\", 0.10, \"mol\")\n",
    "\n",
    "print(\"INITIAL STATE\")\n",
    "print(state)"
   ]
  },
  {
   "cell_type": "markdown",
   "metadata": {},
   "source": [
    "Next, we set the temperature, pressure, pH, and charge conditions we want to impose at equilibrium for this aqueous solution currently in disequilibrium and equilibrate (using verification of calculation success):"
   ]
  },
  {
   "cell_type": "code",
   "execution_count": null,
   "metadata": {
    "pycharm": {
     "is_executing": true
    }
   },
   "outputs": [],
   "source": [
    "conditions = EquilibriumConditions(specs)\n",
    "conditions.temperature(50.0, \"celsius\")\n",
    "conditions.pressure(10.0, \"bar\")\n",
    "conditions.pH(2.0)\n",
    "conditions.charge(0.0)\n",
    "\n",
    "result = solver.solve(state, conditions)\n",
    "print(\"Successful computation!\" if result.optima.succeeded else \"Computation has failed!\")\n",
    "\n",
    "print(\"FINAL STATE\")\n",
    "print(state)"
   ]
  },
  {
   "cell_type": "markdown",
   "metadata": {},
   "source": [
    "**TASK**: 1) evaluate and output aqueous properties to make sure that fixed properties are met 2) investigate how much H<sup>+</sup> and Cl<sup>-</sup> entered/leaved the system (compared to the initial state) so that both pH and charge conditions could be reached."
   ]
  },
  {
   "cell_type": "code",
   "execution_count": null,
   "metadata": {
    "scrolled": true,
    "tags": []
   },
   "outputs": [],
   "source": [
    "# -------------------------------------- #\n",
    "# Code cell for the task\n",
    "# -------------------------------------- #"
   ]
  },
  {
   "cell_type": "markdown",
   "metadata": {
    "pycharm": {
     "name": "#%% md\n"
    }
   },
   "source": [
    "We can now see that pH is exactly 2, and temperature and pressure are 50 °C and 10 bar (but displayed in the table as 323.15 K and 10<sup>6</sup> Pa respectively). The results shown above demonstrate that our constraints were satisfied at equilibrium and that both H<sup>+</sup> and Cl<sup>-</sup> entered the system with a numerically equal amount."
   ]
  }
 ],
 "metadata": {
  "interpreter": {
   "hash": "e4e8b2f3ae27709963f14fd23a6560d362beea55eaec742263828e04d814e23c"
  },
  "kernelspec": {
   "display_name": "Python 3 (ipykernel)",
   "language": "python",
   "name": "python3"
  },
  "language_info": {
   "codemirror_mode": {
    "name": "ipython",
    "version": 3
   },
   "file_extension": ".py",
   "mimetype": "text/x-python",
   "name": "python",
   "nbconvert_exporter": "python",
   "pygments_lexer": "ipython3",
   "version": "3.9.7"
  }
 },
 "nbformat": 4,
 "nbformat_minor": 4
}
