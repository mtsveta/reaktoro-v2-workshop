{
 "cells": [
  {
   "cell_type": "markdown",
   "metadata": {},
   "source": [
    "# Chemical equilibrium with fixed pH\n",
    "\n",
    "<p class=\"acknowledgement\">Written by Allan Leal (ETH Zurich) on Jan 7th, 2022</p>\n",
    "\n",
    "Fixing the pH of an aqueous solution is a common procedure in biogeochemical modeling. This requires, however, the introduction of a new *degree of freedom* in the problem. This is because we cannot, in general, obtain a desired pH without titrating a substance in the solution. Thus, in the example given below, the system will be open to H<sup>+</sup>. The unknown amount of H<sup>+</sup> necessary to enter or leave the system to attain the requested pH is the new degree of freedom, and is calculated along with the amounts of species in equilibrium.\n",
    "\n",
    "```{note}\n",
    "The choice of H<sup>+</sup> as the *titrant* when fixing the pH of an aqueous solution may seem arbitrary and unintuitive to some coming from a different background or experienced with another convention used by other chemical modeling codes. For example, it can be questioned that a charged species not found isolated in nature (compared to HCl, for example) is chosen as the titrant. However, there are mathematical reasons behind this choice that make the problem to be solved more simply and efficiently. We will give examples later on how to combine this pH constraint with other conditions to demonstrate the full potential of this convention.\n",
    "```\n",
    "\n",
    "For our example, let's create a {{ChemicalSystem}} object containing a simple aqueous phase (with thermodynamic data for the species fetched from a {{PhreeqcDatabase}} object):"
   ]
  },
  {
   "cell_type": "code",
   "execution_count": 44,
   "metadata": {},
   "outputs": [],
   "source": [
    "from reaktoro import *\n",
    "\n",
    "db = PhreeqcDatabase(\"pitzer.dat\")\n",
    "\n",
    "solution = AqueousPhase(\"H2O H+ OH- Na+ Cl- HCO3- CO2 CO3-2\")\n",
    "solution.setActivityModel(ActivityModelPitzerHMW())\n",
    "\n",
    "system = ChemicalSystem(db, solution)"
   ]
  },
  {
   "cell_type": "markdown",
   "metadata": {},
   "source": [
    "Let's create a chemical equilibrium solver that expects the following properties as input conditions:\n",
    "\n",
    "* temperature;\n",
    "* pressure; and\n",
    "* pH.\n",
    "\n",
    "The code below will first create an {{EquilibriumSpecs}} object in which the above properties are marked as inputs and then use that to create our {{EquilibriumSolver}} object:"
   ]
  },
  {
   "cell_type": "code",
   "execution_count": 45,
   "metadata": {},
   "outputs": [],
   "source": [
    "specs = EquilibriumSpecs(system)\n",
    "specs.temperature()\n",
    "specs.pressure()\n",
    "specs.pH()\n",
    "\n",
    "solver = EquilibriumSolver(specs)"
   ]
  },
  {
   "cell_type": "markdown",
   "metadata": {},
   "source": [
    "We create now an initial chemical state for our system (using {{ChemicalState}}), which will represent a 1 molal NaCl solution with 0.4 molal dissolved CO{{_2}}:"
   ]
  },
  {
   "cell_type": "code",
   "execution_count": 46,
   "metadata": {},
   "outputs": [
    {
     "name": "stdout",
     "output_type": "stream",
     "text": [
      "INITIAL STATE\n",
      "+-----------------+---------+------+\n",
      "| Property        |   Value | Unit |\n",
      "+-----------------+---------+------+\n",
      "| Temperature     |  303.15 |    K |\n",
      "| Pressure        |  101325 |   Pa |\n",
      "| Charge:         |  -3e-16 |  mol |\n",
      "| Element Amount: |         |      |\n",
      "| :: H            | 111.012 |  mol |\n",
      "| :: C            |     0.4 |  mol |\n",
      "| :: O            | 56.3062 |  mol |\n",
      "| :: Na           |       1 |  mol |\n",
      "| :: Cl           |       1 |  mol |\n",
      "| Species Amount: |         |      |\n",
      "| :: H2O          | 55.5062 |  mol |\n",
      "| :: H+           |   1e-16 |  mol |\n",
      "| :: OH-          |   1e-16 |  mol |\n",
      "| :: Na+          |       1 |  mol |\n",
      "| :: Cl-          |       1 |  mol |\n",
      "| :: HCO3-        |   1e-16 |  mol |\n",
      "| :: CO2          |     0.4 |  mol |\n",
      "| :: CO3-2        |   1e-16 |  mol |\n",
      "+-----------------+---------+------+\n"
     ]
    }
   ],
   "source": [
    "state = ChemicalState(system)\n",
    "state.temperature(30.0, \"celsius\")\n",
    "state.pressure(1.0, \"atm\")\n",
    "state.set(\"H2O\", 1.0, \"kg\")\n",
    "state.set(\"Na+\", 1.0, \"mol\")\n",
    "state.set(\"Cl-\", 1.0, \"mol\")\n",
    "state.set(\"CO2\", 0.4, \"mol\")\n",
    "\n",
    "print(\"INITIAL STATE\")\n",
    "print(state)"
   ]
  },
  {
   "cell_type": "markdown",
   "metadata": {},
   "source": [
    "We need now to specify the desired values for temperature, pressure, and pH in the equilibrium state we want to compute. This is done next using {{EquilibriumConditions}}:"
   ]
  },
  {
   "cell_type": "code",
   "execution_count": 47,
   "metadata": {},
   "outputs": [],
   "source": [
    "conditions = EquilibriumConditions(specs)\n",
    "conditions.temperature(50.0, \"celsius\")\n",
    "conditions.pressure(10.0, \"atm\")\n",
    "conditions.pH(1.0)"
   ]
  },
  {
   "cell_type": "markdown",
   "metadata": {},
   "source": [
    "We are now ready for our chemical equilibrium calculation:"
   ]
  },
  {
   "cell_type": "code",
   "execution_count": 48,
   "metadata": {},
   "outputs": [
    {
     "name": "stdout",
     "output_type": "stream",
     "text": [
      "FINAL STATE\n",
      "+-----------------+-------------+------+\n",
      "| Property        |       Value | Unit |\n",
      "+-----------------+-------------+------+\n",
      "| Temperature     |      323.15 |    K |\n",
      "| Pressure        | 1.01325e+06 |   Pa |\n",
      "| Charge:         |    0.122916 |  mol |\n",
      "| Element Amount: |             |      |\n",
      "| :: H            |     111.135 |  mol |\n",
      "| :: C            |         0.4 |  mol |\n",
      "| :: O            |     56.3062 |  mol |\n",
      "| :: Na           |           1 |  mol |\n",
      "| :: Cl           |           1 |  mol |\n",
      "| Species Amount: |             |      |\n",
      "| :: H2O          |     55.5062 |  mol |\n",
      "| :: H+           |    0.122921 |  mol |\n",
      "| :: OH-          | 9.03813e-13 |  mol |\n",
      "| :: Na+          |           1 |  mol |\n",
      "| :: Cl-          |           1 |  mol |\n",
      "| :: HCO3-        | 4.36986e-06 |  mol |\n",
      "| :: CO2          |    0.399996 |  mol |\n",
      "| :: CO3-2        | 1.81834e-14 |  mol |\n",
      "+-----------------+-------------+------+\n"
     ]
    }
   ],
   "source": [
    "solver.solve(state, conditions)\n",
    "\n",
    "print(\"FINAL STATE\")\n",
    "print(state)"
   ]
  },
  {
   "cell_type": "markdown",
   "metadata": {},
   "source": [
    "The printed state above does not show pH. We can obtain aqueous properties from a chemical state using {{AqueousProps}}:"
   ]
  },
  {
   "cell_type": "code",
   "execution_count": 51,
   "metadata": {},
   "outputs": [
    {
     "name": "stdout",
     "output_type": "stream",
     "text": [
      "AQUEOUS PROPERTIES AT EQUILIBRIUM\n",
      "+--------------------------+-------------+-------+\n",
      "| Property                 |       Value |  Unit |\n",
      "+--------------------------+-------------+-------+\n",
      "| Temperature              |      323.15 |     K |\n",
      "| Pressure                 | 1.01325e+06 |    Pa |\n",
      "| Ionic Strength (Effect.) |     1.06151 | molal |\n",
      "| Ionic Strength (Stoich.) |     1.06151 | molal |\n",
      "| pH                       |           1 |       |\n",
      "| pE                       |      5.1853 |       |\n",
      "| Eh                       |    0.332481 |     V |\n",
      "| Element Molality:        |             |       |\n",
      "| :: C                     |    0.400016 | molal |\n",
      "| :: Na                    |     1.00004 | molal |\n",
      "| :: Cl                    |     1.00004 | molal |\n",
      "| Species Molality:        |             |       |\n",
      "| :: H+                    |    0.122926 | molal |\n",
      "| :: OH-                   |  9.0385e-13 | molal |\n",
      "| :: Na+                   |     1.00004 | molal |\n",
      "| :: Cl-                   |     1.00004 | molal |\n",
      "| :: HCO3-                 | 4.37004e-06 | molal |\n",
      "| :: CO2                   |    0.400012 | molal |\n",
      "| :: CO3-2                 | 1.81841e-14 | molal |\n",
      "+--------------------------+-------------+-------+\n"
     ]
    }
   ],
   "source": [
    "aprops = AqueousProps(state)\n",
    "\n",
    "print(\"AQUEOUS PROPERTIES AT EQUILIBRIUM\")\n",
    "print(aprops)"
   ]
  },
  {
   "cell_type": "markdown",
   "metadata": {},
   "source": [
    "In the table above, we see that temperature, pressure, and pH have values exactly like those given earlier in the {{EquilibriumConditions}} object (although with different temperature and pressure units).\n",
    "\n",
    "As a result of enforcing pH via `specs.pH()`, this executed equilibrium calculation considered the system to be open to H<sup>+</sup>. Let's find out below how much H<sup>+</sup> entered/leaved the system so that the desired pH could be reached:"
   ]
  },
  {
   "cell_type": "code",
   "execution_count": 54,
   "metadata": {},
   "outputs": [
    {
     "name": "stdout",
     "output_type": "stream",
     "text": [
      "Amount of H+ that entered the system: 0.12291636480068265 mol\n"
     ]
    }
   ],
   "source": [
    "print(\"Amount of H+ that entered the system:\", state.equilibrium().implicitTitrantAmounts()[0], \"mol\")"
   ]
  },
  {
   "cell_type": "markdown",
   "metadata": {},
   "source": [
    "Since H<sup>+</sup> is a charged species, our final chemical state does not have zero charge as the initial state:"
   ]
  },
  {
   "cell_type": "code",
   "execution_count": 53,
   "metadata": {},
   "outputs": [
    {
     "name": "stdout",
     "output_type": "stream",
     "text": [
      "Charge at equilibrium state: 0.122916 mol\n"
     ]
    }
   ],
   "source": [
    "print(\"Charge at equilibrium state:\", state.charge(), \"mol\")"
   ]
  },
  {
   "cell_type": "markdown",
   "metadata": {},
   "source": [
    "We'll learn in the next tutorial how a pH constraint can be combined with a charge constraint so that the system has zero charge at equilibrium (or whatever other value you may want to impose)."
   ]
  }
 ],
 "metadata": {
  "interpreter": {
   "hash": "e4e8b2f3ae27709963f14fd23a6560d362beea55eaec742263828e04d814e23c"
  },
  "kernelspec": {
   "display_name": "Python 3.9.7 64-bit ('reaktoro-jupyter-book': conda)",
   "language": "python",
   "name": "python3"
  },
  "language_info": {
   "codemirror_mode": {
    "name": "ipython",
    "version": 3
   },
   "file_extension": ".py",
   "mimetype": "text/x-python",
   "name": "python",
   "nbconvert_exporter": "python",
   "pygments_lexer": "ipython3",
   "version": "3.9.7"
  },
  "orig_nbformat": 4
 },
 "nbformat": 4,
 "nbformat_minor": 2
}
