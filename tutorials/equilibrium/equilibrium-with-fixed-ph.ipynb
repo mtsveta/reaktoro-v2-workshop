{
 "cells": [
  {
   "cell_type": "markdown",
   "metadata": {},
   "source": [
    "# Chemical equilibrium with fixed pH\n",
    "\n",
    "**Fixing the pH** introduction of a new *degree of freedom* in the problem. In general, we cannot obtain the desired pH without titrating a substance in the solution. Thus, the chemical system must be open to H<sup>+</sup>. The amount of H<sup>+</sup> (necessary to enter or leave the system to attain the requested pH) becomes the new degree of freedom and is calculated along with the amounts of species in equilibrium.\n",
    "\n",
    "> **Note**: the choice of H<sup>+</sup> as the *titrant* is dictated mathematically, making the problem to be solved more simply and efficiently.\n",
    "\n",
    "For our example, let's create a [ChemicalSystem](https://reaktoro.org/api/classReaktoro_1_1ChemicalSystem.html) object containing a simple aqueous phase:"
   ]
  },
  {
   "cell_type": "code",
   "execution_count": null,
   "metadata": {},
   "outputs": [],
   "source": [
    "from reaktoro import *\n",
    "\n",
    "db = PhreeqcDatabase(\"pitzer.dat\")\n",
    "\n",
    "solution = AqueousPhase(\"H2O H+ OH- Na+ Cl- HCO3- CO2 CO3-2\")\n",
    "solution.setActivityModel(ActivityModelPitzerHMW())\n",
    "\n",
    "system = ChemicalSystem(db, solution)"
   ]
  },
  {
   "cell_type": "markdown",
   "metadata": {},
   "source": [
    "We fix the following properties as fixed *input conditions*\n",
    "\n",
    "* temperature,\n",
    "* pressure, and\n",
    "* pH,\n",
    "\n",
    "and initialize equilibrium solver."
   ]
  },
  {
   "cell_type": "code",
   "execution_count": 2,
   "metadata": {},
   "outputs": [],
   "source": [
    "specs = EquilibriumSpecs(system)\n",
    "specs.temperature()\n",
    "specs.pressure()\n",
    "specs.pH()\n",
    "\n",
    "solver = EquilibriumSolver(specs)"
   ]
  },
  {
   "cell_type": "markdown",
   "metadata": {},
   "source": [
    "The *initial chemical* state represents a 1 molal NaCl solution with 0.4 molal dissolved CO<sub>2</sub>:"
   ]
  },
  {
   "cell_type": "code",
   "execution_count": 3,
   "metadata": {
    "scrolled": true,
    "tags": []
   },
   "outputs": [
    {
     "name": "stdout",
     "output_type": "stream",
     "text": [
      "INITIAL STATE\n",
      "+-----------------+-------------+------+\n",
      "| Property        |       Value | Unit |\n",
      "+-----------------+-------------+------+\n",
      "| Temperature     |    303.1500 |    K |\n",
      "| Pressure        |      1.0132 |  bar |\n",
      "| Charge:         | -3.0000e-16 |  mol |\n",
      "| Element Amount: |             |      |\n",
      "| :: H            |  1.1101e+02 |  mol |\n",
      "| :: C            |  4.0000e-01 |  mol |\n",
      "| :: O            |  5.6306e+01 |  mol |\n",
      "| :: Na           |  1.0000e+00 |  mol |\n",
      "| :: Cl           |  1.0000e+00 |  mol |\n",
      "| Species Amount: |             |      |\n",
      "| :: H2O          |  5.5506e+01 |  mol |\n",
      "| :: H+           |  1.0000e-16 |  mol |\n",
      "| :: OH-          |  1.0000e-16 |  mol |\n",
      "| :: Na+          |  1.0000e+00 |  mol |\n",
      "| :: Cl-          |  1.0000e+00 |  mol |\n",
      "| :: HCO3-        |  1.0000e-16 |  mol |\n",
      "| :: CO2          |  4.0000e-01 |  mol |\n",
      "| :: CO3-2        |  1.0000e-16 |  mol |\n",
      "+-----------------+-------------+------+\n"
     ]
    }
   ],
   "source": [
    "state = ChemicalState(system)\n",
    "state.temperature(30.0, \"celsius\")\n",
    "state.pressure(1.0, \"atm\")\n",
    "state.set(\"H2O\", 1.0, \"kg\")\n",
    "state.set(\"Na+\", 1.0, \"mol\")\n",
    "state.set(\"Cl-\", 1.0, \"mol\")\n",
    "state.set(\"CO2\", 0.4, \"mol\")\n",
    "\n",
    "print(\"INITIAL STATE\")\n",
    "print(state)"
   ]
  },
  {
   "cell_type": "markdown",
   "metadata": {},
   "source": [
    "Below, we set the desired values for temperature, pressure, and pH in the equilibrium state and equilibrate:"
   ]
  },
  {
   "cell_type": "code",
   "execution_count": 4,
   "metadata": {
    "scrolled": true,
    "tags": []
   },
   "outputs": [
    {
     "name": "stdout",
     "output_type": "stream",
     "text": [
      "FINAL STATE\n",
      "+-----------------+------------+------+\n",
      "| Property        |      Value | Unit |\n",
      "+-----------------+------------+------+\n",
      "| Temperature     |   323.1500 |    K |\n",
      "| Pressure        |    10.1325 |  bar |\n",
      "| Charge:         | 1.2292e-01 |  mol |\n",
      "| Element Amount: |            |      |\n",
      "| :: H            | 1.1114e+02 |  mol |\n",
      "| :: C            | 4.0000e-01 |  mol |\n",
      "| :: O            | 5.6306e+01 |  mol |\n",
      "| :: Na           | 1.0000e+00 |  mol |\n",
      "| :: Cl           | 1.0000e+00 |  mol |\n",
      "| Species Amount: |            |      |\n",
      "| :: H2O          | 5.5506e+01 |  mol |\n",
      "| :: H+           | 1.2292e-01 |  mol |\n",
      "| :: OH-          | 9.0381e-13 |  mol |\n",
      "| :: Na+          | 1.0000e+00 |  mol |\n",
      "| :: Cl-          | 1.0000e+00 |  mol |\n",
      "| :: HCO3-        | 4.3699e-06 |  mol |\n",
      "| :: CO2          | 4.0000e-01 |  mol |\n",
      "| :: CO3-2        | 1.8183e-14 |  mol |\n",
      "+-----------------+------------+------+\n"
     ]
    }
   ],
   "source": [
    "conditions = EquilibriumConditions(specs)\n",
    "conditions.temperature(50.0, \"celsius\")\n",
    "conditions.pressure(10.0, \"atm\")\n",
    "conditions.pH(1.0)\n",
    "\n",
    "solver.solve(state, conditions)\n",
    "\n",
    "print(\"FINAL STATE\")\n",
    "print(state)"
   ]
  },
  {
   "cell_type": "markdown",
   "metadata": {},
   "source": [
    "To pH can be obtained from the [AqueousProps](https://reaktoro.org/api/classReaktoro_1_1AqueousProps.html) class instance initialized using equilibrium state:"
   ]
  },
  {
   "cell_type": "code",
   "execution_count": 5,
   "metadata": {
    "scrolled": true,
    "tags": []
   },
   "outputs": [
    {
     "name": "stdout",
     "output_type": "stream",
     "text": [
      "AQUEOUS PROPERTIES AT EQUILIBRIUM\n",
      "+-----------------------------------+------------+-------+\n",
      "| Property                          |      Value |  Unit |\n",
      "+-----------------------------------+------------+-------+\n",
      "| Temperature                       |   323.1500 |     K |\n",
      "| Pressure                          |    10.1325 |   bar |\n",
      "| Ionic Strength (Effective)        |     1.0615 | molal |\n",
      "| Ionic Strength (Stoichiometric)   |     1.0615 | molal |\n",
      "| pH                                |     1.0000 |       |\n",
      "| pE                                |    -5.1853 |       |\n",
      "| Eh                                |    -0.3325 |     V |\n",
      "| Element Molality:                 |            |       |\n",
      "| :: C                              | 4.0002e-01 | molal |\n",
      "| :: Na                             | 1.0000e+00 | molal |\n",
      "| :: Cl                             | 1.0000e+00 | molal |\n",
      "| Species Molality:                 |            |       |\n",
      "| :: H+                             | 1.2293e-01 | molal |\n",
      "| :: OH-                            | 9.0385e-13 | molal |\n",
      "| :: Na+                            | 1.0000e+00 | molal |\n",
      "| :: Cl-                            | 1.0000e+00 | molal |\n",
      "| :: HCO3-                          | 4.3700e-06 | molal |\n",
      "| :: CO2                            | 4.0001e-01 | molal |\n",
      "| :: CO3-2                          | 1.8184e-14 | molal |\n",
      "| Saturation Indices (log base 10): |            |       |\n",
      "| :: CO2(g)                         |     0.3819 |     - |\n",
      "| :: H2O(g)                         |    -1.9384 |     - |\n",
      "| :: Halite :: NaCl                 |    -1.9448 |     - |\n",
      "| :: Nahcolite :: NaHCO3            |    -5.2238 |     - |\n",
      "| :: Natron :: Na2CO3:10H2O         |   -14.4637 |     - |\n",
      "| :: Trona :: Na3H(CO3)2:2H2O       |   -19.7458 |     - |\n",
      "+-----------------------------------+------------+-------+\n"
     ]
    }
   ],
   "source": [
    "aprops = AqueousProps(state)\n",
    "\n",
    "print(\"AQUEOUS PROPERTIES AT EQUILIBRIUM\")\n",
    "print(aprops)"
   ]
  },
  {
   "cell_type": "markdown",
   "metadata": {},
   "source": [
    "In the table above, we see that temperature, pressure, and pH have values exactly like those given earlier. Enforcing pH caused the system to be open to H<sup>+</sup>.\n",
    "\n",
    "> **Note**: since H<sup>+</sup> is a charged species, our final chemical state does not have zero charge as the initial state, see output of  `state.charge()`.\n",
    "\n",
    "**TASK:** find out below how much H<sup>+</sup> entered/left the system so that the desired pH could be reached and what is the charge of the resulting chemical state."
   ]
  },
  {
   "cell_type": "code",
   "execution_count": null,
   "metadata": {},
   "outputs": [],
   "source": [
    "# -------------------------------------- #\n",
    "# Code cell for the task\n",
    "# -------------------------------------- #"
   ]
  }
 ],
 "metadata": {
  "interpreter": {
   "hash": "e4e8b2f3ae27709963f14fd23a6560d362beea55eaec742263828e04d814e23c"
  },
  "kernelspec": {
   "display_name": "Python 3 (ipykernel)",
   "language": "python",
   "name": "python3"
  },
  "language_info": {
   "codemirror_mode": {
    "name": "ipython",
    "version": 3
   },
   "file_extension": ".py",
   "mimetype": "text/x-python",
   "name": "python",
   "nbconvert_exporter": "python",
   "pygments_lexer": "ipython3",
   "version": "3.9.7"
  }
 },
 "nbformat": 4,
 "nbformat_minor": 4
}