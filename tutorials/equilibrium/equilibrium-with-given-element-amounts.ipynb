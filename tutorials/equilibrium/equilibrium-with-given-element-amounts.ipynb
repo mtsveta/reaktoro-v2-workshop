{
 "cells": [
  {
   "cell_type": "markdown",
   "metadata": {},
   "source": [
    "# Chemical equilibrium with given element and charge amounts\n",
    "\n",
    "<p class=\"acknowledgement\">Written by Allan Leal (ETH Zurich) on Jan 7th, 2022</p>\n",
    "\n",
    "So far, you most likely have only seen Reaktoro performing chemical equilibrium calculations with a given initial chemical state in disequilibrium such as the one below:"
   ]
  },
  {
   "cell_type": "code",
   "execution_count": 1,
   "metadata": {},
   "outputs": [
    {
     "name": "stdout",
     "output_type": "stream",
     "text": [
      "+-----------------+-----------+------+\n",
      "| Property        |     Value | Unit |\n",
      "+-----------------+-----------+------+\n",
      "| Temperature     |   1273.15 |    K |\n",
      "| Pressure        |     1e+07 |   Pa |\n",
      "| Charge:         |         0 |  mol |\n",
      "| Element Amount: |           |      |\n",
      "| :: H            |         4 |  mol |\n",
      "| :: C            |         1 |  mol |\n",
      "| :: O            |         1 |  mol |\n",
      "| Species Amount: |           |      |\n",
      "| :: CH4          |  0.376062 |  mol |\n",
      "| :: O2           |     1e-16 |  mol |\n",
      "| :: CO2          | 0.0936296 |  mol |\n",
      "| :: CO           |  0.530308 |  mol |\n",
      "| :: H2O          |  0.282433 |  mol |\n",
      "| :: H2           |  0.965442 |  mol |\n",
      "+-----------------+-----------+------+\n"
     ]
    }
   ],
   "source": [
    "from reaktoro import *\n",
    "\n",
    "db = NasaDatabase(\"nasa-cea\")\n",
    "\n",
    "# Create a chemical system with only a gas phase\n",
    "system = ChemicalSystem(db, GaseousPhase(\"CH4 O2 CO2 CO H2O H2\"))\n",
    "\n",
    "# Create an initial state for this chemical system\n",
    "state = ChemicalState(system)\n",
    "state.temperature(1000, \"celsius\")\n",
    "state.pressure(100, \"bar\")\n",
    "state.set(\"CH4\", 1.0, \"mol\")\n",
    "state.set(\"O2\",  0.5, \"mol\")\n",
    "\n",
    "# Create an equilibrium solver and equilibrates `state`\n",
    "solver = EquilibriumSolver(system)\n",
    "solver.solve(state)\n",
    "\n",
    "print(state)"
   ]
  },
  {
   "cell_type": "markdown",
   "metadata": {},
   "source": [
    "In the background, when you called `solver.solve(state)` above, Reaktoro used the amounts of species in the initial state to compute the amounts of elements and charge. These are needed in an underlying mass conservation equation solved along with the Gibbs energy minimization problem.\n",
    "\n",
    "There are applications in which you may have the amounts of elements and charge of the system already and you want to use this as input to the chemical equilibrium calculation. \n",
    "\n",
    "```{note}\n",
    "We use the term *components* to denote both chemical elements and charge (or any other entities used as building blocks for chemical species).\n",
    "```\n",
    "\n",
    "We demonstrate below how this can be achieved so that we produce exact same results as shown in the table above."
   ]
  },
  {
   "cell_type": "code",
   "execution_count": 4,
   "metadata": {},
   "outputs": [
    {
     "name": "stdout",
     "output_type": "stream",
     "text": [
      "+-----------------+-----------+------+\n",
      "| Property        |     Value | Unit |\n",
      "+-----------------+-----------+------+\n",
      "| Temperature     |   1273.15 |    K |\n",
      "| Pressure        |     1e+07 |   Pa |\n",
      "| Charge:         |         0 |  mol |\n",
      "| Element Amount: |           |      |\n",
      "| :: H            |         4 |  mol |\n",
      "| :: C            |         1 |  mol |\n",
      "| :: O            |         1 |  mol |\n",
      "| Species Amount: |           |      |\n",
      "| :: CH4          |  0.376062 |  mol |\n",
      "| :: O2           |     1e-16 |  mol |\n",
      "| :: CO2          | 0.0936296 |  mol |\n",
      "| :: CO           |  0.530308 |  mol |\n",
      "| :: H2O          |  0.282433 |  mol |\n",
      "| :: H2           |  0.965442 |  mol |\n",
      "+-----------------+-----------+------+\n"
     ]
    }
   ],
   "source": [
    "import numpy\n",
    "\n",
    "Ne = system.elements().size()      # the number of elements in the system\n",
    "\n",
    "iC = system.elements().index(\"C\")  # the index of component C\n",
    "iH = system.elements().index(\"H\")  # the index of component H\n",
    "iO = system.elements().index(\"O\")  # the index of component O\n",
    "iZ = Ne                            # the index of component charge\n",
    "\n",
    "b = numpy.zeros(Ne + 1)  # the array with explicit amounts of elements and charge\n",
    "\n",
    "b[iC] = 1.0  # 1 mol of C\n",
    "b[iH] = 4.0  # 4 moles of H\n",
    "b[iO] = 1.0  # 1 mol of O\n",
    "b[iZ] = 0.0  # 0 mol of charge\n",
    "\n",
    "state = ChemicalState(system)\n",
    "state.temperature(1000, \"celsius\")\n",
    "state.pressure(100, \"bar\")\n",
    "\n",
    "solver.solve(state, b)\n",
    "\n",
    "print(state)"
   ]
  },
  {
   "cell_type": "markdown",
   "metadata": {},
   "source": [
    "That's it. The table above should show an identical equilibrium state as computed before.\n",
    "\n",
    "```{tip}\n",
    "If you are handling reactive transport simulations in which the mass conservation equations are formulated in terms of chemical elements and electrical charge, the above procedure should be what you are looking for. At each mesh cell/node (or degree of freedom), you would have a vector `b` representing the concentrations of elements and charges at that specific point in space. The equilibrium calculation would provide the amounts of species distributed among all phases (e.g., aqueous, liquid, gaseous, mineral, etc.). The associated chemical properties at equilibrium could be used to compute densities, enthalpies, and other properties of the phases.\n",
    "```"
   ]
  }
 ],
 "metadata": {
  "interpreter": {
   "hash": "e4e8b2f3ae27709963f14fd23a6560d362beea55eaec742263828e04d814e23c"
  },
  "kernelspec": {
   "display_name": "Python 3.9.7 64-bit ('reaktoro-jupyter-book': conda)",
   "language": "python",
   "name": "python3"
  },
  "language_info": {
   "codemirror_mode": {
    "name": "ipython",
    "version": 3
   },
   "file_extension": ".py",
   "mimetype": "text/x-python",
   "name": "python",
   "nbconvert_exporter": "python",
   "pygments_lexer": "ipython3",
   "version": "3.9.7"
  },
  "orig_nbformat": 4
 },
 "nbformat": 4,
 "nbformat_minor": 2
}
