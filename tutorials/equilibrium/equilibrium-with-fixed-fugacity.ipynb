{
 "cells": [
  {
   "cell_type": "markdown",
   "metadata": {},
   "source": [
    "# Chemical equilibrium with fixed fugacity\n",
    "\n",
    "This tutorial demonstrates the calculation of calcite (CaCO<sub>3</sub>) solubility in a saline aqueous solution for **given fugacity of CO<sub>2</sub>**.\n",
    "\n",
    "We consider a chemical system containing an aqueous phase, representing the brine, and a solid mineral phase to model our calcite mineral."
   ]
  },
  {
   "cell_type": "code",
   "execution_count": null,
   "metadata": {},
   "outputs": [],
   "source": [
    "from reaktoro import *\n",
    "\n",
    "db = PhreeqcDatabase(\"phreeqc.dat\")\n",
    "\n",
    "solution = AqueousPhase(speciate(\"H O Na Cl C Ca\"))\n",
    "solution.setActivityModel(ActivityModelHKF())\n",
    "\n",
    "calcite = MineralPhase(\"Calcite\")\n",
    "\n",
    "system = ChemicalSystem(db, solution, calcite)"
   ]
  },
  {
   "cell_type": "markdown",
   "metadata": {},
   "source": [
    "In chemical equilibrium calculation, the following properties must be constrained:\n",
    "\n",
    "* temperature,\n",
    "* pressure, and\n",
    "* fugacity of CO<sub>2</sub>.\n",
    "\n",
    "They are specified with the class [EquilibriumSpecs](https://reaktoro.org/api/classReaktoro_1_1EquilibriumSpecs.html) and then initialized with given value in [EquilibriumConditions](https://reaktoro.org/api/classReaktoro_1_1EquilibriumConditions.html):"
   ]
  },
  {
   "cell_type": "code",
   "execution_count": null,
   "metadata": {},
   "outputs": [],
   "source": [
    "specs = EquilibriumSpecs(system)\n",
    "specs.temperature()\n",
    "specs.pressure()\n",
    "specs.fugacity(\"CO2(g)\")\n",
    "\n",
    "solver = EquilibriumSolver(specs)\n",
    "\n",
    "fCO2g = 0.1  # 0.1 bar\n",
    "\n",
    "conditions = EquilibriumConditions(specs)\n",
    "conditions.temperature(50.0, \"celsius\")\n",
    "conditions.pressure(10.0, \"bar\")\n",
    "conditions.fugacity(\"CO2(g)\", fCO2g, \"bar\")"
   ]
  },
  {
   "cell_type": "markdown",
   "metadata": {},
   "source": [
    "> **Note**: Because the fugacity of CO<sub>2</sub> is constrained, the chemical equilibrium problem will presume that the **system is open to CO<sub>2</sub>** (enough CO<sub>2</sub> is allowed to leave/enter the system to satisfy the fugacity constraint)."
   ]
  },
  {
   "cell_type": "markdown",
   "metadata": {},
   "source": [
    "Next, we create an initial chemical state representing a 1 molal NaCl aqueous solution mixed with 10 g of calcite mineral and perform equilibration:"
   ]
  },
  {
   "cell_type": "code",
   "execution_count": null,
   "metadata": {},
   "outputs": [],
   "source": [
    "state = ChemicalState(system)\n",
    "state.temperature(50.0, \"celsius\")\n",
    "state.pressure(10.0, \"bar\")\n",
    "state.set(\"H2O\", 1.0, \"kg\")\n",
    "state.set(\"Na+\", 1.0, \"mol\")\n",
    "state.set(\"Cl-\", 1.0, \"mol\")\n",
    "state.set(\"Calcite\", 10, \"g\")\n",
    "\n",
    "result = solver.solve(state, conditions)\n",
    "print(\"Successful computation!\" if result.optima.succeeded else \"Computation has failed!\")\n",
    "\n",
    "print(\"EQUILIBRIUM STATE\")\n",
    "print(state)"
   ]
  },
  {
   "cell_type": "markdown",
   "metadata": {},
   "source": [
    "Note in the table, that calcite was not fully dissolved with the specified conditions, and the solution is thus saturated with it.\n",
    "\n",
    "A more in-depth look at the chemical state of the system might be obtained from generating chemical properties  using the class [ChemicalProps](https://reaktoro.org/api/classReaktoro_1_1ChemicalProps.html):"
   ]
  },
  {
   "cell_type": "code",
   "execution_count": null,
   "metadata": {
    "scrolled": true,
    "tags": [
     "output_scroll"
    ]
   },
   "outputs": [],
   "source": [
    "props = ChemicalProps(state)\n",
    "print(props)"
   ]
  },
  {
   "cell_type": "markdown",
   "metadata": {},
   "source": [
    "For instance, this table shows the activities of species, their chemical potentials, and standard thermodynamic properties.\n",
    "\n",
    "The class [AqueousProps](https://reaktoro.org/api/classReaktoro_1_1AqueousProps.html) can be used to study properties pertinent to aqueous solutions:"
   ]
  },
  {
   "cell_type": "code",
   "execution_count": null,
   "metadata": {
    "scrolled": true,
    "tags": []
   },
   "outputs": [],
   "source": [
    "aprops = AqueousProps(state)\n",
    "print(aprops)"
   ]
  },
  {
   "cell_type": "markdown",
   "metadata": {},
   "source": [
    "Let's now find out if our computed chemical equilibrium state satisfies the imposed fugacity constraint. In other words, the following must be satisfied:\n",
    "\n",
    "$$\\mu_{\\mathrm{CO_{2}(aq)}}=\\mu_{\\mathrm{CO_{2}(g)}},$$\n",
    "\n",
    "where\n",
    "\n",
    "$$\\mu_{\\mathrm{CO_{2}(g)}}\\equiv\\mu_{\\mathrm{CO_{2}(g)}}^{\\circ}+RT\\log f_{\\mathrm{CO_{2}(g)}}.$$\n",
    "\n",
    "Here,\n",
    "\n",
    "* $\\mu_{\\mathrm{CO_{2}(aq)}}$, the *chemical potential of aqueous species CO<sub>2</sub>*, can be obtained from the [ChemicalProps](https://reaktoro.org/api/classReaktoro_1_1ChemicalProps.html) object,\n",
    "* $\\mu_{\\mathrm{CO_{2}(g)}}^{\\circ}$, the *standard chemical potential of the gaseous species CO<sub>2</sub>(g)*,  that can be obtained from the *standard molar Gibbs energy* $G_{\\mathrm{CO_{2}(g)}}^{\\circ}$ stored in the thermodynamic properties of species in a used database;\n",
    "* $f_{\\mathrm{CO_{2}(g)}}$ is the *imposed fugacity* value for CO<sub>2</sub>(g).\n",
    "\n",
    "The code below verifies this identity:"
   ]
  },
  {
   "cell_type": "code",
   "execution_count": null,
   "metadata": {},
   "outputs": [],
   "source": [
    "from math import log\n",
    "\n",
    "R = universalGasConstant\n",
    "T = props.temperature()\n",
    "P = props.pressure()\n",
    "\n",
    "uCO2aq = props.speciesChemicalPotential(\"CO2\")\n",
    "u0CO2g = db.species().get(\"CO2(g)\").props(T, P).G0\n",
    "uCO2g  = u0CO2g + R*T*log(fCO2g)\n",
    "\n",
    "print(f\"μCO2(aq) = {uCO2aq} J/mol\")\n",
    "print(f\"μCO2(g)  = {uCO2g} J/mol\")"
   ]
  },
  {
   "cell_type": "markdown",
   "metadata": {},
   "source": [
    "The identity of μ<sub>CO2(aq)</sub> and μ<sub>CO2(aq)</sub> means that the fugacity constraint was satisfied."
   ]
  },
  {
   "cell_type": "markdown",
   "metadata": {},
   "source": [
    "Related application tutorials:\n",
    "\n",
    "* [Phosphate accumulation in carbonate-rich brines](tutorials/geobiology/geobiology-phreeqc-fixed-fugacity.ipynb)\n",
    "* [Carbonate-rich lakes modelling on the early Earth](tutorials/geobiology/geobiology-streammodel-fixed-fugacity.ipynb)"
   ]
  }
 ],
 "metadata": {
  "interpreter": {
   "hash": "e4e8b2f3ae27709963f14fd23a6560d362beea55eaec742263828e04d814e23c"
  },
  "kernelspec": {
   "display_name": "Python 3 (ipykernel)",
   "language": "python",
   "name": "python3"
  },
  "language_info": {
   "codemirror_mode": {
    "name": "ipython",
    "version": 3
   },
   "file_extension": ".py",
   "mimetype": "text/x-python",
   "name": "python",
   "nbconvert_exporter": "python",
   "pygments_lexer": "ipython3",
   "version": "3.9.7"
  }
 },
 "nbformat": 4,
 "nbformat_minor": 4
}
