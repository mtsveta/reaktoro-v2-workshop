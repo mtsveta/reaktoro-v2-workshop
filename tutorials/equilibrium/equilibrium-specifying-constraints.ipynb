{
 "cells": [
  {
   "cell_type": "markdown",
   "metadata": {},
   "source": [
    "# Chemical equilibrium with constraints\n",
    "\n",
    "In this tutorial, we demonstrate that Reaktoro can be used for wide range of equilibrium problems and explain how to\n",
    "\n",
    "* *specify different equilibrium constraints* when calculating chemical equilibrium; and\n",
    "* *configure equilibrium solver* to be open to one or more substances.\n",
    "\n",
    "Let us re-call the simplest chemical equilibrium discussed earlier:"
   ]
  },
  {
   "cell_type": "code",
   "execution_count": 2,
   "metadata": {},
   "outputs": [],
   "source": [
    "from reaktoro import *\n",
    "\n",
    "db = NasaDatabase(\"nasa-cea\")\n",
    "\n",
    "gases = GaseousPhase(\"CH4 O2 CO2 CO H2O H2\")\n",
    "\n",
    "system = ChemicalSystem(db, gases)\n",
    "\n",
    "solver = EquilibriumSolver(system)"
   ]
  },
  {
   "cell_type": "markdown",
   "metadata": {},
   "source": [
    "We re-call that [EquilibriumSolver](https://reaktoro.org/api/classReaktoro_1_1EquilibriumSolver.html) objects created the way above are limited to chemical equilibrium calculations where:\n",
    "* T and P are given and\n",
    "* the system is closed (no mass transfer in or out of the system).\n",
    "\n",
    "**But!** To impose the temperature and volume of the system (the class of *Helmholtz energy minimization problems*), we need to construct a specialized [EquilibriumSolver](https://reaktoro.org/api/classReaktoro_1_1EquilibriumSolver.html) object that handles alternative constraint specifications.\n",
    "\n",
    "> **Note**: Instead of the Helmholtz energy minimization problem, Reaktoro implements a single **parametric Gibbs energy minimization solver that accepts general equilibrium constraints**, which can be configured to efficiently solve all other classes of equilibrium problems.\n"
   ]
  },
  {
   "cell_type": "markdown",
   "metadata": {},
   "source": [
    "## Specifying constrained properties\n",
    "\n",
    "Let's create an equilibrium solver that can solve problems with prescribed **temperature** and **volume**:"
   ]
  },
  {
   "cell_type": "code",
   "execution_count": 3,
   "metadata": {},
   "outputs": [],
   "source": [
    "# Define equilibrium specification class indicating fixed conditions in the minimization problem\n",
    "specs = EquilibriumSpecs(system)\n",
    "specs.temperature()\n",
    "specs.volume()\n",
    "\n",
    "# Defining equilibrium solver using above-defined equilibrium specifications\n",
    "solver = EquilibriumSolver(specs)"
   ]
  },
  {
   "cell_type": "markdown",
   "metadata": {},
   "source": [
    "We can use [EquilibriumSpecs](https://reaktoro.org/api/classReaktoro_1_1EquilibriumSpecs.html) to provide the constraint specifications for our [EquilibriumSolver](https://reaktoro.org/api/classReaktoro_1_1EquilibriumSolver.html).\n",
    "\n",
    "> **Tip**: Beside the list of possible constraints (one can impose) with [EquilibriumSpecs](https://reaktoro.org/api/classReaktoro_1_1EquilibriumSpecs.html) class, it is **possible to define custom constraints**.\n",
    "\n",
    "With the chemical system and chemical solver defined above, we want to model the combustion of 1 mol of CH<sub>4</sub> and 0.5 mol of O<sub>2</sub> in a chamber of 10 cm³ at 1000 °C:"
   ]
  },
  {
   "cell_type": "code",
   "execution_count": 4,
   "metadata": {},
   "outputs": [
    {
     "name": "stdout",
     "output_type": "stream",
     "text": [
      "INITIAL STATE\n",
      "+-----------------+--------+------+\n",
      "| Property        |  Value | Unit |\n",
      "+-----------------+--------+------+\n",
      "| Temperature     | 298.15 |    K |\n",
      "| Pressure        | 100000 |   Pa |\n",
      "| Charge:         |      0 |  mol |\n",
      "| Element Amount: |        |      |\n",
      "| :: H            |      4 |  mol |\n",
      "| :: C            |      1 |  mol |\n",
      "| :: O            |      1 |  mol |\n",
      "| Species Amount: |        |      |\n",
      "| :: CH4          |      1 |  mol |\n",
      "| :: O2           |    0.5 |  mol |\n",
      "| :: CO2          |  1e-16 |  mol |\n",
      "| :: CO           |  1e-16 |  mol |\n",
      "| :: H2O          |  1e-16 |  mol |\n",
      "| :: H2           |  1e-16 |  mol |\n",
      "+-----------------+--------+------+\n"
     ]
    }
   ],
   "source": [
    "state = ChemicalState(system)\n",
    "state.set(\"CH4\", 1.0, \"mol\")\n",
    "state.set(\"O2\",  0.5, \"mol\")\n",
    "\n",
    "print(\"INITIAL STATE\")\n",
    "print(state)"
   ]
  },
  {
   "cell_type": "markdown",
   "metadata": {},
   "source": [
    "This initial state is still in disequilibrium. We use [EquilibriumConditions](https://reaktoro.org/api/classReaktoro_1_1EquilibriumConditions.html) below to specify the desired conditions of temperature and volume at the equilibrium state and equilibrate the `state` object:"
   ]
  },
  {
   "cell_type": "code",
   "execution_count": 5,
   "metadata": {},
   "outputs": [
    {
     "name": "stdout",
     "output_type": "stream",
     "text": [
      "FINAL STATE\n",
      "+-----------------+-------------+------+\n",
      "| Property        |       Value | Unit |\n",
      "+-----------------+-------------+------+\n",
      "| Temperature     |     1273.15 |    K |\n",
      "| Pressure        | 1.66032e+09 |   Pa |\n",
      "| Charge:         |           0 |  mol |\n",
      "| Element Amount: |             |      |\n",
      "| :: H            |           4 |  mol |\n",
      "| :: C            |           1 |  mol |\n",
      "| :: O            |           1 |  mol |\n",
      "| Species Amount: |             |      |\n",
      "| :: CH4          |     0.71576 |  mol |\n",
      "| :: O2           |       1e-16 |  mol |\n",
      "| :: CO2          |    0.225093 |  mol |\n",
      "| :: CO           |   0.0591477 |  mol |\n",
      "| :: H2O          |    0.490667 |  mol |\n",
      "| :: H2           |   0.0778142 |  mol |\n",
      "+-----------------+-------------+------+\n"
     ]
    }
   ],
   "source": [
    "# Specify that the values for fixed temperature and volume constraints\n",
    "conditions = EquilibriumConditions(specs)\n",
    "conditions.temperature(1000.0, \"celsius\")\n",
    "conditions.volume(10.0, \"cm3\")\n",
    "\n",
    "# Equilibrate the chemical state\n",
    "solver.solve(state, conditions)\n",
    "\n",
    "print(\"FINAL STATE\")\n",
    "print(state)"
   ]
  },
  {
   "cell_type": "markdown",
   "metadata": {},
   "source": [
    "To make sure that the final volume in the chemical state is indeed 10 cm³, we can use the [ChemicalProps](https://reaktoro.org/api/classReaktoro_1_1ChemicalProps.html) object attached to the [ChemicalState](https://reaktoro.org/api/classReaktoro_1_1ChemicalState.html) object `state` by [EquilibriumSolver](https://reaktoro.org/api/classReaktoro_1_1EquilibriumSolver.html) at the end of the minimization:"
   ]
  },
  {
   "cell_type": "code",
   "execution_count": 6,
   "metadata": {},
   "outputs": [
    {
     "name": "stdout",
     "output_type": "stream",
     "text": [
      "Volume at equilibrium state is 10 cm³!\n",
      "Pressure at equilibrium state is 1.66032 GPa!\n"
     ]
    }
   ],
   "source": [
    "V = state.props().volume()  # volume in m³\n",
    "P = state.pressure()        # pressure in Pa\n",
    "\n",
    "V = units.convert(V, \"m3\", \"cm3\")  # convert volume from m³ to cm³\n",
    "P = units.convert(P, \"Pa\", \"bar\")  # convert pressure from Pa to bar\n",
    "\n",
    "print(\"Volume at equilibrium state is\", V, \"cm³\")\n",
    "print(\"Pressure at equilibrium state is\", P, \"bar\")"
   ]
  },
  {
   "cell_type": "markdown",
   "metadata": {},
   "source": [
    "**Important:** for every condition marked to be known in the [EquilibriumSpecs](https://reaktoro.org/api/classReaktoro_1_1EquilibriumSpecs.html) object, we must set the expected conditions in the [EquilibriumConditions](https://reaktoro.org/api/classReaktoro_1_1EquilibriumConditions.html) object! Not doing so can cause unexpected behavior or a runtime error."
   ]
  },
  {
   "cell_type": "markdown",
   "metadata": {},
   "source": [
    "**TASK**: reformulate the Gibbs energy minimization problem for modelling the combustion of 1 mol of CH<sub>4</sub> and 0.5 mol of O<sub>2</sub> at 1000 ºC and 100 bar with [EquilibriumSpecs](https://reaktoro.org/api/classReaktoro_1_1EquilibriumSpecs.html) and [EquilibriumConditions](https://reaktoro.org/api/classReaktoro_1_1EquilibriumConditions.html)."
   ]
  },
  {
   "cell_type": "code",
   "execution_count": 1,
   "outputs": [
    {
     "ename": "TypeError",
     "evalue": "__init__(): incompatible constructor arguments. The following argument types are supported:\n    1. reaktoro.reaktoro4py.EquilibriumSpecs(arg0: reaktoro.reaktoro4py.ChemicalSystem)\n\nInvoked with: <reaktoro.reaktoro4py.EquilibriumSpecs object at 0x7fb9ab2b13b0>",
     "output_type": "error",
     "traceback": [
      "\u001B[0;31m---------------------------------------------------------------------------\u001B[0m",
      "\u001B[0;31mTypeError\u001B[0m                                 Traceback (most recent call last)",
      "Input \u001B[0;32mIn [1]\u001B[0m, in \u001B[0;36m<cell line: 15>\u001B[0;34m()\u001B[0m\n\u001B[1;32m     11\u001B[0m specs\u001B[38;5;241m.\u001B[39mpressure()\n\u001B[1;32m     13\u001B[0m solver \u001B[38;5;241m=\u001B[39m EquilibriumSolver(specs)\n\u001B[0;32m---> 15\u001B[0m conditions \u001B[38;5;241m=\u001B[39m \u001B[43mEquilibriumSpecs\u001B[49m\u001B[43m(\u001B[49m\u001B[43mspecs\u001B[49m\u001B[43m)\u001B[49m\n\u001B[1;32m     16\u001B[0m conditions\u001B[38;5;241m.\u001B[39mtemperature(\u001B[38;5;241m1000\u001B[39m, \u001B[38;5;124m\"\u001B[39m\u001B[38;5;124mcelsius\u001B[39m\u001B[38;5;124m\"\u001B[39m)\n\u001B[1;32m     17\u001B[0m conditions\u001B[38;5;241m.\u001B[39mpressure(\u001B[38;5;241m100\u001B[39m, \u001B[38;5;124m\"\u001B[39m\u001B[38;5;124mbar\u001B[39m\u001B[38;5;124m\"\u001B[39m)\n",
      "\u001B[0;31mTypeError\u001B[0m: __init__(): incompatible constructor arguments. The following argument types are supported:\n    1. reaktoro.reaktoro4py.EquilibriumSpecs(arg0: reaktoro.reaktoro4py.ChemicalSystem)\n\nInvoked with: <reaktoro.reaktoro4py.EquilibriumSpecs object at 0x7fb9ab2b13b0>"
     ]
    }
   ],
   "source": [
    "# -------------------------------------- #\n",
    "# Code cell for the task\n",
    "# -------------------------------------- #\n",
    "from reaktoro import *\n",
    "\n",
    "db = NasaDatabase(\"nasa-cea\")\n",
    "\n",
    "gases = GaseousPhase(\"CH4 O2 CO2 CO H2O H2\")\n",
    "\n",
    "system = ChemicalSystem(db, gases)\n",
    "\n",
    "specs = EquilibriumSpecs(system)\n",
    "specs.temperature()\n",
    "specs.pressure()\n",
    "\n",
    "solver = EquilibriumSolver(specs)\n",
    "\n",
    "conditions = EquilibriumSpecs(specs)\n",
    "conditions.temperature(1000, \"celsius\")\n",
    "conditions.pressure(100, \"bar\")\n",
    "\n",
    "\n",
    "state = ChemicalState(system)\n",
    "state.set(\"CH4\", 1.0, \"mol\")\n",
    "state.set(\"O2\",  0.5, \"mol\")\n",
    "\n",
    "solver.solve(state, conditions)\n",
    "\n",
    "print(state)"
   ],
   "metadata": {
    "collapsed": false,
    "pycharm": {
     "name": "#%%\n"
    }
   }
  },
  {
   "cell_type": "markdown",
   "metadata": {},
   "source": [
    "## Specifying open conditions\n",
    "\n",
    "Assume, we need to find out how many mols of CH<sub>4</sub> must react with 0.5 mol of O<sub>2</sub> in the same chamber (with volume 10 cm³ and temperature 1000 °C) to obtain pressure 1 GPa (maximum pressure supported by the chamber material). In such equilibrium calculation, the system must be assumed to be open to the mass transfer of CH<sub>4</sub>, which creates a new *degree of freedom*: the amount of added/removed substance.\n",
    "\n",
    "We start with the chemical state containing only 0.5 mols of O<sub>2</sub>:"
   ]
  },
  {
   "cell_type": "code",
   "execution_count": 7,
   "metadata": {},
   "outputs": [],
   "source": [
    "state = ChemicalState(system)\n",
    "state.set(\"O2\", 0.5, \"mol\")"
   ]
  },
  {
   "cell_type": "markdown",
   "metadata": {},
   "source": [
    "Next, we create an [EquilibriumSpecs](https://reaktoro.org/api/classReaktoro_1_1EquilibriumSpecs.html) object specifying **temperature**, **volume**, and **pressure** as constrained properties. We also specify that the system is open to CH<sub>4</sub>."
   ]
  },
  {
   "cell_type": "code",
   "execution_count": 8,
   "metadata": {},
   "outputs": [],
   "source": [
    "specs = EquilibriumSpecs(system)\n",
    "specs.temperature()\n",
    "specs.volume()\n",
    "specs.pressure()\n",
    "specs.openTo(\"CH4\")"
   ]
  },
  {
   "cell_type": "markdown",
   "metadata": {},
   "source": [
    "Then, we create the [EquilibriumConditions](https://reaktoro.org/api/classReaktoro_1_1EquilibriumConditions.html) object, providing the values for temperature, volume, and pressure, and perform the equilibrium calculation:"
   ]
  },
  {
   "cell_type": "code",
   "execution_count": 9,
   "metadata": {
    "tags": [
     "output_scroll"
    ]
   },
   "outputs": [
    {
     "name": "stdout",
     "output_type": "stream",
     "text": [
      "+----------------------------------------+-------------+-----------+\n",
      "| Property                               |       Value |      Unit |\n",
      "+----------------------------------------+-------------+-----------+\n",
      "| Temperature                            |     1273.15 |         K |\n",
      "| Pressure                               |       1e+09 |        Pa |\n",
      "| Volume                                 |       1e-05 |        m3 |\n",
      "| Gibbs Energy                           |     -488420 |         J |\n",
      "| Enthalpy                               |     -184793 |         J |\n",
      "| Entropy                                |     238.485 |       J/K |\n",
      "| Internal Energy                        |     -194793 |         J |\n",
      "| Helmholtz Energy                       |     -498420 |         J |\n",
      "| Charge                                 |           0 |       mol |\n",
      "| Element Amount:                        |             |           |\n",
      "| :: H                                   |     1.59954 |       mol |\n",
      "| :: C                                   |    0.399884 |       mol |\n",
      "| :: O                                   |           1 |       mol |\n",
      "| Species Amount:                        |             |           |\n",
      "| :: CH4                                 |    0.127484 |       mol |\n",
      "| :: O2                                  |       1e-16 |       mol |\n",
      "| :: CO2                                 |    0.233107 |       mol |\n",
      "| :: CO                                  |   0.0392932 |       mol |\n",
      "| :: H2O                                 |    0.494494 |       mol |\n",
      "| :: H2                                  |    0.050306 |       mol |\n",
      "| Mole Fraction:                         |             |           |\n",
      "| :: CH4                                 |    0.134949 |   mol/mol |\n",
      "| :: O2                                  | 1.05856e-16 |   mol/mol |\n",
      "| :: CO2                                 |    0.246756 |   mol/mol |\n",
      "| :: CO                                  |    0.041594 |   mol/mol |\n",
      "| :: H2O                                 |    0.523449 |   mol/mol |\n",
      "| :: H2                                  |   0.0532517 |   mol/mol |\n",
      "| Activity Coefficient:                  |             |           |\n",
      "| :: CH4                                 |           1 |         - |\n",
      "| :: O2                                  |           1 |         - |\n",
      "| :: CO2                                 |           1 |         - |\n",
      "| :: CO                                  |           1 |         - |\n",
      "| :: H2O                                 |           1 |         - |\n",
      "| :: H2                                  |           1 |         - |\n",
      "| Activity:                              |             |           |\n",
      "| :: CH4                                 |     1349.49 |         - |\n",
      "| :: O2                                  | 1.05856e-12 |         - |\n",
      "| :: CO2                                 |     2467.56 |         - |\n",
      "| :: CO                                  |      415.94 |         - |\n",
      "| :: H2O                                 |     5234.49 |         - |\n",
      "| :: H2                                  |     532.517 |         - |\n",
      "| lg(Activity):                          |             |           |\n",
      "| :: CH4                                 |     3.13017 |         - |\n",
      "| :: O2                                  |    -11.9753 |         - |\n",
      "| :: CO2                                 |     3.39227 |         - |\n",
      "| :: CO                                  |     2.61903 |         - |\n",
      "| :: H2O                                 |     3.71887 |         - |\n",
      "| :: H2                                  |     2.72633 |         - |\n",
      "| ln(Activity):                          |             |           |\n",
      "| :: CH4                                 |     7.20748 |         - |\n",
      "| :: O2                                  |    -27.5741 |         - |\n",
      "| :: CO2                                 |     7.81099 |         - |\n",
      "| :: CO                                  |     6.03054 |         - |\n",
      "| :: H2O                                 |     8.56302 |         - |\n",
      "| :: H2                                  |     6.27761 |         - |\n",
      "| Chemical Potential:                    |             |           |\n",
      "| :: CH4                                 |     -278431 |     J/mol |\n",
      "| :: O2                                  |     -580512 |     J/mol |\n",
      "| :: CO2                                 |     -622174 |     J/mol |\n",
      "| :: CO                                  |     -324769 |     J/mol |\n",
      "| :: H2O                                 |     -422939 |     J/mol |\n",
      "| :: H2                                  |     -125534 |     J/mol |\n",
      "| Standard Volume:                       |             |           |\n",
      "| :: CH4                                 |           0 |    m3/mol |\n",
      "| :: O2                                  |           0 |    m3/mol |\n",
      "| :: CO2                                 |           0 |    m3/mol |\n",
      "| :: CO                                  |           0 |    m3/mol |\n",
      "| :: H2O                                 |           0 |    m3/mol |\n",
      "| :: H2                                  |           0 |    m3/mol |\n",
      "| Standard Gibbs Energy (formation):     |             |           |\n",
      "| :: CH4                                 |     -354727 |     J/mol |\n",
      "| :: O2                                  |     -288624 |     J/mol |\n",
      "| :: CO2                                 |     -704857 |     J/mol |\n",
      "| :: CO                                  |     -388605 |     J/mol |\n",
      "| :: H2O                                 |     -513583 |     J/mol |\n",
      "| :: H2                                  |     -191986 |     J/mol |\n",
      "| Standard Enthalpy (formation):         |             |           |\n",
      "| :: CH4                                 |    -14294.1 |     J/mol |\n",
      "| :: O2                                  |     32390.4 |     J/mol |\n",
      "| :: CO2                                 |     -344887 |     J/mol |\n",
      "| :: CO                                  |    -79597.1 |     J/mol |\n",
      "| :: H2O                                 |     -204067 |     J/mol |\n",
      "| :: H2                                  |     29072.1 |     J/mol |\n",
      "| Standard Entropy (formation):          |             |           |\n",
      "| :: CH4                                 |     267.394 | J/(mol*K) |\n",
      "| :: O2                                  |     252.142 | J/(mol*K) |\n",
      "| :: CO2                                 |      282.74 | J/(mol*K) |\n",
      "| :: CO                                  |     242.711 | J/(mol*K) |\n",
      "| :: H2O                                 |     243.111 | J/(mol*K) |\n",
      "| :: H2                                  |     173.631 | J/(mol*K) |\n",
      "| Standard Internal Energy (formation):  |             |           |\n",
      "| :: CH4                                 |    -14294.1 |     J/mol |\n",
      "| :: O2                                  |     32390.4 |     J/mol |\n",
      "| :: CO2                                 |     -344887 |     J/mol |\n",
      "| :: CO                                  |    -79597.1 |     J/mol |\n",
      "| :: H2O                                 |     -204067 |     J/mol |\n",
      "| :: H2                                  |     29072.1 |     J/mol |\n",
      "| Standard Helmholtz Energy (formation): |             |           |\n",
      "| :: CH4                                 |     -354727 |     J/mol |\n",
      "| :: O2                                  |     -288624 |     J/mol |\n",
      "| :: CO2                                 |     -704857 |     J/mol |\n",
      "| :: CO                                  |     -388605 |     J/mol |\n",
      "| :: H2O                                 |     -513583 |     J/mol |\n",
      "| :: H2                                  |     -191986 |     J/mol |\n",
      "| Standard Heat Capacity (constant P):   |             |           |\n",
      "| :: CH4                                 |     84.1523 | J/(mol*K) |\n",
      "| :: O2                                  |     35.9257 | J/(mol*K) |\n",
      "| :: CO2                                 |      56.932 | J/(mol*K) |\n",
      "| :: CO                                  |     34.4671 | J/(mol*K) |\n",
      "| :: H2O                                 |     44.7425 | J/(mol*K) |\n",
      "| :: H2                                  |     31.3023 | J/(mol*K) |\n",
      "| Standard Heat Capacity (constant V):   |             |           |\n",
      "| :: CH4                                 |     84.1523 | J/(mol*K) |\n",
      "| :: O2                                  |     35.9257 | J/(mol*K) |\n",
      "| :: CO2                                 |      56.932 | J/(mol*K) |\n",
      "| :: CO                                  |     34.4671 | J/(mol*K) |\n",
      "| :: H2O                                 |     44.7425 | J/(mol*K) |\n",
      "| :: H2                                  |     31.3023 | J/(mol*K) |\n",
      "+----------------------------------------+-------------+-----------+\n"
     ]
    }
   ],
   "source": [
    "conditions = EquilibriumConditions(specs)\n",
    "conditions.temperature(1000.0, \"celsius\")\n",
    "conditions.volume(10.0, \"cm3\")\n",
    "conditions.pressure(1.0, \"GPa\")\n",
    "\n",
    "solver = EquilibriumSolver(specs)\n",
    "solver.solve(state, conditions)\n",
    "\n",
    "print(state.props())"
   ]
  },
  {
   "cell_type": "markdown",
   "metadata": {},
   "source": [
    "The above table shows that the obtained equilibrium state meats desired values for temperature, pressure, and volume (in SI units). We can output the amount of CH<sub>4</sub> entering the system so that all prescribed conditions could be attained:"
   ]
  },
  {
   "cell_type": "code",
   "execution_count": 10,
   "metadata": {
    "pycharm": {
     "name": "#%%\n"
    }
   },
   "outputs": [
    {
     "name": "stdout",
     "output_type": "stream",
     "text": [
      "Amount of CH4 titrated in: 0.3998837695340861 mol\n"
     ]
    }
   ],
   "source": [
    "print(\"Amount of CH4 titrated in:\", state.equilibrium().explicitTitrantAmounts()[0], \"mol\")"
   ]
  }
 ],
 "metadata": {
  "interpreter": {
   "hash": "e4e8b2f3ae27709963f14fd23a6560d362beea55eaec742263828e04d814e23c"
  },
  "kernelspec": {
   "display_name": "Python 3.9.7 64-bit ('reaktoro-jupyter-book': conda)",
   "language": "python",
   "name": "python3"
  },
  "language_info": {
   "codemirror_mode": {
    "name": "ipython",
    "version": 3
   },
   "file_extension": ".py",
   "mimetype": "text/x-python",
   "name": "python",
   "nbconvert_exporter": "python",
   "pygments_lexer": "ipython3",
   "version": "3.9.9"
  },
  "orig_nbformat": 4
 },
 "nbformat": 4,
 "nbformat_minor": 2
}