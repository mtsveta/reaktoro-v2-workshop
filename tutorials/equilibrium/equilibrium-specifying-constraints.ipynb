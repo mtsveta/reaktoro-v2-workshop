{
 "cells": [
  {
   "cell_type": "markdown",
   "metadata": {},
   "source": [
    "# Chemical equilibrium with constraints\n",
    "\n",
    "In this tutorial demonstrates how Reaktoro can be used for wide range of equilibrium problems and explains how to\n",
    "\n",
    "* *specify different equilibrium constraints* when calculating chemical equilibrium and\n",
    "* *configure equilibrium solver* to be open to one or more substances to satisfy these constraints.\n",
    "\n",
    "Let us re-call the simplest chemical equilibrium discussed earlier, where:\n",
    "* T and P are given and\n",
    "* the system is closed (no mass transfer in or out of the system)."
   ]
  },
  {
   "cell_type": "code",
   "execution_count": 1,
   "metadata": {},
   "outputs": [],
   "source": [
    "from reaktoro import *\n",
    "\n",
    "db = NasaDatabase(\"nasa-cea\")\n",
    "\n",
    "gases = GaseousPhase(\"CH4 O2 CO2 CO H2O H2\")\n",
    "\n",
    "system = ChemicalSystem(db, gases)\n",
    "\n",
    "solver = EquilibriumSolver(system) # notat that EquilibriumSolver is intialized with chemical system"
   ]
  },
  {
   "cell_type": "markdown",
   "metadata": {},
   "source": [
    "To impose the **temperature** and **volume** of the system (technically the class of *Helmholtz energy minimization problems*), we need to construct *a specialized [EquilibriumSolver](https://reaktoro.org/api/classReaktoro_1_1EquilibriumSolver.html) object* that handles alternative constraint specifications.\n",
    "\n",
    "> **Note**: Instead of the Helmholtz energy minimization problem, Reaktoro implements a single **parametric Gibbs energy minimization solver that accepts general equilibrium constraints**, which can be configured to efficiently solve all other classes of equilibrium problems.\n"
   ]
  },
  {
   "cell_type": "markdown",
   "metadata": {},
   "source": [
    "## Specifying constrained properties\n",
    "\n",
    "We can use [EquilibriumSpecs](https://reaktoro.org/api/classReaktoro_1_1EquilibriumSpecs.html) to provide the constraint specifications, in this case, **temperature** and **volume**, for our [EquilibriumSolver](https://reaktoro.org/api/classReaktoro_1_1EquilibriumSolver.html)."
   ]
  },
  {
   "cell_type": "code",
   "execution_count": 2,
   "metadata": {},
   "outputs": [],
   "source": [
    "# Define equilibrium specification class indicating fixed conditions in the minimization problem\n",
    "specs = EquilibriumSpecs(system)\n",
    "specs.temperature()\n",
    "specs.volume()\n",
    "\n",
    "# Defining equilibrium solver using above-defined equilibrium specifications\n",
    "solver = EquilibriumSolver(specs)"
   ]
  },
  {
   "cell_type": "markdown",
   "metadata": {},
   "source": [
    "> **Note**: Beside the list of possible constraints (one can impose) with [EquilibriumSpecs](https://reaktoro.org/api/classReaktoro_1_1EquilibriumSpecs.html) class, no can **define custom constraints**.\n",
    "\n",
    "With the chemical system and chemical solver defined above, we want to *model the combustion of 1 mol of CH<sub>4</sub> and 0.5 mol of O<sub>2</sub> in a chamber* of 10 cm³ at 1000 °C:"
   ]
  },
  {
   "cell_type": "code",
   "execution_count": 3,
   "metadata": {},
   "outputs": [
    {
     "name": "stdout",
     "output_type": "stream",
     "text": [
      "INITIAL STATE\n",
      "+-----------------+------------+------+\n",
      "| Property        |      Value | Unit |\n",
      "+-----------------+------------+------+\n",
      "| Temperature     |   298.1500 |    K |\n",
      "| Pressure        |     1.0000 |  bar |\n",
      "| Charge:         | 0.0000e+00 |  mol |\n",
      "| Element Amount: |            |      |\n",
      "| :: H            | 4.0000e+00 |  mol |\n",
      "| :: C            | 1.0000e+00 |  mol |\n",
      "| :: O            | 1.0000e+00 |  mol |\n",
      "| Species Amount: |            |      |\n",
      "| :: CH4          | 1.0000e+00 |  mol |\n",
      "| :: O2           | 5.0000e-01 |  mol |\n",
      "| :: CO2          | 1.0000e-16 |  mol |\n",
      "| :: CO           | 1.0000e-16 |  mol |\n",
      "| :: H2O          | 1.0000e-16 |  mol |\n",
      "| :: H2           | 1.0000e-16 |  mol |\n",
      "+-----------------+------------+------+\n"
     ]
    }
   ],
   "source": [
    "state = ChemicalState(system)\n",
    "state.set(\"CH4\", 1.0, \"mol\")\n",
    "state.set(\"O2\",  0.5, \"mol\")\n",
    "\n",
    "print(\"INITIAL STATE\")\n",
    "print(state)"
   ]
  },
  {
   "cell_type": "markdown",
   "metadata": {},
   "source": [
    "This initial state is still in disequilibrium. We use [EquilibriumConditions](https://reaktoro.org/api/classReaktoro_1_1EquilibriumConditions.html) below to specify the desired conditions of temperature and volume at the equilibrium state and equilibrate the `state` object.\n",
    "> **Important:** for every condition marked to be specified in the [EquilibriumSpecs](https://reaktoro.org/api/classReaktoro_1_1EquilibriumSpecs.html) object, we must set the expected conditions in the [EquilibriumConditions](https://reaktoro.org/api/classReaktoro_1_1EquilibriumConditions.html) object! Not doing so can cause unexpected behavior or a runtime error."
   ]
  },
  {
   "cell_type": "code",
   "execution_count": 4,
   "metadata": {},
   "outputs": [
    {
     "name": "stdout",
     "output_type": "stream",
     "text": [
      "FINAL STATE\n",
      "+-----------------+------------+------+\n",
      "| Property        |      Value | Unit |\n",
      "+-----------------+------------+------+\n",
      "| Temperature     |  1273.1500 |    K |\n",
      "| Pressure        | 16603.2449 |  bar |\n",
      "| Charge:         | 0.0000e+00 |  mol |\n",
      "| Element Amount: |            |      |\n",
      "| :: H            | 4.0000e+00 |  mol |\n",
      "| :: C            | 1.0000e+00 |  mol |\n",
      "| :: O            | 1.0000e+00 |  mol |\n",
      "| Species Amount: |            |      |\n",
      "| :: CH4          | 7.1576e-01 |  mol |\n",
      "| :: O2           | 1.0000e-16 |  mol |\n",
      "| :: CO2          | 2.2509e-01 |  mol |\n",
      "| :: CO           | 5.9148e-02 |  mol |\n",
      "| :: H2O          | 4.9067e-01 |  mol |\n",
      "| :: H2           | 7.7814e-02 |  mol |\n",
      "+-----------------+------------+------+\n"
     ]
    }
   ],
   "source": [
    "# Specify that the values for fixed temperature and volume constraints\n",
    "conditions = EquilibriumConditions(specs)\n",
    "conditions.temperature(1000.0, \"celsius\")\n",
    "conditions.volume(10.0, \"cm3\")\n",
    "\n",
    "# Equilibrate the chemical state\n",
    "solver.solve(state, conditions)\n",
    "\n",
    "print(\"FINAL STATE\")\n",
    "print(state)"
   ]
  },
  {
   "cell_type": "markdown",
   "metadata": {},
   "source": [
    "To make sure that the final volume in the chemical state is indeed 10 cm³, we can use the [ChemicalProps](https://reaktoro.org/api/classReaktoro_1_1ChemicalProps.html) object attached to the [ChemicalState](https://reaktoro.org/api/classReaktoro_1_1ChemicalState.html) object `state` by [EquilibriumSolver](https://reaktoro.org/api/classReaktoro_1_1EquilibriumSolver.html) at the end of the minimization:"
   ]
  },
  {
   "cell_type": "code",
   "execution_count": 5,
   "metadata": {},
   "outputs": [
    {
     "name": "stdout",
     "output_type": "stream",
     "text": [
      "Volume at equilibrium state is 10 cm³\n",
      "Pressure at equilibrium state is 1.66032 GPa\n"
     ]
    }
   ],
   "source": [
    "# Fetch chemical properties from the chemical state (aq it was equilibrated)\n",
    "V = state.props().volume()  # volume in m³\n",
    "P = state.pressure()        # pressure in Pa\n",
    "\n",
    "V = units.convert(V, \"m3\", \"cm3\")  # convert volume from m³ to cm³\n",
    "P = units.convert(P, \"Pa\", \"GPa\")  # convert pressure from Pa to bar\n",
    "\n",
    "print(\"Volume at equilibrium state is\", V, \"cm³\")\n",
    "print(\"Pressure at equilibrium state is\", P, \"GPa\")"
   ]
  },
  {
   "cell_type": "markdown",
   "metadata": {},
   "source": [
    "**TASK**: reformulate the Gibbs energy minimization problem for modelling the combustion of 1 mol of CH<sub>4</sub> and 0.5 mol of O<sub>2</sub> at 1000 ºC and 100 bar with [EquilibriumSpecs](https://reaktoro.org/api/classReaktoro_1_1EquilibriumSpecs.html) and [EquilibriumConditions](https://reaktoro.org/api/classReaktoro_1_1EquilibriumConditions.html)."
   ]
  },
  {
   "cell_type": "code",
   "execution_count": 6,
   "metadata": {
    "collapsed": false,
    "jupyter": {
     "outputs_hidden": false
    },
    "pycharm": {
     "name": "#%%\n"
    }
   },
   "outputs": [
    {
     "name": "stdout",
     "output_type": "stream",
     "text": [
      "+-----------------+------------+------+\n",
      "| Property        |      Value | Unit |\n",
      "+-----------------+------------+------+\n",
      "| Temperature     |  1273.1500 |    K |\n",
      "| Pressure        |   100.0000 |  bar |\n",
      "| Charge:         | 0.0000e+00 |  mol |\n",
      "| Element Amount: |            |      |\n",
      "| :: H            | 4.0000e+00 |  mol |\n",
      "| :: C            | 1.0000e+00 |  mol |\n",
      "| :: O            | 1.0000e+00 |  mol |\n",
      "| Species Amount: |            |      |\n",
      "| :: CH4          | 3.7606e-01 |  mol |\n",
      "| :: O2           | 1.0000e-16 |  mol |\n",
      "| :: CO2          | 9.3630e-02 |  mol |\n",
      "| :: CO           | 5.3031e-01 |  mol |\n",
      "| :: H2O          | 2.8243e-01 |  mol |\n",
      "| :: H2           | 9.6544e-01 |  mol |\n",
      "+-----------------+------------+------+\n"
     ]
    }
   ],
   "source": [
    "# -------------------------------------- #\n",
    "# Code cell for the task\n",
    "# -------------------------------------- #\n",
    "from reaktoro import *\n",
    "\n",
    "db = NasaDatabase(\"nasa-cea\")\n",
    "\n",
    "gases = GaseousPhase(\"CH4 O2 CO2 CO H2O H2\")\n",
    "\n",
    "system = ChemicalSystem(db, gases)\n",
    "\n",
    "specs = EquilibriumSpecs(system)\n",
    "specs.temperature()\n",
    "specs.pressure()\n",
    "\n",
    "solver = EquilibriumSolver(specs)\n",
    "\n",
    "conditions = EquilibriumConditions(specs)\n",
    "conditions.temperature(1000, \"celsius\")\n",
    "conditions.pressure(100, \"bar\")\n",
    "\n",
    "\n",
    "state = ChemicalState(system)\n",
    "state.set(\"CH4\", 1.0, \"mol\")\n",
    "state.set(\"O2\",  0.5, \"mol\")\n",
    "\n",
    "solver.solve(state, conditions)\n",
    "\n",
    "print(state)"
   ]
  },
  {
   "cell_type": "markdown",
   "metadata": {},
   "source": [
    "## Specifying open conditions\n",
    "\n",
    "Assume, we need to find out how many mols of CH<sub>4</sub> must react with 0.5 mol of O<sub>2</sub> in the same chamber (with **volume** 10 cm³ and **temperature** 1000 °C) to obtain **pressure** 1 GPa (maximum pressure supported by the chamber material). In such equilibrium calculation, the system must be assumed to be open to the mass transfer of CH<sub>4</sub>, which creates a new *degree of freedom*: the amount of added/removed substance.\n",
    "\n",
    "We start with the chemical state containing only 0.5 mols of O<sub>2</sub>:"
   ]
  },
  {
   "cell_type": "code",
   "execution_count": 7,
   "metadata": {},
   "outputs": [],
   "source": [
    "state = ChemicalState(system)\n",
    "state.set(\"O2\", 0.5, \"mol\")"
   ]
  },
  {
   "cell_type": "markdown",
   "metadata": {},
   "source": [
    "Next, we create an [EquilibriumSpecs](https://reaktoro.org/api/classReaktoro_1_1EquilibriumSpecs.html) object specifying **temperature**, **volume**, and **pressure** as constrained properties. We also specify that the system is open to CH<sub>4</sub>."
   ]
  },
  {
   "cell_type": "code",
   "execution_count": 8,
   "metadata": {},
   "outputs": [],
   "source": [
    "specs = EquilibriumSpecs(system)\n",
    "specs.temperature()\n",
    "specs.volume()\n",
    "specs.pressure()\n",
    "specs.openTo(\"CH4\")"
   ]
  },
  {
   "cell_type": "markdown",
   "metadata": {},
   "source": [
    "Then, we create the [EquilibriumConditions](https://reaktoro.org/api/classReaktoro_1_1EquilibriumConditions.html) object, providing the values for temperature, volume, and pressure, and perform the equilibrium calculation:"
   ]
  },
  {
   "cell_type": "code",
   "execution_count": 9,
   "metadata": {
    "scrolled": true,
    "tags": [
     "output_scroll"
    ]
   },
   "outputs": [
    {
     "name": "stdout",
     "output_type": "stream",
     "text": [
      "+----------------------------------------+--------------+-----------+\n",
      "| Property                               |        Value |      Unit |\n",
      "+----------------------------------------+--------------+-----------+\n",
      "| Temperature                            |    1273.1500 |         K |\n",
      "| Pressure                               |   10000.0000 |       bar |\n",
      "| Volume                                 |   1.0000e-05 |        m3 |\n",
      "| Gibbs Energy                           | -488420.1304 |         J |\n",
      "| Enthalpy                               | -184792.5765 |         J |\n",
      "| Entropy                                |     238.4853 |       J/K |\n",
      "| Internal Energy                        | -194792.5765 |         J |\n",
      "| Helmholtz Energy                       | -498420.1304 |         J |\n",
      "| Charge                                 |   0.0000e+00 |       mol |\n",
      "| Element Amount:                        |              |           |\n",
      "| :: H                                   |   1.5995e+00 |       mol |\n",
      "| :: C                                   |   3.9988e-01 |       mol |\n",
      "| :: O                                   |   1.0000e+00 |       mol |\n",
      "| Species Amount:                        |              |           |\n",
      "| :: CH4                                 |   1.2748e-01 |       mol |\n",
      "| :: O2                                  |   1.0000e-16 |       mol |\n",
      "| :: CO2                                 |   2.3311e-01 |       mol |\n",
      "| :: CO                                  |   3.9293e-02 |       mol |\n",
      "| :: H2O                                 |   4.9449e-01 |       mol |\n",
      "| :: H2                                  |   5.0306e-02 |       mol |\n",
      "| Mole Fraction:                         |              |           |\n",
      "| :: CH4                                 |   1.3495e-01 |   mol/mol |\n",
      "| :: O2                                  |   1.0586e-16 |   mol/mol |\n",
      "| :: CO2                                 |   2.4676e-01 |   mol/mol |\n",
      "| :: CO                                  |   4.1594e-02 |   mol/mol |\n",
      "| :: H2O                                 |   5.2345e-01 |   mol/mol |\n",
      "| :: H2                                  |   5.3252e-02 |   mol/mol |\n",
      "| Activity Coefficient:                  |              |           |\n",
      "| :: CH4                                 |       1.0000 |         - |\n",
      "| :: O2                                  |       1.0000 |         - |\n",
      "| :: CO2                                 |       1.0000 |         - |\n",
      "| :: CO                                  |       1.0000 |         - |\n",
      "| :: H2O                                 |       1.0000 |         - |\n",
      "| :: H2                                  |       1.0000 |         - |\n",
      "| Activity:                              |              |           |\n",
      "| :: CH4                                 |   1.3495e+03 |         - |\n",
      "| :: O2                                  |   1.0586e-12 |         - |\n",
      "| :: CO2                                 |   2.4676e+03 |         - |\n",
      "| :: CO                                  |   4.1594e+02 |         - |\n",
      "| :: H2O                                 |   5.2345e+03 |         - |\n",
      "| :: H2                                  |   5.3252e+02 |         - |\n",
      "| lg(Activity):                          |              |           |\n",
      "| :: CH4                                 |       3.1302 |         - |\n",
      "| :: O2                                  |     -11.9753 |         - |\n",
      "| :: CO2                                 |       3.3923 |         - |\n",
      "| :: CO                                  |       2.6190 |         - |\n",
      "| :: H2O                                 |       3.7189 |         - |\n",
      "| :: H2                                  |       2.7263 |         - |\n",
      "| ln(Activity):                          |              |           |\n",
      "| :: CH4                                 |       7.2075 |         - |\n",
      "| :: O2                                  |     -27.5741 |         - |\n",
      "| :: CO2                                 |       7.8110 |         - |\n",
      "| :: CO                                  |       6.0305 |         - |\n",
      "| :: H2O                                 |       8.5630 |         - |\n",
      "| :: H2                                  |       6.2776 |         - |\n",
      "| Chemical Potential:                    |              |           |\n",
      "| :: CH4                                 |  -2.7843e+05 |     J/mol |\n",
      "| :: O2                                  |  -5.8051e+05 |     J/mol |\n",
      "| :: CO2                                 |  -6.2217e+05 |     J/mol |\n",
      "| :: CO                                  |  -3.2477e+05 |     J/mol |\n",
      "| :: H2O                                 |  -4.2294e+05 |     J/mol |\n",
      "| :: H2                                  |  -1.2553e+05 |     J/mol |\n",
      "| Standard Volume:                       |              |           |\n",
      "| :: CH4                                 |   0.0000e+00 |    m3/mol |\n",
      "| :: O2                                  |   0.0000e+00 |    m3/mol |\n",
      "| :: CO2                                 |   0.0000e+00 |    m3/mol |\n",
      "| :: CO                                  |   0.0000e+00 |    m3/mol |\n",
      "| :: H2O                                 |   0.0000e+00 |    m3/mol |\n",
      "| :: H2                                  |   0.0000e+00 |    m3/mol |\n",
      "| Standard Gibbs Energy (formation):     |              |           |\n",
      "| :: CH4                                 | -354726.7026 |     J/mol |\n",
      "| :: O2                                  | -288624.1836 |     J/mol |\n",
      "| :: CO2                                 | -704857.1814 |     J/mol |\n",
      "| :: CO                                  | -388605.1648 |     J/mol |\n",
      "| :: H2O                                 | -513583.4128 |     J/mol |\n",
      "| :: H2                                  | -191986.0517 |     J/mol |\n",
      "| Standard Enthalpy (formation):         |              |           |\n",
      "| :: CH4                                 |  -14294.0889 |     J/mol |\n",
      "| :: O2                                  |   32390.4240 |     J/mol |\n",
      "| :: CO2                                 | -344886.6903 |     J/mol |\n",
      "| :: CO                                  |  -79597.1200 |     J/mol |\n",
      "| :: H2O                                 | -204066.9932 |     J/mol |\n",
      "| :: H2                                  |   29072.1299 |     J/mol |\n",
      "| Standard Entropy (formation):          |              |           |\n",
      "| :: CH4                                 |     267.3940 | J/(mol*K) |\n",
      "| :: O2                                  |     252.1420 | J/(mol*K) |\n",
      "| :: CO2                                 |     282.7400 | J/(mol*K) |\n",
      "| :: CO                                  |     242.7114 | J/(mol*K) |\n",
      "| :: H2O                                 |     243.1107 | J/(mol*K) |\n",
      "| :: H2                                  |     173.6309 | J/(mol*K) |\n",
      "| Standard Internal Energy (formation):  |              |           |\n",
      "| :: CH4                                 |  -14294.0889 |     J/mol |\n",
      "| :: O2                                  |   32390.4240 |     J/mol |\n",
      "| :: CO2                                 | -344886.6903 |     J/mol |\n",
      "| :: CO                                  |  -79597.1200 |     J/mol |\n",
      "| :: H2O                                 | -204066.9932 |     J/mol |\n",
      "| :: H2                                  |   29072.1299 |     J/mol |\n",
      "| Standard Helmholtz Energy (formation): |              |           |\n",
      "| :: CH4                                 | -354726.7026 |     J/mol |\n",
      "| :: O2                                  | -288624.1836 |     J/mol |\n",
      "| :: CO2                                 | -704857.1814 |     J/mol |\n",
      "| :: CO                                  | -388605.1648 |     J/mol |\n",
      "| :: H2O                                 | -513583.4128 |     J/mol |\n",
      "| :: H2                                  | -191986.0517 |     J/mol |\n",
      "| Standard Heat Capacity (constant P):   |              |           |\n",
      "| :: CH4                                 |      84.1523 | J/(mol*K) |\n",
      "| :: O2                                  |      35.9257 | J/(mol*K) |\n",
      "| :: CO2                                 |      56.9320 | J/(mol*K) |\n",
      "| :: CO                                  |      34.4671 | J/(mol*K) |\n",
      "| :: H2O                                 |      44.7425 | J/(mol*K) |\n",
      "| :: H2                                  |      31.3023 | J/(mol*K) |\n",
      "| Standard Heat Capacity (constant V):   |              |           |\n",
      "| :: CH4                                 |      84.1523 | J/(mol*K) |\n",
      "| :: O2                                  |      35.9257 | J/(mol*K) |\n",
      "| :: CO2                                 |      56.9320 | J/(mol*K) |\n",
      "| :: CO                                  |      34.4671 | J/(mol*K) |\n",
      "| :: H2O                                 |      44.7425 | J/(mol*K) |\n",
      "| :: H2                                  |      31.3023 | J/(mol*K) |\n",
      "+----------------------------------------+--------------+-----------+\n"
     ]
    }
   ],
   "source": [
    "conditions = EquilibriumConditions(specs)\n",
    "conditions.temperature(1000.0, \"celsius\")\n",
    "conditions.volume(10.0, \"cm3\")\n",
    "conditions.pressure(1.0, \"GPa\")\n",
    "\n",
    "solver = EquilibriumSolver(specs)\n",
    "solver.solve(state, conditions)\n",
    "\n",
    "print(state.props())"
   ]
  },
  {
   "cell_type": "markdown",
   "metadata": {},
   "source": [
    "The above table shows that the obtained equilibrium state meats desired values for temperature, pressure, and volume (in SI units). We can output the amount of CH<sub>4</sub> entering the system so that all prescribed conditions could be attained:"
   ]
  },
  {
   "cell_type": "code",
   "execution_count": 10,
   "metadata": {
    "pycharm": {
     "name": "#%%\n"
    }
   },
   "outputs": [
    {
     "name": "stdout",
     "output_type": "stream",
     "text": [
      "Amount of CH4 titrated in: 0.3998837695340861 mol\n"
     ]
    }
   ],
   "source": [
    "print(\"Amount of CH4 titrated in:\", float(state.equilibrium().explicitTitrantAmounts()), \"mol\")"
   ]
  }
 ],
 "metadata": {
  "interpreter": {
   "hash": "e4e8b2f3ae27709963f14fd23a6560d362beea55eaec742263828e04d814e23c"
  },
  "kernelspec": {
   "display_name": "Python 3 (ipykernel)",
   "language": "python",
   "name": "python3"
  },
  "language_info": {
   "codemirror_mode": {
    "name": "ipython",
    "version": 3
   },
   "file_extension": ".py",
   "mimetype": "text/x-python",
   "name": "python",
   "nbconvert_exporter": "python",
   "pygments_lexer": "ipython3",
   "version": "3.9.7"
  }
 },
 "nbformat": 4,
 "nbformat_minor": 4
}
