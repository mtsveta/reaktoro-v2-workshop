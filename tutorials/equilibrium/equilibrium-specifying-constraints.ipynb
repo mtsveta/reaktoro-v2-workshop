{
 "cells": [
  {
   "cell_type": "markdown",
   "metadata": {},
   "source": [
    "# Chemical equilibrium with constraints\n",
    "\n",
    "In this tutorial demonstrates how Reaktoro can be used for wide range of equilibrium problems and explains how to\n",
    "\n",
    "* *specify different equilibrium constraints* when calculating chemical equilibrium and\n",
    "* *configure equilibrium solver* to be open to one or more substances to satisfy these constraints.\n",
    "\n",
    "Let us re-call the simplest chemical equilibrium discussed earlier, where:\n",
    "* T and P are given and\n",
    "* the system is closed (no mass transfer in or out of the system)."
   ]
  },
  {
   "cell_type": "code",
   "execution_count": null,
   "metadata": {},
   "outputs": [],
   "source": [
    "from reaktoro import *\n",
    "\n",
    "db = NasaDatabase(\"nasa-cea\")\n",
    "\n",
    "gases = GaseousPhase(\"CH4 O2 CO2 CO H2O H2\")\n",
    "\n",
    "system = ChemicalSystem(db, gases)\n",
    "\n",
    "solver = EquilibriumSolver(system) # notat that EquilibriumSolver is intialized with chemical system"
   ]
  },
  {
   "cell_type": "markdown",
   "metadata": {},
   "source": [
    "To impose the **temperature** and **volume** of the system (technically the class of *Helmholtz energy minimization problems*), we need to construct *a specialized [EquilibriumSolver](https://reaktoro.org/api/classReaktoro_1_1EquilibriumSolver.html) object* that handles alternative constraint specifications.\n",
    "\n",
    "> **Note**: Instead of the Helmholtz energy minimization problem, Reaktoro implements a single **parametric Gibbs energy minimization solver that accepts general equilibrium constraints**, which can be configured to efficiently solve all other classes of equilibrium problems.\n"
   ]
  },
  {
   "cell_type": "markdown",
   "metadata": {},
   "source": [
    "## Specifying constrained properties\n",
    "\n",
    "We can use [EquilibriumSpecs](https://reaktoro.org/api/classReaktoro_1_1EquilibriumSpecs.html) to provide the constraint specifications, in this case, **temperature** and **volume**, for our [EquilibriumSolver](https://reaktoro.org/api/classReaktoro_1_1EquilibriumSolver.html)."
   ]
  },
  {
   "cell_type": "code",
   "execution_count": null,
   "metadata": {},
   "outputs": [],
   "source": [
    "# Define equilibrium specification class indicating fixed conditions in the minimization problem\n",
    "specs = EquilibriumSpecs(system)\n",
    "specs.temperature()\n",
    "specs.volume()\n",
    "\n",
    "# Defining equilibrium solver using above-defined equilibrium specifications\n",
    "solver = EquilibriumSolver(specs)"
   ]
  },
  {
   "cell_type": "markdown",
   "metadata": {},
   "source": [
    "> **Note**: Beside the list of possible constraints (one can impose) with [EquilibriumSpecs](https://reaktoro.org/api/classReaktoro_1_1EquilibriumSpecs.html) class, no can **define custom constraints**.\n",
    "\n",
    "With the chemical system and chemical solver defined above, we want to *model the combustion of 1 mol of CH<sub>4</sub> and 0.5 mol of O<sub>2</sub> in a chamber* of 10 cm³ at 1000 °C:"
   ]
  },
  {
   "cell_type": "code",
   "execution_count": null,
   "metadata": {},
   "outputs": [],
   "source": [
    "state = ChemicalState(system)\n",
    "state.set(\"CH4\", 1.0, \"mol\")\n",
    "state.set(\"O2\",  0.5, \"mol\")\n",
    "\n",
    "print(\"INITIAL STATE\")\n",
    "print(state)"
   ]
  },
  {
   "cell_type": "markdown",
   "metadata": {},
   "source": [
    "This initial state is still in disequilibrium. We use [EquilibriumConditions](https://reaktoro.org/api/classReaktoro_1_1EquilibriumConditions.html) below to specify the desired conditions of temperature and volume at the equilibrium state and equilibrate the `state` object.\n",
    "> **Important:** for every condition marked to be specified in the [EquilibriumSpecs](https://reaktoro.org/api/classReaktoro_1_1EquilibriumSpecs.html) object, we must set the expected conditions in the [EquilibriumConditions](https://reaktoro.org/api/classReaktoro_1_1EquilibriumConditions.html) object! Not doing so can cause unexpected behavior or a runtime error."
   ]
  },
  {
   "cell_type": "code",
   "execution_count": null,
   "metadata": {},
   "outputs": [],
   "source": [
    "# Specify that the values for fixed temperature and volume constraints\n",
    "conditions = EquilibriumConditions(specs)\n",
    "conditions.temperature(1000.0, \"celsius\")\n",
    "conditions.volume(10.0, \"cm3\")\n",
    "\n",
    "# Equilibrate the chemical state\n",
    "solver.solve(state, conditions)\n",
    "\n",
    "print(\"FINAL STATE\")\n",
    "print(state)"
   ]
  },
  {
   "cell_type": "markdown",
   "metadata": {},
   "source": [
    "To make sure that the final volume in the chemical state is indeed 10 cm³, we can use the [ChemicalProps](https://reaktoro.org/api/classReaktoro_1_1ChemicalProps.html) object attached to the [ChemicalState](https://reaktoro.org/api/classReaktoro_1_1ChemicalState.html) object `state` by [EquilibriumSolver](https://reaktoro.org/api/classReaktoro_1_1EquilibriumSolver.html) at the end of the minimization:"
   ]
  },
  {
   "cell_type": "code",
   "execution_count": null,
   "metadata": {},
   "outputs": [],
   "source": [
    "# Fetch chemical properties from the chemical state (aq it was equilibrated)\n",
    "V = state.props().volume()  # volume in m³\n",
    "P = state.pressure()        # pressure in Pa\n",
    "\n",
    "V = units.convert(V, \"m3\", \"cm3\")  # convert volume from m³ to cm³\n",
    "P = units.convert(P, \"Pa\", \"GPa\")  # convert pressure from Pa to bar\n",
    "\n",
    "print(\"Volume at equilibrium state is\", V, \"cm³\")\n",
    "print(\"Pressure at equilibrium state is\", P, \"GPa\")"
   ]
  },
  {
   "cell_type": "markdown",
   "metadata": {},
   "source": [
    "**TASK**: reformulate the Gibbs energy minimization problem for modelling the combustion of 1 mol of CH<sub>4</sub> and 0.5 mol of O<sub>2</sub> at 1000 ºC and 100 bar with [EquilibriumSpecs](https://reaktoro.org/api/classReaktoro_1_1EquilibriumSpecs.html) and [EquilibriumConditions](https://reaktoro.org/api/classReaktoro_1_1EquilibriumConditions.html)."
   ]
  },
  {
   "cell_type": "code",
   "execution_count": null,
   "metadata": {
    "collapsed": false,
    "jupyter": {
     "outputs_hidden": false
    },
    "pycharm": {
     "name": "#%%\n"
    }
   },
   "outputs": [],
   "source": [
    "# -------------------------------------- #\n",
    "# Code cell for the task\n",
    "# -------------------------------------- #"
   ]
  },
  {
   "cell_type": "markdown",
   "metadata": {},
   "source": [
    "## Specifying open conditions\n",
    "\n",
    "Assume, we need to find out how many mols of CH<sub>4</sub> must react with 0.5 mol of O<sub>2</sub> in the same chamber (with **volume** 10 cm³ and **temperature** 1000 °C) to obtain **pressure** 1 GPa (maximum pressure supported by the chamber material). In such equilibrium calculation, the system must be assumed to be open to the mass transfer of CH<sub>4</sub>, which creates a new *degree of freedom*: the amount of added/removed substance.\n",
    "\n",
    "We start with the chemical state containing only 0.5 mols of O<sub>2</sub>:"
   ]
  },
  {
   "cell_type": "code",
   "execution_count": null,
   "metadata": {},
   "outputs": [],
   "source": [
    "state = ChemicalState(system)\n",
    "state.set(\"O2\", 0.5, \"mol\")"
   ]
  },
  {
   "cell_type": "markdown",
   "metadata": {},
   "source": [
    "Next, we create an [EquilibriumSpecs](https://reaktoro.org/api/classReaktoro_1_1EquilibriumSpecs.html) object specifying **temperature**, **volume**, and **pressure** as constrained properties. We also specify that the system is open to CH<sub>4</sub>."
   ]
  },
  {
   "cell_type": "code",
   "execution_count": null,
   "metadata": {},
   "outputs": [],
   "source": [
    "specs = EquilibriumSpecs(system)\n",
    "specs.temperature()\n",
    "specs.volume()\n",
    "specs.pressure()\n",
    "specs.openTo(\"CH4\")"
   ]
  },
  {
   "cell_type": "markdown",
   "metadata": {},
   "source": [
    "Then, we create the [EquilibriumConditions](https://reaktoro.org/api/classReaktoro_1_1EquilibriumConditions.html) object, providing the values for temperature, volume, and pressure, and perform the equilibrium calculation:"
   ]
  },
  {
   "cell_type": "code",
   "execution_count": null,
   "metadata": {
    "scrolled": true,
    "tags": [
     "output_scroll"
    ]
   },
   "outputs": [],
   "source": [
    "conditions = EquilibriumConditions(specs)\n",
    "conditions.temperature(1000.0, \"celsius\")\n",
    "conditions.volume(10.0, \"cm3\")\n",
    "conditions.pressure(1.0, \"GPa\")\n",
    "\n",
    "solver = EquilibriumSolver(specs)\n",
    "solver.solve(state, conditions)\n",
    "\n",
    "print(state.props())"
   ]
  },
  {
   "cell_type": "markdown",
   "metadata": {},
   "source": [
    "The above table shows that the obtained equilibrium state meats desired values for temperature, pressure, and volume (in SI units). We can output the amount of CH<sub>4</sub> entering the system so that all prescribed conditions could be attained:"
   ]
  },
  {
   "cell_type": "code",
   "execution_count": null,
   "metadata": {
    "pycharm": {
     "name": "#%%\n"
    }
   },
   "outputs": [],
   "source": [
    "print(\"Amount of CH4 titrated in:\", float(state.equilibrium().explicitTitrantAmounts()), \"mol\")"
   ]
  }
 ],
 "metadata": {
  "interpreter": {
   "hash": "e4e8b2f3ae27709963f14fd23a6560d362beea55eaec742263828e04d814e23c"
  },
  "kernelspec": {
   "display_name": "Python 3 (ipykernel)",
   "language": "python",
   "name": "python3"
  },
  "language_info": {
   "codemirror_mode": {
    "name": "ipython",
    "version": 3
   },
   "file_extension": ".py",
   "mimetype": "text/x-python",
   "name": "python",
   "nbconvert_exporter": "python",
   "pygments_lexer": "ipython3",
   "version": "3.9.7"
  }
 },
 "nbformat": 4,
 "nbformat_minor": 4
}
