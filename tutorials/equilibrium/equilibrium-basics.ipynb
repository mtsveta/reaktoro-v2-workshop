{
 "cells": [
  {
   "cell_type": "markdown",
   "metadata": {},
   "source": [
    "# Chemical equilibrium: the basics\n",
    "\n",
    "Reaktoro performs chemical equilibrium calculations by *minimizing the Gibbs energy of the system*. In a Gibbs energy minimization (GEM) problem, **temperature and pressure are prescribed** and **the chemical system is closed**. Thus, without mass transfer in or out of the system, the initial amounts of chemical elements and electric charge are conserved in the reactive process.\n",
    "\n",
    "> **Note**: There are other classes of equilibrium problems, where:\n",
    ">\n",
    "> * **temperature and/or pressure may be unknown** (e.g., combustion in a rigid and adiabatic chamber where volume and internal energy are specified and temperature and pressure are calculated);\n",
    "> * **the chemical system is open to certain substances** (e.g., aqueous solution in equilibrium with a mixture of gases with known partial pressures or fugacities, such as the atmosphere).\n",
    ">\n",
    "> *Reaktoro's chemical equilibrium algorithm supports all these cases* because it implements an algorithm to solve *parametric Gibbs energy minimization problems with general equilibrium constraints*. Thus, Reaktoro is not restricted to closed systems and prescribed temperature and pressure conditions.\n",
    "\n",
    "A simple example below demonstrates the most basic form of performing chemical equilibrium calculations, modelling the combustion of 1 mol of CH<sub>4</sub> and 0.5 mol of O<sub>2</sub> at 1000 ºC and 100 bar. First, we define a chemical system consisting of only a gaseous phase:"
   ]
  },
  {
   "cell_type": "code",
   "execution_count": 1,
   "metadata": {},
   "outputs": [],
   "source": [
    "from reaktoro import *\n",
    "\n",
    "db = NasaDatabase(\"nasa-cea\")\n",
    "\n",
    "gases = GaseousPhase(\"CH4 O2 CO2 CO H2O H2\")\n",
    "\n",
    "system = ChemicalSystem(db, gases)"
   ]
  },
  {
   "cell_type": "markdown",
   "metadata": {},
   "source": [
    "Then, we create a chemical state for this system with conditions given above:"
   ]
  },
  {
   "cell_type": "code",
   "execution_count": 2,
   "metadata": {},
   "outputs": [
    {
     "name": "stdout",
     "output_type": "stream",
     "text": [
      "=== INITIAL STATE ===\n",
      "+-----------------+---------+------+\n",
      "| Property        |   Value | Unit |\n",
      "+-----------------+---------+------+\n",
      "| Temperature     | 1273.15 |    K |\n",
      "| Pressure        |   1e+07 |   Pa |\n",
      "| Charge:         |       0 |  mol |\n",
      "| Element Amount: |         |      |\n",
      "| :: H            |       4 |  mol |\n",
      "| :: C            |       1 |  mol |\n",
      "| :: O            |       1 |  mol |\n",
      "| Species Amount: |         |      |\n",
      "| :: CH4          |       1 |  mol |\n",
      "| :: O2           |     0.5 |  mol |\n",
      "| :: CO2          |   1e-16 |  mol |\n",
      "| :: CO           |   1e-16 |  mol |\n",
      "| :: H2O          |   1e-16 |  mol |\n",
      "| :: H2           |   1e-16 |  mol |\n",
      "+-----------------+---------+------+\n"
     ]
    }
   ],
   "source": [
    "state = ChemicalState(system)\n",
    "state.temperature(1000, \"celsius\")\n",
    "state.pressure(100, \"bar\")\n",
    "state.set(\"CH4\", 1.0, \"mol\")\n",
    "state.set(\"O2\",  0.5, \"mol\")\n",
    "\n",
    "print(\"=== INITIAL STATE ===\")\n",
    "print(state)"
   ]
  },
  {
   "cell_type": "markdown",
   "metadata": {},
   "source": [
    "Finally, we create an [EquilibriumSolver](https://reaktoro.org/api/classReaktoro_1_1EquilibriumSolver.html) object to perform the desired chemical equilibrium calculation:"
   ]
  },
  {
   "cell_type": "code",
   "execution_count": 3,
   "metadata": {},
   "outputs": [
    {
     "name": "stdout",
     "output_type": "stream",
     "text": [
      "=== FINAL STATE ===\n",
      "+-----------------+-----------+------+\n",
      "| Property        |     Value | Unit |\n",
      "+-----------------+-----------+------+\n",
      "| Temperature     |   1273.15 |    K |\n",
      "| Pressure        |     1e+07 |   Pa |\n",
      "| Charge:         |         0 |  mol |\n",
      "| Element Amount: |           |      |\n",
      "| :: H            |         4 |  mol |\n",
      "| :: C            |         1 |  mol |\n",
      "| :: O            |         1 |  mol |\n",
      "| Species Amount: |           |      |\n",
      "| :: CH4          |  0.376062 |  mol |\n",
      "| :: O2           |     1e-16 |  mol |\n",
      "| :: CO2          | 0.0936296 |  mol |\n",
      "| :: CO           |  0.530308 |  mol |\n",
      "| :: H2O          |  0.282433 |  mol |\n",
      "| :: H2           |  0.965442 |  mol |\n",
      "+-----------------+-----------+------+\n"
     ]
    }
   ],
   "source": [
    "solver = EquilibriumSolver(system)\n",
    "solver.solve(state)  # equilibrate the `state` object!\n",
    "\n",
    "print(\"=== FINAL STATE ===\")\n",
    "print(state)"
   ]
  },
  {
   "cell_type": "markdown",
   "metadata": {},
   "source": [
    "> **Note**: the initial and final amounts of the elements H, C, and O as well as electric charge of the system are identical.\n",
    "\n",
    "> **Note**: if you need to perform a series of equilibrium calculations (e.g. in the context of reactive transport simulations), prefer using the [EquilibriumSolver](https://reaktoro.org/api/classReaktoro_1_1EquilibriumSolver.html) class instead of the [equilibrate](https://reaktoro.org/api/namespaceReaktoro.html#a286e2972325304934d631234abef9e87) method, to avoid an overhead of creating an [EquilibriumSolver](https://reaktoro.org/api/classReaktoro_1_1EquilibriumSolver.html) instance at each call of [equilibrate](https://reaktoro.org/api/namespaceReaktoro.html#a286e2972325304934d631234abef9e87)."
   ]
  },
  {
   "cell_type": "markdown",
   "metadata": {},
   "source": [
    "## Checking if the calculation was successful\n",
    "\n",
    "Performing chemical equilibrium calculations is not a trivial task. It involves highly complicated algorithms to solve different mathematical problems (e.g., non-linear equations, matrix equations). Therefore, it is possible that a calculation could fail. This can happen due to many factors, among many are\n",
    "\n",
    "* formulation of the equilibrium problem is ill-formed (e.g. specifying a set of conflicting equilibrium constraints that cannot be achieved chemically/thermodynamically)\n",
    "* use of poor initial guesses.\n",
    "\n",
    "Therefore, we recommend to check if the equilibrium calculation was successful by inspecting the [EquilibriumResult](https://reaktoro.org/api/structReaktoro_1_1EquilibriumResult.html) instance that `solver.solve` function returns:"
   ]
  },
  {
   "cell_type": "code",
   "execution_count": 4,
   "metadata": {
    "pycharm": {
     "name": "#%%\n"
    }
   },
   "outputs": [
    {
     "name": "stdout",
     "output_type": "stream",
     "text": [
      "Succeesful? True\n"
     ]
    }
   ],
   "source": [
    "state = ChemicalState(system)\n",
    "state.temperature(1000, \"celsius\")\n",
    "state.pressure(100, \"bar\")\n",
    "state.set(\"CH4\", 1.0, \"mol\")\n",
    "state.set(\"O2\",  0.5, \"mol\")\n",
    "\n",
    "solver = EquilibriumSolver(system)\n",
    "result = solver.solve(state)\n",
    "\n",
    "print(\"Has solver converged?\", result.optima.succeeded)"
   ]
  }
 ],
 "metadata": {
  "interpreter": {
   "hash": "e4e8b2f3ae27709963f14fd23a6560d362beea55eaec742263828e04d814e23c"
  },
  "kernelspec": {
   "display_name": "Python 3 (ipykernel)",
   "language": "python",
   "name": "python3"
  },
  "language_info": {
   "codemirror_mode": {
    "name": "ipython",
    "version": 3
   },
   "file_extension": ".py",
   "mimetype": "text/x-python",
   "name": "python",
   "nbconvert_exporter": "python",
   "pygments_lexer": "ipython3",
   "version": "3.9.7"
  }
 },
 "nbformat": 4,
 "nbformat_minor": 4
}