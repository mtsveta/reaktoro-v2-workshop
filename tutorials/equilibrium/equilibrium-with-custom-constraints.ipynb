{
 "cells": [
  {
   "cell_type": "markdown",
   "metadata": {},
   "source": [
    "# Chemical equilibrium with custom constraints\n",
    "\n",
    "<p class=\"acknowledgement\">Written by Allan Leal (ETH Zurich) on Jan 21th, 2022</p>\n",
    "\n",
    "Reaktoro already implements many different types of chemical equilibrium constraints. The {{EquilibriumSpecs}} class allows you to constrain the following properties in an equilibrium state:\n",
    "\n",
    "* the temperature of the system\n",
    "* the pressure of the system\n",
    "* the volume of the system\n",
    "* the internal energy of the system\n",
    "* the enthalpy of the system\n",
    "* the Gibbs energy of the system\n",
    "* the Helmholtz energy of the system\n",
    "* the entropy of the system\n",
    "* the electric charge of the system\n",
    "* the amount of an element in the system\n",
    "* the amount of an element in a phase\n",
    "* the mass of an element in the system\n",
    "* the mass of an element in a phase\n",
    "* the amount of a phase\n",
    "* the mass of a phase\n",
    "* the volume of a phase\n",
    "* the electric charge of a phase\n",
    "* the chemical potential of a species\n",
    "* the activity of a species\n",
    "* the fugacity of a gas\n",
    "* the pH of an aqueous phase\n",
    "* the pMg of an aqueous phase\n",
    "* the pE of an aqueous phase\n",
    "* the Eh of an aqueous phase\n",
    "\n",
    "```{tip}\n",
    "This list of properties that can be constrained may be more extensive now! For a more up-to-date list, check the API of class {{EquilibriumSpecs}}.\n",
    "```\n",
    "\n",
    "These options may not suffice to you. This tutorial will demonstrate how **your own constraints** can be defined and used by the {{EquilibriumSolver}} class to honor the conditions you want to see attained at an equilibrium state.\n",
    "\n",
    "Before we proceed, we need to understand how equilibrium constraints are formulated in Reaktoro and used by its equilibrium solver. Let's consider you want to impose a value for the enthalpy of the system, $H_{\\mathrm{desired}}$. A chemical state that honors all imposed equilibrium constraints and mass/charge conservation conditions is sought during the chemical equilibrium calculation. This happens iteratively, and in a given iteration of the algorithm, the enthalpy of the system, $H_{\\mathrm{current}}$, may still be different than that you want, $H_{\\mathrm{desired}}$. At some point, the algorithm will converge to a chemical state in which the *equilibrium constraint residual* satisfies:\n",
    "\n",
    "$$|H_{\\mathrm{current}}-H_{\\mathrm{desired}}|<\\epsilon_{\\mathrm{tolerance}}$$\n",
    "\n",
    "where $\\epsilon_{\\mathrm{tolerance}}$ is a small positve tolerance value (e.g., 10<sup>-6</sup>). \n",
    "\n",
    "We will learn in the next sections that equilibrium constraints in Reaktoro can be defined by writing **residual expressions** like the one above. \n",
    "\n",
    "```{tip}\n",
    "Reaktoro is not restricted to impose only the value of a property at equilibrium, such as shown in the previous example in which enthalpy is constrained. Because equilibrium constraints are formulated in terms of *residual expressions*, you can write whatever you want there, even expressions involving multiple properties! \n",
    "```"
   ]
  },
  {
   "cell_type": "markdown",
   "metadata": {},
   "source": [
    "## Creating your own volume and internal energy constraints\n",
    "\n",
    "[previous-example]: equilibrium-with-fixed-volume-internal-energy\n",
    "\n",
    "In a [previous example][previous-example], we modeled the combustion of CH{{_4}} in a rigid and adiabatic chamber. We'll repeat this example here. However, this time, **we'll define the volume and internal energy constraints from scratch**. This example should be helpful for you to understand the fundamentals of defining functional constraints and attaching them to the equilibrium solver.\n",
    "\n",
    "So, let's start as usual with the definition of our chemical system and the creation of an initial chemical state for it (this will be identical to what we did [here][previous-example]!). "
   ]
  },
  {
   "cell_type": "code",
   "execution_count": 20,
   "metadata": {},
   "outputs": [],
   "source": [
    "from reaktoro import *\n",
    "\n",
    "db = NasaDatabase(\"nasa-cea\")\n",
    "\n",
    "gases = GaseousPhase(\"CH4 O2 CO2 CO H2O H2\")\n",
    "\n",
    "system = ChemicalSystem(db, gases)\n",
    "\n",
    "state0 = ChemicalState(system)\n",
    "state0.temperature(25.0, \"celsius\")\n",
    "state0.pressure(1.0, \"bar\")\n",
    "state0.set(\"CH4\", 0.75, \"mol\")\n",
    "state0.set(\"O2\",  0.25, \"mol\")\n",
    "state0.scaleVolume(10.0, \"cm3\")"
   ]
  },
  {
   "cell_type": "markdown",
   "metadata": {},
   "source": [
    "Let's calculate the chemical properties of this system in this initial state and save the initial volume and internal energy in the variables `V0` and `U0` for later use:"
   ]
  },
  {
   "cell_type": "code",
   "execution_count": 21,
   "metadata": {},
   "outputs": [],
   "source": [
    "props0 = ChemicalProps(state0)\n",
    "\n",
    "V0 = props0.volume()\n",
    "U0 = props0.internalEnergy()"
   ]
  },
  {
   "cell_type": "markdown",
   "metadata": {},
   "source": [
    "Let's now finally define our own constraints (from scratch!). Below is the complete sequence of steps with just a few comments. More details will be given later."
   ]
  },
  {
   "cell_type": "code",
   "execution_count": 22,
   "metadata": {},
   "outputs": [],
   "source": [
    "specs = EquilibriumSpecs(system)\n",
    "\n",
    "idxV = specs.addInput(\"V\")  # add \"V\" as the symbol for a new input condition to the equilibrium problem\n",
    "idxU = specs.addInput(\"U\")  # add \"U\" as the symbol for a new input condition to the equilibrium problem\n",
    "\n",
    "volumeConstraint = ConstraintEquation()\n",
    "volumeConstraint.id = \"VolumeConstraint\"  # give some identification name to the constraint (it's up to you how you call this)\n",
    "volumeConstraint.fn = lambda props, w: props.volume() - w[idxV]  # the residual function defining V(current) - V(desired)\n",
    "\n",
    "internalEnergyConstraint = ConstraintEquation()\n",
    "internalEnergyConstraint.id = \"InternalEnergyConstraint\"  # give some identification name to the constraint (it's up to you how you call this)\n",
    "internalEnergyConstraint.fn = lambda props, w: props.internalEnergy() - w[idxU]  # the residual function defining U(current) - U(desired)\n",
    "\n",
    "specs.addConstraint(volumeConstraint)\n",
    "specs.addConstraint(internalEnergyConstraint)\n",
    "\n",
    "solver = EquilibriumSolver(specs)"
   ]
  },
  {
   "cell_type": "markdown",
   "metadata": {},
   "source": [
    "[lambda-function]: https://www.w3schools.com/python/python_lambda.asp\n",
    "As usual, we start with the creation of an {{EquilibriumSpecs}} object. Besides the code comments above, it's worth commenting further that:\n",
    "\n",
    "* `idxV` and `idxU` are the indices of the newly added inputs to the equilibrium problem (namely `V` and `U`)\n",
    "* `lambda props, w: props.volume() - w[idxV]` is a [lambda function][lambda-function] defining our *residual expression for the volume constraint*: $$V_\\mathrm{current} - V_\\mathrm{desired}$$\n",
    "* `lambda props, w: props.internalEnergy() - w[idxV]` is a lambda function defining our *residual expression for the internal energy constraint*\n",
    "* `props` is the {{ChemicalProps}} object containing the current chemical properties of the system from where we get *current volume and internal energy*: $$U_\\mathrm{current} - U_\\mathrm{desired}$$\n",
    "* `w` is the array with the values of the inputs introduced in the equilibrium problem from where we get the *desired volume and internal energy*\n",
    "* `w[idxV]` and `w[idxU]` are the values of introduced inputs `V` and `U` (the desired values of volume and internal energy)\n",
    "\n",
    "It's now time to create our {{EquilibriumConditions}} object, where specify the values for the inputs `V` and `U`:"
   ]
  },
  {
   "cell_type": "code",
   "execution_count": 23,
   "metadata": {},
   "outputs": [],
   "source": [
    "conditions = EquilibriumConditions(specs)\n",
    "conditions.set(\"V\", V0)  # remember the symbol \"V\" introduced before? you're using it here!\n",
    "conditions.set(\"U\", U0)  # remember the symbol \"U\" introduced before? you're using it here!\n",
    "\n",
    "conditions.setLowerBoundTemperature(25.0, \"celsius\")\n",
    "conditions.setUpperBoundTemperature(2000.0, \"celsius\")\n",
    "\n",
    "conditions.setLowerBoundPressure(1.0, \"bar\")\n",
    "conditions.setUpperBoundPressure(1000.0, \"bar\")"
   ]
  },
  {
   "cell_type": "markdown",
   "metadata": {},
   "source": [
    "After this, we are ready to solve the chemical equilibrium problem that models the combustion of CH{{_4}} in a rigid and adiabatic chamber:"
   ]
  },
  {
   "cell_type": "code",
   "execution_count": 24,
   "metadata": {},
   "outputs": [
    {
     "name": "stdout",
     "output_type": "stream",
     "text": [
      "FINAL STATE\n",
      "+-----------------+-------------+------+\n",
      "| Property        |       Value | Unit |\n",
      "+-----------------+-------------+------+\n",
      "| Temperature     |     1080.39 |    K |\n",
      "| Pressure        |      583621 |   Pa |\n",
      "| Charge:         |           0 |  mol |\n",
      "| Element Amount: |             |      |\n",
      "| :: H            |  0.00121019 |  mol |\n",
      "| :: C            | 0.000302547 |  mol |\n",
      "| :: O            | 0.000201698 |  mol |\n",
      "| Species Amount: |             |      |\n",
      "| :: CH4          | 0.000128967 |  mol |\n",
      "| :: O2           |       1e-16 |  mol |\n",
      "| :: CO2          | 9.68738e-06 |  mol |\n",
      "| :: CO           | 0.000163893 |  mol |\n",
      "| :: H2O          | 1.84304e-05 |  mol |\n",
      "| :: H2           | 0.000328729 |  mol |\n",
      "+-----------------+-------------+------+\n"
     ]
    }
   ],
   "source": [
    "state = ChemicalState(state0)  # let's create a copy of the initial state\n",
    "\n",
    "solver.solve(state, conditions)\n",
    "\n",
    "print(\"FINAL STATE\")\n",
    "print(state)"
   ]
  },
  {
   "cell_type": "markdown",
   "metadata": {},
   "source": [
    "That's it! You may want to check if this computed equilibrium state is identical to that found in this [tutorial](equilibrium-with-fixed-volume-internal-energy), where we used predefined volume and internal energy constraints to solve the same problem."
   ]
  },
  {
   "cell_type": "markdown",
   "metadata": {},
   "source": [
    "## Creating your own pH constraint\n",
    "\n",
    "We've seen in this [previous tutorial](equilibrium-with-fixed-ph) how to use the predefined equilibrium constraint for pH in class {{EquilibriumSpecs}}. We also saw that using that pH constraint causes the system to be open to H<sup>+</sup>. However, what if we want to fix the pH of an aqueous solution by *titrating it with another substance*? \n",
    "\n",
    "We consider thus the following case. At 30 °C and 5 atm, how much CO{{_2}} must be titrated into an aqueous solution saturated with mineral calcite (CaCO{{_3}}) to obtain pH 7? This problem can be solved by formulating a chemical equilibrium calculation in which **temperature**, **pressure**, and **pH** are constrained and that **the system is open to the mass transfer of CO{{_2}}**.\n",
    "\n",
    "To solve this problem, we start with the definition of a chemical system with the following phases:\n",
    "\n",
    "* an aqueous phase (with aqueous species that can be formed from elements H, O, Na, Cl, C, and Ca);\n",
    "* a gaseous phase (with only CO{{_2}}(g) and H{{_2}}O(g) species)\n",
    "* a solid phase (representing the mineral calcite)\n",
    "\n",
    "We also set some activity models for the aqueous and gaseous phases (check this [tutorial](../basics/specifying-activity-models) for more information about specifying activity models):"
   ]
  },
  {
   "cell_type": "code",
   "execution_count": 25,
   "metadata": {},
   "outputs": [],
   "source": [
    "from reaktoro import *\n",
    "\n",
    "db = PhreeqcDatabase(\"phreeqc.dat\")\n",
    "\n",
    "solution = AqueousPhase(speciate(\"H O Na Cl C Ca\"))\n",
    "solution.setActivityModel(chain(\n",
    "    ActivityModelHKF(),\n",
    "    ActivityModelDrummond(\"CO2\")\n",
    "))\n",
    "\n",
    "gases = GaseousPhase(\"CO2(g) H2O(g)\")\n",
    "gases.setActivityModel(ActivityModelPengRobinson())\n",
    "\n",
    "calcite = MineralPhase(\"Calcite\")\n",
    "\n",
    "system = ChemicalSystem(db, solution, gases, calcite)"
   ]
  },
  {
   "cell_type": "markdown",
   "metadata": {},
   "source": [
    "Let's now define a helper function that computes pH for given chemical properties of a system:"
   ]
  },
  {
   "cell_type": "code",
   "execution_count": 26,
   "metadata": {},
   "outputs": [],
   "source": [
    "def pH(props: ChemicalProps):\n",
    "    return -props.speciesActivityLg(\"H+\")  # this results in -log10(a[H+]), which is pH"
   ]
  },
  {
   "cell_type": "markdown",
   "metadata": {},
   "source": [
    "We'll use this convenience function next (in the *lambda function defining the residual expression*), while creating our {{EquilibriumSpecs}} object in which we provide the specifications for the equilibrium problem we want to formulate. \n",
    "\n",
    "```{tip}\n",
    "The method call `props.speciesActivityLg(\"H+\")` will be performed several times. If you would like to avoid an index search for `H+` in every such call, you could do the following instead:\n",
    "\n",
    "~~~python\n",
    "idxH = system.species().index(\"H+\")\n",
    "def pH(props: ChemicalProps):\n",
    "    return -props.speciesActivityLg(idxH)\n",
    "~~~\n",
    "```\n",
    "\n",
    "We want to perform a chemical equilibrium calculation in which the following properties are constrained:\n",
    "\n",
    "* temperature;\n",
    "* pressure; and\n",
    "* pH.\n",
    "\n",
    "Moreover, our system is open to CO{{_2}}. These specifications are all provided next in the {{EquilibriumSpecs}} object we create:\n"
   ]
  },
  {
   "cell_type": "code",
   "execution_count": 27,
   "metadata": {},
   "outputs": [],
   "source": [
    "specs = EquilibriumSpecs(system)\n",
    "\n",
    "specs.addInput(\"pH\")  # add \"pH\" as the symbol for a new input condition to the equilibrium problem\n",
    "\n",
    "pHConstraint = ConstraintEquation()\n",
    "pHConstraint.id = \"pHConstraint\"  # give some identification name to the constraint (it's up to you how you call this)\n",
    "pHConstraint.fn = lambda props, w: pH(props) - w[0]  # the residual function defining pH(current) - pH(desired)\n",
    "\n",
    "specs.temperature()\n",
    "specs.pressure()\n",
    "specs.addConstraint(pHConstraint)\n",
    "specs.openTo(\"CO2\")\n",
    "\n",
    "solver = EquilibriumSolver(specs)"
   ]
  },
  {
   "cell_type": "markdown",
   "metadata": {},
   "source": [
    "We'll now create an *initial chemical state* for the system representing a 1 molal NaCl aqueous solution mixed with a sufficient amount of calcite to saturate the fluid at 25 °C and 1 atm."
   ]
  },
  {
   "cell_type": "code",
   "execution_count": 29,
   "metadata": {},
   "outputs": [
    {
     "name": "stdout",
     "output_type": "stream",
     "text": [
      "+--------------------------+-------------+-------+\n",
      "| Property                 |       Value |  Unit |\n",
      "+--------------------------+-------------+-------+\n",
      "| Temperature              |      303.15 |     K |\n",
      "| Pressure                 |      506625 |    Pa |\n",
      "| Ionic Strength (Effect.) |     1.01515 | molal |\n",
      "| Ionic Strength (Stoich.) |     1.01688 | molal |\n",
      "| pH                       |           7 |       |\n",
      "| pE                       |     2.40447 |       |\n",
      "| Eh                       |    0.144632 |     V |\n",
      "| Element Molality:        |             |       |\n",
      "| :: C                     |    0.012326 | molal |\n",
      "| :: Na                    |     1.00014 | molal |\n",
      "| :: Cl                    |     1.00014 | molal |\n",
      "| :: Ca                    |  0.00568214 | molal |\n",
      "| Species Molality:        |             |       |\n",
      "| :: CO3-2                 | 1.65904e-05 | molal |\n",
      "| :: H+                    | 1.61902e-07 | molal |\n",
      "| :: CO2                   |  0.00105592 | molal |\n",
      "| :: (CO2)2                | 1.00014e-16 | molal |\n",
      "| :: HCO3-                 |  0.00933859 | molal |\n",
      "| :: CH4                   | 1.00014e-16 | molal |\n",
      "| :: Ca+2                  |  0.00554735 | molal |\n",
      "| :: CaCO3                 | 4.61998e-06 | molal |\n",
      "| :: CaHCO3+               | 0.000130164 | molal |\n",
      "| :: CaOH+                 | 2.53285e-09 | molal |\n",
      "| :: Cl-                   |     1.00014 | molal |\n",
      "| :: H2                    | 1.00014e-16 | molal |\n",
      "| :: Na+                   |    0.998361 | molal |\n",
      "| :: NaCO3-                | 7.29396e-05 | molal |\n",
      "| :: NaHCO3                |  0.00170718 | molal |\n",
      "| :: OH-                   | 1.98565e-07 | molal |\n",
      "| :: NaOH                  | 1.00014e-16 | molal |\n",
      "| :: O2                    | 1.00014e-16 | molal |\n",
      "+--------------------------+-------------+-------+\n"
     ]
    }
   ],
   "source": [
    "state = ChemicalState(system)\n",
    "state.temperature(25.0, \"celsius\")\n",
    "state.pressure(1.0, \"atm\")\n",
    "state.set(\"H2O\", 1.0, \"kg\")\n",
    "state.set(\"Na+\", 1.0, \"mol\")\n",
    "state.set(\"Cl-\", 1.0, \"mol\")\n",
    "state.set(\"Calcite\", 10.0, \"mol\")  # plenty of Calcite to ensure saturation levels!"
   ]
  },
  {
   "cell_type": "markdown",
   "metadata": {},
   "source": [
    "Finally, we set the conditions of this system at the chemical equilibrium state of interest (using {{EquilibriumConditions}}) and then use {{EquilibriumSolver}} to compute this state of equilibrium:"
   ]
  },
  {
   "cell_type": "code",
   "execution_count": null,
   "metadata": {},
   "outputs": [],
   "source": [
    "\n",
    "conditions = EquilibriumConditions(specs)\n",
    "conditions.temperature(30.0, \"celsius\")\n",
    "conditions.pressure(5.0, \"atm\")\n",
    "conditions.set(\"pH\", 7.0)  # remember the symbol \"pH\" introduced before? you're using it here!\n",
    "\n",
    "solver = EquilibriumSolver(specs)\n",
    "solver.solve(state, conditions)\n",
    "\n",
    "aprops = AqueousProps(state)\n",
    "print(aprops)"
   ]
  },
  {
   "cell_type": "markdown",
   "metadata": {},
   "source": [
    "The aqueous properties displayed above should show that the prescribed temperature, pressure, and pH values are satisfied. \n",
    "\n",
    "You may be wondering how much CO{{_2}} was transferred to the system for this pH value to be attained. We show this next:"
   ]
  },
  {
   "cell_type": "code",
   "execution_count": 34,
   "metadata": {},
   "outputs": [
    {
     "name": "stdout",
     "output_type": "stream",
     "text": [
      "Amount of CO2 titrated into the system was 6.642933215740025 mmol\n"
     ]
    }
   ],
   "source": [
    "tCO2 = state.equilibrium().explicitTitrantAmounts()[0]  # the amount of CO2 titrated into the system\n",
    "print(\"Amount of CO2 titrated into the system was\", tCO2 * 1e+3, \"mmol\")"
   ]
  },
  {
   "cell_type": "markdown",
   "metadata": {},
   "source": [
    "That's it. You should now be able to adapt these tutorials and define the constraints you want (if not already covered in the {{EquilibriumSpecs}} class)."
   ]
  }
 ],
 "metadata": {
  "interpreter": {
   "hash": "e4e8b2f3ae27709963f14fd23a6560d362beea55eaec742263828e04d814e23c"
  },
  "kernelspec": {
   "display_name": "Python 3.9.7 64-bit ('reaktoro-jupyter-book': conda)",
   "language": "python",
   "name": "python3"
  },
  "language_info": {
   "codemirror_mode": {
    "name": "ipython",
    "version": 3
   },
   "file_extension": ".py",
   "mimetype": "text/x-python",
   "name": "python",
   "nbconvert_exporter": "python",
   "pygments_lexer": "ipython3",
   "version": "3.9.9"
  },
  "orig_nbformat": 4
 },
 "nbformat": 4,
 "nbformat_minor": 2
}
