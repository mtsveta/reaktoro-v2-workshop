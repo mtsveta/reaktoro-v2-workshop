{
 "cells": [
  {
   "cell_type": "markdown",
   "metadata": {},
   "source": [
    "# Chemical equilibrium with custom constraints\n",
    "\n",
    "Reaktoro already implements the list of chemical equilibrium constraints that can be checked in API of [EquilibriumSpecs](https://reaktoro.org/api/classReaktoro_1_1EquilibriumSpecs.html) class. If available constraints do not suffice, the **customized constraints** can be defined and used.\n",
    "\n",
    "Before we proceed, we need to understand how equilibrium constraints are formulated in Reaktoro and used by its equilibrium solver. Let's assume the enthalpy of the system must be constraint to $H_{\\mathrm{desired}}$. At each iteration of equilibrium calculation, the equilibrium solver generates the chemical state that honors all imposed equilibrium constraints and mass/charge conservation conditions  with the enthalpy of the system $H_{\\mathrm{current}}$. At some point, the algorithm will converge to a chemical state in which the *equilibrium residual constraint* satisfies, i.e.,\n",
    "\n",
    "$$|H_{\\mathrm{current}}-H_{\\mathrm{desired}}|<\\epsilon_{\\mathrm{tolerance}}$$\n",
    "\n",
    "where $\\epsilon_{\\mathrm{tolerance}}$ is a small positive tolerance value (e.g., 10<sup>-6</sup>).\n",
    "\n",
    "Therefore, constraints in Reaktoro can be defined by writing **residual expressions** similar but not limited to the one above (e.g., involving multiple properties)."
   ]
  },
  {
   "cell_type": "markdown",
   "metadata": {},
   "source": [
    "## Creating your own volume and internal energy constraints\n",
    "\n",
    "In a [previous example](equilibrium-with-fixed-volume-internal-energy.ipynb), we modeled the combustion of CH<sub>4</sub> in a rigid and adiabatic chamber. We repeat this experiment here providing **customized volume and internal energy constraints**.\n",
    "\n",
    "Below, we recall chemical system and corresponding chemical state and calculate the chemical properties of this system to fetch the initial volume and internal energy in the variables `V0` and `U0` for later use:"
   ]
  },
  {
   "cell_type": "code",
   "execution_count": 4,
   "metadata": {},
   "outputs": [],
   "source": [
    "from reaktoro import *\n",
    "\n",
    "db = NasaDatabase(\"nasa-cea\")\n",
    "\n",
    "gases = GaseousPhase(\"CH4 O2 CO2 CO H2O H2\")\n",
    "\n",
    "system = ChemicalSystem(db, gases)\n",
    "\n",
    "state = ChemicalState(system)\n",
    "state.temperature(25.0, \"celsius\")\n",
    "state.pressure(1.0, \"bar\")\n",
    "state.set(\"CH4\", 0.75, \"mol\")\n",
    "state.set(\"O2\",  0.25, \"mol\")\n",
    "state.scaleVolume(10.0, \"cm3\")\n",
    "\n",
    "props0 = ChemicalProps(state)\n",
    "\n",
    "V0 = props0.volume()\n",
    "U0 = props0.internalEnergy()"
   ]
  },
  {
   "cell_type": "markdown",
   "metadata": {},
   "source": [
    "Next, let's define our own constraints (see more detailed comments below):"
   ]
  },
  {
   "cell_type": "code",
   "execution_count": 5,
   "metadata": {},
   "outputs": [],
   "source": [
    "# Define the equilibrium specifications\n",
    "specs = EquilibriumSpecs(system)\n",
    "\n",
    "# Define the indices of newly added constraints\n",
    "idxV = specs.addInput(\"V\")  # add \"V\" as the symbol for a new input condition to the equilibrium problem\n",
    "idxU = specs.addInput(\"U\")  # add \"U\" as the symbol for a new input condition to the equilibrium problem\n",
    "\n",
    "# Define volume constraint\n",
    "volumeConstraint = ConstraintEquation()\n",
    "volumeConstraint.id = \"VolumeConstraint\"  # give some identification name to the constraint (it's up to you how you call this)\n",
    "volumeConstraint.fn = lambda props, w: props.volume() - w[idxV]  # the residual function defining V(current) - V(desired)\n",
    "\n",
    "# Define internal energy constraint\n",
    "internalEnergyConstraint = ConstraintEquation()\n",
    "internalEnergyConstraint.id = \"InternalEnergyConstraint\"  # give some identification name to the constraint (it's up to you how you call this)\n",
    "internalEnergyConstraint.fn = lambda props, w: props.internalEnergy() - w[idxU]  # the residual function defining U(current) - U(desired)\n",
    "\n",
    "# Add new constraints to equilibrium specs\n",
    "specs.addConstraint(volumeConstraint)\n",
    "specs.addConstraint(internalEnergyConstraint)\n",
    "\n",
    "# Define the equilibrium solver using specs defined above\n",
    "solver = EquilibriumSolver(specs)"
   ]
  },
  {
   "cell_type": "markdown",
   "metadata": {},
   "source": [
    "\n",
    "In addition to the code comments above, it's worth commenting further that:\n",
    "\n",
    "* `idxV` and `idxU` are the indices of the newly added constrains to the equilibrium problem (namely `V` and `U`)\n",
    "* `lambda props, w: props.volume() - w[idxV]` is a [lambda-function](https://www.w3schools.com/python/python_lambda.asp) defining custom *residual expression for the volume constraint*: $$V_\\mathrm{current} - V_\\mathrm{desired}$$\n",
    "* `lambda props, w: props.internalEnergy() - w[idxV]` is a lambda function defining custom *residual expression for the internal energy constraint*\n",
    "* `props` is the [ChemicalProps](https://reaktoro.org/api/classReaktoro_1_1ChemicalProps.html) object containing the current chemical properties of the system, i.e., *current volume and internal energy*\n",
    "* `w` is the array with the input values introduced in the equilibrium problem where we store the *desired volume and internal energy*\n",
    "* `w[idxV]` and `w[idxU]` are the desired values of introduced inputs `V` and `U`\n",
    "\n",
    "It's now time to create our [EquilibriumConditions](https://reaktoro.org/api/classReaktoro_1_1EquilibriumConditions.html) object, where specify the values for the inputs `V` and `U`:"
   ]
  },
  {
   "cell_type": "code",
   "execution_count": 6,
   "metadata": {},
   "outputs": [],
   "source": [
    "conditions = EquilibriumConditions(specs)\n",
    "conditions.set(\"V\", V0)  # use the constraint with the symbol \"V\" introduced above\n",
    "conditions.set(\"U\", U0)  # use the constraint with the symbol \"V\" introduced above\n",
    "\n",
    "conditions.setLowerBoundTemperature(25.0, \"celsius\")\n",
    "conditions.setUpperBoundTemperature(2000.0, \"celsius\")\n",
    "\n",
    "conditions.setLowerBoundPressure(1.0, \"bar\")\n",
    "conditions.setUpperBoundPressure(1000.0, \"bar\")"
   ]
  },
  {
   "cell_type": "markdown",
   "metadata": {},
   "source": [
    "Solve the chemical equilibrium problem that models the combustion of CH<sub>4</sub> in a rigid and adiabatic chamber:"
   ]
  },
  {
   "cell_type": "code",
   "execution_count": 7,
   "metadata": {},
   "outputs": [
    {
     "name": "stdout",
     "output_type": "stream",
     "text": [
      "FINAL STATE\n",
      "+-----------------+------------+------+\n",
      "| Property        |      Value | Unit |\n",
      "+-----------------+------------+------+\n",
      "| Temperature     |  1080.3867 |    K |\n",
      "| Pressure        |     5.8362 |  bar |\n",
      "| Charge:         | 0.0000e+00 |  mol |\n",
      "| Element Amount: |            |      |\n",
      "| :: H            | 1.2102e-03 |  mol |\n",
      "| :: C            | 3.0255e-04 |  mol |\n",
      "| :: O            | 2.0170e-04 |  mol |\n",
      "| Species Amount: |            |      |\n",
      "| :: CH4          | 1.2897e-04 |  mol |\n",
      "| :: O2           | 1.0000e-16 |  mol |\n",
      "| :: CO2          | 9.6874e-06 |  mol |\n",
      "| :: CO           | 1.6389e-04 |  mol |\n",
      "| :: H2O          | 1.8430e-05 |  mol |\n",
      "| :: H2           | 3.2873e-04 |  mol |\n",
      "+-----------------+------------+------+\n"
     ]
    }
   ],
   "source": [
    "solver.solve(state, conditions)\n",
    "\n",
    "print(\"FINAL STATE\")\n",
    "print(state)"
   ]
  },
  {
   "cell_type": "markdown",
   "metadata": {},
   "source": [
    "**TASK 1**: 1) check if this computed equilibrium state is identical to that found in this [tutorial](equilibrium-with-fixed-volume-internal-energy.ipynb) 2) verify that equilibrium state has volume and internal energy equal to `V0` and `U0`, respectively."
   ]
  },
  {
   "cell_type": "code",
   "execution_count": 8,
   "outputs": [
    {
     "name": "stdout",
     "output_type": "stream",
     "text": [
      "Volume at initial state: 1e-05 m3\n",
      "Volume at final state: 1e-05 m3\n",
      "Internal energy at initial state: -23.5698 J\n",
      "Internal energy at final state: -23.5698 J\n"
     ]
    }
   ],
   "source": [
    "# -------------------------------------- #\n",
    "# Code cell for the task\n",
    "# -------------------------------------- #\n",
    "\n",
    "V = state.props().volume()\n",
    "U = state.props().internalEnergy()\n",
    "\n",
    "print(\"Volume at initial state:\", V0, \"m3\")\n",
    "print(\"Volume at final state:\", V, \"m3\")\n",
    "\n",
    "print(\"Internal energy at initial state:\", U0, \"J\")\n",
    "print(\"Internal energy at final state:\", U, \"J\")"
   ],
   "metadata": {
    "collapsed": false,
    "pycharm": {
     "name": "#%%\n"
    }
   }
  },
  {
   "cell_type": "markdown",
   "metadata": {},
   "source": [
    "## Creating your own pH constraint\n",
    "\n",
    "In the [previous tutorial](equilibrium-with-fixed-ph), we have learned how to use the predefined equilibrium constraint for pH in class [EquilibriumSpecs](https://reaktoro.org/api/classReaktoro_1_1EquilibriumSpecs.html). Such a constraint caused the system to be open to H<sup>+</sup>. However, what if we want to *fix the pH* of an aqueous solution by *titrating it with another substance*?\n",
    "\n",
    "Assume the chemical system with an aqueous solution saturated with mineral calcite (CaCO<sub>3</sub>) at 30 °C and 5 atm. How much CO<sub>2</sub> must be titrated into the system to obtain pH 7? This problem can be solved by formulating a chemical equilibrium calculation in which **temperature**, **pressure**, and **pH** are constrained and **the system is open to the mass transfer of CO<sub>2</sub>**.\n",
    "\n",
    "The definition of a chemical system include the following phases:\n",
    "\n",
    "* an aqueous phase (with aqueous species that can be formed from elements H, O, Na, Cl, C, and Ca);\n",
    "* a gaseous phase (with only CO<sub>2</sub>(g) and H<sub>2</sub>O(g) species)\n",
    "* a solid phase (representing the mineral calcite)\n",
    "\n",
    "We also set the specific activity models for the aqueous and gaseous phases (for more details, check [tutorial](../basics/specifying-activity-models)):"
   ]
  },
  {
   "cell_type": "code",
   "execution_count": 9,
   "metadata": {},
   "outputs": [],
   "source": [
    "from reaktoro import *\n",
    "\n",
    "db = PhreeqcDatabase(\"phreeqc.dat\")\n",
    "\n",
    "solution = AqueousPhase(speciate(\"H O Na Cl C Ca\"))\n",
    "solution.setActivityModel(chain(\n",
    "    ActivityModelHKF(),\n",
    "    ActivityModelDrummond(\"CO2\")\n",
    "))\n",
    "\n",
    "gases = GaseousPhase(\"CO2(g) H2O(g)\")\n",
    "gases.setActivityModel(ActivityModelPengRobinson())\n",
    "\n",
    "calcite = MineralPhase(\"Calcite\")\n",
    "\n",
    "system = ChemicalSystem(db, solution, gases, calcite)"
   ]
  },
  {
   "cell_type": "markdown",
   "metadata": {},
   "source": [
    "We define a helper function that computes pH for given chemical properties of a system:"
   ]
  },
  {
   "cell_type": "code",
   "execution_count": 10,
   "metadata": {},
   "outputs": [],
   "source": [
    "# Fetch H+ index to avoid search in the system at each call\n",
    "idxH = system.species().index(\"H+\")\n",
    "# Calculate pH for a given chemical properties\n",
    "def pH(props: ChemicalProps):\n",
    "    return -props.speciesActivityLg(idxH)  # this results in pH = -log10(a[H+])"
   ]
  },
  {
   "cell_type": "markdown",
   "metadata": {},
   "source": [
    "We recap that we aim to perform a chemical equilibrium calculation *with constrains* of\n",
    "\n",
    "* temperature,\n",
    "* pressure, and\n",
    "* pH,\n",
    "\n",
    "allowing chemical system to be open to CO<sub>2</sub>.\n",
    "\n",
    "**TASK 2**: using [EquilibriumSpecs](https://reaktoro.org/api/classReaktoro_1_1EquilibriumSpecs.html) class, 1) define custom pH constraint and initialize all the constraints of current problem."
   ]
  },
  {
   "cell_type": "code",
   "execution_count": 11,
   "metadata": {},
   "outputs": [],
   "source": [
    "# -------------------------------------- #\n",
    "# Code cell for the task\n",
    "# -------------------------------------- #\n",
    "\n",
    "specs = EquilibriumSpecs(system)\n",
    "\n",
    "specs.addInput(\"pH\")  # add \"pH\" as the symbol for a new input condition to the equilibrium problem\n",
    "\n",
    "pHConstraint = ConstraintEquation()\n",
    "pHConstraint.id = \"pHConstraint\"  # give some identification name to the constraint (it's up to you how you call this)\n",
    "pHConstraint.fn = lambda props, w: pH(props) - w[0]  # the residual function defining pH(current) - pH(desired)\n",
    "\n",
    "specs.temperature()\n",
    "specs.pressure()\n",
    "specs.addConstraint(pHConstraint)\n",
    "specs.openTo(\"CO2\")\n",
    "\n",
    "solver = EquilibriumSolver(specs)"
   ]
  },
  {
   "cell_type": "markdown",
   "metadata": {},
   "source": [
    "An *initial chemical state* for the system is represented with a 1 molal NaCl aqueous solution mixed with a sufficient amount of calcite to saturate the fluid at 25 °C and 1 atm:"
   ]
  },
  {
   "cell_type": "code",
   "execution_count": 12,
   "metadata": {},
   "outputs": [],
   "source": [
    "state = ChemicalState(system)\n",
    "state.temperature(25.0, \"celsius\")\n",
    "state.pressure(1.0, \"atm\")\n",
    "state.set(\"H2O\", 1.0, \"kg\")\n",
    "state.set(\"Na+\", 1.0, \"mol\")\n",
    "state.set(\"Cl-\", 1.0, \"mol\")\n",
    "state.set(\"Calcite\", 10.0, \"mol\")  # plenty of Calcite to ensure saturation levels!"
   ]
  },
  {
   "cell_type": "markdown",
   "metadata": {},
   "source": [
    "Finally, we set the conditions of this system at the chemical equilibrium state of interest (using [EquilibriumConditions](https://reaktoro.org/api/classReaktoro_1_1EquilibriumConditions.html)) and compute this state:"
   ]
  },
  {
   "cell_type": "code",
   "execution_count": 13,
   "metadata": {},
   "outputs": [
    {
     "name": "stdout",
     "output_type": "stream",
     "text": [
      "+-----------------------------------+------------+-------+\n",
      "| Property                          |      Value |  Unit |\n",
      "+-----------------------------------+------------+-------+\n",
      "| Temperature                       |   303.1500 |     K |\n",
      "| Pressure                          |     5.0663 |   bar |\n",
      "| Ionic Strength (Effective)        |     1.0152 | molal |\n",
      "| Ionic Strength (Stoichiometric)   |     1.0169 | molal |\n",
      "| pH                                |     7.0000 |       |\n",
      "| pE                                |    -2.4045 |       |\n",
      "| Eh                                |    -0.1446 |     V |\n",
      "| Element Molality:                 |            |       |\n",
      "| :: C                              | 1.2326e-02 | molal |\n",
      "| :: Na                             | 1.0001e+00 | molal |\n",
      "| :: Cl                             | 1.0001e+00 | molal |\n",
      "| :: Ca                             | 5.6821e-03 | molal |\n",
      "| Species Molality:                 |            |       |\n",
      "| :: CO3-2                          | 1.6590e-05 | molal |\n",
      "| :: H+                             | 1.6190e-07 | molal |\n",
      "| :: CO2                            | 1.0559e-03 | molal |\n",
      "| :: (CO2)2                         | 1.0001e-16 | molal |\n",
      "| :: HCO3-                          | 9.3386e-03 | molal |\n",
      "| :: CH4                            | 1.0001e-16 | molal |\n",
      "| :: Ca+2                           | 5.5474e-03 | molal |\n",
      "| :: CaCO3                          | 4.6200e-06 | molal |\n",
      "| :: CaHCO3+                        | 1.3016e-04 | molal |\n",
      "| :: CaOH+                          | 2.5328e-09 | molal |\n",
      "| :: Cl-                            | 1.0001e+00 | molal |\n",
      "| :: H2                             | 1.0001e-16 | molal |\n",
      "| :: Na+                            | 9.9836e-01 | molal |\n",
      "| :: NaCO3-                         | 7.2940e-05 | molal |\n",
      "| :: NaHCO3                         | 1.7072e-03 | molal |\n",
      "| :: OH-                            | 1.9857e-07 | molal |\n",
      "| :: NaOH                           | 1.0001e-16 | molal |\n",
      "| :: O2                             | 1.0001e-16 | molal |\n",
      "| Saturation Indices (log base 10): |            |       |\n",
      "| :: H2(g)                          |    -9.9551 |     - |\n",
      "| :: H2O(g)                         |    -0.2394 |     - |\n",
      "| :: CH4(g)                         |   -13.7561 |     - |\n",
      "| :: CO2(g)                         |    -3.1537 |     - |\n",
      "| :: O2(g)                          |   -63.8737 |     - |\n",
      "| :: Calcite :: CaCO3               |     0.0000 |     - |\n",
      "| :: Halite :: NaCl                 |    -1.9376 |     - |\n",
      "| :: Aragonite :: CaCO3             |    -0.1400 |     - |\n",
      "+-----------------------------------+------------+-------+\n"
     ]
    }
   ],
   "source": [
    "conditions = EquilibriumConditions(specs)\n",
    "conditions.temperature(30.0, \"celsius\")\n",
    "conditions.pressure(5.0, \"atm\")\n",
    "conditions.set(\"pH\", 7.0)  # remember the symbol \"pH\" introduced before? you're using it here!\n",
    "\n",
    "solver = EquilibriumSolver(specs)\n",
    "solver.solve(state, conditions)\n",
    "\n",
    "aprops = AqueousProps(state)\n",
    "print(aprops)"
   ]
  },
  {
   "cell_type": "markdown",
   "metadata": {},
   "source": [
    "The aqueous properties displayed above should show that the prescribed temperature, pressure, and pH values are satisfied. \n",
    "\n",
    "**TASK 3**: check how much CO<sub>2</sub> was transferred to the system for this pH value to be attained."
   ]
  },
  {
   "cell_type": "code",
   "execution_count": 14,
   "metadata": {
    "pycharm": {
     "name": "#%%\n"
    }
   },
   "outputs": [
    {
     "name": "stdout",
     "output_type": "stream",
     "text": [
      "Amount of CO2 titrated into the system was 6.642933215740025 mmol\n"
     ]
    }
   ],
   "source": [
    "# -------------------------------------- #\n",
    "# Code cell for the task\n",
    "# -------------------------------------- #\n",
    "tCO2 = state.equilibrium().explicitTitrantAmounts()[0]  # the amount of CO2 titrated into the system\n",
    "print(\"Amount of CO2 titrated into the system was\", tCO2 * 1e+3, \"mmol\")"
   ]
  }
 ],
 "metadata": {
  "interpreter": {
   "hash": "e4e8b2f3ae27709963f14fd23a6560d362beea55eaec742263828e04d814e23c"
  },
  "kernelspec": {
   "display_name": "Python 3.9.7 64-bit ('reaktoro-jupyter-book': conda)",
   "language": "python",
   "name": "python3"
  },
  "language_info": {
   "codemirror_mode": {
    "name": "ipython",
    "version": 3
   },
   "file_extension": ".py",
   "mimetype": "text/x-python",
   "name": "python",
   "nbconvert_exporter": "python",
   "pygments_lexer": "ipython3",
   "version": "3.9.9"
  },
  "orig_nbformat": 4
 },
 "nbformat": 4,
 "nbformat_minor": 2
}