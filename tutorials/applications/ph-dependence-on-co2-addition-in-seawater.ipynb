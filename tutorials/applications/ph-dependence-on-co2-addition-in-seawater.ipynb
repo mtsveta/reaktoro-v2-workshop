{
 "cells": [
  {
   "cell_type": "markdown",
   "metadata": {},
   "source": [
    "# Dependence of the pH on the added carbon dioxide amount\n",
    "\n",
    "This tutorial demonstrates modelling of the pH dependence in the seawater on the added CO<sub>2</sub>(g) amount.\n",
    "\n",
    "Unfortunately, ocean acidification is on one of the main problems of human activities, namely the burning of fossil fuels. As the amount of carbon dioxide in the atmosphere increases, the amount of carbon dioxide absorbed by the ocean also increases. This causes a series of chemical reactions in the seawater that has a negative influence on the ocean and the species living below water. Especially, it leads to decreased production of the shells of shellfish and other aquatic life with calcium carbonate shells, as well as some other physiological challenges for marine organisms.\n",
    "\n",
    "|![The CO2 cycle between the atmosphere and the ocean](../../images/co2-pump-ocean-acidification.png)|\n",
    "|:--:|\n",
    "|The CO2 cycle between the atmosphere and the ocean, Source: wikipedia.org|"
   ]
  },
  {
   "cell_type": "markdown",
   "metadata": {},
   "source": [
    "We start by importing the **reaktoro** package:"
   ]
  },
  {
   "cell_type": "code",
   "execution_count": null,
   "metadata": {},
   "outputs": [],
   "source": [
    "from reaktoro import *\n",
    "import pandas as pd\n",
    "\n",
    "db = SupcrtDatabase(\"supcrtbl\")\n",
    "\n",
    "# Create an aqueous phase automatically selecting all species with provided elements\n",
    "aqueousphase = AqueousPhase(speciate(\"H O C Ca Mg K Cl Na S N\"))\n",
    "aqueousphase.setActivityModel(chain(\n",
    "    ActivityModelHKF(),\n",
    "    ActivityModelDrummond(\"CO2\"),\n",
    "))\n",
    "\n",
    "# Create a gaseous phase\n",
    "gaseousphase = GaseousPhase(\"CO2(g)\")\n",
    "gaseousphase.setActivityModel(ActivityModelPengRobinson())\n",
    "\n",
    "# Create the chemical system\n",
    "system = ChemicalSystem(db, aqueousphase, gaseousphase)\n",
    "\n",
    "# Create the equilibrium solver\n",
    "solver = EquilibriumSolver(system)"
   ]
  },
  {
   "cell_type": "markdown",
   "metadata": {},
   "source": [
    "Next, we initialize chemical state corresponding to the seawater content, equilibrate it, and evaluate pH level obtained after equilibraton:"
   ]
  },
  {
   "cell_type": "code",
   "execution_count": null,
   "metadata": {},
   "outputs": [],
   "source": [
    "state = ChemicalState(system)\n",
    "state.setTemperature(25, \"celsius\")\n",
    "state.setPressure(1.0, \"bar\")\n",
    "state.add(\"H2O(aq)\",      1.0, \"kg\")\n",
    "state.add(\"Ca+2\" ,   412.3, \"mg\")\n",
    "state.add(\"Mg+2\" ,  1290.0, \"mg\")\n",
    "state.add(\"Na+\"  , 10768.0, \"mg\")\n",
    "state.add(\"K+\"   ,   399.1, \"mg\")\n",
    "state.add(\"Cl-\"  , 19353.0, \"mg\")\n",
    "state.add(\"HCO3-\",   141.7, \"mg\")\n",
    "state.add(\"SO4-2\",  2712.0, \"mg\")\n",
    "\n",
    "solver.solve(state)\n",
    "\n",
    "aprops = AqueousProps(state)\n",
    "print(\"pH of seawater = \", float(aprops.pH()))"
   ]
  },
  {
   "cell_type": "markdown",
   "metadata": {},
   "source": [
    "Finally, we define the auxiliary variables with initial values of CO<sub>2</sub> amounts and its increment. We run the loop with `nsteps` steps adding CO<sub>2</sub> into seawater asn re-equilibrate. The level of added carbon dioxide as well as corresponding pH, we collect into dataframe."
   ]
  },
  {
   "cell_type": "code",
   "execution_count": null,
   "metadata": {},
   "outputs": [],
   "source": [
    "co2_0 = 0.0\n",
    "co2_delta = 0.1\n",
    "nsteps = 50\n",
    "\n",
    "df = pd.DataFrame(columns=[\"amountCO2\", \"pH\"])\n",
    "df.loc[len(df)] = [co2_0, float(aprops.pH())]\n",
    "\n",
    "for i in range(nsteps):\n",
    "\n",
    "    # Add more CO2 to the problem\n",
    "    state.add(\"CO2(g)\", co2_delta, \"mmol\")\n",
    "\n",
    "    # Equilibrate state with updated problem\n",
    "    solver.solve(state)\n",
    "\n",
    "    # Update aqueous properties\n",
    "    aprops.update(state)\n",
    "\n",
    "    # Update CO2 amount\n",
    "    co2_0 += co2_delta\n",
    "\n",
    "    # Append new calculated value to the dataframe\n",
    "    df.loc[len(df)] = [co2_0, float(aprops.pH())]"
   ]
  },
  {
   "cell_type": "markdown",
   "metadata": {},
   "source": [
    "We use the [bokeh](https://bokeh.org/) plotting library, to plot pH as a function of the CO<sub>2</sub> amount added into the seawater."
   ]
  },
  {
   "cell_type": "code",
   "execution_count": null,
   "metadata": {},
   "outputs": [],
   "source": [
    "from bokeh.plotting import figure, show\n",
    "from bokeh.models import HoverTool, Legend\n",
    "from bokeh.io import output_notebook\n",
    "output_notebook()\n",
    "\n",
    "hovertool = HoverTool()\n",
    "hovertool.tooltips = [(\"amount(CO2)\", \"@amountCO2 mmol\"), (\"pH\", \"@pH\")]\n",
    "\n",
    "p = figure(\n",
    "    title=\"PH DEPENDENCE ON AMOUNT OF ADDED CO2 TO THE SEAWATER\",\n",
    "    x_axis_label=r'CO2 AMOUNT [MMOL]',\n",
    "    y_axis_label='PH [-]',\n",
    "    sizing_mode=\"scale_width\",\n",
    "    plot_height=300)\n",
    "\n",
    "p.add_tools(hovertool)\n",
    "\n",
    "p.line(\"amountCO2\", \"pH\", line_width=3, line_cap=\"round\", line_color='indigo', source=df)\n",
    "\n",
    "show(p)"
   ]
  },
  {
   "cell_type": "markdown",
   "metadata": {},
   "source": [
    "As expected, the pH decreases as we continue to add CO<sub>2</sub> into the seawater, the solution gradually become more acidic."
   ]
  }
 ],
 "metadata": {
  "kernelspec": {
   "display_name": "Python 3 (ipykernel)",
   "language": "python",
   "name": "python3"
  },
  "language_info": {
   "codemirror_mode": {
    "name": "ipython",
    "version": 3
   },
   "file_extension": ".py",
   "mimetype": "text/x-python",
   "name": "python",
   "nbconvert_exporter": "python",
   "pygments_lexer": "ipython3",
   "version": "3.9.7"
  }
 },
 "nbformat": 4,
 "nbformat_minor": 4
}