{
 "cells": [
  {
   "cell_type": "markdown",
   "metadata": {},
   "source": [
    "# Opening bottle with sparkling water\n",
    "\n",
    "This tutorial demonstrates how to simulate the solubility of CO<sub>2</sub> gas in water or, in simpler words, the *chemical effect happening when opening the bottle with sparkling water*.\n",
    "\n",
    "|![Opening bottle with sparkling water](../../images/opening-bottle-with-soda.jpg)|\n",
    "|:--:|\n",
    "|Opening bottle with sparkling water, Source: flavorman.com|\n",
    "\n",
    "First, we define the chemical system:"
   ]
  },
  {
   "cell_type": "code",
   "execution_count": null,
   "metadata": {},
   "outputs": [],
   "source": [
    "from reaktoro import *\n",
    "\n",
    "db = SupcrtDatabase(\"supcrtbl\")\n",
    "\n",
    "# Create an aqueous phase automatically selecting all species with provided elements\n",
    "aqueousphase = AqueousPhase(speciate(\"H O C\"))\n",
    "aqueousphase.setActivityModel(chain(\n",
    "    ActivityModelHKF(),\n",
    "    ActivityModelDrummond(\"CO2\"),\n",
    "))\n",
    "\n",
    "# Create a gaseous phase\n",
    "gaseousphase = GaseousPhase(\"CO2(g)\")\n",
    "gaseousphase.setActivityModel(ActivityModelPengRobinson())\n",
    "\n",
    "# Create the chemical system\n",
    "system = ChemicalSystem(db, aqueousphase, gaseousphase)\n",
    "\n",
    "# Create the equilibrium solver\n",
    "solver = EquilibriumSolver(system)"
   ]
  },
  {
   "cell_type": "markdown",
   "metadata": {},
   "source": [
    "Then, we define the range of pressures using the function `linspace()` of the **numpy** library. The starting and ending pressures correspond to those values in the sparkling water bottle before and after opening."
   ]
  },
  {
   "cell_type": "code",
   "execution_count": null,
   "metadata": {},
   "outputs": [],
   "source": [
    "import numpy as np\n",
    "closedP = 3.79 # in bars\n",
    "openP = 1.01325 # in bars\n",
    "pressures = np.linspace(openP, closedP, num=100)"
   ]
  },
  {
   "cell_type": "markdown",
   "metadata": {},
   "source": [
    "> **Note**: A typical carbonated soft drink contains approximately 3–4 volumes (6–8 g/L) CO<sub>2</sub>. To obtain amount of mol of CO<sub>2</sub>, we need to perform the following calculations: 8 g/L = 8 / 44.01 mol = 0.18 mol, where 44.01 g/mol is the CO<sub>2</sub> molar mass.\n",
    "\n",
    "Next, we run through the generated pressure list and collect CO<sub>2</sub>(g) amounts obtained in equilibrated chemical for a given pressure."
   ]
  },
  {
   "cell_type": "code",
   "execution_count": null,
   "metadata": {},
   "outputs": [],
   "source": [
    "import pandas as pd\n",
    "df = pd.DataFrame(columns=[\"P\", \"amountCO2\"])\n",
    "\n",
    "for P in pressures:\n",
    "    state = ChemicalState(system)\n",
    "    state.setTemperature(20.0, \"celsius\")\n",
    "    state.setPressure(P, \"bar\")\n",
    "    state.add(\"H2O(aq)\", 0.5, \"kg\")   # add ~ half a liter of water\n",
    "    state.add(\"CO2(g)\", 0.18, \"mol\") # add calculated amount of gas\n",
    "\n",
    "    res = solver.solve(state)\n",
    "\n",
    "    df.loc[len(df)] = [P, float(state.speciesAmount(\"CO2(g)\"))]"
   ]
  },
  {
   "cell_type": "markdown",
   "metadata": {},
   "source": [
    "To visualize the changes in the CO<sub>2</sub>(g) amount in the bottle, we export [bokeh](https://docs.bokeh.org/en/latest/docs/gallery.html#standalone-examples) python plotting package."
   ]
  },
  {
   "cell_type": "code",
   "execution_count": null,
   "metadata": {
    "lines_to_next_cell": 1
   },
   "outputs": [],
   "source": [
    "from bokeh.plotting import figure, show\n",
    "from bokeh.models import HoverTool\n",
    "from bokeh.io import output_notebook\n",
    "output_notebook()\n",
    "\n",
    "hovertool = HoverTool()\n",
    "hovertool.tooltips = [(\"P\", \"@P\"),\n",
    "                      (\"amount(CO2) in brine\", \"@amountCO2 mol\")]\n",
    "\n",
    "p = figure(\n",
    "    title=\"CO2(G) AMOUNT IN SPARKLING WATER BOTTLE BEFORE AND AFTER OPENING\",\n",
    "    x_axis_label=r'PRESSURE [BAR]',\n",
    "    y_axis_label='AMOUNT OF CO2(G) [MOL]',\n",
    "    sizing_mode=\"scale_width\",\n",
    "    plot_height=300)\n",
    "\n",
    "p.add_tools(hovertool)\n",
    "\n",
    "p.line(\"P\", \"amountCO2\", line_width=3, line_cap=\"round\", line_color='indigo', source=df)\n",
    "\n",
    "show(p)"
   ]
  },
  {
   "cell_type": "markdown",
   "metadata": {},
   "source": [
    "From the plot, we see that by decreasing the pressure in the bottle (opening the bottle), we also reduce the amount of CO<sub>2</sub> dissolved in the sparkling drink that evaporates as the CO<sub>2</sub>-gas."
   ]
  }
 ],
 "metadata": {
  "kernelspec": {
   "display_name": "Python 3 (ipykernel)",
   "language": "python",
   "name": "python3"
  },
  "language_info": {
   "codemirror_mode": {
    "name": "ipython",
    "version": 3
   },
   "file_extension": ".py",
   "mimetype": "text/x-python",
   "name": "python",
   "nbconvert_exporter": "python",
   "pygments_lexer": "ipython3",
   "version": "3.9.7"
  }
 },
 "nbformat": 4,
 "nbformat_minor": 4
}