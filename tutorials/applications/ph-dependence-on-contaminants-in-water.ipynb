{
 "cells": [
  {
   "cell_type": "markdown",
   "id": "edeeeaff",
   "metadata": {},
   "source": [
    "# pH-dependence on added contaminants in water\n",
    "\n",
    "This tutorial demonstrates how pH dependency on different contaminant in the water (affecting the fish life as well\n",
    "as the general ecosystem) can be modelled in Reaktoro.\n",
    "\n",
    "On the picture below, we see the green scum, which is the worst algae bloom that lake Erie (North America) has experienced in decades. The photo is taken from orbit by the Landsat-5 satellite in October 2011. The reason for this was a record torrential spring rains that washed fertilizer into the lake, promoting the growth of microcystin-producing cyanobacteria blooms.\n",
    "\n",
    "|![Toxic algae bloom in lake Erie](../../images/toxic_algae_bloom_lake_erie_600.jpeg)|\n",
    "|:--:|\n",
    "|Toxic algae bloom in lake Erie, Source: NASA Earth Observatory|\n",
    "\n",
    "First, we set up the chemical system with single aqueous phase (governed by the HKF activity model) and initialize the chemical state corresponding to the pure water (with pH approximate to 7)."
   ],
   "outputs": []
  },
  {
   "cell_type": "code",
   "execution_count": 11,
   "id": "6600bc72",
   "metadata": {},
   "outputs": [
    {
     "name": "stdout",
     "output_type": "stream",
     "text": [
      "pH of pure water =  6.99756\n"
     ]
    }
   ],
   "source": [
    "from reaktoro import *\n",
    "import pandas as pd\n",
    "\n",
    "# Define the thermodynamic database\n",
    "db =  SupcrtDatabase(\"supcrt98\")\n",
    "\n",
    "# Define the aqueous phase\n",
    "aqueousphase = AqueousPhase(speciate(\"H O Na Cl N\"))\n",
    "aqueousphase.setActivityModel(ActivityModelHKF())\n",
    "# Define the chemical system:\n",
    "system = ChemicalSystem(db, aqueousphase)\n",
    "\n",
    "# Define chemical state corresponding to the pure water\n",
    "state = ChemicalState(system)\n",
    "state.setTemperature(25, \"celsius\")\n",
    "state.setPressure(1.0, \"bar\")\n",
    "state.set(\"H2O(aq)\", 1.0, \"kg\")\n",
    "\n",
    "# Define equilibrium solver and solve equilibrium problem with initial chemical state\n",
    "solver = EquilibriumSolver(system)\n",
    "solver.solve(state)\n",
    "\n",
    "# Define aqueous properties of the chemical state\n",
    "aprops = AqueousProps(state)\n",
    "print(\"pH of pure water = \", aprops.pH())"
   ]
  },
  {
   "cell_type": "markdown",
   "id": "42afc9f7",
   "metadata": {},
   "source": [
    "## Adding acidic contaminant or decreasing pH\n",
    "\n",
    "First, we investigate the behavior of the pH when adding the acidic contaminant to the water.\n",
    "We define the auxiliary lists with amounts of acid HCl in the chemical state `hcl_amounts` and the list of pH `phs`\n",
    "(corresponding to the added acid amount). Both lists are populated in the loop of 50 steps. We gradually add 0.1 mmol\n",
    "of hydrogen chloride and evaluate the pH in the obtained state."
   ]
  },
  {
   "cell_type": "code",
   "execution_count": 12,
   "id": "7a749b31",
   "metadata": {},
   "outputs": [],
   "source": [
    "# Initialize lists with HCl amounts and ph values\n",
    "hcl_0 = 0.0\n",
    "hcl_delta = 0.1\n",
    "nsteps = 50\n",
    "\n",
    "pd1 = pd.DataFrame(columns=[\"amount_HCl\", \"pH\"])\n",
    "\n",
    "pd1.loc[len(pd1)] = [hcl_0, float(aprops.pH())]\n",
    "\n",
    "# Run loop of `nsteps` steps\n",
    "for i in range(nsteps):\n",
    "\n",
    "    # Add more hydrogen chlorite to the problem\n",
    "    state.add(\"HCl(aq)\", hcl_delta, \"mmol\")\n",
    "\n",
    "    # Equilibrate state with updated problem\n",
    "    solver.solve(state)\n",
    "\n",
    "    # Update aqueous properties\n",
    "    aprops.update(state)\n",
    "\n",
    "    # Update amount of HCl\n",
    "    hcl_0 += hcl_delta\n",
    "\n",
    "    # Append new calculated value to the dataframe\n",
    "    pd1.loc[len(pd1)] = [hcl_0, float(aprops.pH())]"
   ]
  },
  {
   "cell_type": "markdown",
   "id": "6806921b",
   "metadata": {},
   "source": [
    "### Adding ammonia or increasing pH\n",
    "\n",
    "If we add in a chemical contaminant such as ammonia (a compound of nitrogen and hydrogen with the formula NH3,\n",
    "colorless gas with a characteristic pungent smell), that can increase the pH and affect fish life."
   ]
  },
  {
   "cell_type": "code",
   "execution_count": 13,
   "id": "4da0c7eb",
   "metadata": {},
   "outputs": [],
   "source": [
    "state = ChemicalState(system)\n",
    "state.setTemperature(25, \"celsius\")\n",
    "state.setPressure(1, \"bar\")\n",
    "state.set(\"H2O(aq)\", 1.0, \"kg\")\n",
    "solver.solve(state)\n",
    "aprops.update(state)\n",
    "\n",
    "nh3_0 = 0.0\n",
    "nh3_delta = 0.1\n",
    "nsteps = 50\n",
    "\n",
    "pd2 = pd.DataFrame(columns=[\"amount_NH3\", \"pH\"])\n",
    "\n",
    "pd2.loc[len(pd1)] = [nh3_0, float(aprops.pH())]\n",
    "\n",
    "for i in range(nsteps):\n",
    "\n",
    "    # Add more ammonia to the problem\n",
    "    state.add(\"NH3(aq)\", nh3_delta, \"mmol\")\n",
    "\n",
    "    # Equilibrate state with updated problem\n",
    "    solver.solve(state)\n",
    "\n",
    "    # Update aqueous properties\n",
    "    aprops.update(state)\n",
    "\n",
    "    # Update amount of NH3\n",
    "    nh3_0 += nh3_delta\n",
    "\n",
    "    # Append new calculated value to the dataframe\n",
    "    pd2.loc[len(pd2)] = [nh3_0, float(aprops.pH())]"
   ]
  },
  {
   "cell_type": "markdown",
   "source": [
    "### Plotting the pH dependencies\n",
    "\n",
    "We use the [bokeh](https://bokeh.org/) plotting library, which must be initialized to work in Jupyter Notebooks."
   ],
   "metadata": {}
  },
  {
   "cell_type": "code",
   "execution_count": 14,
   "outputs": [
    {
     "data": {
      "text/html": "\n    <div class=\"bk-root\">\n        <a href=\"https://bokeh.org\" target=\"_blank\" class=\"bk-logo bk-logo-small bk-logo-notebook\"></a>\n        <span id=\"3024\">Loading BokehJS ...</span>\n    </div>"
     },
     "metadata": {},
     "output_type": "display_data"
    },
    {
     "data": {
      "application/javascript": "\n(function(root) {\n  function now() {\n    return new Date();\n  }\n\n  const force = true;\n\n  if (typeof root._bokeh_onload_callbacks === \"undefined\" || force === true) {\n    root._bokeh_onload_callbacks = [];\n    root._bokeh_is_loading = undefined;\n  }\n\n  const JS_MIME_TYPE = 'application/javascript';\n  const HTML_MIME_TYPE = 'text/html';\n  const EXEC_MIME_TYPE = 'application/vnd.bokehjs_exec.v0+json';\n  const CLASS_NAME = 'output_bokeh rendered_html';\n\n  /**\n   * Render data to the DOM node\n   */\n  function render(props, node) {\n    const script = document.createElement(\"script\");\n    node.appendChild(script);\n  }\n\n  /**\n   * Handle when an output is cleared or removed\n   */\n  function handleClearOutput(event, handle) {\n    const cell = handle.cell;\n\n    const id = cell.output_area._bokeh_element_id;\n    const server_id = cell.output_area._bokeh_server_id;\n    // Clean up Bokeh references\n    if (id != null && id in Bokeh.index) {\n      Bokeh.index[id].model.document.clear();\n      delete Bokeh.index[id];\n    }\n\n    if (server_id !== undefined) {\n      // Clean up Bokeh references\n      const cmd_clean = \"from bokeh.io.state import curstate; print(curstate().uuid_to_server['\" + server_id + \"'].get_sessions()[0].document.roots[0]._id)\";\n      cell.notebook.kernel.execute(cmd_clean, {\n        iopub: {\n          output: function(msg) {\n            const id = msg.content.text.trim();\n            if (id in Bokeh.index) {\n              Bokeh.index[id].model.document.clear();\n              delete Bokeh.index[id];\n            }\n          }\n        }\n      });\n      // Destroy server and session\n      const cmd_destroy = \"import bokeh.io.notebook as ion; ion.destroy_server('\" + server_id + \"')\";\n      cell.notebook.kernel.execute(cmd_destroy);\n    }\n  }\n\n  /**\n   * Handle when a new output is added\n   */\n  function handleAddOutput(event, handle) {\n    const output_area = handle.output_area;\n    const output = handle.output;\n\n    // limit handleAddOutput to display_data with EXEC_MIME_TYPE content only\n    if ((output.output_type != \"display_data\") || (!Object.prototype.hasOwnProperty.call(output.data, EXEC_MIME_TYPE))) {\n      return\n    }\n\n    const toinsert = output_area.element.find(\".\" + CLASS_NAME.split(' ')[0]);\n\n    if (output.metadata[EXEC_MIME_TYPE][\"id\"] !== undefined) {\n      toinsert[toinsert.length - 1].firstChild.textContent = output.data[JS_MIME_TYPE];\n      // store reference to embed id on output_area\n      output_area._bokeh_element_id = output.metadata[EXEC_MIME_TYPE][\"id\"];\n    }\n    if (output.metadata[EXEC_MIME_TYPE][\"server_id\"] !== undefined) {\n      const bk_div = document.createElement(\"div\");\n      bk_div.innerHTML = output.data[HTML_MIME_TYPE];\n      const script_attrs = bk_div.children[0].attributes;\n      for (let i = 0; i < script_attrs.length; i++) {\n        toinsert[toinsert.length - 1].firstChild.setAttribute(script_attrs[i].name, script_attrs[i].value);\n        toinsert[toinsert.length - 1].firstChild.textContent = bk_div.children[0].textContent\n      }\n      // store reference to server id on output_area\n      output_area._bokeh_server_id = output.metadata[EXEC_MIME_TYPE][\"server_id\"];\n    }\n  }\n\n  function register_renderer(events, OutputArea) {\n\n    function append_mime(data, metadata, element) {\n      // create a DOM node to render to\n      const toinsert = this.create_output_subarea(\n        metadata,\n        CLASS_NAME,\n        EXEC_MIME_TYPE\n      );\n      this.keyboard_manager.register_events(toinsert);\n      // Render to node\n      const props = {data: data, metadata: metadata[EXEC_MIME_TYPE]};\n      render(props, toinsert[toinsert.length - 1]);\n      element.append(toinsert);\n      return toinsert\n    }\n\n    /* Handle when an output is cleared or removed */\n    events.on('clear_output.CodeCell', handleClearOutput);\n    events.on('delete.Cell', handleClearOutput);\n\n    /* Handle when a new output is added */\n    events.on('output_added.OutputArea', handleAddOutput);\n\n    /**\n     * Register the mime type and append_mime function with output_area\n     */\n    OutputArea.prototype.register_mime_type(EXEC_MIME_TYPE, append_mime, {\n      /* Is output safe? */\n      safe: true,\n      /* Index of renderer in `output_area.display_order` */\n      index: 0\n    });\n  }\n\n  // register the mime type if in Jupyter Notebook environment and previously unregistered\n  if (root.Jupyter !== undefined) {\n    const events = require('base/js/events');\n    const OutputArea = require('notebook/js/outputarea').OutputArea;\n\n    if (OutputArea.prototype.mime_types().indexOf(EXEC_MIME_TYPE) == -1) {\n      register_renderer(events, OutputArea);\n    }\n  }\n\n  \n  if (typeof (root._bokeh_timeout) === \"undefined\" || force === true) {\n    root._bokeh_timeout = Date.now() + 5000;\n    root._bokeh_failed_load = false;\n  }\n\n  const NB_LOAD_WARNING = {'data': {'text/html':\n     \"<div style='background-color: #fdd'>\\n\"+\n     \"<p>\\n\"+\n     \"BokehJS does not appear to have successfully loaded. If loading BokehJS from CDN, this \\n\"+\n     \"may be due to a slow or bad network connection. Possible fixes:\\n\"+\n     \"</p>\\n\"+\n     \"<ul>\\n\"+\n     \"<li>re-rerun `output_notebook()` to attempt to load from CDN again, or</li>\\n\"+\n     \"<li>use INLINE resources instead, as so:</li>\\n\"+\n     \"</ul>\\n\"+\n     \"<code>\\n\"+\n     \"from bokeh.resources import INLINE\\n\"+\n     \"output_notebook(resources=INLINE)\\n\"+\n     \"</code>\\n\"+\n     \"</div>\"}};\n\n  function display_loaded() {\n    const el = document.getElementById(\"3024\");\n    if (el != null) {\n      el.textContent = \"BokehJS is loading...\";\n    }\n    if (root.Bokeh !== undefined) {\n      if (el != null) {\n        el.textContent = \"BokehJS \" + root.Bokeh.version + \" successfully loaded.\";\n      }\n    } else if (Date.now() < root._bokeh_timeout) {\n      setTimeout(display_loaded, 100)\n    }\n  }\n\n\n  function run_callbacks() {\n    try {\n      root._bokeh_onload_callbacks.forEach(function(callback) {\n        if (callback != null)\n          callback();\n      });\n    } finally {\n      delete root._bokeh_onload_callbacks\n    }\n    console.debug(\"Bokeh: all callbacks have finished\");\n  }\n\n  function load_libs(css_urls, js_urls, callback) {\n    if (css_urls == null) css_urls = [];\n    if (js_urls == null) js_urls = [];\n\n    root._bokeh_onload_callbacks.push(callback);\n    if (root._bokeh_is_loading > 0) {\n      console.debug(\"Bokeh: BokehJS is being loaded, scheduling callback at\", now());\n      return null;\n    }\n    if (js_urls == null || js_urls.length === 0) {\n      run_callbacks();\n      return null;\n    }\n    console.debug(\"Bokeh: BokehJS not loaded, scheduling load and callback at\", now());\n    root._bokeh_is_loading = css_urls.length + js_urls.length;\n\n    function on_load() {\n      root._bokeh_is_loading--;\n      if (root._bokeh_is_loading === 0) {\n        console.debug(\"Bokeh: all BokehJS libraries/stylesheets loaded\");\n        run_callbacks()\n      }\n    }\n\n    function on_error(url) {\n      console.error(\"failed to load \" + url);\n    }\n\n    for (let i = 0; i < css_urls.length; i++) {\n      const url = css_urls[i];\n      const element = document.createElement(\"link\");\n      element.onload = on_load;\n      element.onerror = on_error.bind(null, url);\n      element.rel = \"stylesheet\";\n      element.type = \"text/css\";\n      element.href = url;\n      console.debug(\"Bokeh: injecting link tag for BokehJS stylesheet: \", url);\n      document.body.appendChild(element);\n    }\n\n    for (let i = 0; i < js_urls.length; i++) {\n      const url = js_urls[i];\n      const element = document.createElement('script');\n      element.onload = on_load;\n      element.onerror = on_error.bind(null, url);\n      element.async = false;\n      element.src = url;\n      console.debug(\"Bokeh: injecting script tag for BokehJS library: \", url);\n      document.head.appendChild(element);\n    }\n  };\n\n  function inject_raw_css(css) {\n    const element = document.createElement(\"style\");\n    element.appendChild(document.createTextNode(css));\n    document.body.appendChild(element);\n  }\n\n  \n  const js_urls = [\"https://cdn.bokeh.org/bokeh/release/bokeh-2.4.2.min.js\", \"https://cdn.bokeh.org/bokeh/release/bokeh-gl-2.4.2.min.js\", \"https://cdn.bokeh.org/bokeh/release/bokeh-widgets-2.4.2.min.js\", \"https://cdn.bokeh.org/bokeh/release/bokeh-tables-2.4.2.min.js\", \"https://cdn.bokeh.org/bokeh/release/bokeh-mathjax-2.4.2.min.js\"];\n  const css_urls = [];\n  \n\n  const inline_js = [\n    function(Bokeh) {\n      Bokeh.set_log_level(\"info\");\n    },\n    function(Bokeh) {\n    \n    \n    }\n  ];\n\n  function run_inline_js() {\n    \n    if (root.Bokeh !== undefined || force === true) {\n      \n    for (let i = 0; i < inline_js.length; i++) {\n      inline_js[i].call(root, root.Bokeh);\n    }\n    if (force === true) {\n        display_loaded();\n      }} else if (Date.now() < root._bokeh_timeout) {\n      setTimeout(run_inline_js, 100);\n    } else if (!root._bokeh_failed_load) {\n      console.log(\"Bokeh: BokehJS failed to load within specified timeout.\");\n      root._bokeh_failed_load = true;\n    } else if (force !== true) {\n      const cell = $(document.getElementById(\"3024\")).parents('.cell').data().cell;\n      cell.output_area.append_execute_result(NB_LOAD_WARNING)\n    }\n\n  }\n\n  if (root._bokeh_is_loading === 0) {\n    console.debug(\"Bokeh: BokehJS loaded, going straight to plotting\");\n    run_inline_js();\n  } else {\n    load_libs(css_urls, js_urls, function() {\n      console.debug(\"Bokeh: BokehJS plotting callback run at\", now());\n      run_inline_js();\n    });\n  }\n}(window));",
      "application/vnd.bokehjs_load.v0+json": "\n(function(root) {\n  function now() {\n    return new Date();\n  }\n\n  const force = true;\n\n  if (typeof root._bokeh_onload_callbacks === \"undefined\" || force === true) {\n    root._bokeh_onload_callbacks = [];\n    root._bokeh_is_loading = undefined;\n  }\n\n  \n\n  \n  if (typeof (root._bokeh_timeout) === \"undefined\" || force === true) {\n    root._bokeh_timeout = Date.now() + 5000;\n    root._bokeh_failed_load = false;\n  }\n\n  const NB_LOAD_WARNING = {'data': {'text/html':\n     \"<div style='background-color: #fdd'>\\n\"+\n     \"<p>\\n\"+\n     \"BokehJS does not appear to have successfully loaded. If loading BokehJS from CDN, this \\n\"+\n     \"may be due to a slow or bad network connection. Possible fixes:\\n\"+\n     \"</p>\\n\"+\n     \"<ul>\\n\"+\n     \"<li>re-rerun `output_notebook()` to attempt to load from CDN again, or</li>\\n\"+\n     \"<li>use INLINE resources instead, as so:</li>\\n\"+\n     \"</ul>\\n\"+\n     \"<code>\\n\"+\n     \"from bokeh.resources import INLINE\\n\"+\n     \"output_notebook(resources=INLINE)\\n\"+\n     \"</code>\\n\"+\n     \"</div>\"}};\n\n  function display_loaded() {\n    const el = document.getElementById(\"3024\");\n    if (el != null) {\n      el.textContent = \"BokehJS is loading...\";\n    }\n    if (root.Bokeh !== undefined) {\n      if (el != null) {\n        el.textContent = \"BokehJS \" + root.Bokeh.version + \" successfully loaded.\";\n      }\n    } else if (Date.now() < root._bokeh_timeout) {\n      setTimeout(display_loaded, 100)\n    }\n  }\n\n\n  function run_callbacks() {\n    try {\n      root._bokeh_onload_callbacks.forEach(function(callback) {\n        if (callback != null)\n          callback();\n      });\n    } finally {\n      delete root._bokeh_onload_callbacks\n    }\n    console.debug(\"Bokeh: all callbacks have finished\");\n  }\n\n  function load_libs(css_urls, js_urls, callback) {\n    if (css_urls == null) css_urls = [];\n    if (js_urls == null) js_urls = [];\n\n    root._bokeh_onload_callbacks.push(callback);\n    if (root._bokeh_is_loading > 0) {\n      console.debug(\"Bokeh: BokehJS is being loaded, scheduling callback at\", now());\n      return null;\n    }\n    if (js_urls == null || js_urls.length === 0) {\n      run_callbacks();\n      return null;\n    }\n    console.debug(\"Bokeh: BokehJS not loaded, scheduling load and callback at\", now());\n    root._bokeh_is_loading = css_urls.length + js_urls.length;\n\n    function on_load() {\n      root._bokeh_is_loading--;\n      if (root._bokeh_is_loading === 0) {\n        console.debug(\"Bokeh: all BokehJS libraries/stylesheets loaded\");\n        run_callbacks()\n      }\n    }\n\n    function on_error(url) {\n      console.error(\"failed to load \" + url);\n    }\n\n    for (let i = 0; i < css_urls.length; i++) {\n      const url = css_urls[i];\n      const element = document.createElement(\"link\");\n      element.onload = on_load;\n      element.onerror = on_error.bind(null, url);\n      element.rel = \"stylesheet\";\n      element.type = \"text/css\";\n      element.href = url;\n      console.debug(\"Bokeh: injecting link tag for BokehJS stylesheet: \", url);\n      document.body.appendChild(element);\n    }\n\n    for (let i = 0; i < js_urls.length; i++) {\n      const url = js_urls[i];\n      const element = document.createElement('script');\n      element.onload = on_load;\n      element.onerror = on_error.bind(null, url);\n      element.async = false;\n      element.src = url;\n      console.debug(\"Bokeh: injecting script tag for BokehJS library: \", url);\n      document.head.appendChild(element);\n    }\n  };\n\n  function inject_raw_css(css) {\n    const element = document.createElement(\"style\");\n    element.appendChild(document.createTextNode(css));\n    document.body.appendChild(element);\n  }\n\n  \n  const js_urls = [\"https://cdn.bokeh.org/bokeh/release/bokeh-2.4.2.min.js\", \"https://cdn.bokeh.org/bokeh/release/bokeh-gl-2.4.2.min.js\", \"https://cdn.bokeh.org/bokeh/release/bokeh-widgets-2.4.2.min.js\", \"https://cdn.bokeh.org/bokeh/release/bokeh-tables-2.4.2.min.js\", \"https://cdn.bokeh.org/bokeh/release/bokeh-mathjax-2.4.2.min.js\"];\n  const css_urls = [];\n  \n\n  const inline_js = [\n    function(Bokeh) {\n      Bokeh.set_log_level(\"info\");\n    },\n    function(Bokeh) {\n    \n    \n    }\n  ];\n\n  function run_inline_js() {\n    \n    if (root.Bokeh !== undefined || force === true) {\n      \n    for (let i = 0; i < inline_js.length; i++) {\n      inline_js[i].call(root, root.Bokeh);\n    }\n    if (force === true) {\n        display_loaded();\n      }} else if (Date.now() < root._bokeh_timeout) {\n      setTimeout(run_inline_js, 100);\n    } else if (!root._bokeh_failed_load) {\n      console.log(\"Bokeh: BokehJS failed to load within specified timeout.\");\n      root._bokeh_failed_load = true;\n    } else if (force !== true) {\n      const cell = $(document.getElementById(\"3024\")).parents('.cell').data().cell;\n      cell.output_area.append_execute_result(NB_LOAD_WARNING)\n    }\n\n  }\n\n  if (root._bokeh_is_loading === 0) {\n    console.debug(\"Bokeh: BokehJS loaded, going straight to plotting\");\n    run_inline_js();\n  } else {\n    load_libs(css_urls, js_urls, function() {\n      console.debug(\"Bokeh: BokehJS plotting callback run at\", now());\n      run_inline_js();\n    });\n  }\n}(window));"
     },
     "metadata": {},
     "output_type": "display_data"
    }
   ],
   "source": [
    "from bokeh.plotting import gridplot, figure, show\n",
    "from bokeh.models import HoverTool, Legend\n",
    "from bokeh.io import output_notebook\n",
    "output_notebook()"
   ],
   "metadata": {}
  },
  {
   "cell_type": "markdown",
   "source": [
    "Below, we plot pH as a function of the added HCl and NH<sup>3</sup>(aq) amounts:"
   ],
   "metadata": {}
  },
  {
   "cell_type": "code",
   "execution_count": 15,
   "outputs": [
    {
     "data": {
      "text/html": "\n\n\n\n\n\n  <div class=\"bk-root\" id=\"2a8655ef-d369-4a14-922f-8afe105e0f84\" data-root-id=\"3156\"></div>\n"
     },
     "metadata": {},
     "output_type": "display_data"
    },
    {
     "data": {
      "application/javascript": "(function(root) {\n  function embed_document(root) {\n    \n  const docs_json = {\"6e86199b-910d-4890-a89d-45379df8eed2\":{\"defs\":[],\"roots\":{\"references\":[{\"attributes\":{\"children\":[{\"id\":\"3155\"},{\"id\":\"3153\"}]},\"id\":\"3156\",\"type\":\"Column\"},{\"attributes\":{},\"id\":\"3147\",\"type\":\"UnionRenderers\"},{\"attributes\":{},\"id\":\"3148\",\"type\":\"Selection\"},{\"attributes\":{},\"id\":\"3033\",\"type\":\"LinearScale\"},{\"attributes\":{},\"id\":\"3149\",\"type\":\"UnionRenderers\"},{\"attributes\":{},\"id\":\"3150\",\"type\":\"Selection\"},{\"attributes\":{\"callback\":null,\"tooltips\":[[\"amount(HCl)\",\"@amount_HCl mol\"],[\"pH\",\"@pH\"]]},\"id\":\"3025\",\"type\":\"HoverTool\"},{\"attributes\":{},\"id\":\"3129\",\"type\":\"BasicTickFormatter\"},{\"attributes\":{},\"id\":\"3130\",\"type\":\"AllLabels\"},{\"attributes\":{\"data\":{\"amount_HCl\":{\"__ndarray__\":\"AAAAAAAAAACamZmZmZm5P5qZmZmZmck/NDMzMzMz0z+amZmZmZnZPwAAAAAAAOA/MzMzMzMz4z9mZmZmZmbmP5mZmZmZmek/zMzMzMzM7D/////////vP5mZmZmZmfE/MzMzMzMz8z/NzMzMzMz0P2dmZmZmZvY/AQAAAAAA+D+bmZmZmZn5PzUzMzMzM/s/z8zMzMzM/D9pZmZmZmb+PwEAAAAAAABAzszMzMzMAECbmZmZmZkBQGhmZmZmZgJANTMzMzMzA0ACAAAAAAAEQM/MzMzMzARAnJmZmZmZBUBpZmZmZmYGQDYzMzMzMwdAAwAAAAAACEDQzMzMzMwIQJ2ZmZmZmQlAamZmZmZmCkA3MzMzMzMLQAQAAAAAAAxA0czMzMzMDECemZmZmZkNQGtmZmZmZg5AODMzMzMzD0ACAAAAAAAQQGhmZmZmZhBAzszMzMzMEEA0MzMzMzMRQJqZmZmZmRFAAAAAAAAAEkBmZmZmZmYSQMzMzMzMzBJAMjMzMzMzE0CYmZmZmZkTQP7//////xNA\",\"dtype\":\"float64\",\"order\":\"little\",\"shape\":[51]},\"index\":[0,1,2,3,4,5,6,7,8,9,10,11,12,13,14,15,16,17,18,19,20,21,22,23,24,25,26,27,28,29,30,31,32,33,34,35,36,37,38,39,40,41,42,43,44,45,46,47,48,49,50],\"pH\":{\"__ndarray__\":\"shF1g3/9G0BToPvGKQUQQHl1TxwDpg1AcMvITJBADEBBXgeaWkMLQL/Q5b42fwpAd1pWVCXfCUDZj+lx9FcJQLrlezP24ghAy2LtJ9x7CECl97PetR8IQJ9/9NtqzAdAzHTgJG+AB0DHzUAdljoHQGzuBi32+QZAMqBANda9BkDLXfQEoYUGQMFcsZ3cUAZA7OFj+CMfBkC9o0N6IvAFQMham5SQwwVASVHDNzGZBUD8a0Hez3AFQPlvaQc/SgVA6Ub5BFclBUDwS1YH9QEFQIlkqVn63wRA7Cz/wku/BECB0FUE0Z8EQKBcf210gQRALUsyhCJkBEBHhrO5yUcEQBAeUSxaLARAeJx+csURBECR19ht/vcDQLLwsCT53gNAr7oDoarGA0CcCvnTCK8DQLwoMX0KmANAOmdIFaeBA0DP4xO71msDQAHbLyOSVgNAfxyKidJBA0CAPaCkkS0DQADFNZrJGQNAEG1P9XQGA0BilUidjvMCQA903s0R4QJA3PEREPrOAkBenMUzQ70CQK/bAErpqwJA\",\"dtype\":\"float64\",\"order\":\"little\",\"shape\":[51]}},\"selected\":{\"id\":\"3135\"},\"selection_policy\":{\"id\":\"3134\"}},\"id\":\"3060\",\"type\":\"ColumnDataSource\"},{\"attributes\":{},\"id\":\"3132\",\"type\":\"BasicTickFormatter\"},{\"attributes\":{},\"id\":\"3134\",\"type\":\"UnionRenderers\"},{\"attributes\":{\"bottom_units\":\"screen\",\"coordinates\":null,\"fill_alpha\":0.5,\"fill_color\":\"lightgrey\",\"group\":null,\"left_units\":\"screen\",\"level\":\"overlay\",\"line_alpha\":1.0,\"line_color\":\"black\",\"line_dash\":[4,4],\"line_width\":2,\"right_units\":\"screen\",\"syncable\":false,\"top_units\":\"screen\"},\"id\":\"3102\",\"type\":\"BoxAnnotation\"},{\"attributes\":{},\"id\":\"3135\",\"type\":\"Selection\"},{\"attributes\":{},\"id\":\"3136\",\"type\":\"UnionRenderers\"},{\"attributes\":{\"below\":[{\"id\":\"3037\"}],\"center\":[{\"id\":\"3040\"},{\"id\":\"3044\"}],\"height\":300,\"left\":[{\"id\":\"3041\"}],\"renderers\":[{\"id\":\"3065\"},{\"id\":\"3072\"}],\"right\":[{\"id\":\"3074\"}],\"sizing_mode\":\"scale_width\",\"title\":{\"id\":\"3027\"},\"toolbar\":{\"id\":\"3052\"},\"toolbar_location\":null,\"x_range\":{\"id\":\"3029\"},\"x_scale\":{\"id\":\"3033\"},\"y_range\":{\"id\":\"3031\"},\"y_scale\":{\"id\":\"3035\"}},\"id\":\"3026\",\"subtype\":\"Figure\",\"type\":\"Plot\"},{\"attributes\":{\"axis_label\":\"HCL [MOL]\",\"coordinates\":null,\"formatter\":{\"id\":\"3132\"},\"group\":null,\"major_label_policy\":{\"id\":\"3133\"},\"ticker\":{\"id\":\"3038\"}},\"id\":\"3037\",\"type\":\"LinearAxis\"},{\"attributes\":{},\"id\":\"3042\",\"type\":\"BasicTicker\"},{\"attributes\":{},\"id\":\"3137\",\"type\":\"Selection\"},{\"attributes\":{\"axis\":{\"id\":\"3041\"},\"coordinates\":null,\"dimension\":1,\"group\":null,\"ticker\":null},\"id\":\"3044\",\"type\":\"Grid\"},{\"attributes\":{\"coordinates\":null,\"group\":null,\"text\":\"DEPENDENCE OF PH ON HCL AMOUNT\"},\"id\":\"3027\",\"type\":\"Title\"},{\"attributes\":{\"toolbars\":[{\"id\":\"3052\"},{\"id\":\"3103\"}],\"tools\":[{\"id\":\"3045\"},{\"id\":\"3046\"},{\"id\":\"3047\"},{\"id\":\"3048\"},{\"id\":\"3049\"},{\"id\":\"3050\"},{\"id\":\"3025\"},{\"id\":\"3096\"},{\"id\":\"3097\"},{\"id\":\"3098\"},{\"id\":\"3099\"},{\"id\":\"3100\"},{\"id\":\"3101\"},{\"id\":\"3076\"}]},\"id\":\"3154\",\"type\":\"ProxyToolbar\"},{\"attributes\":{\"axis_label\":\"PH [-]\",\"coordinates\":null,\"formatter\":{\"id\":\"3129\"},\"group\":null,\"major_label_policy\":{\"id\":\"3130\"},\"ticker\":{\"id\":\"3042\"}},\"id\":\"3041\",\"type\":\"LinearAxis\"},{\"attributes\":{},\"id\":\"3142\",\"type\":\"BasicTickFormatter\"},{\"attributes\":{\"children\":[[{\"id\":\"3026\"},0,0],[{\"id\":\"3077\"},1,0]]},\"id\":\"3153\",\"type\":\"GridBox\"},{\"attributes\":{},\"id\":\"3143\",\"type\":\"AllLabels\"},{\"attributes\":{\"axis\":{\"id\":\"3037\"},\"coordinates\":null,\"group\":null,\"ticker\":null},\"id\":\"3040\",\"type\":\"Grid\"},{\"attributes\":{\"line_cap\":\"round\",\"line_color\":\"darkred\",\"line_width\":3,\"x\":{\"field\":\"amount_HCl\"},\"y\":{\"field\":\"pH\"}},\"id\":\"3062\",\"type\":\"Line\"},{\"attributes\":{},\"id\":\"3038\",\"type\":\"BasicTicker\"},{\"attributes\":{},\"id\":\"3145\",\"type\":\"BasicTickFormatter\"},{\"attributes\":{},\"id\":\"3031\",\"type\":\"DataRange1d\"},{\"attributes\":{},\"id\":\"3035\",\"type\":\"LinearScale\"},{\"attributes\":{},\"id\":\"3146\",\"type\":\"AllLabels\"},{\"attributes\":{},\"id\":\"3029\",\"type\":\"DataRange1d\"},{\"attributes\":{},\"id\":\"3093\",\"type\":\"BasicTicker\"},{\"attributes\":{\"fill_alpha\":{\"value\":0.1},\"fill_color\":{\"value\":\"darkred\"},\"hatch_alpha\":{\"value\":0.1},\"line_alpha\":{\"value\":0.1},\"line_color\":{\"value\":\"darkred\"},\"line_width\":{\"value\":2},\"size\":{\"value\":6},\"x\":{\"field\":\"amount_HCl\"},\"y\":{\"field\":\"pH\"}},\"id\":\"3070\",\"type\":\"Circle\"},{\"attributes\":{\"callback\":null,\"tooltips\":[[\"amount(NH3)\",\"@amount_NH3 mol\"],[\"pH\",\"@pH\"]]},\"id\":\"3076\",\"type\":\"HoverTool\"},{\"attributes\":{\"coordinates\":null,\"data_source\":{\"id\":\"3060\"},\"glyph\":{\"id\":\"3062\"},\"group\":null,\"hover_glyph\":null,\"muted_glyph\":{\"id\":\"3064\"},\"nonselection_glyph\":{\"id\":\"3063\"},\"view\":{\"id\":\"3066\"}},\"id\":\"3065\",\"type\":\"GlyphRenderer\"},{\"attributes\":{\"line_alpha\":0.1,\"line_cap\":\"round\",\"line_color\":\"teal\",\"line_width\":3,\"x\":{\"field\":\"amount_NH3\"},\"y\":{\"field\":\"pH\"}},\"id\":\"3114\",\"type\":\"Line\"},{\"attributes\":{\"coordinates\":null,\"data_source\":{\"id\":\"3111\"},\"glyph\":{\"id\":\"3113\"},\"group\":null,\"hover_glyph\":null,\"muted_glyph\":{\"id\":\"3115\"},\"nonselection_glyph\":{\"id\":\"3114\"},\"view\":{\"id\":\"3117\"}},\"id\":\"3116\",\"type\":\"GlyphRenderer\"},{\"attributes\":{\"line_alpha\":0.2,\"line_cap\":\"round\",\"line_color\":\"darkred\",\"line_width\":3,\"x\":{\"field\":\"amount_HCl\"},\"y\":{\"field\":\"pH\"}},\"id\":\"3064\",\"type\":\"Line\"},{\"attributes\":{},\"id\":\"3082\",\"type\":\"DataRange1d\"},{\"attributes\":{\"line_alpha\":0.2,\"line_cap\":\"round\",\"line_color\":\"teal\",\"line_width\":3,\"x\":{\"field\":\"amount_NH3\"},\"y\":{\"field\":\"pH\"}},\"id\":\"3115\",\"type\":\"Line\"},{\"attributes\":{\"data\":{\"amount_NH3\":{\"__ndarray__\":\"AAAAAAAAAACamZmZmZm5P5qZmZmZmck/NDMzMzMz0z+amZmZmZnZPwAAAAAAAOA/MzMzMzMz4z9mZmZmZmbmP5mZmZmZmek/zMzMzMzM7D/////////vP5mZmZmZmfE/MzMzMzMz8z/NzMzMzMz0P2dmZmZmZvY/AQAAAAAA+D+bmZmZmZn5PzUzMzMzM/s/z8zMzMzM/D9pZmZmZmb+PwEAAAAAAABAzszMzMzMAECbmZmZmZkBQGhmZmZmZgJANTMzMzMzA0ACAAAAAAAEQM/MzMzMzARAnJmZmZmZBUBpZmZmZmYGQDYzMzMzMwdAAwAAAAAACEDQzMzMzMwIQJ2ZmZmZmQlAamZmZmZmCkA3MzMzMzMLQAQAAAAAAAxA0czMzMzMDECemZmZmZkNQGtmZmZmZg5AODMzMzMzD0ACAAAAAAAQQGhmZmZmZhBAzszMzMzMEEA0MzMzMzMRQJqZmZmZmRFAAAAAAAAAEkBmZmZmZmYSQMzMzMzMzBJAMjMzMzMzE0CYmZmZmZkTQP7//////xNA\",\"dtype\":\"float64\",\"order\":\"little\",\"shape\":[51]},\"index\":[51,1,2,3,4,5,6,7,8,9,10,11,12,13,14,15,16,17,18,19,20,21,22,23,24,25,26,27,28,29,30,31,32,33,34,35,36,37,38,39,40,41,42,43,44,45,46,47,48,49,50],\"pH\":{\"__ndarray__\":\"A+V3g3/9G0B8HyL0xQ0jQPjxu/hVaCNAh6S9I3GbI0BDDrvSB78jQGoTG8dN2iNAYNjyRGXwI0DNO2Jq8wIkQK4QzpHwEiRAFYyDZ/sgJEAeQWtrfy0kQHF5bMrIOCRAXV72cg9DJEAEouapfUwkQPa9lSY0VSRAjKA/v0xdJEBZ6NE13GQkQNq7X3fzayRA/Is7f6ByJEA3Tvz77ngkQC2eusnofiRAE0orTpaEJEDUFBW//okkQEgr9VgojyRA4qzliRiUJEChCa0T1JgkQPZkDydfnSRACyPseb2hJED6p0xZ8qUkQLLJQLgAqiRAzLwwPOutJECBeiVHtLEkQHCZfgBetSRAyE7yW+q4JEB2ETMgW7wkQPqC7euxvyRAzXtmOvDCJEC4I2VnF8YkQDJhlrIoySRAd8J+QiXMJEBqPQwnDs8kQLge1lvk0SRAkRAXyqjUJED0KGtKXNckQPdSWqb/2SRAdxW2mZPcJEC7o9DTGN8kQB4/kviP4SRAujFxofnjJEBlC1BeVuYkQEZERbam6CRA\",\"dtype\":\"float64\",\"order\":\"little\",\"shape\":[51]}},\"selected\":{\"id\":\"3150\"},\"selection_policy\":{\"id\":\"3149\"}},\"id\":\"3118\",\"type\":\"ColumnDataSource\"},{\"attributes\":{\"source\":{\"id\":\"3111\"}},\"id\":\"3117\",\"type\":\"CDSView\"},{\"attributes\":{\"coordinates\":null,\"group\":null,\"items\":[{\"id\":\"3126\"}]},\"id\":\"3125\",\"type\":\"Legend\"},{\"attributes\":{\"line_alpha\":0.1,\"line_cap\":\"round\",\"line_color\":\"darkred\",\"line_width\":3,\"x\":{\"field\":\"amount_HCl\"},\"y\":{\"field\":\"pH\"}},\"id\":\"3063\",\"type\":\"Line\"},{\"attributes\":{\"label\":{\"value\":\"pH\"},\"renderers\":[{\"id\":\"3065\"},{\"id\":\"3072\"}]},\"id\":\"3075\",\"type\":\"LegendItem\"},{\"attributes\":{\"source\":{\"id\":\"3067\"}},\"id\":\"3073\",\"type\":\"CDSView\"},{\"attributes\":{\"coordinates\":null,\"group\":null,\"items\":[{\"id\":\"3075\"}]},\"id\":\"3074\",\"type\":\"Legend\"},{\"attributes\":{\"axis\":{\"id\":\"3092\"},\"coordinates\":null,\"dimension\":1,\"group\":null,\"ticker\":null},\"id\":\"3095\",\"type\":\"Grid\"},{\"attributes\":{\"line_cap\":\"round\",\"line_color\":\"teal\",\"line_width\":3,\"x\":{\"field\":\"amount_NH3\"},\"y\":{\"field\":\"pH\"}},\"id\":\"3113\",\"type\":\"Line\"},{\"attributes\":{\"tools\":[{\"id\":\"3045\"},{\"id\":\"3046\"},{\"id\":\"3047\"},{\"id\":\"3048\"},{\"id\":\"3049\"},{\"id\":\"3050\"},{\"id\":\"3025\"}]},\"id\":\"3052\",\"type\":\"Toolbar\"},{\"attributes\":{\"coordinates\":null,\"group\":null,\"text\":\"DEPENDENCE OF PH ON NH3(aq) AMOUNT\"},\"id\":\"3078\",\"type\":\"Title\"},{\"attributes\":{\"axis_label\":\"PH [-]\",\"coordinates\":null,\"formatter\":{\"id\":\"3142\"},\"group\":null,\"major_label_policy\":{\"id\":\"3143\"},\"ticker\":{\"id\":\"3093\"}},\"id\":\"3092\",\"type\":\"LinearAxis\"},{\"attributes\":{\"toolbar\":{\"id\":\"3154\"},\"toolbar_location\":\"above\"},\"id\":\"3155\",\"type\":\"ToolbarBox\"},{\"attributes\":{\"coordinates\":null,\"data_source\":{\"id\":\"3067\"},\"glyph\":{\"id\":\"3069\"},\"group\":null,\"hover_glyph\":null,\"muted_glyph\":{\"id\":\"3071\"},\"nonselection_glyph\":{\"id\":\"3070\"},\"view\":{\"id\":\"3073\"}},\"id\":\"3072\",\"type\":\"GlyphRenderer\"},{\"attributes\":{\"coordinates\":null,\"data_source\":{\"id\":\"3118\"},\"glyph\":{\"id\":\"3120\"},\"group\":null,\"hover_glyph\":null,\"muted_glyph\":{\"id\":\"3122\"},\"nonselection_glyph\":{\"id\":\"3121\"},\"view\":{\"id\":\"3124\"}},\"id\":\"3123\",\"type\":\"GlyphRenderer\"},{\"attributes\":{\"source\":{\"id\":\"3060\"}},\"id\":\"3066\",\"type\":\"CDSView\"},{\"attributes\":{\"below\":[{\"id\":\"3088\"}],\"center\":[{\"id\":\"3091\"},{\"id\":\"3095\"}],\"height\":300,\"left\":[{\"id\":\"3092\"}],\"renderers\":[{\"id\":\"3116\"},{\"id\":\"3123\"}],\"right\":[{\"id\":\"3125\"}],\"sizing_mode\":\"scale_width\",\"title\":{\"id\":\"3078\"},\"toolbar\":{\"id\":\"3103\"},\"toolbar_location\":null,\"x_range\":{\"id\":\"3080\"},\"x_scale\":{\"id\":\"3084\"},\"y_range\":{\"id\":\"3082\"},\"y_scale\":{\"id\":\"3086\"}},\"id\":\"3077\",\"subtype\":\"Figure\",\"type\":\"Plot\"},{\"attributes\":{\"fill_alpha\":{\"value\":0.1},\"fill_color\":{\"value\":\"#1f77b4\"},\"hatch_alpha\":{\"value\":0.1},\"line_alpha\":{\"value\":0.1},\"line_color\":{\"value\":\"teal\"},\"line_width\":{\"value\":2},\"marker\":{\"value\":\"x\"},\"size\":{\"value\":8},\"x\":{\"field\":\"amount_NH3\"},\"y\":{\"field\":\"pH\"}},\"id\":\"3121\",\"type\":\"Scatter\"},{\"attributes\":{\"fill_alpha\":{\"value\":0.2},\"fill_color\":{\"value\":\"darkred\"},\"hatch_alpha\":{\"value\":0.2},\"line_alpha\":{\"value\":0.2},\"line_color\":{\"value\":\"darkred\"},\"line_width\":{\"value\":2},\"size\":{\"value\":6},\"x\":{\"field\":\"amount_HCl\"},\"y\":{\"field\":\"pH\"}},\"id\":\"3071\",\"type\":\"Circle\"},{\"attributes\":{\"fill_alpha\":{\"value\":0.2},\"fill_color\":{\"value\":\"#1f77b4\"},\"hatch_alpha\":{\"value\":0.2},\"line_alpha\":{\"value\":0.2},\"line_color\":{\"value\":\"teal\"},\"line_width\":{\"value\":2},\"marker\":{\"value\":\"x\"},\"size\":{\"value\":8},\"x\":{\"field\":\"amount_NH3\"},\"y\":{\"field\":\"pH\"}},\"id\":\"3122\",\"type\":\"Scatter\"},{\"attributes\":{},\"id\":\"3133\",\"type\":\"AllLabels\"},{\"attributes\":{\"source\":{\"id\":\"3118\"}},\"id\":\"3124\",\"type\":\"CDSView\"},{\"attributes\":{},\"id\":\"3084\",\"type\":\"LinearScale\"},{\"attributes\":{\"data\":{\"amount_NH3\":{\"__ndarray__\":\"AAAAAAAAAACamZmZmZm5P5qZmZmZmck/NDMzMzMz0z+amZmZmZnZPwAAAAAAAOA/MzMzMzMz4z9mZmZmZmbmP5mZmZmZmek/zMzMzMzM7D/////////vP5mZmZmZmfE/MzMzMzMz8z/NzMzMzMz0P2dmZmZmZvY/AQAAAAAA+D+bmZmZmZn5PzUzMzMzM/s/z8zMzMzM/D9pZmZmZmb+PwEAAAAAAABAzszMzMzMAECbmZmZmZkBQGhmZmZmZgJANTMzMzMzA0ACAAAAAAAEQM/MzMzMzARAnJmZmZmZBUBpZmZmZmYGQDYzMzMzMwdAAwAAAAAACEDQzMzMzMwIQJ2ZmZmZmQlAamZmZmZmCkA3MzMzMzMLQAQAAAAAAAxA0czMzMzMDECemZmZmZkNQGtmZmZmZg5AODMzMzMzD0ACAAAAAAAQQGhmZmZmZhBAzszMzMzMEEA0MzMzMzMRQJqZmZmZmRFAAAAAAAAAEkBmZmZmZmYSQMzMzMzMzBJAMjMzMzMzE0CYmZmZmZkTQP7//////xNA\",\"dtype\":\"float64\",\"order\":\"little\",\"shape\":[51]},\"index\":[51,1,2,3,4,5,6,7,8,9,10,11,12,13,14,15,16,17,18,19,20,21,22,23,24,25,26,27,28,29,30,31,32,33,34,35,36,37,38,39,40,41,42,43,44,45,46,47,48,49,50],\"pH\":{\"__ndarray__\":\"A+V3g3/9G0B8HyL0xQ0jQPjxu/hVaCNAh6S9I3GbI0BDDrvSB78jQGoTG8dN2iNAYNjyRGXwI0DNO2Jq8wIkQK4QzpHwEiRAFYyDZ/sgJEAeQWtrfy0kQHF5bMrIOCRAXV72cg9DJEAEouapfUwkQPa9lSY0VSRAjKA/v0xdJEBZ6NE13GQkQNq7X3fzayRA/Is7f6ByJEA3Tvz77ngkQC2eusnofiRAE0orTpaEJEDUFBW//okkQEgr9VgojyRA4qzliRiUJEChCa0T1JgkQPZkDydfnSRACyPseb2hJED6p0xZ8qUkQLLJQLgAqiRAzLwwPOutJECBeiVHtLEkQHCZfgBetSRAyE7yW+q4JEB2ETMgW7wkQPqC7euxvyRAzXtmOvDCJEC4I2VnF8YkQDJhlrIoySRAd8J+QiXMJEBqPQwnDs8kQLge1lvk0SRAkRAXyqjUJED0KGtKXNckQPdSWqb/2SRAdxW2mZPcJEC7o9DTGN8kQB4/kviP4SRAujFxofnjJEBlC1BeVuYkQEZERbam6CRA\",\"dtype\":\"float64\",\"order\":\"little\",\"shape\":[51]}},\"selected\":{\"id\":\"3148\"},\"selection_policy\":{\"id\":\"3147\"}},\"id\":\"3111\",\"type\":\"ColumnDataSource\"},{\"attributes\":{\"fill_color\":{\"value\":\"#1f77b4\"},\"line_color\":{\"value\":\"teal\"},\"line_width\":{\"value\":2},\"marker\":{\"value\":\"x\"},\"size\":{\"value\":8},\"x\":{\"field\":\"amount_NH3\"},\"y\":{\"field\":\"pH\"}},\"id\":\"3120\",\"type\":\"Scatter\"},{\"attributes\":{},\"id\":\"3100\",\"type\":\"ResetTool\"},{\"attributes\":{},\"id\":\"3080\",\"type\":\"DataRange1d\"},{\"attributes\":{\"fill_color\":{\"value\":\"darkred\"},\"line_color\":{\"value\":\"darkred\"},\"line_width\":{\"value\":2},\"size\":{\"value\":6},\"x\":{\"field\":\"amount_HCl\"},\"y\":{\"field\":\"pH\"}},\"id\":\"3069\",\"type\":\"Circle\"},{\"attributes\":{\"tools\":[{\"id\":\"3096\"},{\"id\":\"3097\"},{\"id\":\"3098\"},{\"id\":\"3099\"},{\"id\":\"3100\"},{\"id\":\"3101\"},{\"id\":\"3076\"}]},\"id\":\"3103\",\"type\":\"Toolbar\"},{\"attributes\":{},\"id\":\"3049\",\"type\":\"ResetTool\"},{\"attributes\":{},\"id\":\"3050\",\"type\":\"HelpTool\"},{\"attributes\":{\"overlay\":{\"id\":\"3102\"}},\"id\":\"3098\",\"type\":\"BoxZoomTool\"},{\"attributes\":{\"label\":{\"value\":\"pH\"},\"renderers\":[{\"id\":\"3116\"},{\"id\":\"3123\"}]},\"id\":\"3126\",\"type\":\"LegendItem\"},{\"attributes\":{},\"id\":\"3099\",\"type\":\"SaveTool\"},{\"attributes\":{},\"id\":\"3045\",\"type\":\"PanTool\"},{\"attributes\":{\"overlay\":{\"id\":\"3051\"}},\"id\":\"3047\",\"type\":\"BoxZoomTool\"},{\"attributes\":{\"bottom_units\":\"screen\",\"coordinates\":null,\"fill_alpha\":0.5,\"fill_color\":\"lightgrey\",\"group\":null,\"left_units\":\"screen\",\"level\":\"overlay\",\"line_alpha\":1.0,\"line_color\":\"black\",\"line_dash\":[4,4],\"line_width\":2,\"right_units\":\"screen\",\"syncable\":false,\"top_units\":\"screen\"},\"id\":\"3051\",\"type\":\"BoxAnnotation\"},{\"attributes\":{},\"id\":\"3089\",\"type\":\"BasicTicker\"},{\"attributes\":{},\"id\":\"3048\",\"type\":\"SaveTool\"},{\"attributes\":{\"axis_label\":\"NH3 [MOL]\",\"coordinates\":null,\"formatter\":{\"id\":\"3145\"},\"group\":null,\"major_label_policy\":{\"id\":\"3146\"},\"ticker\":{\"id\":\"3089\"}},\"id\":\"3088\",\"type\":\"LinearAxis\"},{\"attributes\":{},\"id\":\"3046\",\"type\":\"WheelZoomTool\"},{\"attributes\":{},\"id\":\"3096\",\"type\":\"PanTool\"},{\"attributes\":{},\"id\":\"3101\",\"type\":\"HelpTool\"},{\"attributes\":{\"axis\":{\"id\":\"3088\"},\"coordinates\":null,\"group\":null,\"ticker\":null},\"id\":\"3091\",\"type\":\"Grid\"},{\"attributes\":{},\"id\":\"3086\",\"type\":\"LinearScale\"},{\"attributes\":{},\"id\":\"3097\",\"type\":\"WheelZoomTool\"},{\"attributes\":{\"data\":{\"amount_HCl\":{\"__ndarray__\":\"AAAAAAAAAACamZmZmZm5P5qZmZmZmck/NDMzMzMz0z+amZmZmZnZPwAAAAAAAOA/MzMzMzMz4z9mZmZmZmbmP5mZmZmZmek/zMzMzMzM7D/////////vP5mZmZmZmfE/MzMzMzMz8z/NzMzMzMz0P2dmZmZmZvY/AQAAAAAA+D+bmZmZmZn5PzUzMzMzM/s/z8zMzMzM/D9pZmZmZmb+PwEAAAAAAABAzszMzMzMAECbmZmZmZkBQGhmZmZmZgJANTMzMzMzA0ACAAAAAAAEQM/MzMzMzARAnJmZmZmZBUBpZmZmZmYGQDYzMzMzMwdAAwAAAAAACEDQzMzMzMwIQJ2ZmZmZmQlAamZmZmZmCkA3MzMzMzMLQAQAAAAAAAxA0czMzMzMDECemZmZmZkNQGtmZmZmZg5AODMzMzMzD0ACAAAAAAAQQGhmZmZmZhBAzszMzMzMEEA0MzMzMzMRQJqZmZmZmRFAAAAAAAAAEkBmZmZmZmYSQMzMzMzMzBJAMjMzMzMzE0CYmZmZmZkTQP7//////xNA\",\"dtype\":\"float64\",\"order\":\"little\",\"shape\":[51]},\"index\":[0,1,2,3,4,5,6,7,8,9,10,11,12,13,14,15,16,17,18,19,20,21,22,23,24,25,26,27,28,29,30,31,32,33,34,35,36,37,38,39,40,41,42,43,44,45,46,47,48,49,50],\"pH\":{\"__ndarray__\":\"shF1g3/9G0BToPvGKQUQQHl1TxwDpg1AcMvITJBADEBBXgeaWkMLQL/Q5b42fwpAd1pWVCXfCUDZj+lx9FcJQLrlezP24ghAy2LtJ9x7CECl97PetR8IQJ9/9NtqzAdAzHTgJG+AB0DHzUAdljoHQGzuBi32+QZAMqBANda9BkDLXfQEoYUGQMFcsZ3cUAZA7OFj+CMfBkC9o0N6IvAFQMham5SQwwVASVHDNzGZBUD8a0Hez3AFQPlvaQc/SgVA6Ub5BFclBUDwS1YH9QEFQIlkqVn63wRA7Cz/wku/BECB0FUE0Z8EQKBcf210gQRALUsyhCJkBEBHhrO5yUcEQBAeUSxaLARAeJx+csURBECR19ht/vcDQLLwsCT53gNAr7oDoarGA0CcCvnTCK8DQLwoMX0KmANAOmdIFaeBA0DP4xO71msDQAHbLyOSVgNAfxyKidJBA0CAPaCkkS0DQADFNZrJGQNAEG1P9XQGA0BilUidjvMCQA903s0R4QJA3PEREPrOAkBenMUzQ70CQK/bAErpqwJA\",\"dtype\":\"float64\",\"order\":\"little\",\"shape\":[51]}},\"selected\":{\"id\":\"3137\"},\"selection_policy\":{\"id\":\"3136\"}},\"id\":\"3067\",\"type\":\"ColumnDataSource\"}],\"root_ids\":[\"3156\"]},\"title\":\"Bokeh Application\",\"version\":\"2.4.2\"}};\n  const render_items = [{\"docid\":\"6e86199b-910d-4890-a89d-45379df8eed2\",\"root_ids\":[\"3156\"],\"roots\":{\"3156\":\"2a8655ef-d369-4a14-922f-8afe105e0f84\"}}];\n  root.Bokeh.embed.embed_items_notebook(docs_json, render_items);\n\n  }\n  if (root.Bokeh !== undefined) {\n    embed_document(root);\n  } else {\n    let attempts = 0;\n    const timer = setInterval(function(root) {\n      if (root.Bokeh !== undefined) {\n        clearInterval(timer);\n        embed_document(root);\n      } else {\n        attempts++;\n        if (attempts > 100) {\n          clearInterval(timer);\n          console.log(\"Bokeh: ERROR: Unable to run BokehJS code because BokehJS library is missing\");\n        }\n      }\n    }, 10, root)\n  }\n})(window);",
      "application/vnd.bokehjs_exec.v0+json": ""
     },
     "metadata": {
      "application/vnd.bokehjs_exec.v0+json": {
       "id": "3156"
      }
     },
     "output_type": "display_data"
    }
   ],
   "source": [
    "# ----------------------------------- #\n",
    "# Plot dependence of pH on added HCl\n",
    "# ----------------------------------- #\n",
    "hovertool1 = HoverTool()\n",
    "hovertool1.tooltips = [(\"amount(HCl)\", \"@amount_HCl mol\"),\n",
    "                      (\"pH\", \"@pH\")]\n",
    "\n",
    "p1 = figure(\n",
    "    title=\"DEPENDENCE OF PH ON HCL AMOUNT\",\n",
    "    x_axis_label=r'HCL [MOL]',\n",
    "    y_axis_label='PH [-]',\n",
    "    sizing_mode=\"scale_width\",\n",
    "    plot_height=300)\n",
    "\n",
    "p1.add_tools(hovertool1)\n",
    "\n",
    "r11 = p1.line(\"amount_HCl\", \"pH\", line_width=3, line_cap=\"round\", line_color='darkred', source=pd1)\n",
    "r21 = p1.circle(\"amount_HCl\", \"pH\", line_width=2, size=6, line_color='darkred', fill_color='darkred', source=pd1)\n",
    "\n",
    "legend = Legend(items=[\n",
    "    (\"pH\"  , [r11, r21]),\n",
    "], location=\"top_right\")\n",
    "\n",
    "p1.add_layout(legend, 'right')\n",
    "\n",
    "# ----------------------------------- #\n",
    "# Plot dependence of pH on added NH3+\n",
    "# ----------------------------------- #\n",
    "hovertool2 = HoverTool()\n",
    "hovertool2.tooltips = [(\"amount(NH3)\", \"@amount_NH3 mol\"),\n",
    "                      (\"pH\", \"@pH\")]\n",
    "\n",
    "p2 = figure(\n",
    "    title=\"DEPENDENCE OF PH ON NH3(aq) AMOUNT\",\n",
    "    x_axis_label=r'NH3 [MOL]',\n",
    "    y_axis_label='PH [-]',\n",
    "    sizing_mode=\"scale_width\",\n",
    "    plot_height=300)\n",
    "\n",
    "p2.add_tools(hovertool2)\n",
    "\n",
    "r21 = p2.line(\"amount_NH3\", \"pH\", line_width=3, line_cap=\"round\", line_color='teal', source=pd2)\n",
    "r22 = p2.x(\"amount_NH3\", \"pH\", line_width=2, size=8, line_color=\"teal\", source=pd2)\n",
    "\n",
    "legend = Legend(items=[\n",
    "    (\"pH\"  , [r21, r22]),\n",
    "], location=\"top_right\")\n",
    "\n",
    "p2.add_layout(legend, 'right')\n",
    "\n",
    "grid = gridplot([[p1], [p2]])\n",
    "\n",
    "show(grid)"
   ],
   "metadata": {}
  },
  {
   "cell_type": "markdown",
   "id": "a1b99d9a",
   "metadata": {},
   "source": [
    "As expected, adding the contaminant like HCl into water increases free H<sup>+</sup> ions and decreases pH according to the reaction\n",
    "$$\n",
    "\\rm{HCl(aq) + H_2O(l) = H_3O^+ + Cl^-},\n",
    "$$\n",
    "affecting the ecosystem. Whereas adding ammonia removes H<sup>+</sup> from water to produce ammonium and hydroxide, i.e.,\n",
    "to produce ammonium and hydroxide:\n",
    "$$\n",
    "\\rm{NH_3 + H_2O = NH_4^+ + OH^-}.\n",
    "$$"
   ]
  }
 ],
 "metadata": {
  "kernelspec": {
   "display_name": "Python 3 (ipykernel)",
   "language": "python",
   "name": "python3"
  },
  "language_info": {
   "codemirror_mode": {
    "name": "ipython",
    "version": 3
   },
   "file_extension": ".py",
   "mimetype": "text/x-python",
   "name": "python",
   "nbconvert_exporter": "python",
   "pygments_lexer": "ipython3",
   "version": "3.9.7"
  }
 },
 "nbformat": 4,
 "nbformat_minor": 5
}