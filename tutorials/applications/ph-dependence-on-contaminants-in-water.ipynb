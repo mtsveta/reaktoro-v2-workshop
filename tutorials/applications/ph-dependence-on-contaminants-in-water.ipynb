{
 "cells": [
  {
   "cell_type": "markdown",
   "id": "edeeeaff",
   "metadata": {},
   "source": [
    "# pH-dependence on added contaminants in water\n",
    "\n",
    "This tutorial demonstrates how pH dependency on different contaminants in the water (affecting the fish life as well as the general ecosystem) can be modelled in Reaktoro.\n",
    "\n",
    "In the picture below, we see the green scum, which is the worst algae bloom that lake Erie (North America) has experienced in decades. The photo is taken from orbit by the Landsat-5 satellite in October 2011. The reason for this was a record torrential spring rains that washed fertilizer into the lake, promoting the growth of microcystin-producing cyanobacteria blooms.\n",
    "\n",
    "|![Toxic algae bloom in lake Erie](../../images/toxic_algae_bloom_lake_erie_600.jpeg)|\n",
    "|:--:|\n",
    "|Toxic algae bloom in the Lake Erie, Source: NASA Earth Observatory|\n",
    "\n",
    "First, we set up the chemical system with a single aqueous phase (governed by the HKF activity model) and initialize the chemical state corresponding to the pure water (with pH = 7)."
   ]
  },
  {
   "cell_type": "code",
   "execution_count": null,
   "id": "6600bc72",
   "metadata": {},
   "outputs": [],
   "source": [
    "from reaktoro import *\n",
    "import pandas as pd\n",
    "\n",
    "# Define the thermodynamic database\n",
    "db =  SupcrtDatabase(\"supcrt98\")\n",
    "\n",
    "# Define the aqueous phase\n",
    "aqueousphase = AqueousPhase(speciate(\"H O Na Cl N\"))\n",
    "aqueousphase.setActivityModel(ActivityModelHKF())\n",
    "# Define the chemical system:\n",
    "system = ChemicalSystem(db, aqueousphase)\n",
    "\n",
    "# Define chemical state corresponding to the pure water\n",
    "state = ChemicalState(system)\n",
    "state.setTemperature(25, \"celsius\")\n",
    "state.setPressure(1.0, \"bar\")\n",
    "state.set(\"H2O(aq)\", 1.0, \"kg\")\n",
    "\n",
    "# Define equilibrium solver and solve equilibrium problem with initial chemical state\n",
    "solver = EquilibriumSolver(system)\n",
    "solver.solve(state)\n",
    "\n",
    "# Define aqueous properties of the chemical state\n",
    "aprops = AqueousProps(state)\n",
    "print(\"pH of pure water = \", aprops.pH())"
   ]
  },
  {
   "cell_type": "markdown",
   "id": "42afc9f7",
   "metadata": {},
   "source": [
    "## Adding acidic contaminant or decreasing pH\n",
    "\n",
    "First, we investigate the behaviour of the pH when adding the acidic contaminant to the water. We define the auxiliary lists with amounts of acid HCl in the chemical state `hcl_amounts` and the list of pH `phs` (corresponding to the added acid amount). Both lists are populated in the loop of 50 steps. We gradually add 0.1 mmol of hydrogen chloride and evaluate the pH in the obtained state."
   ]
  },
  {
   "cell_type": "code",
   "execution_count": null,
   "id": "7a749b31",
   "metadata": {},
   "outputs": [],
   "source": [
    "# Initialize lists with HCl amounts and ph values\n",
    "hcl_0 = 0.0\n",
    "hcl_delta = 0.1\n",
    "nsteps = 50\n",
    "\n",
    "pd1 = pd.DataFrame(columns=[\"amount_HCl\", \"pH\"])\n",
    "\n",
    "pd1.loc[len(pd1)] = [hcl_0, float(aprops.pH())]\n",
    "\n",
    "# Run loop of `nsteps` steps\n",
    "for i in range(nsteps):\n",
    "\n",
    "    # Add more hydrogen chlorite to the problem\n",
    "    state.add(\"HCl(aq)\", hcl_delta, \"mmol\")\n",
    "\n",
    "    # Equilibrate state with updated problem\n",
    "    solver.solve(state)\n",
    "\n",
    "    # Update aqueous properties\n",
    "    aprops.update(state)\n",
    "\n",
    "    # Update amount of HCl\n",
    "    hcl_0 += hcl_delta\n",
    "\n",
    "    # Append new calculated value to the dataframe\n",
    "    pd1.loc[len(pd1)] = [hcl_0, float(aprops.pH())]"
   ]
  },
  {
   "cell_type": "markdown",
   "id": "6806921b",
   "metadata": {},
   "source": [
    "### Adding ammonia or increasing pH\n",
    "\n",
    "If we add in a chemical contaminant such as ammonia (a compound of nitrogen and hydrogen with the formula NH3, colourless gas with a characteristic pungent smell), that can increase the pH and affect fish life."
   ]
  },
  {
   "cell_type": "code",
   "execution_count": null,
   "id": "4da0c7eb",
   "metadata": {},
   "outputs": [],
   "source": [
    "state = ChemicalState(system)\n",
    "state.setTemperature(25, \"celsius\")\n",
    "state.setPressure(1, \"bar\")\n",
    "state.set(\"H2O(aq)\", 1.0, \"kg\")\n",
    "solver.solve(state)\n",
    "aprops.update(state)\n",
    "\n",
    "nh3_0 = 0.0\n",
    "nh3_delta = 0.1\n",
    "nsteps = 50\n",
    "\n",
    "pd2 = pd.DataFrame(columns=[\"amount_NH3\", \"pH\"])\n",
    "\n",
    "pd2.loc[len(pd1)] = [nh3_0, float(aprops.pH())]\n",
    "\n",
    "for i in range(nsteps):\n",
    "\n",
    "    # Add more ammonia to the problem\n",
    "    state.add(\"NH3(aq)\", nh3_delta, \"mmol\")\n",
    "\n",
    "    # Equilibrate state with updated problem\n",
    "    solver.solve(state)\n",
    "\n",
    "    # Update aqueous properties\n",
    "    aprops.update(state)\n",
    "\n",
    "    # Update amount of NH3\n",
    "    nh3_0 += nh3_delta\n",
    "\n",
    "    # Append new calculated value to the dataframe\n",
    "    pd2.loc[len(pd2)] = [nh3_0, float(aprops.pH())]"
   ]
  },
  {
   "cell_type": "markdown",
   "id": "14f4484a",
   "metadata": {},
   "source": [
    "### Plotting the pH dependencies\n",
    "\n",
    "We use the [bokeh](https://bokeh.org/) plotting library, which must be initialized to work in Jupyter Notebooks."
   ]
  },
  {
   "cell_type": "code",
   "execution_count": null,
   "id": "a5863ed2",
   "metadata": {},
   "outputs": [],
   "source": [
    "from bokeh.plotting import gridplot, figure, show\n",
    "from bokeh.models import HoverTool, Legend\n",
    "from bokeh.io import output_notebook\n",
    "output_notebook()"
   ]
  },
  {
   "cell_type": "markdown",
   "id": "e8272338",
   "metadata": {},
   "source": [
    "Below, we plot pH as a function of the added HCl and NH<sup>3</sup>(aq) amounts:"
   ]
  },
  {
   "cell_type": "code",
   "execution_count": null,
   "id": "0c99ad2c",
   "metadata": {},
   "outputs": [],
   "source": [
    "# ----------------------------------- #\n",
    "# Plot dependence of pH on added HCl\n",
    "# ----------------------------------- #\n",
    "hovertool1 = HoverTool()\n",
    "hovertool1.tooltips = [(\"amount(HCl)\", \"@amount_HCl mol\"),\n",
    "                      (\"pH\", \"@pH\")]\n",
    "\n",
    "p1 = figure(\n",
    "    title=\"DEPENDENCE OF PH ON HCL AMOUNT\",\n",
    "    x_axis_label=r'HCL [MOL]',\n",
    "    y_axis_label='PH [-]',\n",
    "    sizing_mode=\"scale_width\",\n",
    "    plot_height=300)\n",
    "\n",
    "p1.add_tools(hovertool1)\n",
    "\n",
    "r11 = p1.line(\"amount_HCl\", \"pH\", line_width=3, line_cap=\"round\", line_color='darkred', source=pd1)\n",
    "r21 = p1.circle(\"amount_HCl\", \"pH\", line_width=2, size=6, line_color='darkred', fill_color='darkred', source=pd1)\n",
    "\n",
    "legend = Legend(items=[\n",
    "    (\"pH\"  , [r11, r21]),\n",
    "], location=\"top_right\")\n",
    "\n",
    "p1.add_layout(legend, 'right')\n",
    "\n",
    "# ----------------------------------- #\n",
    "# Plot dependence of pH on added NH3+\n",
    "# ----------------------------------- #\n",
    "hovertool2 = HoverTool()\n",
    "hovertool2.tooltips = [(\"amount(NH3)\", \"@amount_NH3 mol\"),\n",
    "                      (\"pH\", \"@pH\")]\n",
    "\n",
    "p2 = figure(\n",
    "    title=\"DEPENDENCE OF PH ON NH3(aq) AMOUNT\",\n",
    "    x_axis_label=r'NH3 [MOL]',\n",
    "    y_axis_label='PH [-]',\n",
    "    sizing_mode=\"scale_width\",\n",
    "    plot_height=300)\n",
    "\n",
    "p2.add_tools(hovertool2)\n",
    "\n",
    "r21 = p2.line(\"amount_NH3\", \"pH\", line_width=3, line_cap=\"round\", line_color='teal', source=pd2)\n",
    "r22 = p2.x(\"amount_NH3\", \"pH\", line_width=2, size=8, line_color=\"teal\", source=pd2)\n",
    "\n",
    "legend = Legend(items=[\n",
    "    (\"pH\"  , [r21, r22]),\n",
    "], location=\"top_right\")\n",
    "\n",
    "p2.add_layout(legend, 'right')\n",
    "\n",
    "grid = gridplot([[p1], [p2]])\n",
    "\n",
    "show(grid)"
   ]
  },
  {
   "cell_type": "markdown",
   "id": "a1b99d9a",
   "metadata": {},
   "source": [
    "As expected, adding the contaminant like HCl into water increases free H<sup>+</sup> ions and decreases pH according to the reaction\n",
    "$$\n",
    "\\rm{HCl(aq) + H_2O(l) = H_3O^+ + Cl^-},\n",
    "$$\n",
    "affecting the ecosystem. Whereas adding ammonia removes H<sup>+</sup> from water to produce ammonium and hydroxide, i.e., to produce ammonium and hydroxide:\n",
    "$$\n",
    "\\rm{NH_3 + H_2O = NH_4^+ + OH^-}.\n",
    "$$"
   ]
  }
 ],
 "metadata": {
  "kernelspec": {
   "display_name": "Python 3 (ipykernel)",
   "language": "python",
   "name": "python3"
  },
  "language_info": {
   "codemirror_mode": {
    "name": "ipython",
    "version": 3
   },
   "file_extension": ".py",
   "mimetype": "text/x-python",
   "name": "python",
   "nbconvert_exporter": "python",
   "pygments_lexer": "ipython3",
   "version": "3.9.7"
  }
 },
 "nbformat": 4,
 "nbformat_minor": 5
}