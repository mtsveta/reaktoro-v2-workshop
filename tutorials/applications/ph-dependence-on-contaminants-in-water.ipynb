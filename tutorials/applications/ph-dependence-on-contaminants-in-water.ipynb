{
 "cells": [
  {
   "cell_type": "markdown",
   "id": "edeeeaff",
   "metadata": {},
   "source": [
    "# pH-dependence on added contaminants in water\n",
    "\n",
    "<p class=\"acknowledgement\">Written by Svetlana Kyas (ETH Zurich) on Feb 8th, 2022</p>\n",
    "\n",
    "This tutorial demonstrates how pH is dependent on the added contaminant in the water, affecting the fish life as well\n",
    "as the general ecosystem.\n",
    "\n",
    "Below, we initialize the chemical system with a thermodynamic database and aqueous phase (governed\n",
    "by the the HKF activity model). We initialize the chemical state corresponding to the pure water\n",
    "(with pH approximate to 7)."
   ]
  },
  {
   "cell_type": "code",
   "execution_count": null,
   "id": "6600bc72",
   "metadata": {},
   "outputs": [],
   "source": [
    "from reaktoro import *\n",
    "\n",
    "# Define the thermodynamic database\n",
    "db =  SupcrtDatabase(\"supcrt98\")\n",
    "# Define the aqueous phase\n",
    "aqueousphase = AqueousPhase(speciate(\"H O Na Cl N\"))\n",
    "aqueousphase.setActivityModel(ActivityModelHKF())\n",
    "# Define the chemical system:\n",
    "system = ChemicalSystem(db, aqueousphase)\n",
    "\n",
    "T = 25.0 # in celsius\n",
    "P = 1.0 # in bar\n",
    "\n",
    "# Define chemical state corresponding to the pure water\n",
    "state = ChemicalState(system)\n",
    "state.setTemperature(T, \"celsius\")\n",
    "state.setPressure(P, \"bar\")\n",
    "state.set(\"H2O(aq)\", 1.0, \"kg\")\n",
    "\n",
    "# Define equilibrium solver and solve equilibrium problem with initial chemical state\n",
    "solver = EquilibriumSolver(system)\n",
    "solver.solve(state)\n",
    "\n",
    "# Define aqueous properties of the chemical state\n",
    "aprops = AqueousProps(state)\n",
    "print(\"pH of pure water = \", aprops.pH())"
   ]
  },
  {
   "cell_type": "markdown",
   "id": "42afc9f7",
   "metadata": {},
   "source": [
    "### Decreasing pH\n",
    "\n",
    "First, we investigate the behavior of the pH when adding the acidic contaminant to the water.\n",
    "We define the auxiliary lists with amounts of acid HCl in the chemical state `hcl_amounts` and the list of pH `phs`\n",
    "(corresponding to the added acid amount). Both lists are populated in the loop of 50 steps. We gradually add 0.1 mmol\n",
    "of hydrogen chloride and evaluate the pH in the obtained state."
   ]
  },
  {
   "cell_type": "code",
   "execution_count": null,
   "id": "7a749b31",
   "metadata": {},
   "outputs": [],
   "source": [
    "# Initialize lists with HCl amounts and ph values\n",
    "hcl_initial = 0.0\n",
    "hcl_delta = 0.1\n",
    "nsteps = 50\n",
    "hcl_amounts = [hcl_initial]\n",
    "phs = [aprops.pH()[0]]\n",
    "\n",
    "# Run loop of nsteps steps\n",
    "for i in range(nsteps):\n",
    "\n",
    "    # Add more hydrogen chlorite to the problem\n",
    "    state.add(\"HCl(aq)\", hcl_delta, \"mmol\")\n",
    "\n",
    "    # Equilibrate state with updated problem\n",
    "    solver.solve(state)\n",
    "\n",
    "    # Update aqueous properties\n",
    "    aprops.update(state)\n",
    "\n",
    "    # Append new ph\n",
    "    phs.append(aprops.pH()[0])\n",
    "\n",
    "    # Append new hydrogen chlorite amount\n",
    "    hcl_amounts.append(hcl_amounts[-1] + hcl_delta)"
   ]
  },
  {
   "cell_type": "markdown",
   "id": "6806921b",
   "metadata": {},
   "source": [
    "### Increasing pH\n",
    "\n",
    "If we add in a chemical contaminant such as ammonia (a compound of nitrogen and hydrogen with the formula NH3,\n",
    "colorless gas with a characteristic pungent smell), that can increase the pH and affect fish life."
   ]
  },
  {
   "cell_type": "code",
   "execution_count": null,
   "id": "4da0c7eb",
   "metadata": {},
   "outputs": [],
   "source": [
    "state = ChemicalState(system)\n",
    "state.setTemperature(T, \"celsius\")\n",
    "state.setPressure(P, \"bar\")\n",
    "state.set(\"H2O(aq)\", 1.0, \"kg\")\n",
    "solver.solve(state)\n",
    "aprops.update(state)\n",
    "\n",
    "nh3_initial = 0.0\n",
    "nh3_amounts = [nh3_initial]\n",
    "phs_increase = [aprops.pH()[0]]\n",
    "\n",
    "nh3_delta = 0.1\n",
    "nsteps = 50\n",
    "\n",
    "for i in range(nsteps):\n",
    "\n",
    "    # Add more ammonia to the problem\n",
    "    state.add(\"NH3(aq)\", nh3_delta, \"mmol\")\n",
    "\n",
    "    # Equilibrate state with updated problem\n",
    "    solver.solve(state)\n",
    "\n",
    "    # Update aqueous properties\n",
    "    aprops.update(state)\n",
    "\n",
    "    # Append new ph\n",
    "    phs_increase.append(aprops.pH()[0])\n",
    "\n",
    "    # Append new ammonia amount\n",
    "    nh3_amounts.append(nh3_amounts[-1] + nh3_delta)"
   ]
  },
  {
   "cell_type": "markdown",
   "id": "e7b86da3",
   "metadata": {},
   "source": [
    "### Plotting the pH dependencies\n",
    "\n",
    "Let us plot pH as a function of the added HCl and NH<sup>3</sup>(aq) amounts:"
   ]
  },
  {
   "cell_type": "code",
   "execution_count": null,
   "id": "20734933",
   "metadata": {},
   "outputs": [],
   "source": [
    "import matplotlib.pyplot as plt\n",
    "fig, (ax1, ax2) = plt.subplots(2, 1)\n",
    "\n",
    "ax1.plot(hcl_amounts, phs, label=f\"pH\", color='C3')\n",
    "ax1.legend(loc=\"best\")\n",
    "ax1.set_title('Dependence of pH on HCl amount')\n",
    "ax1.grid(True)\n",
    "ax1.set_ylabel('pH [-]')\n",
    "ax1.set_xlabel(r'HCl amount [mol]')\n",
    "\n",
    "ax2.plot(nh3_amounts, phs_increase, label=f\"pH\", color='C4')\n",
    "ax2.set_title(r'Dependence of pH on NH$\\sf{_3}$ amount')\n",
    "ax2.legend(loc=\"best\")\n",
    "ax2.grid(True)\n",
    "ax2.set_ylabel('pH [-]')\n",
    "ax2.set_xlabel(r'NH$\\sf{_3}$ amount [mol]')\n",
    "\n",
    "fig.tight_layout()"
   ]
  },
  {
   "cell_type": "markdown",
   "id": "a1b99d9a",
   "metadata": {
    "pycharm": {
     "name": "#%% md\n"
    }
   },
   "source": [
    "As expected, adding the contaminant like HCl into water increases free H<sup>+</sup> ions and decreases pH according to the reaction\n",
    "$$\n",
    "\\sf{HCl(aq) + H_2O(l) = H_3O^+ + Cl^-},\n",
    "$$\n",
    "affecting the ecosystem, whereas adding ammonia removes H<sup>+</sup> from water to produce ammonium and hydroxide, i.e.,\n",
    "to produce ammonium and hydroxide:\n",
    "$$\n",
    "\\sf{NH_3 + H_2O = NH_4^+ + OH^-}.\n",
    "$$"
   ]
  },
  {
   "cell_type": "code",
   "execution_count": null,
   "id": "737c6f19",
   "metadata": {},
   "outputs": [],
   "source": []
  }
 ],
 "metadata": {
  "kernelspec": {
   "display_name": "Python 3 (ipykernel)",
   "language": "python",
   "name": "python3"
  },
  "language_info": {
   "codemirror_mode": {
    "name": "ipython",
    "version": 3
   },
   "file_extension": ".py",
   "mimetype": "text/x-python",
   "name": "python",
   "nbconvert_exporter": "python",
   "pygments_lexer": "ipython3",
   "version": "3.9.7"
  }
 },
 "nbformat": 4,
 "nbformat_minor": 5
}