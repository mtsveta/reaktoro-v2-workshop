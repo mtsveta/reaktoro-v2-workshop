{
 "cells": [
  {
   "cell_type": "markdown",
   "metadata": {},
   "source": [
    "# Salting-out effect\n",
    "\n",
    "This tutorial demonstrates how to simulate the solubility of CO<sub>2</sub> gas in the NaCl-brine and its dependence on the salinity of the brine (also referred to as a salting-out effect).\n",
    "\n",
    "|![Salting in vs. salting out](../../images/salting-in-salting-out.png)|\n",
    "|:--:|\n",
    "|Salting in vs. salting out, Source: wikipedia.org|\n",
    "\n",
    "\n",
    "Salting out is typically used to precipitate large biomolecules, such as proteins or DNA. A specific salt concentration can be used to precipitate a target protein. This process is also used to concentrate dilute solutions of proteins. Dialysis can be used to remove the salt if needed.\n",
    "\n",
    "The chemical system and the corresponding equilibrium solver are initialized below."
   ]
  },
  {
   "cell_type": "code",
   "execution_count": null,
   "metadata": {},
   "outputs": [],
   "source": [
    "from reaktoro import *\n",
    "\n",
    "# Initialize a thermodynamic database\n",
    "db = PhreeqcDatabase(\"phreeqc.dat\")\n",
    "\n",
    "# Create an aqueous phase automatically selecting all species with provided elements\n",
    "aqueousphase = AqueousPhase(speciate(\"H O C Na Cl\"))\n",
    "aqueousphase.setActivityModel(chain(\n",
    "    ActivityModelHKF(),\n",
    "    ActivityModelDrummond(\"CO2\"),\n",
    "))\n",
    "\n",
    "# Create a gaseous phase\n",
    "gaseousphase = GaseousPhase(\"CO2(g)\")\n",
    "gaseousphase.setActivityModel(ActivityModelPengRobinson())\n",
    "\n",
    "phases = Phases(db)\n",
    "phases.add(aqueousphase)\n",
    "phases.add(gaseousphase)\n",
    "\n",
    "# Create the chemical system\n",
    "system = ChemicalSystem(phases)\n",
    "\n",
    "# Create the equilibrium solver\n",
    "solver = EquilibriumSolver(system)"
   ]
  },
  {
   "cell_type": "markdown",
   "metadata": {},
   "source": [
    "Finally, we define the range of temperatures and pressure for the equilibrium calculations and calculate CO2 solubilities. In a loop, we run equilibrium calculations for different input temperatures and different brine concentrations."
   ]
  },
  {
   "cell_type": "code",
   "execution_count": null,
   "metadata": {},
   "outputs": [],
   "source": [
    "import numpy as np\n",
    "import pandas as pd\n",
    "\n",
    "temperatures = np.arange(25.0, 90.0, 5.0)\n",
    "molsNaCl  = np.array([1.0, 2.0, 4.0])\n",
    "P = 100.0\n",
    "\n",
    "df = pd.DataFrame(columns=[\"T\", \"amountNaCl\", \"amountCaq\"])\n",
    "\n",
    "for molNaCl in molsNaCl:\n",
    "    for T in temperatures:\n",
    "\n",
    "        # Initial amount of the CO2 gas\n",
    "        n0CO2g = 10.0\n",
    "\n",
    "        # Define initial chemical state corresponding to the NaCl-brine of the given concentration\n",
    "        state = ChemicalState(system)\n",
    "        state.setTemperature(T, \"celsius\")\n",
    "        state.setPressure(P, \"bar\")\n",
    "        state.set(\"H2O\"   , 1.0   , \"kg\")\n",
    "        state.set(\"CO2(g)\", n0CO2g, \"mol\")\n",
    "        state.set(\"Na+\"   , molNaCl , \"mol\")\n",
    "        state.set(\"Cl-\"   , molNaCl , \"mol\")\n",
    "\n",
    "        # Calculate equilibrium state\n",
    "        res = solver.solve(state)\n",
    "\n",
    "        # Throw exception if the equilibrium couldn't be found\n",
    "        if not res.optima.succeeded: continue\n",
    "\n",
    "        # Fetch resulting aqueous properties of the chemical state\n",
    "        aqprops = AqueousProps(state)\n",
    "\n",
    "        # Update value [\"T\", \"amountNaCl\", \"amountCaq\"] in the dataframe\n",
    "        df.loc[len(df)] = [T, molNaCl, float(aqprops.elementMolality(\"C\"))]"
   ]
  },
  {
   "cell_type": "markdown",
   "metadata": {},
   "source": [
    "To visualize the obtained results, we use [bokeh](https://bokeh.org/) plotting library."
   ]
  },
  {
   "cell_type": "markdown",
   "metadata": {},
   "source": [
    "Below, we plot the solubility of CO<sub>2</sub>(g) as a function of pressure for different salinities of NaCl-brine."
   ]
  },
  {
   "cell_type": "code",
   "execution_count": null,
   "metadata": {
    "collapsed": false,
    "jupyter": {
     "outputs_hidden": false
    },
    "pycharm": {
     "name": "#%%\n"
    }
   },
   "outputs": [],
   "source": [
    "from bokeh.plotting import figure, show\n",
    "from bokeh.models import HoverTool\n",
    "from bokeh.io import output_notebook\n",
    "from bokeh.models import ColumnDataSource\n",
    "output_notebook()"
   ]
  },
  {
   "cell_type": "code",
   "execution_count": null,
   "metadata": {},
   "outputs": [],
   "source": [
    "hovertool = HoverTool()\n",
    "hovertool.tooltips = [(\"T\", \"@T\"),\n",
    "                      (\"amount(Ca) in brine\", \"@amountCaq mol\")]\n",
    "\n",
    "p = figure(\n",
    "    title=\"SOLUBILITY OF CO2 IN NACL BRINE\",\n",
    "    x_axis_label=r'TEMPERATURES [°C]',\n",
    "    y_axis_label='AMOUNT OF DISSOLVED CO2 [MOL/KGW]',\n",
    "    sizing_mode=\"scale_width\",\n",
    "    plot_height=300)\n",
    "\n",
    "p.add_tools(hovertool)\n",
    "\n",
    "colors = ['teal', 'darkred', 'indigo', 'coral']\n",
    "for molNaCl, color in zip(molsNaCl, colors):\n",
    "    df_NaCl = ColumnDataSource(df[df['amountNaCl'] == molNaCl])\n",
    "    p.line(\"T\", \"amountCaq\", legend_label=f'{molNaCl} mol of NaCl', line_width=3, line_cap=\"round\", line_color=color, source=df_NaCl)\n",
    "\n",
    "p.legend.location = 'top_right'\n",
    "show(p)"
   ]
  },
  {
   "cell_type": "markdown",
   "metadata": {},
   "source": [
    "As expected, the CO<sub>2</sub>(g)-solubility decreases with the increase of the temperature. Moreover, we see that the solubility of the gas drops as the brine becomes more saline (also referred to as the salting-out effect)."
   ]
  }
 ],
 "metadata": {
  "kernelspec": {
   "display_name": "Python 3 (ipykernel)",
   "language": "python",
   "name": "python3"
  },
  "language_info": {
   "codemirror_mode": {
    "name": "ipython",
    "version": 3
   },
   "file_extension": ".py",
   "mimetype": "text/x-python",
   "name": "python",
   "nbconvert_exporter": "python",
   "pygments_lexer": "ipython3",
   "version": "3.9.7"
  }
 },
 "nbformat": 4,
 "nbformat_minor": 4
}