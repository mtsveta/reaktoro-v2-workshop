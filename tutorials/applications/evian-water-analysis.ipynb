{
 "cells": [
  {
   "cell_type": "markdown",
   "metadata": {},
   "source": [
    "# Analysis of the Evian water\n",
    "\n",
    "The tutorial considers the problem dedicated to checking the quality of the Evian water using Reaktoro with custom-defined chemical composition.\n",
    "\n",
    "![title](../../images/evian-chemical-water-composition.png)\n",
    "\n",
    "We start from setting a chemical system, constraints of temperature, pressure, and pH, and their values:"
   ]
  },
  {
   "cell_type": "code",
   "execution_count": 17,
   "metadata": {},
   "outputs": [],
   "source": [
    "from reaktoro import *\n",
    "from math import *\n",
    "\n",
    "db = SupcrtDatabase(\"supcrtbl\")\n",
    "\n",
    "# Create an aqueous phase automatically selecting all species with provided elements\n",
    "aqueousphase = AqueousPhase(speciate(\"C Ca Cl H K Mg N Na O S Si\"))\n",
    "aqueousphase.setActivityModel(chain(\n",
    "    ActivityModelHKF(),\n",
    "    ActivityModelDrummond(\"CO2\"),\n",
    "))\n",
    "\n",
    "minerals = MineralPhases(\"Calcite Dolomite Quartz\")\n",
    "\n",
    "# Create the chemical system\n",
    "system = ChemicalSystem(db, aqueousphase, minerals)\n",
    "\n",
    "specs = EquilibriumSpecs(system)\n",
    "specs.temperature()\n",
    "specs.pressure()\n",
    "specs.pH()\n",
    "\n",
    "solver = EquilibriumSolver(specs)\n",
    "\n",
    "conditions = EquilibriumConditions(specs)\n",
    "conditions.temperature(25.0, \"celsius\")\n",
    "conditions.pressure(1.0, \"atm\")\n",
    "conditions.pH(7.2)"
   ]
  },
  {
   "cell_type": "markdown",
   "source": [
    "The composition of initial chemical state is taken from the plot with a label of Evian water. However, since the concentration of the species in Evian water are defined in milligrams per liter (mg/L), we need to convert these values to moles using species molar masses. The latter can be obtained using function `db.species(\"H+\").molarMass()`. Also, to convert `mg` into `kg`, we multiply the values by 1e-6. We also equilibrate the given chemical state."
   ],
   "metadata": {
    "collapsed": false
   }
  },
  {
   "cell_type": "code",
   "execution_count": 18,
   "metadata": {},
   "outputs": [
    {
     "data": {
      "text/plain": "<reaktoro.reaktoro4py.EquilibriumResult at 0x7fc07fb9a030>"
     },
     "execution_count": 18,
     "metadata": {},
     "output_type": "execute_result"
    }
   ],
   "source": [
    "state = ChemicalState(system)\n",
    "\n",
    "state.set(\"H2O(aq)\", 1.0, \"kg\")\n",
    "state.set(\"Ca+2\" , 80 * 1e-6 / db.species(\"Ca+2\").molarMass(), \"mol\")  # 80 * 1e-6 kg / (MW(Ca++) kg / mol)\n",
    "state.set(\"Cl-\"  , 6.8 * 1e-6 / db.species(\"Cl-\").molarMass(), \"mol\")  # 6.8 * 1e-6 kg / (MW(Cl-) kg / mol)\n",
    "state.set(\"HCO3-\", 350 * 1e-6 / db.species(\"HCO3-\").molarMass(), \"mol\")  # 350 * 1e-6 kg / (MW(HCO3-) kg / mol)\n",
    "state.set(\"Mg+2\" , 26 * 1e-6 / db.species(\"Mg+2\").molarMass(), \"mol\")   # 26 * 1e-6 kg / (MW(Mg++) kg / mol)\n",
    "state.set(\"NO3-\" , 3.7 * 1e-6 / db.species(\"NO3-\").molarMass(), \"mol\")  # 3.7 * 1e-6 kg / (MW(NO3-) kg / mol)\n",
    "state.set(\"K+\"   , 1 * 1e-6 / db.species(\"K+\").molarMass(), \"mol\")  # 1 * 1e-6 kg / (MW(K+) kg / mol)\n",
    "state.set(\"Na+\"  , 6.5 * 1e-6 / db.species(\"Na+\").molarMass(), \"mol\")  # 6.5 * 1e-6 kg / (MW(Na+) kg / mol)\n",
    "state.set(\"SO4-2\", 12.6 * 1e-6 / db.species(\"S2O4-2\").molarMass(), \"mol\")  # 12.6 * 1e-6 kg / (MW(SO4--) kg / mol)\n",
    "state.set(\"SiO2(aq)\" , 15 * 1e-6 / db.species(\"SiO2(aq)\").molarMass(), \"mol\")  # 15 * 1e-6 kg / (MW(SiO2) kg/ mol\n",
    "\n",
    "solver.solve(state, conditions)"
   ]
  },
  {
   "cell_type": "markdown",
   "metadata": {},
   "source": [
    "In order to obtain saturation indices of the carbonates and quartz, we need to access aqueous properties of the\n",
    "calculated chemical state. The saturation index is defined as a log10 of the ratio of equilibrium constant and\n",
    "reaction quotient. It is 0 for minerals that are *precipitated* (i.e., in equilibrium with the solution), SI > 0 for\n",
    "*supersaturated minerals*, and SI < 0 for *undersaturated minerals*."
   ]
  },
  {
   "cell_type": "code",
   "execution_count": 19,
   "metadata": {},
   "outputs": [
    {
     "name": "stdout",
     "output_type": "stream",
     "text": [
      "SI (Calcite) =  -0.0197293\n",
      "SI (Dolomite) =  -5.71062e-13\n",
      "SI (Quartz) =  -0.155618\n"
     ]
    }
   ],
   "source": [
    "# Calculate saturation indices\n",
    "props = AqueousProps(state)\n",
    "print(\"SI (Calcite) = \", props.saturationIndexLg('Calcite'))\n",
    "print(\"SI (Dolomite) = \", props.saturationIndexLg('Dolomite'))\n",
    "print(\"SI (Quartz) = \", props.saturationIndexLg('Quartz'))"
   ]
  },
  {
   "cell_type": "markdown",
   "metadata": {
    "pycharm": {
     "name": "#%% md\n"
    }
   },
   "source": [
    "Based on the results above, the water is *saturated with dolomite*, whereas calcite and quartz are *undersaturated*. This agrees with the amount of these minerals after in the resulting chemical state:"
   ]
  },
  {
   "cell_type": "code",
   "execution_count": 20,
   "outputs": [
    {
     "name": "stdout",
     "output_type": "stream",
     "text": [
      "Calcite  amount: 2.20126e-15 mol\n",
      "Dolomite amount: 0.000576783 mol\n",
      "Quartz   amount: 2.79077e-16 mol\n"
     ]
    }
   ],
   "source": [
    "# Calculate minerals amounts\n",
    "print(f\"Calcite  amount: {state.speciesAmount('Calcite') } mol\")\n",
    "print(f\"Dolomite amount: {state.speciesAmount('Dolomite')} mol\")\n",
    "print(f\"Quartz   amount: {state.speciesAmount('Quartz')  } mol\")"
   ],
   "metadata": {
    "collapsed": false,
    "pycharm": {
     "name": "#%%\n"
    }
   }
  }
 ],
 "metadata": {},
 "nbformat": 4,
 "nbformat_minor": 4
}