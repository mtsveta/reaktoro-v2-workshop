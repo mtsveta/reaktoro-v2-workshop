{
 "cells": [
  {
   "cell_type": "markdown",
   "metadata": {},
   "source": [
    "# Analysis of the Evian water\n",
    "\n",
    "The tutorial considers the problem dedicated to checking the quality of the Evian water using Reaktoro with custom-defined chemical composition.\n",
    "\n",
    "|![Evian water label](../../images/evian-chemical-water-composition.png)|\n",
    "|:--:|\n",
    "|Evian water label, Source: wikipedia.org|\n",
    "\n",
    "We start from setting a chemical system, constraints of temperature, pressure, and pH, and their values:"
   ]
  },
  {
   "cell_type": "code",
   "execution_count": null,
   "metadata": {},
   "outputs": [],
   "source": [
    "from reaktoro import *\n",
    "from math import *\n",
    "\n",
    "db = PhreeqcDatabase(\"phreeqc.dat\")\n",
    "\n",
    "# Create an aqueous phase automatically selecting all species with provided elements\n",
    "aqueousphase = AqueousPhase(speciate(\"C Ca Cl H K Mg N Na O S Si\"))\n",
    "aqueousphase.setActivityModel(chain(\n",
    "    ActivityModelHKF(),\n",
    "    ActivityModelDrummond(\"CO2\"),\n",
    "))\n",
    "\n",
    "gaseousphase = GaseousPhase(\"CO2(g)\")\n",
    "gaseousphase.setActivityModel(ActivityModelPengRobinson())\n",
    "\n",
    "minerals = MineralPhases()\n",
    "\n",
    "# Create the chemical system\n",
    "system = ChemicalSystem(db, aqueousphase, gaseousphase, minerals)\n",
    "\n",
    "specs = EquilibriumSpecs(system)\n",
    "specs.temperature()\n",
    "specs.pressure()\n",
    "specs.pH()\n",
    "\n",
    "solver = EquilibriumSolver(specs)\n",
    "\n",
    "conditions = EquilibriumConditions(specs)\n",
    "conditions.temperature(25.0, \"celsius\")\n",
    "conditions.pressure(1.0, \"atm\")\n",
    "conditions.pH(7.2)"
   ]
  },
  {
   "cell_type": "markdown",
   "metadata": {},
   "source": [
    "The composition of the initial chemical state is taken from the plot with a label of Evian water. However, since the concentrations of the species in Evian water are defined as milligrams per liter (mg/L), we need to convert these values to moles using species molar masses. The latter can be obtained using function `db.species(\"H+\").molarMass()`. Also, to convert `mg` into `kg`, we multiply the values by 1e-6. We also equilibrate the given chemical state."
   ]
  },
  {
   "cell_type": "code",
   "execution_count": null,
   "metadata": {},
   "outputs": [],
   "source": [
    "state = ChemicalState(system)\n",
    "\n",
    "state.set(\"H2O\"    , 1.0, \"kg\")\n",
    "state.set(\"Ca+2\"   , 80 * 1e-6   / db.species(\"Ca+2\").molarMass()   , \"mol\")  # 80 * 1e-6 kg / (MW(Ca++) kg / mol)\n",
    "state.set(\"Cl-\"    , 6.8 * 1e-6  / db.species(\"Cl-\").molarMass()    , \"mol\")  # 6.8 * 1e-6 kg / (MW(Cl-) kg / mol)\n",
    "state.set(\"HCO3-\"  , 350 * 1e-6  / db.species(\"HCO3-\").molarMass()  , \"mol\")  # 350 * 1e-6 kg / (MW(HCO3-) kg / mol)\n",
    "state.set(\"Mg+2\"   , 26 * 1e-6   / db.species(\"Mg+2\").molarMass()   , \"mol\")  # 26 * 1e-6 kg / (MW(Mg++) kg / mol)\n",
    "state.set(\"NO3-\"   , 3.7 * 1e-6  / db.species(\"NO3-\").molarMass()   , \"mol\")  # 3.7 * 1e-6 kg / (MW(NO3-) kg / mol)\n",
    "state.set(\"K+\"     , 1 * 1e-6    / db.species(\"K+\").molarMass()     , \"mol\")  # 1 * 1e-6 kg / (MW(K+) kg / mol)\n",
    "state.set(\"Na+\"    , 6.5 * 1e-6  / db.species(\"Na+\").molarMass()    , \"mol\")  # 6.5 * 1e-6 kg / (MW(Na+) kg / mol)\n",
    "state.set(\"SO4-2\"  , 12.6 * 1e-6 / db.species(\"SO4-2\").molarMass()  , \"mol\")  # 12.6 * 1e-6 kg / (MW(SO4--) kg / mol)\n",
    "state.set(\"SiO2(a)\", 15 * 1e-6   / db.species(\"SiO2(a)\").molarMass(), \"mol\")  # 15 * 1e-6 kg / (MW(SiO2) kg/ mol\n",
    "\n",
    "res = solver.solve(state, conditions)"
   ]
  },
  {
   "cell_type": "markdown",
   "metadata": {},
   "source": [
    "Next, we perform an analysis of the equilibrated chemical state of the Evian water:\n",
    "* evaluate saturation indices of all minerals in the database that can be formed by chemical reactions\n",
    "* analyse solution composition\n",
    "\n",
    "To obtain saturation indices of the minerals, we need to access the aqueous properties of the calculated chemical state. The saturation index is defined as a log10 of the ratio of equilibrium constant and reaction quotient. It is 0 for minerals that are *saturated* or in other words *precipitated and are staying in equilibrium with the solution*, SI > 0 for *supersaturated minerals*, and SI < 0 for *undersaturated minerals*."
   ]
  },
  {
   "cell_type": "code",
   "execution_count": null,
   "metadata": {},
   "outputs": [],
   "source": [
    "# Calculate saturation indices\n",
    "props = AqueousProps(state)\n",
    "print(\"SI (Calcite, CaCO3)       = \", props.saturationIndexLg('Calcite'))\n",
    "print(\"SI (Aragonite, CaCO3)     = \", props.saturationIndexLg('Aragonite'))\n",
    "print(\"SI (Dolomite, CaMg(CO3)2) = \", props.saturationIndexLg('Dolomite'))\n",
    "print(\"SI (Quartz, SiO2)         = \", props.saturationIndexLg('Quartz'))\n",
    "print(\"SI (Chalcedony, SiO2)     = \", props.saturationIndexLg('Chalcedony'))"
   ]
  },
  {
   "cell_type": "markdown",
   "metadata": {
    "pycharm": {
     "name": "#%% md\n"
    }
   },
   "source": [
    "Based on the results above, the water is *saturated with dolomite*, whereas calcite and quartz are *undersaturated*.\n",
    "\n",
    "**TASK**: check if this agrees how this agrees with the amount of these minerals after in the resulting chemical state."
   ]
  },
  {
   "cell_type": "code",
   "execution_count": null,
   "metadata": {
    "collapsed": false,
    "jupyter": {
     "outputs_hidden": false
    },
    "pycharm": {
     "name": "#%%\n"
    }
   },
   "outputs": [],
   "source": [
    "# -------------------------------------- #\n",
    "# Code cell for the task\n",
    "# -------------------------------------- #"
   ]
  }
 ],
 "metadata": {
  "kernelspec": {
   "display_name": "Python 3 (ipykernel)",
   "language": "python",
   "name": "python3"
  },
  "language_info": {
   "codemirror_mode": {
    "name": "ipython",
    "version": 3
   },
   "file_extension": ".py",
   "mimetype": "text/x-python",
   "name": "python",
   "nbconvert_exporter": "python",
   "pygments_lexer": "ipython3",
   "version": "3.9.7"
  }
 },
 "nbformat": 4,
 "nbformat_minor": 4
}
