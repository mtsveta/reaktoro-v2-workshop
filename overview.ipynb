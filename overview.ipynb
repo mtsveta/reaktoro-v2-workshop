{
 "cells": [
  {
   "cell_type": "markdown",
   "metadata": {
    "pycharm": {
     "name": "#%% md\n"
    }
   },
   "source": [
    "![title](images/reaktoro-for-python-and-cpp.svg)\n",
    "# Hands-on Reaktoro workshop\n",
    "\n",
    "## Basics\n",
    "\n",
    "* [Databases](tutorials/basics/databases.ipynb)\n",
    "* [Chemical system](tutorials/basics/defining-chemical-systems.ipynb)\n",
    "* [Chemical state](tutorials/basics/creating-chemical-states.ipynb)\n",
    "* Computing properties\n",
    "    - [Chemical properties](tutorials/basics/computing-chemical-properties.ipynb)\n",
    "    - [Aqueous properties](tutorials/basics/computing-aqueous-properties.ipynb)\n",
    "    - [Thermodynamic properties](tutorials/basics/computing-thermo-props.ipynb)\n",
    "* [Activity model](tutorials/basics/specifying-activity-models.ipynb)\n",
    "* [Material](tutorials/basics/defining-materials.ipynb)\n",
    "\n",
    "## Equilibrium calculations\n",
    "\n",
    "* [Chemical equilibrium: the basics](tutorials/equilibrium/equilibrium-basics.ipynb)\n",
    "* [Chemical equilibrium with constraints](tutorials/equilibrium/equilibrium-specifying-constraints.ipynb)\n",
    "    - [fixed pH](tutorials/equilibrium/equilibrium-with-fixed-ph.ipynb)\n",
    "    - [fixed pH and charge balance](tutorials/equilibrium/equilibrium-with-fixed-ph-charge-balance.ipynb)\n",
    "    - [fixed fugacity](tutorials/equilibrium/equilibrium-with-fixed-fugacity.ipynb)\n",
    "    - [fixed phase amount](tutorials/equilibrium/equilibrium-with-fixed-phase-amount.ipynb)\n",
    "    - [fixed volume internal energy](tutorials/equilibrium/equilibrium-with-fixed-volume-internal-energy.ipynb)\n",
    "    - [custom constraints](tutorials/equilibrium/equilibrium-with-custom-constraints.ipynb)\n",
    "    - [given elements amount](tutorials/equilibrium/equilibrium-with-given-element-amounts.ipynb)\n",
    "\n",
    "<!---## Equilibrium calculations\n",
    "\n",
    "* [Note on kinetics](tutorials/kinetics/note.ipynb)\n",
    "--->\n",
    "\n",
    "## Applications\n",
    "\n",
    "### Life and industry related examples\n",
    "\n",
    "* [Opening bottle with sparkling water](tutorials/applications/opening-bottel-with-soda.ipynb)\n",
    "* [Solubility of the table salt in water](tutorials/solubility/solubility-tablesalt-water.ipynb)\n",
    "* [Analysis of the Evian water](tutorials/applications/evian-water-analysis.ipynb)\n",
    "* [pH-dependence on added contaminants in water](tutorials/applications/ph-dependence-on-contaminants-in-water.ipynb)\n",
    "* [Calcite solubility in water and CO<sub>2</sub>-saturated rainwater](tutorials/solubility/solubility-calcite-in-water-rainwater.ipynb)\n",
    "* [Carbon dioxide solubility in the NaCl-brine](tutorials/applications/salting-out-effect-co2.ipynb)\n",
    "\n",
    "### Geobiology\n",
    "\n",
    "* [Phosphate accumulation in carbonate-rich brines](tutorials/geobiology/geobiology-phreeqc-fixed-fugacity.ipynb)\n",
    "* [Carbonate-rich lakes modelling on the early Earth](tutorials/geobiology/geobiology-streammodel-fixed-fugacity.ipynb)\n",
    "\n",
    "### Ion exchange\n",
    "\n",
    "* [Ion exchange in dune sand and groundwater](tutorials/exchange/ion-exchange-dune-sand.ipynb)\n",
    "* [Extraction of exchangeable cations in dune sand](tutorials/exchange/ion-exchnage-mix-porewater-extractant.ipynb)\n",
    "* [Ion exchange competition among exchange sites](tutorials/exchange/ion-exchange-cax2-nax-kx-vs-changing-ca-k.ipynb)\n",
    "* [Effect of calcite dissolution on exchangeable cations](tutorials/exchange/ion-exhcange-calcite-cax-vs-ph.ipynb)\n",
    "\n",
    "### ThermoFun\n",
    "\n",
    "* [Solubility of uranium for changing pH](tutorials/thermofun/thermofun-uraniun-solubility-vs-pH.ipynb)\n",
    "* [Granite simulations](tutorials/thermofun/thermofun-granite-simulations.ipynb)\n",
    "* [Limestone addition to the cement recipe](tutorials/thermofun/thermofun-cement-simulation-with-solid-solutions.ipynb)"
   ],
   "outputs": []
  }
 ],
 "metadata": {
  "kernelspec": {
   "display_name": "Python 3 (ipykernel)",
   "language": "python",
   "name": "python3"
  },
  "language_info": {
   "codemirror_mode": {
    "name": "ipython",
    "version": 3
   },
   "file_extension": ".py",
   "mimetype": "text/x-python",
   "name": "python",
   "nbconvert_exporter": "python",
   "pygments_lexer": "ipython3",
   "version": "3.9.7"
  }
 },
 "nbformat": 4,
 "nbformat_minor": 4
}