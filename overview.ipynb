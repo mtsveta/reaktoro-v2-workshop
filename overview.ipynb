{
 "cells": [
  {
   "cell_type": "markdown",
   "metadata": {
    "pycharm": {
     "name": "#%% md\n"
    }
   },
   "source": [
    "![title](images/reaktoro-for-python-and-cpp.svg)\n",
    "# Hands-on workshop to learn Reaktoro\n",
    "\n",
    "## Basics\n",
    "\n",
    "* [Computing aqueous properties](tutorials/basics/computing-aqueous-properties.ipynb)\n",
    "\n",
    "## Equilibrium calculations\n",
    "\n",
    "* [Chemical equilibrium: the basics](tutotials/equilibrium/equilibrium-basics.ipynb)\n",
    "\n",
    "## Applications\n",
    "\n",
    "### Life-related examples\n",
    "\n",
    "<!---* [Carbon dioxide gas solubility in water](tutorials/applications/bottel-with-soda.ipynb)\n",
    "* [Solubility of the table salt in water](tutorials/solubility/solubility-tablesalt-water.ipynb)\n",
    "* [Analysis of the Evian water](tutorials/applications/evian-water-analysis.ipynb)\n",
    "--->\n",
    "* [pH-dependence on added contaminants in water](tutorials/applications/ph-dependence-on-contaminants-in-water.ipynb)\n",
    "\n",
    "### Industry-related applications\n",
    "\n",
    "* [Calcite solubility in water and CO<sub>2</sub>-saturated rainwater](tutorials/solubility/solubility-calcite-in-water-rainwater.ipynb)\n",
    "* [Carbon dioxide solubility in the NaCl-brine](tutorials/solubility/solubility-co2-in-nacl-brine.ipynb)\n",
    "* [Defining materials](tutorials/miscellaneous/defining-materials.ipynb)\n",
    "\n",
    "### Geobiology\n",
    "\n",
    "* [Phosphate accumulation in carbonate-rich brines](tutorials/geobiology/geobiology-phreeqc-fixed-fugacity.ipynb)\n",
    "* [Carbonate-rich lakes modelling on the early Earth](tutorials/geobiology/geobiology-streammodel-fixed-fugacity.ipynb)\n",
    "\n",
    "### Ion exchange\n",
    "\n",
    "* [Ion exchange in dune sand and groundwater](tutorials/exchange/ion-exchange-dune-sand.ipynb)\n",
    "* [Extraction of exchangeable cations in dune sand](tutorials/exchange/ion-exchnage-mix-porewater-extractant.ipynb)\n",
    "* [Ion exchange competition among exchange sites](tutorials/exchange/ion-exchange-cax2-nax-kx-vs-changing-ca-k.ipynb)\n",
    "* [Effect of calcite dissolution on exchangeable cations](tutorials/exchange/ion-exhcange-calcite-cax-vs-ph.ipynb)"
   ]
  }
 ],
 "metadata": {
  "kernelspec": {
   "display_name": "Python 3",
   "language": "python",
   "name": "python3"
  }
 },
 "nbformat": 4,
 "nbformat_minor": 4
}