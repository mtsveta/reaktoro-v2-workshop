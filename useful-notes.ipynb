{
 "cells": [
  {
   "cell_type": "markdown",
   "metadata": {
    "pycharm": {
     "name": "#%% md\n"
    }
   },
   "source": [
    "# Useful notes\n",
    "\n",
    "## Importing Reaktoro\n",
    "\n",
    "Provided the Reaktoro is installed correctly, it can be imported as follows:"
   ]
  },
  {
   "cell_type": "code",
   "execution_count": null,
   "metadata": {
    "collapsed": false,
    "jupyter": {
     "outputs_hidden": false
    },
    "pycharm": {
     "name": "#%%\n"
    }
   },
   "outputs": [],
   "source": [
    "from reaktoro import *"
   ]
  },
  {
   "cell_type": "markdown",
   "metadata": {},
   "source": [
    "This way, we get access to all Reaktoro's library components (for details see [Reaktoro's C++ API Reference](https://reaktoro.org/api)) by importing all components of the `reaktoro` package into the default Python namespace.\n",
    "\n",
    "> **Note:** However, such an import is only used to simplify the tutorials. In a more complex project, this can potentially lead to naming conflicts. Thus, for bigger applications, consider using `import reaktoro as rkt`, and refer to Reaktoro’s classes and methods as `rkt.Database`, `rkt.ChemicalSystem`, `rkt.equilibrate`, etc.\n",
    "\n",
    "## Check correct installation\n",
    "\n",
    "To verify if Reaktoro was install correctly, run in the terminal\n",
    "\n",
    "```% python -c 'import reaktoro; print(reaktoro.__path__[0])'```\n",
    "\n",
    "or\n",
    "\n",
    "```% import reaktoro as rkt; print(rkt.__path__[0])```\n",
    "\n",
    "which should return `path-to-anaconda/envs/reaktoro-v2-workshop/lib/python3.9/site-packages/reaktoro`.\n",
    "\n",
    "## ModuleNotFoundError: No module named 'reaktoro'\n",
    "\n",
    "In case of encountering the error indicating that the Python package `reaktoro` cannot be found, i.e.,\n",
    "\n",
    "```\n",
    "Traceback (most recent call last):\n",
    "    File \"<string>\", line 1, in <module>\n",
    "ModuleNotFoundError: No module named 'reaktoro'\n",
    "```\n",
    "\n",
    "the environment variable `PYTHONPATH` has not been set correctly. To specify the path to `reaktoro` in `PYTHONPATH`, one can either set it via the terminal\n",
    "\n",
    "```% export PYTHONPATH=$path-to-anaconda/envs/reaktoro-v2-workshop/lib/python3.9/site-packages/reaktoro```\n",
    "\n",
    "or insert it manually in the python script by placing the following line on the top of the file:\n",
    "\n",
    "```import sys; sys.path.insert(0, 'path-to-anaconda/envs/reaktoro-v2-workshop/lib/python3.9/site-packages/reaktoro')```"
   ]
  }
 ],
 "metadata": {
  "kernelspec": {
   "display_name": "Python 3 (ipykernel)",
   "language": "python",
   "name": "python3"
  },
  "language_info": {
   "codemirror_mode": {
    "name": "ipython",
    "version": 3
   },
   "file_extension": ".py",
   "mimetype": "text/x-python",
   "name": "python",
   "nbconvert_exporter": "python",
   "pygments_lexer": "ipython3",
   "version": "3.9.7"
  }
 },
 "nbformat": 4,
 "nbformat_minor": 4
}